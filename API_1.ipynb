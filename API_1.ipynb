{
 "cells": [
  {
   "cell_type": "markdown",
   "metadata": {},
   "source": [
    "        API\n",
    "            Application Programming Interface\n",
    "            \n",
    "            Interface --> Medium\n",
    "            \n",
    "                                data\n",
    "            Application       ------->       Python Program\n",
    "            \n",
    "            Application       ------->       flask application\n",
    "            \n",
    "            API -->1. url\n",
    "                   2. method\n",
    "                   \n",
    "                      Get method for api --> twitter data get\n",
    "                      post method api --> tweet post\n",
    "                      \n",
    "            api --> secret/api key \n",
    "            add the api key into url and then request the url\n",
    "                       request\n",
    "                flask  -------> application\n",
    "                                (this application will identify my application using the api key)\n",
    "                application allows only 100 hits per day that means 100 request per day\n",
    "                It will identify by application hit by my key\n",
    "                \n",
    "           Create app on those api platform(google/facebook/etc) and it will provide you key for that app"
   ]
  },
  {
   "cell_type": "markdown",
   "metadata": {},
   "source": [
    "    forgot password ---> page (form --> email/username) --->form submit(action) -->function (send mail to this email) --> \n",
    "    form (otp ask) ---> action(path) --> func (otp match) --> form (newpass/conformpass) --> func(password update) "
   ]
  },
  {
   "cell_type": "markdown",
   "metadata": {},
   "source": [
    "    Examples\n",
    "         Google Maps api\n",
    "         login (SSO) \n",
    "         login with google,login with facebook,login with twitter, and so on\n",
    "         Payment Gateway\n",
    "         Weather\n",
    "         Travels(trivago)\n",
    "         make my trip\n",
    "         railways details\n",
    "         bookmyshow\n",
    "         match score\n",
    "         ticket booking\n",
    "         news api\n",
    "         \n",
    "         \n",
    "      Search for more apis"
   ]
  },
  {
   "cell_type": "markdown",
   "metadata": {},
   "source": [
    "google\n",
    "    https://developers.google.com/\n",
    "facebook \n",
    "    https://developers.facebook.com"
   ]
  },
  {
   "cell_type": "code",
   "execution_count": null,
   "metadata": {},
   "outputs": [],
   "source": []
  }
 ],
 "metadata": {
  "kernelspec": {
   "display_name": "Python 3",
   "language": "python",
   "name": "python3"
  },
  "language_info": {
   "codemirror_mode": {
    "name": "ipython",
    "version": 3
   },
   "file_extension": ".py",
   "mimetype": "text/x-python",
   "name": "python",
   "nbconvert_exporter": "python",
   "pygments_lexer": "ipython3",
   "version": "3.7.4"
  }
 },
 "nbformat": 4,
 "nbformat_minor": 2
}
