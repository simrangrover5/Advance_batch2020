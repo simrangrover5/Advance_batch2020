{
 "cells": [
  {
   "cell_type": "code",
   "execution_count": 5,
   "metadata": {},
   "outputs": [],
   "source": [
    "from random import randint,choice"
   ]
  },
  {
   "cell_type": "code",
   "execution_count": 2,
   "metadata": {},
   "outputs": [
    {
     "name": "stdout",
     "output_type": "stream",
     "text": [
      "Help on method randint in module random:\n",
      "\n",
      "randint(a, b) method of random.Random instance\n",
      "    Return random integer in range [a, b], including both end points.\n",
      "\n"
     ]
    }
   ],
   "source": [
    "help(randint)  #random integer"
   ]
  },
  {
   "cell_type": "code",
   "execution_count": 3,
   "metadata": {},
   "outputs": [
    {
     "data": {
      "text/plain": [
       "1"
      ]
     },
     "execution_count": 3,
     "metadata": {},
     "output_type": "execute_result"
    }
   ],
   "source": [
    "randint(1,10)"
   ]
  },
  {
   "cell_type": "code",
   "execution_count": 4,
   "metadata": {},
   "outputs": [
    {
     "name": "stdout",
     "output_type": "stream",
     "text": [
      "1 2 3 4 5 6 7 8 9\n"
     ]
    }
   ],
   "source": [
    "print(*range(1,10))"
   ]
  },
  {
   "cell_type": "markdown",
   "metadata": {},
   "source": [
    "##### play with computer"
   ]
  },
  {
   "cell_type": "code",
   "execution_count": 10,
   "metadata": {},
   "outputs": [
    {
     "data": {
      "text/plain": [
       "'rock'"
      ]
     },
     "execution_count": 10,
     "metadata": {},
     "output_type": "execute_result"
    }
   ],
   "source": [
    "choice([\"paper\",\"scissor\",\"rock\"])"
   ]
  },
  {
   "cell_type": "code",
   "execution_count": 17,
   "metadata": {},
   "outputs": [
    {
     "name": "stdout",
     "output_type": "stream",
     "text": [
      "**************************Rock Paper Scissor**************************\n",
      "\n",
      " Player 1 : ········\n",
      "\n",
      " Player won the game with choices \n",
      "\n",
      " Player : rock and Computer : scissor\n",
      "***************************End of the game****************************\n"
     ]
    }
   ],
   "source": [
    "from getpass import getpass\n",
    "\n",
    "p_win = [(\"scissor\",\"paper\"),(\"paper\",\"rock\"),(\"rock\",\"scissor\")]\n",
    "c_win = [(\"paper\",\"scissor\"),(\"rock\",\"paper\"),(\"scissor\",\"rock\")]\n",
    "\n",
    "print(\"Rock Paper Scissor\".center(70,\"*\"))\n",
    "p = getpass(\"\\n Player 1 : \").strip().lower()\n",
    "c = choice([\"paper\",\"scissor\",\"rock\"])\n",
    "if (p,c) in p_win:\n",
    "    print(f\"\\n Player won the game with choices \\n\\n Player : {p} and Computer : {c}\")\n",
    "elif (p,c) in c_win:\n",
    "    print(f\"\\n Computer won the game with choices \\n\\n Player : {p} and Computer : {c}\")\n",
    "else:\n",
    "    print(\"\\n Incorrect choice\")\n",
    "    \n",
    "print(\"End of the game\".center(70,\"*\"))"
   ]
  },
  {
   "cell_type": "code",
   "execution_count": 19,
   "metadata": {},
   "outputs": [
    {
     "name": "stdout",
     "output_type": "stream",
     "text": [
      "Overwriting s_p_s.py\n"
     ]
    }
   ],
   "source": [
    "%%writefile s_p_s.py\n",
    "\n",
    "from getpass import getpass\n",
    "from random import choice\n",
    "\n",
    "p_win = [(\"scissor\",\"paper\"),(\"paper\",\"rock\"),(\"rock\",\"scissor\")]\n",
    "c_win = [(\"paper\",\"scissor\"),(\"rock\",\"paper\"),(\"scissor\",\"rock\")]\n",
    "\n",
    "print(\"Rock Paper Scissor\".center(70,\"*\"))\n",
    "p = getpass(\"\\n Player 1 : \").strip().lower()\n",
    "c = choice([\"paper\",\"scissor\",\"rock\"])\n",
    "if (p,c) in p_win:\n",
    "    print(f\"\\n Player won the game with choices \\n\\n Player : {p} and Computer : {c}\")\n",
    "elif (p,c) in c_win:\n",
    "    print(f\"\\n Computer won the game with choices \\n\\n Player : {p} and Computer : {c}\")\n",
    "else:\n",
    "    print(\"\\n Incorrect choice\")\n",
    "    \n",
    "print(\"End of the game\".center(70,\"*\"))"
   ]
  },
  {
   "cell_type": "code",
   "execution_count": 20,
   "metadata": {},
   "outputs": [],
   "source": [
    "#python file_name --> to run the file"
   ]
  },
  {
   "cell_type": "code",
   "execution_count": 8,
   "metadata": {},
   "outputs": [],
   "source": [
    "l = [10,20,30,40,50,60,[70,80,90]]"
   ]
  },
  {
   "cell_type": "code",
   "execution_count": 9,
   "metadata": {},
   "outputs": [
    {
     "data": {
      "text/plain": [
       "[10, 20, 30, 40, 50, 60, [70, 80, 90]]"
      ]
     },
     "execution_count": 9,
     "metadata": {},
     "output_type": "execute_result"
    }
   ],
   "source": [
    "l"
   ]
  },
  {
   "cell_type": "code",
   "execution_count": 3,
   "metadata": {},
   "outputs": [],
   "source": [
    "import copy"
   ]
  },
  {
   "cell_type": "code",
   "execution_count": 10,
   "metadata": {},
   "outputs": [],
   "source": [
    "deep_l = copy.deepcopy(l)  #deepcopy\n",
    "shallow_l = copy.copy(l)   #shallow copy"
   ]
  },
  {
   "cell_type": "code",
   "execution_count": 11,
   "metadata": {},
   "outputs": [
    {
     "name": "stdout",
     "output_type": "stream",
     "text": [
      "[10, 20, 30, 40, 50, 60, [70, 80, 90]]\n"
     ]
    }
   ],
   "source": [
    "print(deep_l)"
   ]
  },
  {
   "cell_type": "code",
   "execution_count": 12,
   "metadata": {},
   "outputs": [
    {
     "name": "stdout",
     "output_type": "stream",
     "text": [
      "[10, 20, 30, 40, 50, 60, [70, 80, 90]]\n"
     ]
    }
   ],
   "source": [
    "print(shallow_l)"
   ]
  },
  {
   "cell_type": "code",
   "execution_count": 13,
   "metadata": {},
   "outputs": [
    {
     "name": "stdout",
     "output_type": "stream",
     "text": [
      "Id l :  1500771254536\n",
      "Deep l :  1500771276808\n",
      "Shallow l :  1500771306568\n"
     ]
    }
   ],
   "source": [
    "print(\"Id l : \",id(l))\n",
    "print(\"Deep l : \",id(deep_l))\n",
    "print(\"Shallow l : \",id(shallow_l))"
   ]
  },
  {
   "cell_type": "code",
   "execution_count": 14,
   "metadata": {},
   "outputs": [
    {
     "name": "stdout",
     "output_type": "stream",
     "text": [
      "Id l[0] :  140734937211568\n",
      "Id deep[0] :  140734937211568\n",
      "Id Shallow[0] :  140734937211568\n"
     ]
    }
   ],
   "source": [
    "print(\"Id l[0] : \",id(l[0]))\n",
    "print(\"Id deep[0] : \",id(deep_l[0]))\n",
    "print(\"Id Shallow[0] : \",id(shallow_l[0]))"
   ]
  },
  {
   "cell_type": "code",
   "execution_count": 15,
   "metadata": {},
   "outputs": [],
   "source": [
    "l[0] = 23"
   ]
  },
  {
   "cell_type": "code",
   "execution_count": 16,
   "metadata": {},
   "outputs": [
    {
     "data": {
      "text/plain": [
       "[23, 20, 30, 40, 50, 60, [70, 80, 90]]"
      ]
     },
     "execution_count": 16,
     "metadata": {},
     "output_type": "execute_result"
    }
   ],
   "source": [
    "l"
   ]
  },
  {
   "cell_type": "code",
   "execution_count": 17,
   "metadata": {},
   "outputs": [
    {
     "data": {
      "text/plain": [
       "[10, 20, 30, 40, 50, 60, [70, 80, 90]]"
      ]
     },
     "execution_count": 17,
     "metadata": {},
     "output_type": "execute_result"
    }
   ],
   "source": [
    "deep_l"
   ]
  },
  {
   "cell_type": "code",
   "execution_count": 18,
   "metadata": {},
   "outputs": [
    {
     "data": {
      "text/plain": [
       "[10, 20, 30, 40, 50, 60, [70, 80, 90]]"
      ]
     },
     "execution_count": 18,
     "metadata": {},
     "output_type": "execute_result"
    }
   ],
   "source": [
    "shallow_l"
   ]
  },
  {
   "cell_type": "code",
   "execution_count": 19,
   "metadata": {},
   "outputs": [
    {
     "data": {
      "text/plain": [
       "[70, 80, 90]"
      ]
     },
     "execution_count": 19,
     "metadata": {},
     "output_type": "execute_result"
    }
   ],
   "source": [
    "l[-1]"
   ]
  },
  {
   "cell_type": "code",
   "execution_count": 20,
   "metadata": {},
   "outputs": [
    {
     "data": {
      "text/plain": [
       "[70, 80, 90]"
      ]
     },
     "execution_count": 20,
     "metadata": {},
     "output_type": "execute_result"
    }
   ],
   "source": [
    "deep_l[-1]"
   ]
  },
  {
   "cell_type": "code",
   "execution_count": 21,
   "metadata": {},
   "outputs": [
    {
     "data": {
      "text/plain": [
       "[70, 80, 90]"
      ]
     },
     "execution_count": 21,
     "metadata": {},
     "output_type": "execute_result"
    }
   ],
   "source": [
    "shallow_l[-1]"
   ]
  },
  {
   "cell_type": "code",
   "execution_count": 23,
   "metadata": {},
   "outputs": [
    {
     "name": "stdout",
     "output_type": "stream",
     "text": [
      "Nested list l :  1500771275912\n",
      "Shallow list  :  1500771275912\n",
      "Deep list :  1500771454024\n"
     ]
    }
   ],
   "source": [
    "print(\"Nested list l : \",id(l[-1]))\n",
    "print(\"Shallow list  : \",id(shallow_l[-1]))\n",
    "print(\"Deep list : \",id(deep_l[-1]))"
   ]
  },
  {
   "cell_type": "code",
   "execution_count": 25,
   "metadata": {},
   "outputs": [],
   "source": [
    "l[-1].append(10)"
   ]
  },
  {
   "cell_type": "code",
   "execution_count": 26,
   "metadata": {},
   "outputs": [
    {
     "data": {
      "text/plain": [
       "[23, 20, 30, 40, 50, 60, [70, 80, 90, 10]]"
      ]
     },
     "execution_count": 26,
     "metadata": {},
     "output_type": "execute_result"
    }
   ],
   "source": [
    "l"
   ]
  },
  {
   "cell_type": "code",
   "execution_count": 27,
   "metadata": {},
   "outputs": [
    {
     "data": {
      "text/plain": [
       "[10, 20, 30, 40, 50, 60, [70, 80, 90, 10]]"
      ]
     },
     "execution_count": 27,
     "metadata": {},
     "output_type": "execute_result"
    }
   ],
   "source": [
    "shallow_l"
   ]
  },
  {
   "cell_type": "code",
   "execution_count": 28,
   "metadata": {},
   "outputs": [
    {
     "data": {
      "text/plain": [
       "[10, 20, 30, 40, 50, 60, [70, 80, 90]]"
      ]
     },
     "execution_count": 28,
     "metadata": {},
     "output_type": "execute_result"
    }
   ],
   "source": [
    "deep_l  "
   ]
  },
  {
   "cell_type": "markdown",
   "metadata": {},
   "source": [
    "    In shallow copy the id of mutable object or the nested list is same as of main list\n",
    "    while in deep copy the id of mutable object or the nested list is not same as of main list"
   ]
  },
  {
   "cell_type": "code",
   "execution_count": 29,
   "metadata": {},
   "outputs": [
    {
     "name": "stdout",
     "output_type": "stream",
     "text": [
      "140734937211568\n"
     ]
    }
   ],
   "source": [
    "a=10\n",
    "b=10\n",
    "print(id(a))"
   ]
  },
  {
   "cell_type": "code",
   "execution_count": 30,
   "metadata": {},
   "outputs": [
    {
     "name": "stdout",
     "output_type": "stream",
     "text": [
      "140734937211568\n"
     ]
    }
   ],
   "source": [
    "print(id(b))"
   ]
  },
  {
   "cell_type": "code",
   "execution_count": 31,
   "metadata": {},
   "outputs": [],
   "source": [
    "a = 23"
   ]
  },
  {
   "cell_type": "code",
   "execution_count": 32,
   "metadata": {},
   "outputs": [
    {
     "data": {
      "text/plain": [
       "140734937211984"
      ]
     },
     "execution_count": 32,
     "metadata": {},
     "output_type": "execute_result"
    }
   ],
   "source": [
    "id(a)"
   ]
  },
  {
   "cell_type": "code",
   "execution_count": 33,
   "metadata": {},
   "outputs": [],
   "source": [
    "a = [23,40,50,[10,20,30],['simran','rajeev','manish']]\n",
    "a1 = copy.deepcopy(a)\n",
    "a2 = copy.copy(a)"
   ]
  },
  {
   "cell_type": "code",
   "execution_count": 34,
   "metadata": {},
   "outputs": [
    {
     "name": "stdout",
     "output_type": "stream",
     "text": [
      "A :  1500772591880\n",
      "A1 :  1500772381832\n",
      "A2 :  1500772319944\n"
     ]
    }
   ],
   "source": [
    "print(\"A : \",id(a))\n",
    "print(\"A1 : \",id(a1))\n",
    "print(\"A2 : \",id(a2))"
   ]
  },
  {
   "cell_type": "code",
   "execution_count": 35,
   "metadata": {},
   "outputs": [
    {
     "data": {
      "text/plain": [
       "['simran', 'rajeev', 'manish']"
      ]
     },
     "execution_count": 35,
     "metadata": {},
     "output_type": "execute_result"
    }
   ],
   "source": [
    "a[-1]"
   ]
  },
  {
   "cell_type": "code",
   "execution_count": 36,
   "metadata": {},
   "outputs": [
    {
     "data": {
      "text/plain": [
       "[10, 20, 30]"
      ]
     },
     "execution_count": 36,
     "metadata": {},
     "output_type": "execute_result"
    }
   ],
   "source": [
    "a[-2]"
   ]
  },
  {
   "cell_type": "code",
   "execution_count": 38,
   "metadata": {},
   "outputs": [
    {
     "name": "stdout",
     "output_type": "stream",
     "text": [
      "Actual :  1500772170888\n",
      "deep :  1500771873992\n",
      "Shallow :  1500772170888\n"
     ]
    }
   ],
   "source": [
    "print(\"Actual : \",id(a[-1]))\n",
    "print(\"deep : \",id(a1[-1]))\n",
    "print(\"Shallow : \",id(a2[-1]))\n"
   ]
  },
  {
   "cell_type": "code",
   "execution_count": 39,
   "metadata": {},
   "outputs": [],
   "source": [
    "a[-1].append(\"ayushi\")"
   ]
  },
  {
   "cell_type": "code",
   "execution_count": 40,
   "metadata": {},
   "outputs": [
    {
     "data": {
      "text/plain": [
       "[23, 40, 50, [10, 20, 30], ['simran', 'rajeev', 'manish', 'ayushi']]"
      ]
     },
     "execution_count": 40,
     "metadata": {},
     "output_type": "execute_result"
    }
   ],
   "source": [
    "a"
   ]
  },
  {
   "cell_type": "code",
   "execution_count": 41,
   "metadata": {},
   "outputs": [
    {
     "data": {
      "text/plain": [
       "[23, 40, 50, [10, 20, 30], ['simran', 'rajeev', 'manish']]"
      ]
     },
     "execution_count": 41,
     "metadata": {},
     "output_type": "execute_result"
    }
   ],
   "source": [
    "a1"
   ]
  },
  {
   "cell_type": "code",
   "execution_count": 42,
   "metadata": {},
   "outputs": [
    {
     "data": {
      "text/plain": [
       "[23, 40, 50, [10, 20, 30], ['simran', 'rajeev', 'manish', 'ayushi']]"
      ]
     },
     "execution_count": 42,
     "metadata": {},
     "output_type": "execute_result"
    }
   ],
   "source": [
    "a2"
   ]
  },
  {
   "cell_type": "code",
   "execution_count": 43,
   "metadata": {},
   "outputs": [],
   "source": [
    "a[-2].append(34)"
   ]
  },
  {
   "cell_type": "code",
   "execution_count": 44,
   "metadata": {},
   "outputs": [
    {
     "data": {
      "text/plain": [
       "[23, 40, 50, [10, 20, 30, 34], ['simran', 'rajeev', 'manish', 'ayushi']]"
      ]
     },
     "execution_count": 44,
     "metadata": {},
     "output_type": "execute_result"
    }
   ],
   "source": [
    "a"
   ]
  },
  {
   "cell_type": "code",
   "execution_count": 45,
   "metadata": {},
   "outputs": [
    {
     "data": {
      "text/plain": [
       "[23, 40, 50, [10, 20, 30], ['simran', 'rajeev', 'manish']]"
      ]
     },
     "execution_count": 45,
     "metadata": {},
     "output_type": "execute_result"
    }
   ],
   "source": [
    "a1"
   ]
  },
  {
   "cell_type": "code",
   "execution_count": 46,
   "metadata": {},
   "outputs": [
    {
     "data": {
      "text/plain": [
       "[23, 40, 50, [10, 20, 30, 34], ['simran', 'rajeev', 'manish', 'ayushi']]"
      ]
     },
     "execution_count": 46,
     "metadata": {},
     "output_type": "execute_result"
    }
   ],
   "source": [
    "a2"
   ]
  },
  {
   "cell_type": "code",
   "execution_count": 49,
   "metadata": {},
   "outputs": [
    {
     "name": "stdout",
     "output_type": "stream",
     "text": [
      "\n",
      " Enter any number : 12\n",
      "\n",
      " Enter another number : 9\n",
      "\n",
      " Enter third number : 1\n",
      "A 12 is greater\n"
     ]
    }
   ],
   "source": [
    "a = int(input(\"\\n Enter any number : \"))\n",
    "b = int(input(\"\\n Enter another number : \"))\n",
    "c = int(input(\"\\n Enter third number : \"))\n",
    "if a>b:   #that b is lesser  and eliminate the b\n",
    "    if a>c: #if this condition get false that means a is less and eliminate the a\n",
    "        print(f\"\\nA {a} is greater\")\n",
    "    else:\n",
    "        print(f\"\\nC {c} is greater\")\n",
    "elif b>c:  #if the above condtion get false that means b is greater and a is eliminated\n",
    "    print(f\"\\nB {b} is greater\")\n",
    "else:\n",
    "    print(f\"\\nC {c} is greater\")"
   ]
  },
  {
   "cell_type": "markdown",
   "metadata": {},
   "source": [
    "    1. take two input of sides and check whether it form a square or a rectangle\n",
    "    2. Make a dictionary that consists of cities as key and there features as values \n",
    "\n",
    "    places = {   \n",
    "        'jaipur' : {\n",
    "                       'historical places' : [],\n",
    "                       'malls' : [],\n",
    "                       'extra' : []\n",
    "                    }\n",
    "            }\n",
    "    Take the input of city name and ask for the feature that they want to know about that particular city\n",
    "   \n",
    "    3. Take four numbers as input and print the greatest number and the lesser number among\n",
    "   "
   ]
  },
  {
   "cell_type": "code",
   "execution_count": 50,
   "metadata": {},
   "outputs": [],
   "source": [
    "data = {\n",
    "    'names' : ['ayushi','tarun','rahul','shahid','shubham','tushar'],\n",
    "    'maths' : [80,45,50,60,78,70],\n",
    "    'python' : [45,56,78,89,40,56],\n",
    "    'science' : [90,80,70,67,56,78]\n",
    "}\n",
    "\n",
    "#1. Take name as input and check whther the name is in your data or not and if not then show a message of not exist\n",
    "#2. Ask for options 1. percentage 2. Highest marks in particular subject 3. Highest marks and lowest marks of student in which subjects "
   ]
  },
  {
   "cell_type": "code",
   "execution_count": null,
   "metadata": {},
   "outputs": [],
   "source": [
    "####identifers or variables that should not be like keyword or predefined functions"
   ]
  },
  {
   "cell_type": "code",
   "execution_count": 91,
   "metadata": {},
   "outputs": [
    {
     "name": "stdout",
     "output_type": "stream",
     "text": [
      "\n",
      " 1. Enter name \n",
      " 2. Highest marks of particular subject\n",
      "\n",
      " Choose any one option from above mentioned(1/2) : 2\n",
      "\n",
      " Enter the subject : science\n",
      "\n",
      " The highest marks in subject science is 90 and student name is ayushi\n"
     ]
    }
   ],
   "source": [
    "print(\"\\n 1. Enter name \\n 2. Highest marks of particular subject\")\n",
    "ch = int(input(\"\\n Choose any one option from above mentioned(1/2) : \"))\n",
    "if ch == 1:\n",
    "    name = input(\"\\n Enter Name : \").lower().strip()\n",
    "    if name in data['names']:\n",
    "        choice = int(input(\"\\n1. Percentage \\n2. Highest and lowest marks in which subjects??\"))\n",
    "        i = data['names'].index(name)\n",
    "        if choice == 1:\n",
    "            maths = data['maths'][i]\n",
    "            python = data['python'][i]\n",
    "            science = data['science'][i]\n",
    "            print(\"\\nThe marks of the student \", name, \"is\")\n",
    "            print(\"_\"*80)\n",
    "            print(\"\\n Maths : \", maths)\n",
    "            print(\"\\n Science : \", science)\n",
    "            print(\"\\n Python : \", python)\n",
    "            per = (maths+science+python)/3\n",
    "            print(f\"\\n Percentage : {per:.2f}%\")\n",
    "            print(\"_\"*80)\n",
    "        elif choice == 2:\n",
    "            ###replace the code of highest and lowest with your code of finding greater and lowest value\n",
    "            maths = data['maths'][i]\n",
    "            python = data['python'][i]\n",
    "            science = data['science'][i]\n",
    "            marks = [maths,python,science]\n",
    "            highest = max(marks)\n",
    "            lowest = min(marks)\n",
    "            print(f\"\\n The highest marks of student {name} is {highest}\")\n",
    "            print(f\"\\n The lowest marks of student {name} is {lowest}\")\n",
    "        else:\n",
    "            print(\"\\n Wrong option.......\")\n",
    "    else:\n",
    "        print(\"\\n No such name....Please enter correct name...\")\n",
    "elif ch == 2:\n",
    "    subject = input(\"\\n Enter the subject : \")\n",
    "    if subject in data.keys():\n",
    "        marks = data[subject]\n",
    "        m = max(marks)\n",
    "        i = data[subject].index(m)\n",
    "        n = data['names'][i]\n",
    "        print(f\"\\n The highest marks in subject {subject} is {m} and student name is {n}\")\n",
    "    else:\n",
    "        print(\"\\n No such subject.....\")\n",
    "else:\n",
    "    print(\"\\n Wrong choice.......\")"
   ]
  },
  {
   "cell_type": "code",
   "execution_count": 72,
   "metadata": {},
   "outputs": [
    {
     "data": {
      "text/plain": [
       "90"
      ]
     },
     "execution_count": 72,
     "metadata": {},
     "output_type": "execute_result"
    }
   ],
   "source": [
    "max([10,2,90])"
   ]
  },
  {
   "cell_type": "code",
   "execution_count": 73,
   "metadata": {},
   "outputs": [
    {
     "data": {
      "text/plain": [
       "23"
      ]
     },
     "execution_count": 73,
     "metadata": {},
     "output_type": "execute_result"
    }
   ],
   "source": [
    "min([23,45,67])"
   ]
  },
  {
   "cell_type": "code",
   "execution_count": 54,
   "metadata": {},
   "outputs": [
    {
     "data": {
      "text/plain": [
       "True"
      ]
     },
     "execution_count": 54,
     "metadata": {},
     "output_type": "execute_result"
    }
   ],
   "source": [
    "\"tarun\" in data['names']"
   ]
  },
  {
   "cell_type": "code",
   "execution_count": 57,
   "metadata": {},
   "outputs": [
    {
     "data": {
      "text/plain": [
       "True"
      ]
     },
     "execution_count": 57,
     "metadata": {},
     "output_type": "execute_result"
    }
   ],
   "source": [
    "\"tarun\" in data['names']"
   ]
  },
  {
   "cell_type": "code",
   "execution_count": 68,
   "metadata": {},
   "outputs": [],
   "source": [
    "i = data['names'].index(\"rahul\")"
   ]
  },
  {
   "cell_type": "code",
   "execution_count": 62,
   "metadata": {},
   "outputs": [
    {
     "data": {
      "text/plain": [
       "['ayushi', 'tarun', 'rahul', 'shahid', 'shubham', 'tushar']"
      ]
     },
     "execution_count": 62,
     "metadata": {},
     "output_type": "execute_result"
    }
   ],
   "source": [
    "data['names']"
   ]
  },
  {
   "cell_type": "code",
   "execution_count": 71,
   "metadata": {},
   "outputs": [
    {
     "data": {
      "text/plain": [
       "50"
      ]
     },
     "execution_count": 71,
     "metadata": {},
     "output_type": "execute_result"
    }
   ],
   "source": [
    "data['maths'][i]"
   ]
  },
  {
   "cell_type": "code",
   "execution_count": 65,
   "metadata": {},
   "outputs": [
    {
     "data": {
      "text/plain": [
       "70"
      ]
     },
     "execution_count": 65,
     "metadata": {},
     "output_type": "execute_result"
    }
   ],
   "source": [
    "data['science'][2]"
   ]
  },
  {
   "cell_type": "code",
   "execution_count": 66,
   "metadata": {},
   "outputs": [
    {
     "data": {
      "text/plain": [
       "78"
      ]
     },
     "execution_count": 66,
     "metadata": {},
     "output_type": "execute_result"
    }
   ],
   "source": [
    "data['python'][2]"
   ]
  },
  {
   "cell_type": "code",
   "execution_count": 80,
   "metadata": {},
   "outputs": [
    {
     "data": {
      "text/plain": [
       "dict_keys(['names', 'maths', 'python', 'science'])"
      ]
     },
     "execution_count": 80,
     "metadata": {},
     "output_type": "execute_result"
    }
   ],
   "source": [
    "data.keys()"
   ]
  },
  {
   "cell_type": "code",
   "execution_count": 81,
   "metadata": {},
   "outputs": [
    {
     "data": {
      "text/plain": [
       "True"
      ]
     },
     "execution_count": 81,
     "metadata": {},
     "output_type": "execute_result"
    }
   ],
   "source": [
    "subject=\"maths\"\n",
    "subject in data.keys()"
   ]
  },
  {
   "cell_type": "code",
   "execution_count": 84,
   "metadata": {},
   "outputs": [
    {
     "data": {
      "text/plain": [
       "[80, 45, 50, 60, 78, 70]"
      ]
     },
     "execution_count": 84,
     "metadata": {},
     "output_type": "execute_result"
    }
   ],
   "source": [
    "data[subject]"
   ]
  },
  {
   "cell_type": "code",
   "execution_count": 86,
   "metadata": {},
   "outputs": [
    {
     "data": {
      "text/plain": [
       "89"
      ]
     },
     "execution_count": 86,
     "metadata": {},
     "output_type": "execute_result"
    }
   ],
   "source": [
    "max(data[\"python\"])"
   ]
  },
  {
   "cell_type": "code",
   "execution_count": 87,
   "metadata": {},
   "outputs": [
    {
     "data": {
      "text/plain": [
       "3"
      ]
     },
     "execution_count": 87,
     "metadata": {},
     "output_type": "execute_result"
    }
   ],
   "source": [
    "data['python'].index(89)"
   ]
  },
  {
   "cell_type": "code",
   "execution_count": 88,
   "metadata": {},
   "outputs": [
    {
     "data": {
      "text/plain": [
       "'shahid'"
      ]
     },
     "execution_count": 88,
     "metadata": {},
     "output_type": "execute_result"
    }
   ],
   "source": [
    "data['names'][3]"
   ]
  },
  {
   "cell_type": "code",
   "execution_count": null,
   "metadata": {},
   "outputs": [],
   "source": [
    "#4,4 , 4,3"
   ]
  }
 ],
 "metadata": {
  "kernelspec": {
   "display_name": "Python 3",
   "language": "python",
   "name": "python3"
  },
  "language_info": {
   "codemirror_mode": {
    "name": "ipython",
    "version": 3
   },
   "file_extension": ".py",
   "mimetype": "text/x-python",
   "name": "python",
   "nbconvert_exporter": "python",
   "pygments_lexer": "ipython3",
   "version": "3.7.4"
  }
 },
 "nbformat": 4,
 "nbformat_minor": 2
}
