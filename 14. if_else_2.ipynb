{
 "cells": [
  {
   "cell_type": "code",
   "execution_count": 2,
   "metadata": {},
   "outputs": [],
   "source": [
    "name = \"simran\""
   ]
  },
  {
   "cell_type": "code",
   "execution_count": 3,
   "metadata": {},
   "outputs": [
    {
     "data": {
      "text/plain": [
       "'simran'"
      ]
     },
     "execution_count": 3,
     "metadata": {},
     "output_type": "execute_result"
    }
   ],
   "source": [
    "name"
   ]
  },
  {
   "cell_type": "code",
   "execution_count": 5,
   "metadata": {},
   "outputs": [
    {
     "name": "stdout",
     "output_type": "stream",
     "text": [
      "bye\n"
     ]
    }
   ],
   "source": [
    "g = \"hi\"\n",
    "if g==\"name\":   #\"hi\" == \"name\"\n",
    "    print(\"hello\")\n",
    "else:\n",
    "    print(\"bye\")"
   ]
  },
  {
   "cell_type": "code",
   "execution_count": 2,
   "metadata": {},
   "outputs": [
    {
     "name": "stdout",
     "output_type": "stream",
     "text": [
      "\n",
      "Enter 'g' for govt sector, 'p' for private sector and 'b' if you are doing business\n",
      "Enter your work sectorp\n",
      "Enter your salary in figures12000\n",
      "You are not eligible for loan\n",
      "hello world\n"
     ]
    }
   ],
   "source": [
    "print(\"\\nEnter 'g' for govt sector, 'p' for private sector and 'b' if you are doing business\")\n",
    "w = input(\"Enter your work sector\").lower()\n",
    "if w == 'g':\n",
    "    g = int(input(\"Enter your salary in figures\"))\n",
    "    if g > 60000:\n",
    "        print(\"You are eligible for loan\")\n",
    "    else:\n",
    "        print(\"You are not eligible for loan\")\n",
    "    \n",
    "elif w == 'p':\n",
    "    p = int(input(\"Enter your salary in figures\"))\n",
    "    if p > 65000:\n",
    "        print(\"You are eligible for loan\")\n",
    "    else:\n",
    "        print(\"You are not eligible for loan\")\n",
    "        \n",
    "elif w == 'b':\n",
    "    b = int(input(\"Enter your turnover in lakhs : \"))\n",
    "    if b>=10:\n",
    "        print(\"You are eligible for loan\")\n",
    "    else:\n",
    "        print(\"You are not eligible for loan\")\n",
    "        \n",
    "else:\n",
    "    print(\"\\nWrong input entered\")\n"
   ]
  },
  {
   "cell_type": "code",
   "execution_count": 3,
   "metadata": {},
   "outputs": [],
   "source": [
    "##eval --> evaluate"
   ]
  },
  {
   "cell_type": "code",
   "execution_count": 4,
   "metadata": {},
   "outputs": [
    {
     "name": "stdout",
     "output_type": "stream",
     "text": [
      "Help on built-in function eval in module builtins:\n",
      "\n",
      "eval(source, globals=None, locals=None, /)\n",
      "    Evaluate the given source in the context of globals and locals.\n",
      "    \n",
      "    The source may be a string representing a Python expression\n",
      "    or a code object as returned by compile().\n",
      "    The globals must be a dictionary and locals can be any mapping,\n",
      "    defaulting to the current globals and locals.\n",
      "    If only globals is given, locals defaults to it.\n",
      "\n"
     ]
    }
   ],
   "source": [
    "help(eval)"
   ]
  },
  {
   "cell_type": "code",
   "execution_count": 6,
   "metadata": {},
   "outputs": [
    {
     "data": {
      "text/plain": [
       "170"
      ]
     },
     "execution_count": 6,
     "metadata": {},
     "output_type": "execute_result"
    }
   ],
   "source": [
    "12+23+45+90"
   ]
  },
  {
   "cell_type": "code",
   "execution_count": 7,
   "metadata": {},
   "outputs": [
    {
     "data": {
      "text/plain": [
       "170"
      ]
     },
     "execution_count": 7,
     "metadata": {},
     "output_type": "execute_result"
    }
   ],
   "source": [
    "eval(\"12+23+45+90\")"
   ]
  },
  {
   "cell_type": "code",
   "execution_count": 8,
   "metadata": {},
   "outputs": [
    {
     "data": {
      "text/plain": [
       "12.34567"
      ]
     },
     "execution_count": 8,
     "metadata": {},
     "output_type": "execute_result"
    }
   ],
   "source": [
    "eval(\"12.34567\")"
   ]
  },
  {
   "cell_type": "code",
   "execution_count": 9,
   "metadata": {},
   "outputs": [],
   "source": [
    "l = [1,2,3,4,5,6]\n",
    "l.append(10)"
   ]
  },
  {
   "cell_type": "code",
   "execution_count": 10,
   "metadata": {},
   "outputs": [
    {
     "data": {
      "text/plain": [
       "[1, 2, 3, 4, 5, 6, 10]"
      ]
     },
     "execution_count": 10,
     "metadata": {},
     "output_type": "execute_result"
    }
   ],
   "source": [
    "l"
   ]
  },
  {
   "cell_type": "code",
   "execution_count": 11,
   "metadata": {},
   "outputs": [],
   "source": [
    "eval(\"l.append(10)\")"
   ]
  },
  {
   "cell_type": "code",
   "execution_count": 12,
   "metadata": {},
   "outputs": [
    {
     "data": {
      "text/plain": [
       "[1, 2, 3, 4, 5, 6, 10, 10]"
      ]
     },
     "execution_count": 12,
     "metadata": {},
     "output_type": "execute_result"
    }
   ],
   "source": [
    "l"
   ]
  },
  {
   "cell_type": "code",
   "execution_count": 21,
   "metadata": {},
   "outputs": [
    {
     "name": "stdout",
     "output_type": "stream",
     "text": [
      "\n",
      " The list is :  [1, 2, 3, 4, 5, 6, 10, 10, 12]\n",
      "\n",
      "1. Append 2. Remove\n",
      "\n",
      "ENter one function from mentioned : remove\n",
      "6\n"
     ]
    }
   ],
   "source": [
    "print(\"\\n The list is : \",l)\n",
    "print(\"\\n1. Append 2. Remove\")\n",
    "ch = input(\"\\nENter one function from mentioned : \").lower().strip()\n",
    "if ch == \"append\":\n",
    "    l.append(int(input()))\n",
    "elif ch == \"remove\":\n",
    "    l.remove(int(input()))"
   ]
  },
  {
   "cell_type": "code",
   "execution_count": 22,
   "metadata": {},
   "outputs": [
    {
     "data": {
      "text/plain": [
       "[1, 2, 3, 4, 5, 10, 10, 12]"
      ]
     },
     "execution_count": 22,
     "metadata": {},
     "output_type": "execute_result"
    }
   ],
   "source": [
    "l"
   ]
  },
  {
   "cell_type": "code",
   "execution_count": 16,
   "metadata": {},
   "outputs": [
    {
     "data": {
      "text/plain": [
       "'remove '"
      ]
     },
     "execution_count": 16,
     "metadata": {},
     "output_type": "execute_result"
    }
   ],
   "source": [
    "ch"
   ]
  },
  {
   "cell_type": "code",
   "execution_count": 18,
   "metadata": {},
   "outputs": [
    {
     "ename": "AttributeError",
     "evalue": "'list' object has no attribute 'remoVE'",
     "output_type": "error",
     "traceback": [
      "\u001b[1;31m---------------------------------------------------------------------\u001b[0m",
      "\u001b[1;31mAttributeError\u001b[0m                      Traceback (most recent call last)",
      "\u001b[1;32m<ipython-input-18-6e310267628c>\u001b[0m in \u001b[0;36m<module>\u001b[1;34m\u001b[0m\n\u001b[1;32m----> 1\u001b[1;33m \u001b[0ml\u001b[0m\u001b[1;33m.\u001b[0m\u001b[0mremoVE\u001b[0m\u001b[1;33m(\u001b[0m\u001b[1;36m10\u001b[0m\u001b[1;33m)\u001b[0m\u001b[1;33m\u001b[0m\u001b[1;33m\u001b[0m\u001b[0m\n\u001b[0m",
      "\u001b[1;31mAttributeError\u001b[0m: 'list' object has no attribute 'remoVE'"
     ]
    }
   ],
   "source": [
    "l.remoVE(10)"
   ]
  },
  {
   "cell_type": "markdown",
   "metadata": {},
   "source": [
    "    list_object.func_name(data)"
   ]
  },
  {
   "cell_type": "code",
   "execution_count": 25,
   "metadata": {},
   "outputs": [
    {
     "name": "stdout",
     "output_type": "stream",
     "text": [
      "\n",
      " The list is :  [1, 2, 3, 4, 5, 10, 10, 12, 10]\n",
      "\n",
      "1. Append 2. Remove\n",
      "\n",
      "ENter one function from mentioned : remove\n"
     ]
    }
   ],
   "source": [
    "print(\"\\n The list is : \",l)\n",
    "print(\"\\n1. Append 2. Remove\")\n",
    "ch = input(\"\\nENter one function from mentioned : \").lower().strip()\n",
    "eval(f\"l.{ch}(10)\")   #l.append(10) or l.remove(10)"
   ]
  },
  {
   "cell_type": "code",
   "execution_count": 26,
   "metadata": {},
   "outputs": [
    {
     "data": {
      "text/plain": [
       "[1, 2, 3, 4, 5, 10, 12, 10]"
      ]
     },
     "execution_count": 26,
     "metadata": {},
     "output_type": "execute_result"
    }
   ],
   "source": [
    "l"
   ]
  },
  {
   "cell_type": "code",
   "execution_count": 31,
   "metadata": {},
   "outputs": [
    {
     "name": "stdout",
     "output_type": "stream",
     "text": [
      "\n",
      " The list is :  [1, 2, 3, 4, 5, 10, 12, 10, 10, 34]\n",
      "\n",
      "1. Append 2. Remove\n",
      "\n",
      "ENter one function from mentioned : remove\n",
      "\n",
      " Enter number that you want to add or remove :  12\n"
     ]
    }
   ],
   "source": [
    "print(\"\\n The list is : \",l)\n",
    "print(\"\\n1. Append 2. Remove\")\n",
    "ch = input(\"\\nENter one function from mentioned : \").lower().strip()\n",
    "num = int(input(\"\\n Enter number that you want to add or remove :  \"))\n",
    "eval(f\"l.{ch}({num})\")   #l.append(10) or l.remove(10)"
   ]
  },
  {
   "cell_type": "code",
   "execution_count": 32,
   "metadata": {},
   "outputs": [
    {
     "data": {
      "text/plain": [
       "[1, 2, 3, 4, 5, 10, 10, 10, 34]"
      ]
     },
     "execution_count": 32,
     "metadata": {},
     "output_type": "execute_result"
    }
   ],
   "source": [
    "l"
   ]
  },
  {
   "cell_type": "code",
   "execution_count": 33,
   "metadata": {},
   "outputs": [
    {
     "name": "stdout",
     "output_type": "stream",
     "text": [
      "['__add__', '__class__', '__contains__', '__delattr__', '__delitem__', '__dir__', '__doc__', '__eq__', '__format__', '__ge__', '__getattribute__', '__getitem__', '__gt__', '__hash__', '__iadd__', '__imul__', '__init__', '__init_subclass__', '__iter__', '__le__', '__len__', '__lt__', '__mul__', '__ne__', '__new__', '__reduce__', '__reduce_ex__', '__repr__', '__reversed__', '__rmul__', '__setattr__', '__setitem__', '__sizeof__', '__str__', '__subclasshook__', 'append', 'clear', 'copy', 'count', 'extend', 'index', 'insert', 'pop', 'remove', 'reverse', 'sort']\n"
     ]
    }
   ],
   "source": [
    "print(dir(l))"
   ]
  },
  {
   "cell_type": "code",
   "execution_count": 35,
   "metadata": {},
   "outputs": [],
   "source": [
    "l = [\"jaipur\",\"indore\",\"bhopal\",'delhi']"
   ]
  },
  {
   "cell_type": "code",
   "execution_count": 36,
   "metadata": {},
   "outputs": [
    {
     "data": {
      "text/plain": [
       "1"
      ]
     },
     "execution_count": 36,
     "metadata": {},
     "output_type": "execute_result"
    }
   ],
   "source": [
    "l.count(\"jaipur\")"
   ]
  },
  {
   "cell_type": "code",
   "execution_count": 38,
   "metadata": {},
   "outputs": [
    {
     "data": {
      "text/plain": [
       "0"
      ]
     },
     "execution_count": 38,
     "metadata": {},
     "output_type": "execute_result"
    }
   ],
   "source": [
    "eval('l.index(\"jaipur\")')"
   ]
  },
  {
   "cell_type": "code",
   "execution_count": 39,
   "metadata": {},
   "outputs": [
    {
     "data": {
      "text/plain": [
       "'delhi'"
      ]
     },
     "execution_count": 39,
     "metadata": {},
     "output_type": "execute_result"
    }
   ],
   "source": [
    "l.pop()"
   ]
  },
  {
   "cell_type": "code",
   "execution_count": 40,
   "metadata": {},
   "outputs": [
    {
     "data": {
      "text/plain": [
       "'jaipur'"
      ]
     },
     "execution_count": 40,
     "metadata": {},
     "output_type": "execute_result"
    }
   ],
   "source": [
    "l.pop(0)"
   ]
  },
  {
   "cell_type": "code",
   "execution_count": 43,
   "metadata": {},
   "outputs": [],
   "source": [
    "l.append(\"jaipur\")"
   ]
  },
  {
   "cell_type": "code",
   "execution_count": 44,
   "metadata": {},
   "outputs": [
    {
     "ename": "NameError",
     "evalue": "name 'jaipur' is not defined",
     "output_type": "error",
     "traceback": [
      "\u001b[1;31m---------------------------------------------------------------------\u001b[0m",
      "\u001b[1;31mNameError\u001b[0m                           Traceback (most recent call last)",
      "\u001b[1;32m<ipython-input-44-71d5aaeccbce>\u001b[0m in \u001b[0;36m<module>\u001b[1;34m\u001b[0m\n\u001b[1;32m----> 1\u001b[1;33m \u001b[0ml\u001b[0m\u001b[1;33m.\u001b[0m\u001b[0mappend\u001b[0m\u001b[1;33m(\u001b[0m\u001b[0mjaipur\u001b[0m\u001b[1;33m)\u001b[0m\u001b[1;33m\u001b[0m\u001b[1;33m\u001b[0m\u001b[0m\n\u001b[0m",
      "\u001b[1;31mNameError\u001b[0m: name 'jaipur' is not defined"
     ]
    }
   ],
   "source": [
    "l.append(jaipur)"
   ]
  },
  {
   "cell_type": "code",
   "execution_count": 55,
   "metadata": {},
   "outputs": [
    {
     "name": "stdout",
     "output_type": "stream",
     "text": [
      "\n",
      " The list is :  ['indore', 'bhopal', 'delhi', 'g', 'w', 'a', 'l', 'i', 'o', 'r', 'n', 'o', 'i', 'd', 'a']\n",
      "\n",
      " 1. Append\n",
      " 2. Extend\n",
      " 3. Remove\n",
      " 4. pop\n",
      " 5. Count \n",
      " 6. Index\n",
      "\n",
      " Enter the function that you want to perform in a list : remove\n",
      "Enter value : l\n",
      "\n",
      " The list after performing this function is :  ['indore', 'bhopal', 'delhi', 'g', 'w', 'a', 'i', 'o', 'r', 'n', 'o', 'i', 'd', 'a']\n"
     ]
    }
   ],
   "source": [
    "print(\"\\n The list is : \",l)\n",
    "print(\"\\n 1. Append\\n 2. Extend\\n 3. Remove\\n 4. pop\\n 5. Count \\n 6. Index\")\n",
    "func = input(\"\\n Enter the function that you want to perform in a list : \")\n",
    "if func in ['append','remove','extend']:\n",
    "    n =  input(\"Enter value : \")\n",
    "    eval(f\"l.{func}({'n'})\")\n",
    "    print(\"\\n The list after performing this function is : \",l)\n",
    "elif func in ['count','index']:\n",
    "    n = input(\"Enter value : \")\n",
    "    a = eval(f\"l.{func}({'n'})\")   #l.count(\"delhi\")\n",
    "    print(f\"\\n The output of performing the function {func} is {a}\")\n",
    "elif func == \"pop\":\n",
    "    ch = input(\"\\n Do you want to give index or not (yes/no) : \").lower().strip()\n",
    "    if ch == \"yes\":\n",
    "        i = int(input(\"\\nEnter your index : \"))\n",
    "        c = l.pop(i)\n",
    "        print(f\"\\n After performing pop the item that is deleted is {c} and list is {l}\")\n",
    "    elif ch == \"no\":\n",
    "        c = l.pop()\n",
    "        print(f\"\\n After performing pop the item that is deleted is {c} and list is {l}\")\n",
    "    else: \n",
    "        print(\"\\n Incorrect choice......\")\n",
    "else:\n",
    "    print(\"\\n Incorrect input\")"
   ]
  },
  {
   "cell_type": "code",
   "execution_count": 50,
   "metadata": {},
   "outputs": [
    {
     "data": {
      "text/plain": [
       "['indore', 'bhopal', 'jaipur', 'delhi']"
      ]
     },
     "execution_count": 50,
     "metadata": {},
     "output_type": "execute_result"
    }
   ],
   "source": [
    "l"
   ]
  },
  {
   "cell_type": "code",
   "execution_count": 53,
   "metadata": {},
   "outputs": [],
   "source": [
    "l.extend(\"noida\")"
   ]
  },
  {
   "cell_type": "code",
   "execution_count": 54,
   "metadata": {},
   "outputs": [
    {
     "data": {
      "text/plain": [
       "['indore',\n",
       " 'bhopal',\n",
       " 'delhi',\n",
       " 'g',\n",
       " 'w',\n",
       " 'a',\n",
       " 'l',\n",
       " 'i',\n",
       " 'o',\n",
       " 'r',\n",
       " 'n',\n",
       " 'o',\n",
       " 'i',\n",
       " 'd',\n",
       " 'a']"
      ]
     },
     "execution_count": 54,
     "metadata": {},
     "output_type": "execute_result"
    }
   ],
   "source": [
    "l"
   ]
  },
  {
   "cell_type": "code",
   "execution_count": 56,
   "metadata": {},
   "outputs": [],
   "source": [
    "###\n",
    "from random import randint\n",
    "\n",
    "#random --> module --> python file , randint --> function"
   ]
  },
  {
   "cell_type": "code",
   "execution_count": 57,
   "metadata": {},
   "outputs": [],
   "source": [
    "n = randint(1,10)  "
   ]
  },
  {
   "cell_type": "code",
   "execution_count": 61,
   "metadata": {},
   "outputs": [
    {
     "name": "stdout",
     "output_type": "stream",
     "text": [
      "Help on method randint in module random:\n",
      "\n",
      "randint(a, b) method of random.Random instance\n",
      "    Return random integer in range [a, b], including both end points.\n",
      "\n"
     ]
    }
   ],
   "source": [
    "help(randint)"
   ]
  },
  {
   "cell_type": "code",
   "execution_count": 63,
   "metadata": {},
   "outputs": [
    {
     "name": "stdout",
     "output_type": "stream",
     "text": [
      "Enter your number between 1 to 10 : 6\n",
      "\n",
      " You are not great\n",
      "\n",
      " The actual number is 10\n"
     ]
    }
   ],
   "source": [
    "n = randint(1,10)\n",
    "num = int(input(\"Enter your number between 1 to 10 : \"))\n",
    "if num == n:\n",
    "    print(\"\\n You are so great\")\n",
    "else:\n",
    "    print(\"\\n You are not great\")\n",
    "    print(f\"\\n The actual number is {n}\")"
   ]
  },
  {
   "cell_type": "code",
   "execution_count": 64,
   "metadata": {},
   "outputs": [],
   "source": [
    "d = {'city':'jaipur','state':'raj','country':'India','weather':'cloudy','temp':'22C'}"
   ]
  },
  {
   "cell_type": "code",
   "execution_count": 67,
   "metadata": {},
   "outputs": [
    {
     "name": "stdout",
     "output_type": "stream",
     "text": [
      "\n",
      " The keys are :  dict_keys(['city', 'state', 'country', 'weather', 'temp'])\n",
      "\n",
      " Choose any key from above mentioned .....abc\n",
      "\n",
      " No such key......\n"
     ]
    }
   ],
   "source": [
    "print(\"\\n The keys are : \",d.keys())\n",
    "ch = input(\"\\n Choose any key from above mentioned .....\")\n",
    "if d.get(ch):\n",
    "    print(\"\\n The value is : \",d[ch])\n",
    "else:\n",
    "    print(\"\\n No such key......\")"
   ]
  },
  {
   "cell_type": "markdown",
   "metadata": {},
   "source": [
    "##### Stone Paper Scissor\n",
    "\n",
    "            Player1               Player2                Win\n",
    "            Paper                 Scissor                p2\n",
    "            Rock                  Paper                  p2\n",
    "            Scissor               Rock                   p2\n",
    "            \n",
    "            \n",
    "            Player1              Player2                Win\n",
    "            Scissor              Paper                  p1\n",
    "            Paper                Rock                   p1\n",
    "            Rock                 Scissor                p1\n",
    "            "
   ]
  },
  {
   "cell_type": "code",
   "execution_count": 68,
   "metadata": {},
   "outputs": [],
   "source": [
    "l = [(1,2,3),(1,2),1,2,\"hello\"]"
   ]
  },
  {
   "cell_type": "code",
   "execution_count": 72,
   "metadata": {},
   "outputs": [
    {
     "data": {
      "text/plain": [
       "True"
      ]
     },
     "execution_count": 72,
     "metadata": {},
     "output_type": "execute_result"
    }
   ],
   "source": [
    "(1,2) in l"
   ]
  },
  {
   "cell_type": "code",
   "execution_count": 75,
   "metadata": {},
   "outputs": [
    {
     "data": {
      "text/plain": [
       "True"
      ]
     },
     "execution_count": 75,
     "metadata": {},
     "output_type": "execute_result"
    }
   ],
   "source": [
    "'hello' in l"
   ]
  },
  {
   "cell_type": "code",
   "execution_count": 81,
   "metadata": {},
   "outputs": [
    {
     "name": "stdout",
     "output_type": "stream",
     "text": [
      "**************************Rock Paper Scissor**************************\n",
      "\n",
      " Player 1 : rock\n",
      "\n",
      " Player 2 : paper\n",
      "\n",
      " Player2 won the game\n",
      "***************************End of the game****************************\n"
     ]
    }
   ],
   "source": [
    "p1_win = [(\"scissor\",\"paper\"),(\"paper\",\"rock\"),(\"rock\",\"scissor\")]\n",
    "p2_win = [(\"paper\",\"scissor\"),(\"rock\",\"paper\"),(\"scissor\",\"rock\")]\n",
    "\n",
    "print(\"Rock Paper Scissor\".center(70,\"*\"))\n",
    "p1 = input(\"\\n Player 1 : \").strip().lower()\n",
    "p2 = input(\"\\n Player 2 : \").strip().lower()\n",
    "if (p1,p2) in p1_win:\n",
    "    print(\"\\n Player1 won the game\")\n",
    "elif (p1,p2) in p2_win:\n",
    "    print(\"\\n Player2 won the game\")\n",
    "else:\n",
    "    print(\"\\n Incorrect choice\")\n",
    "    \n",
    "print(\"End of the game\".center(70,\"*\"))"
   ]
  },
  {
   "cell_type": "code",
   "execution_count": 82,
   "metadata": {},
   "outputs": [],
   "source": [
    "from getpass import getpass"
   ]
  },
  {
   "cell_type": "code",
   "execution_count": 85,
   "metadata": {},
   "outputs": [
    {
     "name": "stdout",
     "output_type": "stream",
     "text": [
      "ENter your password········\n"
     ]
    }
   ],
   "source": [
    "passwd = getpass(\"ENter your password\")"
   ]
  },
  {
   "cell_type": "code",
   "execution_count": 86,
   "metadata": {},
   "outputs": [
    {
     "data": {
      "text/plain": [
       "'admin'"
      ]
     },
     "execution_count": 86,
     "metadata": {},
     "output_type": "execute_result"
    }
   ],
   "source": [
    "passwd"
   ]
  },
  {
   "cell_type": "code",
   "execution_count": 87,
   "metadata": {},
   "outputs": [
    {
     "name": "stdout",
     "output_type": "stream",
     "text": [
      "**************************Rock Paper Scissor**************************\n",
      "\n",
      " Player 1 : ········\n",
      "\n",
      " Player 2 : ········\n",
      "\n",
      " Player1 won the game\n",
      "***************************End of the game****************************\n"
     ]
    }
   ],
   "source": [
    "p1_win = [(\"scissor\",\"paper\"),(\"paper\",\"rock\"),(\"rock\",\"scissor\")]\n",
    "p2_win = [(\"paper\",\"scissor\"),(\"rock\",\"paper\"),(\"scissor\",\"rock\")]\n",
    "\n",
    "print(\"Rock Paper Scissor\".center(70,\"*\"))\n",
    "p1 = getpass(\"\\n Player 1 : \").strip().lower()\n",
    "p2 = getpass(\"\\n Player 2 : \").strip().lower()\n",
    "if (p1,p2) in p1_win:\n",
    "    print(\"\\n Player1 won the game\")\n",
    "elif (p1,p2) in p2_win:\n",
    "    print(\"\\n Player2 won the game\")\n",
    "else:\n",
    "    print(\"\\n Incorrect choice\")\n",
    "    \n",
    "print(\"End of the game\".center(70,\"*\"))"
   ]
  },
  {
   "cell_type": "code",
   "execution_count": null,
   "metadata": {},
   "outputs": [],
   "source": []
  }
 ],
 "metadata": {
  "kernelspec": {
   "display_name": "Python 3",
   "language": "python",
   "name": "python3"
  },
  "language_info": {
   "codemirror_mode": {
    "name": "ipython",
    "version": 3
   },
   "file_extension": ".py",
   "mimetype": "text/x-python",
   "name": "python",
   "nbconvert_exporter": "python",
   "pygments_lexer": "ipython3",
   "version": "3.7.4"
  }
 },
 "nbformat": 4,
 "nbformat_minor": 2
}
