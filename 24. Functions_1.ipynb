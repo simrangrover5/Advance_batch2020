{
 "cells": [
  {
   "cell_type": "markdown",
   "metadata": {},
   "source": [
    "                            [3,4,5]\n",
    "                            00 01 02\n",
    "                            [4,5,6]\n",
    "                            10 11 12\n",
    "                            [7,8,9]\n",
    "                            20 21 22\n",
    "                            [7,8,9]\n",
    "                            30 31 32"
   ]
  },
  {
   "cell_type": "code",
   "execution_count": 1,
   "metadata": {},
   "outputs": [
    {
     "name": "stdout",
     "output_type": "stream",
     "text": [
      "\n",
      " Enter number of rows : 3\n",
      "\n",
      " Enter number of columns : 4\n",
      "1\n",
      "2\n",
      "3\n",
      "4\n",
      "5\n",
      "6\n",
      "7\n",
      "8\n",
      "9\n",
      "1\n",
      "2\n",
      "3\n",
      "[[1, 2, 3, 4], [5, 6, 7, 8], [9, 1, 2, 3]]\n"
     ]
    }
   ],
   "source": [
    "n = int(input(\"\\n Enter number of rows : \"))\n",
    "m = int(input(\"\\n Enter number of columns : \"))\n",
    "m1 = []\n",
    "for i in range(n):\n",
    "    l = []\n",
    "    for j in range(m):\n",
    "        l.append(int(input()))\n",
    "    m1.append(l)\n",
    "print(m1)"
   ]
  },
  {
   "cell_type": "code",
   "execution_count": 4,
   "metadata": {},
   "outputs": [
    {
     "name": "stdout",
     "output_type": "stream",
     "text": [
      "\n",
      " Enter number of rows : 3\n",
      "\n",
      " Enter number of columns : 3\n",
      "1\n",
      "2\n",
      "3\n",
      "4\n",
      "5\n",
      "6\n",
      "7\n",
      "8\n",
      "9\n",
      "9\n",
      "8\n",
      "7\n",
      "6\n",
      "5\n",
      "4\n",
      "3\n",
      "2\n",
      "1\n",
      "[[1, 2, 3], [4, 5, 6], [7, 8, 9]]\n",
      "[[9, 8, 7], [6, 5, 4], [3, 2, 1]]\n"
     ]
    }
   ],
   "source": [
    "n = int(input(\"\\n Enter number of rows : \"))\n",
    "m = int(input(\"\\n Enter number of columns : \"))\n",
    "m1 = [[int(input()) for i in range(m)]for _ in range(n)]\n",
    "m2 = [[int(input()) for i in range(m)]for _ in range(n)]\n",
    "print(m1)\n",
    "print(m2)"
   ]
  },
  {
   "cell_type": "code",
   "execution_count": 7,
   "metadata": {},
   "outputs": [],
   "source": [
    "add = []\n",
    "for i in range(len(m1)):  #range(0,3) --> 0,1,2\n",
    "    l = []\n",
    "    for j in range(len(m1[i])):  #range(0,3) --> 0,1,2\n",
    "        l.append(m1[i][j] + m2[i][j])\n",
    "    add.append(l)"
   ]
  },
  {
   "cell_type": "code",
   "execution_count": 8,
   "metadata": {},
   "outputs": [
    {
     "data": {
      "text/plain": [
       "[[10, 10, 10], [10, 10, 10], [10, 10, 10]]"
      ]
     },
     "execution_count": 8,
     "metadata": {},
     "output_type": "execute_result"
    }
   ],
   "source": [
    "add"
   ]
  },
  {
   "cell_type": "code",
   "execution_count": 9,
   "metadata": {},
   "outputs": [
    {
     "name": "stdout",
     "output_type": "stream",
     "text": [
      "[[1, 2, 3], [4, 5, 6], [7, 8, 9]]\n",
      "[[9, 8, 7], [6, 5, 4], [3, 2, 1]]\n",
      "[[10, 10, 10], [10, 10, 10], [10, 10, 10]]\n"
     ]
    }
   ],
   "source": [
    "print(m1)\n",
    "print(m2)\n",
    "add = [[m1[i][j] + m2[i][j] for j in range(len(m1[i]))]for i in range(len(m1))]\n",
    "print(add)"
   ]
  },
  {
   "cell_type": "code",
   "execution_count": 10,
   "metadata": {},
   "outputs": [
    {
     "data": {
      "text/plain": [
       "[[1, 2, 3], [4, 5, 6], [7, 8, 9]]"
      ]
     },
     "execution_count": 10,
     "metadata": {},
     "output_type": "execute_result"
    }
   ],
   "source": [
    "m1"
   ]
  },
  {
   "cell_type": "code",
   "execution_count": 11,
   "metadata": {},
   "outputs": [
    {
     "data": {
      "text/plain": [
       "3"
      ]
     },
     "execution_count": 11,
     "metadata": {},
     "output_type": "execute_result"
    }
   ],
   "source": [
    "len(m1)"
   ]
  },
  {
   "cell_type": "code",
   "execution_count": 12,
   "metadata": {},
   "outputs": [
    {
     "data": {
      "text/plain": [
       "[[9, 8, 7], [6, 5, 4], [3, 2, 1]]"
      ]
     },
     "execution_count": 12,
     "metadata": {},
     "output_type": "execute_result"
    }
   ],
   "source": [
    "m2"
   ]
  },
  {
   "cell_type": "code",
   "execution_count": 13,
   "metadata": {},
   "outputs": [
    {
     "data": {
      "text/plain": [
       "[[3, 2, 1], [6, 5, 4], [9, 8, 7]]"
      ]
     },
     "execution_count": 13,
     "metadata": {},
     "output_type": "execute_result"
    }
   ],
   "source": [
    "sorted(m2)"
   ]
  },
  {
   "cell_type": "code",
   "execution_count": 14,
   "metadata": {},
   "outputs": [],
   "source": [
    "from operator import itemgetter"
   ]
  },
  {
   "cell_type": "code",
   "execution_count": 15,
   "metadata": {},
   "outputs": [
    {
     "data": {
      "text/plain": [
       "[[3, 2, 1], [6, 5, 4], [9, 8, 7]]"
      ]
     },
     "execution_count": 15,
     "metadata": {},
     "output_type": "execute_result"
    }
   ],
   "source": [
    "sorted(m2,key=itemgetter(1))"
   ]
  },
  {
   "cell_type": "code",
   "execution_count": 16,
   "metadata": {},
   "outputs": [],
   "source": [
    "m2[2][2] = 10"
   ]
  },
  {
   "cell_type": "code",
   "execution_count": 17,
   "metadata": {},
   "outputs": [
    {
     "data": {
      "text/plain": [
       "[[9, 8, 7], [6, 5, 4], [3, 2, 10]]"
      ]
     },
     "execution_count": 17,
     "metadata": {},
     "output_type": "execute_result"
    }
   ],
   "source": [
    "m2"
   ]
  },
  {
   "cell_type": "code",
   "execution_count": 18,
   "metadata": {},
   "outputs": [
    {
     "data": {
      "text/plain": [
       "[[6, 5, 4], [9, 8, 7], [3, 2, 10]]"
      ]
     },
     "execution_count": 18,
     "metadata": {},
     "output_type": "execute_result"
    }
   ],
   "source": [
    "sorted(m2,key=itemgetter(2))"
   ]
  },
  {
   "cell_type": "markdown",
   "metadata": {},
   "source": [
    "### Bank Application\n",
    "              accno      name    password  bal   security question(ddmm)\n",
    "     data = { '1001' : [\"simran\",\"passwd\",12000,'1601'],\n",
    "              '1002' : [\"shahid\",\"admin\",10000,'2810'],\n",
    "              '1003' : [\"rahul\",\"passpass\",13000,'0505'],\n",
    "              '1004' : [\"tushar\",\"passwd\",12500,'1306']\n",
    "            }\n",
    "          \n",
    "     1. Login       2. Signup      3. Forgot Password    4. Exit\n",
    "     \n",
    "     1. Login\n",
    "         i. ask accno. (Put conditions by checking whether the accnount number exist or not)\n",
    "         ii. ask password\n",
    "         If login is successfull:\n",
    "             a. credit\n",
    "                 ask amt and update balance of that particular account number\n",
    "             b. debit\n",
    "                 ask amt and update balance of that particular account number\n",
    "             c. check balance\n",
    "                 show the current balance\n",
    "             d. update details\n",
    "                 1. password    2. username (check whether the username is free or not) \n",
    "                 old password (check it)\n",
    "                 new password \n",
    "                 confirm password\n",
    "             e. check details\n",
    "                 show all the details of the user\n",
    "             f. logout\n",
    "     2. Signup\n",
    "         New user add\n",
    "         1.ask username\n",
    "         2. ask password\n",
    "         3. ask initial balance\n",
    "         4. ask security question\n",
    "             check the format\n",
    "             e.g --> 3201 is not correct\n",
    "             3002 --> it is not correct\n",
    "         5. And generate account number in serial order and add it to your details and give that info to the user\n",
    "     \n",
    "     3. Forgot Password \n",
    "         1. enter the security question\n",
    "         2. enter account number\n",
    "         3. check whether sq of that accno matches or not\n",
    "         4. new password\n",
    "         5. confirm password\n",
    "         6. update password\n",
    "      \n",
    "      4. exit\n",
    "          get out of the application"
   ]
  },
  {
   "cell_type": "markdown",
   "metadata": {},
   "source": [
    "## Functions\n",
    "\n",
    "        It give you a space where you can define a set of statements so that you can use that\n",
    "        later whenever you want tp\n",
    "        \n",
    "        Benefits:\n",
    "            1. Resualibility\n",
    "            2. Memory Save\n",
    "            3. Time Saving\n",
    "            4. Structurize (Readability)\n",
    "            5. Modularity\n",
    "            6. Debugging"
   ]
  },
  {
   "cell_type": "markdown",
   "metadata": {},
   "source": [
    "##### Three steps of functions:\n",
    "       1. Declaration\n",
    "       2. Definition\n",
    "       3. Calling"
   ]
  },
  {
   "cell_type": "markdown",
   "metadata": {},
   "source": [
    "##### Syntax\n",
    "    def func_name(parameter(optional)):  #declaration\n",
    "        s1\n",
    "        s2                               #definition\n",
    "        s3\n",
    "        return data_type\n",
    "   \n",
    "    func_name(parameter(optional))       #calling"
   ]
  },
  {
   "cell_type": "code",
   "execution_count": 19,
   "metadata": {},
   "outputs": [],
   "source": [
    "def add():\n",
    "    a = int(input())\n",
    "    b = int(input())\n",
    "    print(a+b)\n"
   ]
  },
  {
   "cell_type": "code",
   "execution_count": 20,
   "metadata": {},
   "outputs": [
    {
     "data": {
      "text/plain": [
       "<function __main__.add()>"
      ]
     },
     "execution_count": 20,
     "metadata": {},
     "output_type": "execute_result"
    }
   ],
   "source": [
    "add"
   ]
  },
  {
   "cell_type": "code",
   "execution_count": 21,
   "metadata": {},
   "outputs": [
    {
     "name": "stdout",
     "output_type": "stream",
     "text": [
      "<function add at 0x00000279E311D9D8>\n"
     ]
    }
   ],
   "source": [
    "print(add)"
   ]
  },
  {
   "cell_type": "code",
   "execution_count": 22,
   "metadata": {},
   "outputs": [
    {
     "name": "stdout",
     "output_type": "stream",
     "text": [
      "12\n",
      "23\n",
      "35\n"
     ]
    }
   ],
   "source": [
    "add()"
   ]
  },
  {
   "cell_type": "code",
   "execution_count": 1,
   "metadata": {},
   "outputs": [
    {
     "name": "stdout",
     "output_type": "stream",
     "text": [
      "Overwriting myfunc.py\n"
     ]
    }
   ],
   "source": [
    "%%writefile myfunc.py\n",
    "\n",
    "def add():\n",
    "    a = int(input())\n",
    "    b = int(input())\n",
    "    print(\"Addition : \",a+b)\n",
    "    \n",
    "def sub():\n",
    "    a = int(input())\n",
    "    b = int(input())\n",
    "    print(\"Subtraction : \",a-b)\n",
    "    \n",
    "def mul():\n",
    "    a = int(input())\n",
    "    b = int(input())\n",
    "    print(\"Multiplication : \",a+b)\n",
    "    \n",
    "def div():\n",
    "    a = int(input())\n",
    "    b = int(input())\n",
    "    print(\"Division : \",a/b)"
   ]
  },
  {
   "cell_type": "code",
   "execution_count": 24,
   "metadata": {},
   "outputs": [
    {
     "name": "stdout",
     "output_type": "stream",
     "text": [
      " Volume in drive C is Windows\n",
      " Volume Serial Number is E08D-DAD9\n",
      "\n",
      " Directory of C:\\batches\\online_batch\\batch_7pm\n",
      "\n",
      "15-05-2020  20:42    <DIR>          .\n",
      "15-05-2020  20:42    <DIR>          ..\n",
      "15-05-2020  19:28    <DIR>          .ipynb_checkpoints\n",
      "22-04-2020  20:49            62,603 10. Sets.ipynb\n",
      "23-04-2020  20:40            50,028 11. Type_conversion.ipynb\n",
      "24-04-2020  20:46            51,378 12. Operators.ipynb\n",
      "28-04-2020  20:32            18,441 13.Control_Statements.ipynb\n",
      "29-04-2020  20:34            23,138 14. if_else_2.ipynb\n",
      "01-05-2020  19:32            26,173 15. if_else_3.ipynb\n",
      "04-05-2020  20:48         1,986,359 16. While_Loop_1.ipynb\n",
      "04-05-2020  20:42            14,599 17. While_loop_2.ipynb\n",
      "05-05-2020  20:50         2,279,730 18. while_loop_3.ipynb\n",
      "07-05-2020  19:56            18,601 19. nested_while.ipynb\n",
      "10-04-2020  20:30            47,841 2. Strings.ipynb\n",
      "07-05-2020  20:45            15,740 20. Nested_while_2.ipynb\n",
      "11-05-2020  19:37            35,556 21. For_loop_1.ipynb\n",
      "11-05-2020  20:44            22,898 22. For_loop_2.ipynb\n",
      "13-05-2020  20:49            16,671 23. For_loop_practice.ipynb\n",
      "11-04-2020  19:20            28,234 3. Strings.ipynb\n",
      "13-04-2020  20:34            41,029 4. Lists.ipynb\n",
      "18-04-2020  11:11            50,932 6. lists_tuple.ipynb\n",
      "20-04-2020  20:14            41,783 7. Dictionary.ipynb\n",
      "20-04-2020  20:30            28,015 8. Dictionary.ipynb\n",
      "21-04-2020  20:33            18,217 9. Sets.ipynb\n",
      "08-04-2020  19:51               165 abc.txt\n",
      "16-04-2020  20:35    <DIR>          Backup\n",
      "02-04-2020  10:14             5,138 break_statement_flowchart.png\n",
      "07-05-2020  20:23               308 circles.py\n",
      "07-05-2020  20:40               391 circles1.py\n",
      "08-04-2020  20:19             5,237 Class_1.ipynb\n",
      "02-04-2020  10:14             6,040 continue-statement-flowchart.png\n",
      "09-04-2020  20:30            21,806 Data_types.ipynb\n",
      "27-04-2020  20:40            21,967 Doubts.ipynb\n",
      "15-05-2020  20:41            11,182 Functions_1.ipynb\n",
      "12-05-2020  20:43             5,920 Hacker_rank_ques.ipynb\n",
      "14-04-2020  21:30            42,013 Lists_2.ipynb\n",
      "15-05-2020  20:42               372 myfunc.py\n",
      "07-04-2020  19:19                62 one.txt\n",
      "30-04-2020  19:35               635 s_p_s.py\n",
      "07-05-2020  20:09               189 square.py\n",
      "07-05-2020  20:07               295 t1.py\n",
      "07-05-2020  20:16               377 t3.py\n",
      "13-05-2020  19:32               555 Untitled.ipynb\n",
      "              39 File(s)      5,000,618 bytes\n",
      "               4 Dir(s)  72,235,085,824 bytes free\n"
     ]
    }
   ],
   "source": [
    "ls"
   ]
  },
  {
   "cell_type": "code",
   "execution_count": 25,
   "metadata": {},
   "outputs": [],
   "source": [
    "#myfunc.py --> module"
   ]
  },
  {
   "cell_type": "code",
   "execution_count": 2,
   "metadata": {},
   "outputs": [],
   "source": [
    "import myfunc  #it will find in your pwd for the file myfunc.py and will import it"
   ]
  },
  {
   "cell_type": "code",
   "execution_count": 3,
   "metadata": {},
   "outputs": [
    {
     "name": "stdout",
     "output_type": "stream",
     "text": [
      "23\n",
      "34\n",
      "Addition :  57\n"
     ]
    }
   ],
   "source": [
    "myfunc.add()"
   ]
  },
  {
   "cell_type": "code",
   "execution_count": 4,
   "metadata": {},
   "outputs": [
    {
     "name": "stdout",
     "output_type": "stream",
     "text": [
      "34\n",
      "23\n",
      "Subtraction :  11\n"
     ]
    }
   ],
   "source": [
    "myfunc.sub()"
   ]
  },
  {
   "cell_type": "code",
   "execution_count": 5,
   "metadata": {},
   "outputs": [
    {
     "name": "stdout",
     "output_type": "stream",
     "text": [
      "['__builtins__', '__cached__', '__doc__', '__file__', '__loader__', '__name__', '__package__', '__spec__', 'add', 'div', 'mul', 'sub']\n"
     ]
    }
   ],
   "source": [
    "print(dir(myfunc))"
   ]
  },
  {
   "cell_type": "code",
   "execution_count": null,
   "metadata": {},
   "outputs": [],
   "source": []
  }
 ],
 "metadata": {
  "kernelspec": {
   "display_name": "Python 3",
   "language": "python",
   "name": "python3"
  },
  "language_info": {
   "codemirror_mode": {
    "name": "ipython",
    "version": 3
   },
   "file_extension": ".py",
   "mimetype": "text/x-python",
   "name": "python",
   "nbconvert_exporter": "python",
   "pygments_lexer": "ipython3",
   "version": "3.7.4"
  }
 },
 "nbformat": 4,
 "nbformat_minor": 2
}
