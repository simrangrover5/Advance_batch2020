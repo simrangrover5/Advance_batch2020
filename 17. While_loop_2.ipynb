{
 "cells": [
  {
   "cell_type": "code",
   "execution_count": 3,
   "metadata": {},
   "outputs": [],
   "source": [
    "import getpass"
   ]
  },
  {
   "cell_type": "code",
   "execution_count": 4,
   "metadata": {},
   "outputs": [
    {
     "name": "stdout",
     "output_type": "stream",
     "text": [
      "········\n"
     ]
    },
    {
     "data": {
      "text/plain": [
       "'pijpojfpek'"
      ]
     },
     "execution_count": 4,
     "metadata": {},
     "output_type": "execute_result"
    }
   ],
   "source": [
    "getpass.getpass()"
   ]
  },
  {
   "cell_type": "code",
   "execution_count": 7,
   "metadata": {},
   "outputs": [
    {
     "name": "stdout",
     "output_type": "stream",
     "text": [
      "\n",
      " Enter any number whose table you want to print : 10\n",
      "10\t*\t1\t=\t10\n",
      "10\t*\t2\t=\t20\n",
      "10\t*\t3\t=\t30\n",
      "10\t*\t4\t=\t40\n",
      "10\t*\t5\t=\t50\n",
      "10\t*\t6\t=\t60\n",
      "10\t*\t7\t=\t70\n",
      "10\t*\t8\t=\t80\n",
      "10\t*\t9\t=\t90\n",
      "10\t*\t10\t=\t100\n"
     ]
    }
   ],
   "source": [
    "n = int(input(\"\\n Enter any number whose table you want to print : \"))\n",
    "i = 1\n",
    "while i<=10:\n",
    "    print(f\"{n}\\t*\\t{i}\\t=\\t{n*i}\")\n",
    "    i += 1"
   ]
  },
  {
   "cell_type": "code",
   "execution_count": 9,
   "metadata": {},
   "outputs": [
    {
     "name": "stdout",
     "output_type": "stream",
     "text": [
      "\n",
      " Enter any start number : 2\n",
      "\n",
      " Enter any end number : 10\n",
      "\n",
      "Number\tSquare\tCube\n",
      "2\t4\t8\n",
      "3\t9\t27\n",
      "4\t16\t64\n",
      "5\t25\t125\n",
      "6\t36\t216\n",
      "7\t49\t343\n",
      "8\t64\t512\n",
      "9\t81\t729\n",
      "10\t100\t1000\n"
     ]
    }
   ],
   "source": [
    "start = int(input(\"\\n Enter any start number : \"))\n",
    "end = int(input(\"\\n Enter any end number : \"))\n",
    "i = start\n",
    "print(\"\\nNumber\\tSquare\\tCube\")\n",
    "while i<=end:\n",
    "    print(f\"{i}\\t{i**2}\\t{i**3}\")\n",
    "    i += 1\n",
    "    \n",
    "#i = 1 --> i<=5 --> True --> 1  1  1\n",
    "#i = 2 --> 2<=5 --> True --> \n",
    "#i = 5 --> 5<=5 --> True --> \n",
    "#i = 6 --> 6<=5 --> False"
   ]
  },
  {
   "cell_type": "code",
   "execution_count": 13,
   "metadata": {},
   "outputs": [
    {
     "name": "stdout",
     "output_type": "stream",
     "text": [
      "\n",
      " Enter any number : 10\n",
      "\n",
      " The sum of 10 numbers is 55\n"
     ]
    }
   ],
   "source": [
    "####sum of numbers \n",
    "###n = 5 --> 1+2+3+4+5\n",
    "###n = 10 --> 1+2+3.....+9+10\n",
    "n = int(input(\"\\n Enter any number : \"))\n",
    "s = 0\n",
    "i = 1\n",
    "while i<=n:\n",
    "    s += i\n",
    "    i += 1\n",
    "    \n",
    "print(f\"\\n The sum of {n} numbers is {s}\")\n",
    "    \n",
    "    \n",
    "#n = 5\n",
    "#i = 1\n",
    "#1<=5 --> True --> s = 0 + 1 --> s = 1, i = 2\n",
    "#2<=5 --> True --> s = 1+2 --> s = 3, i = 3\n",
    "#3<=5 --> True --> s = 3 + 3 --> s=6, i = 4\n",
    "#4<=5 --> True --> s = 6+4 --> 10,i= 5\n",
    "#5<=5 --> True --> s = 10+5 --> s= 15, i = 6\n",
    "#6<=5 -- False--> Exit the loop"
   ]
  },
  {
   "cell_type": "code",
   "execution_count": 17,
   "metadata": {},
   "outputs": [
    {
     "name": "stdout",
     "output_type": "stream",
     "text": [
      "\n",
      " Enter any number : 5\n",
      "The value of s at each i 1 is 1\n",
      "The value of s at each i 2 is 5\n",
      "The value of s at each i 3 is 14\n",
      "The value of s at each i 4 is 30\n",
      "The value of s at each i 5 is 55\n",
      "\n",
      " The sum of square of 5 numbers is 55\n"
     ]
    }
   ],
   "source": [
    "####sum of square of numbers \n",
    "###n = 5 --> 1**2+2**2+3**2+4**2+5**2\n",
    "###n = 10 --> 1+2+3.....+9+10\n",
    "n = int(input(\"\\n Enter any number : \"))\n",
    "s = 0\n",
    "i = 1\n",
    "while i<=n:\n",
    "    s += (i**2)\n",
    "    print(f\"The value of s at each i {i} is {s}\")\n",
    "    i += 1\n",
    "    \n",
    "print(f\"\\n The sum of square of {n} numbers is {s}\")\n",
    "    \n",
    "    \n"
   ]
  },
  {
   "cell_type": "code",
   "execution_count": 22,
   "metadata": {},
   "outputs": [
    {
     "name": "stdout",
     "output_type": "stream",
     "text": [
      "\n",
      " Enter a number : 10\n",
      "\n",
      " The multiplication of first 10 numbers is 3628800\n"
     ]
    }
   ],
   "source": [
    "###multiplication of numbers till the number n\n",
    "#n= 5\n",
    "#1*2*3*4*5\n",
    "#n=6\n",
    "#1*2*3*4*5*6\n",
    "\n",
    "n = int(input(\"\\n Enter a number : \"))\n",
    "i = 1\n",
    "m = 1  #this variable will be updated at each iteration and store the value of multiplication till that iteration\n",
    "while i<=n:\n",
    "    m = m*i\n",
    "    i = i+1\n",
    "    \n",
    "print(f\"\\n The multiplication of first {n} numbers is {m}\")\n",
    "    \n",
    "#n = 5, i=1, m=1\n",
    "#1<=5 --> true --> m = 1*1 = 1, i= 2\n",
    "#2<=5 --> true --> m = 1*2 = 2, i = 3\n",
    "#3<=5 --. True --> m = 2*3 = 6, i = 4\n",
    "#4<=5 --> True --> m = 6*4 = 24 , i = 5\n"
   ]
  },
  {
   "cell_type": "code",
   "execution_count": 24,
   "metadata": {},
   "outputs": [
    {
     "name": "stdout",
     "output_type": "stream",
     "text": [
      "\n",
      " ENter a number : 10\n",
      "\n",
      " The factorial of a number 0 is 3628800\n"
     ]
    }
   ],
   "source": [
    "###factorial\n",
    "##n = 5 --> 5*4*3*2*1 --> 120\n",
    "###n = 6 --> 6*5*4*3*2*1 --> 720\n",
    "n = int(input(\"\\n ENter a number : \"))\n",
    "f = 1\n",
    "while n>0:\n",
    "    f = f * n\n",
    "    n = n - 1\n",
    "    \n",
    "print(f\"\\n The factorial of a number {n} is {f}\")\n",
    "#f = 1, n = 5\n",
    "#f = f*n = 1*5 --> 5 , n= 4\n",
    "#4>0 --> f = 5*4 = 20, n = 3\n",
    "#3>0 --> f = 20*3 = 60 , n= 2\n",
    "#2>0 --> f = 60*2 = 120 , n = 1\n"
   ]
  },
  {
   "cell_type": "code",
   "execution_count": 18,
   "metadata": {},
   "outputs": [],
   "source": [
    "###make a program to check whether a number is palindrome or not\n",
    "###make a program to check whether a number is armstrong or not."
   ]
  },
  {
   "cell_type": "markdown",
   "metadata": {},
   "source": [
    "    palindrome --> 121 , 1221\n",
    "                left to right --> 121\n",
    "                right to left --> 121\n",
    "    not a palindrome --> 12345\n",
    "                left to right --> 12345\n",
    "                right to left --> 54321\n",
    "                \n",
    "    Armstrong --> \n",
    "                123 --> number of digits = 3\n",
    "                1**3 + 2**3 + 3**3 = 1+8+27 --> 36\n",
    "                123 != 36 (Not a armstrong)\n",
    "                \n",
    "                53 --> number of digits = 2\n",
    "                5**2 + 3**2 --> 25 + 9 --> 34\n",
    "                Not armstrong\n",
    "                \n",
    "                153 --> number of digits = 3\n",
    "                1**3 + 5**3 + 3**3 = 153\n",
    "                "
   ]
  },
  {
   "cell_type": "code",
   "execution_count": 28,
   "metadata": {},
   "outputs": [
    {
     "data": {
      "text/plain": [
       "'cba'"
      ]
     },
     "execution_count": 28,
     "metadata": {},
     "output_type": "execute_result"
    }
   ],
   "source": [
    "\"abc\"[::-1]"
   ]
  },
  {
   "cell_type": "code",
   "execution_count": 30,
   "metadata": {},
   "outputs": [
    {
     "name": "stdout",
     "output_type": "stream",
     "text": [
      "\n",
      " Enter a value : ababa\n",
      "\n",
      " The string ababa is plaindrome\n"
     ]
    }
   ],
   "source": [
    "###python shortcut to check whether a data is palindrome or not\n",
    "#s = \"aba\" --> plaindrome\n",
    "a = input(\"\\n Enter a value : \")\n",
    "r = a[::-1]\n",
    "if a == r:\n",
    "    print(f\"\\n The string {a} is plaindrome\")\n",
    "else:\n",
    "    print(f\"\\n The string {a} is not palindrome\")"
   ]
  },
  {
   "cell_type": "code",
   "execution_count": 34,
   "metadata": {},
   "outputs": [
    {
     "name": "stdout",
     "output_type": "stream",
     "text": [
      "\n",
      " Enter a value : 12345\n",
      "\n",
      " The string 12345 is not palindrome\n"
     ]
    }
   ],
   "source": [
    "##how to find number is palindrome or not?\n",
    "a = int(input(\"\\n Enter a value : \"))\n",
    "r = str(a)[::-1]\n",
    "if str(a) == r:\n",
    "    print(f\"\\n The string {a} is plaindrome\")\n",
    "else:\n",
    "    print(f\"\\n The string {a} is not palindrome\")"
   ]
  },
  {
   "cell_type": "code",
   "execution_count": 35,
   "metadata": {},
   "outputs": [
    {
     "name": "stdout",
     "output_type": "stream",
     "text": [
      "[1, 2, 3, 4, 5, 4, 5, 6, 7, 8]\n"
     ]
    }
   ],
   "source": [
    "l1 = [1,2,3,4,5]\n",
    "l2 = [4,5,6,7,8]\n",
    "print(l1+l2)\n",
    "#i want the anser in list and there should be element wise addition\n",
    "#[5,7,9,11,13]"
   ]
  },
  {
   "cell_type": "code",
   "execution_count": 36,
   "metadata": {},
   "outputs": [
    {
     "data": {
      "text/plain": [
       "5"
      ]
     },
     "execution_count": 36,
     "metadata": {},
     "output_type": "execute_result"
    }
   ],
   "source": [
    "len(l1)"
   ]
  },
  {
   "cell_type": "code",
   "execution_count": 37,
   "metadata": {},
   "outputs": [
    {
     "data": {
      "text/plain": [
       "5"
      ]
     },
     "execution_count": 37,
     "metadata": {},
     "output_type": "execute_result"
    }
   ],
   "source": [
    "l1[4]"
   ]
  },
  {
   "cell_type": "code",
   "execution_count": null,
   "metadata": {},
   "outputs": [],
   "source": []
  },
  {
   "cell_type": "code",
   "execution_count": 41,
   "metadata": {},
   "outputs": [
    {
     "name": "stdout",
     "output_type": "stream",
     "text": [
      "\n",
      " List 1 :  [2, 34, 56]\n",
      "\n",
      " List 2 :  [1, 2, 3, 4, 5]\n",
      "\n",
      " The addition is not possible the length of both the lists must be same \n"
     ]
    }
   ],
   "source": [
    "l1 = [2,34,56]\n",
    "l2 = [1,2,3,4,5]\n",
    "print(\"\\n List 1 : \",l1)\n",
    "print(\"\\n List 2 : \",l2)\n",
    "if len(l1) == len(l2):\n",
    "    i = 0  #the value of index\n",
    "    sum_l = []  #that will store the element wise addition\n",
    "    while i<len(l1):  \n",
    "        #print(l1[i])\n",
    "        sum_l.append(l1[i]+l2[i])  #sum_l.append(l1[0]+l2[0]), l1[1]+l2[1], l2[2]+l1[2]\n",
    "        i += 1\n",
    "    print(\"\\n The element wise addition is : \",sum_l)\n",
    "else:\n",
    "    print(\"\\n The addition is not possible the length of both the lists must be same \")"
   ]
  },
  {
   "cell_type": "code",
   "execution_count": 42,
   "metadata": {},
   "outputs": [],
   "source": [
    "from random import randint"
   ]
  },
  {
   "cell_type": "code",
   "execution_count": 46,
   "metadata": {},
   "outputs": [
    {
     "name": "stdout",
     "output_type": "stream",
     "text": [
      "\n",
      " Choose any random number between 1 to 10 \n",
      "\n",
      " Enter any number : 6\n",
      "\n",
      " Try again !!!!!!\n",
      "\n",
      " Enter your guess again .......2\n",
      "\n",
      " Try again !!!!!!\n",
      "\n",
      " Enter your guess again .......1\n",
      "\n",
      " Try again !!!!!!\n",
      "\n",
      " Enter your guess again .......7\n",
      "\n",
      " Try again !!!!!!\n",
      "\n",
      " Enter your guess again .......8\n",
      "\n",
      " Try again !!!!!!\n",
      "\n",
      " Enter your guess again .......9\n",
      "\n",
      " Try again !!!!!!\n",
      "\n",
      " Enter your guess again .......3\n",
      "\n",
      " Try again !!!!!!\n",
      "\n",
      " Enter your guess again .......4\n",
      "\n",
      " So The number is :  4 \n",
      "\n",
      " And you guessed after  8 chances\n"
     ]
    }
   ],
   "source": [
    "c = randint(1,10)\n",
    "print(\"\\n Choose any random number between 1 to 10 \")\n",
    "u = int(input(\"\\n Enter any number : \"))\n",
    "counter = 1\n",
    "while c!=u:\n",
    "    counter += 1\n",
    "    print(\"\\n Try again !!!!!!\")\n",
    "    u = int(input(\"\\n Enter your guess again .......\"))\n",
    "    \n",
    "print(\"\\n So The number is : \",c, \"\\n\\n And you guessed after \",counter,\"chances\")"
   ]
  },
  {
   "cell_type": "code",
   "execution_count": 50,
   "metadata": {},
   "outputs": [
    {
     "name": "stdout",
     "output_type": "stream",
     "text": [
      "\n",
      " The value of s is :  43\n"
     ]
    }
   ],
   "source": [
    "l1 = [1,2,3,4,5,6]\n",
    "l2 = [3,4,5,6]\n",
    "i =0\n",
    "s = 0\n",
    "while i<len(l1):\n",
    "    if i >= 4:\n",
    "        s += i\n",
    "    elif i<4:\n",
    "        s += l1[i]+l2[i]+i\n",
    "    i += 1\n",
    "print(\"\\n The value of s is : \",s)\n",
    "\n",
    "#output??\n",
    "#i = 0 , s += 1+3+0 = 4\n",
    "#i = 1, s = 4 + (2+4+1) = 4 + 7 = 11\n",
    "#i = 2 , s = 11 + (3+5+2) = 21\n",
    "#i = 3, s = 21 + (4+6+3) = 34\n",
    "#i = 4, s = 34 + 4 = 38\n",
    "#i = 5 , s = 38 + 5 = 43\n",
    "#i = 6 , condition false exist the loop"
   ]
  },
  {
   "cell_type": "code",
   "execution_count": 47,
   "metadata": {},
   "outputs": [
    {
     "data": {
      "text/plain": [
       "43"
      ]
     },
     "execution_count": 47,
     "metadata": {},
     "output_type": "execute_result"
    }
   ],
   "source": [
    "4+7+10+13+4+5"
   ]
  },
  {
   "cell_type": "code",
   "execution_count": 48,
   "metadata": {},
   "outputs": [
    {
     "data": {
      "text/plain": [
       "39"
      ]
     },
     "execution_count": 48,
     "metadata": {},
     "output_type": "execute_result"
    }
   ],
   "source": [
    "4+6+8+10+5+6"
   ]
  },
  {
   "cell_type": "code",
   "execution_count": null,
   "metadata": {},
   "outputs": [],
   "source": []
  }
 ],
 "metadata": {
  "kernelspec": {
   "display_name": "Python 3",
   "language": "python",
   "name": "python3"
  },
  "language_info": {
   "codemirror_mode": {
    "name": "ipython",
    "version": 3
   },
   "file_extension": ".py",
   "mimetype": "text/x-python",
   "name": "python",
   "nbconvert_exporter": "python",
   "pygments_lexer": "ipython3",
   "version": "3.7.4"
  }
 },
 "nbformat": 4,
 "nbformat_minor": 2
}
