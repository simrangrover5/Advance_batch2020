{
 "cells": [
  {
   "cell_type": "markdown",
   "metadata": {},
   "source": [
    "### Machine Learning"
   ]
  },
  {
   "cell_type": "markdown",
   "metadata": {},
   "source": [
    "    Machine --> Reduce Human load\n",
    "    Make work easy \n",
    "    Convert Input into some output\n",
    "    \n",
    "    Computer --> Machine --> We will give instuction and machine will work according to it\n",
    "    \n",
    "    Machine Learning to make machine such that it work on its on in future\n",
    "    \n",
    "    Machine to work like a human\n",
    "    \n",
    "    Learn from experience\n",
    "    \n",
    "    Machine learning is a process in which machine learns itself and improve from experience without programmed explicitily.\n",
    "    \n",
    "    It is an application of AI (Artificial Intelligence)\n",
    "    \n",
    "    Algorithms + Hardware ---> AI"
   ]
  },
  {
   "cell_type": "markdown",
   "metadata": {},
   "source": [
    "## Applications of Machine Learning\n",
    "\n",
    "\n",
    "    1. Face Recognization (NN)\n",
    "    2. Alexa \n",
    "    3. Bank Fraud/ Credit Card Identification\n",
    "    4. Spam / Ham Detection\n",
    "    5. Netflix/Prime/Youtube/Ganna recommendations (Movie --> Genre)\n",
    "    6. Friend Suggestions\n",
    "    7. Traffic Alert\n",
    "    8. Forecasting\n",
    "    9. Robots\n",
    "    10. Age Identification\n",
    "    11. Self Driven Cars\n",
    "    12. Classfication Products\n",
    "    13. Diabetic Detection\n",
    "    14. Ads\n",
    "    15. Stock Market Trading\n",
    "    etc"
   ]
  },
  {
   "cell_type": "markdown",
   "metadata": {},
   "source": [
    "        Data --> Train and Test\n",
    "        \n",
    "            Train --> Train model from this data (70%)\n",
    "            Test --> Test the model whether it is working correctly (30%)"
   ]
  },
  {
   "cell_type": "markdown",
   "metadata": {},
   "source": [
    "    Types Of Machine Learning\n",
    "    \n",
    "    1. Supervised Learning\n",
    "            Data --> Train --> Labeled Data\n",
    "                Fraud Data --> Yes --> For Fraud\n",
    "                               No --> For not Fraud\n",
    "    2. Unsupervised Learning\n",
    "            Data --> Train --> Unlabeled\n",
    "            Clustering --> Clusters based on the properties\n",
    "    3. Semi-Supervised \n",
    "            Supervised (Train) + Unsupervised (Test)\n",
    "    4. NLP\n",
    "            Natural Language Processing  ( Languages )  EG --> Chatbot\n",
    "    5. Reinforcement\n",
    "            Deep Learning\n",
    "                (Neural Networks) \n",
    "            Robots\n",
    "            Keras, Tensorflow , OpenCV\n",
    "            \n",
    "    Applications --> WHich application is using which type of algorithm"
   ]
  },
  {
   "cell_type": "code",
   "execution_count": null,
   "metadata": {},
   "outputs": [],
   "source": []
  }
 ],
 "metadata": {
  "kernelspec": {
   "display_name": "Python 3",
   "language": "python",
   "name": "python3"
  },
  "language_info": {
   "codemirror_mode": {
    "name": "ipython",
    "version": 3
   },
   "file_extension": ".py",
   "mimetype": "text/x-python",
   "name": "python",
   "nbconvert_exporter": "python",
   "pygments_lexer": "ipython3",
   "version": "3.7.4"
  }
 },
 "nbformat": 4,
 "nbformat_minor": 2
}
