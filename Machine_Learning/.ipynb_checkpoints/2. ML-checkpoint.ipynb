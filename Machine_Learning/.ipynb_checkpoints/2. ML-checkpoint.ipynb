{
 "cells": [
  {
   "cell_type": "markdown",
   "metadata": {},
   "source": [
    "    Machine Learning\n",
    "    \n",
    "        In a task T, improve the performance P with experince E \n",
    "        \n",
    "        1. Past Data --> Future --> Performance\n",
    "        2. Real Time Data/ Environment --> Performance increase"
   ]
  },
  {
   "cell_type": "markdown",
   "metadata": {},
   "source": [
    "                Training Data   -----> \n",
    "                                        Machine ----> Trained Machine\n",
    "                Algorithm       ----->                 \n",
    "                \n",
    "                \n",
    "                Query    ---> Trained Machine ---> Output"
   ]
  },
  {
   "cell_type": "markdown",
   "metadata": {},
   "source": [
    "##### Algorithm ???\n",
    "    \n",
    "     Steps to complete a task\n",
    "     Steps to find something \n",
    "     It is a step by step procedure\n",
    "     \n",
    "     It is in normal language/english\n",
    "     \n",
    "     We convert this algorithm into our programming language (python/java/c++/c)\n",
    "     \n",
    "     \n",
    "     Machine Learning Algorithms --> Convert --->  Python --> Scratch\n",
    "     \n",
    "     Inbuild Algorithms that is in code itself --> Sciket learn (Sklearn)"
   ]
  },
  {
   "cell_type": "markdown",
   "metadata": {},
   "source": [
    "     Overall data\n",
    "         Split the whole data into 2 parts\n",
    "             1. Training Data\n",
    "                 Input and Output\n",
    "                 This is used to train the machine so that we can use it for testing\n",
    "             2. Testing Data\n",
    "                 Input and Output\n",
    "                 Give this input to machine and check whether the output given by machine and actual output\n",
    "                 are same or not\n",
    "                 This data is for testing the machine whether it is working correctly or not\n",
    "                 \n",
    "          Spliting Data\n",
    "              Training data --> 70%\n",
    "              Testing --> 30%\n",
    "         \n",
    "         No.    rooms       old         price\n",
    "         1.      3           2           18000\n",
    "         2.      2           1           15000\n",
    "         3.      2           3           12000\n",
    "         4.      4           2           20000\n",
    "         5.      3           1           20000\n",
    "         \n",
    "         Training --> 1,2,3\n",
    "         Testing --> 4,5\n",
    "         \n",
    "         Input --> rooms,old \n",
    "         Output --> price"
   ]
  },
  {
   "cell_type": "markdown",
   "metadata": {},
   "source": [
    "#### Types of Machine Learning\n",
    "\n",
    "\n",
    "    1. Supervised Algorithm\n",
    "        Train/Test Data  is labeled\n",
    "        a. Regression \n",
    "            Continous Data \n",
    "            Features --> Independent Variable --> room and year old\n",
    "            Target --> dependent Variable --> price\n",
    "            Linear Regression\n",
    "            Polynomial Regression\n",
    "        b. Classification\n",
    "            Categorial Data --> Girl, Boy\n",
    "                                Fraud, Not Fraud\n",
    "                                Versicolor, Setosa, Verginica\n",
    "                                1,2,3\n",
    "                                Fruit, Vegetables\n",
    "                                0,1\n",
    "                                1,0\n",
    "           1. Logistic Regression\n",
    "           2. Naive Bayes\n",
    "           3. Knn\n",
    "           4. SVM\n",
    "           5. Decision Tree\n",
    "    2. Unsupervised \n",
    "        Data is unlabeled\n",
    "        a. Dimension Reduction \n",
    "            PCA algorithm (Principal Component Analysis)\n",
    "        b. Clustering\n",
    "            Properties basied classification\n",
    "            0,1,2\n",
    "            kmeans algorithm\n",
    "    3. Semi-Supervised\n",
    "        Combination of supervised and unsupervised\n",
    "         Mixture of labeled and unlabeled data\n",
    "         Training data --> less labeled and more unlabeled data\n",
    "         Unlabeled data --> label data then take all the data and select an algorithm and perform predictopm\n",
    "    4. Reinforcement\n",
    "        Real time data/ Learn from environments\n",
    "    5. NLP\n",
    "        Natural Language Processing\n",
    "        Language --> English\n",
    "        Autofill, Chatbots, Mail Filters etc"
   ]
  },
  {
   "cell_type": "markdown",
   "metadata": {},
   "source": [
    "    Features --> Input\n",
    "    room and old \n",
    "    Target --> output\n",
    "    price\n",
    "    \n",
    "    \n",
    "    iris --> SL,PL,SW,PW, Species\n",
    "    Features --> SL,PL,SW,PW\n",
    "    Target --> Species"
   ]
  },
  {
   "cell_type": "markdown",
   "metadata": {},
   "source": [
    "    Algorithms\n",
    "    \n",
    "    1. Theory\n",
    "    2. Scratch\n",
    "    3. Sciket Learn"
   ]
  },
  {
   "cell_type": "markdown",
   "metadata": {},
   "source": [
    "    Time Series Forecasting\n",
    "        Date   Temperature\n",
    "        25      30\n",
    "        26      29\n",
    "        27      25\n",
    "        28      28\n",
    "        29      23\n",
    "        30      29\n",
    "        1        ??"
   ]
  },
  {
   "cell_type": "markdown",
   "metadata": {},
   "source": []
  }
 ],
 "metadata": {
  "kernelspec": {
   "display_name": "Python 3",
   "language": "python",
   "name": "python3"
  },
  "language_info": {
   "codemirror_mode": {
    "name": "ipython",
    "version": 3
   },
   "file_extension": ".py",
   "mimetype": "text/x-python",
   "name": "python",
   "nbconvert_exporter": "python",
   "pygments_lexer": "ipython3",
   "version": "3.7.4"
  }
 },
 "nbformat": 4,
 "nbformat_minor": 2
}
