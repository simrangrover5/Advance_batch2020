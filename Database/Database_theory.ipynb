{
 "cells": [
  {
   "cell_type": "markdown",
   "metadata": {},
   "source": [
    "    Database\n",
    "    \n",
    "        To store data\n",
    "        Data --> Anything raw fact or figures\n",
    "        Infomation --> Processed form of data\n",
    "                    Collection of data\n",
    "                    Getting something useful from data\n",
    "        Name      course    city\n",
    "        Simran    Python    Jaipur\n",
    "        \n",
    "        Simran studies python and lives in jaipur\n",
    "        \n",
    "        Data (Companies --> google,facebook,IBM,TCS)\n",
    "        Signup --> Data Store\n",
    "        Login --> Data Fetch\n",
    "        Queries\n",
    "        \n",
    "        \n",
    "        File Handling vs Database\n",
    "        Database Benefits\n",
    "        1. Large data store\n",
    "        2. Redundancy (Repitetion)\n",
    "        3. Easy Retrival (Queries)\n",
    "        4. Fast Access \n",
    "        5. Relationships\n",
    "        6. Security (permissions)\n",
    "        7. Structured (Non structured)\n",
    "        8. ACID Transaction Properties\n",
    "            A --> Atomicity --> Either complete or nothing\n",
    "            C --> Consistency --> Changes remains same after the successfull transaction.\n",
    "            I --> Isolation --> Transactions are independent\n",
    "            D --> Durability --> if data is store permanetly then it should not change even after the failure\n",
    "        "
   ]
  },
  {
   "cell_type": "markdown",
   "metadata": {},
   "source": [
    "            Emp_Name      Emp_id      Emp_course        Emp_address            Phno\n",
    "            Simran          1            Python           Malviya Nagar\n",
    "            Rajat           2            Linux            Malviya Nagar\n",
    "            Nidhi           3            Aws               Jagatpura\n",
    "            Manish          4            Ethical Hacking    Gopal Pura mod\n",
    "            Shivam          5              Null              Raja Park\n",
    "            \n",
    "            \n",
    "            EMP_id        Python        DS     Advance/Development  Ethical Hacking\n",
    "            1               Yes          Yes           Yes             No\n",
    "            4               Yes          no             no             Yes"
   ]
  },
  {
   "cell_type": "markdown",
   "metadata": {},
   "source": [
    "    Types Of database\n",
    "    \n",
    "    \n",
    "    1. SQL\n",
    "        Structured Query Language\n",
    "        \n",
    "        Structured --> Table format --> rows and columns\n",
    "        Query --> Queries Put\n",
    "        Language --> Rules, syntax\n",
    "        \n",
    "        RDBMS --> Relational Database Management System\n",
    "        \n",
    "        Eg --> MySQL, Oracle, Postgresql,mariadb,sqlite etc\n",
    "    2. No SQL\n",
    "        Non Structural Query Language\n",
    "            1.  {\n",
    "            \"id\" : 1\n",
    "            }\n",
    "            \n",
    "            {\n",
    "            \"id\" : 2,\n",
    "            \"name\" : \"simran\"\n",
    "            }\n",
    "            \n",
    "           No Relational DBMS\n",
    "            \n",
    "           Eg --> MongoDB"
   ]
  },
  {
   "cell_type": "markdown",
   "metadata": {},
   "source": [
    "### SQL \n",
    "        1. Mysql\n",
    "        2. Sqlite\n",
    "    "
   ]
  },
  {
   "cell_type": "markdown",
   "metadata": {},
   "source": [
    "        Database --> tables (structure/design) ---> data"
   ]
  },
  {
   "cell_type": "markdown",
   "metadata": {},
   "source": [
    "                    SQL Languagess\n",
    "                    \n",
    "                    1. DDL --> Data definition Lang.\n",
    "                                Schema --> Overall structure of your table\n",
    "                                1. create\n",
    "                                2. alter --> columns update (add col, remove col, col data type change)\n",
    "                                3. drop --> Data delete and table delete \n",
    "                                4. truncate --> data delete \n",
    "                                5. rename\n",
    "                                6. comment\n",
    "                    2. DML --> Data Manipulation Lang.\n",
    "                                1. insert\n",
    "                                2. update --> to change data\n",
    "                                3. delete --> delete particular row\n",
    "                                4. select\n",
    "                    3. DCL --> Data Control Lang.\n",
    "                                1. Grant (to give permissions)  \n",
    "                                2. Revoke (to take back permissions)\n",
    "                                SELECT, INSERT --> take back\n",
    "                    4. TCL --> Transaction Control Lang.\n",
    "                                1. commit --> permanently save the data\n",
    "                                2. savepoint \n",
    "                                3. rollback"
   ]
  },
  {
   "cell_type": "markdown",
   "metadata": {},
   "source": [
    "1. Different types of database use in different companies (top 10, Social)\n",
    "2. Different data types of database\n",
    "3. Entity Relationship Diagram"
   ]
  },
  {
   "cell_type": "markdown",
   "metadata": {},
   "source": [
    "          Keys:\n",
    "              1. Primary key  --> Uniquely Identify  (Not null) (Can be single in whole table)\n",
    "              2. Unique key --> Uniquely identify  (null)\n",
    "              3. Composite key --> more than two columns --> primary key\n",
    "                  name + id --> primary key\n",
    "              4. Candidate key --> columns eligible to become primary keys\n",
    "                  id, phno, email\n",
    "              5. Alternate key --> That cannot be primary key\n",
    "                  name, address, course\n",
    "              6. Foreign Key --> relate two tables\n",
    "                  and table can have multiple foreign keys\n",
    "              7. Super key \n",
    "                     combine all columns and make a single primary key"
   ]
  },
  {
   "cell_type": "markdown",
   "metadata": {},
   "source": [
    "    Application --> Mysql, xampp"
   ]
  },
  {
   "cell_type": "code",
   "execution_count": null,
   "metadata": {},
   "outputs": [],
   "source": []
  }
 ],
 "metadata": {
  "kernelspec": {
   "display_name": "Python 3",
   "language": "python",
   "name": "python3"
  },
  "language_info": {
   "codemirror_mode": {
    "name": "ipython",
    "version": 3
   },
   "file_extension": ".py",
   "mimetype": "text/x-python",
   "name": "python",
   "nbconvert_exporter": "python",
   "pygments_lexer": "ipython3",
   "version": "3.7.4"
  }
 },
 "nbformat": 4,
 "nbformat_minor": 2
}
