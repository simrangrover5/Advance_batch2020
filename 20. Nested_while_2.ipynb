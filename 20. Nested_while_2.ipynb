{
 "cells": [
  {
   "cell_type": "raw",
   "metadata": {},
   "source": [
    "    *                 1                    1\n",
    "   **                 1 2                  2 3 \n",
    "  ***                 1 2 3                4 5 6\n",
    " ****                 1 2 3 4              7 8 9 10 \n",
    "*****                 1 2 3 4 5            11 12 13 14 15 \n",
    "\n",
    "# do it from home"
   ]
  },
  {
   "cell_type": "code",
   "execution_count": 2,
   "metadata": {},
   "outputs": [
    {
     "name": "stdout",
     "output_type": "stream",
     "text": [
      "\n",
      " Enter number of rows : 5\n",
      "    *\n",
      "   **\n",
      "  ***\n",
      " ****\n",
      "*****\n"
     ]
    }
   ],
   "source": [
    "##1. * = number of rows and \" \" = n-row\n",
    "n = int(input(\"\\n Enter number of rows : \"))\n",
    "row = 1\n",
    "while row<=n:\n",
    "    print(\" \"*(n-row),end=\"\")\n",
    "    print(\"*\"*row)\n",
    "    row += 1\n",
    "    \n",
    "#outer loop --> row \n",
    "#nested loop --> 2 , one loop for space and one loop for *"
   ]
  },
  {
   "cell_type": "code",
   "execution_count": 4,
   "metadata": {},
   "outputs": [
    {
     "name": "stdout",
     "output_type": "stream",
     "text": [
      "\n",
      " Enter total number of rows : 6\n",
      "1 \n",
      "2 3 \n",
      "4 5 6 \n",
      "7 8 9 10 \n",
      "11 12 13 14 15 \n",
      "16 17 18 19 20 21 \n"
     ]
    }
   ],
   "source": [
    "##2\n",
    "n = int(input(\"\\n Enter total number of rows : \"))\n",
    "row = 1\n",
    "k = 1\n",
    "while row<=n:\n",
    "    col = 1\n",
    "    while col<=row:\n",
    "        print(k,end=\" \")\n",
    "        k += 1\n",
    "        col += 1\n",
    "    print()  #for new line after each column loop\n",
    "    row += 1"
   ]
  },
  {
   "cell_type": "raw",
   "metadata": {},
   "source": [
    "1 0 0 0 0                   A\n",
    "1 1 0 0 0                   B C\n",
    "1 1 1 0 0                   D E F\n",
    "1 1 1 1 0                   G H I J\n",
    "1 1 1 1 1                   K L M N O"
   ]
  },
  {
   "cell_type": "raw",
   "metadata": {},
   "source": [
    "A\n",
    "B B\n",
    "C C C\n",
    "D D D D\n",
    "E E E E E"
   ]
  },
  {
   "cell_type": "code",
   "execution_count": 5,
   "metadata": {},
   "outputs": [
    {
     "data": {
      "text/plain": [
       "'A'"
      ]
     },
     "execution_count": 5,
     "metadata": {},
     "output_type": "execute_result"
    }
   ],
   "source": [
    "chr(65)"
   ]
  },
  {
   "cell_type": "code",
   "execution_count": 6,
   "metadata": {},
   "outputs": [
    {
     "data": {
      "text/plain": [
       "'B'"
      ]
     },
     "execution_count": 6,
     "metadata": {},
     "output_type": "execute_result"
    }
   ],
   "source": [
    "chr(66)"
   ]
  },
  {
   "cell_type": "code",
   "execution_count": 7,
   "metadata": {},
   "outputs": [
    {
     "data": {
      "text/plain": [
       "'U'"
      ]
     },
     "execution_count": 7,
     "metadata": {},
     "output_type": "execute_result"
    }
   ],
   "source": [
    "chr(85)"
   ]
  },
  {
   "cell_type": "code",
   "execution_count": 8,
   "metadata": {},
   "outputs": [
    {
     "data": {
      "text/plain": [
       "'W'"
      ]
     },
     "execution_count": 8,
     "metadata": {},
     "output_type": "execute_result"
    }
   ],
   "source": [
    "chr(87)"
   ]
  },
  {
   "cell_type": "code",
   "execution_count": 9,
   "metadata": {},
   "outputs": [
    {
     "data": {
      "text/plain": [
       "'Z'"
      ]
     },
     "execution_count": 9,
     "metadata": {},
     "output_type": "execute_result"
    }
   ],
   "source": [
    "chr(90)"
   ]
  },
  {
   "cell_type": "code",
   "execution_count": 12,
   "metadata": {},
   "outputs": [
    {
     "name": "stdout",
     "output_type": "stream",
     "text": [
      "A,B,C,D,E,F,G,H,I,J,K,L,M,N,O,P,Q,R,S,T,U,V,W,X,Y,Z,"
     ]
    }
   ],
   "source": [
    "i = 65\n",
    "while i<=90:\n",
    "    print(chr(i),end=\",\")\n",
    "    i += 1"
   ]
  },
  {
   "cell_type": "code",
   "execution_count": 14,
   "metadata": {},
   "outputs": [
    {
     "name": "stdout",
     "output_type": "stream",
     "text": [
      "Number : 5\n",
      "A \n",
      "B B \n",
      "C C C \n",
      "D D D D \n",
      "E E E E E \n"
     ]
    }
   ],
   "source": [
    "n = int(input(\"Number : \"))\n",
    "row = 0\n",
    "i = 65\n",
    "while row<n:\n",
    "    col = 0\n",
    "    while col<=row:\n",
    "        print(chr(i),end=\" \")\n",
    "        col += 1\n",
    "    print()\n",
    "    i += 1\n",
    "    row += 1"
   ]
  },
  {
   "cell_type": "raw",
   "metadata": {},
   "source": [
    "A\n",
    "A B\n",
    "A B C\n",
    "A B C D\n",
    "A B C D E"
   ]
  },
  {
   "cell_type": "code",
   "execution_count": 16,
   "metadata": {},
   "outputs": [
    {
     "name": "stdout",
     "output_type": "stream",
     "text": [
      "Number : 5\n",
      "A \n",
      "A B \n",
      "A B C \n",
      "A B C D \n",
      "A B C D E \n"
     ]
    }
   ],
   "source": [
    "n = int(input(\"Number : \"))\n",
    "row = 0\n",
    "while row<n:\n",
    "    i = 65\n",
    "    col = 0\n",
    "    while col<=row:\n",
    "        print(chr(i),end=\" \")\n",
    "        col += 1\n",
    "        i += 1\n",
    "    print()\n",
    "    row += 1"
   ]
  },
  {
   "cell_type": "code",
   "execution_count": 17,
   "metadata": {},
   "outputs": [
    {
     "name": "stdout",
     "output_type": "stream",
     "text": [
      "5\n",
      "4\n",
      "3\n",
      "2\n",
      "1\n"
     ]
    },
    {
     "ename": "IndexError",
     "evalue": "pop from empty list",
     "output_type": "error",
     "traceback": [
      "\u001b[1;31m---------------------------------------------------------------------\u001b[0m",
      "\u001b[1;31mIndexError\u001b[0m                          Traceback (most recent call last)",
      "\u001b[1;32m<ipython-input-17-8d2b7d73fbd1>\u001b[0m in \u001b[0;36m<module>\u001b[1;34m\u001b[0m\n\u001b[0;32m      3\u001b[0m \u001b[1;32mwhile\u001b[0m \u001b[0mlen\u001b[0m\u001b[1;33m(\u001b[0m\u001b[0ml1\u001b[0m\u001b[1;33m)\u001b[0m\u001b[1;33m:\u001b[0m\u001b[1;33m\u001b[0m\u001b[1;33m\u001b[0m\u001b[0m\n\u001b[0;32m      4\u001b[0m     \u001b[1;32mwhile\u001b[0m \u001b[0mlen\u001b[0m\u001b[1;33m(\u001b[0m\u001b[0ml2\u001b[0m\u001b[1;33m)\u001b[0m\u001b[1;33m:\u001b[0m\u001b[1;33m\u001b[0m\u001b[1;33m\u001b[0m\u001b[0m\n\u001b[1;32m----> 5\u001b[1;33m         \u001b[0mprint\u001b[0m\u001b[1;33m(\u001b[0m\u001b[0ml1\u001b[0m\u001b[1;33m.\u001b[0m\u001b[0mpop\u001b[0m\u001b[1;33m(\u001b[0m\u001b[1;33m)\u001b[0m\u001b[1;33m)\u001b[0m\u001b[1;33m\u001b[0m\u001b[1;33m\u001b[0m\u001b[0m\n\u001b[0m\u001b[0;32m      6\u001b[0m     \u001b[0mprint\u001b[0m\u001b[1;33m(\u001b[0m\u001b[0ml2\u001b[0m\u001b[1;33m.\u001b[0m\u001b[0mpop\u001b[0m\u001b[1;33m(\u001b[0m\u001b[1;33m)\u001b[0m\u001b[1;33m)\u001b[0m\u001b[1;33m\u001b[0m\u001b[1;33m\u001b[0m\u001b[0m\n",
      "\u001b[1;31mIndexError\u001b[0m: pop from empty list"
     ]
    }
   ],
   "source": [
    "l1 = [1,2,3,4,5]\n",
    "l2 = [2,3,4,5]\n",
    "while len(l1):  #while 5:\n",
    "    while len(l2):    #while 4: --> While True\n",
    "        print(l1.pop())     \n",
    "    print(l2.pop())"
   ]
  },
  {
   "cell_type": "code",
   "execution_count": 19,
   "metadata": {},
   "outputs": [
    {
     "data": {
      "text/plain": [
       "[2, 3, 4, 5]"
      ]
     },
     "execution_count": 19,
     "metadata": {},
     "output_type": "execute_result"
    }
   ],
   "source": [
    "l2"
   ]
  },
  {
   "cell_type": "code",
   "execution_count": 20,
   "metadata": {},
   "outputs": [
    {
     "name": "stdout",
     "output_type": "stream",
     "text": [
      "7\n",
      "30\n",
      "30\n",
      "20\n",
      "10\n",
      "6\n"
     ]
    }
   ],
   "source": [
    "l1 = [1,2,3,4,5,6,7]\n",
    "l2 = [10,20,30,30]\n",
    "while len(l2):  #while 4\n",
    "    print(l1.pop()) \n",
    "    while len(l2):  #while 4\n",
    "        print(l2.pop()) #30 --> while 3 --> 30 --> while 2 --> 20 --> while 1 --> 10 --> while []\n",
    "    print(l1.pop())"
   ]
  },
  {
   "cell_type": "code",
   "execution_count": 3,
   "metadata": {},
   "outputs": [
    {
     "name": "stdout",
     "output_type": "stream",
     "text": [
      "Overwriting t1.py\n"
     ]
    }
   ],
   "source": [
    "%%writefile t1.py\n",
    "\n",
    "import turtle\n",
    "\n",
    "height = int(input(\"\\n Enter the height : \"))\n",
    "width = int(input(\"\\n Enter the width : \"))\n",
    "pen = turtle.Pen()\n",
    "i = 1\n",
    "while i<=4:\n",
    "    if i%2 == 0:\n",
    "        pen.forward(width)\n",
    "    else:\n",
    "        pen.forward(height)\n",
    "    pen.left(90)\n",
    "    i += 1\n",
    "    \n",
    "turtle.exitonclick()"
   ]
  },
  {
   "cell_type": "code",
   "execution_count": 2,
   "metadata": {},
   "outputs": [
    {
     "name": "stdout",
     "output_type": "stream",
     "text": [
      " Volume in drive C is Windows\n",
      " Volume Serial Number is E08D-DAD9\n",
      "\n",
      " Directory of C:\\batches\\online_batch\\batch_7pm\n",
      "\n",
      "07-05-2020  20:06    <DIR>          .\n",
      "07-05-2020  20:06    <DIR>          ..\n",
      "07-05-2020  19:20    <DIR>          .ipynb_checkpoints\n",
      "22-04-2020  20:49            62,603 10. Sets.ipynb\n",
      "23-04-2020  20:40            50,028 11. Type_conversion.ipynb\n",
      "24-04-2020  20:46            51,378 12. Operators.ipynb\n",
      "28-04-2020  20:32            18,441 13.Control_Statements.ipynb\n",
      "29-04-2020  20:34            23,138 14. if_else_2.ipynb\n",
      "01-05-2020  19:32            26,173 15. if_else_3.ipynb\n",
      "04-05-2020  20:48         1,986,359 16. While_Loop_1.ipynb\n",
      "04-05-2020  20:42            14,599 17. While_loop_2.ipynb\n",
      "05-05-2020  20:50         2,279,730 18. while_loop_3.ipynb\n",
      "07-05-2020  19:56            18,601 19. nested_while.ipynb\n",
      "10-04-2020  20:30            47,841 2. Strings.ipynb\n",
      "07-05-2020  20:05             9,105 20. Nested_while_2.ipynb\n",
      "11-04-2020  19:20            28,234 3. Strings.ipynb\n",
      "13-04-2020  20:34            41,029 4. Lists.ipynb\n",
      "18-04-2020  11:11            50,932 6. lists_tuple.ipynb\n",
      "20-04-2020  20:14            41,783 7. Dictionary.ipynb\n",
      "20-04-2020  20:30            28,015 8. Dictionary.ipynb\n",
      "21-04-2020  20:33            18,217 9. Sets.ipynb\n",
      "08-04-2020  19:51               165 abc.txt\n",
      "16-04-2020  20:35    <DIR>          Backup\n",
      "02-04-2020  10:14             5,138 break_statement_flowchart.png\n",
      "08-04-2020  20:19             5,237 Class_1.ipynb\n",
      "02-04-2020  10:14             6,040 continue-statement-flowchart.png\n",
      "09-04-2020  20:30            21,806 Data_types.ipynb\n",
      "27-04-2020  20:40            21,967 Doubts.ipynb\n",
      "14-04-2020  21:30            42,013 Lists_2.ipynb\n",
      "07-04-2020  19:19                62 one.txt\n",
      "30-04-2020  19:35               635 s_p_s.py\n",
      "07-05-2020  20:06               267 t1.py\n",
      "              28 File(s)      4,899,536 bytes\n",
      "               4 Dir(s)  79,536,418,816 bytes free\n"
     ]
    }
   ],
   "source": [
    "ls"
   ]
  },
  {
   "cell_type": "code",
   "execution_count": 4,
   "metadata": {},
   "outputs": [
    {
     "name": "stdout",
     "output_type": "stream",
     "text": [
      "Writing square.py\n"
     ]
    }
   ],
   "source": [
    "%%writefile square.py\n",
    "\n",
    "import turtle\n",
    "\n",
    "height = int(input(\"\\n Enter the height : \"))\n",
    "pen = turtle.Pen()\n",
    "i = 1\n",
    "while i<=4:\n",
    "    pen.forward(height)\n",
    "    pen.left(90)\n",
    "    i += 1\n",
    "    \n",
    "turtle.exitonclick()"
   ]
  },
  {
   "cell_type": "code",
   "execution_count": 8,
   "metadata": {},
   "outputs": [
    {
     "name": "stdout",
     "output_type": "stream",
     "text": [
      "Overwriting t3.py\n"
     ]
    }
   ],
   "source": [
    "%%writefile t3.py\n",
    "\n",
    "import turtle\n",
    "\n",
    "rad = int(input(\"\\n Enter the radius : \"))\n",
    "pen = turtle.Pen()\n",
    "pen.right(90)\n",
    "pen.up()  #it will not show anything that will be drawn on the interface\n",
    "pen.forward(50)\n",
    "pen.down()\n",
    "pen.color('red','blue')  #color(foreground,background)\n",
    "pen.begin_fill()\n",
    "pen.circle(rad)\n",
    "pen.end_fill()  #fill the background color into your circle\n",
    "\n",
    "turtle.exitonclick()"
   ]
  },
  {
   "cell_type": "code",
   "execution_count": 13,
   "metadata": {},
   "outputs": [
    {
     "name": "stdout",
     "output_type": "stream",
     "text": [
      "Overwriting circles.py\n"
     ]
    }
   ],
   "source": [
    "%%writefile circles.py\n",
    "\n",
    "import turtle\n",
    "from random import choice\n",
    "\n",
    "pen = turtle.Pen()\n",
    "rad = 70\n",
    "i = 1\n",
    "colors = ['red','#123456','#C46855','#A47267']\n",
    "while i<=5:\n",
    "    c = choice(colors)\n",
    "    pen.color('black',c)\n",
    "    pen.begin_fill()\n",
    "    pen.circle(rad)\n",
    "    pen.end_fill()\n",
    "    rad += 10\n",
    "    i += 1\n",
    "\n",
    "turtle.exitonclick()"
   ]
  },
  {
   "cell_type": "code",
   "execution_count": 21,
   "metadata": {},
   "outputs": [
    {
     "name": "stdout",
     "output_type": "stream",
     "text": [
      "Overwriting circles1.py\n"
     ]
    }
   ],
   "source": [
    "%%writefile circles1.py\n",
    "\n",
    "import turtle\n",
    "from random import choice\n",
    "\n",
    "pen = turtle.Pen()\n",
    "rad = 160\n",
    "i = 1\n",
    "colors = ['#123456','#C46855','#A47267']\n",
    "while i<=5:\n",
    "    c = choice(colors)\n",
    "    pen.color('black',c)\n",
    "    pen.begin_fill()\n",
    "    pen.circle(rad)\n",
    "    pen.end_fill()\n",
    "    pen.left(90)\n",
    "    pen.up()\n",
    "    pen.forward(20)\n",
    "    pen.down()\n",
    "    pen.right(90)\n",
    "    rad -= 20\n",
    "    i += 1\n",
    "\n",
    "turtle.exitonclick()"
   ]
  },
  {
   "cell_type": "markdown",
   "metadata": {},
   "source": [
    "                forward --> move the cursor with the distance passed as argument to forward\n",
    "                backward --> move the cursor with the distance\n",
    "                left(angle) --> it will change the direction of cursor toward left to that angle\n",
    "                right(angle) --> it the change the direction of cursor towards right to that angle"
   ]
  },
  {
   "cell_type": "markdown",
   "metadata": {},
   "source": [
    "    1. Take input from the user at which direction it wants to move and the distance\n",
    "    2. Take input from the user untill it does not exit.\n",
    "    3. At last you have to print the total distance that particular user moves"
   ]
  },
  {
   "cell_type": "code",
   "execution_count": null,
   "metadata": {},
   "outputs": [],
   "source": [
    "###for loop"
   ]
  }
 ],
 "metadata": {
  "kernelspec": {
   "display_name": "Python 3",
   "language": "python",
   "name": "python3"
  },
  "language_info": {
   "codemirror_mode": {
    "name": "ipython",
    "version": 3
   },
   "file_extension": ".py",
   "mimetype": "text/x-python",
   "name": "python",
   "nbconvert_exporter": "python",
   "pygments_lexer": "ipython3",
   "version": "3.7.4"
  }
 },
 "nbformat": 4,
 "nbformat_minor": 2
}
