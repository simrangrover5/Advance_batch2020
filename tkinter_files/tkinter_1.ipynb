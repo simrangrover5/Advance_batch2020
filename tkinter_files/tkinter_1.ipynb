{
 "cells": [
  {
   "cell_type": "markdown",
   "metadata": {},
   "source": [
    "        Tkinter\n",
    "            1. Desktop application\n",
    "                GUI --> Graphical User Interface"
   ]
  },
  {
   "cell_type": "code",
   "execution_count": 3,
   "metadata": {},
   "outputs": [
    {
     "name": "stdout",
     "output_type": "stream",
     "text": [
      "Overwriting t1.py\n"
     ]
    }
   ],
   "source": [
    "%%writefile t1.py\n",
    "\n",
    "import tkinter as tk\n",
    "\n",
    "root = tk.Tk()  #root window creation\n",
    "\n",
    "\n",
    "root.mainloop()"
   ]
  },
  {
   "cell_type": "code",
   "execution_count": 4,
   "metadata": {},
   "outputs": [],
   "source": [
    "!python t1.py"
   ]
  },
  {
   "cell_type": "code",
   "execution_count": 5,
   "metadata": {},
   "outputs": [
    {
     "name": "stdout",
     "output_type": "stream",
     "text": [
      "Overwriting t1.py\n"
     ]
    }
   ],
   "source": [
    "%%writefile t1.py\n",
    "\n",
    "import tkinter as tk\n",
    "\n",
    "root = tk.Tk()  #root window creation\n",
    "root.configure(bg=\"black\")\n",
    "\n",
    "root.mainloop()"
   ]
  },
  {
   "cell_type": "code",
   "execution_count": 11,
   "metadata": {},
   "outputs": [],
   "source": [
    "!python t1.py"
   ]
  },
  {
   "cell_type": "code",
   "execution_count": 9,
   "metadata": {},
   "outputs": [
    {
     "name": "stdout",
     "output_type": "stream",
     "text": [
      "Overwriting t1.py\n"
     ]
    }
   ],
   "source": [
    "%%writefile t1.py\n",
    "\n",
    "import tkinter as tk\n",
    "\n",
    "root = tk.Tk()  #root window creation\n",
    "root.configure(bg=\"black\")\n",
    "root.title(\"MyWindow\")\n",
    "root.iconbitmap(\"myicon.ico\")  #give ico file in this function \n",
    "\n",
    "root.mainloop()"
   ]
  },
  {
   "cell_type": "code",
   "execution_count": 18,
   "metadata": {},
   "outputs": [
    {
     "name": "stdout",
     "output_type": "stream",
     "text": [
      "Overwriting t1.py\n"
     ]
    }
   ],
   "source": [
    "%%writefile t1.py\n",
    "\n",
    "import tkinter as tk\n",
    "\n",
    "root = tk.Tk()  #root window creation\n",
    "root.configure(bg=\"black\")\n",
    "root.title(\"MyWindow\")\n",
    "root.iconbitmap(\"myicon.ico\")  #give ico file in this function \n",
    "root.wm_minsize(600,600)\n",
    "#root.wm_maxsize(600,600)\n",
    "root.mainloop()"
   ]
  },
  {
   "cell_type": "code",
   "execution_count": 19,
   "metadata": {},
   "outputs": [],
   "source": [
    "!python t1.py"
   ]
  },
  {
   "cell_type": "code",
   "execution_count": 21,
   "metadata": {},
   "outputs": [],
   "source": [
    "import tkinter as tk"
   ]
  },
  {
   "cell_type": "code",
   "execution_count": 22,
   "metadata": {},
   "outputs": [],
   "source": [
    "root = tk.Tk()"
   ]
  },
  {
   "cell_type": "code",
   "execution_count": 25,
   "metadata": {},
   "outputs": [
    {
     "data": {
      "text/plain": [
       "864"
      ]
     },
     "execution_count": 25,
     "metadata": {},
     "output_type": "execute_result"
    }
   ],
   "source": [
    "root.winfo_screenheight()"
   ]
  },
  {
   "cell_type": "code",
   "execution_count": 26,
   "metadata": {},
   "outputs": [
    {
     "data": {
      "text/plain": [
       "1536"
      ]
     },
     "execution_count": 26,
     "metadata": {},
     "output_type": "execute_result"
    }
   ],
   "source": [
    "root.winfo_screenwidth()"
   ]
  },
  {
   "cell_type": "code",
   "execution_count": null,
   "metadata": {},
   "outputs": [],
   "source": [
    "root.wm_minsize()"
   ]
  },
  {
   "cell_type": "code",
   "execution_count": 27,
   "metadata": {},
   "outputs": [
    {
     "name": "stdout",
     "output_type": "stream",
     "text": [
      "Overwriting t1.py\n"
     ]
    }
   ],
   "source": [
    "%%writefile t1.py\n",
    "\n",
    "import tkinter as tk\n",
    "\n",
    "root = tk.Tk()  #root window creation\n",
    "root.configure(bg=\"black\")\n",
    "root.title(\"MyWindow\")\n",
    "root.iconbitmap(\"myicon.ico\")  #give ico file in this function \n",
    "w = root.winfo_screenwidth()//2\n",
    "h = root.winfo_screenheight()//2\n",
    "root.wm_minsize(w,h)\n",
    "#root.wm_maxsize(600,600)\n",
    "root.mainloop()"
   ]
  },
  {
   "cell_type": "code",
   "execution_count": 30,
   "metadata": {},
   "outputs": [],
   "source": [
    "!python t1.py"
   ]
  },
  {
   "cell_type": "code",
   "execution_count": 29,
   "metadata": {},
   "outputs": [
    {
     "name": "stdout",
     "output_type": "stream",
     "text": [
      "Overwriting t1.py\n"
     ]
    }
   ],
   "source": [
    "%%writefile t1.py\n",
    "\n",
    "import tkinter as tk\n",
    "\n",
    "root = tk.Tk()  #root window creation\n",
    "root.configure(bg=\"black\")\n",
    "root.title(\"MyWindow\")\n",
    "root.iconbitmap(\"myicon.ico\")  #give ico file in this function \n",
    "w = root.winfo_screenwidth()//2\n",
    "h = root.winfo_screenheight()//2\n",
    "root.wm_minsize(w,h)\n",
    "#root.wm_maxsize(600,600)\n",
    "root.resizable(0,0)\n",
    "root.mainloop()"
   ]
  },
  {
   "cell_type": "code",
   "execution_count": 32,
   "metadata": {},
   "outputs": [
    {
     "name": "stdout",
     "output_type": "stream",
     "text": [
      "['a', 'b', 'c', 'd', 'e', 'f']\n"
     ]
    }
   ],
   "source": [
    "l = ['a','b','c','d']\n",
    "l += \"ef\"\n",
    "print(l)"
   ]
  },
  {
   "cell_type": "code",
   "execution_count": 33,
   "metadata": {},
   "outputs": [
    {
     "ename": "TypeError",
     "evalue": "can only concatenate list (not \"str\") to list",
     "output_type": "error",
     "traceback": [
      "\u001b[1;31m---------------------------------------------------------------------------\u001b[0m",
      "\u001b[1;31mTypeError\u001b[0m                                 Traceback (most recent call last)",
      "\u001b[1;32m<ipython-input-33-d453de8be1d1>\u001b[0m in \u001b[0;36m<module>\u001b[1;34m\u001b[0m\n\u001b[1;32m----> 1\u001b[1;33m \u001b[0ml\u001b[0m \u001b[1;33m+\u001b[0m \u001b[1;34m\"ef\"\u001b[0m\u001b[1;33m\u001b[0m\u001b[1;33m\u001b[0m\u001b[0m\n\u001b[0m",
      "\u001b[1;31mTypeError\u001b[0m: can only concatenate list (not \"str\") to list"
     ]
    }
   ],
   "source": [
    "l + \"ef\""
   ]
  },
  {
   "cell_type": "code",
   "execution_count": 34,
   "metadata": {},
   "outputs": [
    {
     "name": "stdout",
     "output_type": "stream",
     "text": [
      "['a', 'b', 'c', 'd', 1, 2, 3]\n"
     ]
    }
   ],
   "source": [
    "l = ['a','b','c','d']\n",
    "l += [1,2,3]\n",
    "print(l)"
   ]
  },
  {
   "cell_type": "code",
   "execution_count": 35,
   "metadata": {},
   "outputs": [
    {
     "ename": "TypeError",
     "evalue": "can only concatenate list (not \"str\") to list",
     "output_type": "error",
     "traceback": [
      "\u001b[1;31m---------------------------------------------------------------------------\u001b[0m",
      "\u001b[1;31mTypeError\u001b[0m                                 Traceback (most recent call last)",
      "\u001b[1;32m<ipython-input-35-41e6b0a2eeac>\u001b[0m in \u001b[0;36m<module>\u001b[1;34m\u001b[0m\n\u001b[1;32m----> 1\u001b[1;33m \u001b[0ml\u001b[0m \u001b[1;33m+\u001b[0m \u001b[1;34m\"hello\"\u001b[0m\u001b[1;33m\u001b[0m\u001b[1;33m\u001b[0m\u001b[0m\n\u001b[0m",
      "\u001b[1;31mTypeError\u001b[0m: can only concatenate list (not \"str\") to list"
     ]
    }
   ],
   "source": [
    "l + \"hello\""
   ]
  },
  {
   "cell_type": "code",
   "execution_count": 36,
   "metadata": {},
   "outputs": [],
   "source": [
    "l += \"hello\""
   ]
  },
  {
   "cell_type": "code",
   "execution_count": 37,
   "metadata": {},
   "outputs": [
    {
     "data": {
      "text/plain": [
       "['a', 'b', 'c', 'd', 1, 2, 3, 'h', 'e', 'l', 'l', 'o']"
      ]
     },
     "execution_count": 37,
     "metadata": {},
     "output_type": "execute_result"
    }
   ],
   "source": [
    "l"
   ]
  },
  {
   "cell_type": "markdown",
   "metadata": {},
   "source": [
    "### Widgets\n",
    "\n",
    "    1. label\n",
    "    2. button\n",
    "    3. Frame\n",
    "    4. Scrollbar\n",
    "    5. Menubar\n",
    "    6. Entry\n",
    "    7. Text\n",
    "    8. PhotoImage (label)\n",
    "    9. List\n",
    "    10. Dropdown\n",
    "    etc"
   ]
  },
  {
   "cell_type": "code",
   "execution_count": 42,
   "metadata": {},
   "outputs": [
    {
     "name": "stdout",
     "output_type": "stream",
     "text": [
      "Overwriting t2.py\n"
     ]
    }
   ],
   "source": [
    "%%writefile t2.py\n",
    "\n",
    "import tkinter as tk\n",
    "\n",
    "root = tk.Tk()  #root window creation\n",
    "root.configure(bg=\"black\")\n",
    "root.title(\"MyWindow\")\n",
    "root.iconbitmap(\"myicon.ico\")  #give ico file in this function \n",
    "w = root.winfo_screenwidth()//2\n",
    "h = root.winfo_screenheight()//2\n",
    "root.wm_minsize(w,h)\n",
    "#root.wm_maxsize(600,600)\n",
    "root.resizable(0,0)\n",
    "\n",
    "l1 = tk.Label(root,text=\"WELCOME TO MY FIRST WINDOW\",bg=\"black\",fg=\"white\",font=[None,24])\n",
    "l2 = tk.Label(root,text=\"THIS IS MY SECOND LABEL\",bg=\"black\",fg=\"red\",font=[None,24])\n",
    "\n",
    "l1.pack()\n",
    "l2.pack()\n",
    "\n",
    "root.mainloop()"
   ]
  },
  {
   "cell_type": "code",
   "execution_count": 43,
   "metadata": {},
   "outputs": [],
   "source": [
    "!python t2.py"
   ]
  },
  {
   "cell_type": "code",
   "execution_count": null,
   "metadata": {},
   "outputs": [],
   "source": [
    "#pack,grid,place"
   ]
  },
  {
   "cell_type": "code",
   "execution_count": 52,
   "metadata": {},
   "outputs": [
    {
     "name": "stdout",
     "output_type": "stream",
     "text": [
      "Overwriting t2.py\n"
     ]
    }
   ],
   "source": [
    "%%writefile t2.py\n",
    "\n",
    "import tkinter as tk\n",
    "\n",
    "root = tk.Tk()  #root window creation\n",
    "root.configure(bg=\"black\")\n",
    "root.title(\"MyWindow\")\n",
    "root.iconbitmap(\"myicon.ico\")  #give ico file in this function \n",
    "w = root.winfo_screenwidth()//2\n",
    "h = root.winfo_screenheight()//2\n",
    "root.wm_minsize(w,h)\n",
    "#root.wm_maxsize(600,600)\n",
    "root.resizable(0,0)\n",
    "\n",
    "l1 = tk.Label(root,text=\"WELCOME TO MY FIRST WINDOW\",bg=\"black\",fg=\"white\",font=[None,24])\n",
    "l2 = tk.Label(root,text=\"THIS IS MY SECOND LABEL\",bg=\"black\",fg=\"red\",font=[None,24])\n",
    "\n",
    "b1 = tk.Button(root,text=\"Button1\",fg=\"yellow\",bg=\"black\")\n",
    "b2 = tk.Button(root,text=\"Button2\",fg=\"yellow\",bg=\"black\")\n",
    "\n",
    "l2.pack()\n",
    "l1.pack()\n",
    "\n",
    "b1.pack(side=\"left\")\n",
    "b2.pack(side=\"right\")\n",
    "\n",
    "root.mainloop()"
   ]
  },
  {
   "cell_type": "code",
   "execution_count": 53,
   "metadata": {},
   "outputs": [],
   "source": [
    "!python t2.py"
   ]
  },
  {
   "cell_type": "code",
   "execution_count": 23,
   "metadata": {},
   "outputs": [],
   "source": [
    "l1 = tk.Label(root)"
   ]
  },
  {
   "cell_type": "code",
   "execution_count": 56,
   "metadata": {},
   "outputs": [
    {
     "name": "stdout",
     "output_type": "stream",
     "text": [
      "Help on method pack_configure in module tkinter:\n",
      "\n",
      "pack_configure(cnf={}, **kw) method of tkinter.Label instance\n",
      "    Pack a widget in the parent widget. Use as options:\n",
      "    after=widget - pack it after you have packed widget\n",
      "    anchor=NSEW (or subset) - position widget according to\n",
      "                              given direction\n",
      "    before=widget - pack it before you will pack widget\n",
      "    expand=bool - expand widget if parent size grows\n",
      "    fill=NONE or X or Y or BOTH - fill widget if widget grows\n",
      "    in=master - use master to contain this widget\n",
      "    in_=master - see 'in' option description\n",
      "    ipadx=amount - add internal padding in x direction\n",
      "    ipady=amount - add internal padding in y direction\n",
      "    padx=amount - add padding in x direction\n",
      "    pady=amount - add padding in y direction\n",
      "    side=TOP or BOTTOM or LEFT or RIGHT -  where to add this widget.\n",
      "\n"
     ]
    }
   ],
   "source": [
    "help(l1.pack)"
   ]
  },
  {
   "cell_type": "code",
   "execution_count": 72,
   "metadata": {},
   "outputs": [
    {
     "name": "stdout",
     "output_type": "stream",
     "text": [
      "Overwriting t2.py\n"
     ]
    }
   ],
   "source": [
    "%%writefile t2.py\n",
    "\n",
    "import tkinter as tk\n",
    "\n",
    "root = tk.Tk()  #root window creation\n",
    "root.configure(bg=\"black\")\n",
    "root.title(\"MyWindow\")\n",
    "root.iconbitmap(\"myicon.ico\")  #give ico file in this function \n",
    "w = root.winfo_screenwidth()//2\n",
    "h = root.winfo_screenheight()//2\n",
    "root.wm_minsize(w,h)\n",
    "#root.wm_maxsize(600,600)\n",
    "root.resizable(0,0)\n",
    "\n",
    "l1 = tk.Label(root,text=\"WELCOME TO MY FIRST WINDOW\",bg=\"black\",fg=\"white\",font=[None,24])\n",
    "l2 = tk.Label(root,text=\"THIS IS MY SECOND LABEL\",bg=\"black\",fg=\"red\",font=[None,24])\n",
    "\n",
    "b1 = tk.Button(root,text=\"Button1\",fg=\"yellow\",bg=\"black\",height=4,width=10,font=[None,15,\"italic\"])\n",
    "b2 = tk.Button(root,text=\"Button2\",fg=\"yellow\",bg=\"black\",font=[None,15,\"italic\"])\n",
    "\n",
    "l2.pack()\n",
    "l1.pack()\n",
    "\n",
    "b1.pack(anchor=tk.W)\n",
    "b2.pack()\n",
    "\n",
    "root.mainloop()"
   ]
  },
  {
   "cell_type": "code",
   "execution_count": 73,
   "metadata": {},
   "outputs": [],
   "source": [
    "!python t2.py"
   ]
  },
  {
   "cell_type": "code",
   "execution_count": 88,
   "metadata": {},
   "outputs": [
    {
     "name": "stdout",
     "output_type": "stream",
     "text": [
      "Overwriting t2.py\n"
     ]
    }
   ],
   "source": [
    "%%writefile t2.py\n",
    "\n",
    "import tkinter as tk\n",
    "\n",
    "root = tk.Tk()  #root window creation\n",
    "root.configure(bg=\"black\")\n",
    "root.title(\"MyWindow\")\n",
    "root.iconbitmap(\"myicon.ico\")  #give ico file in this function \n",
    "w = root.winfo_screenwidth()//2\n",
    "h = root.winfo_screenheight()//2\n",
    "root.wm_minsize(w,h)\n",
    "#root.wm_maxsize(600,600)\n",
    "root.resizable(0,0)\n",
    "\n",
    "l1 = tk.Label(root,text=\"WELCOME TO MY FIRST WINDOW\",bg=\"black\",fg=\"white\",font=[None,24])\n",
    "l2 = tk.Label(root,text=\"THIS IS MY SECOND LABEL\",bg=\"black\",fg=\"red\",font=[None,24])\n",
    "\n",
    "b1 = tk.Button(root,text=\"Button1\",fg=\"yellow\",bg=\"black\",font=[None,15,\"italic\"])\n",
    "b2 = tk.Button(root,text=\"Button2\",fg=\"yellow\",bg=\"black\",font=[None,15,\"italic\"])\n",
    "\n",
    "l2.pack(pady=(30,0))\n",
    "l1.pack()\n",
    "\n",
    "b1.pack(ipadx=50,ipady=50)\n",
    "b2.pack()\n",
    "\n",
    "root.mainloop()"
   ]
  },
  {
   "cell_type": "code",
   "execution_count": 89,
   "metadata": {},
   "outputs": [],
   "source": [
    "!python t2.py"
   ]
  },
  {
   "cell_type": "code",
   "execution_count": 119,
   "metadata": {},
   "outputs": [
    {
     "name": "stdout",
     "output_type": "stream",
     "text": [
      "Overwriting t3.py\n"
     ]
    }
   ],
   "source": [
    "%%writefile t3.py\n",
    "\n",
    "import tkinter as tk\n",
    "\n",
    "root = tk.Tk()  #root window creation\n",
    "root.configure(bg=\"black\")\n",
    "root.title(\"MyWindow\")\n",
    "root.iconbitmap(\"myicon.ico\")  #give ico file in this function \n",
    "w = root.winfo_screenwidth()//2\n",
    "h = root.winfo_screenheight()//2\n",
    "root.wm_minsize(w+100,h+100)\n",
    "#root.wm_maxsize(600,600)\n",
    "root.resizable(0,0)\n",
    "\n",
    "f1 = tk.Frame(root)\n",
    "f2 = tk.Frame(root)\n",
    "f1.configure(bg=\"#abcdef\")\n",
    "f2.configure(bg=\"#abc123\")\n",
    "\n",
    "l1 = tk.Label(f1,text=\"WELCOME TO MY FIRST WINDOW\",bg=\"#abcdef\",fg=\"black\",font=[None,24])\n",
    "l2 = tk.Label(f2,text=\"THIS IS MY SECOND LABEL\",bg=\"#abc123\",fg=\"red\",font=[None,24])\n",
    "\n",
    "b1 = tk.Button(f1,text=\"EXIT FRAME1\",fg=\"yellow\",bg=\"black\",font=[None,15,\"italic\"],command=f1.forget)\n",
    "b2 = tk.Button(f2,text=\"EXIT FRAME2\",fg=\"yellow\",bg=\"black\",font=[None,15,\"italic\"],command=f2.forget)\n",
    "\n",
    "l2.pack()\n",
    "l1.pack()\n",
    "\n",
    "b1.pack(ipadx=30,ipady=20)\n",
    "b2.pack(ipadx=30,ipady=20)\n",
    "\n",
    "f1.pack(ipadx=150,pady=50)\n",
    "f2.pack(ipadx=150,pady=50)\n",
    "\n",
    "b3 = tk.Button(root,text=\"GET FRAME1\",fg=\"yellow\",bg=\"black\",font=[None,15,\"italic\"],command=f1.pack)\n",
    "b4 = tk.Button(root,text=\"GET FRAME2\",fg=\"yellow\",bg=\"black\",font=[None,15,\"italic\"],command=f2.pack)\n",
    "b5 = tk.Button(root,text=\"EXIT MAIN\",fg=\"yellow\",bg=\"black\",font=[None,15,\"italic\"],command=root.destroy)\n",
    "\n",
    "b3.pack(fill=tk.X)\n",
    "b4.pack(fill=tk.X)\n",
    "b5.pack(fill=tk.X)\n",
    "root.mainloop()"
   ]
  },
  {
   "cell_type": "code",
   "execution_count": 120,
   "metadata": {},
   "outputs": [],
   "source": [
    "!python t3.py"
   ]
  },
  {
   "cell_type": "code",
   "execution_count": 123,
   "metadata": {},
   "outputs": [
    {
     "name": "stdout",
     "output_type": "stream",
     "text": [
      "simran\n"
     ]
    }
   ],
   "source": [
    "import tkinter as tk\n",
    "\n",
    "root = tk.Tk()  #root window creation\n",
    "root.configure(bg=\"black\")\n",
    "root.title(\"MyWindow\")\n",
    "root.iconbitmap(\"myicon.ico\")  #give ico file in this function \n",
    "w = root.winfo_screenwidth()//2\n",
    "h = root.winfo_screenheight()//2\n",
    "root.wm_minsize(w+100,h+100)\n",
    "#root.wm_maxsize(600,600)\n",
    "root.resizable(0,0)\n",
    "\n",
    "e1 = tk.Entry(root,font=[None,25,\"italic\"],fg=\"gray\")\n",
    "e1.pack()\n",
    "\n",
    "def getentry():\n",
    "    print(e1.get())\n",
    "\n",
    "b1 = tk.Button(root,text=\"SUBMIT\",fg=\"yellow\",bg=\"black\",font=[None,15,\"italic\"],command=getentry)\n",
    "b1.pack()\n",
    "\n",
    "root.mainloop()"
   ]
  },
  {
   "cell_type": "code",
   "execution_count": 15,
   "metadata": {},
   "outputs": [
    {
     "name": "stdout",
     "output_type": "stream",
     "text": [
      "Overwriting t4.py\n"
     ]
    }
   ],
   "source": [
    "%%writefile t4.py\n",
    "\n",
    "import tkinter as tk\n",
    "\n",
    "root = tk.Tk()  #root window creation\n",
    "root.configure(bg=\"black\")\n",
    "root.title(\"MyWindow\")\n",
    "root.iconbitmap(\"myicon.ico\")  #give ico file in this function \n",
    "w = root.winfo_screenwidth()//2\n",
    "h = root.winfo_screenheight()//2\n",
    "root.wm_minsize(w+100,h+100)\n",
    "#root.wm_maxsize(600,600)\n",
    "root.resizable(0,0)\n",
    "\n",
    "\n",
    "l1 = tk.Label(root,text=\"WELCOME \",bg=\"black\",fg=\"red\",font=[\"monospace\",24])\n",
    "l1.grid(row=0,column=1,pady=50)\n",
    "\n",
    "l2 = tk.Label(root,text=\"Enter your name : \",bg=\"black\",fg=\"white\",font=[\"monospace\",24])\n",
    "l2.grid(row=1,column=0)\n",
    "\n",
    "var = tk.StringVar()\n",
    "\n",
    "e1 = tk.Entry(root,font=[None,25,\"italic\"],fg=\"gray\",textvariable=var)\n",
    "e1.grid(row=1,column=1)\n",
    "\n",
    "\n",
    "def getentry():\n",
    "    n = e1.get()\n",
    "    l1.config(text=\"WELCOME \"+n.upper())\n",
    "    var.set(\"1\")\n",
    "\n",
    "b1 = tk.Button(root,text=\"SUBMIT\",fg=\"yellow\",bg=\"black\",font=[None,15,\"italic\"],command=getentry)\n",
    "b1.grid(row=2,column=1,columnspan=2,pady=50)\n",
    "\n",
    "root.mainloop()"
   ]
  },
  {
   "cell_type": "code",
   "execution_count": 16,
   "metadata": {},
   "outputs": [],
   "source": [
    "!python t4.py"
   ]
  },
  {
   "cell_type": "code",
   "execution_count": null,
   "metadata": {},
   "outputs": [],
   "source": [
    "\n",
    "    Welcome\n",
    "Enter your name : entry box\n",
    "    submit button"
   ]
  },
  {
   "cell_type": "code",
   "execution_count": 51,
   "metadata": {},
   "outputs": [
    {
     "name": "stdout",
     "output_type": "stream",
     "text": [
      "Overwriting user_entry.py\n"
     ]
    }
   ],
   "source": [
    "%%writefile user_entry.py\n",
    "\n",
    "import tkinter as tk\n",
    "import pymysql as sql\n",
    "from tkinter import messagebox\n",
    "\n",
    "root = tk.Tk()  #root window creation\n",
    "root.configure(bg=\"black\")\n",
    "root.title(\"MyWindow\")\n",
    "root.iconbitmap(\"myicon.ico\")  #give ico file in this function \n",
    "w = root.winfo_screenwidth()//2\n",
    "h = root.winfo_screenheight()//2\n",
    "root.wm_minsize(w+100,h+100)\n",
    "#root.wm_maxsize(600,600)\n",
    "root.resizable(0,0)\n",
    "\n",
    "f1 = tk.Frame(root,bg=\"gray\")\n",
    "f1.pack(ipadx=200,ipady=200,pady=(50,0))\n",
    "\n",
    "f2 = tk.Frame(root,bg=\"gray\")\n",
    "\n",
    "def login():\n",
    "    f1.forget()\n",
    "    f2.pack(ipadx=200,ipady=200,pady=(50,0))\n",
    "\n",
    "def signup():\n",
    "    pass\n",
    "\n",
    "b3 = tk.Button(f1,text=\"LOGIN\",fg=\"white\",bg=\"black\",font=[None,20,\"italic\"],command=login)\n",
    "b4 = tk.Button(f1,text=\"SIGNUP\",fg=\"white\",bg=\"black\",font=[None,20,\"italic\"],command=signup)\n",
    "\n",
    "b3.place(rely=0.5,relx=0.1)\n",
    "b4.place(rely=0.5,relx=0.6)\n",
    "\n",
    "\n",
    "l2 = tk.Label(f2,text=\"Enter your name : \",bg=\"black\",fg=\"white\",font=[\"monospace\",24])\n",
    "l2.grid(row=1,column=0)\n",
    "\n",
    "var = tk.StringVar()\n",
    "\n",
    "e1 = tk.Entry(f2,font=[None,25,\"italic\"],fg=\"gray\",textvariable=var)\n",
    "e1.grid(row=1,column=1)\n",
    "\n",
    "l3 = tk.Label(f2,text=\"Enter your password : \",bg=\"black\",fg=\"white\",font=[\"monospace\",24])\n",
    "l3.grid(row=2,column=0)\n",
    "\n",
    "var1 = tk.StringVar()\n",
    "\n",
    "e2 = tk.Entry(f2,font=[None,25,\"italic\"],fg=\"gray\",textvariable=var1,show=\"*\")\n",
    "e2.grid(row=2,column=1)\n",
    "\n",
    "\n",
    "def getentry():\n",
    "    db = sql.connect(host=\"localhost\",port=3306,user=\"root\",password=\"\",database=\"batch7_15\")\n",
    "    cursor = db.cursor()\n",
    "    user = e1.get()\n",
    "    passwd = e2.get()\n",
    "    cmd = f\"select * from user where username='{user}'\"\n",
    "    cursor.execute(cmd)\n",
    "    d = cursor.fetchone()\n",
    "    var.set(\"\")\n",
    "    var1.set(\"\")\n",
    "    if d:\n",
    "        messagebox.showinfo(\"INFO\",\"WELCOME\")\n",
    "    else:\n",
    "        messagebox.showerror(\"ERROR\",\"USER DOES NOT EXIST\")\n",
    "def getf1():\n",
    "    f2.forget()\n",
    "    f1.pack(ipadx=200,ipady=200,pady=(50,0))\n",
    "\n",
    "b1 = tk.Button(f2,text=\"SUBMIT\",fg=\"yellow\",bg=\"black\",font=[None,15,\"italic\"],command=getentry)\n",
    "b1.grid(row=3,column=1,columnspan=2,pady=50)\n",
    "\n",
    "b2 = tk.Button(f2,text=\"BACK<<<\",fg=\"yellow\",bg=\"black\",font=[None,15,\"italic\"],command=getf1)\n",
    "b2.grid(row=3,column=4,columnspan=2,pady=50)\n",
    "\n",
    "root.mainloop()"
   ]
  },
  {
   "cell_type": "code",
   "execution_count": 52,
   "metadata": {},
   "outputs": [],
   "source": [
    "!python user_entry.py"
   ]
  },
  {
   "cell_type": "code",
   "execution_count": 20,
   "metadata": {},
   "outputs": [
    {
     "ename": "NameError",
     "evalue": "name 'l1' is not defined",
     "output_type": "error",
     "traceback": [
      "\u001b[1;31m---------------------------------------------------------------------------\u001b[0m",
      "\u001b[1;31mNameError\u001b[0m                                 Traceback (most recent call last)",
      "\u001b[1;32m<ipython-input-20-6cf485bc2797>\u001b[0m in \u001b[0;36m<module>\u001b[1;34m\u001b[0m\n\u001b[1;32m----> 1\u001b[1;33m \u001b[0ml1\u001b[0m\u001b[1;33m\u001b[0m\u001b[1;33m\u001b[0m\u001b[0m\n\u001b[0m",
      "\u001b[1;31mNameError\u001b[0m: name 'l1' is not defined"
     ]
    }
   ],
   "source": [
    "l1.place()"
   ]
  },
  {
   "cell_type": "code",
   "execution_count": null,
   "metadata": {},
   "outputs": [],
   "source": []
  }
 ],
 "metadata": {
  "kernelspec": {
   "display_name": "Python 3",
   "language": "python",
   "name": "python3"
  },
  "language_info": {
   "codemirror_mode": {
    "name": "ipython",
    "version": 3
   },
   "file_extension": ".py",
   "mimetype": "text/x-python",
   "name": "python",
   "nbconvert_exporter": "python",
   "pygments_lexer": "ipython3",
   "version": "3.7.4"
  }
 },
 "nbformat": 4,
 "nbformat_minor": 2
}
