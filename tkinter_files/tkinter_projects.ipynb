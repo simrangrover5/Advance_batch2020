{
 "cells": [
  {
   "cell_type": "code",
   "execution_count": 37,
   "metadata": {},
   "outputs": [
    {
     "name": "stdout",
     "output_type": "stream",
     "text": [
      "Overwriting guess_game.py\n"
     ]
    }
   ],
   "source": [
    "%%writefile guess_game.py\n",
    "\n",
    "\n",
    "import tkinter as tk\n",
    "from random import randint\n",
    "from tkinter import messagebox\n",
    "\n",
    "root = tk.Tk()  #root window creation\n",
    "root.configure(bg=\"gray\")\n",
    "root.title(\"MyWindow\")\n",
    "root.iconbitmap(\"myicon.ico\")  #give ico file in this function \n",
    "w = root.winfo_screenwidth()//2\n",
    "h = root.winfo_screenheight()//2\n",
    "root.wm_minsize(w,h)\n",
    "#root.wm_maxsize(600,600)\n",
    "root.resizable(0,0)\n",
    "\n",
    "class Guess:\n",
    "    def __init__(self,master):  #master = root\n",
    "        self.root = master\n",
    "        self.f1 = tk.Frame(master,bg=\"gray\")\n",
    "        self.f1.pack(ipadx=100,ipady=100)\n",
    "        self.l1 = tk.Label(self.f1,text=\"GUESS ANY NUMBER BETWEEN 1 to 100\",fg=\"black\",bg=\"gray\",font=(None,24,\"italic\"))\n",
    "        self.l1.pack()\n",
    "        self.l2 = tk.Label(self.f1,text=\"\",bg=\"gray\",fg=\"red\",font=(\"sans serif\",20))\n",
    "        self.l2.pack(pady=(15,0))\n",
    "        self.var = tk.StringVar()\n",
    "        self.e1 = tk.Entry(self.f1,font=[None,20,\"italic\"],textvariable=self.var)\n",
    "        self.e1.place(relx=0.3,rely=0.5)\n",
    "        self.b1 = tk.Button(self.f1,text=\"SUBMIT\",bg=\"black\",fg=\"blue\",height=2,width=10,command=self.check)\n",
    "        self.b1.place(relx=0.8,rely=0.5)\n",
    "        self.comp = 40#randint(1,100)\n",
    "        self.c = 0\n",
    "    \n",
    "    def check(self):\n",
    "        self.c += 1\n",
    "        user = int(self.e1.get())\n",
    "        self.var.set(\"\")\n",
    "        if self.c<=5:\n",
    "            if user == self.comp:\n",
    "                messagebox.showinfo(\"INFO\",f\"YOU GUESS RIGHT AFTER {self.c} GUESSES!!! CONGRATS\")\n",
    "                self.b1['state'] = \"disabled\"\n",
    "                self.l2.configure(text=\"YOU WON\")\n",
    "            elif user < self.comp:\n",
    "                self.l2.configure(text=\"THINK HIGH!!!!!\")\n",
    "            elif user > self.comp:\n",
    "                self.l2.configure(text=\"THINK LOW!!!!!!\")\n",
    "        else:\n",
    "            messagebox.showerror(\"ERROR\",f\"YOU LOSS AND THE CORRECT ANSWER IS {self.comp}\")\n",
    "            self.b1['state'] = \"disabled\"\n",
    "            self.l2.configure(text=\"YOU LOSS\")\n",
    "            \n",
    "obj = Guess(root)\n",
    "root.mainloop()"
   ]
  },
  {
   "cell_type": "code",
   "execution_count": 38,
   "metadata": {},
   "outputs": [],
   "source": [
    "!python guess_game.py"
   ]
  },
  {
   "cell_type": "code",
   "execution_count": 7,
   "metadata": {},
   "outputs": [
    {
     "name": "stdout",
     "output_type": "stream",
     "text": [
      "Overwriting stopwatch.py\n"
     ]
    }
   ],
   "source": [
    "%%writefile stopwatch.py\n",
    "\n",
    "import tkinter as tk\n",
    "from tkinter import messagebox\n",
    "from datetime import datetime\n",
    "\n",
    "root = tk.Tk()  #root window creation\n",
    "root.configure(bg=\"gray\")\n",
    "root.title(\"MyWindow\")\n",
    "root.iconbitmap(\"myicon.ico\")  #give ico file in this function \n",
    "w = root.winfo_screenwidth()//2\n",
    "h = root.winfo_screenheight()//2\n",
    "root.wm_minsize(w,h)\n",
    "#root.wm_maxsize(600,600)\n",
    "root.resizable(0,0)\n",
    "run = False\n",
    "c = 66600\n",
    "def counter():\n",
    "    global run,c\n",
    "    if run:\n",
    "        d = datetime.fromtimestamp(c)\n",
    "        l2.configure(text=d.strftime(\"%X\"))\n",
    "        c += 1\n",
    "        l2.after(1000,counter)\n",
    "\n",
    "def start():\n",
    "    \n",
    "    global run\n",
    "    run = True\n",
    "    b1['state'] = \"disabled\"\n",
    "    b2['state'] = \"normal\"\n",
    "    b3['state'] = \"normal\"\n",
    "    counter()\n",
    "    \n",
    "def reset():\n",
    "    \n",
    "    global run,c\n",
    "    c = 66600\n",
    "    run = False\n",
    "    d = datetime.fromtimestamp(c)\n",
    "    l2.configure(text=d.strftime(\"%X\"))\n",
    "    b3['state'] = \"disabled\"\n",
    "    b2['state'] = \"normal\"\n",
    "    b1['state'] = \"normal\"\n",
    "    \n",
    "def stop():\n",
    "    global run,c\n",
    "    run = False\n",
    "    b2['state'] = \"disabled\"\n",
    "    b1['state'] = \"normal\"\n",
    "    b3['state'] = \"normal\"\n",
    "\n",
    "l1 = tk.Label(root,text=\"WELCOME TO STOPWATCH!!!\",fg=\"black\",bg=\"gray\",font=(None,24,\"italic\"))\n",
    "l1.pack()\n",
    "l2 = tk.Label(root,text=\"\",bg=\"gray\",fg=\"black\",font=(\"sans serif\",20))\n",
    "l2.pack(pady=(15,0))\n",
    "\n",
    "b1 = tk.Button(root,text=\"START\",bg=\"black\",fg=\"gray\",height=1,width=10,command=start,font=(None,15))\n",
    "b1.pack(fill=\"x\")\n",
    "b2 = tk.Button(root,text=\"STOP\",bg=\"black\",fg=\"gray\",height=1,width=10,command=stop,font=(None,15))\n",
    "b2.pack(fill=\"x\")\n",
    "b3 = tk.Button(root,text=\"RESET\",bg=\"black\",fg=\"gray\",height=1,width=10,command=reset,font=(None,15))\n",
    "b3.pack(fill=\"x\")\n",
    "\n",
    "root.mainloop()"
   ]
  },
  {
   "cell_type": "code",
   "execution_count": 8,
   "metadata": {},
   "outputs": [],
   "source": [
    "!python stopwatch.py"
   ]
  },
  {
   "cell_type": "code",
   "execution_count": 47,
   "metadata": {},
   "outputs": [],
   "source": [
    "from datetime import datetime"
   ]
  },
  {
   "cell_type": "code",
   "execution_count": 63,
   "metadata": {},
   "outputs": [
    {
     "data": {
      "text/plain": [
       "'00-02-00'"
      ]
     },
     "execution_count": 63,
     "metadata": {},
     "output_type": "execute_result"
    }
   ],
   "source": [
    "d = datetime.fromtimestamp(66720)\n",
    "d.strftime(\"%H-%M-%S\")"
   ]
  },
  {
   "cell_type": "code",
   "execution_count": 59,
   "metadata": {},
   "outputs": [
    {
     "data": {
      "text/plain": [
       "66720"
      ]
     },
     "execution_count": 59,
     "metadata": {},
     "output_type": "execute_result"
    }
   ],
   "source": [
    "66600 + 120"
   ]
  },
  {
   "cell_type": "code",
   "execution_count": 70,
   "metadata": {},
   "outputs": [
    {
     "data": {
      "text/plain": [
       "'1970/01/02/Fri'"
      ]
     },
     "execution_count": 70,
     "metadata": {},
     "output_type": "execute_result"
    }
   ],
   "source": [
    "d.strftime(\"%Y/%m/%d/%a\")"
   ]
  },
  {
   "cell_type": "code",
   "execution_count": 71,
   "metadata": {},
   "outputs": [
    {
     "data": {
      "text/plain": [
       "'1970/01/02/Friday'"
      ]
     },
     "execution_count": 71,
     "metadata": {},
     "output_type": "execute_result"
    }
   ],
   "source": [
    "d.strftime(\"%Y/%m/%d/%A\")"
   ]
  },
  {
   "cell_type": "code",
   "execution_count": 72,
   "metadata": {},
   "outputs": [
    {
     "data": {
      "text/plain": [
       "'00:02:00'"
      ]
     },
     "execution_count": 72,
     "metadata": {},
     "output_type": "execute_result"
    }
   ],
   "source": [
    "d.strftime(\"%X\")"
   ]
  },
  {
   "cell_type": "code",
   "execution_count": 13,
   "metadata": {},
   "outputs": [
    {
     "name": "stdout",
     "output_type": "stream",
     "text": [
      "Overwriting tk_pic.py\n"
     ]
    }
   ],
   "source": [
    "%%writefile tk_pic.py\n",
    "\n",
    "import tkinter as tk\n",
    "from tkinter import messagebox\n",
    "from datetime import datetime\n",
    "\n",
    "root = tk.Tk()  #root window creation\n",
    "root.configure(bg=\"gray\")\n",
    "root.title(\"MyWindow\")\n",
    "root.iconbitmap(\"myicon.ico\")  #give ico file in this function \n",
    "w = root.winfo_screenwidth()//2\n",
    "h = root.winfo_screenheight()//2\n",
    "root.wm_minsize(w,h)\n",
    "#root.wm_maxsize(600,600)\n",
    "root.resizable(0,0)\n",
    "\n",
    "\n",
    "img = tk.PhotoImage(file=\"newcert1.png\")\n",
    "\n",
    "l1 = tk.Label(root,image=img)\n",
    "l1.pack()\n",
    "\n",
    "root.mainloop()"
   ]
  },
  {
   "cell_type": "code",
   "execution_count": 14,
   "metadata": {},
   "outputs": [],
   "source": [
    "!python tk_pic.py"
   ]
  },
  {
   "cell_type": "code",
   "execution_count": 17,
   "metadata": {},
   "outputs": [
    {
     "name": "stdout",
     "output_type": "stream",
     "text": [
      "Overwriting changecolor.py\n"
     ]
    }
   ],
   "source": [
    "%%writefile changecolor.py\n",
    "\n",
    "import tkinter as tk\n",
    "from tkinter import messagebox\n",
    "from random import choice\n",
    "\n",
    "root = tk.Tk()  #root window creation\n",
    "root.configure(bg=\"black\")\n",
    "root.title(\"MyWindow\")\n",
    "root.iconbitmap(\"myicon.ico\")  #give ico file in this function \n",
    "w = root.winfo_screenwidth()//2\n",
    "h = root.winfo_screenheight()//2\n",
    "root.wm_minsize(w,h)\n",
    "#root.wm_maxsize(600,600)\n",
    "root.resizable(0,0)\n",
    "run = False\n",
    "def on_enter(event):\n",
    "    global run\n",
    "    run = False\n",
    "    change()\n",
    "    \n",
    "def on_leave(event):\n",
    "    global run\n",
    "    run = True\n",
    "    change()\n",
    "\n",
    "def get_color():\n",
    "    c = \"#\"\n",
    "    l = ['1','2','3','4','5','6','a','b','c','d','e','f']\n",
    "    for i in range(6):\n",
    "        c += choice(l)\n",
    "    return c\n",
    "\n",
    "def change():\n",
    "    global run\n",
    "    if run == True:\n",
    "        c = get_color()\n",
    "        l2.configure(fg=c)\n",
    "        l2.after(1000,change)\n",
    "\n",
    "def start():\n",
    "    global run\n",
    "    run = True\n",
    "    l1.configure(text=\"STARTED!!!!\")\n",
    "    change()\n",
    "\n",
    "\n",
    "l1 = tk.Label(root,text=\"WELCOME!!!\",fg=\"white\",bg=\"black\",font=(None,24,\"italic\"))\n",
    "l1.pack()\n",
    "l2 = tk.Label(root,text=\"COLORS\",bg=\"black\",fg=\"red\",font=(\"sans serif\",30))\n",
    "l2.pack(pady=(15,0))\n",
    "\n",
    "b1 = tk.Button(root,text=\"START\",bg=\"black\",fg=\"gray\",height=1,width=10,command=start,font=(None,15))\n",
    "b1.pack(fill=\"x\")\n",
    "\n",
    "\n",
    "l2.bind(\"<Enter>\",on_enter)\n",
    "l2.bind(\"<Leave>\",on_leave)\n",
    "\n",
    "root.mainloop()"
   ]
  },
  {
   "cell_type": "code",
   "execution_count": 18,
   "metadata": {},
   "outputs": [],
   "source": [
    "!python changecolor.py"
   ]
  },
  {
   "cell_type": "code",
   "execution_count": 43,
   "metadata": {},
   "outputs": [
    {
     "name": "stdout",
     "output_type": "stream",
     "text": [
      "Overwriting calculator.py\n"
     ]
    }
   ],
   "source": [
    "%%writefile calculator.py\n",
    "\n",
    "import tkinter as tk\n",
    "from tkinter import messagebox\n",
    "from random import choice\n",
    "\n",
    "root = tk.Tk()  #root window creation\n",
    "root.configure(bg=\"gray\")\n",
    "root.title(\"MyWindow\")\n",
    "root.iconbitmap(\"myicon.ico\")  #give ico file in this function \n",
    "w = root.winfo_screenwidth()//2\n",
    "h = root.winfo_screenheight()//2\n",
    "root.wm_minsize(w,h)\n",
    "#root.wm_maxsize(600,600)\n",
    "root.resizable(0,0)\n",
    "\n",
    "\n",
    "f1 = tk.Frame(root,bg=\"gray\")\n",
    "f1.pack()\n",
    "\n",
    "var = tk.StringVar()\n",
    "e1 = tk.Entry(f1,font=(None,24),textvariable=var)\n",
    "e1.pack()\n",
    "\n",
    "f2 = tk.Frame(root,bg=\"gray\")\n",
    "f2.pack()\n",
    "\n",
    "def back():\n",
    "    e = e1.get()\n",
    "    var.set(e[:-1])\n",
    "\n",
    "def clear():\n",
    "    var.set(\" \")\n",
    "n = 0\n",
    "for r in range(4):\n",
    "    for c in range(3):\n",
    "        if r == 0 and c == 0:\n",
    "            b1 = tk.Button(f2,text=\"<<\",height=5,width=15,font=(None,12),command=back)\n",
    "            b1.grid(row=r,column=c)\n",
    "        elif r == 0 and c == 1:\n",
    "            b1 = tk.Button(f2,text=n,height=5,width=15,font=(None,12))\n",
    "            b1.grid(row=r,column=c)\n",
    "            n += 1\n",
    "        elif r == 0 and c == 2:\n",
    "            b1 = tk.Button(f2,text=\"clr\",height=5,width=15,font=(None,12),command=clear)\n",
    "            b1.grid(row=r,column=c)\n",
    "        else:\n",
    "            b1 = tk.Button(f2,text=n,height=5,width=15,font=(None,12))\n",
    "            b1.grid(row=r,column=c)\n",
    "            n += 1\n",
    "root.mainloop()"
   ]
  },
  {
   "cell_type": "code",
   "execution_count": 44,
   "metadata": {},
   "outputs": [],
   "source": [
    "!python calculator.py"
   ]
  },
  {
   "cell_type": "code",
   "execution_count": null,
   "metadata": {},
   "outputs": [],
   "source": []
  }
 ],
 "metadata": {
  "kernelspec": {
   "display_name": "Python 3",
   "language": "python",
   "name": "python3"
  },
  "language_info": {
   "codemirror_mode": {
    "name": "ipython",
    "version": 3
   },
   "file_extension": ".py",
   "mimetype": "text/x-python",
   "name": "python",
   "nbconvert_exporter": "python",
   "pygments_lexer": "ipython3",
   "version": "3.7.4"
  }
 },
 "nbformat": 4,
 "nbformat_minor": 2
}
