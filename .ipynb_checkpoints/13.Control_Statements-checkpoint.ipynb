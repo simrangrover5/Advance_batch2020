{
 "cells": [
  {
   "cell_type": "markdown",
   "metadata": {},
   "source": [
    "####  Flow of program \n",
    "\n",
    "    The statements will execute one by one or step by step\n",
    "    \n",
    "        1. go right\n",
    "        2. sit down\n",
    "        3. go left\n",
    "        4. sit down"
   ]
  },
  {
   "cell_type": "markdown",
   "metadata": {},
   "source": [
    "## Control Statements\n",
    "\n",
    "    That will control the flow of statements of the flow of program.\n",
    "    \n",
    "    A. Condition Statements (if-else)\n",
    "    \n",
    "    1. if girl\n",
    "        i. go right\n",
    "        ii. sit down\n",
    "    2. if boy\n",
    "         i. go left\n",
    "        ii. sit down\n",
    "        \n",
    "        \n",
    "    B. Loops\n",
    "    \n",
    "    \n",
    "    1. i = 0\n",
    "    2. while i<=50\n",
    "        1. if girl\n",
    "            i. go right\n",
    "            ii. sit down\n",
    "        2. if boy\n",
    "            i. go left\n",
    "            ii. sit down\n",
    "        3. i = i + 1\n",
    "    4. End Loop"
   ]
  },
  {
   "cell_type": "markdown",
   "metadata": {},
   "source": [
    "## Algorithm\n",
    "\n",
    "    Set of steps that you will use to execute a program\n",
    "    \n",
    "    Eg --> Algorithm to check whether the number is even or odd\n",
    "    \n",
    "    Step 1 : Take a number as input and store it into n variable\n",
    "    Step 2 : Divide the number by 2 if the reminder is 0 then show the output as even else show odd"
   ]
  },
  {
   "cell_type": "code",
   "execution_count": 1,
   "metadata": {},
   "outputs": [],
   "source": [
    "### algorithm to check whether a number is positive or not"
   ]
  },
  {
   "cell_type": "markdown",
   "metadata": {},
   "source": [
    "### Condition Statements"
   ]
  },
  {
   "cell_type": "markdown",
   "metadata": {},
   "source": [
    "1. if\n",
    "2. if-else\n",
    "3. if-elif......-else"
   ]
  },
  {
   "cell_type": "raw",
   "metadata": {},
   "source": [
    "if condition{\n",
    "    s1\n",
    "    s2\n",
    "}\n",
    "s3\n",
    "s4"
   ]
  },
  {
   "cell_type": "markdown",
   "metadata": {},
   "source": [
    "### Syntax\n",
    "\n",
    "    if condition:\n",
    "        s1\n",
    "        s2\n",
    "    \n",
    "    If the condition evaluates to true then only s1 and s2 will execute otherwise it will not\n"
   ]
  },
  {
   "cell_type": "code",
   "execution_count": 3,
   "metadata": {},
   "outputs": [
    {
     "name": "stdout",
     "output_type": "stream",
     "text": [
      "Enter any number : -12\n"
     ]
    }
   ],
   "source": [
    "n = int(input(\"Enter any number : \"))\n",
    "if n>0:\n",
    "    print(\"Number is positve.....\")"
   ]
  },
  {
   "cell_type": "code",
   "execution_count": 4,
   "metadata": {},
   "outputs": [
    {
     "data": {
      "text/plain": [
       "True"
      ]
     },
     "execution_count": 4,
     "metadata": {},
     "output_type": "execute_result"
    }
   ],
   "source": [
    "12>0"
   ]
  },
  {
   "cell_type": "code",
   "execution_count": 5,
   "metadata": {},
   "outputs": [
    {
     "data": {
      "text/plain": [
       "False"
      ]
     },
     "execution_count": 5,
     "metadata": {},
     "output_type": "execute_result"
    }
   ],
   "source": [
    "-12>0"
   ]
  },
  {
   "cell_type": "code",
   "execution_count": 6,
   "metadata": {},
   "outputs": [],
   "source": [
    "if False:\n",
    "    print(\"Hello world\")"
   ]
  },
  {
   "cell_type": "code",
   "execution_count": 7,
   "metadata": {},
   "outputs": [
    {
     "name": "stdout",
     "output_type": "stream",
     "text": [
      "hello world\n"
     ]
    }
   ],
   "source": [
    "if True:\n",
    "    print(\"hello world\")"
   ]
  },
  {
   "cell_type": "code",
   "execution_count": 8,
   "metadata": {},
   "outputs": [
    {
     "name": "stdout",
     "output_type": "stream",
     "text": [
      "hello world\n"
     ]
    }
   ],
   "source": [
    "if 123:\n",
    "    print(\"hello world\")"
   ]
  },
  {
   "cell_type": "code",
   "execution_count": 9,
   "metadata": {},
   "outputs": [],
   "source": [
    "if 0:\n",
    "    print(\"hello world\")"
   ]
  },
  {
   "cell_type": "markdown",
   "metadata": {},
   "source": [
    "### Syntax\n",
    "\n",
    "    if condition:\n",
    "        s1\n",
    "        s2\n",
    "        ...\n",
    "    else:\n",
    "        s3\n",
    "        s4\n",
    "        \n",
    "        \n",
    "    If the condition evaluates to True s1 and s2 will excute and if it is false s3 and s4 will execute"
   ]
  },
  {
   "cell_type": "code",
   "execution_count": 16,
   "metadata": {},
   "outputs": [
    {
     "name": "stdout",
     "output_type": "stream",
     "text": [
      "hi\n",
      "hello\n"
     ]
    }
   ],
   "source": [
    "if \"hello world\":\n",
    "    print(\"hi\")\n",
    "    print(\"hello\")\n",
    "else:\n",
    "        print(\"bye\")"
   ]
  },
  {
   "cell_type": "code",
   "execution_count": 19,
   "metadata": {},
   "outputs": [
    {
     "ename": "IndentationError",
     "evalue": "unindent does not match any outer indentation level (<tokenize>, line 6)",
     "output_type": "error",
     "traceback": [
      "\u001b[1;36m  File \u001b[1;32m\"<tokenize>\"\u001b[1;36m, line \u001b[1;32m6\u001b[0m\n\u001b[1;33m    print(\"hi\")\u001b[0m\n\u001b[1;37m    ^\u001b[0m\n\u001b[1;31mIndentationError\u001b[0m\u001b[1;31m:\u001b[0m unindent does not match any outer indentation level\n"
     ]
    }
   ],
   "source": [
    "if None:\n",
    "    print(\"hi\")\n",
    "    print(\"hello\")\n",
    "else:\n",
    "        print(\"bye\")\n",
    "    print(\"hi\")"
   ]
  },
  {
   "cell_type": "code",
   "execution_count": 22,
   "metadata": {},
   "outputs": [
    {
     "name": "stdout",
     "output_type": "stream",
     "text": [
      "0\n",
      "bye\n"
     ]
    }
   ],
   "source": [
    "if int(input()):\n",
    "    print(\"Hi hi hi\")\n",
    "else:\n",
    "    print(\"bye\")\n"
   ]
  },
  {
   "cell_type": "code",
   "execution_count": 25,
   "metadata": {},
   "outputs": [
    {
     "name": "stdout",
     "output_type": "stream",
     "text": [
      "0\n",
      "hello world\n"
     ]
    }
   ],
   "source": [
    "if input():   #'0'\n",
    "    print(\"hello world\")\n",
    "else:\n",
    "    print(\"bye\")"
   ]
  },
  {
   "cell_type": "code",
   "execution_count": 26,
   "metadata": {},
   "outputs": [
    {
     "data": {
      "text/plain": [
       "True"
      ]
     },
     "execution_count": 26,
     "metadata": {},
     "output_type": "execute_result"
    }
   ],
   "source": [
    "bool('0')"
   ]
  },
  {
   "cell_type": "code",
   "execution_count": 30,
   "metadata": {},
   "outputs": [
    {
     "name": "stdout",
     "output_type": "stream",
     "text": [
      "\n",
      " Enter any number : 0\n",
      "\n",
      " 0 is negative\n"
     ]
    }
   ],
   "source": [
    "n = int(input(\"\\n Enter any number : \"))\n",
    "if n>0:\n",
    "    print(f\"\\n {n} is positive\")\n",
    "else:\n",
    "    print(f\"\\n {n} is negative\")"
   ]
  },
  {
   "cell_type": "markdown",
   "metadata": {},
   "source": [
    "#### Syntax\n",
    "       if condition:\n",
    "           s1\n",
    "           s2\n",
    "       elif condition:\n",
    "           s3\n",
    "           s4\n",
    "       elif condition:\n",
    "           s4\n",
    "           s5\n",
    "           .\n",
    "           .\n",
    "           .\n",
    "           .\n",
    "           .\n",
    "       else:\n",
    "           s6\n",
    "           s7"
   ]
  },
  {
   "cell_type": "code",
   "execution_count": 33,
   "metadata": {},
   "outputs": [
    {
     "name": "stdout",
     "output_type": "stream",
     "text": [
      "Enter a number : -34\n",
      "-34 is negative\n"
     ]
    }
   ],
   "source": [
    "n = int(input(\"Enter a number : \"))\n",
    "if n>0:\n",
    "    print(f\"{n} is positive\")\n",
    "elif n == 0:\n",
    "    print(f\"{n} is zero\")\n",
    "else:\n",
    "    print(f\"{n} is negative\")"
   ]
  },
  {
   "cell_type": "code",
   "execution_count": 35,
   "metadata": {},
   "outputs": [
    {
     "name": "stdout",
     "output_type": "stream",
     "text": [
      "Enter a number : 45\n",
      "45 is positive\n"
     ]
    }
   ],
   "source": [
    "n = int(input(\"Enter a number : \"))\n",
    "if n>0:\n",
    "    print(f\"{n} is positive\")\n",
    "elif n == 0:\n",
    "    print(f\"{n} is zero\")\n",
    "elif n<0:\n",
    "    print(f\"{n} is negative\")"
   ]
  },
  {
   "cell_type": "markdown",
   "metadata": {},
   "source": [
    "### Syntax\n",
    "\n",
    "    s1 if condition else s2\n",
    "    \n",
    "    s1 will execute if the condition evaluates to True else s2 will execute"
   ]
  },
  {
   "cell_type": "code",
   "execution_count": 36,
   "metadata": {},
   "outputs": [
    {
     "name": "stdout",
     "output_type": "stream",
     "text": [
      "hi\n"
     ]
    }
   ],
   "source": [
    "print(\"hi\") if \"hello world\" else \"bye\""
   ]
  },
  {
   "cell_type": "code",
   "execution_count": 37,
   "metadata": {},
   "outputs": [
    {
     "data": {
      "text/plain": [
       "'bye'"
      ]
     },
     "execution_count": 37,
     "metadata": {},
     "output_type": "execute_result"
    }
   ],
   "source": [
    "print(\"hi\") if False else \"bye\""
   ]
  },
  {
   "cell_type": "code",
   "execution_count": 41,
   "metadata": {},
   "outputs": [
    {
     "name": "stdout",
     "output_type": "stream",
     "text": [
      "\n",
      " Enter any number : 49\n",
      "Odd\n"
     ]
    }
   ],
   "source": [
    "n = eval(input(\"\\n Enter any number : \"))\n",
    "print(\"Even\") if n%2==0 else print(\"Odd\")"
   ]
  },
  {
   "cell_type": "code",
   "execution_count": 46,
   "metadata": {},
   "outputs": [],
   "source": [
    "l = [1,2,3,4,5,7]\n"
   ]
  },
  {
   "cell_type": "code",
   "execution_count": 43,
   "metadata": {},
   "outputs": [
    {
     "name": "stdout",
     "output_type": "stream",
     "text": [
      "Welcome\n"
     ]
    }
   ],
   "source": [
    "print(\"Welcome\") if l.pop() else print(\"Get lost\")\n",
    "\n",
    "#print(\"Welcome\") if 7 else print(\"Get loast\")"
   ]
  },
  {
   "cell_type": "code",
   "execution_count": 47,
   "metadata": {},
   "outputs": [
    {
     "data": {
      "text/plain": [
       "7"
      ]
     },
     "execution_count": 47,
     "metadata": {},
     "output_type": "execute_result"
    }
   ],
   "source": [
    "l.pop()"
   ]
  },
  {
   "cell_type": "code",
   "execution_count": 48,
   "metadata": {},
   "outputs": [
    {
     "name": "stdout",
     "output_type": "stream",
     "text": [
      "bye bye\n"
     ]
    }
   ],
   "source": [
    "print(\"Welcome\") if l.insert(0,2) else print(\"bye bye\")\n",
    "\n",
    "#if None"
   ]
  },
  {
   "cell_type": "code",
   "execution_count": 49,
   "metadata": {},
   "outputs": [],
   "source": [
    "l.insert(0,2)   #exit status --> None"
   ]
  },
  {
   "cell_type": "code",
   "execution_count": 51,
   "metadata": {},
   "outputs": [],
   "source": [
    "l.clear()   #exit status --> None"
   ]
  },
  {
   "cell_type": "code",
   "execution_count": 52,
   "metadata": {},
   "outputs": [
    {
     "name": "stdout",
     "output_type": "stream",
     "text": [
      "hello world\n"
     ]
    }
   ],
   "source": [
    "print(\"hello world\")   #exit status --> None"
   ]
  },
  {
   "cell_type": "code",
   "execution_count": 53,
   "metadata": {},
   "outputs": [
    {
     "name": "stdout",
     "output_type": "stream",
     "text": [
      "hello world\n",
      "None\n"
     ]
    }
   ],
   "source": [
    "print(print(\"hello world\"))  #print(None)"
   ]
  },
  {
   "cell_type": "code",
   "execution_count": 54,
   "metadata": {},
   "outputs": [
    {
     "name": "stdout",
     "output_type": "stream",
     "text": [
      "hello world\n",
      "None\n",
      "get lost\n"
     ]
    }
   ],
   "source": [
    "print(\"hello\") if print(print(\"hello world\")) else print(\"get lost\")\n"
   ]
  },
  {
   "cell_type": "code",
   "execution_count": 55,
   "metadata": {},
   "outputs": [
    {
     "name": "stdout",
     "output_type": "stream",
     "text": [
      "Welcome to hell\n"
     ]
    }
   ],
   "source": [
    "l = []\n",
    "if l:  #if [] -->if False\n",
    "    print(\"welcome to python\")\n",
    "else:\n",
    "    print(\"Welcome to hell\")"
   ]
  },
  {
   "cell_type": "code",
   "execution_count": 56,
   "metadata": {},
   "outputs": [
    {
     "data": {
      "text/plain": [
       "False"
      ]
     },
     "execution_count": 56,
     "metadata": {},
     "output_type": "execute_result"
    }
   ],
   "source": [
    "n = 10\n",
    "n>20"
   ]
  },
  {
   "cell_type": "code",
   "execution_count": 58,
   "metadata": {},
   "outputs": [
    {
     "name": "stdout",
     "output_type": "stream",
     "text": [
      "ENter first number : 12\n",
      "Enter second number : 10\n",
      "Greater a :  12\n"
     ]
    }
   ],
   "source": [
    "a = int(input(\"ENter first number : \"))\n",
    "b = int(input(\"Enter second number : \"))\n",
    "print(\"Greater a : \",a) if a>b else print(\"Greater b : \",b)"
   ]
  },
  {
   "cell_type": "code",
   "execution_count": 60,
   "metadata": {},
   "outputs": [
    {
     "name": "stdout",
     "output_type": "stream",
     "text": [
      "Number 1 : 12\n",
      "Number 2 : 10\n",
      "Number 3 : 9\n",
      "A :  12\n"
     ]
    }
   ],
   "source": [
    "### greater among three\n",
    "a = int(input(\"Number 1 : \"))\n",
    "b = int(input(\"Number 2 : \"))\n",
    "c = int(input(\"Number 3 : \"))\n",
    "if a>b and a>c:  #if True and True --> if True\n",
    "    print(\"A : \",a)\n",
    "elif b>c:\n",
    "    print(\"B : \",b)\n",
    "else:\n",
    "    print(\"C : \",c)"
   ]
  },
  {
   "cell_type": "markdown",
   "metadata": {},
   "source": [
    "###### Another logic to find greatest among three number"
   ]
  },
  {
   "cell_type": "code",
   "execution_count": 64,
   "metadata": {},
   "outputs": [
    {
     "name": "stdout",
     "output_type": "stream",
     "text": [
      "Enter your salary per month : 3000\n",
      "\n",
      " Sit at home and watch TV\n"
     ]
    }
   ],
   "source": [
    "salary = eval(input(\"Enter your salary per month : \"))\n",
    "if salary >= 50000:\n",
    "    print(\"\\n Great you can go on a trip out of country\")\n",
    "elif 10000<salary<=20000:\n",
    "    print(\"\\n Great you can go for shopping....\")\n",
    "elif 5000<salary<=10000:\n",
    "    print(\"\\nOkay you can go for a movie....\")\n",
    "else:\n",
    "    print(\"\\n Sit at home and watch TV\")"
   ]
  },
  {
   "cell_type": "code",
   "execution_count": 66,
   "metadata": {},
   "outputs": [],
   "source": [
    "d = {'surbhi':34,'rahul':25,'shubham':16,'tushar':25,'ayushi':11,'arun':14}"
   ]
  },
  {
   "cell_type": "code",
   "execution_count": 67,
   "metadata": {},
   "outputs": [
    {
     "data": {
      "text/plain": [
       "34"
      ]
     },
     "execution_count": 67,
     "metadata": {},
     "output_type": "execute_result"
    }
   ],
   "source": [
    "d.get(\"surbhi\")"
   ]
  },
  {
   "cell_type": "code",
   "execution_count": 68,
   "metadata": {},
   "outputs": [],
   "source": [
    "d.get(\"abc\")"
   ]
  },
  {
   "cell_type": "code",
   "execution_count": 75,
   "metadata": {},
   "outputs": [
    {
     "name": "stdout",
     "output_type": "stream",
     "text": [
      "\n",
      " Enter name : ayushi\n",
      "\n",
      "Name :  ayushi \n",
      "Age :  11\n",
      "\n",
      " You cannot vote\n"
     ]
    }
   ],
   "source": [
    "name = input(\"\\n Enter name : \").strip().lower()\n",
    "if d.get(name):\n",
    "    age = d.get(name)\n",
    "    print(\"\\nName : \",name,\"\\nAge : \",age)\n",
    "    if age>=18:\n",
    "        print(\"\\n You can vote\")\n",
    "    else:\n",
    "        print(\"\\n You cannot vote\")\n",
    "else:\n",
    "    print(\"\\n No such name in the database\")"
   ]
  },
  {
   "cell_type": "code",
   "execution_count": 78,
   "metadata": {},
   "outputs": [
    {
     "name": "stdout",
     "output_type": "stream",
     "text": [
      "\n",
      " Enter the number of the day : 10\n",
      "\n",
      " No such number \n"
     ]
    }
   ],
   "source": [
    "d = {1:\"Monday\",2:\"Tuesday\",3:'Wednesday',4:'Thursday',5:'Friday',6:'Saturday',7:'Sunday'}\n",
    "n = int(input(\"\\n Enter the number of the day : \"))\n",
    "if n == 1:\n",
    "    print(d[1])\n",
    "elif n == 2:\n",
    "    print(d[2])\n",
    "elif n == 3:\n",
    "    print(d[3])\n",
    "elif n == 4:\n",
    "    print(d[4])\n",
    "elif n == 5:\n",
    "    print(d[5])\n",
    "elif n == 6:\n",
    "    print(d[6])\n",
    "elif n == 7:\n",
    "    print(d[7])\n",
    "else:\n",
    "    print(\"\\n No such number \")"
   ]
  },
  {
   "cell_type": "markdown",
   "metadata": {},
   "source": [
    "### Algorithm \n",
    "\n",
    "    1. take the input of the sector of work of a person\n",
    "    2. if sector is govt then ask for the salary per month\n",
    "            if the salary per month is greater than 60000 then grant loan otherwise not\n",
    "       if sector is private then ask for the salary per month\n",
    "           if the salary is greater than 65000 then grant otherwise not\n",
    "       if sector is business then ask for turnover in lakhs\n",
    "           if turnover is greater than 10 lakh then grant loan otherwise not\n",
    "    3. If the sector is not in the above mentioned then show a message of wrong input"
   ]
  },
  {
   "cell_type": "code",
   "execution_count": null,
   "metadata": {},
   "outputs": [],
   "source": []
  }
 ],
 "metadata": {
  "kernelspec": {
   "display_name": "Python 3",
   "language": "python",
   "name": "python3"
  },
  "language_info": {
   "codemirror_mode": {
    "name": "ipython",
    "version": 3
   },
   "file_extension": ".py",
   "mimetype": "text/x-python",
   "name": "python",
   "nbconvert_exporter": "python",
   "pygments_lexer": "ipython3",
   "version": "3.7.4"
  }
 },
 "nbformat": 4,
 "nbformat_minor": 2
}
