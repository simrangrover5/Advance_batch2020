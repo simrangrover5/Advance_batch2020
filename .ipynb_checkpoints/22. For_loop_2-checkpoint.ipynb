{
 "cells": [
  {
   "cell_type": "code",
   "execution_count": 15,
   "metadata": {},
   "outputs": [],
   "source": [
    "l = [\"one\",\"has\",\"all\"]\n",
    "##output --> oha nal esl\n",
    "##one --> len--> 3, has --> 3, all --> 3"
   ]
  },
  {
   "cell_type": "code",
   "execution_count": 21,
   "metadata": {},
   "outputs": [
    {
     "name": "stdout",
     "output_type": "stream",
     "text": [
      "oha nal esl \n"
     ]
    }
   ],
   "source": [
    "i = 0\n",
    "sent = \"\"\n",
    "while i<len(l[0]):  #for getting the elements of word\n",
    "    j = 0\n",
    "    while j<len(l):  #for getting the element\n",
    "        sent += l[j][i]\n",
    "        j += 1\n",
    "    i += 1\n",
    "    sent += \" \"\n",
    "print(sent)\n",
    "\n",
    "#i = 0, j = 0, sent += l[0][0] = o\n",
    "        #j = 1, sent += l[1][0] = h\n",
    "        #j = 2 , send += l[2][0] = a\n",
    "        \n",
    "#i = 1"
   ]
  },
  {
   "cell_type": "code",
   "execution_count": 14,
   "metadata": {},
   "outputs": [
    {
     "name": "stdout",
     "output_type": "stream",
     "text": [
      "['o', 'n', 'e', 'h', 'a', 's', 't', 'w', 'o']\n"
     ]
    }
   ],
   "source": [
    "l = [\"one\",\"has\",\"two\"]\n",
    "i=1\n",
    "p=[]\n",
    "while(i<=len(l)):\n",
    "    k=l[i-1]\n",
    "    #print(k) \n",
    "    j=0\n",
    "    while j<len(k):\n",
    "        letter=k[j]\n",
    "        p.append(letter)\n",
    "        j+=1\n",
    "       \n",
    "    i+=1\n",
    "print(p)\n",
    "\n"
   ]
  },
  {
   "cell_type": "code",
   "execution_count": 24,
   "metadata": {},
   "outputs": [
    {
     "name": "stdout",
     "output_type": "stream",
     "text": [
      "('o', 'h', 'a') ('n', 'a', 'l') ('e', 's', 'l')\n"
     ]
    }
   ],
   "source": [
    "print(*zip(*l))  #zip(\"one\",\"has\",\"all\")"
   ]
  },
  {
   "cell_type": "code",
   "execution_count": 28,
   "metadata": {},
   "outputs": [
    {
     "name": "stdout",
     "output_type": "stream",
     "text": [
      "oha nal esl \n"
     ]
    }
   ],
   "source": [
    "sent = \"\"\n",
    "for i in zip(*l):\n",
    "    a = \"\".join(i)\n",
    "    sent += a+ \" \"\n",
    "print(sent)"
   ]
  },
  {
   "cell_type": "code",
   "execution_count": 29,
   "metadata": {},
   "outputs": [],
   "source": [
    "from random import randint\n",
    "\n",
    "name = ['raj','tarun','shubham','rahul','tushar','shahid','shruti','sonam']\n",
    "maths = []\n",
    "eng = []\n",
    "hindi = []\n",
    "for i in name:\n",
    "    maths.append(randint(50,100))\n",
    "    eng.append(randint(50,100))\n",
    "    hindi.append(randint(50,100))"
   ]
  },
  {
   "cell_type": "code",
   "execution_count": 30,
   "metadata": {},
   "outputs": [
    {
     "name": "stdout",
     "output_type": "stream",
     "text": [
      "[57, 76, 98, 73, 85, 71, 67, 91]\n"
     ]
    }
   ],
   "source": [
    "print(maths)"
   ]
  },
  {
   "cell_type": "code",
   "execution_count": 31,
   "metadata": {},
   "outputs": [
    {
     "name": "stdout",
     "output_type": "stream",
     "text": [
      "[71, 60, 87, 94, 80, 70, 80, 59]\n"
     ]
    }
   ],
   "source": [
    "print(eng)"
   ]
  },
  {
   "cell_type": "code",
   "execution_count": 32,
   "metadata": {},
   "outputs": [
    {
     "name": "stdout",
     "output_type": "stream",
     "text": [
      "[64, 81, 66, 51, 95, 95, 58, 64]\n"
     ]
    }
   ],
   "source": [
    "print(hindi)"
   ]
  },
  {
   "cell_type": "code",
   "execution_count": 34,
   "metadata": {},
   "outputs": [
    {
     "name": "stdout",
     "output_type": "stream",
     "text": [
      "\n",
      "Try hard... raj\n",
      "\n",
      "Good, Can do better  tarun\n",
      "\n",
      "Very Good, Keep it up  shubham\n",
      "\n",
      "Good, Can do better  rahul\n",
      "\n",
      "Very Good, Keep it up  tushar\n",
      "\n",
      "Good, Can do better  shahid\n",
      "\n",
      "Try hard... shruti\n",
      "\n",
      "Good, Can do better  sonam\n"
     ]
    }
   ],
   "source": [
    "for n,m,e,h in zip(name,maths,eng,hindi):\n",
    "    per = (m+e+h)/3\n",
    "    if per>=80:\n",
    "        print(\"\\nVery Good, Keep it up \",n)\n",
    "    elif 70<=per<80:\n",
    "        print(\"\\nGood, Can do better \",n)\n",
    "    elif 60<=per<70:\n",
    "        print(\"\\nTry hard...\",n)\n",
    "    else:\n",
    "        print(\"\\n Need to do a lot of hard work...\",n)"
   ]
  },
  {
   "cell_type": "markdown",
   "metadata": {},
   "source": [
    "                                    m\n",
    "                              c1          c2\n",
    "                              \n",
    "#### You will be given input of position of cat and position of mouse and you have to find who will eat the mouse first\n"
   ]
  },
  {
   "cell_type": "code",
   "execution_count": 36,
   "metadata": {},
   "outputs": [
    {
     "name": "stdout",
     "output_type": "stream",
     "text": [
      "\n",
      " Enter the number of cases that you want to give : 3\n",
      "\n",
      " Mouse : 5\n",
      "\n",
      " Cat1 : 2\n",
      "\n",
      " Cat2 : 3\n",
      "\n",
      " Cat2 won....\n",
      "\n",
      " Mouse : 6\n",
      "\n",
      " Cat1 : 2\n",
      "\n",
      " Cat2 : 2\n",
      "\n",
      " Mouse won....\n",
      "\n",
      " Mouse : 7\n",
      "\n",
      " Cat1 : 5\n",
      "\n",
      " Cat2 : 2\n",
      "\n",
      " Cat1 won....\n"
     ]
    }
   ],
   "source": [
    "n = int(input(\"\\n Enter the number of cases that you want to give : \"))\n",
    "i = 0\n",
    "while i<n:\n",
    "    m = int(input(\"\\n Mouse : \"))\n",
    "    c1 = int(input(\"\\n Cat1 : \"))\n",
    "    c2 = int(input(\"\\n Cat2 : \"))\n",
    "    if m-c1 < m-c2:\n",
    "        print(\"\\n Cat1 won....\")\n",
    "    elif m-c1> m-c2:\n",
    "        print(\"\\n Cat2 won....\")\n",
    "    else:\n",
    "        print(\"\\n Mouse won....\")\n",
    "    i += 1"
   ]
  },
  {
   "cell_type": "markdown",
   "metadata": {},
   "source": [
    "### range\n",
    "    range(start,stop,step) --> default start = 0, stop = end, step = 1"
   ]
  },
  {
   "cell_type": "code",
   "execution_count": 39,
   "metadata": {},
   "outputs": [
    {
     "name": "stdout",
     "output_type": "stream",
     "text": [
      "0 1 2 3 4 5 6 7 8 9 10 11 12 13 14 15 16 17 18 19\n"
     ]
    }
   ],
   "source": [
    "print(*range(20))"
   ]
  },
  {
   "cell_type": "code",
   "execution_count": 40,
   "metadata": {},
   "outputs": [
    {
     "name": "stdout",
     "output_type": "stream",
     "text": [
      "1 3 5 7 9\n"
     ]
    }
   ],
   "source": [
    "print(*range(1,10,2))"
   ]
  },
  {
   "cell_type": "code",
   "execution_count": 41,
   "metadata": {},
   "outputs": [
    {
     "name": "stdout",
     "output_type": "stream",
     "text": [
      "10 9 8 7 6\n"
     ]
    }
   ],
   "source": [
    "print(*range(10,5,-1))"
   ]
  },
  {
   "cell_type": "code",
   "execution_count": 43,
   "metadata": {},
   "outputs": [
    {
     "name": "stdout",
     "output_type": "stream",
     "text": [
      "1 2 3 4 5 6 7 8 9 10 11 12 13 14 15 16 17 18 19 20 21 22 23 24 25 26 27 28 29 30 31 32 33 34 35 36 37 38 39 40 41 42 43 44 45 46 47 48 49 50 51 52 53 54 55 56 57 58 59 60 61 62 63 64 65 66 67 68 69 70 71 72 73 74 75 76 77 78 79 80 81 82 83 84 85 86 87 88 89 90 91 92 93 94 95 96 97 98 99 100\n"
     ]
    }
   ],
   "source": [
    "print(*range(1,101))"
   ]
  },
  {
   "cell_type": "code",
   "execution_count": 44,
   "metadata": {},
   "outputs": [
    {
     "name": "stdout",
     "output_type": "stream",
     "text": [
      "2 4 6 8 10 12 14 16 18 20 22 24 26 28 30 32 34 36 38 40 42 44 46 48 50 52 54 56 58 60 62 64 66 68 70 72 74 76 78 80 82 84 86 88 90 92 94 96 98 100\n"
     ]
    }
   ],
   "source": [
    "print(*range(2,101,2))"
   ]
  },
  {
   "cell_type": "code",
   "execution_count": 45,
   "metadata": {},
   "outputs": [
    {
     "name": "stdout",
     "output_type": "stream",
     "text": [
      "1 3 5 7 9 11 13 15 17 19 21 23 25 27 29 31 33 35 37 39 41 43 45 47 49 51 53 55 57 59 61 63 65 67 69 71 73 75 77 79 81 83 85 87 89 91 93 95 97 99\n"
     ]
    }
   ],
   "source": [
    "print(*range(1,101,2))"
   ]
  },
  {
   "cell_type": "code",
   "execution_count": 46,
   "metadata": {},
   "outputs": [
    {
     "name": "stdout",
     "output_type": "stream",
     "text": [
      "5 10 15 20 25 30 35 40 45 50\n"
     ]
    }
   ],
   "source": [
    "print(*range(5,51,5))"
   ]
  },
  {
   "cell_type": "code",
   "execution_count": 47,
   "metadata": {},
   "outputs": [
    {
     "name": "stdout",
     "output_type": "stream",
     "text": [
      "\n"
     ]
    }
   ],
   "source": [
    "print(*range(34,45,-1))"
   ]
  },
  {
   "cell_type": "code",
   "execution_count": 48,
   "metadata": {},
   "outputs": [
    {
     "name": "stdout",
     "output_type": "stream",
     "text": [
      "0\n",
      "1\n",
      "2\n",
      "3\n",
      "4\n",
      "5\n",
      "6\n",
      "7\n",
      "8\n",
      "9\n"
     ]
    }
   ],
   "source": [
    "for i in range(10):\n",
    "    print(i)"
   ]
  },
  {
   "cell_type": "code",
   "execution_count": 49,
   "metadata": {},
   "outputs": [
    {
     "name": "stdout",
     "output_type": "stream",
     "text": [
      "5\n",
      "10\n",
      "15\n",
      "20\n",
      "25\n",
      "30\n",
      "35\n",
      "40\n",
      "45\n",
      "50\n"
     ]
    }
   ],
   "source": [
    "for i in range(5,51,5):\n",
    "    print(i)"
   ]
  },
  {
   "cell_type": "code",
   "execution_count": 50,
   "metadata": {},
   "outputs": [
    {
     "name": "stdout",
     "output_type": "stream",
     "text": [
      "hello world\n",
      "hello world\n",
      "hello world\n",
      "hello world\n",
      "hello world\n",
      "hello world\n",
      "hello world\n",
      "hello world\n",
      "hello world\n",
      "hello world\n"
     ]
    }
   ],
   "source": [
    "for i in range(10):\n",
    "    print(\"hello world\")"
   ]
  },
  {
   "cell_type": "code",
   "execution_count": 51,
   "metadata": {},
   "outputs": [
    {
     "name": "stdout",
     "output_type": "stream",
     "text": [
      "hello world\n",
      "hello world\n",
      "hello world\n",
      "hello world\n",
      "hello world\n",
      "hello world\n",
      "hello world\n",
      "hello world\n",
      "hello world\n",
      "hello world\n",
      "hello world\n",
      "hello world\n",
      "hello world\n",
      "hello world\n",
      "hello world\n",
      "hello world\n",
      "hello world\n",
      "hello world\n",
      "hello world\n",
      "hello world\n",
      "hello world\n",
      "hello world\n",
      "hello world\n",
      "hello world\n",
      "hello world\n",
      "hello world\n",
      "hello world\n",
      "hello world\n",
      "hello world\n",
      "hello world\n",
      "hello world\n",
      "hello world\n",
      "hello world\n",
      "hello world\n",
      "hello world\n",
      "hello world\n",
      "hello world\n",
      "hello world\n",
      "hello world\n",
      "hello world\n",
      "hello world\n",
      "hello world\n",
      "hello world\n",
      "hello world\n",
      "hello world\n",
      "hello world\n",
      "hello world\n",
      "hello world\n",
      "hello world\n",
      "hello world\n"
     ]
    }
   ],
   "source": [
    "for i in range(50):\n",
    "    print(\"hello world\")"
   ]
  },
  {
   "cell_type": "code",
   "execution_count": 53,
   "metadata": {},
   "outputs": [
    {
     "name": "stdout",
     "output_type": "stream",
     "text": [
      "[78, 86, 99, 92, 68, 79, 98, 66]\n",
      "[65, 99, 78, 54, 93, 98, 62, 78]\n",
      "[88, 50, 69, 95, 87, 80, 68, 98]\n"
     ]
    }
   ],
   "source": [
    "from random import randint\n",
    "\n",
    "name = ['raj','tarun','shubham','rahul','tushar','shahid','shruti','sonam']\n",
    "maths = []\n",
    "eng = []\n",
    "hindi = []\n",
    "for i in range(8):  #0-7 \n",
    "    maths.append(randint(50,100))\n",
    "    eng.append(randint(50,100))\n",
    "    hindi.append(randint(50,100))\n",
    "    \n",
    "print(maths)\n",
    "print(hindi)\n",
    "print(eng)"
   ]
  },
  {
   "cell_type": "raw",
   "metadata": {},
   "source": [
    "*\n",
    "* * \n",
    "* * * \n",
    "* * * *"
   ]
  },
  {
   "cell_type": "code",
   "execution_count": 54,
   "metadata": {},
   "outputs": [
    {
     "name": "stdout",
     "output_type": "stream",
     "text": [
      "\n",
      " ENter any number : 5\n",
      "\n",
      "*\n",
      "**\n",
      "***\n",
      "****\n"
     ]
    }
   ],
   "source": [
    "n = int(input(\"\\n ENter any number : \"))\n",
    "for i in range(n):  #0-4\n",
    "    print(\"*\"*i)"
   ]
  },
  {
   "cell_type": "code",
   "execution_count": 55,
   "metadata": {},
   "outputs": [
    {
     "name": "stdout",
     "output_type": "stream",
     "text": [
      "\n",
      " ENter any number : 5\n",
      "*\n",
      "**\n",
      "***\n",
      "****\n",
      "*****\n"
     ]
    }
   ],
   "source": [
    "n = int(input(\"\\n ENter any number : \"))\n",
    "for i in range(1,n+1):  #1-5\n",
    "    print(\"*\"*i)"
   ]
  },
  {
   "cell_type": "code",
   "execution_count": 56,
   "metadata": {},
   "outputs": [
    {
     "data": {
      "text/plain": [
       "[78, 86, 99, 92, 68, 79, 98, 66]"
      ]
     },
     "execution_count": 56,
     "metadata": {},
     "output_type": "execute_result"
    }
   ],
   "source": [
    "maths"
   ]
  },
  {
   "cell_type": "code",
   "execution_count": 58,
   "metadata": {},
   "outputs": [
    {
     "name": "stdout",
     "output_type": "stream",
     "text": [
      "hello world\n",
      "hello world\n",
      "bye world\n",
      "hello world\n",
      "hello world\n",
      "bye world\n",
      "hello world\n",
      "hello world\n"
     ]
    }
   ],
   "source": [
    "for i in range(len(maths)):\n",
    "    if maths[i]%2 == 0:\n",
    "        print(\"hello world\")\n",
    "    else:\n",
    "        print(\"bye world\")"
   ]
  },
  {
   "cell_type": "code",
   "execution_count": 59,
   "metadata": {},
   "outputs": [
    {
     "data": {
      "text/plain": [
       "[88, 50, 69, 95, 87, 80, 68, 98]"
      ]
     },
     "execution_count": 59,
     "metadata": {},
     "output_type": "execute_result"
    }
   ],
   "source": [
    "eng"
   ]
  },
  {
   "cell_type": "code",
   "execution_count": 60,
   "metadata": {},
   "outputs": [
    {
     "data": {
      "text/plain": [
       "[65, 99, 78, 54, 93, 98, 62, 78]"
      ]
     },
     "execution_count": 60,
     "metadata": {},
     "output_type": "execute_result"
    }
   ],
   "source": [
    "hindi"
   ]
  },
  {
   "cell_type": "code",
   "execution_count": 61,
   "metadata": {},
   "outputs": [
    {
     "data": {
      "text/plain": [
       "['raj', 'tarun', 'shubham', 'rahul', 'tushar', 'shahid', 'shruti', 'sonam']"
      ]
     },
     "execution_count": 61,
     "metadata": {},
     "output_type": "execute_result"
    }
   ],
   "source": [
    "name"
   ]
  },
  {
   "cell_type": "code",
   "execution_count": 63,
   "metadata": {},
   "outputs": [],
   "source": [
    "d = {}\n",
    "for i in range(len(name)): #i --> 0-7\n",
    "    d[name[i]] = [maths[i],eng[i],hindi[i]]"
   ]
  },
  {
   "cell_type": "code",
   "execution_count": 64,
   "metadata": {},
   "outputs": [
    {
     "data": {
      "text/plain": [
       "{'raj': [78, 88, 65],\n",
       " 'tarun': [86, 50, 99],\n",
       " 'shubham': [99, 69, 78],\n",
       " 'rahul': [92, 95, 54],\n",
       " 'tushar': [68, 87, 93],\n",
       " 'shahid': [79, 80, 98],\n",
       " 'shruti': [98, 68, 62],\n",
       " 'sonam': [66, 98, 78]}"
      ]
     },
     "execution_count": 64,
     "metadata": {},
     "output_type": "execute_result"
    }
   ],
   "source": [
    "d"
   ]
  },
  {
   "cell_type": "code",
   "execution_count": 67,
   "metadata": {},
   "outputs": [
    {
     "name": "stdout",
     "output_type": "stream",
     "text": [
      "\n",
      " The sentence is :  oha nal esl \n"
     ]
    }
   ],
   "source": [
    "l = [\"one\",\"has\",\"all\"]\n",
    "sent = \"\"\n",
    "for i in range(len(l[0])):\n",
    "    for j in range(len(l)):\n",
    "        sent += l[j][i]\n",
    "    sent += \" \"\n",
    "print(\"\\n The sentence is : \",sent)"
   ]
  },
  {
   "cell_type": "code",
   "execution_count": 71,
   "metadata": {},
   "outputs": [
    {
     "name": "stdout",
     "output_type": "stream",
     "text": [
      "******************Guess Game....******************\n",
      "\n",
      " How many players are there in a game : 3\n",
      "\n",
      " Maximum chances that will be given is 5.....\n",
      "---------------------Player 1---------------------\n",
      "\n",
      " Choose a number between 1 to 100\n",
      "\n",
      " Enter number : 50\n",
      "\n",
      " Bro think High.....\n",
      "\n",
      " Choose a number between 1 to 100\n",
      "\n",
      " Enter number : 60\n",
      "\n",
      " Bro think lower......\n",
      "\n",
      " Choose a number between 1 to 100\n",
      "\n",
      " Enter number : 55\n",
      "\n",
      " Bro think High.....\n",
      "\n",
      " Choose a number between 1 to 100\n",
      "\n",
      " Enter number : 58\n",
      "\n",
      " Bro think lower......\n",
      "\n",
      " Choose a number between 1 to 100\n",
      "\n",
      " Enter number : 56\n",
      "\n",
      " Bro think High.....\n",
      "\n",
      " You lost your game and the actual number is  57\n",
      "---------------------Player 2---------------------\n",
      "\n",
      " Choose a number between 1 to 100\n",
      "\n",
      " Enter number : 40\n",
      "\n",
      " Bro think High.....\n",
      "\n",
      " Choose a number between 1 to 100\n",
      "\n",
      " Enter number : 60\n",
      "\n",
      " Bro think High.....\n",
      "\n",
      " Choose a number between 1 to 100\n",
      "\n",
      " Enter number : 80\n",
      "\n",
      " Bro think lower......\n",
      "\n",
      " Choose a number between 1 to 100\n",
      "\n",
      " Enter number : 70\n",
      "\n",
      " Bro think lower......\n",
      "\n",
      " Choose a number between 1 to 100\n",
      "\n",
      " Enter number : 65\n",
      "\n",
      " Bro think High.....\n",
      "\n",
      " You lost your game and the actual number is  67\n",
      "---------------------Player 3---------------------\n",
      "\n",
      " Choose a number between 1 to 100\n",
      "\n",
      " Enter number : 50\n",
      "\n",
      " Bro think lower......\n",
      "\n",
      " Choose a number between 1 to 100\n",
      "\n",
      " Enter number : 30\n",
      "\n",
      " Bro think High.....\n",
      "\n",
      " Choose a number between 1 to 100\n",
      "\n",
      " Enter number : 40\n",
      "\n",
      " Bro think lower......\n",
      "\n",
      " Choose a number between 1 to 100\n",
      "\n",
      " Enter number : 38\n",
      "\n",
      " Bro think High.....\n",
      "\n",
      " Choose a number between 1 to 100\n",
      "\n",
      " Enter number : 39\n",
      "\n",
      " You guessed the number after  5 guesses\n"
     ]
    }
   ],
   "source": [
    "print(\"Guess Game....\".center(50,\"*\"))\n",
    "n = int(input(\"\\n How many players are there in a game : \"))\n",
    "print(\"\\n Maximum chances that will be given is 5.....\")\n",
    "for i in range(n):\n",
    "    c = 0\n",
    "    comp = randint(1,100)\n",
    "    print(f\"Player {i+1}\".center(50,\"-\"))\n",
    "    for i in range(5):\n",
    "        print(\"\\n Choose a number between 1 to 100\")\n",
    "        ch = int(input(\"\\n Enter number : \"))\n",
    "        c += 1\n",
    "        if ch > comp:\n",
    "            print(\"\\n Bro think lower......\")\n",
    "        elif ch < comp:\n",
    "            print(\"\\n Bro think High.....\")\n",
    "        elif ch == comp:\n",
    "            print(\"\\n You guessed the number after \",c,\"guesses\")\n",
    "            break\n",
    "    else:\n",
    "        print(\"\\n You lost your game and the actual number is \",comp)"
   ]
  },
  {
   "cell_type": "markdown",
   "metadata": {},
   "source": [
    "#### Task for home is that you have to tell me that among all those players who playes together who won the match"
   ]
  },
  {
   "cell_type": "code",
   "execution_count": 70,
   "metadata": {},
   "outputs": [
    {
     "name": "stdout",
     "output_type": "stream",
     "text": [
      "1\n",
      "2\n",
      "3\n",
      "4\n"
     ]
    }
   ],
   "source": [
    "i = 0\n",
    "while i<10:\n",
    "    i += 1\n",
    "    if i == 5:\n",
    "        break\n",
    "    print(i)\n",
    "else:\n",
    "    print(\"hey\")"
   ]
  },
  {
   "cell_type": "code",
   "execution_count": 75,
   "metadata": {},
   "outputs": [
    {
     "name": "stdout",
     "output_type": "stream",
     "text": [
      "1\n",
      "3\n",
      "5\n",
      "7\n",
      "49\n",
      "9\n",
      "11\n"
     ]
    }
   ],
   "source": [
    "for i in range(1,20,2):\n",
    "    print(i)\n",
    "    if i%7 == 0:\n",
    "        print(i**2)\n",
    "    elif i%11 == 0:\n",
    "        break"
   ]
  },
  {
   "cell_type": "code",
   "execution_count": 80,
   "metadata": {},
   "outputs": [
    {
     "name": "stdout",
     "output_type": "stream",
     "text": [
      "\n",
      " The maximum value is :  101\n",
      "\n",
      " The minimum value is :  1\n"
     ]
    }
   ],
   "source": [
    "#find largest number among the list\n",
    "l = [10,34,45,56,78,23,90,101,1,9,56]\n",
    "maxi = 0 #initial the maximum value is set to 0\n",
    "for i in l:\n",
    "    if i>maxi:\n",
    "        maxi = i  #update the maxi variable with the new greater than element\n",
    "print(\"\\n The maximum value is : \",maxi)\n",
    "\n",
    "#find the minimum among the list\n",
    "mini = maxi\n",
    "for i in l:\n",
    "    if i<mini:\n",
    "        mini = i\n",
    "print(\"\\n The minimum value is : \",mini)\n"
   ]
  },
  {
   "cell_type": "markdown",
   "metadata": {},
   "source": [
    "### to find the index of minimum and maximum element"
   ]
  },
  {
   "cell_type": "code",
   "execution_count": null,
   "metadata": {},
   "outputs": [],
   "source": []
  }
 ],
 "metadata": {
  "kernelspec": {
   "display_name": "Python 3",
   "language": "python",
   "name": "python3"
  },
  "language_info": {
   "codemirror_mode": {
    "name": "ipython",
    "version": 3
   },
   "file_extension": ".py",
   "mimetype": "text/x-python",
   "name": "python",
   "nbconvert_exporter": "python",
   "pygments_lexer": "ipython3",
   "version": "3.7.4"
  }
 },
 "nbformat": 4,
 "nbformat_minor": 2
}
