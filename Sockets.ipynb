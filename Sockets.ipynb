{
 "cells": [
  {
   "cell_type": "code",
   "execution_count": 1,
   "metadata": {},
   "outputs": [],
   "source": [
    "a = 1010\n",
    "d = 2**3*1+0+1*2+0*2**0"
   ]
  },
  {
   "cell_type": "code",
   "execution_count": 2,
   "metadata": {},
   "outputs": [
    {
     "data": {
      "text/plain": [
       "10"
      ]
     },
     "execution_count": 2,
     "metadata": {},
     "output_type": "execute_result"
    }
   ],
   "source": [
    "d"
   ]
  },
  {
   "cell_type": "markdown",
   "metadata": {},
   "source": [
    "    11 --> 1**2 + 2 + 1**2 --> 1 2 1\n",
    "    1 2 1 --> (x+y+z)**2"
   ]
  },
  {
   "cell_type": "markdown",
   "metadata": {},
   "source": [
    "### Sockets\n",
    "\n",
    "    Interface --> medium \n",
    "    two applications, two computers\n",
    "    \n",
    "    network ---> collection of devices connected\n",
    "    IP --> Internet Protocol\n",
    "    Internet --> Internetwork (devices are in different network)\n",
    "    Intranet --> Intranetwork (devices are in same network)\n",
    "    Public Ip --> That is availabel publicly\n",
    "    Private Ip --> That is not availabel publicly\n",
    "    facebook.com --> domain --> for human\n",
    "    domain --> IP --> server ip --> DNS (Domain Name Server)\n",
    "    localhost --> IP --> 127.0.0.1\n",
    "    port --> gateway that allows the request to come to that application if you allow the port in firewall\n",
    "    port --> 0 - 65535\n",
    "    \n",
    "        comp1              comp2\n",
    "         IP                 IP\n",
    "        192.168.1.10      193.168.1.11 \n",
    "        \n",
    "        Comp1 and comp2 are in same network\n",
    "        \n",
    "     1. Local  --> Same network\n",
    "     2. Global --> Different network\n",
    "         "
   ]
  },
  {
   "cell_type": "code",
   "execution_count": 4,
   "metadata": {},
   "outputs": [
    {
     "name": "stdout",
     "output_type": "stream",
     "text": [
      "\n",
      "Pinging www.google.com [172.217.166.36] with 32 bytes of data:\n",
      "Reply from 172.217.166.36: bytes=32 time=20ms TTL=119\n",
      "Reply from 172.217.166.36: bytes=32 time=23ms TTL=119\n",
      "Reply from 172.217.166.36: bytes=32 time=70ms TTL=119\n",
      "Reply from 172.217.166.36: bytes=32 time=24ms TTL=119\n",
      "\n",
      "Ping statistics for 172.217.166.36:\n",
      "    Packets: Sent = 4, Received = 4, Lost = 0 (0% loss),\n",
      "Approximate round trip times in milli-seconds:\n",
      "    Minimum = 20ms, Maximum = 70ms, Average = 34ms\n"
     ]
    }
   ],
   "source": [
    "!ping www.google.com"
   ]
  },
  {
   "cell_type": "code",
   "execution_count": 5,
   "metadata": {},
   "outputs": [
    {
     "name": "stdout",
     "output_type": "stream",
     "text": [
      "\n",
      "Pinging star-mini.c10r.facebook.com [31.13.79.35] with 32 bytes of data:\n",
      "Reply from 31.13.79.35: bytes=32 time=22ms TTL=59\n",
      "Reply from 31.13.79.35: bytes=32 time=21ms TTL=59\n",
      "Reply from 31.13.79.35: bytes=32 time=19ms TTL=59\n",
      "Reply from 31.13.79.35: bytes=32 time=21ms TTL=59\n",
      "\n",
      "Ping statistics for 31.13.79.35:\n",
      "    Packets: Sent = 4, Received = 4, Lost = 0 (0% loss),\n",
      "Approximate round trip times in milli-seconds:\n",
      "    Minimum = 19ms, Maximum = 22ms, Average = 20ms\n"
     ]
    }
   ],
   "source": [
    "!ping www.facebook.com"
   ]
  },
  {
   "cell_type": "code",
   "execution_count": 6,
   "metadata": {},
   "outputs": [
    {
     "data": {
      "text/plain": [
       "256"
      ]
     },
     "execution_count": 6,
     "metadata": {},
     "output_type": "execute_result"
    }
   ],
   "source": [
    "2**8"
   ]
  },
  {
   "cell_type": "markdown",
   "metadata": {},
   "source": [
    "    Ip :  I\n",
    "    IPv4\n",
    "        8.8.8.8 --> 32 bits\n",
    "        binary\n",
    "        Decimal --> 0-255.0-255.0-255.0-255\n",
    "        Classes\n",
    "        A --> 1-126 --> N.H.H.H\n",
    "        B --> 128-191 --> N.N.H.H\n",
    "        C --> 192 - 223 --> N.N.N.H\n",
    "        D --> 223 - 232 --> N.N.N.N\n",
    "        E --> 233 - 254\n",
    "        \n",
    "        172.168.1.10 --> B\n",
    "        192.178.1.11 --> C\n",
    "    IPv6\n",
    "        128 bits\n",
    "        hexadecimal"
   ]
  },
  {
   "cell_type": "markdown",
   "metadata": {},
   "source": [
    "    192.168.1.3 - 192.168.1.4 --> Same Network\n",
    "    172.111.1.10 - 172.110.1.11 --> Different Network"
   ]
  },
  {
   "cell_type": "markdown",
   "metadata": {},
   "source": [
    "        Socket --> (ip,port)\n",
    "        \n",
    "        Client                   Server\n",
    "        Request                 192.168.1.4 , 1234\n",
    "        192.168.1.4:1234"
   ]
  },
  {
   "cell_type": "markdown",
   "metadata": {},
   "source": [
    "        Server Socket \n",
    "        \n",
    "        1. Address Family(IP4/IP6) , Protocol(TCP/UDP)\n",
    "            TCP --> Transfer Control Protocol\n",
    "            UDP --> User Datagram Protocol\n",
    "        2. Socket -> IP, Port bind\n",
    "        3. Listen --> We are ready to listen the request of client\n",
    "        4. Accept --> Accept the request the client and store the address or socket of client to respond it back\n",
    "        5. Exchange data from client to server and back\n",
    "        \n",
    "        \n",
    "        Client Socket\n",
    "        \n",
    "        1. Server --> ip, Port\n",
    "        2. connect to Server \n",
    "        3. exchange\n",
    "        4. close socket"
   ]
  },
  {
   "cell_type": "code",
   "execution_count": null,
   "metadata": {},
   "outputs": [],
   "source": []
  }
 ],
 "metadata": {
  "kernelspec": {
   "display_name": "Python 3",
   "language": "python",
   "name": "python3"
  },
  "language_info": {
   "codemirror_mode": {
    "name": "ipython",
    "version": 3
   },
   "file_extension": ".py",
   "mimetype": "text/x-python",
   "name": "python",
   "nbconvert_exporter": "python",
   "pygments_lexer": "ipython3",
   "version": "3.7.4"
  }
 },
 "nbformat": 4,
 "nbformat_minor": 2
}
