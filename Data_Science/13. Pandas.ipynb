{
 "cells": [
  {
   "cell_type": "code",
   "execution_count": 1,
   "metadata": {},
   "outputs": [],
   "source": [
    "import pandas as pd\n",
    "import numpy as np\n",
    "import matplotlib.pyplot as plt\n",
    "import seaborn as sns"
   ]
  },
  {
   "cell_type": "markdown",
   "metadata": {},
   "source": [
    "#### Z-index\n",
    "\n",
    "$$ \\text{z_index} = \\frac {v-u} {s} $$\n",
    "\n",
    "    where v --> value , u --> mean and s --> std\n",
    "       \n",
    "    if z_index >1 (or 3 or depend on data) then that value is ourlier"
   ]
  },
  {
   "cell_type": "code",
   "execution_count": 39,
   "metadata": {},
   "outputs": [],
   "source": [
    "d1 = np.random.randint(10,50,40)\n",
    "d2 = np.random.randint(200,250,10)\n",
    "\n",
    "d = np.concatenate((d1,d2))\n",
    "np.random.shuffle(d)\n",
    "d = d.reshape(10,5)"
   ]
  },
  {
   "cell_type": "code",
   "execution_count": 40,
   "metadata": {},
   "outputs": [
    {
     "data": {
      "text/plain": [
       "array([[ 47,  28, 248,  10,  17],\n",
       "       [ 18, 221,  46, 236,  42],\n",
       "       [ 19,  21,  47, 231,  34],\n",
       "       [ 11,  31,  25,  49, 235],\n",
       "       [ 13,  38,  47,  49,  32],\n",
       "       [ 15,  36,  25,  45,  16],\n",
       "       [224, 205,  15, 246,  24],\n",
       "       [ 12,  38,  39,  18,  16],\n",
       "       [ 47,  37,  24,  11, 236],\n",
       "       [207,  32,  20,  38,  28]])"
      ]
     },
     "execution_count": 40,
     "metadata": {},
     "output_type": "execute_result"
    }
   ],
   "source": [
    "d"
   ]
  },
  {
   "cell_type": "code",
   "execution_count": 41,
   "metadata": {},
   "outputs": [],
   "source": [
    "df = pd.DataFrame(d,columns=list(\"ABCDE\"))"
   ]
  },
  {
   "cell_type": "code",
   "execution_count": 42,
   "metadata": {},
   "outputs": [
    {
     "data": {
      "text/html": [
       "<div>\n",
       "<style scoped>\n",
       "    .dataframe tbody tr th:only-of-type {\n",
       "        vertical-align: middle;\n",
       "    }\n",
       "\n",
       "    .dataframe tbody tr th {\n",
       "        vertical-align: top;\n",
       "    }\n",
       "\n",
       "    .dataframe thead th {\n",
       "        text-align: right;\n",
       "    }\n",
       "</style>\n",
       "<table border=\"1\" class=\"dataframe\">\n",
       "  <thead>\n",
       "    <tr style=\"text-align: right;\">\n",
       "      <th></th>\n",
       "      <th>A</th>\n",
       "      <th>B</th>\n",
       "      <th>C</th>\n",
       "      <th>D</th>\n",
       "      <th>E</th>\n",
       "    </tr>\n",
       "  </thead>\n",
       "  <tbody>\n",
       "    <tr>\n",
       "      <td>0</td>\n",
       "      <td>47</td>\n",
       "      <td>28</td>\n",
       "      <td>248</td>\n",
       "      <td>10</td>\n",
       "      <td>17</td>\n",
       "    </tr>\n",
       "    <tr>\n",
       "      <td>1</td>\n",
       "      <td>18</td>\n",
       "      <td>221</td>\n",
       "      <td>46</td>\n",
       "      <td>236</td>\n",
       "      <td>42</td>\n",
       "    </tr>\n",
       "    <tr>\n",
       "      <td>2</td>\n",
       "      <td>19</td>\n",
       "      <td>21</td>\n",
       "      <td>47</td>\n",
       "      <td>231</td>\n",
       "      <td>34</td>\n",
       "    </tr>\n",
       "    <tr>\n",
       "      <td>3</td>\n",
       "      <td>11</td>\n",
       "      <td>31</td>\n",
       "      <td>25</td>\n",
       "      <td>49</td>\n",
       "      <td>235</td>\n",
       "    </tr>\n",
       "    <tr>\n",
       "      <td>4</td>\n",
       "      <td>13</td>\n",
       "      <td>38</td>\n",
       "      <td>47</td>\n",
       "      <td>49</td>\n",
       "      <td>32</td>\n",
       "    </tr>\n",
       "    <tr>\n",
       "      <td>5</td>\n",
       "      <td>15</td>\n",
       "      <td>36</td>\n",
       "      <td>25</td>\n",
       "      <td>45</td>\n",
       "      <td>16</td>\n",
       "    </tr>\n",
       "    <tr>\n",
       "      <td>6</td>\n",
       "      <td>224</td>\n",
       "      <td>205</td>\n",
       "      <td>15</td>\n",
       "      <td>246</td>\n",
       "      <td>24</td>\n",
       "    </tr>\n",
       "    <tr>\n",
       "      <td>7</td>\n",
       "      <td>12</td>\n",
       "      <td>38</td>\n",
       "      <td>39</td>\n",
       "      <td>18</td>\n",
       "      <td>16</td>\n",
       "    </tr>\n",
       "    <tr>\n",
       "      <td>8</td>\n",
       "      <td>47</td>\n",
       "      <td>37</td>\n",
       "      <td>24</td>\n",
       "      <td>11</td>\n",
       "      <td>236</td>\n",
       "    </tr>\n",
       "    <tr>\n",
       "      <td>9</td>\n",
       "      <td>207</td>\n",
       "      <td>32</td>\n",
       "      <td>20</td>\n",
       "      <td>38</td>\n",
       "      <td>28</td>\n",
       "    </tr>\n",
       "  </tbody>\n",
       "</table>\n",
       "</div>"
      ],
      "text/plain": [
       "     A    B    C    D    E\n",
       "0   47   28  248   10   17\n",
       "1   18  221   46  236   42\n",
       "2   19   21   47  231   34\n",
       "3   11   31   25   49  235\n",
       "4   13   38   47   49   32\n",
       "5   15   36   25   45   16\n",
       "6  224  205   15  246   24\n",
       "7   12   38   39   18   16\n",
       "8   47   37   24   11  236\n",
       "9  207   32   20   38   28"
      ]
     },
     "execution_count": 42,
     "metadata": {},
     "output_type": "execute_result"
    }
   ],
   "source": [
    "df"
   ]
  },
  {
   "cell_type": "code",
   "execution_count": 43,
   "metadata": {},
   "outputs": [
    {
     "data": {
      "text/plain": [
       "0     47\n",
       "1     18\n",
       "2     19\n",
       "3     11\n",
       "4     13\n",
       "5     15\n",
       "6    224\n",
       "7     12\n",
       "8     47\n",
       "9    207\n",
       "Name: A, dtype: int32"
      ]
     },
     "execution_count": 43,
     "metadata": {},
     "output_type": "execute_result"
    }
   ],
   "source": [
    "df['A']"
   ]
  },
  {
   "cell_type": "code",
   "execution_count": 24,
   "metadata": {},
   "outputs": [],
   "source": [
    "m = df['A'].mean()\n",
    "s = df['A'].std()"
   ]
  },
  {
   "cell_type": "code",
   "execution_count": 25,
   "metadata": {},
   "outputs": [
    {
     "data": {
      "text/plain": [
       "53.4"
      ]
     },
     "execution_count": 25,
     "metadata": {},
     "output_type": "execute_result"
    }
   ],
   "source": [
    "m"
   ]
  },
  {
   "cell_type": "code",
   "execution_count": 26,
   "metadata": {},
   "outputs": [
    {
     "data": {
      "text/plain": [
       "65.08660896579777"
      ]
     },
     "execution_count": 26,
     "metadata": {},
     "output_type": "execute_result"
    }
   ],
   "source": [
    "s"
   ]
  },
  {
   "cell_type": "code",
   "execution_count": 27,
   "metadata": {},
   "outputs": [],
   "source": [
    "z = (df.loc[0,'A'] - m)/s"
   ]
  },
  {
   "cell_type": "code",
   "execution_count": 28,
   "metadata": {},
   "outputs": [
    {
     "data": {
      "text/plain": [
       "-0.20587952288375538"
      ]
     },
     "execution_count": 28,
     "metadata": {},
     "output_type": "execute_result"
    }
   ],
   "source": [
    "z"
   ]
  },
  {
   "cell_type": "code",
   "execution_count": 29,
   "metadata": {},
   "outputs": [],
   "source": [
    "z = (df.loc[7,'A'] - m)/s"
   ]
  },
  {
   "cell_type": "code",
   "execution_count": 30,
   "metadata": {},
   "outputs": [
    {
     "data": {
      "text/plain": [
       "2.790128459379849"
      ]
     },
     "execution_count": 30,
     "metadata": {},
     "output_type": "execute_result"
    }
   ],
   "source": [
    "z"
   ]
  },
  {
   "cell_type": "code",
   "execution_count": 36,
   "metadata": {},
   "outputs": [
    {
     "data": {
      "text/html": [
       "<div>\n",
       "<style scoped>\n",
       "    .dataframe tbody tr th:only-of-type {\n",
       "        vertical-align: middle;\n",
       "    }\n",
       "\n",
       "    .dataframe tbody tr th {\n",
       "        vertical-align: top;\n",
       "    }\n",
       "\n",
       "    .dataframe thead th {\n",
       "        text-align: right;\n",
       "    }\n",
       "</style>\n",
       "<table border=\"1\" class=\"dataframe\">\n",
       "  <thead>\n",
       "    <tr style=\"text-align: right;\">\n",
       "      <th></th>\n",
       "      <th>A</th>\n",
       "      <th>B</th>\n",
       "      <th>C</th>\n",
       "      <th>D</th>\n",
       "      <th>E</th>\n",
       "    </tr>\n",
       "  </thead>\n",
       "  <tbody>\n",
       "    <tr>\n",
       "      <td>0</td>\n",
       "      <td>215</td>\n",
       "      <td>15</td>\n",
       "      <td>33</td>\n",
       "      <td>18</td>\n",
       "      <td>36</td>\n",
       "    </tr>\n",
       "    <tr>\n",
       "      <td>1</td>\n",
       "      <td>202</td>\n",
       "      <td>29</td>\n",
       "      <td>34</td>\n",
       "      <td>26</td>\n",
       "      <td>35</td>\n",
       "    </tr>\n",
       "    <tr>\n",
       "      <td>2</td>\n",
       "      <td>235</td>\n",
       "      <td>27</td>\n",
       "      <td>17</td>\n",
       "      <td>241</td>\n",
       "      <td>27</td>\n",
       "    </tr>\n",
       "    <tr>\n",
       "      <td>3</td>\n",
       "      <td>26</td>\n",
       "      <td>231</td>\n",
       "      <td>45</td>\n",
       "      <td>241</td>\n",
       "      <td>201</td>\n",
       "    </tr>\n",
       "    <tr>\n",
       "      <td>4</td>\n",
       "      <td>244</td>\n",
       "      <td>18</td>\n",
       "      <td>43</td>\n",
       "      <td>40</td>\n",
       "      <td>38</td>\n",
       "    </tr>\n",
       "    <tr>\n",
       "      <td>5</td>\n",
       "      <td>19</td>\n",
       "      <td>34</td>\n",
       "      <td>45</td>\n",
       "      <td>42</td>\n",
       "      <td>23</td>\n",
       "    </tr>\n",
       "    <tr>\n",
       "      <td>6</td>\n",
       "      <td>46</td>\n",
       "      <td>21</td>\n",
       "      <td>45</td>\n",
       "      <td>49</td>\n",
       "      <td>27</td>\n",
       "    </tr>\n",
       "    <tr>\n",
       "      <td>7</td>\n",
       "      <td>34</td>\n",
       "      <td>16</td>\n",
       "      <td>17</td>\n",
       "      <td>35</td>\n",
       "      <td>35</td>\n",
       "    </tr>\n",
       "    <tr>\n",
       "      <td>8</td>\n",
       "      <td>29</td>\n",
       "      <td>219</td>\n",
       "      <td>25</td>\n",
       "      <td>32</td>\n",
       "      <td>209</td>\n",
       "    </tr>\n",
       "    <tr>\n",
       "      <td>9</td>\n",
       "      <td>35</td>\n",
       "      <td>27</td>\n",
       "      <td>30</td>\n",
       "      <td>10</td>\n",
       "      <td>28</td>\n",
       "    </tr>\n",
       "  </tbody>\n",
       "</table>\n",
       "</div>"
      ],
      "text/plain": [
       "     A    B   C    D    E\n",
       "0  215   15  33   18   36\n",
       "1  202   29  34   26   35\n",
       "2  235   27  17  241   27\n",
       "3   26  231  45  241  201\n",
       "4  244   18  43   40   38\n",
       "5   19   34  45   42   23\n",
       "6   46   21  45   49   27\n",
       "7   34   16  17   35   35\n",
       "8   29  219  25   32  209\n",
       "9   35   27  30   10   28"
      ]
     },
     "execution_count": 36,
     "metadata": {},
     "output_type": "execute_result"
    }
   ],
   "source": [
    "df"
   ]
  },
  {
   "cell_type": "code",
   "execution_count": 44,
   "metadata": {},
   "outputs": [
    {
     "name": "stdout",
     "output_type": "stream",
     "text": [
      "{'A': [224, 207], 'B': [221, 205], 'C': [248], 'D': [236, 231, 246], 'E': [235, 236]}\n"
     ]
    }
   ],
   "source": [
    "d = {}  #in this dictionary the keys will be column and values will be the list of outliers\n",
    "for i in df:\n",
    "    m = df[i].mean()\n",
    "    s = df[i].std()\n",
    "    l = []\n",
    "    for j in df[i]:\n",
    "        z = (j - m)/s\n",
    "        if z>1:\n",
    "            l.append(j)\n",
    "    d[i] = l\n",
    "print(d)"
   ]
  },
  {
   "cell_type": "code",
   "execution_count": 33,
   "metadata": {},
   "outputs": [
    {
     "data": {
      "image/png": "[encoded data removed]",
      "text/plain": [
       "<Figure size 432x288 with 1 Axes>"
      ]
     },
     "metadata": {
      "needs_background": "light"
     },
     "output_type": "display_data"
    },
    {
     "data": {
      "image/png": "[encoded data removed]",
      "text/plain": [
       "<Figure size 432x288 with 1 Axes>"
      ]
     },
     "metadata": {
      "needs_background": "light"
     },
     "output_type": "display_data"
    },
    {
     "data": {
      "image/png": "[encoded data removed]",
      "text/plain": [
       "<Figure size 432x288 with 1 Axes>"
      ]
     },
     "metadata": {
      "needs_background": "light"
     },
     "output_type": "display_data"
    },
    {
     "data": {
      "image/png": "[encoded data removed]",
      "text/plain": [
       "<Figure size 432x288 with 1 Axes>"
      ]
     },
     "metadata": {
      "needs_background": "light"
     },
     "output_type": "display_data"
    },
    {
     "data": {
      "image/png": "[encoded data removed]",
      "text/plain": [
       "<Figure size 432x288 with 1 Axes>"
      ]
     },
     "metadata": {
      "needs_background": "light"
     },
     "output_type": "display_data"
    }
   ],
   "source": [
    "for i in df:\n",
    "    df[i].plot(kind=\"hist\",ec='k',bins=30)\n",
    "    plt.show()"
   ]
  },
  {
   "cell_type": "code",
   "execution_count": 45,
   "metadata": {},
   "outputs": [
    {
     "data": {
      "text/plain": [
       "{'A': [224, 207],\n",
       " 'B': [221, 205],\n",
       " 'C': [248],\n",
       " 'D': [236, 231, 246],\n",
       " 'E': [235, 236]}"
      ]
     },
     "execution_count": 45,
     "metadata": {},
     "output_type": "execute_result"
    }
   ],
   "source": [
    "def get_outliers(df):\n",
    "    d = {}  #in this dictionary the keys will be column and values will be the list of outliers\n",
    "    for i in df:\n",
    "        m = df[i].mean()\n",
    "        s = df[i].std()\n",
    "        l = []\n",
    "        for j in df[i]:\n",
    "            z = (j - m)/s\n",
    "            if z>1.1:\n",
    "                l.append(j)\n",
    "        d[i] = l\n",
    "    return d\n",
    "\n",
    "def remove_outliers(df):\n",
    "    d = get_outliers(df)\n",
    "    for i in df:  #i --> columns\n",
    "        out = d[i]\n",
    "        for j in out:  # j --> outliers\n",
    "            for k in df.index:  #k --> row labels --> so that we can use it in loc\n",
    "                if df.loc[k,i] == j:\n",
    "                    df.loc[k,i] = np.nan\n",
    "    df.fillna(round(df.mean(),2),inplace=True)\n",
    "get_outliers(df)"
   ]
  },
  {
   "cell_type": "code",
   "execution_count": 46,
   "metadata": {},
   "outputs": [],
   "source": [
    "remove_outliers(df)"
   ]
  },
  {
   "cell_type": "code",
   "execution_count": 47,
   "metadata": {},
   "outputs": [
    {
     "data": {
      "text/html": [
       "<div>\n",
       "<style scoped>\n",
       "    .dataframe tbody tr th:only-of-type {\n",
       "        vertical-align: middle;\n",
       "    }\n",
       "\n",
       "    .dataframe tbody tr th {\n",
       "        vertical-align: top;\n",
       "    }\n",
       "\n",
       "    .dataframe thead th {\n",
       "        text-align: right;\n",
       "    }\n",
       "</style>\n",
       "<table border=\"1\" class=\"dataframe\">\n",
       "  <thead>\n",
       "    <tr style=\"text-align: right;\">\n",
       "      <th></th>\n",
       "      <th>A</th>\n",
       "      <th>B</th>\n",
       "      <th>C</th>\n",
       "      <th>D</th>\n",
       "      <th>E</th>\n",
       "    </tr>\n",
       "  </thead>\n",
       "  <tbody>\n",
       "    <tr>\n",
       "      <td>0</td>\n",
       "      <td>47.00</td>\n",
       "      <td>28.00</td>\n",
       "      <td>32.0</td>\n",
       "      <td>10.00</td>\n",
       "      <td>17.00</td>\n",
       "    </tr>\n",
       "    <tr>\n",
       "      <td>1</td>\n",
       "      <td>18.00</td>\n",
       "      <td>32.62</td>\n",
       "      <td>46.0</td>\n",
       "      <td>31.43</td>\n",
       "      <td>42.00</td>\n",
       "    </tr>\n",
       "    <tr>\n",
       "      <td>2</td>\n",
       "      <td>19.00</td>\n",
       "      <td>21.00</td>\n",
       "      <td>47.0</td>\n",
       "      <td>31.43</td>\n",
       "      <td>34.00</td>\n",
       "    </tr>\n",
       "    <tr>\n",
       "      <td>3</td>\n",
       "      <td>11.00</td>\n",
       "      <td>31.00</td>\n",
       "      <td>25.0</td>\n",
       "      <td>49.00</td>\n",
       "      <td>26.12</td>\n",
       "    </tr>\n",
       "    <tr>\n",
       "      <td>4</td>\n",
       "      <td>13.00</td>\n",
       "      <td>38.00</td>\n",
       "      <td>47.0</td>\n",
       "      <td>49.00</td>\n",
       "      <td>32.00</td>\n",
       "    </tr>\n",
       "    <tr>\n",
       "      <td>5</td>\n",
       "      <td>15.00</td>\n",
       "      <td>36.00</td>\n",
       "      <td>25.0</td>\n",
       "      <td>45.00</td>\n",
       "      <td>16.00</td>\n",
       "    </tr>\n",
       "    <tr>\n",
       "      <td>6</td>\n",
       "      <td>22.75</td>\n",
       "      <td>32.62</td>\n",
       "      <td>15.0</td>\n",
       "      <td>31.43</td>\n",
       "      <td>24.00</td>\n",
       "    </tr>\n",
       "    <tr>\n",
       "      <td>7</td>\n",
       "      <td>12.00</td>\n",
       "      <td>38.00</td>\n",
       "      <td>39.0</td>\n",
       "      <td>18.00</td>\n",
       "      <td>16.00</td>\n",
       "    </tr>\n",
       "    <tr>\n",
       "      <td>8</td>\n",
       "      <td>47.00</td>\n",
       "      <td>37.00</td>\n",
       "      <td>24.0</td>\n",
       "      <td>11.00</td>\n",
       "      <td>26.12</td>\n",
       "    </tr>\n",
       "    <tr>\n",
       "      <td>9</td>\n",
       "      <td>22.75</td>\n",
       "      <td>32.00</td>\n",
       "      <td>20.0</td>\n",
       "      <td>38.00</td>\n",
       "      <td>28.00</td>\n",
       "    </tr>\n",
       "  </tbody>\n",
       "</table>\n",
       "</div>"
      ],
      "text/plain": [
       "       A      B     C      D      E\n",
       "0  47.00  28.00  32.0  10.00  17.00\n",
       "1  18.00  32.62  46.0  31.43  42.00\n",
       "2  19.00  21.00  47.0  31.43  34.00\n",
       "3  11.00  31.00  25.0  49.00  26.12\n",
       "4  13.00  38.00  47.0  49.00  32.00\n",
       "5  15.00  36.00  25.0  45.00  16.00\n",
       "6  22.75  32.62  15.0  31.43  24.00\n",
       "7  12.00  38.00  39.0  18.00  16.00\n",
       "8  47.00  37.00  24.0  11.00  26.12\n",
       "9  22.75  32.00  20.0  38.00  28.00"
      ]
     },
     "execution_count": 47,
     "metadata": {},
     "output_type": "execute_result"
    }
   ],
   "source": [
    "df"
   ]
  },
  {
   "cell_type": "code",
   "execution_count": 47,
   "metadata": {},
   "outputs": [
    {
     "data": {
      "text/plain": [
       "A    31.50\n",
       "B    26.17\n",
       "C    32.33\n",
       "D    22.86\n",
       "E    24.83\n",
       "dtype: float64"
      ]
     },
     "execution_count": 47,
     "metadata": {},
     "output_type": "execute_result"
    }
   ],
   "source": [
    "np.round(df.mean(),2)"
   ]
  },
  {
   "cell_type": "code",
   "execution_count": 45,
   "metadata": {},
   "outputs": [
    {
     "data": {
      "text/plain": [
       "A    31.500000\n",
       "B    26.166667\n",
       "C    32.333333\n",
       "D    22.857143\n",
       "E    24.833333\n",
       "dtype: float64"
      ]
     },
     "execution_count": 45,
     "metadata": {},
     "output_type": "execute_result"
    }
   ],
   "source": [
    "df.mean()"
   ]
  },
  {
   "cell_type": "code",
   "execution_count": 41,
   "metadata": {},
   "outputs": [
    {
     "data": {
      "text/plain": [
       "{'A': [235],\n",
       " 'B': [208, 203],\n",
       " 'C': [203, 211, 242, 212],\n",
       " 'D': [215],\n",
       " 'E': [240, 207]}"
      ]
     },
     "execution_count": 41,
     "metadata": {},
     "output_type": "execute_result"
    }
   ],
   "source": [
    "d"
   ]
  },
  {
   "cell_type": "code",
   "execution_count": 38,
   "metadata": {},
   "outputs": [
    {
     "name": "stderr",
     "output_type": "stream",
     "text": [
      "C:\\Anaconda\\lib\\site-packages\\ipykernel_launcher.py:1: SettingWithCopyWarning: \n",
      "A value is trying to be set on a copy of a slice from a DataFrame.\n",
      "Try using .loc[row_indexer,col_indexer] = value instead\n",
      "\n",
      "See the caveats in the documentation: http://pandas.pydata.org/pandas-docs/stable/user_guide/indexing.html#returning-a-view-versus-a-copy\n",
      "  \"\"\"Entry point for launching an IPython kernel.\n"
     ]
    }
   ],
   "source": [
    "df[df['A'] == 235]['A'] = np.nan"
   ]
  },
  {
   "cell_type": "code",
   "execution_count": 42,
   "metadata": {},
   "outputs": [
    {
     "data": {
      "text/html": [
       "<div>\n",
       "<style scoped>\n",
       "    .dataframe tbody tr th:only-of-type {\n",
       "        vertical-align: middle;\n",
       "    }\n",
       "\n",
       "    .dataframe tbody tr th {\n",
       "        vertical-align: top;\n",
       "    }\n",
       "\n",
       "    .dataframe thead th {\n",
       "        text-align: right;\n",
       "    }\n",
       "</style>\n",
       "<table border=\"1\" class=\"dataframe\">\n",
       "  <thead>\n",
       "    <tr style=\"text-align: right;\">\n",
       "      <th></th>\n",
       "      <th>A</th>\n",
       "      <th>B</th>\n",
       "      <th>C</th>\n",
       "      <th>D</th>\n",
       "      <th>E</th>\n",
       "    </tr>\n",
       "  </thead>\n",
       "  <tbody>\n",
       "    <tr>\n",
       "      <td>0</td>\n",
       "      <td>40.0</td>\n",
       "      <td>26.0</td>\n",
       "      <td>35.0</td>\n",
       "      <td>30.0</td>\n",
       "      <td>41.0</td>\n",
       "    </tr>\n",
       "    <tr>\n",
       "      <td>1</td>\n",
       "      <td>13.0</td>\n",
       "      <td>29.0</td>\n",
       "      <td>NaN</td>\n",
       "      <td>45.0</td>\n",
       "      <td>16.0</td>\n",
       "    </tr>\n",
       "    <tr>\n",
       "      <td>2</td>\n",
       "      <td>47.0</td>\n",
       "      <td>48.0</td>\n",
       "      <td>39.0</td>\n",
       "      <td>29.0</td>\n",
       "      <td>NaN</td>\n",
       "    </tr>\n",
       "    <tr>\n",
       "      <td>3</td>\n",
       "      <td>29.0</td>\n",
       "      <td>NaN</td>\n",
       "      <td>43.0</td>\n",
       "      <td>23.0</td>\n",
       "      <td>25.0</td>\n",
       "    </tr>\n",
       "    <tr>\n",
       "      <td>4</td>\n",
       "      <td>16.0</td>\n",
       "      <td>22.0</td>\n",
       "      <td>15.0</td>\n",
       "      <td>43.0</td>\n",
       "      <td>23.0</td>\n",
       "    </tr>\n",
       "    <tr>\n",
       "      <td>5</td>\n",
       "      <td>44.0</td>\n",
       "      <td>22.0</td>\n",
       "      <td>NaN</td>\n",
       "      <td>16.0</td>\n",
       "      <td>NaN</td>\n",
       "    </tr>\n",
       "    <tr>\n",
       "      <td>6</td>\n",
       "      <td>46.0</td>\n",
       "      <td>29.0</td>\n",
       "      <td>22.0</td>\n",
       "      <td>15.0</td>\n",
       "      <td>48.0</td>\n",
       "    </tr>\n",
       "    <tr>\n",
       "      <td>7</td>\n",
       "      <td>NaN</td>\n",
       "      <td>NaN</td>\n",
       "      <td>NaN</td>\n",
       "      <td>24.0</td>\n",
       "      <td>46.0</td>\n",
       "    </tr>\n",
       "    <tr>\n",
       "      <td>8</td>\n",
       "      <td>43.0</td>\n",
       "      <td>29.0</td>\n",
       "      <td>NaN</td>\n",
       "      <td>23.0</td>\n",
       "      <td>27.0</td>\n",
       "    </tr>\n",
       "    <tr>\n",
       "      <td>9</td>\n",
       "      <td>21.0</td>\n",
       "      <td>46.0</td>\n",
       "      <td>40.0</td>\n",
       "      <td>NaN</td>\n",
       "      <td>17.0</td>\n",
       "    </tr>\n",
       "  </tbody>\n",
       "</table>\n",
       "</div>"
      ],
      "text/plain": [
       "      A     B     C     D     E\n",
       "0  40.0  26.0  35.0  30.0  41.0\n",
       "1  13.0  29.0   NaN  45.0  16.0\n",
       "2  47.0  48.0  39.0  29.0   NaN\n",
       "3  29.0   NaN  43.0  23.0  25.0\n",
       "4  16.0  22.0  15.0  43.0  23.0\n",
       "5  44.0  22.0   NaN  16.0   NaN\n",
       "6  46.0  29.0  22.0  15.0  48.0\n",
       "7   NaN   NaN   NaN  24.0  46.0\n",
       "8  43.0  29.0   NaN  23.0  27.0\n",
       "9  21.0  46.0  40.0   NaN  17.0"
      ]
     },
     "execution_count": 42,
     "metadata": {},
     "output_type": "execute_result"
    }
   ],
   "source": [
    "df"
   ]
  },
  {
   "cell_type": "code",
   "execution_count": 8,
   "metadata": {},
   "outputs": [],
   "source": [
    "plt.rcParams['figure.figsize'] = 11,5"
   ]
  },
  {
   "cell_type": "code",
   "execution_count": 48,
   "metadata": {},
   "outputs": [
    {
     "data": {
      "image/png": "[encoded data removed]",
      "text/plain": [
       "<Figure size 792x360 with 1 Axes>"
      ]
     },
     "metadata": {
      "needs_background": "light"
     },
     "output_type": "display_data"
    },
    {
     "data": {
      "image/png": "[encoded data removed]",
      "text/plain": [
       "<Figure size 792x360 with 1 Axes>"
      ]
     },
     "metadata": {
      "needs_background": "light"
     },
     "output_type": "display_data"
    },
    {
     "data": {
      "image/png": "[encoded data removed]",
      "text/plain": [
       "<Figure size 792x360 with 1 Axes>"
      ]
     },
     "metadata": {
      "needs_background": "light"
     },
     "output_type": "display_data"
    },
    {
     "data": {
      "image/png": "[encoded data removed]",
      "text/plain": [
       "<Figure size 792x360 with 1 Axes>"
      ]
     },
     "metadata": {
      "needs_background": "light"
     },
     "output_type": "display_data"
    },
    {
     "data": {
      "image/png": "[encoded data removed]",
      "text/plain": [
       "<Figure size 792x360 with 1 Axes>"
      ]
     },
     "metadata": {
      "needs_background": "light"
     },
     "output_type": "display_data"
    }
   ],
   "source": [
    "for i in df:\n",
    "    df[i].plot(kind=\"hist\",ec=\"k\",bins=30)\n",
    "    plt.show()"
   ]
  },
  {
   "cell_type": "markdown",
   "metadata": {},
   "source": [
    "### InterQuartile Range\n",
    "\n",
    "\n",
    "    q1 --> quartile1\n",
    "    q3 --> quartile3\n",
    "    iqr = q3 - q1\n",
    "    \n",
    "    lower_bound = q1 - (iqr*1.5)\n",
    "    upper_bound = q3 + (iqr*1.5)\n",
    "    \n",
    "    The values belor lower_bound and above upper_bound are outlier"
   ]
  },
  {
   "cell_type": "code",
   "execution_count": 49,
   "metadata": {},
   "outputs": [],
   "source": [
    "d1 = np.random.randint(10,50,40)\n",
    "d2 = np.random.randint(200,250,10)\n",
    "\n",
    "d = np.concatenate((d1,d2))\n",
    "np.random.shuffle(d)\n",
    "d = d.reshape(10,5)\n",
    "\n",
    "df2 = pd.DataFrame(d,columns=list(\"ABCDE\"))"
   ]
  },
  {
   "cell_type": "code",
   "execution_count": 50,
   "metadata": {},
   "outputs": [
    {
     "data": {
      "text/html": [
       "<div>\n",
       "<style scoped>\n",
       "    .dataframe tbody tr th:only-of-type {\n",
       "        vertical-align: middle;\n",
       "    }\n",
       "\n",
       "    .dataframe tbody tr th {\n",
       "        vertical-align: top;\n",
       "    }\n",
       "\n",
       "    .dataframe thead th {\n",
       "        text-align: right;\n",
       "    }\n",
       "</style>\n",
       "<table border=\"1\" class=\"dataframe\">\n",
       "  <thead>\n",
       "    <tr style=\"text-align: right;\">\n",
       "      <th></th>\n",
       "      <th>A</th>\n",
       "      <th>B</th>\n",
       "      <th>C</th>\n",
       "      <th>D</th>\n",
       "      <th>E</th>\n",
       "    </tr>\n",
       "  </thead>\n",
       "  <tbody>\n",
       "    <tr>\n",
       "      <td>0</td>\n",
       "      <td>44</td>\n",
       "      <td>38</td>\n",
       "      <td>11</td>\n",
       "      <td>10</td>\n",
       "      <td>20</td>\n",
       "    </tr>\n",
       "    <tr>\n",
       "      <td>1</td>\n",
       "      <td>10</td>\n",
       "      <td>17</td>\n",
       "      <td>46</td>\n",
       "      <td>24</td>\n",
       "      <td>247</td>\n",
       "    </tr>\n",
       "    <tr>\n",
       "      <td>2</td>\n",
       "      <td>29</td>\n",
       "      <td>16</td>\n",
       "      <td>45</td>\n",
       "      <td>232</td>\n",
       "      <td>213</td>\n",
       "    </tr>\n",
       "    <tr>\n",
       "      <td>3</td>\n",
       "      <td>45</td>\n",
       "      <td>22</td>\n",
       "      <td>228</td>\n",
       "      <td>23</td>\n",
       "      <td>37</td>\n",
       "    </tr>\n",
       "    <tr>\n",
       "      <td>4</td>\n",
       "      <td>42</td>\n",
       "      <td>41</td>\n",
       "      <td>46</td>\n",
       "      <td>31</td>\n",
       "      <td>21</td>\n",
       "    </tr>\n",
       "    <tr>\n",
       "      <td>5</td>\n",
       "      <td>38</td>\n",
       "      <td>14</td>\n",
       "      <td>17</td>\n",
       "      <td>249</td>\n",
       "      <td>232</td>\n",
       "    </tr>\n",
       "    <tr>\n",
       "      <td>6</td>\n",
       "      <td>45</td>\n",
       "      <td>17</td>\n",
       "      <td>49</td>\n",
       "      <td>210</td>\n",
       "      <td>31</td>\n",
       "    </tr>\n",
       "    <tr>\n",
       "      <td>7</td>\n",
       "      <td>23</td>\n",
       "      <td>210</td>\n",
       "      <td>11</td>\n",
       "      <td>44</td>\n",
       "      <td>24</td>\n",
       "    </tr>\n",
       "    <tr>\n",
       "      <td>8</td>\n",
       "      <td>13</td>\n",
       "      <td>247</td>\n",
       "      <td>242</td>\n",
       "      <td>15</td>\n",
       "      <td>26</td>\n",
       "    </tr>\n",
       "    <tr>\n",
       "      <td>9</td>\n",
       "      <td>31</td>\n",
       "      <td>14</td>\n",
       "      <td>44</td>\n",
       "      <td>44</td>\n",
       "      <td>34</td>\n",
       "    </tr>\n",
       "  </tbody>\n",
       "</table>\n",
       "</div>"
      ],
      "text/plain": [
       "    A    B    C    D    E\n",
       "0  44   38   11   10   20\n",
       "1  10   17   46   24  247\n",
       "2  29   16   45  232  213\n",
       "3  45   22  228   23   37\n",
       "4  42   41   46   31   21\n",
       "5  38   14   17  249  232\n",
       "6  45   17   49  210   31\n",
       "7  23  210   11   44   24\n",
       "8  13  247  242   15   26\n",
       "9  31   14   44   44   34"
      ]
     },
     "execution_count": 50,
     "metadata": {},
     "output_type": "execute_result"
    }
   ],
   "source": [
    "df2"
   ]
  },
  {
   "cell_type": "code",
   "execution_count": 57,
   "metadata": {},
   "outputs": [
    {
     "data": {
      "text/html": [
       "<div>\n",
       "<style scoped>\n",
       "    .dataframe tbody tr th:only-of-type {\n",
       "        vertical-align: middle;\n",
       "    }\n",
       "\n",
       "    .dataframe tbody tr th {\n",
       "        vertical-align: top;\n",
       "    }\n",
       "\n",
       "    .dataframe thead th {\n",
       "        text-align: right;\n",
       "    }\n",
       "</style>\n",
       "<table border=\"1\" class=\"dataframe\">\n",
       "  <thead>\n",
       "    <tr style=\"text-align: right;\">\n",
       "      <th></th>\n",
       "      <th>A</th>\n",
       "      <th>B</th>\n",
       "      <th>C</th>\n",
       "      <th>D</th>\n",
       "      <th>E</th>\n",
       "    </tr>\n",
       "  </thead>\n",
       "  <tbody>\n",
       "    <tr>\n",
       "      <td>count</td>\n",
       "      <td>10.000000</td>\n",
       "      <td>10.000000</td>\n",
       "      <td>10.000000</td>\n",
       "      <td>10.000000</td>\n",
       "      <td>10.000000</td>\n",
       "    </tr>\n",
       "    <tr>\n",
       "      <td>mean</td>\n",
       "      <td>32.000000</td>\n",
       "      <td>63.600000</td>\n",
       "      <td>73.900000</td>\n",
       "      <td>88.200000</td>\n",
       "      <td>88.500000</td>\n",
       "    </tr>\n",
       "    <tr>\n",
       "      <td>std</td>\n",
       "      <td>13.140269</td>\n",
       "      <td>87.872635</td>\n",
       "      <td>86.320398</td>\n",
       "      <td>99.104658</td>\n",
       "      <td>98.577944</td>\n",
       "    </tr>\n",
       "    <tr>\n",
       "      <td>min</td>\n",
       "      <td>10.000000</td>\n",
       "      <td>14.000000</td>\n",
       "      <td>11.000000</td>\n",
       "      <td>10.000000</td>\n",
       "      <td>20.000000</td>\n",
       "    </tr>\n",
       "    <tr>\n",
       "      <td>25%</td>\n",
       "      <td>24.500000</td>\n",
       "      <td>16.250000</td>\n",
       "      <td>23.750000</td>\n",
       "      <td>23.250000</td>\n",
       "      <td>24.500000</td>\n",
       "    </tr>\n",
       "    <tr>\n",
       "      <td>50%</td>\n",
       "      <td>34.500000</td>\n",
       "      <td>19.500000</td>\n",
       "      <td>45.500000</td>\n",
       "      <td>37.500000</td>\n",
       "      <td>32.500000</td>\n",
       "    </tr>\n",
       "    <tr>\n",
       "      <td>75%</td>\n",
       "      <td>43.500000</td>\n",
       "      <td>40.250000</td>\n",
       "      <td>48.250000</td>\n",
       "      <td>168.500000</td>\n",
       "      <td>169.000000</td>\n",
       "    </tr>\n",
       "    <tr>\n",
       "      <td>max</td>\n",
       "      <td>45.000000</td>\n",
       "      <td>247.000000</td>\n",
       "      <td>242.000000</td>\n",
       "      <td>249.000000</td>\n",
       "      <td>247.000000</td>\n",
       "    </tr>\n",
       "  </tbody>\n",
       "</table>\n",
       "</div>"
      ],
      "text/plain": [
       "               A           B           C           D           E\n",
       "count  10.000000   10.000000   10.000000   10.000000   10.000000\n",
       "mean   32.000000   63.600000   73.900000   88.200000   88.500000\n",
       "std    13.140269   87.872635   86.320398   99.104658   98.577944\n",
       "min    10.000000   14.000000   11.000000   10.000000   20.000000\n",
       "25%    24.500000   16.250000   23.750000   23.250000   24.500000\n",
       "50%    34.500000   19.500000   45.500000   37.500000   32.500000\n",
       "75%    43.500000   40.250000   48.250000  168.500000  169.000000\n",
       "max    45.000000  247.000000  242.000000  249.000000  247.000000"
      ]
     },
     "execution_count": 57,
     "metadata": {},
     "output_type": "execute_result"
    }
   ],
   "source": [
    "df2.describe()"
   ]
  },
  {
   "cell_type": "code",
   "execution_count": 58,
   "metadata": {},
   "outputs": [],
   "source": [
    "ds = df2.describe()"
   ]
  },
  {
   "cell_type": "code",
   "execution_count": 55,
   "metadata": {},
   "outputs": [
    {
     "data": {
      "text/plain": [
       "13.5"
      ]
     },
     "execution_count": 55,
     "metadata": {},
     "output_type": "execute_result"
    }
   ],
   "source": [
    "ds.loc['25%','A']"
   ]
  },
  {
   "cell_type": "code",
   "execution_count": 59,
   "metadata": {},
   "outputs": [
    {
     "name": "stdout",
     "output_type": "stream",
     "text": [
      "{'A': [], 'B': [210, 247], 'C': [228, 242], 'D': [], 'E': []}\n"
     ]
    }
   ],
   "source": [
    "out = {}\n",
    "for i in df2:\n",
    "    q1 = ds.loc['25%',i]\n",
    "    q3 = ds.loc['75%',i]\n",
    "    iqr = q3 - q1\n",
    "    lb = q1 - (iqr*1.5)\n",
    "    ub = q3 + (iqr*1.5)\n",
    "    l = []\n",
    "    for j in df2[i]:\n",
    "        if j>ub or j<lb:\n",
    "            l.append(j)\n",
    "    out[i] = l\n",
    "print(out)"
   ]
  },
  {
   "cell_type": "code",
   "execution_count": 60,
   "metadata": {},
   "outputs": [
    {
     "data": {
      "text/html": [
       "<div>\n",
       "<style scoped>\n",
       "    .dataframe tbody tr th:only-of-type {\n",
       "        vertical-align: middle;\n",
       "    }\n",
       "\n",
       "    .dataframe tbody tr th {\n",
       "        vertical-align: top;\n",
       "    }\n",
       "\n",
       "    .dataframe thead th {\n",
       "        text-align: right;\n",
       "    }\n",
       "</style>\n",
       "<table border=\"1\" class=\"dataframe\">\n",
       "  <thead>\n",
       "    <tr style=\"text-align: right;\">\n",
       "      <th></th>\n",
       "      <th>A</th>\n",
       "      <th>B</th>\n",
       "      <th>C</th>\n",
       "      <th>D</th>\n",
       "      <th>E</th>\n",
       "    </tr>\n",
       "  </thead>\n",
       "  <tbody>\n",
       "    <tr>\n",
       "      <td>0</td>\n",
       "      <td>44</td>\n",
       "      <td>38</td>\n",
       "      <td>11</td>\n",
       "      <td>10</td>\n",
       "      <td>20</td>\n",
       "    </tr>\n",
       "    <tr>\n",
       "      <td>1</td>\n",
       "      <td>10</td>\n",
       "      <td>17</td>\n",
       "      <td>46</td>\n",
       "      <td>24</td>\n",
       "      <td>247</td>\n",
       "    </tr>\n",
       "    <tr>\n",
       "      <td>2</td>\n",
       "      <td>29</td>\n",
       "      <td>16</td>\n",
       "      <td>45</td>\n",
       "      <td>232</td>\n",
       "      <td>213</td>\n",
       "    </tr>\n",
       "    <tr>\n",
       "      <td>3</td>\n",
       "      <td>45</td>\n",
       "      <td>22</td>\n",
       "      <td>228</td>\n",
       "      <td>23</td>\n",
       "      <td>37</td>\n",
       "    </tr>\n",
       "    <tr>\n",
       "      <td>4</td>\n",
       "      <td>42</td>\n",
       "      <td>41</td>\n",
       "      <td>46</td>\n",
       "      <td>31</td>\n",
       "      <td>21</td>\n",
       "    </tr>\n",
       "    <tr>\n",
       "      <td>5</td>\n",
       "      <td>38</td>\n",
       "      <td>14</td>\n",
       "      <td>17</td>\n",
       "      <td>249</td>\n",
       "      <td>232</td>\n",
       "    </tr>\n",
       "    <tr>\n",
       "      <td>6</td>\n",
       "      <td>45</td>\n",
       "      <td>17</td>\n",
       "      <td>49</td>\n",
       "      <td>210</td>\n",
       "      <td>31</td>\n",
       "    </tr>\n",
       "    <tr>\n",
       "      <td>7</td>\n",
       "      <td>23</td>\n",
       "      <td>210</td>\n",
       "      <td>11</td>\n",
       "      <td>44</td>\n",
       "      <td>24</td>\n",
       "    </tr>\n",
       "    <tr>\n",
       "      <td>8</td>\n",
       "      <td>13</td>\n",
       "      <td>247</td>\n",
       "      <td>242</td>\n",
       "      <td>15</td>\n",
       "      <td>26</td>\n",
       "    </tr>\n",
       "    <tr>\n",
       "      <td>9</td>\n",
       "      <td>31</td>\n",
       "      <td>14</td>\n",
       "      <td>44</td>\n",
       "      <td>44</td>\n",
       "      <td>34</td>\n",
       "    </tr>\n",
       "  </tbody>\n",
       "</table>\n",
       "</div>"
      ],
      "text/plain": [
       "    A    B    C    D    E\n",
       "0  44   38   11   10   20\n",
       "1  10   17   46   24  247\n",
       "2  29   16   45  232  213\n",
       "3  45   22  228   23   37\n",
       "4  42   41   46   31   21\n",
       "5  38   14   17  249  232\n",
       "6  45   17   49  210   31\n",
       "7  23  210   11   44   24\n",
       "8  13  247  242   15   26\n",
       "9  31   14   44   44   34"
      ]
     },
     "execution_count": 60,
     "metadata": {},
     "output_type": "execute_result"
    }
   ],
   "source": [
    "df2"
   ]
  },
  {
   "cell_type": "code",
   "execution_count": 62,
   "metadata": {},
   "outputs": [
    {
     "data": {
      "text/plain": [
       "0     10\n",
       "1     24\n",
       "2    232\n",
       "3     23\n",
       "4     31\n",
       "5    249\n",
       "6    210\n",
       "7     44\n",
       "8     15\n",
       "9     44\n",
       "Name: D, dtype: int32"
      ]
     },
     "execution_count": 62,
     "metadata": {},
     "output_type": "execute_result"
    }
   ],
   "source": [
    "df2['D']"
   ]
  },
  {
   "cell_type": "code",
   "execution_count": 63,
   "metadata": {},
   "outputs": [
    {
     "data": {
      "text/html": [
       "<div>\n",
       "<style scoped>\n",
       "    .dataframe tbody tr th:only-of-type {\n",
       "        vertical-align: middle;\n",
       "    }\n",
       "\n",
       "    .dataframe tbody tr th {\n",
       "        vertical-align: top;\n",
       "    }\n",
       "\n",
       "    .dataframe thead th {\n",
       "        text-align: right;\n",
       "    }\n",
       "</style>\n",
       "<table border=\"1\" class=\"dataframe\">\n",
       "  <thead>\n",
       "    <tr style=\"text-align: right;\">\n",
       "      <th></th>\n",
       "      <th>A</th>\n",
       "      <th>B</th>\n",
       "      <th>C</th>\n",
       "      <th>D</th>\n",
       "      <th>E</th>\n",
       "    </tr>\n",
       "  </thead>\n",
       "  <tbody>\n",
       "    <tr>\n",
       "      <td>count</td>\n",
       "      <td>10.000000</td>\n",
       "      <td>10.000000</td>\n",
       "      <td>10.000000</td>\n",
       "      <td>10.000000</td>\n",
       "      <td>10.000000</td>\n",
       "    </tr>\n",
       "    <tr>\n",
       "      <td>mean</td>\n",
       "      <td>32.000000</td>\n",
       "      <td>63.600000</td>\n",
       "      <td>73.900000</td>\n",
       "      <td>88.200000</td>\n",
       "      <td>88.500000</td>\n",
       "    </tr>\n",
       "    <tr>\n",
       "      <td>std</td>\n",
       "      <td>13.140269</td>\n",
       "      <td>87.872635</td>\n",
       "      <td>86.320398</td>\n",
       "      <td>99.104658</td>\n",
       "      <td>98.577944</td>\n",
       "    </tr>\n",
       "    <tr>\n",
       "      <td>min</td>\n",
       "      <td>10.000000</td>\n",
       "      <td>14.000000</td>\n",
       "      <td>11.000000</td>\n",
       "      <td>10.000000</td>\n",
       "      <td>20.000000</td>\n",
       "    </tr>\n",
       "    <tr>\n",
       "      <td>25%</td>\n",
       "      <td>24.500000</td>\n",
       "      <td>16.250000</td>\n",
       "      <td>23.750000</td>\n",
       "      <td>23.250000</td>\n",
       "      <td>24.500000</td>\n",
       "    </tr>\n",
       "    <tr>\n",
       "      <td>50%</td>\n",
       "      <td>34.500000</td>\n",
       "      <td>19.500000</td>\n",
       "      <td>45.500000</td>\n",
       "      <td>37.500000</td>\n",
       "      <td>32.500000</td>\n",
       "    </tr>\n",
       "    <tr>\n",
       "      <td>75%</td>\n",
       "      <td>43.500000</td>\n",
       "      <td>40.250000</td>\n",
       "      <td>48.250000</td>\n",
       "      <td>168.500000</td>\n",
       "      <td>169.000000</td>\n",
       "    </tr>\n",
       "    <tr>\n",
       "      <td>max</td>\n",
       "      <td>45.000000</td>\n",
       "      <td>247.000000</td>\n",
       "      <td>242.000000</td>\n",
       "      <td>249.000000</td>\n",
       "      <td>247.000000</td>\n",
       "    </tr>\n",
       "  </tbody>\n",
       "</table>\n",
       "</div>"
      ],
      "text/plain": [
       "               A           B           C           D           E\n",
       "count  10.000000   10.000000   10.000000   10.000000   10.000000\n",
       "mean   32.000000   63.600000   73.900000   88.200000   88.500000\n",
       "std    13.140269   87.872635   86.320398   99.104658   98.577944\n",
       "min    10.000000   14.000000   11.000000   10.000000   20.000000\n",
       "25%    24.500000   16.250000   23.750000   23.250000   24.500000\n",
       "50%    34.500000   19.500000   45.500000   37.500000   32.500000\n",
       "75%    43.500000   40.250000   48.250000  168.500000  169.000000\n",
       "max    45.000000  247.000000  242.000000  249.000000  247.000000"
      ]
     },
     "execution_count": 63,
     "metadata": {},
     "output_type": "execute_result"
    }
   ],
   "source": [
    "ds"
   ]
  },
  {
   "cell_type": "code",
   "execution_count": 64,
   "metadata": {},
   "outputs": [],
   "source": [
    "##sql queries"
   ]
  },
  {
   "cell_type": "code",
   "execution_count": 65,
   "metadata": {},
   "outputs": [
    {
     "name": "stderr",
     "output_type": "stream",
     "text": [
      "C:\\Anaconda\\lib\\site-packages\\seaborn\\utils.py:376: UserWarning: No parser was explicitly specified, so I'm using the best available HTML parser for this system (\"lxml\"). This usually isn't a problem, but if you run this code on another system, or in a different virtual environment, it may use a different parser and behave differently.\n",
      "\n",
      "The code that caused this warning is on line 376 of the file C:\\Anaconda\\lib\\site-packages\\seaborn\\utils.py. To get rid of this warning, pass the additional argument 'features=\"lxml\"' to the BeautifulSoup constructor.\n",
      "\n",
      "  gh_list = BeautifulSoup(http)\n"
     ]
    },
    {
     "data": {
      "text/plain": [
       "['anscombe',\n",
       " 'attention',\n",
       " 'brain_networks',\n",
       " 'car_crashes',\n",
       " 'diamonds',\n",
       " 'dots',\n",
       " 'exercise',\n",
       " 'flights',\n",
       " 'fmri',\n",
       " 'gammas',\n",
       " 'geyser',\n",
       " 'iris',\n",
       " 'mpg',\n",
       " 'penguins',\n",
       " 'planets',\n",
       " 'tips',\n",
       " 'titanic']"
      ]
     },
     "execution_count": 65,
     "metadata": {},
     "output_type": "execute_result"
    }
   ],
   "source": [
    "sns.get_dataset_names()"
   ]
  },
  {
   "cell_type": "code",
   "execution_count": 68,
   "metadata": {},
   "outputs": [],
   "source": [
    "data = sns.load_dataset(\"exercise\",index_col=0)"
   ]
  },
  {
   "cell_type": "code",
   "execution_count": 69,
   "metadata": {},
   "outputs": [
    {
     "data": {
      "text/html": [
       "<div>\n",
       "<style scoped>\n",
       "    .dataframe tbody tr th:only-of-type {\n",
       "        vertical-align: middle;\n",
       "    }\n",
       "\n",
       "    .dataframe tbody tr th {\n",
       "        vertical-align: top;\n",
       "    }\n",
       "\n",
       "    .dataframe thead th {\n",
       "        text-align: right;\n",
       "    }\n",
       "</style>\n",
       "<table border=\"1\" class=\"dataframe\">\n",
       "  <thead>\n",
       "    <tr style=\"text-align: right;\">\n",
       "      <th></th>\n",
       "      <th>id</th>\n",
       "      <th>diet</th>\n",
       "      <th>pulse</th>\n",
       "      <th>time</th>\n",
       "      <th>kind</th>\n",
       "    </tr>\n",
       "  </thead>\n",
       "  <tbody>\n",
       "    <tr>\n",
       "      <td>0</td>\n",
       "      <td>1</td>\n",
       "      <td>low fat</td>\n",
       "      <td>85</td>\n",
       "      <td>1 min</td>\n",
       "      <td>rest</td>\n",
       "    </tr>\n",
       "    <tr>\n",
       "      <td>1</td>\n",
       "      <td>1</td>\n",
       "      <td>low fat</td>\n",
       "      <td>85</td>\n",
       "      <td>15 min</td>\n",
       "      <td>rest</td>\n",
       "    </tr>\n",
       "    <tr>\n",
       "      <td>2</td>\n",
       "      <td>1</td>\n",
       "      <td>low fat</td>\n",
       "      <td>88</td>\n",
       "      <td>30 min</td>\n",
       "      <td>rest</td>\n",
       "    </tr>\n",
       "    <tr>\n",
       "      <td>3</td>\n",
       "      <td>2</td>\n",
       "      <td>low fat</td>\n",
       "      <td>90</td>\n",
       "      <td>1 min</td>\n",
       "      <td>rest</td>\n",
       "    </tr>\n",
       "    <tr>\n",
       "      <td>4</td>\n",
       "      <td>2</td>\n",
       "      <td>low fat</td>\n",
       "      <td>92</td>\n",
       "      <td>15 min</td>\n",
       "      <td>rest</td>\n",
       "    </tr>\n",
       "  </tbody>\n",
       "</table>\n",
       "</div>"
      ],
      "text/plain": [
       "   id     diet  pulse    time  kind\n",
       "0   1  low fat     85   1 min  rest\n",
       "1   1  low fat     85  15 min  rest\n",
       "2   1  low fat     88  30 min  rest\n",
       "3   2  low fat     90   1 min  rest\n",
       "4   2  low fat     92  15 min  rest"
      ]
     },
     "execution_count": 69,
     "metadata": {},
     "output_type": "execute_result"
    }
   ],
   "source": [
    "data.head()"
   ]
  },
  {
   "cell_type": "code",
   "execution_count": 70,
   "metadata": {},
   "outputs": [],
   "source": [
    "import sqlalchemy"
   ]
  },
  {
   "cell_type": "code",
   "execution_count": 73,
   "metadata": {},
   "outputs": [],
   "source": [
    "engine = sqlalchemy.create_engine(\"mysql://root@localhost:3306/batch7pm\")"
   ]
  },
  {
   "cell_type": "code",
   "execution_count": 74,
   "metadata": {},
   "outputs": [
    {
     "data": {
      "text/plain": [
       "Engine(mysql://root@localhost:3306/batch7pm)"
      ]
     },
     "execution_count": 74,
     "metadata": {},
     "output_type": "execute_result"
    }
   ],
   "source": [
    "engine"
   ]
  },
  {
   "cell_type": "code",
   "execution_count": 75,
   "metadata": {},
   "outputs": [
    {
     "data": {
      "text/plain": [
       "'{\"id\":{\"0\":1,\"1\":1,\"2\":1,\"3\":2,\"4\":2,\"5\":2,\"6\":3,\"7\":3,\"8\":3,\"9\":4,\"10\":4,\"11\":4,\"12\":5,\"13\":5,\"14\":5,\"15\":6,\"16\":6,\"17\":6,\"18\":7,\"19\":7,\"20\":7,\"21\":8,\"22\":8,\"23\":8,\"24\":9,\"25\":9,\"26\":9,\"27\":10,\"28\":10,\"29\":10,\"30\":11,\"31\":11,\"32\":11,\"33\":12,\"34\":12,\"35\":12,\"36\":13,\"37\":13,\"38\":13,\"39\":14,\"40\":14,\"41\":14,\"42\":15,\"43\":15,\"44\":15,\"45\":16,\"46\":16,\"47\":16,\"48\":17,\"49\":17,\"50\":17,\"51\":18,\"52\":18,\"53\":18,\"54\":19,\"55\":19,\"56\":19,\"57\":20,\"58\":20,\"59\":20,\"60\":21,\"61\":21,\"62\":21,\"63\":22,\"64\":22,\"65\":22,\"66\":23,\"67\":23,\"68\":23,\"69\":24,\"70\":24,\"71\":24,\"72\":25,\"73\":25,\"74\":25,\"75\":26,\"76\":26,\"77\":26,\"78\":27,\"79\":27,\"80\":27,\"81\":28,\"82\":28,\"83\":28,\"84\":29,\"85\":29,\"86\":29,\"87\":30,\"88\":30,\"89\":30},\"diet\":{\"0\":\"low fat\",\"1\":\"low fat\",\"2\":\"low fat\",\"3\":\"low fat\",\"4\":\"low fat\",\"5\":\"low fat\",\"6\":\"low fat\",\"7\":\"low fat\",\"8\":\"low fat\",\"9\":\"low fat\",\"10\":\"low fat\",\"11\":\"low fat\",\"12\":\"low fat\",\"13\":\"low fat\",\"14\":\"low fat\",\"15\":\"no fat\",\"16\":\"no fat\",\"17\":\"no fat\",\"18\":\"no fat\",\"19\":\"no fat\",\"20\":\"no fat\",\"21\":\"no fat\",\"22\":\"no fat\",\"23\":\"no fat\",\"24\":\"no fat\",\"25\":\"no fat\",\"26\":\"no fat\",\"27\":\"no fat\",\"28\":\"no fat\",\"29\":\"no fat\",\"30\":\"low fat\",\"31\":\"low fat\",\"32\":\"low fat\",\"33\":\"low fat\",\"34\":\"low fat\",\"35\":\"low fat\",\"36\":\"low fat\",\"37\":\"low fat\",\"38\":\"low fat\",\"39\":\"low fat\",\"40\":\"low fat\",\"41\":\"low fat\",\"42\":\"low fat\",\"43\":\"low fat\",\"44\":\"low fat\",\"45\":\"no fat\",\"46\":\"no fat\",\"47\":\"no fat\",\"48\":\"no fat\",\"49\":\"no fat\",\"50\":\"no fat\",\"51\":\"no fat\",\"52\":\"no fat\",\"53\":\"no fat\",\"54\":\"no fat\",\"55\":\"no fat\",\"56\":\"no fat\",\"57\":\"no fat\",\"58\":\"no fat\",\"59\":\"no fat\",\"60\":\"low fat\",\"61\":\"low fat\",\"62\":\"low fat\",\"63\":\"low fat\",\"64\":\"low fat\",\"65\":\"low fat\",\"66\":\"low fat\",\"67\":\"low fat\",\"68\":\"low fat\",\"69\":\"low fat\",\"70\":\"low fat\",\"71\":\"low fat\",\"72\":\"low fat\",\"73\":\"low fat\",\"74\":\"low fat\",\"75\":\"no fat\",\"76\":\"no fat\",\"77\":\"no fat\",\"78\":\"no fat\",\"79\":\"no fat\",\"80\":\"no fat\",\"81\":\"no fat\",\"82\":\"no fat\",\"83\":\"no fat\",\"84\":\"no fat\",\"85\":\"no fat\",\"86\":\"no fat\",\"87\":\"no fat\",\"88\":\"no fat\",\"89\":\"no fat\"},\"pulse\":{\"0\":85,\"1\":85,\"2\":88,\"3\":90,\"4\":92,\"5\":93,\"6\":97,\"7\":97,\"8\":94,\"9\":80,\"10\":82,\"11\":83,\"12\":91,\"13\":92,\"14\":91,\"15\":83,\"16\":83,\"17\":84,\"18\":87,\"19\":88,\"20\":90,\"21\":92,\"22\":94,\"23\":95,\"24\":97,\"25\":99,\"26\":96,\"27\":100,\"28\":97,\"29\":100,\"30\":86,\"31\":86,\"32\":84,\"33\":93,\"34\":103,\"35\":104,\"36\":90,\"37\":92,\"38\":93,\"39\":95,\"40\":96,\"41\":100,\"42\":89,\"43\":96,\"44\":95,\"45\":84,\"46\":86,\"47\":89,\"48\":103,\"49\":109,\"50\":90,\"51\":92,\"52\":96,\"53\":101,\"54\":97,\"55\":98,\"56\":100,\"57\":102,\"58\":104,\"59\":103,\"60\":93,\"61\":98,\"62\":110,\"63\":98,\"64\":104,\"65\":112,\"66\":98,\"67\":105,\"68\":99,\"69\":87,\"70\":132,\"71\":120,\"72\":94,\"73\":110,\"74\":116,\"75\":95,\"76\":126,\"77\":143,\"78\":100,\"79\":126,\"80\":140,\"81\":103,\"82\":124,\"83\":140,\"84\":94,\"85\":135,\"86\":130,\"87\":99,\"88\":111,\"89\":150},\"time\":{\"0\":\"1 min\",\"1\":\"15 min\",\"2\":\"30 min\",\"3\":\"1 min\",\"4\":\"15 min\",\"5\":\"30 min\",\"6\":\"1 min\",\"7\":\"15 min\",\"8\":\"30 min\",\"9\":\"1 min\",\"10\":\"15 min\",\"11\":\"30 min\",\"12\":\"1 min\",\"13\":\"15 min\",\"14\":\"30 min\",\"15\":\"1 min\",\"16\":\"15 min\",\"17\":\"30 min\",\"18\":\"1 min\",\"19\":\"15 min\",\"20\":\"30 min\",\"21\":\"1 min\",\"22\":\"15 min\",\"23\":\"30 min\",\"24\":\"1 min\",\"25\":\"15 min\",\"26\":\"30 min\",\"27\":\"1 min\",\"28\":\"15 min\",\"29\":\"30 min\",\"30\":\"1 min\",\"31\":\"15 min\",\"32\":\"30 min\",\"33\":\"1 min\",\"34\":\"15 min\",\"35\":\"30 min\",\"36\":\"1 min\",\"37\":\"15 min\",\"38\":\"30 min\",\"39\":\"1 min\",\"40\":\"15 min\",\"41\":\"30 min\",\"42\":\"1 min\",\"43\":\"15 min\",\"44\":\"30 min\",\"45\":\"1 min\",\"46\":\"15 min\",\"47\":\"30 min\",\"48\":\"1 min\",\"49\":\"15 min\",\"50\":\"30 min\",\"51\":\"1 min\",\"52\":\"15 min\",\"53\":\"30 min\",\"54\":\"1 min\",\"55\":\"15 min\",\"56\":\"30 min\",\"57\":\"1 min\",\"58\":\"15 min\",\"59\":\"30 min\",\"60\":\"1 min\",\"61\":\"15 min\",\"62\":\"30 min\",\"63\":\"1 min\",\"64\":\"15 min\",\"65\":\"30 min\",\"66\":\"1 min\",\"67\":\"15 min\",\"68\":\"30 min\",\"69\":\"1 min\",\"70\":\"15 min\",\"71\":\"30 min\",\"72\":\"1 min\",\"73\":\"15 min\",\"74\":\"30 min\",\"75\":\"1 min\",\"76\":\"15 min\",\"77\":\"30 min\",\"78\":\"1 min\",\"79\":\"15 min\",\"80\":\"30 min\",\"81\":\"1 min\",\"82\":\"15 min\",\"83\":\"30 min\",\"84\":\"1 min\",\"85\":\"15 min\",\"86\":\"30 min\",\"87\":\"1 min\",\"88\":\"15 min\",\"89\":\"30 min\"},\"kind\":{\"0\":\"rest\",\"1\":\"rest\",\"2\":\"rest\",\"3\":\"rest\",\"4\":\"rest\",\"5\":\"rest\",\"6\":\"rest\",\"7\":\"rest\",\"8\":\"rest\",\"9\":\"rest\",\"10\":\"rest\",\"11\":\"rest\",\"12\":\"rest\",\"13\":\"rest\",\"14\":\"rest\",\"15\":\"rest\",\"16\":\"rest\",\"17\":\"rest\",\"18\":\"rest\",\"19\":\"rest\",\"20\":\"rest\",\"21\":\"rest\",\"22\":\"rest\",\"23\":\"rest\",\"24\":\"rest\",\"25\":\"rest\",\"26\":\"rest\",\"27\":\"rest\",\"28\":\"rest\",\"29\":\"rest\",\"30\":\"walking\",\"31\":\"walking\",\"32\":\"walking\",\"33\":\"walking\",\"34\":\"walking\",\"35\":\"walking\",\"36\":\"walking\",\"37\":\"walking\",\"38\":\"walking\",\"39\":\"walking\",\"40\":\"walking\",\"41\":\"walking\",\"42\":\"walking\",\"43\":\"walking\",\"44\":\"walking\",\"45\":\"walking\",\"46\":\"walking\",\"47\":\"walking\",\"48\":\"walking\",\"49\":\"walking\",\"50\":\"walking\",\"51\":\"walking\",\"52\":\"walking\",\"53\":\"walking\",\"54\":\"walking\",\"55\":\"walking\",\"56\":\"walking\",\"57\":\"walking\",\"58\":\"walking\",\"59\":\"walking\",\"60\":\"running\",\"61\":\"running\",\"62\":\"running\",\"63\":\"running\",\"64\":\"running\",\"65\":\"running\",\"66\":\"running\",\"67\":\"running\",\"68\":\"running\",\"69\":\"running\",\"70\":\"running\",\"71\":\"running\",\"72\":\"running\",\"73\":\"running\",\"74\":\"running\",\"75\":\"running\",\"76\":\"running\",\"77\":\"running\",\"78\":\"running\",\"79\":\"running\",\"80\":\"running\",\"81\":\"running\",\"82\":\"running\",\"83\":\"running\",\"84\":\"running\",\"85\":\"running\",\"86\":\"running\",\"87\":\"running\",\"88\":\"running\",\"89\":\"running\"}}'"
      ]
     },
     "execution_count": 75,
     "metadata": {},
     "output_type": "execute_result"
    }
   ],
   "source": [
    "data.to_json()"
   ]
  },
  {
   "cell_type": "code",
   "execution_count": 76,
   "metadata": {},
   "outputs": [
    {
     "data": {
      "text/plain": [
       "{'id': {0: 1,\n",
       "  1: 1,\n",
       "  2: 1,\n",
       "  3: 2,\n",
       "  4: 2,\n",
       "  5: 2,\n",
       "  6: 3,\n",
       "  7: 3,\n",
       "  8: 3,\n",
       "  9: 4,\n",
       "  10: 4,\n",
       "  11: 4,\n",
       "  12: 5,\n",
       "  13: 5,\n",
       "  14: 5,\n",
       "  15: 6,\n",
       "  16: 6,\n",
       "  17: 6,\n",
       "  18: 7,\n",
       "  19: 7,\n",
       "  20: 7,\n",
       "  21: 8,\n",
       "  22: 8,\n",
       "  23: 8,\n",
       "  24: 9,\n",
       "  25: 9,\n",
       "  26: 9,\n",
       "  27: 10,\n",
       "  28: 10,\n",
       "  29: 10,\n",
       "  30: 11,\n",
       "  31: 11,\n",
       "  32: 11,\n",
       "  33: 12,\n",
       "  34: 12,\n",
       "  35: 12,\n",
       "  36: 13,\n",
       "  37: 13,\n",
       "  38: 13,\n",
       "  39: 14,\n",
       "  40: 14,\n",
       "  41: 14,\n",
       "  42: 15,\n",
       "  43: 15,\n",
       "  44: 15,\n",
       "  45: 16,\n",
       "  46: 16,\n",
       "  47: 16,\n",
       "  48: 17,\n",
       "  49: 17,\n",
       "  50: 17,\n",
       "  51: 18,\n",
       "  52: 18,\n",
       "  53: 18,\n",
       "  54: 19,\n",
       "  55: 19,\n",
       "  56: 19,\n",
       "  57: 20,\n",
       "  58: 20,\n",
       "  59: 20,\n",
       "  60: 21,\n",
       "  61: 21,\n",
       "  62: 21,\n",
       "  63: 22,\n",
       "  64: 22,\n",
       "  65: 22,\n",
       "  66: 23,\n",
       "  67: 23,\n",
       "  68: 23,\n",
       "  69: 24,\n",
       "  70: 24,\n",
       "  71: 24,\n",
       "  72: 25,\n",
       "  73: 25,\n",
       "  74: 25,\n",
       "  75: 26,\n",
       "  76: 26,\n",
       "  77: 26,\n",
       "  78: 27,\n",
       "  79: 27,\n",
       "  80: 27,\n",
       "  81: 28,\n",
       "  82: 28,\n",
       "  83: 28,\n",
       "  84: 29,\n",
       "  85: 29,\n",
       "  86: 29,\n",
       "  87: 30,\n",
       "  88: 30,\n",
       "  89: 30},\n",
       " 'diet': {0: 'low fat',\n",
       "  1: 'low fat',\n",
       "  2: 'low fat',\n",
       "  3: 'low fat',\n",
       "  4: 'low fat',\n",
       "  5: 'low fat',\n",
       "  6: 'low fat',\n",
       "  7: 'low fat',\n",
       "  8: 'low fat',\n",
       "  9: 'low fat',\n",
       "  10: 'low fat',\n",
       "  11: 'low fat',\n",
       "  12: 'low fat',\n",
       "  13: 'low fat',\n",
       "  14: 'low fat',\n",
       "  15: 'no fat',\n",
       "  16: 'no fat',\n",
       "  17: 'no fat',\n",
       "  18: 'no fat',\n",
       "  19: 'no fat',\n",
       "  20: 'no fat',\n",
       "  21: 'no fat',\n",
       "  22: 'no fat',\n",
       "  23: 'no fat',\n",
       "  24: 'no fat',\n",
       "  25: 'no fat',\n",
       "  26: 'no fat',\n",
       "  27: 'no fat',\n",
       "  28: 'no fat',\n",
       "  29: 'no fat',\n",
       "  30: 'low fat',\n",
       "  31: 'low fat',\n",
       "  32: 'low fat',\n",
       "  33: 'low fat',\n",
       "  34: 'low fat',\n",
       "  35: 'low fat',\n",
       "  36: 'low fat',\n",
       "  37: 'low fat',\n",
       "  38: 'low fat',\n",
       "  39: 'low fat',\n",
       "  40: 'low fat',\n",
       "  41: 'low fat',\n",
       "  42: 'low fat',\n",
       "  43: 'low fat',\n",
       "  44: 'low fat',\n",
       "  45: 'no fat',\n",
       "  46: 'no fat',\n",
       "  47: 'no fat',\n",
       "  48: 'no fat',\n",
       "  49: 'no fat',\n",
       "  50: 'no fat',\n",
       "  51: 'no fat',\n",
       "  52: 'no fat',\n",
       "  53: 'no fat',\n",
       "  54: 'no fat',\n",
       "  55: 'no fat',\n",
       "  56: 'no fat',\n",
       "  57: 'no fat',\n",
       "  58: 'no fat',\n",
       "  59: 'no fat',\n",
       "  60: 'low fat',\n",
       "  61: 'low fat',\n",
       "  62: 'low fat',\n",
       "  63: 'low fat',\n",
       "  64: 'low fat',\n",
       "  65: 'low fat',\n",
       "  66: 'low fat',\n",
       "  67: 'low fat',\n",
       "  68: 'low fat',\n",
       "  69: 'low fat',\n",
       "  70: 'low fat',\n",
       "  71: 'low fat',\n",
       "  72: 'low fat',\n",
       "  73: 'low fat',\n",
       "  74: 'low fat',\n",
       "  75: 'no fat',\n",
       "  76: 'no fat',\n",
       "  77: 'no fat',\n",
       "  78: 'no fat',\n",
       "  79: 'no fat',\n",
       "  80: 'no fat',\n",
       "  81: 'no fat',\n",
       "  82: 'no fat',\n",
       "  83: 'no fat',\n",
       "  84: 'no fat',\n",
       "  85: 'no fat',\n",
       "  86: 'no fat',\n",
       "  87: 'no fat',\n",
       "  88: 'no fat',\n",
       "  89: 'no fat'},\n",
       " 'pulse': {0: 85,\n",
       "  1: 85,\n",
       "  2: 88,\n",
       "  3: 90,\n",
       "  4: 92,\n",
       "  5: 93,\n",
       "  6: 97,\n",
       "  7: 97,\n",
       "  8: 94,\n",
       "  9: 80,\n",
       "  10: 82,\n",
       "  11: 83,\n",
       "  12: 91,\n",
       "  13: 92,\n",
       "  14: 91,\n",
       "  15: 83,\n",
       "  16: 83,\n",
       "  17: 84,\n",
       "  18: 87,\n",
       "  19: 88,\n",
       "  20: 90,\n",
       "  21: 92,\n",
       "  22: 94,\n",
       "  23: 95,\n",
       "  24: 97,\n",
       "  25: 99,\n",
       "  26: 96,\n",
       "  27: 100,\n",
       "  28: 97,\n",
       "  29: 100,\n",
       "  30: 86,\n",
       "  31: 86,\n",
       "  32: 84,\n",
       "  33: 93,\n",
       "  34: 103,\n",
       "  35: 104,\n",
       "  36: 90,\n",
       "  37: 92,\n",
       "  38: 93,\n",
       "  39: 95,\n",
       "  40: 96,\n",
       "  41: 100,\n",
       "  42: 89,\n",
       "  43: 96,\n",
       "  44: 95,\n",
       "  45: 84,\n",
       "  46: 86,\n",
       "  47: 89,\n",
       "  48: 103,\n",
       "  49: 109,\n",
       "  50: 90,\n",
       "  51: 92,\n",
       "  52: 96,\n",
       "  53: 101,\n",
       "  54: 97,\n",
       "  55: 98,\n",
       "  56: 100,\n",
       "  57: 102,\n",
       "  58: 104,\n",
       "  59: 103,\n",
       "  60: 93,\n",
       "  61: 98,\n",
       "  62: 110,\n",
       "  63: 98,\n",
       "  64: 104,\n",
       "  65: 112,\n",
       "  66: 98,\n",
       "  67: 105,\n",
       "  68: 99,\n",
       "  69: 87,\n",
       "  70: 132,\n",
       "  71: 120,\n",
       "  72: 94,\n",
       "  73: 110,\n",
       "  74: 116,\n",
       "  75: 95,\n",
       "  76: 126,\n",
       "  77: 143,\n",
       "  78: 100,\n",
       "  79: 126,\n",
       "  80: 140,\n",
       "  81: 103,\n",
       "  82: 124,\n",
       "  83: 140,\n",
       "  84: 94,\n",
       "  85: 135,\n",
       "  86: 130,\n",
       "  87: 99,\n",
       "  88: 111,\n",
       "  89: 150},\n",
       " 'time': {0: '1 min',\n",
       "  1: '15 min',\n",
       "  2: '30 min',\n",
       "  3: '1 min',\n",
       "  4: '15 min',\n",
       "  5: '30 min',\n",
       "  6: '1 min',\n",
       "  7: '15 min',\n",
       "  8: '30 min',\n",
       "  9: '1 min',\n",
       "  10: '15 min',\n",
       "  11: '30 min',\n",
       "  12: '1 min',\n",
       "  13: '15 min',\n",
       "  14: '30 min',\n",
       "  15: '1 min',\n",
       "  16: '15 min',\n",
       "  17: '30 min',\n",
       "  18: '1 min',\n",
       "  19: '15 min',\n",
       "  20: '30 min',\n",
       "  21: '1 min',\n",
       "  22: '15 min',\n",
       "  23: '30 min',\n",
       "  24: '1 min',\n",
       "  25: '15 min',\n",
       "  26: '30 min',\n",
       "  27: '1 min',\n",
       "  28: '15 min',\n",
       "  29: '30 min',\n",
       "  30: '1 min',\n",
       "  31: '15 min',\n",
       "  32: '30 min',\n",
       "  33: '1 min',\n",
       "  34: '15 min',\n",
       "  35: '30 min',\n",
       "  36: '1 min',\n",
       "  37: '15 min',\n",
       "  38: '30 min',\n",
       "  39: '1 min',\n",
       "  40: '15 min',\n",
       "  41: '30 min',\n",
       "  42: '1 min',\n",
       "  43: '15 min',\n",
       "  44: '30 min',\n",
       "  45: '1 min',\n",
       "  46: '15 min',\n",
       "  47: '30 min',\n",
       "  48: '1 min',\n",
       "  49: '15 min',\n",
       "  50: '30 min',\n",
       "  51: '1 min',\n",
       "  52: '15 min',\n",
       "  53: '30 min',\n",
       "  54: '1 min',\n",
       "  55: '15 min',\n",
       "  56: '30 min',\n",
       "  57: '1 min',\n",
       "  58: '15 min',\n",
       "  59: '30 min',\n",
       "  60: '1 min',\n",
       "  61: '15 min',\n",
       "  62: '30 min',\n",
       "  63: '1 min',\n",
       "  64: '15 min',\n",
       "  65: '30 min',\n",
       "  66: '1 min',\n",
       "  67: '15 min',\n",
       "  68: '30 min',\n",
       "  69: '1 min',\n",
       "  70: '15 min',\n",
       "  71: '30 min',\n",
       "  72: '1 min',\n",
       "  73: '15 min',\n",
       "  74: '30 min',\n",
       "  75: '1 min',\n",
       "  76: '15 min',\n",
       "  77: '30 min',\n",
       "  78: '1 min',\n",
       "  79: '15 min',\n",
       "  80: '30 min',\n",
       "  81: '1 min',\n",
       "  82: '15 min',\n",
       "  83: '30 min',\n",
       "  84: '1 min',\n",
       "  85: '15 min',\n",
       "  86: '30 min',\n",
       "  87: '1 min',\n",
       "  88: '15 min',\n",
       "  89: '30 min'},\n",
       " 'kind': {0: 'rest',\n",
       "  1: 'rest',\n",
       "  2: 'rest',\n",
       "  3: 'rest',\n",
       "  4: 'rest',\n",
       "  5: 'rest',\n",
       "  6: 'rest',\n",
       "  7: 'rest',\n",
       "  8: 'rest',\n",
       "  9: 'rest',\n",
       "  10: 'rest',\n",
       "  11: 'rest',\n",
       "  12: 'rest',\n",
       "  13: 'rest',\n",
       "  14: 'rest',\n",
       "  15: 'rest',\n",
       "  16: 'rest',\n",
       "  17: 'rest',\n",
       "  18: 'rest',\n",
       "  19: 'rest',\n",
       "  20: 'rest',\n",
       "  21: 'rest',\n",
       "  22: 'rest',\n",
       "  23: 'rest',\n",
       "  24: 'rest',\n",
       "  25: 'rest',\n",
       "  26: 'rest',\n",
       "  27: 'rest',\n",
       "  28: 'rest',\n",
       "  29: 'rest',\n",
       "  30: 'walking',\n",
       "  31: 'walking',\n",
       "  32: 'walking',\n",
       "  33: 'walking',\n",
       "  34: 'walking',\n",
       "  35: 'walking',\n",
       "  36: 'walking',\n",
       "  37: 'walking',\n",
       "  38: 'walking',\n",
       "  39: 'walking',\n",
       "  40: 'walking',\n",
       "  41: 'walking',\n",
       "  42: 'walking',\n",
       "  43: 'walking',\n",
       "  44: 'walking',\n",
       "  45: 'walking',\n",
       "  46: 'walking',\n",
       "  47: 'walking',\n",
       "  48: 'walking',\n",
       "  49: 'walking',\n",
       "  50: 'walking',\n",
       "  51: 'walking',\n",
       "  52: 'walking',\n",
       "  53: 'walking',\n",
       "  54: 'walking',\n",
       "  55: 'walking',\n",
       "  56: 'walking',\n",
       "  57: 'walking',\n",
       "  58: 'walking',\n",
       "  59: 'walking',\n",
       "  60: 'running',\n",
       "  61: 'running',\n",
       "  62: 'running',\n",
       "  63: 'running',\n",
       "  64: 'running',\n",
       "  65: 'running',\n",
       "  66: 'running',\n",
       "  67: 'running',\n",
       "  68: 'running',\n",
       "  69: 'running',\n",
       "  70: 'running',\n",
       "  71: 'running',\n",
       "  72: 'running',\n",
       "  73: 'running',\n",
       "  74: 'running',\n",
       "  75: 'running',\n",
       "  76: 'running',\n",
       "  77: 'running',\n",
       "  78: 'running',\n",
       "  79: 'running',\n",
       "  80: 'running',\n",
       "  81: 'running',\n",
       "  82: 'running',\n",
       "  83: 'running',\n",
       "  84: 'running',\n",
       "  85: 'running',\n",
       "  86: 'running',\n",
       "  87: 'running',\n",
       "  88: 'running',\n",
       "  89: 'running'}}"
      ]
     },
     "execution_count": 76,
     "metadata": {},
     "output_type": "execute_result"
    }
   ],
   "source": [
    "data.to_dict()"
   ]
  },
  {
   "cell_type": "code",
   "execution_count": 78,
   "metadata": {},
   "outputs": [],
   "source": [
    "data.to_csv(\"exercise.csv\")"
   ]
  },
  {
   "cell_type": "code",
   "execution_count": 81,
   "metadata": {},
   "outputs": [
    {
     "data": {
      "text/plain": [
       "'\\\\begin{tabular}{lrlrll}\\n\\\\toprule\\n{} &  id &     diet &  pulse &    time &     kind \\\\\\\\\\n\\\\midrule\\n0  &   1 &  low fat &     85 &   1 min &     rest \\\\\\\\\\n1  &   1 &  low fat &     85 &  15 min &     rest \\\\\\\\\\n2  &   1 &  low fat &     88 &  30 min &     rest \\\\\\\\\\n3  &   2 &  low fat &     90 &   1 min &     rest \\\\\\\\\\n4  &   2 &  low fat &     92 &  15 min &     rest \\\\\\\\\\n5  &   2 &  low fat &     93 &  30 min &     rest \\\\\\\\\\n6  &   3 &  low fat &     97 &   1 min &     rest \\\\\\\\\\n7  &   3 &  low fat &     97 &  15 min &     rest \\\\\\\\\\n8  &   3 &  low fat &     94 &  30 min &     rest \\\\\\\\\\n9  &   4 &  low fat &     80 &   1 min &     rest \\\\\\\\\\n10 &   4 &  low fat &     82 &  15 min &     rest \\\\\\\\\\n11 &   4 &  low fat &     83 &  30 min &     rest \\\\\\\\\\n12 &   5 &  low fat &     91 &   1 min &     rest \\\\\\\\\\n13 &   5 &  low fat &     92 &  15 min &     rest \\\\\\\\\\n14 &   5 &  low fat &     91 &  30 min &     rest \\\\\\\\\\n15 &   6 &   no fat &     83 &   1 min &     rest \\\\\\\\\\n16 &   6 &   no fat &     83 &  15 min &     rest \\\\\\\\\\n17 &   6 &   no fat &     84 &  30 min &     rest \\\\\\\\\\n18 &   7 &   no fat &     87 &   1 min &     rest \\\\\\\\\\n19 &   7 &   no fat &     88 &  15 min &     rest \\\\\\\\\\n20 &   7 &   no fat &     90 &  30 min &     rest \\\\\\\\\\n21 &   8 &   no fat &     92 &   1 min &     rest \\\\\\\\\\n22 &   8 &   no fat &     94 &  15 min &     rest \\\\\\\\\\n23 &   8 &   no fat &     95 &  30 min &     rest \\\\\\\\\\n24 &   9 &   no fat &     97 &   1 min &     rest \\\\\\\\\\n25 &   9 &   no fat &     99 &  15 min &     rest \\\\\\\\\\n26 &   9 &   no fat &     96 &  30 min &     rest \\\\\\\\\\n27 &  10 &   no fat &    100 &   1 min &     rest \\\\\\\\\\n28 &  10 &   no fat &     97 &  15 min &     rest \\\\\\\\\\n29 &  10 &   no fat &    100 &  30 min &     rest \\\\\\\\\\n30 &  11 &  low fat &     86 &   1 min &  walking \\\\\\\\\\n31 &  11 &  low fat &     86 &  15 min &  walking \\\\\\\\\\n32 &  11 &  low fat &     84 &  30 min &  walking \\\\\\\\\\n33 &  12 &  low fat &     93 &   1 min &  walking \\\\\\\\\\n34 &  12 &  low fat &    103 &  15 min &  walking \\\\\\\\\\n35 &  12 &  low fat &    104 &  30 min &  walking \\\\\\\\\\n36 &  13 &  low fat &     90 &   1 min &  walking \\\\\\\\\\n37 &  13 &  low fat &     92 &  15 min &  walking \\\\\\\\\\n38 &  13 &  low fat &     93 &  30 min &  walking \\\\\\\\\\n39 &  14 &  low fat &     95 &   1 min &  walking \\\\\\\\\\n40 &  14 &  low fat &     96 &  15 min &  walking \\\\\\\\\\n41 &  14 &  low fat &    100 &  30 min &  walking \\\\\\\\\\n42 &  15 &  low fat &     89 &   1 min &  walking \\\\\\\\\\n43 &  15 &  low fat &     96 &  15 min &  walking \\\\\\\\\\n44 &  15 &  low fat &     95 &  30 min &  walking \\\\\\\\\\n45 &  16 &   no fat &     84 &   1 min &  walking \\\\\\\\\\n46 &  16 &   no fat &     86 &  15 min &  walking \\\\\\\\\\n47 &  16 &   no fat &     89 &  30 min &  walking \\\\\\\\\\n48 &  17 &   no fat &    103 &   1 min &  walking \\\\\\\\\\n49 &  17 &   no fat &    109 &  15 min &  walking \\\\\\\\\\n50 &  17 &   no fat &     90 &  30 min &  walking \\\\\\\\\\n51 &  18 &   no fat &     92 &   1 min &  walking \\\\\\\\\\n52 &  18 &   no fat &     96 &  15 min &  walking \\\\\\\\\\n53 &  18 &   no fat &    101 &  30 min &  walking \\\\\\\\\\n54 &  19 &   no fat &     97 &   1 min &  walking \\\\\\\\\\n55 &  19 &   no fat &     98 &  15 min &  walking \\\\\\\\\\n56 &  19 &   no fat &    100 &  30 min &  walking \\\\\\\\\\n57 &  20 &   no fat &    102 &   1 min &  walking \\\\\\\\\\n58 &  20 &   no fat &    104 &  15 min &  walking \\\\\\\\\\n59 &  20 &   no fat &    103 &  30 min &  walking \\\\\\\\\\n60 &  21 &  low fat &     93 &   1 min &  running \\\\\\\\\\n61 &  21 &  low fat &     98 &  15 min &  running \\\\\\\\\\n62 &  21 &  low fat &    110 &  30 min &  running \\\\\\\\\\n63 &  22 &  low fat &     98 &   1 min &  running \\\\\\\\\\n64 &  22 &  low fat &    104 &  15 min &  running \\\\\\\\\\n65 &  22 &  low fat &    112 &  30 min &  running \\\\\\\\\\n66 &  23 &  low fat &     98 &   1 min &  running \\\\\\\\\\n67 &  23 &  low fat &    105 &  15 min &  running \\\\\\\\\\n68 &  23 &  low fat &     99 &  30 min &  running \\\\\\\\\\n69 &  24 &  low fat &     87 &   1 min &  running \\\\\\\\\\n70 &  24 &  low fat &    132 &  15 min &  running \\\\\\\\\\n71 &  24 &  low fat &    120 &  30 min &  running \\\\\\\\\\n72 &  25 &  low fat &     94 &   1 min &  running \\\\\\\\\\n73 &  25 &  low fat &    110 &  15 min &  running \\\\\\\\\\n74 &  25 &  low fat &    116 &  30 min &  running \\\\\\\\\\n75 &  26 &   no fat &     95 &   1 min &  running \\\\\\\\\\n76 &  26 &   no fat &    126 &  15 min &  running \\\\\\\\\\n77 &  26 &   no fat &    143 &  30 min &  running \\\\\\\\\\n78 &  27 &   no fat &    100 &   1 min &  running \\\\\\\\\\n79 &  27 &   no fat &    126 &  15 min &  running \\\\\\\\\\n80 &  27 &   no fat &    140 &  30 min &  running \\\\\\\\\\n81 &  28 &   no fat &    103 &   1 min &  running \\\\\\\\\\n82 &  28 &   no fat &    124 &  15 min &  running \\\\\\\\\\n83 &  28 &   no fat &    140 &  30 min &  running \\\\\\\\\\n84 &  29 &   no fat &     94 &   1 min &  running \\\\\\\\\\n85 &  29 &   no fat &    135 &  15 min &  running \\\\\\\\\\n86 &  29 &   no fat &    130 &  30 min &  running \\\\\\\\\\n87 &  30 &   no fat &     99 &   1 min &  running \\\\\\\\\\n88 &  30 &   no fat &    111 &  15 min &  running \\\\\\\\\\n89 &  30 &   no fat &    150 &  30 min &  running \\\\\\\\\\n\\\\bottomrule\\n\\\\end{tabular}\\n'"
      ]
     },
     "execution_count": 81,
     "metadata": {},
     "output_type": "execute_result"
    }
   ],
   "source": [
    "data.to_latex()"
   ]
  },
  {
   "cell_type": "code",
   "execution_count": 82,
   "metadata": {},
   "outputs": [
    {
     "data": {
      "text/plain": [
       "'<table border=\"1\" class=\"dataframe\">\\n  <thead>\\n    <tr style=\"text-align: right;\">\\n      <th></th>\\n      <th>id</th>\\n      <th>diet</th>\\n      <th>pulse</th>\\n      <th>time</th>\\n      <th>kind</th>\\n    </tr>\\n  </thead>\\n  <tbody>\\n    <tr>\\n      <th>0</th>\\n      <td>1</td>\\n      <td>low fat</td>\\n      <td>85</td>\\n      <td>1 min</td>\\n      <td>rest</td>\\n    </tr>\\n    <tr>\\n      <th>1</th>\\n      <td>1</td>\\n      <td>low fat</td>\\n      <td>85</td>\\n      <td>15 min</td>\\n      <td>rest</td>\\n    </tr>\\n    <tr>\\n      <th>2</th>\\n      <td>1</td>\\n      <td>low fat</td>\\n      <td>88</td>\\n      <td>30 min</td>\\n      <td>rest</td>\\n    </tr>\\n    <tr>\\n      <th>3</th>\\n      <td>2</td>\\n      <td>low fat</td>\\n      <td>90</td>\\n      <td>1 min</td>\\n      <td>rest</td>\\n    </tr>\\n    <tr>\\n      <th>4</th>\\n      <td>2</td>\\n      <td>low fat</td>\\n      <td>92</td>\\n      <td>15 min</td>\\n      <td>rest</td>\\n    </tr>\\n    <tr>\\n      <th>5</th>\\n      <td>2</td>\\n      <td>low fat</td>\\n      <td>93</td>\\n      <td>30 min</td>\\n      <td>rest</td>\\n    </tr>\\n    <tr>\\n      <th>6</th>\\n      <td>3</td>\\n      <td>low fat</td>\\n      <td>97</td>\\n      <td>1 min</td>\\n      <td>rest</td>\\n    </tr>\\n    <tr>\\n      <th>7</th>\\n      <td>3</td>\\n      <td>low fat</td>\\n      <td>97</td>\\n      <td>15 min</td>\\n      <td>rest</td>\\n    </tr>\\n    <tr>\\n      <th>8</th>\\n      <td>3</td>\\n      <td>low fat</td>\\n      <td>94</td>\\n      <td>30 min</td>\\n      <td>rest</td>\\n    </tr>\\n    <tr>\\n      <th>9</th>\\n      <td>4</td>\\n      <td>low fat</td>\\n      <td>80</td>\\n      <td>1 min</td>\\n      <td>rest</td>\\n    </tr>\\n    <tr>\\n      <th>10</th>\\n      <td>4</td>\\n      <td>low fat</td>\\n      <td>82</td>\\n      <td>15 min</td>\\n      <td>rest</td>\\n    </tr>\\n    <tr>\\n      <th>11</th>\\n      <td>4</td>\\n      <td>low fat</td>\\n      <td>83</td>\\n      <td>30 min</td>\\n      <td>rest</td>\\n    </tr>\\n    <tr>\\n      <th>12</th>\\n      <td>5</td>\\n      <td>low fat</td>\\n      <td>91</td>\\n      <td>1 min</td>\\n      <td>rest</td>\\n    </tr>\\n    <tr>\\n      <th>13</th>\\n      <td>5</td>\\n      <td>low fat</td>\\n      <td>92</td>\\n      <td>15 min</td>\\n      <td>rest</td>\\n    </tr>\\n    <tr>\\n      <th>14</th>\\n      <td>5</td>\\n      <td>low fat</td>\\n      <td>91</td>\\n      <td>30 min</td>\\n      <td>rest</td>\\n    </tr>\\n    <tr>\\n      <th>15</th>\\n      <td>6</td>\\n      <td>no fat</td>\\n      <td>83</td>\\n      <td>1 min</td>\\n      <td>rest</td>\\n    </tr>\\n    <tr>\\n      <th>16</th>\\n      <td>6</td>\\n      <td>no fat</td>\\n      <td>83</td>\\n      <td>15 min</td>\\n      <td>rest</td>\\n    </tr>\\n    <tr>\\n      <th>17</th>\\n      <td>6</td>\\n      <td>no fat</td>\\n      <td>84</td>\\n      <td>30 min</td>\\n      <td>rest</td>\\n    </tr>\\n    <tr>\\n      <th>18</th>\\n      <td>7</td>\\n      <td>no fat</td>\\n      <td>87</td>\\n      <td>1 min</td>\\n      <td>rest</td>\\n    </tr>\\n    <tr>\\n      <th>19</th>\\n      <td>7</td>\\n      <td>no fat</td>\\n      <td>88</td>\\n      <td>15 min</td>\\n      <td>rest</td>\\n    </tr>\\n    <tr>\\n      <th>20</th>\\n      <td>7</td>\\n      <td>no fat</td>\\n      <td>90</td>\\n      <td>30 min</td>\\n      <td>rest</td>\\n    </tr>\\n    <tr>\\n      <th>21</th>\\n      <td>8</td>\\n      <td>no fat</td>\\n      <td>92</td>\\n      <td>1 min</td>\\n      <td>rest</td>\\n    </tr>\\n    <tr>\\n      <th>22</th>\\n      <td>8</td>\\n      <td>no fat</td>\\n      <td>94</td>\\n      <td>15 min</td>\\n      <td>rest</td>\\n    </tr>\\n    <tr>\\n      <th>23</th>\\n      <td>8</td>\\n      <td>no fat</td>\\n      <td>95</td>\\n      <td>30 min</td>\\n      <td>rest</td>\\n    </tr>\\n    <tr>\\n      <th>24</th>\\n      <td>9</td>\\n      <td>no fat</td>\\n      <td>97</td>\\n      <td>1 min</td>\\n      <td>rest</td>\\n    </tr>\\n    <tr>\\n      <th>25</th>\\n      <td>9</td>\\n      <td>no fat</td>\\n      <td>99</td>\\n      <td>15 min</td>\\n      <td>rest</td>\\n    </tr>\\n    <tr>\\n      <th>26</th>\\n      <td>9</td>\\n      <td>no fat</td>\\n      <td>96</td>\\n      <td>30 min</td>\\n      <td>rest</td>\\n    </tr>\\n    <tr>\\n      <th>27</th>\\n      <td>10</td>\\n      <td>no fat</td>\\n      <td>100</td>\\n      <td>1 min</td>\\n      <td>rest</td>\\n    </tr>\\n    <tr>\\n      <th>28</th>\\n      <td>10</td>\\n      <td>no fat</td>\\n      <td>97</td>\\n      <td>15 min</td>\\n      <td>rest</td>\\n    </tr>\\n    <tr>\\n      <th>29</th>\\n      <td>10</td>\\n      <td>no fat</td>\\n      <td>100</td>\\n      <td>30 min</td>\\n      <td>rest</td>\\n    </tr>\\n    <tr>\\n      <th>30</th>\\n      <td>11</td>\\n      <td>low fat</td>\\n      <td>86</td>\\n      <td>1 min</td>\\n      <td>walking</td>\\n    </tr>\\n    <tr>\\n      <th>31</th>\\n      <td>11</td>\\n      <td>low fat</td>\\n      <td>86</td>\\n      <td>15 min</td>\\n      <td>walking</td>\\n    </tr>\\n    <tr>\\n      <th>32</th>\\n      <td>11</td>\\n      <td>low fat</td>\\n      <td>84</td>\\n      <td>30 min</td>\\n      <td>walking</td>\\n    </tr>\\n    <tr>\\n      <th>33</th>\\n      <td>12</td>\\n      <td>low fat</td>\\n      <td>93</td>\\n      <td>1 min</td>\\n      <td>walking</td>\\n    </tr>\\n    <tr>\\n      <th>34</th>\\n      <td>12</td>\\n      <td>low fat</td>\\n      <td>103</td>\\n      <td>15 min</td>\\n      <td>walking</td>\\n    </tr>\\n    <tr>\\n      <th>35</th>\\n      <td>12</td>\\n      <td>low fat</td>\\n      <td>104</td>\\n      <td>30 min</td>\\n      <td>walking</td>\\n    </tr>\\n    <tr>\\n      <th>36</th>\\n      <td>13</td>\\n      <td>low fat</td>\\n      <td>90</td>\\n      <td>1 min</td>\\n      <td>walking</td>\\n    </tr>\\n    <tr>\\n      <th>37</th>\\n      <td>13</td>\\n      <td>low fat</td>\\n      <td>92</td>\\n      <td>15 min</td>\\n      <td>walking</td>\\n    </tr>\\n    <tr>\\n      <th>38</th>\\n      <td>13</td>\\n      <td>low fat</td>\\n      <td>93</td>\\n      <td>30 min</td>\\n      <td>walking</td>\\n    </tr>\\n    <tr>\\n      <th>39</th>\\n      <td>14</td>\\n      <td>low fat</td>\\n      <td>95</td>\\n      <td>1 min</td>\\n      <td>walking</td>\\n    </tr>\\n    <tr>\\n      <th>40</th>\\n      <td>14</td>\\n      <td>low fat</td>\\n      <td>96</td>\\n      <td>15 min</td>\\n      <td>walking</td>\\n    </tr>\\n    <tr>\\n      <th>41</th>\\n      <td>14</td>\\n      <td>low fat</td>\\n      <td>100</td>\\n      <td>30 min</td>\\n      <td>walking</td>\\n    </tr>\\n    <tr>\\n      <th>42</th>\\n      <td>15</td>\\n      <td>low fat</td>\\n      <td>89</td>\\n      <td>1 min</td>\\n      <td>walking</td>\\n    </tr>\\n    <tr>\\n      <th>43</th>\\n      <td>15</td>\\n      <td>low fat</td>\\n      <td>96</td>\\n      <td>15 min</td>\\n      <td>walking</td>\\n    </tr>\\n    <tr>\\n      <th>44</th>\\n      <td>15</td>\\n      <td>low fat</td>\\n      <td>95</td>\\n      <td>30 min</td>\\n      <td>walking</td>\\n    </tr>\\n    <tr>\\n      <th>45</th>\\n      <td>16</td>\\n      <td>no fat</td>\\n      <td>84</td>\\n      <td>1 min</td>\\n      <td>walking</td>\\n    </tr>\\n    <tr>\\n      <th>46</th>\\n      <td>16</td>\\n      <td>no fat</td>\\n      <td>86</td>\\n      <td>15 min</td>\\n      <td>walking</td>\\n    </tr>\\n    <tr>\\n      <th>47</th>\\n      <td>16</td>\\n      <td>no fat</td>\\n      <td>89</td>\\n      <td>30 min</td>\\n      <td>walking</td>\\n    </tr>\\n    <tr>\\n      <th>48</th>\\n      <td>17</td>\\n      <td>no fat</td>\\n      <td>103</td>\\n      <td>1 min</td>\\n      <td>walking</td>\\n    </tr>\\n    <tr>\\n      <th>49</th>\\n      <td>17</td>\\n      <td>no fat</td>\\n      <td>109</td>\\n      <td>15 min</td>\\n      <td>walking</td>\\n    </tr>\\n    <tr>\\n      <th>50</th>\\n      <td>17</td>\\n      <td>no fat</td>\\n      <td>90</td>\\n      <td>30 min</td>\\n      <td>walking</td>\\n    </tr>\\n    <tr>\\n      <th>51</th>\\n      <td>18</td>\\n      <td>no fat</td>\\n      <td>92</td>\\n      <td>1 min</td>\\n      <td>walking</td>\\n    </tr>\\n    <tr>\\n      <th>52</th>\\n      <td>18</td>\\n      <td>no fat</td>\\n      <td>96</td>\\n      <td>15 min</td>\\n      <td>walking</td>\\n    </tr>\\n    <tr>\\n      <th>53</th>\\n      <td>18</td>\\n      <td>no fat</td>\\n      <td>101</td>\\n      <td>30 min</td>\\n      <td>walking</td>\\n    </tr>\\n    <tr>\\n      <th>54</th>\\n      <td>19</td>\\n      <td>no fat</td>\\n      <td>97</td>\\n      <td>1 min</td>\\n      <td>walking</td>\\n    </tr>\\n    <tr>\\n      <th>55</th>\\n      <td>19</td>\\n      <td>no fat</td>\\n      <td>98</td>\\n      <td>15 min</td>\\n      <td>walking</td>\\n    </tr>\\n    <tr>\\n      <th>56</th>\\n      <td>19</td>\\n      <td>no fat</td>\\n      <td>100</td>\\n      <td>30 min</td>\\n      <td>walking</td>\\n    </tr>\\n    <tr>\\n      <th>57</th>\\n      <td>20</td>\\n      <td>no fat</td>\\n      <td>102</td>\\n      <td>1 min</td>\\n      <td>walking</td>\\n    </tr>\\n    <tr>\\n      <th>58</th>\\n      <td>20</td>\\n      <td>no fat</td>\\n      <td>104</td>\\n      <td>15 min</td>\\n      <td>walking</td>\\n    </tr>\\n    <tr>\\n      <th>59</th>\\n      <td>20</td>\\n      <td>no fat</td>\\n      <td>103</td>\\n      <td>30 min</td>\\n      <td>walking</td>\\n    </tr>\\n    <tr>\\n      <th>60</th>\\n      <td>21</td>\\n      <td>low fat</td>\\n      <td>93</td>\\n      <td>1 min</td>\\n      <td>running</td>\\n    </tr>\\n    <tr>\\n      <th>61</th>\\n      <td>21</td>\\n      <td>low fat</td>\\n      <td>98</td>\\n      <td>15 min</td>\\n      <td>running</td>\\n    </tr>\\n    <tr>\\n      <th>62</th>\\n      <td>21</td>\\n      <td>low fat</td>\\n      <td>110</td>\\n      <td>30 min</td>\\n      <td>running</td>\\n    </tr>\\n    <tr>\\n      <th>63</th>\\n      <td>22</td>\\n      <td>low fat</td>\\n      <td>98</td>\\n      <td>1 min</td>\\n      <td>running</td>\\n    </tr>\\n    <tr>\\n      <th>64</th>\\n      <td>22</td>\\n      <td>low fat</td>\\n      <td>104</td>\\n      <td>15 min</td>\\n      <td>running</td>\\n    </tr>\\n    <tr>\\n      <th>65</th>\\n      <td>22</td>\\n      <td>low fat</td>\\n      <td>112</td>\\n      <td>30 min</td>\\n      <td>running</td>\\n    </tr>\\n    <tr>\\n      <th>66</th>\\n      <td>23</td>\\n      <td>low fat</td>\\n      <td>98</td>\\n      <td>1 min</td>\\n      <td>running</td>\\n    </tr>\\n    <tr>\\n      <th>67</th>\\n      <td>23</td>\\n      <td>low fat</td>\\n      <td>105</td>\\n      <td>15 min</td>\\n      <td>running</td>\\n    </tr>\\n    <tr>\\n      <th>68</th>\\n      <td>23</td>\\n      <td>low fat</td>\\n      <td>99</td>\\n      <td>30 min</td>\\n      <td>running</td>\\n    </tr>\\n    <tr>\\n      <th>69</th>\\n      <td>24</td>\\n      <td>low fat</td>\\n      <td>87</td>\\n      <td>1 min</td>\\n      <td>running</td>\\n    </tr>\\n    <tr>\\n      <th>70</th>\\n      <td>24</td>\\n      <td>low fat</td>\\n      <td>132</td>\\n      <td>15 min</td>\\n      <td>running</td>\\n    </tr>\\n    <tr>\\n      <th>71</th>\\n      <td>24</td>\\n      <td>low fat</td>\\n      <td>120</td>\\n      <td>30 min</td>\\n      <td>running</td>\\n    </tr>\\n    <tr>\\n      <th>72</th>\\n      <td>25</td>\\n      <td>low fat</td>\\n      <td>94</td>\\n      <td>1 min</td>\\n      <td>running</td>\\n    </tr>\\n    <tr>\\n      <th>73</th>\\n      <td>25</td>\\n      <td>low fat</td>\\n      <td>110</td>\\n      <td>15 min</td>\\n      <td>running</td>\\n    </tr>\\n    <tr>\\n      <th>74</th>\\n      <td>25</td>\\n      <td>low fat</td>\\n      <td>116</td>\\n      <td>30 min</td>\\n      <td>running</td>\\n    </tr>\\n    <tr>\\n      <th>75</th>\\n      <td>26</td>\\n      <td>no fat</td>\\n      <td>95</td>\\n      <td>1 min</td>\\n      <td>running</td>\\n    </tr>\\n    <tr>\\n      <th>76</th>\\n      <td>26</td>\\n      <td>no fat</td>\\n      <td>126</td>\\n      <td>15 min</td>\\n      <td>running</td>\\n    </tr>\\n    <tr>\\n      <th>77</th>\\n      <td>26</td>\\n      <td>no fat</td>\\n      <td>143</td>\\n      <td>30 min</td>\\n      <td>running</td>\\n    </tr>\\n    <tr>\\n      <th>78</th>\\n      <td>27</td>\\n      <td>no fat</td>\\n      <td>100</td>\\n      <td>1 min</td>\\n      <td>running</td>\\n    </tr>\\n    <tr>\\n      <th>79</th>\\n      <td>27</td>\\n      <td>no fat</td>\\n      <td>126</td>\\n      <td>15 min</td>\\n      <td>running</td>\\n    </tr>\\n    <tr>\\n      <th>80</th>\\n      <td>27</td>\\n      <td>no fat</td>\\n      <td>140</td>\\n      <td>30 min</td>\\n      <td>running</td>\\n    </tr>\\n    <tr>\\n      <th>81</th>\\n      <td>28</td>\\n      <td>no fat</td>\\n      <td>103</td>\\n      <td>1 min</td>\\n      <td>running</td>\\n    </tr>\\n    <tr>\\n      <th>82</th>\\n      <td>28</td>\\n      <td>no fat</td>\\n      <td>124</td>\\n      <td>15 min</td>\\n      <td>running</td>\\n    </tr>\\n    <tr>\\n      <th>83</th>\\n      <td>28</td>\\n      <td>no fat</td>\\n      <td>140</td>\\n      <td>30 min</td>\\n      <td>running</td>\\n    </tr>\\n    <tr>\\n      <th>84</th>\\n      <td>29</td>\\n      <td>no fat</td>\\n      <td>94</td>\\n      <td>1 min</td>\\n      <td>running</td>\\n    </tr>\\n    <tr>\\n      <th>85</th>\\n      <td>29</td>\\n      <td>no fat</td>\\n      <td>135</td>\\n      <td>15 min</td>\\n      <td>running</td>\\n    </tr>\\n    <tr>\\n      <th>86</th>\\n      <td>29</td>\\n      <td>no fat</td>\\n      <td>130</td>\\n      <td>30 min</td>\\n      <td>running</td>\\n    </tr>\\n    <tr>\\n      <th>87</th>\\n      <td>30</td>\\n      <td>no fat</td>\\n      <td>99</td>\\n      <td>1 min</td>\\n      <td>running</td>\\n    </tr>\\n    <tr>\\n      <th>88</th>\\n      <td>30</td>\\n      <td>no fat</td>\\n      <td>111</td>\\n      <td>15 min</td>\\n      <td>running</td>\\n    </tr>\\n    <tr>\\n      <th>89</th>\\n      <td>30</td>\\n      <td>no fat</td>\\n      <td>150</td>\\n      <td>30 min</td>\\n      <td>running</td>\\n    </tr>\\n  </tbody>\\n</table>'"
      ]
     },
     "execution_count": 82,
     "metadata": {},
     "output_type": "execute_result"
    }
   ],
   "source": [
    "data.to_html()"
   ]
  },
  {
   "cell_type": "code",
   "execution_count": 84,
   "metadata": {},
   "outputs": [],
   "source": [
    "conn = engine.connect()\n",
    "data.to_sql(\"exercise\",conn)"
   ]
  },
  {
   "cell_type": "code",
   "execution_count": 85,
   "metadata": {},
   "outputs": [
    {
     "data": {
      "text/html": [
       "<div>\n",
       "<style scoped>\n",
       "    .dataframe tbody tr th:only-of-type {\n",
       "        vertical-align: middle;\n",
       "    }\n",
       "\n",
       "    .dataframe tbody tr th {\n",
       "        vertical-align: top;\n",
       "    }\n",
       "\n",
       "    .dataframe thead th {\n",
       "        text-align: right;\n",
       "    }\n",
       "</style>\n",
       "<table border=\"1\" class=\"dataframe\">\n",
       "  <thead>\n",
       "    <tr style=\"text-align: right;\">\n",
       "      <th></th>\n",
       "      <th>id</th>\n",
       "      <th>diet</th>\n",
       "      <th>pulse</th>\n",
       "      <th>time</th>\n",
       "      <th>kind</th>\n",
       "    </tr>\n",
       "  </thead>\n",
       "  <tbody>\n",
       "    <tr>\n",
       "      <td>0</td>\n",
       "      <td>1</td>\n",
       "      <td>low fat</td>\n",
       "      <td>85</td>\n",
       "      <td>1 min</td>\n",
       "      <td>rest</td>\n",
       "    </tr>\n",
       "    <tr>\n",
       "      <td>1</td>\n",
       "      <td>1</td>\n",
       "      <td>low fat</td>\n",
       "      <td>85</td>\n",
       "      <td>15 min</td>\n",
       "      <td>rest</td>\n",
       "    </tr>\n",
       "    <tr>\n",
       "      <td>2</td>\n",
       "      <td>1</td>\n",
       "      <td>low fat</td>\n",
       "      <td>88</td>\n",
       "      <td>30 min</td>\n",
       "      <td>rest</td>\n",
       "    </tr>\n",
       "    <tr>\n",
       "      <td>3</td>\n",
       "      <td>2</td>\n",
       "      <td>low fat</td>\n",
       "      <td>90</td>\n",
       "      <td>1 min</td>\n",
       "      <td>rest</td>\n",
       "    </tr>\n",
       "    <tr>\n",
       "      <td>4</td>\n",
       "      <td>2</td>\n",
       "      <td>low fat</td>\n",
       "      <td>92</td>\n",
       "      <td>15 min</td>\n",
       "      <td>rest</td>\n",
       "    </tr>\n",
       "  </tbody>\n",
       "</table>\n",
       "</div>"
      ],
      "text/plain": [
       "   id     diet  pulse    time  kind\n",
       "0   1  low fat     85   1 min  rest\n",
       "1   1  low fat     85  15 min  rest\n",
       "2   1  low fat     88  30 min  rest\n",
       "3   2  low fat     90   1 min  rest\n",
       "4   2  low fat     92  15 min  rest"
      ]
     },
     "execution_count": 85,
     "metadata": {},
     "output_type": "execute_result"
    }
   ],
   "source": [
    "data.head()"
   ]
  },
  {
   "cell_type": "code",
   "execution_count": 88,
   "metadata": {},
   "outputs": [
    {
     "data": {
      "text/html": [
       "<div>\n",
       "<style scoped>\n",
       "    .dataframe tbody tr th:only-of-type {\n",
       "        vertical-align: middle;\n",
       "    }\n",
       "\n",
       "    .dataframe tbody tr th {\n",
       "        vertical-align: top;\n",
       "    }\n",
       "\n",
       "    .dataframe thead th {\n",
       "        text-align: right;\n",
       "    }\n",
       "</style>\n",
       "<table border=\"1\" class=\"dataframe\">\n",
       "  <thead>\n",
       "    <tr style=\"text-align: right;\">\n",
       "      <th></th>\n",
       "      <th>firstname</th>\n",
       "      <th>lastname</th>\n",
       "      <th>email</th>\n",
       "      <th>password</th>\n",
       "      <th>pic</th>\n",
       "    </tr>\n",
       "  </thead>\n",
       "  <tbody>\n",
       "    <tr>\n",
       "      <td>0</td>\n",
       "      <td>navneet</td>\n",
       "      <td>sharma</td>\n",
       "      <td>navneet@gmail.com</td>\n",
       "      <td>pass</td>\n",
       "      <td>one.jpg</td>\n",
       "    </tr>\n",
       "    <tr>\n",
       "      <td>1</td>\n",
       "      <td>Ramlal</td>\n",
       "      <td>Gupta</td>\n",
       "      <td>ram@gmail.com</td>\n",
       "      <td>admin</td>\n",
       "      <td>Download-black-and-white-wallpapers.jpg</td>\n",
       "    </tr>\n",
       "    <tr>\n",
       "      <td>2</td>\n",
       "      <td>ramsham</td>\n",
       "      <td>sham</td>\n",
       "      <td>sham@gmail.com</td>\n",
       "      <td>admin</td>\n",
       "      <td>one.jpg</td>\n",
       "    </tr>\n",
       "    <tr>\n",
       "      <td>3</td>\n",
       "      <td>Simran</td>\n",
       "      <td>Grover</td>\n",
       "      <td>simrangrover5@gmail.com</td>\n",
       "      <td>admin</td>\n",
       "      <td>4k-wallpaper-blur-close-up-1266821.jpg</td>\n",
       "    </tr>\n",
       "    <tr>\n",
       "      <td>4</td>\n",
       "      <td>Tarun</td>\n",
       "      <td>Singh</td>\n",
       "      <td>tarun@gmail.com</td>\n",
       "      <td></td>\n",
       "      <td></td>\n",
       "    </tr>\n",
       "  </tbody>\n",
       "</table>\n",
       "</div>"
      ],
      "text/plain": [
       "  firstname lastname                    email password  \\\n",
       "0   navneet   sharma        navneet@gmail.com     pass   \n",
       "1    Ramlal    Gupta            ram@gmail.com    admin   \n",
       "2   ramsham     sham           sham@gmail.com    admin   \n",
       "3    Simran   Grover  simrangrover5@gmail.com    admin   \n",
       "4     Tarun    Singh          tarun@gmail.com            \n",
       "\n",
       "                                       pic  \n",
       "0                                  one.jpg  \n",
       "1  Download-black-and-white-wallpapers.jpg  \n",
       "2                                  one.jpg  \n",
       "3   4k-wallpaper-blur-close-up-1266821.jpg  \n",
       "4                                           "
      ]
     },
     "execution_count": 88,
     "metadata": {},
     "output_type": "execute_result"
    }
   ],
   "source": [
    "pd.read_sql_table(\"users_adduser\",conn)"
   ]
  },
  {
   "cell_type": "code",
   "execution_count": 89,
   "metadata": {},
   "outputs": [],
   "source": [
    "d = pd.read_sql_table(\"users_adduser\",conn)"
   ]
  },
  {
   "cell_type": "code",
   "execution_count": 90,
   "metadata": {},
   "outputs": [
    {
     "data": {
      "text/html": [
       "<div>\n",
       "<style scoped>\n",
       "    .dataframe tbody tr th:only-of-type {\n",
       "        vertical-align: middle;\n",
       "    }\n",
       "\n",
       "    .dataframe tbody tr th {\n",
       "        vertical-align: top;\n",
       "    }\n",
       "\n",
       "    .dataframe thead th {\n",
       "        text-align: right;\n",
       "    }\n",
       "</style>\n",
       "<table border=\"1\" class=\"dataframe\">\n",
       "  <thead>\n",
       "    <tr style=\"text-align: right;\">\n",
       "      <th></th>\n",
       "      <th>firstname</th>\n",
       "      <th>lastname</th>\n",
       "      <th>email</th>\n",
       "      <th>password</th>\n",
       "      <th>pic</th>\n",
       "    </tr>\n",
       "  </thead>\n",
       "  <tbody>\n",
       "    <tr>\n",
       "      <td>0</td>\n",
       "      <td>navneet</td>\n",
       "      <td>sharma</td>\n",
       "      <td>navneet@gmail.com</td>\n",
       "      <td>pass</td>\n",
       "      <td>one.jpg</td>\n",
       "    </tr>\n",
       "    <tr>\n",
       "      <td>1</td>\n",
       "      <td>Ramlal</td>\n",
       "      <td>Gupta</td>\n",
       "      <td>ram@gmail.com</td>\n",
       "      <td>admin</td>\n",
       "      <td>Download-black-and-white-wallpapers.jpg</td>\n",
       "    </tr>\n",
       "    <tr>\n",
       "      <td>2</td>\n",
       "      <td>ramsham</td>\n",
       "      <td>sham</td>\n",
       "      <td>sham@gmail.com</td>\n",
       "      <td>admin</td>\n",
       "      <td>one.jpg</td>\n",
       "    </tr>\n",
       "    <tr>\n",
       "      <td>3</td>\n",
       "      <td>Simran</td>\n",
       "      <td>Grover</td>\n",
       "      <td>simrangrover5@gmail.com</td>\n",
       "      <td>admin</td>\n",
       "      <td>4k-wallpaper-blur-close-up-1266821.jpg</td>\n",
       "    </tr>\n",
       "    <tr>\n",
       "      <td>4</td>\n",
       "      <td>Tarun</td>\n",
       "      <td>Singh</td>\n",
       "      <td>tarun@gmail.com</td>\n",
       "      <td></td>\n",
       "      <td></td>\n",
       "    </tr>\n",
       "  </tbody>\n",
       "</table>\n",
       "</div>"
      ],
      "text/plain": [
       "  firstname lastname                    email password  \\\n",
       "0   navneet   sharma        navneet@gmail.com     pass   \n",
       "1    Ramlal    Gupta            ram@gmail.com    admin   \n",
       "2   ramsham     sham           sham@gmail.com    admin   \n",
       "3    Simran   Grover  simrangrover5@gmail.com    admin   \n",
       "4     Tarun    Singh          tarun@gmail.com            \n",
       "\n",
       "                                       pic  \n",
       "0                                  one.jpg  \n",
       "1  Download-black-and-white-wallpapers.jpg  \n",
       "2                                  one.jpg  \n",
       "3   4k-wallpaper-blur-close-up-1266821.jpg  \n",
       "4                                           "
      ]
     },
     "execution_count": 90,
     "metadata": {},
     "output_type": "execute_result"
    }
   ],
   "source": [
    "d"
   ]
  },
  {
   "cell_type": "code",
   "execution_count": 92,
   "metadata": {},
   "outputs": [
    {
     "data": {
      "text/html": [
       "<div>\n",
       "<style scoped>\n",
       "    .dataframe tbody tr th:only-of-type {\n",
       "        vertical-align: middle;\n",
       "    }\n",
       "\n",
       "    .dataframe tbody tr th {\n",
       "        vertical-align: top;\n",
       "    }\n",
       "\n",
       "    .dataframe thead th {\n",
       "        text-align: right;\n",
       "    }\n",
       "</style>\n",
       "<table border=\"1\" class=\"dataframe\">\n",
       "  <thead>\n",
       "    <tr style=\"text-align: right;\">\n",
       "      <th></th>\n",
       "      <th>firstname</th>\n",
       "      <th>lastname</th>\n",
       "      <th>email</th>\n",
       "      <th>password</th>\n",
       "      <th>pic</th>\n",
       "    </tr>\n",
       "  </thead>\n",
       "  <tbody>\n",
       "    <tr>\n",
       "      <td>1</td>\n",
       "      <td>Ramlal</td>\n",
       "      <td>Gupta</td>\n",
       "      <td>ram@gmail.com</td>\n",
       "      <td>admin</td>\n",
       "      <td>Download-black-and-white-wallpapers.jpg</td>\n",
       "    </tr>\n",
       "    <tr>\n",
       "      <td>2</td>\n",
       "      <td>ramsham</td>\n",
       "      <td>sham</td>\n",
       "      <td>sham@gmail.com</td>\n",
       "      <td>admin</td>\n",
       "      <td>one.jpg</td>\n",
       "    </tr>\n",
       "    <tr>\n",
       "      <td>3</td>\n",
       "      <td>Simran</td>\n",
       "      <td>Grover</td>\n",
       "      <td>simrangrover5@gmail.com</td>\n",
       "      <td>admin</td>\n",
       "      <td>4k-wallpaper-blur-close-up-1266821.jpg</td>\n",
       "    </tr>\n",
       "  </tbody>\n",
       "</table>\n",
       "</div>"
      ],
      "text/plain": [
       "  firstname lastname                    email password  \\\n",
       "1    Ramlal    Gupta            ram@gmail.com    admin   \n",
       "2   ramsham     sham           sham@gmail.com    admin   \n",
       "3    Simran   Grover  simrangrover5@gmail.com    admin   \n",
       "\n",
       "                                       pic  \n",
       "1  Download-black-and-white-wallpapers.jpg  \n",
       "2                                  one.jpg  \n",
       "3   4k-wallpaper-blur-close-up-1266821.jpg  "
      ]
     },
     "execution_count": 92,
     "metadata": {},
     "output_type": "execute_result"
    }
   ],
   "source": [
    "d[d['password'] == \"admin\"]"
   ]
  },
  {
   "cell_type": "code",
   "execution_count": 96,
   "metadata": {},
   "outputs": [
    {
     "data": {
      "text/plain": [
       "no fat     15\n",
       "low fat    15\n",
       "Name: diet, dtype: int64"
      ]
     },
     "execution_count": 96,
     "metadata": {},
     "output_type": "execute_result"
    }
   ],
   "source": [
    "pd.read_sql_query(\"select * from exercise where kind='rest'\",conn)['diet'].value_counts()"
   ]
  },
  {
   "cell_type": "code",
   "execution_count": 94,
   "metadata": {},
   "outputs": [
    {
     "data": {
      "text/plain": [
       "pandas.core.frame.DataFrame"
      ]
     },
     "execution_count": 94,
     "metadata": {},
     "output_type": "execute_result"
    }
   ],
   "source": [
    "type(pd.read_sql_query(\"select * from exercise\",conn))"
   ]
  },
  {
   "cell_type": "code",
   "execution_count": 97,
   "metadata": {},
   "outputs": [
    {
     "data": {
      "text/html": [
       "<div>\n",
       "<style scoped>\n",
       "    .dataframe tbody tr th:only-of-type {\n",
       "        vertical-align: middle;\n",
       "    }\n",
       "\n",
       "    .dataframe tbody tr th {\n",
       "        vertical-align: top;\n",
       "    }\n",
       "\n",
       "    .dataframe thead th {\n",
       "        text-align: right;\n",
       "    }\n",
       "</style>\n",
       "<table border=\"1\" class=\"dataframe\">\n",
       "  <thead>\n",
       "    <tr style=\"text-align: right;\">\n",
       "      <th></th>\n",
       "      <th>id</th>\n",
       "      <th>diet</th>\n",
       "      <th>pulse</th>\n",
       "      <th>time</th>\n",
       "      <th>kind</th>\n",
       "    </tr>\n",
       "  </thead>\n",
       "  <tbody>\n",
       "    <tr>\n",
       "      <td>0</td>\n",
       "      <td>1</td>\n",
       "      <td>low fat</td>\n",
       "      <td>85</td>\n",
       "      <td>1 min</td>\n",
       "      <td>rest</td>\n",
       "    </tr>\n",
       "    <tr>\n",
       "      <td>1</td>\n",
       "      <td>1</td>\n",
       "      <td>low fat</td>\n",
       "      <td>85</td>\n",
       "      <td>15 min</td>\n",
       "      <td>rest</td>\n",
       "    </tr>\n",
       "    <tr>\n",
       "      <td>2</td>\n",
       "      <td>1</td>\n",
       "      <td>low fat</td>\n",
       "      <td>88</td>\n",
       "      <td>30 min</td>\n",
       "      <td>rest</td>\n",
       "    </tr>\n",
       "    <tr>\n",
       "      <td>3</td>\n",
       "      <td>2</td>\n",
       "      <td>low fat</td>\n",
       "      <td>90</td>\n",
       "      <td>1 min</td>\n",
       "      <td>rest</td>\n",
       "    </tr>\n",
       "    <tr>\n",
       "      <td>4</td>\n",
       "      <td>2</td>\n",
       "      <td>low fat</td>\n",
       "      <td>92</td>\n",
       "      <td>15 min</td>\n",
       "      <td>rest</td>\n",
       "    </tr>\n",
       "  </tbody>\n",
       "</table>\n",
       "</div>"
      ],
      "text/plain": [
       "   id     diet  pulse    time  kind\n",
       "0   1  low fat     85   1 min  rest\n",
       "1   1  low fat     85  15 min  rest\n",
       "2   1  low fat     88  30 min  rest\n",
       "3   2  low fat     90   1 min  rest\n",
       "4   2  low fat     92  15 min  rest"
      ]
     },
     "execution_count": 97,
     "metadata": {},
     "output_type": "execute_result"
    }
   ],
   "source": [
    "data.head()"
   ]
  },
  {
   "cell_type": "code",
   "execution_count": 98,
   "metadata": {},
   "outputs": [
    {
     "data": {
      "text/plain": [
       "30 min    30\n",
       "15 min    30\n",
       "1 min     30\n",
       "Name: time, dtype: int64"
      ]
     },
     "execution_count": 98,
     "metadata": {},
     "output_type": "execute_result"
    }
   ],
   "source": [
    "data['time'].value_counts()"
   ]
  },
  {
   "cell_type": "code",
   "execution_count": 101,
   "metadata": {},
   "outputs": [
    {
     "data": {
      "text/html": [
       "<div>\n",
       "<style scoped>\n",
       "    .dataframe tbody tr th:only-of-type {\n",
       "        vertical-align: middle;\n",
       "    }\n",
       "\n",
       "    .dataframe tbody tr th {\n",
       "        vertical-align: top;\n",
       "    }\n",
       "\n",
       "    .dataframe thead th {\n",
       "        text-align: right;\n",
       "    }\n",
       "</style>\n",
       "<table border=\"1\" class=\"dataframe\">\n",
       "  <thead>\n",
       "    <tr style=\"text-align: right;\">\n",
       "      <th></th>\n",
       "      <th>avg(pulse)</th>\n",
       "    </tr>\n",
       "  </thead>\n",
       "  <tbody>\n",
       "    <tr>\n",
       "      <td>0</td>\n",
       "      <td>93.1333</td>\n",
       "    </tr>\n",
       "  </tbody>\n",
       "</table>\n",
       "</div>"
      ],
      "text/plain": [
       "   avg(pulse)\n",
       "0     93.1333"
      ]
     },
     "execution_count": 101,
     "metadata": {},
     "output_type": "execute_result"
    }
   ],
   "source": [
    "pd.read_sql_query(\"select avg(pulse) from exercise where time='1 min';\",conn)"
   ]
  },
  {
   "cell_type": "code",
   "execution_count": 102,
   "metadata": {},
   "outputs": [],
   "source": [
    "tips = sns.load_dataset(\"tips\")"
   ]
  },
  {
   "cell_type": "code",
   "execution_count": 103,
   "metadata": {},
   "outputs": [
    {
     "data": {
      "text/html": [
       "<div>\n",
       "<style scoped>\n",
       "    .dataframe tbody tr th:only-of-type {\n",
       "        vertical-align: middle;\n",
       "    }\n",
       "\n",
       "    .dataframe tbody tr th {\n",
       "        vertical-align: top;\n",
       "    }\n",
       "\n",
       "    .dataframe thead th {\n",
       "        text-align: right;\n",
       "    }\n",
       "</style>\n",
       "<table border=\"1\" class=\"dataframe\">\n",
       "  <thead>\n",
       "    <tr style=\"text-align: right;\">\n",
       "      <th></th>\n",
       "      <th>total_bill</th>\n",
       "      <th>tip</th>\n",
       "      <th>sex</th>\n",
       "      <th>smoker</th>\n",
       "      <th>day</th>\n",
       "      <th>time</th>\n",
       "      <th>size</th>\n",
       "    </tr>\n",
       "  </thead>\n",
       "  <tbody>\n",
       "    <tr>\n",
       "      <td>0</td>\n",
       "      <td>16.99</td>\n",
       "      <td>1.01</td>\n",
       "      <td>Female</td>\n",
       "      <td>No</td>\n",
       "      <td>Sun</td>\n",
       "      <td>Dinner</td>\n",
       "      <td>2</td>\n",
       "    </tr>\n",
       "    <tr>\n",
       "      <td>1</td>\n",
       "      <td>10.34</td>\n",
       "      <td>1.66</td>\n",
       "      <td>Male</td>\n",
       "      <td>No</td>\n",
       "      <td>Sun</td>\n",
       "      <td>Dinner</td>\n",
       "      <td>3</td>\n",
       "    </tr>\n",
       "    <tr>\n",
       "      <td>2</td>\n",
       "      <td>21.01</td>\n",
       "      <td>3.50</td>\n",
       "      <td>Male</td>\n",
       "      <td>No</td>\n",
       "      <td>Sun</td>\n",
       "      <td>Dinner</td>\n",
       "      <td>3</td>\n",
       "    </tr>\n",
       "    <tr>\n",
       "      <td>3</td>\n",
       "      <td>23.68</td>\n",
       "      <td>3.31</td>\n",
       "      <td>Male</td>\n",
       "      <td>No</td>\n",
       "      <td>Sun</td>\n",
       "      <td>Dinner</td>\n",
       "      <td>2</td>\n",
       "    </tr>\n",
       "    <tr>\n",
       "      <td>4</td>\n",
       "      <td>24.59</td>\n",
       "      <td>3.61</td>\n",
       "      <td>Female</td>\n",
       "      <td>No</td>\n",
       "      <td>Sun</td>\n",
       "      <td>Dinner</td>\n",
       "      <td>4</td>\n",
       "    </tr>\n",
       "  </tbody>\n",
       "</table>\n",
       "</div>"
      ],
      "text/plain": [
       "   total_bill   tip     sex smoker  day    time  size\n",
       "0       16.99  1.01  Female     No  Sun  Dinner     2\n",
       "1       10.34  1.66    Male     No  Sun  Dinner     3\n",
       "2       21.01  3.50    Male     No  Sun  Dinner     3\n",
       "3       23.68  3.31    Male     No  Sun  Dinner     2\n",
       "4       24.59  3.61  Female     No  Sun  Dinner     4"
      ]
     },
     "execution_count": 103,
     "metadata": {},
     "output_type": "execute_result"
    }
   ],
   "source": [
    "tips.head()"
   ]
  },
  {
   "cell_type": "code",
   "execution_count": 104,
   "metadata": {},
   "outputs": [
    {
     "data": {
      "text/plain": [
       "<matplotlib.axes._subplots.AxesSubplot at 0x214338ec7c8>"
      ]
     },
     "execution_count": 104,
     "metadata": {},
     "output_type": "execute_result"
    },
    {
     "data": {
      "image/png": "[encoded data removed]",
      "text/plain": [
       "<Figure size 792x360 with 1 Axes>"
      ]
     },
     "metadata": {
      "needs_background": "light"
     },
     "output_type": "display_data"
    }
   ],
   "source": [
    "tips.plot()"
   ]
  },
  {
   "cell_type": "code",
   "execution_count": 105,
   "metadata": {},
   "outputs": [
    {
     "data": {
      "text/plain": [
       "<matplotlib.axes._subplots.AxesSubplot at 0x214339ebcc8>"
      ]
     },
     "execution_count": 105,
     "metadata": {},
     "output_type": "execute_result"
    },
    {
     "data": {
      "image/png": "[encoded data removed]",
      "text/plain": [
       "<Figure size 792x360 with 1 Axes>"
      ]
     },
     "metadata": {
      "needs_background": "light"
     },
     "output_type": "display_data"
    }
   ],
   "source": [
    "tips.plot(kind=\"bar\")"
   ]
  },
  {
   "cell_type": "code",
   "execution_count": 106,
   "metadata": {},
   "outputs": [
    {
     "data": {
      "text/plain": [
       "<matplotlib.axes._subplots.AxesSubplot at 0x21433e9dd88>"
      ]
     },
     "execution_count": 106,
     "metadata": {},
     "output_type": "execute_result"
    },
    {
     "data": {
      "image/png": "[encoded data removed]",
      "text/plain": [
       "<Figure size 792x360 with 1 Axes>"
      ]
     },
     "metadata": {
      "needs_background": "light"
     },
     "output_type": "display_data"
    }
   ],
   "source": [
    "tips[['tip']].plot.bar()"
   ]
  },
  {
   "cell_type": "code",
   "execution_count": 108,
   "metadata": {},
   "outputs": [
    {
     "data": {
      "text/plain": [
       "<matplotlib.axes._subplots.AxesSubplot at 0x214360bf9c8>"
      ]
     },
     "execution_count": 108,
     "metadata": {},
     "output_type": "execute_result"
    },
    {
     "data": {
      "image/png": "[encoded data removed]",
      "text/plain": [
       "<Figure size 792x360 with 1 Axes>"
      ]
     },
     "metadata": {
      "needs_background": "light"
     },
     "output_type": "display_data"
    }
   ],
   "source": [
    "tips['size'].value_counts().plot.bar()"
   ]
  },
  {
   "cell_type": "code",
   "execution_count": 110,
   "metadata": {},
   "outputs": [
    {
     "data": {
      "text/plain": [
       "<matplotlib.axes._subplots.AxesSubplot at 0x21435f7b708>"
      ]
     },
     "execution_count": 110,
     "metadata": {},
     "output_type": "execute_result"
    },
    {
     "data": {
      "image/png": "[encoded data removed]",
      "text/plain": [
       "<Figure size 792x360 with 1 Axes>"
      ]
     },
     "metadata": {
      "needs_background": "light"
     },
     "output_type": "display_data"
    }
   ],
   "source": [
    "tips[['total_bill','tip']][:10].plot.bar(alpha=0.5)"
   ]
  },
  {
   "cell_type": "code",
   "execution_count": 112,
   "metadata": {},
   "outputs": [
    {
     "data": {
      "text/plain": [
       "<matplotlib.axes._subplots.AxesSubplot at 0x214362d7b88>"
      ]
     },
     "execution_count": 112,
     "metadata": {},
     "output_type": "execute_result"
    },
    {
     "data": {
      "image/png": "[encoded data removed]",
      "text/plain": [
       "<Figure size 792x360 with 1 Axes>"
      ]
     },
     "metadata": {
      "needs_background": "light"
     },
     "output_type": "display_data"
    }
   ],
   "source": [
    "tips[['total_bill','tip']][:20].plot.bar(alpha=0.5,stacked=True)"
   ]
  },
  {
   "cell_type": "code",
   "execution_count": 114,
   "metadata": {},
   "outputs": [
    {
     "data": {
      "text/plain": [
       "<matplotlib.axes._subplots.AxesSubplot at 0x2143b4152c8>"
      ]
     },
     "execution_count": 114,
     "metadata": {},
     "output_type": "execute_result"
    },
    {
     "data": {
      "image/png": "[encoded data removed]",
      "text/plain": [
       "<Figure size 792x360 with 1 Axes>"
      ]
     },
     "metadata": {
      "needs_background": "light"
     },
     "output_type": "display_data"
    }
   ],
   "source": [
    "tips[['total_bill','tip','size']][:20].plot.bar(stacked=True,alpha=0.6)"
   ]
  },
  {
   "cell_type": "code",
   "execution_count": 116,
   "metadata": {},
   "outputs": [
    {
     "data": {
      "text/plain": [
       "<matplotlib.axes._subplots.AxesSubplot at 0x2143c7814c8>"
      ]
     },
     "execution_count": 116,
     "metadata": {},
     "output_type": "execute_result"
    },
    {
     "data": {
      "image/png": "[encoded data removed]",
      "text/plain": [
       "<Figure size 792x360 with 1 Axes>"
      ]
     },
     "metadata": {},
     "output_type": "display_data"
    }
   ],
   "source": [
    "tips['size'].value_counts().plot.pie()"
   ]
  },
  {
   "cell_type": "code",
   "execution_count": 119,
   "metadata": {},
   "outputs": [
    {
     "data": {
      "text/plain": [
       "<matplotlib.axes._subplots.AxesSubplot at 0x2143c47b688>"
      ]
     },
     "execution_count": 119,
     "metadata": {},
     "output_type": "execute_result"
    },
    {
     "data": {
      "image/png": "[encoded data removed]",
      "text/plain": [
       "<Figure size 792x360 with 1 Axes>"
      ]
     },
     "metadata": {},
     "output_type": "display_data"
    }
   ],
   "source": [
    "tips['size'].value_counts().plot.pie()"
   ]
  },
  {
   "cell_type": "code",
   "execution_count": 123,
   "metadata": {},
   "outputs": [
    {
     "data": {
      "image/png": "[encoded data removed]",
      "text/plain": [
       "<Figure size 792x360 with 2 Axes>"
      ]
     },
     "metadata": {},
     "output_type": "display_data"
    }
   ],
   "source": [
    "tips[['total_bill','tip']][:20].plot.pie(subplots=True)\n",
    "plt.show()"
   ]
  },
  {
   "cell_type": "code",
   "execution_count": 125,
   "metadata": {},
   "outputs": [
    {
     "data": {
      "text/plain": [
       "<matplotlib.axes._subplots.AxesSubplot at 0x2143ec178c8>"
      ]
     },
     "execution_count": 125,
     "metadata": {},
     "output_type": "execute_result"
    },
    {
     "data": {
      "image/png": "[encoded data removed]",
      "text/plain": [
       "<Figure size 792x360 with 1 Axes>"
      ]
     },
     "metadata": {
      "needs_background": "light"
     },
     "output_type": "display_data"
    }
   ],
   "source": [
    "tips['total_bill'].plot.hist(color=\"white\",ec=\"k\")"
   ]
  },
  {
   "cell_type": "code",
   "execution_count": 128,
   "metadata": {},
   "outputs": [
    {
     "data": {
      "text/plain": [
       "<matplotlib.axes._subplots.AxesSubplot at 0x2143ea314c8>"
      ]
     },
     "execution_count": 128,
     "metadata": {},
     "output_type": "execute_result"
    },
    {
     "data": {
      "image/png": "[encoded data removed]",
      "text/plain": [
       "<Figure size 792x360 with 1 Axes>"
      ]
     },
     "metadata": {
      "needs_background": "light"
     },
     "output_type": "display_data"
    }
   ],
   "source": [
    "tips[['total_bill','tip']].plot.hist(alpha=0.5)"
   ]
  },
  {
   "cell_type": "code",
   "execution_count": 129,
   "metadata": {},
   "outputs": [],
   "source": [
    "temp = pd.DataFrame(np.random.randn(3000).reshape(1000,3))"
   ]
  },
  {
   "cell_type": "code",
   "execution_count": 131,
   "metadata": {},
   "outputs": [
    {
     "data": {
      "image/png": "[encoded data removed]",
      "text/plain": [
       "<Figure size 792x360 with 1 Axes>"
      ]
     },
     "metadata": {
      "needs_background": "light"
     },
     "output_type": "display_data"
    }
   ],
   "source": [
    "temp.plot.hist(alpha=0.5)\n",
    "plt.show()"
   ]
  },
  {
   "cell_type": "code",
   "execution_count": 136,
   "metadata": {},
   "outputs": [
    {
     "data": {
      "image/png": "[encoded data removed]",
      "text/plain": [
       "<Figure size 792x360 with 1 Axes>"
      ]
     },
     "metadata": {
      "needs_background": "light"
     },
     "output_type": "display_data"
    }
   ],
   "source": [
    "tips.plot.scatter(x='tip',y='total_bill',color=\"red\",title=\"TIPvsTOTAL_BILL\")\n",
    "plt.show()"
   ]
  },
  {
   "cell_type": "code",
   "execution_count": 138,
   "metadata": {},
   "outputs": [
    {
     "data": {
      "image/png": "[encoded data removed]",
      "text/plain": [
       "<Figure size 792x360 with 2 Axes>"
      ]
     },
     "metadata": {
      "needs_background": "light"
     },
     "output_type": "display_data"
    }
   ],
   "source": [
    "tips.plot.scatter(x='tip',y='total_bill',c=\"size\",title=\"TIPvsTOTAL_BILL\")\n",
    "plt.show()"
   ]
  },
  {
   "cell_type": "code",
   "execution_count": 140,
   "metadata": {},
   "outputs": [
    {
     "data": {
      "text/plain": [
       "No     151\n",
       "Yes     93\n",
       "Name: smoker, dtype: int64"
      ]
     },
     "execution_count": 140,
     "metadata": {},
     "output_type": "execute_result"
    }
   ],
   "source": [
    "tips['smoker'].value_counts()"
   ]
  },
  {
   "cell_type": "code",
   "execution_count": 141,
   "metadata": {},
   "outputs": [],
   "source": [
    "c = tips['smoker'].map({'No':0,\"Yes\":1})"
   ]
  },
  {
   "cell_type": "code",
   "execution_count": 147,
   "metadata": {},
   "outputs": [
    {
     "data": {
      "text/plain": [
       "0      0\n",
       "1      0\n",
       "2      0\n",
       "3      0\n",
       "4      0\n",
       "      ..\n",
       "239    0\n",
       "240    1\n",
       "241    1\n",
       "242    0\n",
       "243    0\n",
       "Name: smoker, Length: 244, dtype: category\n",
       "Categories (2, int64): [1, 0]"
      ]
     },
     "execution_count": 147,
     "metadata": {},
     "output_type": "execute_result"
    }
   ],
   "source": [
    "c"
   ]
  },
  {
   "cell_type": "code",
   "execution_count": 146,
   "metadata": {},
   "outputs": [
    {
     "data": {
      "image/png": "[encoded data removed]",
      "text/plain": [
       "<Figure size 792x360 with 2 Axes>"
      ]
     },
     "metadata": {
      "needs_background": "light"
     },
     "output_type": "display_data"
    }
   ],
   "source": [
    "tips.plot.scatter(x='tip',y='total_bill',c=c,title=\"TIPvsTOTAL_BILL\",cmap=\"Dark2\")\n",
    "plt.show()"
   ]
  },
  {
   "cell_type": "code",
   "execution_count": null,
   "metadata": {},
   "outputs": [],
   "source": []
  }
 ],
 "metadata": {
  "kernelspec": {
   "display_name": "Python 3",
   "language": "python",
   "name": "python3"
  },
  "language_info": {
   "codemirror_mode": {
    "name": "ipython",
    "version": 3
   },
   "file_extension": ".py",
   "mimetype": "text/x-python",
   "name": "python",
   "nbconvert_exporter": "python",
   "pygments_lexer": "ipython3",
   "version": "3.7.4"
  }
 },
 "nbformat": 4,
 "nbformat_minor": 2
}
