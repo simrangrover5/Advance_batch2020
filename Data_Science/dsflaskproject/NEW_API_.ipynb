{
 "cells": [
  {
   "cell_type": "code",
   "execution_count": 1,
   "metadata": {},
   "outputs": [],
   "source": [
    "import requests"
   ]
  },
  {
   "cell_type": "code",
   "execution_count": 2,
   "metadata": {},
   "outputs": [],
   "source": [
    "url = ('http://newsapi.org/v2/top-headlines?'\n",
    "       'country=us&'\n",
    "       'apiKey=4b55f36f7bc147b28747111e758d309f')\n",
    "response = requests.get(url)"
   ]
  },
  {
   "cell_type": "code",
   "execution_count": 3,
   "metadata": {},
   "outputs": [
    {
     "data": {
      "text/plain": [
       "200"
      ]
     },
     "execution_count": 3,
     "metadata": {},
     "output_type": "execute_result"
    }
   ],
   "source": [
    "response.status_code"
   ]
  },
  {
   "cell_type": "code",
   "execution_count": 6,
   "metadata": {},
   "outputs": [],
   "source": [
    "resp = response.json()"
   ]
  },
  {
   "cell_type": "code",
   "execution_count": 7,
   "metadata": {},
   "outputs": [
    {
     "data": {
      "text/plain": [
       "dict_keys(['status', 'totalResults', 'articles'])"
      ]
     },
     "execution_count": 7,
     "metadata": {},
     "output_type": "execute_result"
    }
   ],
   "source": [
    "resp.keys()"
   ]
  },
  {
   "cell_type": "code",
   "execution_count": 8,
   "metadata": {},
   "outputs": [
    {
     "data": {
      "text/plain": [
       "38"
      ]
     },
     "execution_count": 8,
     "metadata": {},
     "output_type": "execute_result"
    }
   ],
   "source": [
    "resp['totalResults']"
   ]
  },
  {
   "cell_type": "code",
   "execution_count": 9,
   "metadata": {},
   "outputs": [
    {
     "data": {
      "text/plain": [
       "[{'source': {'id': None, 'name': 'CNBC'},\n",
       "  'author': 'Silvia Amaro',\n",
       "  'title': 'European Central Bank keeps rates and stimulus program unchanged, despite stronger euro - CNBC',\n",
       "  'description': \"The euro, which is closely watched by the central bank, has\\xa0risen over 5% against the the dollar since the start of July and hit a session high after the ECB's decision.\",\n",
       "  'url': 'https://www.cnbc.com/2020/09/10/ecb-rate-decision-and-economic-forecasts-september-2020.html',\n",
       "  'urlToImage': 'https://image.cnbcfm.com/api/v1/image/106354120-1579884106653rts2zk7p.jpg?v=1579884172',\n",
       "  'publishedAt': '2020-09-10T11:46:00Z',\n",
       "  'content': 'The European Central Bank announced Thursday it was keeping its interest rates and coronavirus-stimulus program unchanged, despite a stronger euro putting pressure on the policymakers.\\r\\nThe euro, whi… [+1544 chars]'},\n",
       " {'source': {'id': None, 'name': 'BBC News'},\n",
       "  'author': 'https://www.facebook.com/bbcnews',\n",
       "  'title': \"Belarus opposition politician told she would be deported 'alive or in bits' - BBC News\",\n",
       "  'description': 'Maria Kolesnikova says she feared for her life during an attempt to deport her.',\n",
       "  'url': 'https://www.bbc.com/news/world-europe-54101357',\n",
       "  'urlToImage': 'https://ichef.bbci.co.uk/news/1024/branded_news/6461/production/_114279652_tv063056419.jpg',\n",
       "  'publishedAt': '2020-09-10T11:20:00Z',\n",
       "  'content': None},\n",
       " {'source': {'id': None, 'name': 'New York Times'},\n",
       "  'author': 'Ben Hubbard, Hwaida Saad',\n",
       "  'title': 'New Fire Erupts in Beirut Port, Weeks After Devastating Blast - The New York Times',\n",
       "  'description': 'Orange flames and a plume of black smoke rose over the city, terrifying residents still recovering from last month’s explosion.',\n",
       "  'url': 'https://www.nytimes.com/2020/09/10/world/middleeast/beirut-port-fire.html',\n",
       "  'urlToImage': 'https://static01.nyt.com/images/2020/09/10/world/10beirut2/merlin_176800392_437288b3-e166-4082-b2e5-092b9366314f-facebookJumbo.jpg',\n",
       "  'publishedAt': '2020-09-10T11:16:00Z',\n",
       "  'content': 'The explosion leveled much of the port and sent a powerful shock wave through residential neighborhoods, shattering windows and doors. More than 190 people were killed and 6,000 wounded.\\r\\nThe extent … [+616 chars]'},\n",
       " {'source': {'id': 'usa-today', 'name': 'USA Today'},\n",
       "  'author': 'Wayne Coffey',\n",
       "  'title': 'Buckle up! Serena Williams and Victoria Azarenka promise wild ride in US Open semifinal - MSN Money',\n",
       "  'description': \"It's a battle of two mothers - one in search of her record-tying 24th Grand Slam, the other climbing back seven years after her last Slam title.\",\n",
       "  'url': 'https://www.usatoday.com/story/sports/tennis/2020/09/10/serena-williams-victoria-azarenka-meet-again-in-us-open-semifinal/5766767002/',\n",
       "  'urlToImage': 'https://www.gannett-cdn.com/presto/2020/09/10/USAT/acd374f7-bac7-4096-8d86-59387db2f88a-USP_Tennis__US_OPEN_3.jpg?crop=3995,2247,x0,y349&width=3200&height=1680&fit=bounds',\n",
       "  'publishedAt': '2020-09-10T11:11:00Z',\n",
       "  'content': 'NEW YORK — It’s never been a particular career goal of Serena Williams to be alongside Molla Bjorsted Mallory in the U.S. Open record book, but after 20 years and 106 victories she is on the cusp of … [+4114 chars]'},\n",
       " {'source': {'id': 'cbs-news', 'name': 'CBS News'},\n",
       "  'author': 'CBS News',\n",
       "  'title': 'Trump nominated for 2021 Nobel Peace Prize by far-right Norwegian politician - CBS News',\n",
       "  'description': 'Lawmaker says \"no matter how Trump acts at home,\" his work on UAE-Israel peace deal merits consideration for the prize.',\n",
       "  'url': 'https://www.cbsnews.com/news/trump-nominated-2021-nobel-peace-prize-norwegian-parlaiment-christian-tybring-gjedde/',\n",
       "  'urlToImage': 'https://cbsnews1.cbsistatic.com/hub/i/r/2020/09/09/c4c6a9ce-9c64-454d-9eec-8ab967d0f987/thumbnail/1200x630/fed92f6dd661835132841b8a65c945d3/trump-uae-israel-1228028445.jpg',\n",
       "  'publishedAt': '2020-09-10T10:59:00Z',\n",
       "  'content': 'Copenhagen, Denmark\\xa0— A far-right Norwegian lawmaker said Wednesday that he has nominated President Donald Trump for the Nobel Peace Prize for his efforts in the Middle East.\\r\\nChristian Tybring-Gjedd… [+2617 chars]'},\n",
       " {'source': {'id': None, 'name': 'FantasyPros'},\n",
       "  'author': None,\n",
       "  'title': 'Five Burning Questions for Week 1 (2020 Fantasy Football) - FantasyPros',\n",
       "  'description': 'It’s finally here. Football is finally here. Today we will start the long-awaited Week 1 of the NFL 2020 season, and it couldn’t have come soon enough. 2020 has been nothing short of a crazy, wild year, and football will ...',\n",
       "  'url': 'https://www.fantasypros.com/2020/09/five-burning-questions-for-week-1-2020-fantasy-football/',\n",
       "  'urlToImage': '//cdn.fantasypros.com/wp-content/uploads/full_256421.jpg',\n",
       "  'publishedAt': '2020-09-10T10:57:08Z',\n",
       "  'content': 'It’s finally here. Football is finally here. Today we will start the long-awaited Week 1 of the NFL 2020 season, and it couldn’t have come soon enough. 2020 has been nothing short of a crazy, wild ye… [+9413 chars]'},\n",
       " {'source': {'id': None, 'name': 'Fox Business'},\n",
       "  'author': 'Reuters',\n",
       "  'title': 'AstraZeneca should know by year-end whether coronavirus vaccine works if trials restart - Fox Business',\n",
       "  'description': 'AstraZeneca should still know before the end of the year whether its experimental vaccine protects people against COVID-19, the drugmaker’s chief executive Pascal Soriot said on Thursday, as long as it can resume trials soon.',\n",
       "  'url': 'https://www.foxbusiness.com/markets/astrazeneca-coronavirus-vaccine-end-of-year',\n",
       "  'urlToImage': 'https://a57.foxnews.com/static.foxbusiness.com/foxbusiness.com/content/uploads/2020/09/0/0/AstraZeneca-Vaccine-iStock.jpg?ve=1&tl=1',\n",
       "  'publishedAt': '2020-09-10T10:34:09Z',\n",
       "  'content': 'ZURICH/FRANKFURT (Reuters) - AstraZeneca should still know before the end of the year whether its experimental vaccine protects people against COVID-19, the drugmaker’s chief executive Pascal Soriot … [+2140 chars]'},\n",
       " {'source': {'id': 'cnn', 'name': 'CNN'},\n",
       "  'author': 'Luke McGee, CNN',\n",
       "  'title': \"Pelosi warns 'no chance' of US-UK trade deal if Brexit violates international treaty - CNN\",\n",
       "  'description': 'Rep. Nancy Pelosi, Speaker of the United States House of Representatives, has warned that Britain will be unable to secure a trade deal with the US if it does anything to undermine the treaty that brought peace to Northern Ireland after decades of violence.',\n",
       "  'url': 'https://www.cnn.com/2020/09/10/politics/nancy-pelosi-brexit-congress-uk-gbr-intl/index.html',\n",
       "  'urlToImage': 'https://cdn.cnn.com/cnnnext/dam/assets/200802213951-nancy-pelosi-0731-super-tease.jpg',\n",
       "  'publishedAt': '2020-09-10T10:25:00Z',\n",
       "  'content': '(CNN)Rep. Nancy Pelosi, Speaker of the United States House of Representatives, has warned that Britain will be unable to secure a trade deal with the US if it does anything to undermine the treaty th… [+2022 chars]'},\n",
       " {'source': {'id': None, 'name': 'Motley Fool'},\n",
       "  'author': 'Keith Speights',\n",
       "  'title': \"Pfizer's Latest Stealthy Move Could Help It Win the Coronavirus Vaccine Race - Motley Fool\",\n",
       "  'description': 'The big drugmaker is taking a quiet but smart step with its COVID-19 vaccine program.',\n",
       "  'url': 'https://www.fool.com/investing/2020/09/10/pfizers-latest-stealthy-move-could-help-it-win-the/',\n",
       "  'urlToImage': 'https://g.foolcdn.com/editorial/images/590802/coronavirus-vaccine-bottles.jpg',\n",
       "  'publishedAt': '2020-09-10T10:09:00Z',\n",
       "  'content': \"Pfizer(NYSE:PFE) hasn't been bashful about playing up the prospects for its coronavirus vaccine candidate, BNT162b2, co-developed with\\xa0BioNTech(NASDAQ:BNTX). The company even predicted that it would … [+3654 chars]\"},\n",
       " {'source': {'id': None, 'name': 'Slate Magazine'},\n",
       "  'author': 'Shannon Palus',\n",
       "  'title': \"What scientists have—and haven't—learned about the coronavirus so far. - Slate\",\n",
       "  'description': 'We’ve won some and lost some, which is to be expected.',\n",
       "  'url': 'https://slate.com/technology/2020/09/coronavirus-research-so-far.html',\n",
       "  'urlToImage': 'https://compote.slate.com/images/8fabb4fa-c3e4-4fd1-895d-dfb0d22fa678.jpeg?width=780&height=520&rect=1560x1040&offset=0x0',\n",
       "  'publishedAt': '2020-09-10T09:50:00Z',\n",
       "  'content': 'Photo illustration by Slate. Photos by Getty Images Plus.\\r\\nThis is part of Six Months In, a Slate series reflecting on half a year of coronavirus lockdown in America.\\r\\nWere living through the first d… [+12987 chars]'},\n",
       " {'source': {'id': 'cnn', 'name': 'CNN'},\n",
       "  'author': 'Manu Raju, CNN Senior Congressional Correspondent',\n",
       "  'title': 'How McConnell is maneuvering to keep the Senate in GOP hands -- and navigating Trump - CNN',\n",
       "  'description': 'Senate Majority Leader Mitch McConnell was on a mission. It was late February, and two vulnerable Republican senators facing voters this fall were pushing a bill that had generated opposition from conservatives but was important to their states -- and their o…',\n",
       "  'url': 'https://www.cnn.com/2020/09/10/politics/mitch-mcconnell-senate-majority/index.html',\n",
       "  'urlToImage': 'https://cdn.cnn.com/cnnnext/dam/assets/200323065147-mitch-mcconnell-0318-super-tease.jpg',\n",
       "  'publishedAt': '2020-09-10T09:08:00Z',\n",
       "  'content': '(CNN)Senate Majority Leader Mitch McConnell was on a mission. It was late February, and two vulnerable Republican senators facing voters this fall were pushing a bill that had generated opposition fr… [+10043 chars]'},\n",
       " {'source': {'id': 'google-news', 'name': 'Google News'},\n",
       "  'author': None,\n",
       "  'title': 'Oregon wildfires destroy five towns, at least three fatalities confirmed in California - Reuters',\n",
       "  'description': None,\n",
       "  'url': 'https://news.google.com/__i/rss/rd/articles/CBMiK2h0dHBzOi8vd3d3LnlvdXR1YmUuY29tL3dhdGNoP3Y9Y3kxSXRHMG0yVGfSAQA?oc=5',\n",
       "  'urlToImage': None,\n",
       "  'publishedAt': '2020-09-10T09:05:55Z',\n",
       "  'content': None},\n",
       " {'source': {'id': None, 'name': 'CNBC'},\n",
       "  'author': 'Arjun Kharpal',\n",
       "  'title': 'Huawei says its own operating system HarmonyOS could come to smartphones next year - CNBC',\n",
       "  'description': \"Huawei launched the second version of its own operating system on Thursday, pushing it to third-party device makers as it looks to find create a viable alternative to Google's Android.\",\n",
       "  'url': 'https://www.cnbc.com/2020/09/10/huawei-opens-harmonyos-to-third-party-smartphone-makers-after-google-ban.html',\n",
       "  'urlToImage': 'https://image.cnbcfm.com/api/v1/image/106696822-1599726833199-HDC_2020_Yu_.jpg?v=1599727032',\n",
       "  'publishedAt': '2020-09-10T09:03:00Z',\n",
       "  'content': 'Richard Yu, CEO of the consumer division at Huawei, delivers a keynote at the Huawei Developer Conference on September 10, 2020. Huawei launched the second version of its HarmonyOS operating system.\\r… [+4898 chars]'},\n",
       " {'source': {'id': 'politico', 'name': 'Politico'},\n",
       "  'author': 'Holly Otterbein',\n",
       "  'title': '‘I want to be in the Trump party’: GOP rides voter registration surge in key state - POLITICO',\n",
       "  'description': 'Since 2016, Republicans have netted nearly seven times as many registered voters in Pennsylvania than Democrats.',\n",
       "  'url': 'https://www.politico.com/news/2020/09/10/trump-gop-voter-registration-pennsylvania-411232',\n",
       "  'urlToImage': 'https://static.politico.com/75/df/715c3fc34066a771a3b1a9797cfb/webp.net-resizeimage%20(9).jpg',\n",
       "  'publishedAt': '2020-09-10T08:30:00Z',\n",
       "  'content': 'Its one of the reasons why I am very bullish on Donald Trumps prospects in Pennsylvania. I think he will win again, and I think he will win by more votes than he did in 2016, said Charlie Gerow, a Ha… [+5687 chars]'},\n",
       " {'source': {'id': 'engadget', 'name': 'Engadget'},\n",
       "  'author': '',\n",
       "  'title': 'Xbox Game Pass for PC will soon double in price - Engadget',\n",
       "  'description': 'Microsoft has confirmed that the PC version of Game Pass will soon cost $9.99 per month, rather than $4.99 per month.  The new pricing makes sense, given that the console version of Game Pass — which is functionally identical, but offers a tweaked library — a…',\n",
       "  'url': 'https://www.engadget.com/xbox-game-pass-pc-price-increase-september-17-082218831.html',\n",
       "  'urlToImage': 'https://o.aolcdn.com/images/dims?resize=1200%2C630&crop=1200%2C630%2C0%2C0&quality=95&image_uri=https%3A%2F%2Fs.yimg.com%2Fos%2Fcreatr-uploaded-images%2F2020-09%2F4c27e8e0-f33d-11ea-aff7-912f2b008037&client=amp-blogside-v2&signature=c57520f270216eb30c5342effcf79ae51b425729',\n",
       "  'publishedAt': '2020-09-10T08:29:43Z',\n",
       "  'content': 'All good things must come to an end. Microsoft has confirmed that the PC version of Game Pass will soon cost $9.99 per month, rather than $4.99 per month. We knew this price hike was coming: Game Pas… [+1440 chars]'},\n",
       " {'source': {'id': None, 'name': 'Daily Mail'},\n",
       "  'author': 'By Charlotte Dean For Mailonline',\n",
       "  'title': \"Kris Jenner 'ended KUWTK after Kim, Kourtney and Kylie wanted to QUIT' - Daily Mail\",\n",
       "  'description': 'Kris Jenner reportedly decided to pull the plug on Keeping Up With The Kardashians after three of her daughters threatened to quit the long-running show.',\n",
       "  'url': 'https://www.dailymail.co.uk/tvshowbiz/article-8717349/Kris-Jenner-ended-KUWTK-Kim-Kourtney-Kylie-wanted-QUIT.html',\n",
       "  'urlToImage': 'https://i.dailymail.co.uk/1s/2020/09/10/09/33001346-0-image-a-19_1599726713387.jpg',\n",
       "  'publishedAt': '2020-09-10T07:59:04Z',\n",
       "  'content': \"Kim Kardashian announced that her family's signature show Keeping Up With the Kardashians will come to an end next year after 20 seasons.\\xa0\\xa0\\r\\nSeason 19 is set to air later this year and the final 20th… [+16144 chars]\"},\n",
       " {'source': {'id': None, 'name': 'Phys.Org'},\n",
       "  'author': 'Science X staff',\n",
       "  'title': \"Over a century later, the mystery of the Alfred Wallace's butterfly is solved - Phys.org\",\n",
       "  'description': 'An over a century-long mystery has been surrounding the Taiwanese butterfly fauna ever since the \"father of zoogeography\" Alfred Russel Wallace, in collaboration with Frederic Moore, authored a landmark paper in 1866: the first to study the lepidopterans of t…',\n",
       "  'url': 'https://phys.org/news/2020-09-century-mystery-alfred-wallace-butterfly.html',\n",
       "  'urlToImage': 'https://scx2.b-cdn.net/gfx/news/hires/2020/overacentury.jpg',\n",
       "  'publishedAt': '2020-09-10T07:35:26Z',\n",
       "  'content': 'An over a century-long mystery has been surrounding the Taiwanese butterfly fauna ever since the \"father of zoogeography\" Alfred Russel Wallace, in collaboration with Frederic Moore, authored a landm… [+3871 chars]'},\n",
       " {'source': {'id': None, 'name': 'Daily Beast'},\n",
       "  'author': 'Asawin Suebsaeng, Maxwell Tani, Sam Stein',\n",
       "  'title': \"Trump Was 'Ecstatic' About Talking to Woodward—Until He Wasn't - The Daily Beast\",\n",
       "  'description': 'The president was itching to sit down with the famed author after not doing so for his first Trump book. And he was egged on by Sen. Lindsey Graham.',\n",
       "  'url': 'https://www.thedailybeast.com/trump-was-ecstatic-about-talking-to-bob-woodward-until-he-wasnt',\n",
       "  'urlToImage': 'https://img.thedailybeast.com/image/upload/c_crop,d_placeholder_euli9k,h_1440,w_2560,x_0,y_0/dpr_2.0/c_limit,w_740/fl_lossy,q_auto/v1599697249/200909-swin-tani-woodward-interview-tease_kt9eyw',\n",
       "  'publishedAt': '2020-09-10T06:49:00Z',\n",
       "  'content': 'For weeks leading up to the publication of Bob Woodwards latest book, West Wing aides were chatting about how damaging some of President Donald Trumps quotes would be. In the past couple weeks, two s… [+7958 chars]'},\n",
       " {'source': {'id': None, 'name': 'Daily Beast'},\n",
       "  'author': 'Matt Wilstein',\n",
       "  'title': 'Trevor Noah Unloads on Trump Over COVID Confession Tape - The Daily Beast',\n",
       "  'description': '“You didn’t want to create a panic?” the “Daily Show” host asked. “So what did you want, for people to be very calmly dying in the streets?”',\n",
       "  'url': 'https://www.thedailybeast.com/trevor-noah-unloads-on-trump-over-woodwards-coronavirus-confession-tape',\n",
       "  'urlToImage': 'https://img.thedailybeast.com/image/upload/c_crop,d_placeholder_euli9k,h_1439,w_2558,x_0,y_0/dpr_2.0/c_limit,w_740/fl_lossy,q_auto/v1599711341/TN_25_fvltjs',\n",
       "  'publishedAt': '2020-09-10T05:12:00Z',\n",
       "  'content': 'There was some big, crazy Trump news today, Trevor Noah said at the top of Wednesday nights Daily Show. And I know we say that every day, but this time its true.\\xa0\\r\\nLooking back to the beginning of th… [+2459 chars]'},\n",
       " {'source': {'id': None, 'name': 'autoevolution'},\n",
       "  'author': 'Bogdan Popa',\n",
       "  'title': 'Google Releases Google Maps for iPhone Update with a Major New Feature - autoevolution',\n",
       "  'description': 'Google has just released a new version of Google Maps for iOS devices, and the biggest addition this time is a feature that the company previously removed back in 2017.',\n",
       "  'url': 'https://www.autoevolution.com/news/google-releases-google-maps-for-iphone-update-with-a-major-new-feature-148509.html',\n",
       "  'urlToImage': 'https://s1.cdn.autoevolution.com/images/news/google-releases-google-maps-for-iphone-update-with-a-major-new-feature-148509-7.jpg',\n",
       "  'publishedAt': '2020-09-10T05:01:00Z',\n",
       "  'content': 'It’s support for the Apple Watch, something that Google originally ditched three years ago but which the company decided to bring back with a new update this week.The Mountain View-based search giant… [+1735 chars]'}]"
      ]
     },
     "execution_count": 9,
     "metadata": {},
     "output_type": "execute_result"
    }
   ],
   "source": [
    "resp['articles']"
   ]
  },
  {
   "cell_type": "code",
   "execution_count": 10,
   "metadata": {},
   "outputs": [
    {
     "name": "stdout",
     "output_type": "stream",
     "text": [
      "The European Central Bank announced Thursday it was keeping its interest rates and coronavirus-stimulus program unchanged, despite a stronger euro putting pressure on the policymakers.\r\n",
      "The euro, whi… [+1544 chars]\n",
      "None\n",
      "The explosion leveled much of the port and sent a powerful shock wave through residential neighborhoods, shattering windows and doors. More than 190 people were killed and 6,000 wounded.\r\n",
      "The extent … [+616 chars]\n",
      "NEW YORK — It’s never been a particular career goal of Serena Williams to be alongside Molla Bjorsted Mallory in the U.S. Open record book, but after 20 years and 106 victories she is on the cusp of … [+4114 chars]\n",
      "Copenhagen, Denmark — A far-right Norwegian lawmaker said Wednesday that he has nominated President Donald Trump for the Nobel Peace Prize for his efforts in the Middle East.\r\n",
      "Christian Tybring-Gjedd… [+2617 chars]\n",
      "It’s finally here. Football is finally here. Today we will start the long-awaited Week 1 of the NFL 2020 season, and it couldn’t have come soon enough. 2020 has been nothing short of a crazy, wild ye… [+9413 chars]\n",
      "ZURICH/FRANKFURT (Reuters) - AstraZeneca should still know before the end of the year whether its experimental vaccine protects people against COVID-19, the drugmaker’s chief executive Pascal Soriot … [+2140 chars]\n",
      "(CNN)Rep. Nancy Pelosi, Speaker of the United States House of Representatives, has warned that Britain will be unable to secure a trade deal with the US if it does anything to undermine the treaty th… [+2022 chars]\n",
      "Pfizer(NYSE:PFE) hasn't been bashful about playing up the prospects for its coronavirus vaccine candidate, BNT162b2, co-developed with BioNTech(NASDAQ:BNTX). The company even predicted that it would … [+3654 chars]\n",
      "Photo illustration by Slate. Photos by Getty Images Plus.\r\n",
      "This is part of Six Months In, a Slate series reflecting on half a year of coronavirus lockdown in America.\r\n",
      "Were living through the first d… [+12987 chars]\n",
      "(CNN)Senate Majority Leader Mitch McConnell was on a mission. It was late February, and two vulnerable Republican senators facing voters this fall were pushing a bill that had generated opposition fr… [+10043 chars]\n",
      "None\n",
      "Richard Yu, CEO of the consumer division at Huawei, delivers a keynote at the Huawei Developer Conference on September 10, 2020. Huawei launched the second version of its HarmonyOS operating system.\r",
      "… [+4898 chars]\n",
      "Its one of the reasons why I am very bullish on Donald Trumps prospects in Pennsylvania. I think he will win again, and I think he will win by more votes than he did in 2016, said Charlie Gerow, a Ha… [+5687 chars]\n",
      "All good things must come to an end. Microsoft has confirmed that the PC version of Game Pass will soon cost $9.99 per month, rather than $4.99 per month. We knew this price hike was coming: Game Pas… [+1440 chars]\n",
      "Kim Kardashian announced that her family's signature show Keeping Up With the Kardashians will come to an end next year after 20 seasons.  \r\n",
      "Season 19 is set to air later this year and the final 20th… [+16144 chars]\n",
      "An over a century-long mystery has been surrounding the Taiwanese butterfly fauna ever since the \"father of zoogeography\" Alfred Russel Wallace, in collaboration with Frederic Moore, authored a landm… [+3871 chars]\n",
      "For weeks leading up to the publication of Bob Woodwards latest book, West Wing aides were chatting about how damaging some of President Donald Trumps quotes would be. In the past couple weeks, two s… [+7958 chars]\n",
      "There was some big, crazy Trump news today, Trevor Noah said at the top of Wednesday nights Daily Show. And I know we say that every day, but this time its true. \r\n",
      "Looking back to the beginning of th… [+2459 chars]\n",
      "It’s support for the Apple Watch, something that Google originally ditched three years ago but which the company decided to bring back with a new update this week.The Mountain View-based search giant… [+1735 chars]\n"
     ]
    }
   ],
   "source": [
    "for i in resp['articles']:\n",
    "    print(i.get(\"content\"))"
   ]
  },
  {
   "cell_type": "code",
   "execution_count": 13,
   "metadata": {},
   "outputs": [],
   "source": [
    "f = open(\"news.txt\",'w')"
   ]
  },
  {
   "cell_type": "code",
   "execution_count": 14,
   "metadata": {},
   "outputs": [
    {
     "data": {
      "text/plain": [
       "214"
      ]
     },
     "execution_count": 14,
     "metadata": {},
     "output_type": "execute_result"
    }
   ],
   "source": [
    "f.write(resp['articles'][0]['content'])"
   ]
  },
  {
   "cell_type": "code",
   "execution_count": 15,
   "metadata": {},
   "outputs": [],
   "source": [
    "f.close()"
   ]
  },
  {
   "cell_type": "code",
   "execution_count": 17,
   "metadata": {},
   "outputs": [
    {
     "name": "stdout",
     "output_type": "stream",
     "text": [
      "The European Central Bank announced Thursday it was keeping its interest rates and coronavirus-stimulus program unchanged, despite a stronger euro putting pressure on the policymakers.\r\n",
      "The euro, whi… [+1544 chars]\n",
      "ZURICH/FRANKFURT (Reuters) - AstraZeneca should still know before the end of the year whether its experimental vaccine protects people against COVID-19, the drugmaker’s chief executive Pascal Soriot … [+2140 chars]\n",
      "Pfizer(NYSE:PFE) hasn't been bashful about playing up the prospects for its coronavirus vaccine candidate, BNT162b2, co-developed with BioNTech(NASDAQ:BNTX). The company even predicted that it would … [+3654 chars]\n",
      "Photo illustration by Slate. Photos by Getty Images Plus.\r\n",
      "This is part of Six Months In, a Slate series reflecting on half a year of coronavirus lockdown in America.\r\n",
      "Were living through the first d… [+12987 chars]\n"
     ]
    }
   ],
   "source": [
    "for i in resp['articles']:\n",
    "    if i.get(\"content\"):\n",
    "        if \"corona\" in i.get(\"content\").lower() or \"covid-19\" in i.get(\"content\").lower():\n",
    "            print(i['content'])"
   ]
  },
  {
   "cell_type": "code",
   "execution_count": 1,
   "metadata": {},
   "outputs": [],
   "source": [
    "import pandas as pd\n",
    "import numpy as np\n",
    "import matplotlib.pyplot as plt\n",
    "import seaborn as sns"
   ]
  },
  {
   "cell_type": "code",
   "execution_count": 2,
   "metadata": {},
   "outputs": [],
   "source": [
    "df = pd.read_csv(\"../datasets/covid_19_data.csv\")"
   ]
  },
  {
   "cell_type": "code",
   "execution_count": 21,
   "metadata": {},
   "outputs": [
    {
     "data": {
      "text/html": [
       "<div>\n",
       "<style scoped>\n",
       "    .dataframe tbody tr th:only-of-type {\n",
       "        vertical-align: middle;\n",
       "    }\n",
       "\n",
       "    .dataframe tbody tr th {\n",
       "        vertical-align: top;\n",
       "    }\n",
       "\n",
       "    .dataframe thead th {\n",
       "        text-align: right;\n",
       "    }\n",
       "</style>\n",
       "<table border=\"1\" class=\"dataframe\">\n",
       "  <thead>\n",
       "    <tr style=\"text-align: right;\">\n",
       "      <th></th>\n",
       "      <th>SNo</th>\n",
       "      <th>ObservationDate</th>\n",
       "      <th>Province/State</th>\n",
       "      <th>Country/Region</th>\n",
       "      <th>Last Update</th>\n",
       "      <th>Confirmed</th>\n",
       "      <th>Deaths</th>\n",
       "      <th>Recovered</th>\n",
       "    </tr>\n",
       "  </thead>\n",
       "  <tbody>\n",
       "    <tr>\n",
       "      <td>0</td>\n",
       "      <td>1</td>\n",
       "      <td>01/22/2020</td>\n",
       "      <td>Anhui</td>\n",
       "      <td>Mainland China</td>\n",
       "      <td>1/22/2020 17:00</td>\n",
       "      <td>1.0</td>\n",
       "      <td>0.0</td>\n",
       "      <td>0.0</td>\n",
       "    </tr>\n",
       "    <tr>\n",
       "      <td>1</td>\n",
       "      <td>2</td>\n",
       "      <td>01/22/2020</td>\n",
       "      <td>Beijing</td>\n",
       "      <td>Mainland China</td>\n",
       "      <td>1/22/2020 17:00</td>\n",
       "      <td>14.0</td>\n",
       "      <td>0.0</td>\n",
       "      <td>0.0</td>\n",
       "    </tr>\n",
       "    <tr>\n",
       "      <td>2</td>\n",
       "      <td>3</td>\n",
       "      <td>01/22/2020</td>\n",
       "      <td>Chongqing</td>\n",
       "      <td>Mainland China</td>\n",
       "      <td>1/22/2020 17:00</td>\n",
       "      <td>6.0</td>\n",
       "      <td>0.0</td>\n",
       "      <td>0.0</td>\n",
       "    </tr>\n",
       "    <tr>\n",
       "      <td>3</td>\n",
       "      <td>4</td>\n",
       "      <td>01/22/2020</td>\n",
       "      <td>Fujian</td>\n",
       "      <td>Mainland China</td>\n",
       "      <td>1/22/2020 17:00</td>\n",
       "      <td>1.0</td>\n",
       "      <td>0.0</td>\n",
       "      <td>0.0</td>\n",
       "    </tr>\n",
       "    <tr>\n",
       "      <td>4</td>\n",
       "      <td>5</td>\n",
       "      <td>01/22/2020</td>\n",
       "      <td>Gansu</td>\n",
       "      <td>Mainland China</td>\n",
       "      <td>1/22/2020 17:00</td>\n",
       "      <td>0.0</td>\n",
       "      <td>0.0</td>\n",
       "      <td>0.0</td>\n",
       "    </tr>\n",
       "  </tbody>\n",
       "</table>\n",
       "</div>"
      ],
      "text/plain": [
       "   SNo ObservationDate Province/State  Country/Region      Last Update  \\\n",
       "0    1      01/22/2020          Anhui  Mainland China  1/22/2020 17:00   \n",
       "1    2      01/22/2020        Beijing  Mainland China  1/22/2020 17:00   \n",
       "2    3      01/22/2020      Chongqing  Mainland China  1/22/2020 17:00   \n",
       "3    4      01/22/2020         Fujian  Mainland China  1/22/2020 17:00   \n",
       "4    5      01/22/2020          Gansu  Mainland China  1/22/2020 17:00   \n",
       "\n",
       "   Confirmed  Deaths  Recovered  \n",
       "0        1.0     0.0        0.0  \n",
       "1       14.0     0.0        0.0  \n",
       "2        6.0     0.0        0.0  \n",
       "3        1.0     0.0        0.0  \n",
       "4        0.0     0.0        0.0  "
      ]
     },
     "execution_count": 21,
     "metadata": {},
     "output_type": "execute_result"
    }
   ],
   "source": [
    "df.head()"
   ]
  },
  {
   "cell_type": "code",
   "execution_count": 3,
   "metadata": {},
   "outputs": [
    {
     "data": {
      "text/plain": [
       "Country/Region\n",
       "US        396234081.0\n",
       "Brazil    194933354.0\n",
       "India     122656809.0\n",
       "Russia     75257596.0\n",
       "Spain      38921479.0\n",
       "UK         37857807.0\n",
       "Peru       35981065.0\n",
       "Italy      35112643.0\n",
       "Mexico     31500257.0\n",
       "Iran       30414143.0\n",
       "Name: Confirmed, dtype: float64"
      ]
     },
     "execution_count": 3,
     "metadata": {},
     "output_type": "execute_result"
    }
   ],
   "source": [
    "df.groupby(\"Country/Region\").agg({\"Confirmed\":np.sum,\"Deaths\":np.sum,\"Recovered\":np.sum}).sort_values(by=\"Confirmed\",ascending=False)['Confirmed'][:10]"
   ]
  },
  {
   "cell_type": "code",
   "execution_count": 30,
   "metadata": {},
   "outputs": [
    {
     "data": {
      "text/plain": [
       "Country/Region\n",
       "US        16373394.0\n",
       "Brazil     7403667.0\n",
       "UK         5398648.0\n",
       "Italy      4872239.0\n",
       "France     4051434.0\n",
       "Spain      3978566.0\n",
       "Mexico     3531603.0\n",
       "India      2703456.0\n",
       "Iran       1651912.0\n",
       "Peru       1428666.0\n",
       "Name: Deaths, dtype: float64"
      ]
     },
     "execution_count": 30,
     "metadata": {},
     "output_type": "execute_result"
    }
   ],
   "source": [
    "df.groupby(\"Country/Region\").agg({\"Confirmed\":np.sum,\"Deaths\":np.sum,\"Recovered\":np.sum}).sort_values(by=\"Deaths\",ascending=False)['Deaths'][:10]"
   ]
  },
  {
   "cell_type": "code",
   "execution_count": 31,
   "metadata": {},
   "outputs": [
    {
     "data": {
      "text/plain": [
       "Country/Region\n",
       "Brazil     138263751.0\n",
       "US         114488854.0\n",
       "India       82585555.0\n",
       "Russia      48625808.0\n",
       "Iran        24785578.0\n",
       "Chile       24721290.0\n",
       "Mexico      24466370.0\n",
       "Germany     23733292.0\n",
       "Italy       22375607.0\n",
       "Peru        22337477.0\n",
       "Name: Recovered, dtype: float64"
      ]
     },
     "execution_count": 31,
     "metadata": {},
     "output_type": "execute_result"
    }
   ],
   "source": [
    "df.groupby(\"Country/Region\").agg({\"Confirmed\":np.sum,\"Deaths\":np.sum,\"Recovered\":np.sum}).sort_values(by=\"Recovered\",ascending=False)['Recovered'][:10]"
   ]
  },
  {
   "cell_type": "code",
   "execution_count": 9,
   "metadata": {},
   "outputs": [
    {
     "data": {
      "text/plain": [
       "<matplotlib.axes._subplots.AxesSubplot at 0x25456552a88>"
      ]
     },
     "execution_count": 9,
     "metadata": {},
     "output_type": "execute_result"
    },
    {
     "data": {
      "image/png": "[encoded data removed]",
      "text/plain": [
       "<Figure size 936x360 with 3 Axes>"
      ]
     },
     "metadata": {},
     "output_type": "display_data"
    }
   ],
   "source": [
    "df = pd.read_csv(\"../datasets/covid_19_data.csv\")\n",
    "fig,(ax1,ax2,ax3) = plt.subplots(1,3,figsize=(13,5))\n",
    "df.groupby(\"Country/Region\").sum().sort_values(by=\"Confirmed\",ascending=False)['Confirmed'][:10].plot(kind=\"pie\",ax=ax1)\n",
    "df.groupby(\"Country/Region\").sum().sort_values(by=\"Recovered\",ascending=False)['Recovered'][:10].plot(kind=\"pie\",ax=ax2)\n",
    "df.groupby(\"Country/Region\").sum().sort_values(by=\"Deaths\",ascending=False)['Deaths'][:10].plot(kind=\"pie\",ax=ax3)"
   ]
  },
  {
   "cell_type": "code",
   "execution_count": null,
   "metadata": {},
   "outputs": [],
   "source": []
  }
 ],
 "metadata": {
  "kernelspec": {
   "display_name": "Python 3",
   "language": "python",
   "name": "python3"
  },
  "language_info": {
   "codemirror_mode": {
    "name": "ipython",
    "version": 3
   },
   "file_extension": ".py",
   "mimetype": "text/x-python",
   "name": "python",
   "nbconvert_exporter": "python",
   "pygments_lexer": "ipython3",
   "version": "3.7.4"
  }
 },
 "nbformat": 4,
 "nbformat_minor": 2
}
