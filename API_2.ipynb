{
 "cells": [
  {
   "cell_type": "code",
   "execution_count": 3,
   "metadata": {},
   "outputs": [],
   "source": [
    "import requests\n",
    "\n",
    "#url --> query --> after question mark--> userdata,weather info, google data access,"
   ]
  },
  {
   "cell_type": "code",
   "execution_count": 9,
   "metadata": {},
   "outputs": [
    {
     "data": {
      "text/plain": [
       "400"
      ]
     },
     "execution_count": 9,
     "metadata": {},
     "output_type": "execute_result"
    }
   ],
   "source": [
    "key = \"EAAI0t9Ln7wMBAKrB6TwFaJL1hyz3ICUbM6yW6XEGB4s4r8opCyAwSa2ssMZBBxW1jaeZAZCaZCsVYngwkqaFtDYBXMZBFylg4K1zzZAUb2tMK7Xu0BHPjTaSLyllzcnAdPY2OJiyPClhuPVBSgv1KtWhfEZCQ3LfubZAFFa00CPmIx306R66z2lZBQkzoZBZC325QZCI69iM8t8ZA3AEBlNcf9r0a6FnjyGhNJJDEAIotuMQcGwZDZD\"\n",
    "url = f\"https://graph.facebook.com/v7.0/me?fields=abcd,name&access_token={key}\"\n",
    "page = requests.get(url)   #requests, get --> method\n",
    "page.status_code"
   ]
  },
  {
   "cell_type": "code",
   "execution_count": 10,
   "metadata": {},
   "outputs": [
    {
     "data": {
      "text/plain": [
       "200"
      ]
     },
     "execution_count": 10,
     "metadata": {},
     "output_type": "execute_result"
    }
   ],
   "source": [
    "key = \"EAAI0t9Ln7wMBAKrB6TwFaJL1hyz3ICUbM6yW6XEGB4s4r8opCyAwSa2ssMZBBxW1jaeZAZCaZCsVYngwkqaFtDYBXMZBFylg4K1zzZAUb2tMK7Xu0BHPjTaSLyllzcnAdPY2OJiyPClhuPVBSgv1KtWhfEZCQ3LfubZAFFa00CPmIx306R66z2lZBQkzoZBZC325QZCI69iM8t8ZA3AEBlNcf9r0a6FnjyGhNJJDEAIotuMQcGwZDZD\"\n",
    "url = f\"https://graph.facebook.com/v7.0/me?fields=id,name&access_token={key}\"\n",
    "page = requests.get(url)   #requests, get --> method\n",
    "page.status_code"
   ]
  },
  {
   "cell_type": "code",
   "execution_count": 7,
   "metadata": {},
   "outputs": [
    {
     "name": "stdout",
     "output_type": "stream",
     "text": [
      "['ConnectTimeout', 'ConnectionError', 'DependencyWarning', 'FileModeWarning', 'HTTPError', 'NullHandler', 'PreparedRequest', 'ReadTimeout', 'Request', 'RequestException', 'RequestsDependencyWarning', 'Response', 'Session', 'Timeout', 'TooManyRedirects', 'URLRequired', '__author__', '__author_email__', '__build__', '__builtins__', '__cached__', '__cake__', '__copyright__', '__description__', '__doc__', '__file__', '__license__', '__loader__', '__name__', '__package__', '__path__', '__spec__', '__title__', '__url__', '__version__', '_check_cryptography', '_internal_utils', 'adapters', 'api', 'auth', 'certs', 'chardet', 'check_compatibility', 'codes', 'compat', 'cookies', 'cryptography_version', 'delete', 'exceptions', 'get', 'head', 'hooks', 'logging', 'models', 'options', 'packages', 'patch', 'post', 'put', 'pyopenssl', 'request', 'session', 'sessions', 'status_codes', 'structures', 'urllib3', 'utils', 'warnings']\n"
     ]
    }
   ],
   "source": [
    "print(dir(requests))"
   ]
  },
  {
   "cell_type": "code",
   "execution_count": 8,
   "metadata": {},
   "outputs": [
    {
     "data": {
      "text/plain": [
       "<Response [200]>"
      ]
     },
     "execution_count": 8,
     "metadata": {},
     "output_type": "execute_result"
    }
   ],
   "source": [
    "page"
   ]
  },
  {
   "cell_type": "code",
   "execution_count": 11,
   "metadata": {},
   "outputs": [
    {
     "data": {
      "text/plain": [
       "{'ETag': '\"dbabbf9707572d342701f1804b82471035e10b23\"', 'x-app-usage': '{\"call_count\":12,\"total_cputime\":0,\"total_time\":8}', 'Content-Type': 'application/json; charset=UTF-8', 'facebook-api-version': 'v7.0', 'Strict-Transport-Security': 'max-age=15552000; preload', 'Pragma': 'no-cache', 'x-fb-rev': '1002372946', 'Access-Control-Allow-Origin': '*', 'Cache-Control': 'private, no-cache, no-store, must-revalidate', 'x-fb-trace-id': 'Hu10aOP0ap2', 'x-fb-request-id': 'ARcsMaKElzszt3zKXvD22Ne', 'Expires': 'Sat, 01 Jan 2000 00:00:00 GMT', 'X-FB-Debug': 'e9OkY86H76TO5ed38PZQPPjJu14p60e7aQQGyZRdkKkCRv0HdLDzSEYIe+jZRV0zCwacn+QpKMAjcLaUVM04uQ==', 'Date': 'Wed, 15 Jul 2020 14:35:13 GMT', 'Alt-Svc': 'h3-29=\":443\"; ma=3600,h3-27=\":443\"; ma=3600', 'Connection': 'keep-alive', 'Content-Length': '48'}"
      ]
     },
     "execution_count": 11,
     "metadata": {},
     "output_type": "execute_result"
    }
   ],
   "source": [
    "page.headers"
   ]
  },
  {
   "cell_type": "code",
   "execution_count": 12,
   "metadata": {},
   "outputs": [
    {
     "data": {
      "text/plain": [
       "200"
      ]
     },
     "execution_count": 12,
     "metadata": {},
     "output_type": "execute_result"
    }
   ],
   "source": [
    "page.status_code"
   ]
  },
  {
   "cell_type": "code",
   "execution_count": 13,
   "metadata": {},
   "outputs": [
    {
     "data": {
      "text/plain": [
       "b'{\"id\":\"3153413274772099\",\"name\":\"Simran Grover\"}'"
      ]
     },
     "execution_count": 13,
     "metadata": {},
     "output_type": "execute_result"
    }
   ],
   "source": [
    "page.content  #bytes format"
   ]
  },
  {
   "cell_type": "code",
   "execution_count": 14,
   "metadata": {},
   "outputs": [
    {
     "data": {
      "text/plain": [
       "'{\"id\":\"3153413274772099\",\"name\":\"Simran Grover\"}'"
      ]
     },
     "execution_count": 14,
     "metadata": {},
     "output_type": "execute_result"
    }
   ],
   "source": [
    "page.text   #string format"
   ]
  },
  {
   "cell_type": "code",
   "execution_count": 15,
   "metadata": {},
   "outputs": [
    {
     "ename": "TypeError",
     "evalue": "string indices must be integers",
     "output_type": "error",
     "traceback": [
      "\u001b[1;31m---------------------------------------------------------------------------\u001b[0m",
      "\u001b[1;31mTypeError\u001b[0m                                 Traceback (most recent call last)",
      "\u001b[1;32m<ipython-input-15-340c8d9f6d65>\u001b[0m in \u001b[0;36m<module>\u001b[1;34m\u001b[0m\n\u001b[1;32m----> 1\u001b[1;33m \u001b[0mpage\u001b[0m\u001b[1;33m.\u001b[0m\u001b[0mtext\u001b[0m\u001b[1;33m[\u001b[0m\u001b[1;34m'id'\u001b[0m\u001b[1;33m]\u001b[0m\u001b[1;33m\u001b[0m\u001b[1;33m\u001b[0m\u001b[0m\n\u001b[0m",
      "\u001b[1;31mTypeError\u001b[0m: string indices must be integers"
     ]
    }
   ],
   "source": [
    "page.text['id']"
   ]
  },
  {
   "cell_type": "code",
   "execution_count": 16,
   "metadata": {},
   "outputs": [
    {
     "data": {
      "text/plain": [
       "{'id': '3153413274772099', 'name': 'Simran Grover'}"
      ]
     },
     "execution_count": 16,
     "metadata": {},
     "output_type": "execute_result"
    }
   ],
   "source": [
    "page.json()   #convert the body part of response into json format"
   ]
  },
  {
   "cell_type": "code",
   "execution_count": 17,
   "metadata": {},
   "outputs": [
    {
     "data": {
      "text/plain": [
       "'3153413274772099'"
      ]
     },
     "execution_count": 17,
     "metadata": {},
     "output_type": "execute_result"
    }
   ],
   "source": [
    "data = page.json()\n",
    "data['id']"
   ]
  },
  {
   "cell_type": "code",
   "execution_count": 18,
   "metadata": {},
   "outputs": [
    {
     "data": {
      "text/plain": [
       "'Simran Grover'"
      ]
     },
     "execution_count": 18,
     "metadata": {},
     "output_type": "execute_result"
    }
   ],
   "source": [
    "data['name']"
   ]
  },
  {
   "cell_type": "code",
   "execution_count": 28,
   "metadata": {},
   "outputs": [
    {
     "name": "stdout",
     "output_type": "stream",
     "text": [
      "\n",
      " Enter the fields , separatedid,name,posts,likes\n"
     ]
    },
    {
     "data": {
      "text/plain": [
       "200"
      ]
     },
     "execution_count": 28,
     "metadata": {},
     "output_type": "execute_result"
    }
   ],
   "source": [
    "fields = input(\"\\n Enter the fields , separated\")\n",
    "key = \"EAAI0t9Ln7wMBAKrB6TwFaJL1hyz3ICUbM6yW6XEGB4s4r8opCyAwSa2ssMZBBxW1jaeZAZCaZCsVYngwkqaFtDYBXMZBFylg4K1zzZAUb2tMK7Xu0BHPjTaSLyllzcnAdPY2OJiyPClhuPVBSgv1KtWhfEZCQ3LfubZAFFa00CPmIx306R66z2lZBQkzoZBZC325QZCI69iM8t8ZA3AEBlNcf9r0a6FnjyGhNJJDEAIotuMQcGwZDZD\"\n",
    "url = f\"https://graph.facebook.com/v7.0/me?fields={fields}&access_token={key}\"\n",
    "page = requests.get(url)   #requests, get --> method\n",
    "page.status_code"
   ]
  },
  {
   "cell_type": "code",
   "execution_count": 29,
   "metadata": {},
   "outputs": [
    {
     "data": {
      "text/plain": [
       "{'id': '3153413274772099',\n",
       " 'name': 'Simran Grover',\n",
       " 'posts': {'data': [{'created_time': '2020-06-06T13:26:13+0000',\n",
       "    'id': '3153413274772099_3050666135046814'},\n",
       "   {'message': 'Omg 6 years back Prateek Pasricha Sonam Grover🤣🤣',\n",
       "    'created_time': '2020-06-01T17:52:28+0000',\n",
       "    'id': '3153413274772099_3038494352930659'},\n",
       "   {'message': 'Proud❤️😇',\n",
       "    'created_time': '2020-05-12T07:47:58+0000',\n",
       "    'id': '3153413274772099_2987979897982105'},\n",
       "   {'created_time': '2020-05-07T10:03:04+0000',\n",
       "    'id': '3153413274772099_2976948349085260'},\n",
       "   {'created_time': '2020-05-04T04:20:27+0000',\n",
       "    'id': '3153413274772099_2969687816477980'},\n",
       "   {'created_time': '2020-03-19T12:42:16+0000',\n",
       "    'id': '3153413274772099_2868820909898005'},\n",
       "   {'message': 'Too hard to carry😪',\n",
       "    'created_time': '2020-02-25T14:17:58+0000',\n",
       "    'id': '3153413274772099_2821500974629999'},\n",
       "   {'created_time': '2019-10-13T02:32:53+0000',\n",
       "    'id': '3153413274772099_2536022416511191'},\n",
       "   {'created_time': '2019-09-20T06:27:15+0000',\n",
       "    'id': '3153413274772099_2485729834873783'},\n",
       "   {'message': 'Hey babe ♥️ Muskan Batra birthday soon🤩',\n",
       "    'created_time': '2019-08-19T17:06:58+0000',\n",
       "    'id': '3153413274772099_2428307400616027'},\n",
       "   {'created_time': '2019-08-18T19:33:54+0000',\n",
       "    'id': '3153413274772099_2426749554105145'},\n",
       "   {'created_time': '2019-07-28T02:57:25+0000',\n",
       "    'id': '3153413274772099_2390061257773975'},\n",
       "   {'created_time': '2019-07-15T05:36:27+0000',\n",
       "    'id': '3153413274772099_2367914416655326'},\n",
       "   {'message': 'Now only this picture is left Sonam Grover🤣',\n",
       "    'created_time': '2019-05-28T15:40:57+0000',\n",
       "    'id': '3153413274772099_2285031841610251'},\n",
       "   {'created_time': '2019-05-26T10:14:05+0000',\n",
       "    'id': '3153413274772099_2281341411979294'},\n",
       "   {'created_time': '2019-05-25T09:55:35+0000',\n",
       "    'id': '3153413274772099_2279649135481855'},\n",
       "   {'created_time': '2019-05-03T13:56:42+0000',\n",
       "    'id': '3153413274772099_2244574925655943'},\n",
       "   {'created_time': '2019-04-23T18:22:52+0000',\n",
       "    'id': '3153413274772099_2229682317145204'},\n",
       "   {'created_time': '2019-03-31T08:02:22+0000',\n",
       "    'id': '3153413274772099_2194347604012009'},\n",
       "   {'created_time': '2019-03-07T18:42:12+0000',\n",
       "    'id': '3153413274772099_2161371100642993'},\n",
       "   {'created_time': '2019-02-21T17:12:29+0000',\n",
       "    'id': '3153413274772099_2140903952689708'},\n",
       "   {'created_time': '2019-02-12T14:58:08+0000',\n",
       "    'id': '3153413274772099_2126090164171087'},\n",
       "   {'created_time': '2019-01-30T13:35:44+0000',\n",
       "    'id': '3153413274772099_2106467709466666'}],\n",
       "  'paging': {'previous': 'https://graph.facebook.com/v7.0/3153413274772099/posts?since=1591449973&access_token=EAAI0t9Ln7wMBAKrB6TwFaJL1hyz3ICUbM6yW6XEGB4s4r8opCyAwSa2ssMZBBxW1jaeZAZCaZCsVYngwkqaFtDYBXMZBFylg4K1zzZAUb2tMK7Xu0BHPjTaSLyllzcnAdPY2OJiyPClhuPVBSgv1KtWhfEZCQ3LfubZAFFa00CPmIx306R66z2lZBQkzoZBZC325QZCI69iM8t8ZA3AEBlNcf9r0a6FnjyGhNJJDEAIotuMQcGwZDZD&limit=25&__paging_token=enc_AdBJhnOB23aQf0K2T5rJkHQnX7U8vYEVrjJrqpkiZAycuaj97jfzpfKooIZCi2ncXBtUByobl4FbKkgjJAAtw5UKeEEnaKDpNa4Xbk5yQ04M2M5gZDZD&__previous=1',\n",
       "   'next': 'https://graph.facebook.com/v7.0/3153413274772099/posts?access_token=EAAI0t9Ln7wMBAKrB6TwFaJL1hyz3ICUbM6yW6XEGB4s4r8opCyAwSa2ssMZBBxW1jaeZAZCaZCsVYngwkqaFtDYBXMZBFylg4K1zzZAUb2tMK7Xu0BHPjTaSLyllzcnAdPY2OJiyPClhuPVBSgv1KtWhfEZCQ3LfubZAFFa00CPmIx306R66z2lZBQkzoZBZC325QZCI69iM8t8ZA3AEBlNcf9r0a6FnjyGhNJJDEAIotuMQcGwZDZD&limit=25&until=1548855344&__paging_token=enc_AdCui9A3VWE8qXxLCYjiMM5ELkMdESdFCp0JBgsZB9p67YWqZA1oRLfQsis0Pgqs4dk1ZCKOKPCevETV05gew1nxuk8kbgG38ZBoZALzhZAXEcb3RpnwZDZD'}},\n",
       " 'likes': {'data': [{'name': 'Divya collection',\n",
       "    'id': '121280308579760',\n",
       "    'created_time': '2020-07-03T19:00:45+0000'},\n",
       "   {'name': 'Saanvi collection',\n",
       "    'id': '109191687487224',\n",
       "    'created_time': '2020-06-12T13:11:18+0000'},\n",
       "   {'name': 'BeerBiceps',\n",
       "    'id': '445275555654498',\n",
       "    'created_time': '2020-06-06T13:26:28+0000'},\n",
       "   {'name': 'Buzz For 7',\n",
       "    'id': '107068317385124',\n",
       "    'created_time': '2019-11-08T08:11:07+0000'},\n",
       "   {'name': 'अनheard by STAGE',\n",
       "    'id': '1532855873408620',\n",
       "    'created_time': '2019-10-28T16:18:51+0000'},\n",
       "   {'name': 'Pixel Dabba',\n",
       "    'id': '1996350760479287',\n",
       "    'created_time': '2019-10-27T19:18:09+0000'},\n",
       "   {'name': 'Syed Umar',\n",
       "    'id': '393503434321598',\n",
       "    'created_time': '2019-10-24T07:25:25+0000'},\n",
       "   {'name': 'GRRAS Indore',\n",
       "    'id': '231739201087054',\n",
       "    'created_time': '2019-10-07T11:15:11+0000'},\n",
       "   {'name': 'Peace_photography',\n",
       "    'id': '108078340569057',\n",
       "    'created_time': '2019-08-30T15:06:26+0000'},\n",
       "   {'name': 'Kalaa',\n",
       "    'id': '449216955828260',\n",
       "    'created_time': '2019-06-14T17:27:37+0000'},\n",
       "   {'name': 'Placement Committee, JEC',\n",
       "    'id': '1403206889897085',\n",
       "    'created_time': '2019-06-12T18:41:19+0000'},\n",
       "   {'name': 'RTU Updates',\n",
       "    'id': '241278525937354',\n",
       "    'created_time': '2019-04-23T18:26:02+0000'},\n",
       "   {'name': 'MongoDB',\n",
       "    'id': '397955415556',\n",
       "    'created_time': '2019-04-21T14:26:00+0000'},\n",
       "   {'name': 'The Relevant Vibes',\n",
       "    'id': '1943245152656532',\n",
       "    'created_time': '2019-04-14T07:53:29+0000'},\n",
       "   {'name': 'DataCamp',\n",
       "    'id': '726282547396228',\n",
       "    'created_time': '2019-03-21T05:38:54+0000'},\n",
       "   {'name': 'Market With Maddy',\n",
       "    'id': '2230717767170777',\n",
       "    'created_time': '2019-02-14T15:44:22+0000'},\n",
       "   {'name': 'Amandeep Singh',\n",
       "    'id': '639667023089568',\n",
       "    'created_time': '2019-01-17T19:30:08+0000'},\n",
       "   {'name': 'Screaming.Survivals',\n",
       "    'id': '279515369374138',\n",
       "    'created_time': '2018-12-14T15:33:21+0000'},\n",
       "   {'name': 'ChocoMojo.in',\n",
       "    'id': '353252715430976',\n",
       "    'created_time': '2018-12-14T15:33:20+0000'},\n",
       "   {'name': 'INJIR',\n",
       "    'id': '370843043657900',\n",
       "    'created_time': '2018-11-02T13:57:15+0000'},\n",
       "   {'name': '(Legacy) SheLeadsTech India',\n",
       "    'id': '1701002663274176',\n",
       "    'created_time': '2018-09-23T18:21:23+0000'},\n",
       "   {'name': 'AadharShala',\n",
       "    'id': '1936939036353629',\n",
       "    'created_time': '2018-09-02T19:35:32+0000'},\n",
       "   {'name': 'Aptech Learning Academy',\n",
       "    'id': '339283523477340',\n",
       "    'created_time': '2018-08-28T10:54:31+0000'},\n",
       "   {'name': 'GRRAS Solutions Pvt. Ltd.',\n",
       "    'id': '1039043886110312',\n",
       "    'created_time': '2018-08-17T17:21:38+0000'},\n",
       "   {'name': 'Android App Info',\n",
       "    'id': '1040471519439210',\n",
       "    'created_time': '2018-06-24T07:45:03+0000'}],\n",
       "  'paging': {'cursors': {'before': 'MTIxMjgwMzA4NTc5NzYw',\n",
       "    'after': 'MTA0MDQ3MTUxOTQzOTIxMAZDZD'},\n",
       "   'next': 'https://graph.facebook.com/v7.0/3153413274772099/likes?access_token=EAAI0t9Ln7wMBAKrB6TwFaJL1hyz3ICUbM6yW6XEGB4s4r8opCyAwSa2ssMZBBxW1jaeZAZCaZCsVYngwkqaFtDYBXMZBFylg4K1zzZAUb2tMK7Xu0BHPjTaSLyllzcnAdPY2OJiyPClhuPVBSgv1KtWhfEZCQ3LfubZAFFa00CPmIx306R66z2lZBQkzoZBZC325QZCI69iM8t8ZA3AEBlNcf9r0a6FnjyGhNJJDEAIotuMQcGwZDZD&limit=25&after=MTA0MDQ3MTUxOTQzOTIxMAZDZD'}}}"
      ]
     },
     "execution_count": 29,
     "metadata": {},
     "output_type": "execute_result"
    }
   ],
   "source": [
    "data = page.json()\n",
    "data"
   ]
  },
  {
   "cell_type": "code",
   "execution_count": 21,
   "metadata": {},
   "outputs": [
    {
     "data": {
      "text/plain": [
       "dict"
      ]
     },
     "execution_count": 21,
     "metadata": {},
     "output_type": "execute_result"
    }
   ],
   "source": [
    "type(data)"
   ]
  },
  {
   "cell_type": "code",
   "execution_count": 22,
   "metadata": {},
   "outputs": [
    {
     "name": "stdout",
     "output_type": "stream",
     "text": [
      "['__class__', '__contains__', '__delattr__', '__delitem__', '__dir__', '__doc__', '__eq__', '__format__', '__ge__', '__getattribute__', '__getitem__', '__gt__', '__hash__', '__init__', '__init_subclass__', '__iter__', '__le__', '__len__', '__lt__', '__ne__', '__new__', '__reduce__', '__reduce_ex__', '__repr__', '__setattr__', '__setitem__', '__sizeof__', '__str__', '__subclasshook__', 'clear', 'copy', 'fromkeys', 'get', 'items', 'keys', 'pop', 'popitem', 'setdefault', 'update', 'values']\n"
     ]
    }
   ],
   "source": [
    "print(dir(data))"
   ]
  },
  {
   "cell_type": "code",
   "execution_count": 23,
   "metadata": {},
   "outputs": [
    {
     "data": {
      "text/plain": [
       "dict_keys(['id', 'name', 'posts'])"
      ]
     },
     "execution_count": 23,
     "metadata": {},
     "output_type": "execute_result"
    }
   ],
   "source": [
    "data.keys()"
   ]
  },
  {
   "cell_type": "code",
   "execution_count": 27,
   "metadata": {},
   "outputs": [
    {
     "data": {
      "text/plain": [
       "'Too hard to carry😪'"
      ]
     },
     "execution_count": 27,
     "metadata": {},
     "output_type": "execute_result"
    }
   ],
   "source": [
    "data['posts']['data'][6]['message']"
   ]
  },
  {
   "cell_type": "code",
   "execution_count": 33,
   "metadata": {},
   "outputs": [
    {
     "data": {
      "text/plain": [
       "True"
      ]
     },
     "execution_count": 33,
     "metadata": {},
     "output_type": "execute_result"
    }
   ],
   "source": [
    "\"json\" in page.headers['Content-Type']"
   ]
  },
  {
   "cell_type": "code",
   "execution_count": 37,
   "metadata": {},
   "outputs": [
    {
     "name": "stdout",
     "output_type": "stream",
     "text": [
      "\n",
      " Enter , separated fields : id,name,posts,likes\n",
      "\n",
      " Fields are :  id,name,posts,likes\n",
      "\n",
      " Enter the field form above whose particular detail you want : likes\n",
      "********************************************************************************\n",
      "Divya collection\n",
      "********************************************************************************\n",
      "********************************************************************************\n",
      "Saanvi collection\n",
      "********************************************************************************\n",
      "********************************************************************************\n",
      "BeerBiceps\n",
      "********************************************************************************\n",
      "********************************************************************************\n",
      "Buzz For 7\n",
      "********************************************************************************\n",
      "********************************************************************************\n",
      "अनheard by STAGE\n",
      "********************************************************************************\n",
      "********************************************************************************\n",
      "Pixel Dabba\n",
      "********************************************************************************\n",
      "********************************************************************************\n",
      "Syed Umar\n",
      "********************************************************************************\n",
      "********************************************************************************\n",
      "GRRAS Indore\n",
      "********************************************************************************\n",
      "********************************************************************************\n",
      "Peace_photography\n",
      "********************************************************************************\n",
      "********************************************************************************\n",
      "Kalaa\n",
      "********************************************************************************\n",
      "********************************************************************************\n",
      "Placement Committee, JEC\n",
      "********************************************************************************\n",
      "********************************************************************************\n",
      "RTU Updates\n",
      "********************************************************************************\n",
      "********************************************************************************\n",
      "MongoDB\n",
      "********************************************************************************\n",
      "********************************************************************************\n",
      "The Relevant Vibes\n",
      "********************************************************************************\n",
      "********************************************************************************\n",
      "DataCamp\n",
      "********************************************************************************\n",
      "********************************************************************************\n",
      "Market With Maddy\n",
      "********************************************************************************\n",
      "********************************************************************************\n",
      "Amandeep Singh\n",
      "********************************************************************************\n",
      "********************************************************************************\n",
      "Screaming.Survivals\n",
      "********************************************************************************\n",
      "********************************************************************************\n",
      "ChocoMojo.in\n",
      "********************************************************************************\n",
      "********************************************************************************\n",
      "INJIR\n",
      "********************************************************************************\n",
      "********************************************************************************\n",
      "(Legacy) SheLeadsTech India\n",
      "********************************************************************************\n",
      "********************************************************************************\n",
      "AadharShala\n",
      "********************************************************************************\n",
      "********************************************************************************\n",
      "Aptech Learning Academy\n",
      "********************************************************************************\n",
      "********************************************************************************\n",
      "GRRAS Solutions Pvt. Ltd.\n",
      "********************************************************************************\n",
      "********************************************************************************\n",
      "Android App Info\n",
      "********************************************************************************\n"
     ]
    }
   ],
   "source": [
    "def get_fb_info(fields):\n",
    "    key = \"EAAI0t9Ln7wMBAKrB6TwFaJL1hyz3ICUbM6yW6XEGB4s4r8opCyAwSa2ssMZBBxW1jaeZAZCaZCsVYngwkqaFtDYBXMZBFylg4K1zzZAUb2tMK7Xu0BHPjTaSLyllzcnAdPY2OJiyPClhuPVBSgv1KtWhfEZCQ3LfubZAFFa00CPmIx306R66z2lZBQkzoZBZC325QZCI69iM8t8ZA3AEBlNcf9r0a6FnjyGhNJJDEAIotuMQcGwZDZD\"\n",
    "    url = f\"https://graph.facebook.com/v7.0/me?fields={fields}&access_token={key}\"\n",
    "    page = requests.get(url)   #requests, get --> method\n",
    "    if page.status_code == 200:\n",
    "        if \"json\" in page.headers['Content-Type']:\n",
    "            data = page.json()\n",
    "            print(\"\\n Fields are : \",fields)\n",
    "            ch = input(\"\\n Enter the field form above whose particular detail you want : \").strip().lower()\n",
    "            if ch == \"likes\":\n",
    "                for i in data['likes']['data']:\n",
    "                    print(\"*\"*80)\n",
    "                    print(i['name'])\n",
    "                    print(\"*\"*80)\n",
    "            else:\n",
    "                print(data[ch])\n",
    "            \n",
    "    else:\n",
    "        print(\"\\n Invalid url!!!!\")\n",
    "        \n",
    "        \n",
    "fields = input(\"\\n Enter , separated fields : \")\n",
    "get_fb_info(fields)"
   ]
  },
  {
   "cell_type": "code",
   "execution_count": 38,
   "metadata": {},
   "outputs": [
    {
     "data": {
      "text/plain": [
       "<Response [400]>"
      ]
     },
     "execution_count": 38,
     "metadata": {},
     "output_type": "execute_result"
    }
   ],
   "source": [
    "key = \"e9034b1eee3034977886c9f275b27127\"\n",
    "url =f\"http://api.openweathermap.org/data/2.5/onecall/timemachine?lat=60.99&lon=30.9&dt=1586468027&appid={key}\"\n",
    "requests.get(url)"
   ]
  },
  {
   "cell_type": "code",
   "execution_count": 42,
   "metadata": {},
   "outputs": [
    {
     "data": {
      "text/plain": [
       "200"
      ]
     },
     "execution_count": 42,
     "metadata": {},
     "output_type": "execute_result"
    }
   ],
   "source": [
    "key = \"e9034b1eee3034977886c9f275b27127\"\n",
    "url = f\"https://api.openweathermap.org/data/2.5/weather?q=jaipur&appid={key}\"\n",
    "page = requests.get(url)\n",
    "page.status_code"
   ]
  },
  {
   "cell_type": "code",
   "execution_count": 43,
   "metadata": {},
   "outputs": [
    {
     "data": {
      "text/plain": [
       "'{\"coord\":{\"lon\":75.82,\"lat\":26.92},\"weather\":[{\"id\":721,\"main\":\"Haze\",\"description\":\"haze\",\"icon\":\"50n\"}],\"base\":\"stations\",\"main\":{\"temp\":308.15,\"feels_like\":313.03,\"temp_min\":308.15,\"temp_max\":308.15,\"pressure\":999,\"humidity\":56},\"visibility\":3000,\"wind\":{\"speed\":2.1,\"deg\":110},\"clouds\":{\"all\":75},\"dt\":1594825164,\"sys\":{\"type\":1,\"id\":9170,\"country\":\"IN\",\"sunrise\":1594771937,\"sunset\":1594821162},\"timezone\":19800,\"id\":1269515,\"name\":\"Jaipur\",\"cod\":200}'"
      ]
     },
     "execution_count": 43,
     "metadata": {},
     "output_type": "execute_result"
    }
   ],
   "source": [
    "page.text"
   ]
  },
  {
   "cell_type": "code",
   "execution_count": 46,
   "metadata": {},
   "outputs": [],
   "source": [
    "data = page.json()"
   ]
  },
  {
   "cell_type": "code",
   "execution_count": 47,
   "metadata": {},
   "outputs": [
    {
     "data": {
      "text/plain": [
       "{'coord': {'lon': 75.82, 'lat': 26.92},\n",
       " 'weather': [{'id': 721,\n",
       "   'main': 'Haze',\n",
       "   'description': 'haze',\n",
       "   'icon': '50n'}],\n",
       " 'base': 'stations',\n",
       " 'main': {'temp': 308.15,\n",
       "  'feels_like': 313.03,\n",
       "  'temp_min': 308.15,\n",
       "  'temp_max': 308.15,\n",
       "  'pressure': 999,\n",
       "  'humidity': 56},\n",
       " 'visibility': 3000,\n",
       " 'wind': {'speed': 2.1, 'deg': 110},\n",
       " 'clouds': {'all': 75},\n",
       " 'dt': 1594825164,\n",
       " 'sys': {'type': 1,\n",
       "  'id': 9170,\n",
       "  'country': 'IN',\n",
       "  'sunrise': 1594771937,\n",
       "  'sunset': 1594821162},\n",
       " 'timezone': 19800,\n",
       " 'id': 1269515,\n",
       " 'name': 'Jaipur',\n",
       " 'cod': 200}"
      ]
     },
     "execution_count": 47,
     "metadata": {},
     "output_type": "execute_result"
    }
   ],
   "source": [
    "data"
   ]
  },
  {
   "cell_type": "code",
   "execution_count": 45,
   "metadata": {},
   "outputs": [],
   "source": [
    "#temp,temo_max,temp_min,description,country,humidity,icon"
   ]
  },
  {
   "cell_type": "code",
   "execution_count": 49,
   "metadata": {},
   "outputs": [
    {
     "data": {
      "text/plain": [
       "308.15"
      ]
     },
     "execution_count": 49,
     "metadata": {},
     "output_type": "execute_result"
    }
   ],
   "source": [
    "data['main']['temp']"
   ]
  },
  {
   "cell_type": "code",
   "execution_count": 50,
   "metadata": {},
   "outputs": [],
   "source": [
    "temp = data['main']['temp'] - 273.15\n",
    "temp_max= data['main']['temp_max'] - 273.15\n",
    "temp_min= data['main']['temp_min'] - 273.15\n",
    "desc = data['weather'][0]['description']\n",
    "country = data['sys']['country']\n",
    "humidity = data['main']['humidity']\n",
    "icon = data['weather'][0]['icon']"
   ]
  },
  {
   "cell_type": "code",
   "execution_count": 51,
   "metadata": {},
   "outputs": [
    {
     "data": {
      "text/plain": [
       "35.0"
      ]
     },
     "execution_count": 51,
     "metadata": {},
     "output_type": "execute_result"
    }
   ],
   "source": [
    "temp"
   ]
  },
  {
   "cell_type": "code",
   "execution_count": 52,
   "metadata": {},
   "outputs": [
    {
     "data": {
      "text/plain": [
       "35.0"
      ]
     },
     "execution_count": 52,
     "metadata": {},
     "output_type": "execute_result"
    }
   ],
   "source": [
    "temp_min"
   ]
  },
  {
   "cell_type": "code",
   "execution_count": 53,
   "metadata": {},
   "outputs": [
    {
     "data": {
      "text/plain": [
       "35.0"
      ]
     },
     "execution_count": 53,
     "metadata": {},
     "output_type": "execute_result"
    }
   ],
   "source": [
    "temp_max"
   ]
  },
  {
   "cell_type": "code",
   "execution_count": 62,
   "metadata": {},
   "outputs": [
    {
     "name": "stdout",
     "output_type": "stream",
     "text": [
      "\n",
      " Enter city : london\n",
      "************************************Details*************************************\n",
      "                              Temperature : 18.65C                              \n",
      "                          Temperature Minimum : 18.33C                          \n",
      "                          Temperature maximum : 19.0C                           \n",
      "                                 Humidity : 59                                  \n",
      "                         Description : overcast clouds                          \n",
      "                                  Country : GB                                  \n",
      "********************************************************************************\n"
     ]
    }
   ],
   "source": [
    "def get_weather(city):\n",
    "    key = \"e9034b1eee3034977886c9f275b27127\"\n",
    "    url = f\"https://api.openweathermap.org/data/2.5/weather?q={city}&appid={key}\"\n",
    "    page = requests.get(url)\n",
    "    if page.status_code == 200:\n",
    "        data = page.json()\n",
    "        temp = round(data['main']['temp'] - 273.15,2)\n",
    "        temp_max= round(data['main']['temp_max'] - 273.15,2)\n",
    "        temp_min= round(data['main']['temp_min'] - 273.15,2)\n",
    "        desc = data['weather'][0]['description']\n",
    "        country = data['sys']['country']\n",
    "        humidity = data['main']['humidity']\n",
    "        icon = data['weather'][0]['icon']\n",
    "        print(\"Details\".center(80,\"*\"))\n",
    "        print(f\"Temperature : {temp}C\".center(80))\n",
    "        print(f\"Temperature Minimum : {temp_min}C\".center(80))\n",
    "        print(f\"Temperature maximum : {temp_max}C\".center(80))\n",
    "        print(f\"Humidity : {humidity}\".center(80))\n",
    "        print(f\"Description : {desc}\".center(80))\n",
    "        print(f\"Country : {country}\".center(80))\n",
    "        print(\"*\"*80)\n",
    "    else:\n",
    "        print(\"\\n Invalid url\")\n",
    "        \n",
    "city = input(\"\\n Enter city : \")\n",
    "get_weather(city)"
   ]
  },
  {
   "cell_type": "code",
   "execution_count": 63,
   "metadata": {},
   "outputs": [],
   "source": [
    "#icon,movieapi,google map, etc"
   ]
  },
  {
   "cell_type": "code",
   "execution_count": null,
   "metadata": {},
   "outputs": [],
   "source": [
    "icon = \n",
    "url2 = f\"http://openweathermap.org/img/w/{icon}.png\"\""
   ]
  }
 ],
 "metadata": {
  "kernelspec": {
   "display_name": "Python 3",
   "language": "python",
   "name": "python3"
  },
  "language_info": {
   "codemirror_mode": {
    "name": "ipython",
    "version": 3
   },
   "file_extension": ".py",
   "mimetype": "text/x-python",
   "name": "python",
   "nbconvert_exporter": "python",
   "pygments_lexer": "ipython3",
   "version": "3.7.4"
  }
 },
 "nbformat": 4,
 "nbformat_minor": 2
}
