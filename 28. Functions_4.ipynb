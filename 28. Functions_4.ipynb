{
 "cells": [
  {
   "cell_type": "code",
   "execution_count": 2,
   "metadata": {},
   "outputs": [],
   "source": [
    "data = { '1001' : [\"simran\",\"passwd\",12000,'1601'],\n",
    "              '1002' : [\"shahid\",\"admin\",10000,'2810'],\n",
    "              '1003' : [\"rahul\",\"passpass\",13000,'0505'],\n",
    "              '1004' : [\"tushar\",\"passwd\",12500,'1306']\n",
    "            }"
   ]
  },
  {
   "cell_type": "code",
   "execution_count": 9,
   "metadata": {},
   "outputs": [],
   "source": [
    "from getpass import getpass\n",
    "\n",
    "def bank_application(data,operation):\n",
    "    \n",
    "    \"\"\"\n",
    "        This function is for bank management of login and signup operation\n",
    "        call the function ---> bank_application(data,opertaion)\n",
    "        data --> dictionary type object\n",
    "        operation --> string type object\n",
    "    \"\"\"\n",
    "    \n",
    "    if operation.lower() == \"login\":\n",
    "        accno = input(\"\\n Enter 4 digit number account number : \")\n",
    "        if len(accno) == 4:\n",
    "            if accno in data.keys():\n",
    "                passwd = input(\"\\n Enter password : \")\n",
    "                if data[accno][1] == passwd:\n",
    "                    print(\"\\n Your details are : \")\n",
    "                    #for i in data[acnno]:\n",
    "                    print(\"*\"*80)\n",
    "                    print(\"\\n Name : \",data[accno][0])\n",
    "                    print(\"\\n Accnount Number : \",accno)\n",
    "                    print(\"\\n Password : \",data[accno][1])\n",
    "                    print(\"\\n Balance : \",data[accno][2])\n",
    "                    print(\"\\n Your security answer : \",data[accno][3])\n",
    "                    print(\"*\"*80)\n",
    "                        \n",
    "                else:\n",
    "                    print(\"\\n Try again....Password does not matched....\")\n",
    "            else:\n",
    "                print(\"\\n No such accnount number...Please check\")\n",
    "        else:\n",
    "            print(\"\\n Invalid account number......\")\n",
    "            \n",
    "    elif operation.lower() == \"signup\":\n",
    "        name = input(\"\\n Name : \")\n",
    "        password = getpass(\"\\n Password : \")\n",
    "        security = input(\"\\n Enter date of birth in form of ddmm : \")\n",
    "        bal = eval(input(\"\\n Enter your initial balance : \"))\n",
    "        accno = int(list(data.keys())[-1]) + 1  #generation new account number by getting the last number in keys\n",
    "        data[accno] = [name,password,bal,security]\n",
    "        print(\"\\n Your account number is : \",accno)\n",
    "        print(\"\\n \\n Thanks for sign up and We will deliver you best....\")\n",
    "        print(\"\\n\\n User the above account number for login.....\")\n",
    "    else:\n",
    "        print(\"\\n Operation not handled....\")"
   ]
  },
  {
   "cell_type": "code",
   "execution_count": 7,
   "metadata": {},
   "outputs": [
    {
     "data": {
      "text/plain": [
       "1005"
      ]
     },
     "execution_count": 7,
     "metadata": {},
     "output_type": "execute_result"
    }
   ],
   "source": [
    "int(list(data.keys())[-1]) + 1"
   ]
  },
  {
   "cell_type": "code",
   "execution_count": 10,
   "metadata": {},
   "outputs": [
    {
     "name": "stdout",
     "output_type": "stream",
     "text": [
      "\n",
      " Enter 4 digit number account number : 1001\n",
      "\n",
      " Enter password : passwd\n",
      "\n",
      " Your details are : \n",
      "********************************************************************************\n",
      "\n",
      " Name :  simran\n",
      "\n",
      " Accnount Number :  1001\n",
      "\n",
      " Password :  passwd\n",
      "\n",
      " Balance :  12000\n",
      "\n",
      " Your security answer :  1601\n",
      "********************************************************************************\n"
     ]
    }
   ],
   "source": [
    "bank_application(data,\"login\")"
   ]
  },
  {
   "cell_type": "code",
   "execution_count": 11,
   "metadata": {},
   "outputs": [
    {
     "name": "stdout",
     "output_type": "stream",
     "text": [
      "\n",
      " Name : sachin\n",
      "\n",
      " Password : ········\n",
      "\n",
      " Enter date of birth in form of ddmm : 0303\n",
      "\n",
      " Enter your initial balance : 12000\n",
      "\n",
      " Your account number is :  1005\n",
      "\n",
      " \n",
      " Thanks for sign up and We will deliver you best....\n",
      "\n",
      "\n",
      " User the above account number for login.....\n"
     ]
    }
   ],
   "source": [
    "bank_application(data,\"signup\")"
   ]
  },
  {
   "cell_type": "code",
   "execution_count": 12,
   "metadata": {},
   "outputs": [
    {
     "data": {
      "text/plain": [
       "{'1001': ['simran', 'passwd', 12000, '1601'],\n",
       " '1002': ['shahid', 'admin', 10000, '2810'],\n",
       " '1003': ['rahul', 'passpass', 13000, '0505'],\n",
       " '1004': ['tushar', 'passwd', 12500, '1306'],\n",
       " 1005: ['sachin', 'admin', 12000, '0303']}"
      ]
     },
     "execution_count": 12,
     "metadata": {},
     "output_type": "execute_result"
    }
   ],
   "source": [
    "data"
   ]
  },
  {
   "cell_type": "code",
   "execution_count": null,
   "metadata": {},
   "outputs": [],
   "source": [
    "### PEP --> Python Enhancement Package"
   ]
  },
  {
   "cell_type": "code",
   "execution_count": 21,
   "metadata": {},
   "outputs": [
    {
     "name": "stdout",
     "output_type": "stream",
     "text": [
      "Overwriting bank_app.py\n"
     ]
    }
   ],
   "source": [
    "%%writefile bank_app.py\n",
    "\n",
    "\"\"\"\n",
    "    This file consists of bank app function use for performing banj operations\n",
    "\"\"\"\n",
    "\n",
    "from getpass import getpass\n",
    "\n",
    "\n",
    "data = {'1001' : [\"simran\", \"passwd\", 12000, '1601'], \\\n",
    "        '1002' : [\"shahid\", \"admin\", 10000, '2810'], \\\n",
    "        '1003' : [\"rahul\", \"passpass\", 13000, '0505'], \\\n",
    "        '1004' : [\"tushar\", \"passwd\", 12500, '1306']}\n",
    "\n",
    "def bank_application(data, operation):\n",
    "    \n",
    "    \"\"\"\n",
    "        This function is for bank management of login and signup operation\n",
    "        call the function ---> bank_application(data,opertaion)\n",
    "        data --> dictionary type object\n",
    "        operation --> string type object\n",
    "    \"\"\"\n",
    "    \n",
    "    if operation.lower() == \"login\":\n",
    "        accno = input(\"\\n Enter 4 digit number account number : \")\n",
    "        if len(accno) == 4:\n",
    "            if accno in data.keys():\n",
    "                passwd = input(\"\\n Enter password : \")\n",
    "                if data[accno][1] == passwd:\n",
    "                    print(\"\\n Your details are : \")\n",
    "                    #for i in data[acnno]:\n",
    "                    print(\"*\"*80)\n",
    "                    print(\"\\n Name : \", data[accno][0])\n",
    "                    print(\"\\n Accnount Number : \", accno)\n",
    "                    print(\"\\n Password : \", data[accno][1])\n",
    "                    print(\"\\n Balance : \", data[accno][2])\n",
    "                    print(\"\\n Your security answer : \", data[accno][3])\n",
    "                    print(\"*\"*80)\n",
    "                        \n",
    "                else:\n",
    "                    print(\"\\n Try again....Password does not matched....\")\n",
    "            else:\n",
    "                print(\"\\n No such accnount number...Please check\")\n",
    "        else:\n",
    "            print(\"\\n Invalid account number......\")\n",
    "            \n",
    "    elif operation.lower() == \"signup\":\n",
    "        name = input(\"\\n Name : \")\n",
    "        password = getpass(\"\\n Password : \")\n",
    "        security = input(\"\\n Enter date of birth in form of ddmm : \")\n",
    "        bal = eval(input(\"\\n Enter your initial balance : \"))\n",
    "        accno = int(list(data.keys())[-1]) + 1  #generation new account number by getting the last number in keys\n",
    "        data[accno] = [name, password, bal, security]\n",
    "        print(\"\\n Your account number is : \", accno)\n",
    "        print(\"\\n \\n Thanks for sign up and We will deliver you best....\")\n",
    "        print(\"\\n\\n User the above account number for login.....\")\n",
    "    else:\n",
    "        print(\"\\n Operation not handled....\")\n",
    "        \n",
    "bank_application(data, \"login\")"
   ]
  },
  {
   "cell_type": "code",
   "execution_count": 22,
   "metadata": {},
   "outputs": [
    {
     "ename": "TypeError",
     "evalue": "common() missing 1 required positional argument: 'a'",
     "output_type": "error",
     "traceback": [
      "\u001b[1;31m---------------------------------------------------------------------\u001b[0m",
      "\u001b[1;31mTypeError\u001b[0m                           Traceback (most recent call last)",
      "\u001b[1;32m<ipython-input-22-1fcfc01bab7e>\u001b[0m in \u001b[0;36m<module>\u001b[1;34m\u001b[0m\n\u001b[0;32m      5\u001b[0m     \u001b[0mprint\u001b[0m\u001b[1;33m(\u001b[0m\u001b[1;34m\"Keyword Argument : \"\u001b[0m\u001b[1;33m,\u001b[0m\u001b[0mkwargs\u001b[0m\u001b[1;33m)\u001b[0m\u001b[1;33m\u001b[0m\u001b[1;33m\u001b[0m\u001b[0m\n\u001b[0;32m      6\u001b[0m \u001b[1;33m\u001b[0m\u001b[0m\n\u001b[1;32m----> 7\u001b[1;33m \u001b[0mcommon\u001b[0m\u001b[1;33m(\u001b[0m\u001b[1;33m)\u001b[0m\u001b[1;33m\u001b[0m\u001b[1;33m\u001b[0m\u001b[0m\n\u001b[0m",
      "\u001b[1;31mTypeError\u001b[0m: common() missing 1 required positional argument: 'a'"
     ]
    }
   ],
   "source": [
    "def common(a,b=0,*args,**kwargs):\n",
    "    print(\"Positional Argument : \",a)\n",
    "    print(\"Default Argument : \",b)\n",
    "    print(\"Variable Length : \",args)\n",
    "    print(\"Keyword Argument : \",kwargs)\n",
    "    \n",
    "common()"
   ]
  },
  {
   "cell_type": "code",
   "execution_count": 23,
   "metadata": {},
   "outputs": [
    {
     "name": "stdout",
     "output_type": "stream",
     "text": [
      "Positional Argument :  10\n",
      "Default Argument :  0\n",
      "Variable Length :  ()\n",
      "Keyword Argument :  {}\n"
     ]
    }
   ],
   "source": [
    "common(10)"
   ]
  },
  {
   "cell_type": "code",
   "execution_count": 24,
   "metadata": {},
   "outputs": [
    {
     "name": "stdout",
     "output_type": "stream",
     "text": [
      "Positional Argument :  45\n",
      "Default Argument :  20\n",
      "Variable Length :  ()\n",
      "Keyword Argument :  {}\n"
     ]
    }
   ],
   "source": [
    "common(b=20,a=45)"
   ]
  },
  {
   "cell_type": "code",
   "execution_count": 25,
   "metadata": {},
   "outputs": [
    {
     "name": "stdout",
     "output_type": "stream",
     "text": [
      "Positional Argument :  23\n",
      "Default Argument :  90\n",
      "Variable Length :  (12, 34, 56)\n",
      "Keyword Argument :  {}\n"
     ]
    }
   ],
   "source": [
    "common(23,90,12,34,56)"
   ]
  },
  {
   "cell_type": "code",
   "execution_count": 27,
   "metadata": {},
   "outputs": [
    {
     "ename": "SyntaxError",
     "evalue": "positional argument follows keyword argument (<ipython-input-27-2bf5735c5b40>, line 1)",
     "output_type": "error",
     "traceback": [
      "\u001b[1;36m  File \u001b[1;32m\"<ipython-input-27-2bf5735c5b40>\"\u001b[1;36m, line \u001b[1;32m1\u001b[0m\n\u001b[1;33m    common(b=45,a=67,12,131,4)\u001b[0m\n\u001b[1;37m                    ^\u001b[0m\n\u001b[1;31mSyntaxError\u001b[0m\u001b[1;31m:\u001b[0m positional argument follows keyword argument\n"
     ]
    }
   ],
   "source": [
    "common(b=45,a=67,12,131,4)"
   ]
  },
  {
   "cell_type": "code",
   "execution_count": 28,
   "metadata": {},
   "outputs": [
    {
     "name": "stdout",
     "output_type": "stream",
     "text": [
      "Positional Argument :  34\n",
      "Default Argument :  56\n",
      "Variable Length :  ()\n",
      "Keyword Argument :  {'args': (1, 2, 3)}\n"
     ]
    }
   ],
   "source": [
    "common(a=34,b=56,args=(1,2,3))"
   ]
  },
  {
   "cell_type": "code",
   "execution_count": 29,
   "metadata": {},
   "outputs": [
    {
     "name": "stdout",
     "output_type": "stream",
     "text": [
      "Positional Argument :  12\n",
      "Default Argument :  34\n",
      "Variable Length :  (56, 78, 90)\n",
      "Keyword Argument :  {'one': 'one', 'two': 'two', 'three': 'three'}\n"
     ]
    }
   ],
   "source": [
    "common(12,34,56,78,90,one=\"one\",two=\"two\",three=\"three\")"
   ]
  },
  {
   "cell_type": "markdown",
   "metadata": {},
   "source": [
    "### Global And Local"
   ]
  },
  {
   "cell_type": "code",
   "execution_count": 30,
   "metadata": {},
   "outputs": [
    {
     "data": {
      "text/plain": [
       "<function __main__.common(a, b=0, *args, **kwargs)>"
      ]
     },
     "execution_count": 30,
     "metadata": {},
     "output_type": "execute_result"
    }
   ],
   "source": [
    "common"
   ]
  },
  {
   "cell_type": "code",
   "execution_count": 31,
   "metadata": {},
   "outputs": [
    {
     "name": "stdout",
     "output_type": "stream",
     "text": [
      "Positional Argument :  12\n",
      "Default Argument :  0\n",
      "Variable Length :  ()\n",
      "Keyword Argument :  {}\n"
     ]
    }
   ],
   "source": [
    "common(12)"
   ]
  },
  {
   "cell_type": "code",
   "execution_count": 32,
   "metadata": {},
   "outputs": [
    {
     "name": "stdout",
     "output_type": "stream",
     "text": [
      "\n",
      " Enter the value : 45\n",
      "\n",
      " The value of x is :  1035\n"
     ]
    },
    {
     "ename": "NameError",
     "evalue": "name 'x' is not defined",
     "output_type": "error",
     "traceback": [
      "\u001b[1;31m---------------------------------------------------------------------\u001b[0m",
      "\u001b[1;31mNameError\u001b[0m                           Traceback (most recent call last)",
      "\u001b[1;32m<ipython-input-32-d17cdb2a9a9c>\u001b[0m in \u001b[0;36m<module>\u001b[1;34m\u001b[0m\n\u001b[0;32m      5\u001b[0m \u001b[1;33m\u001b[0m\u001b[0m\n\u001b[0;32m      6\u001b[0m \u001b[0mf\u001b[0m\u001b[1;33m(\u001b[0m\u001b[1;33m)\u001b[0m\u001b[1;33m\u001b[0m\u001b[1;33m\u001b[0m\u001b[0m\n\u001b[1;32m----> 7\u001b[1;33m \u001b[0mprint\u001b[0m\u001b[1;33m(\u001b[0m\u001b[1;34m\"\\n The value of x is : \"\u001b[0m\u001b[1;33m,\u001b[0m\u001b[0mx\u001b[0m\u001b[1;33m)\u001b[0m\u001b[1;33m\u001b[0m\u001b[1;33m\u001b[0m\u001b[0m\n\u001b[0m",
      "\u001b[1;31mNameError\u001b[0m: name 'x' is not defined"
     ]
    }
   ],
   "source": [
    "def f():\n",
    "    x = int(input(\"\\n Enter the value : \"))\n",
    "    x = x * 23\n",
    "    print(\"\\n The value of x is : \",x)\n",
    "\n",
    "f()\n",
    "print(\"\\n The value of x is : \",x)"
   ]
  },
  {
   "cell_type": "code",
   "execution_count": 45,
   "metadata": {},
   "outputs": [
    {
     "name": "stdout",
     "output_type": "stream",
     "text": [
      "\n",
      " Enter the value : 56\n",
      "\n",
      " The value of x is :  1288\n",
      "\n",
      " A :  1288\n"
     ]
    },
    {
     "ename": "NameError",
     "evalue": "name 'x' is not defined",
     "output_type": "error",
     "traceback": [
      "\u001b[1;31m---------------------------------------------------------------------\u001b[0m",
      "\u001b[1;31mNameError\u001b[0m                           Traceback (most recent call last)",
      "\u001b[1;32m<ipython-input-45-434973224ae2>\u001b[0m in \u001b[0;36m<module>\u001b[1;34m\u001b[0m\n\u001b[0;32m      7\u001b[0m \u001b[0ma\u001b[0m \u001b[1;33m=\u001b[0m \u001b[0mf\u001b[0m\u001b[1;33m(\u001b[0m\u001b[1;33m)\u001b[0m\u001b[1;33m\u001b[0m\u001b[1;33m\u001b[0m\u001b[0m\n\u001b[0;32m      8\u001b[0m \u001b[0mprint\u001b[0m\u001b[1;33m(\u001b[0m\u001b[1;34m\"\\n A : \"\u001b[0m\u001b[1;33m,\u001b[0m\u001b[0ma\u001b[0m\u001b[1;33m)\u001b[0m\u001b[1;33m\u001b[0m\u001b[1;33m\u001b[0m\u001b[0m\n\u001b[1;32m----> 9\u001b[1;33m \u001b[0mprint\u001b[0m\u001b[1;33m(\u001b[0m\u001b[1;34m\"\\n The value of x is : \"\u001b[0m\u001b[1;33m,\u001b[0m\u001b[0mx\u001b[0m\u001b[1;33m)\u001b[0m  \u001b[1;31m#we cannot access the local variable outside the function\u001b[0m\u001b[1;33m\u001b[0m\u001b[1;33m\u001b[0m\u001b[0m\n\u001b[0m",
      "\u001b[1;31mNameError\u001b[0m: name 'x' is not defined"
     ]
    }
   ],
   "source": [
    "def f():\n",
    "    x = int(input(\"\\n Enter the value : \"))  #local variable\n",
    "    x = x * 23\n",
    "    print(\"\\n The value of x is : \",x)\n",
    "    return x\n",
    "\n",
    "a = f()\n",
    "print(\"\\n A : \",a)\n",
    "print(\"\\n The value of x is : \",x)  #we cannot access the local variable outside the function"
   ]
  },
  {
   "cell_type": "code",
   "execution_count": 34,
   "metadata": {},
   "outputs": [
    {
     "data": {
      "text/plain": [
       "{'__name__': '__main__',\n",
       " '__doc__': 'Automatically created module for IPython interactive environment',\n",
       " '__package__': None,\n",
       " '__loader__': None,\n",
       " '__spec__': None,\n",
       " '__builtin__': <module 'builtins' (built-in)>,\n",
       " '__builtins__': <module 'builtins' (built-in)>,\n",
       " '_ih': ['',\n",
       "  'def bank_application(data):',\n",
       "  'data = { \\'1001\\' : [\"simran\",\"passwd\",12000,\\'1601\\'],\\n              \\'1002\\' : [\"shahid\",\"admin\",10000,\\'2810\\'],\\n              \\'1003\\' : [\"rahul\",\"passpass\",13000,\\'0505\\'],\\n              \\'1004\\' : [\"tushar\",\"passwd\",12500,\\'1306\\']\\n            }',\n",
       "  'data.keys()',\n",
       "  'list(data.keys())',\n",
       "  'list(data.keys())[-1]',\n",
       "  'int(list(data.keys())[-1])',\n",
       "  'int(list(data.keys())[-1]) + 1',\n",
       "  'from getpass import getpass\\n\\ndef bank_application(data,operation):\\n    \\n    \"\"\"\\n        This function is for bank management of login and signup operation\\n        call the function ---> bank_application(data,opertaion)\\n        data --> dictionary type object\\n        operation --> string type object\\n    \"\"\"\\n    \\n    if operation.lower() == \"login\":\\n        accno = input(\"\\\\n Enter 4 digit number account number : \")\\n        if len(accno) == 4:\\n            if accno in data.keys():\\n                passwd = input(\"\\\\n Enter password : \")\\n                if data[accno][1] == passwd:\\n                    print(\"\\\\n Your details are : \")\\n                    #for i in data[acnno]:\\n                    print(\"*\"*80)\\n                    print(\"\\\\n Name : \",data[accno][0])\\n                    print(\"\\\\n Accnount Number : \",accno)\\n                    print(\"\\\\n Password : \",data[accno][1])\\n                    print(\"\\\\n Balance : \",data[accno][2])\\n                    print(\"\\\\n Your security answer : \",data[accno][3])\\n                    print(\"*\"*80)\\n                        \\n                else:\\n                    print(\"\\\\n Try again....Password does not matched....\")\\n            else:\\n                print(\"\\\\n No such accnount number...Please check\")\\n        else:\\n            print(\"\\\\n Invalid account number......\")\\n            \\n    else operation.lower() == \"signup\":\\n        name = input(\"\\\\n Name : \")\\n        password = getpass(\"\\\\n Password : \")\\n        security = input(\"\\\\n Enter date of birth in form of ddmm : \")\\n        bal = eval(input(\"\\\\n Enter your initial balance : \"))\\n        accno = int(list(data.keys())[-1]) + 1  #generation new account number by getting the last number in keys\\n        data[accno] = [name,password,bal,security]\\n        print(\"\\\\n Your account number is : \",accno)\\n        print(\"\\\\n \\\\n Thanks for sign up and We will deliver you best....\")\\n        print(\"\\\\n\\\\n User the above account number for login.....\")',\n",
       "  'from getpass import getpass\\n\\ndef bank_application(data,operation):\\n    \\n    \"\"\"\\n        This function is for bank management of login and signup operation\\n        call the function ---> bank_application(data,opertaion)\\n        data --> dictionary type object\\n        operation --> string type object\\n    \"\"\"\\n    \\n    if operation.lower() == \"login\":\\n        accno = input(\"\\\\n Enter 4 digit number account number : \")\\n        if len(accno) == 4:\\n            if accno in data.keys():\\n                passwd = input(\"\\\\n Enter password : \")\\n                if data[accno][1] == passwd:\\n                    print(\"\\\\n Your details are : \")\\n                    #for i in data[acnno]:\\n                    print(\"*\"*80)\\n                    print(\"\\\\n Name : \",data[accno][0])\\n                    print(\"\\\\n Accnount Number : \",accno)\\n                    print(\"\\\\n Password : \",data[accno][1])\\n                    print(\"\\\\n Balance : \",data[accno][2])\\n                    print(\"\\\\n Your security answer : \",data[accno][3])\\n                    print(\"*\"*80)\\n                        \\n                else:\\n                    print(\"\\\\n Try again....Password does not matched....\")\\n            else:\\n                print(\"\\\\n No such accnount number...Please check\")\\n        else:\\n            print(\"\\\\n Invalid account number......\")\\n            \\n    elif operation.lower() == \"signup\":\\n        name = input(\"\\\\n Name : \")\\n        password = getpass(\"\\\\n Password : \")\\n        security = input(\"\\\\n Enter date of birth in form of ddmm : \")\\n        bal = eval(input(\"\\\\n Enter your initial balance : \"))\\n        accno = int(list(data.keys())[-1]) + 1  #generation new account number by getting the last number in keys\\n        data[accno] = [name,password,bal,security]\\n        print(\"\\\\n Your account number is : \",accno)\\n        print(\"\\\\n \\\\n Thanks for sign up and We will deliver you best....\")\\n        print(\"\\\\n\\\\n User the above account number for login.....\")\\n    else:\\n        print(\"\\\\n Operation not handled....\")',\n",
       "  'bank_application(data,\"login\")',\n",
       "  'bank_application(data,\"signup\")',\n",
       "  'data',\n",
       "  'get_ipython().run_cell_magic(\\'writefile\\', \\'bank_app.py\\', \\'\\\\n\"\"\"\\\\n    This file consists of bank app function use for performing banj operations\\\\n\"\"\"\\\\n\\\\nfrom getpass import getpass\\\\n\\\\n\\\\ndata = { \\\\\\'1001\\\\\\' : [\"simran\",\"passwd\",12000,\\\\\\'1601\\\\\\'],\\\\n              \\\\\\'1002\\\\\\' : [\"shahid\",\"admin\",10000,\\\\\\'2810\\\\\\'],\\\\n              \\\\\\'1003\\\\\\' : [\"rahul\",\"passpass\",13000,\\\\\\'0505\\\\\\'],\\\\n              \\\\\\'1004\\\\\\' : [\"tushar\",\"passwd\",12500,\\\\\\'1306\\\\\\']\\\\n            }\\\\n\\\\ndef bank_application(data,operation):\\\\n    \\\\n    \"\"\"\\\\n        This function is for bank management of login and signup operation\\\\n        call the function ---> bank_application(data,opertaion)\\\\n        data --> dictionary type object\\\\n        operation --> string type object\\\\n    \"\"\"\\\\n    \\\\n    if operation.lower() == \"login\":\\\\n        accno = input(\"\\\\\\\\n Enter 4 digit number account number : \")\\\\n        if len(accno) == 4:\\\\n            if accno in data.keys():\\\\n                passwd = input(\"\\\\\\\\n Enter password : \")\\\\n                if data[accno][1] == passwd:\\\\n                    print(\"\\\\\\\\n Your details are : \")\\\\n                    #for i in data[acnno]:\\\\n                    print(\"*\"*80)\\\\n                    print(\"\\\\\\\\n Name : \", data[accno][0])\\\\n                    print(\"\\\\\\\\n Accnount Number : \",accno)\\\\n                    print(\"\\\\\\\\n Password : \",data[accno][1])\\\\n                    print(\"\\\\\\\\n Balance : \",data[accno][2])\\\\n                    print(\"\\\\\\\\n Your security answer : \",data[accno][3])\\\\n                    print(\"*\"*80)\\\\n                        \\\\n                else:\\\\n                    print(\"\\\\\\\\n Try again....Password does not matched....\")\\\\n            else:\\\\n                print(\"\\\\\\\\n No such accnount number...Please check\")\\\\n        else:\\\\n            print(\"\\\\\\\\n Invalid account number......\")\\\\n            \\\\n    elif operation.lower() == \"signup\":\\\\n        name = input(\"\\\\\\\\n Name : \")\\\\n        password = getpass(\"\\\\\\\\n Password : \")\\\\n        security = input(\"\\\\\\\\n Enter date of birth in form of ddmm : \")\\\\n        bal = eval(input(\"\\\\\\\\n Enter your initial balance : \"))\\\\n        accno = int(list(data.keys())[-1]) + 1  #generation new account number by getting the last number in keys\\\\n        data[accno] = [name,password,bal,security]\\\\n        print(\"\\\\\\\\n Your account number is : \",accno)\\\\n        print(\"\\\\\\\\n \\\\\\\\n Thanks for sign up and We will deliver you best....\")\\\\n        print(\"\\\\\\\\n\\\\\\\\n User the above account number for login.....\")\\\\n    else:\\\\n        print(\"\\\\\\\\n Operation not handled....\")\\\\n\\')',\n",
       "  'get_ipython().run_cell_magic(\\'writefile\\', \\'bank_app.py\\', \\'\\\\n\"\"\"\\\\n    This file consists of bank app function use for performing banj operations\\\\n\"\"\"\\\\n\\\\nfrom getpass import getpass\\\\n\\\\n\\\\ndata = { \\\\\\'1001\\\\\\' : [\"simran\",\"passwd\",12000,\\\\\\'1601\\\\\\'],\\\\n              \\\\\\'1002\\\\\\' : [\"shahid\",\"admin\",10000,\\\\\\'2810\\\\\\'],\\\\n              \\\\\\'1003\\\\\\' : [\"rahul\",\"passpass\",13000,\\\\\\'0505\\\\\\'],\\\\n              \\\\\\'1004\\\\\\' : [\"tushar\",\"passwd\",12500,\\\\\\'1306\\\\\\']\\\\n            }\\\\n\\\\ndef bank_application(data,operation):\\\\n    \\\\n    \"\"\"\\\\n        This function is for bank management of login and signup operation\\\\n        call the function ---> bank_application(data,opertaion)\\\\n        data --> dictionary type object\\\\n        operation --> string type object\\\\n    \"\"\"\\\\n    \\\\n    if operation.lower() == \"login\":\\\\n        accno = input(\"\\\\\\\\n Enter 4 digit number account number : \")\\\\n        if len(accno) == 4:\\\\n            if accno in data.keys():\\\\n                passwd = input(\"\\\\\\\\n Enter password : \")\\\\n                if data[accno][1] == passwd:\\\\n                    print(\"\\\\\\\\n Your details are : \")\\\\n                    #for i in data[acnno]:\\\\n                    print(\"*\"*80)\\\\n                    print(\"\\\\\\\\n Name : \", data[accno][0])\\\\n                    print(\"\\\\\\\\n Accnount Number : \",accno)\\\\n                    print(\"\\\\\\\\n Password : \",data[accno][1])\\\\n                    print(\"\\\\\\\\n Balance : \",data[accno][2])\\\\n                    print(\"\\\\\\\\n Your security answer : \",data[accno][3])\\\\n                    print(\"*\"*80)\\\\n                        \\\\n                else:\\\\n                    print(\"\\\\\\\\n Try again....Password does not matched....\")\\\\n            else:\\\\n                print(\"\\\\\\\\n No such accnount number...Please check\")\\\\n        else:\\\\n            print(\"\\\\\\\\n Invalid account number......\")\\\\n            \\\\n    elif operation.lower() == \"signup\":\\\\n        name = input(\"\\\\\\\\n Name : \")\\\\n        password = getpass(\"\\\\\\\\n Password : \")\\\\n        security = input(\"\\\\\\\\n Enter date of birth in form of ddmm : \")\\\\n        bal = eval(input(\"\\\\\\\\n Enter your initial balance : \"))\\\\n        accno = int(list(data.keys())[-1]) + 1  #generation new account number by getting the last number in keys\\\\n        data[accno] = [name,password,bal,security]\\\\n        print(\"\\\\\\\\n Your account number is : \",accno)\\\\n        print(\"\\\\\\\\n \\\\\\\\n Thanks for sign up and We will deliver you best....\")\\\\n        print(\"\\\\\\\\n\\\\\\\\n User the above account number for login.....\")\\\\n    else:\\\\n        print(\"\\\\\\\\n Operation not handled....\")\\\\n        \\\\nbank_application(data,\"login\")\\\\n\\')',\n",
       "  'get_ipython().run_cell_magic(\\'writefile\\', \\'bank_app.py\\', \\'\\\\n\"\"\"\\\\n    This file consists of bank app function use for performing banj operations\\\\n\"\"\"\\\\n\\\\nfrom getpass import getpass\\\\n\\\\n\\\\ndata = { \\\\\\'1001\\\\\\' : [\"simran\", \"passwd\", 12000, \\\\\\'1601\\\\\\'],\\\\n              \\\\\\'1002\\\\\\' : [\"shahid\", \"admin\", 10000, \\\\\\'2810\\\\\\'],\\\\n              \\\\\\'1003\\\\\\' : [\"rahul\", \"passpass\", 13000, \\\\\\'0505\\\\\\'],\\\\n              \\\\\\'1004\\\\\\' : [\"tushar\", \"passwd\", 12500, \\\\\\'1306\\\\\\']\\\\n            }\\\\n\\\\ndef bank_application(data, operation):\\\\n    \\\\n    \"\"\"\\\\n        This function is for bank management of login and signup operation\\\\n        call the function ---> bank_application(data,opertaion)\\\\n        data --> dictionary type object\\\\n        operation --> string type object\\\\n    \"\"\"\\\\n    \\\\n    if operation.lower() == \"login\":\\\\n        accno = input(\"\\\\\\\\n Enter 4 digit number account number : \")\\\\n        if len(accno) == 4:\\\\n            if accno in data.keys():\\\\n                passwd = input(\"\\\\\\\\n Enter password : \")\\\\n                if data[accno][1] == passwd:\\\\n                    print(\"\\\\\\\\n Your details are : \")\\\\n                    #for i in data[acnno]:\\\\n                    print(\"*\"*80)\\\\n                    print(\"\\\\\\\\n Name : \", data[accno][0])\\\\n                    print(\"\\\\\\\\n Accnount Number : \", accno)\\\\n                    print(\"\\\\\\\\n Password : \", data[accno][1])\\\\n                    print(\"\\\\\\\\n Balance : \", data[accno][2])\\\\n                    print(\"\\\\\\\\n Your security answer : \", data[accno][3])\\\\n                    print(\"*\"*80)\\\\n                        \\\\n                else:\\\\n                    print(\"\\\\\\\\n Try again....Password does not matched....\")\\\\n            else:\\\\n                print(\"\\\\\\\\n No such accnount number...Please check\")\\\\n        else:\\\\n            print(\"\\\\\\\\n Invalid account number......\")\\\\n            \\\\n    elif operation.lower() == \"signup\":\\\\n        name = input(\"\\\\\\\\n Name : \")\\\\n        password = getpass(\"\\\\\\\\n Password : \")\\\\n        security = input(\"\\\\\\\\n Enter date of birth in form of ddmm : \")\\\\n        bal = eval(input(\"\\\\\\\\n Enter your initial balance : \"))\\\\n        accno = int(list(data.keys())[-1]) + 1  #generation new account number by getting the last number in keys\\\\n        data[accno] = [name,password,bal,security]\\\\n        print(\"\\\\\\\\n Your account number is : \", accno)\\\\n        print(\"\\\\\\\\n \\\\\\\\n Thanks for sign up and We will deliver you best....\")\\\\n        print(\"\\\\\\\\n\\\\\\\\n User the above account number for login.....\")\\\\n    else:\\\\n        print(\"\\\\\\\\n Operation not handled....\")\\\\n        \\\\nbank_application(data,\"login\")\\\\n\\')',\n",
       "  'get_ipython().run_cell_magic(\\'writefile\\', \\'bank_app.py\\', \\'\\\\n\"\"\"\\\\n    This file consists of bank app function use for performing banj operations\\\\n\"\"\"\\\\n\\\\nfrom getpass import getpass\\\\n\\\\n\\\\ndata = { \\\\\\'1001\\\\\\' : [\"simran\", \"passwd\", 12000, \\\\\\'1601\\\\\\'],\\\\n              \\\\\\'1002\\\\\\' : [\"shahid\", \"admin\", 10000, \\\\\\'2810\\\\\\'],\\\\n              \\\\\\'1003\\\\\\' : [\"rahul\", \"passpass\", 13000, \\\\\\'0505\\\\\\'],\\\\n              \\\\\\'1004\\\\\\' : [\"tushar\", \"passwd\", 12500, \\\\\\'1306\\\\\\']\\\\n            }\\\\n\\\\ndef bank_application(data, operation):\\\\n    \\\\n    \"\"\"\\\\n        This function is for bank management of login and signup operation\\\\n        call the function ---> bank_application(data,opertaion)\\\\n        data --> dictionary type object\\\\n        operation --> string type object\\\\n    \"\"\"\\\\n    \\\\n    if operation.lower() == \"login\":\\\\n        accno = input(\"\\\\\\\\n Enter 4 digit number account number : \")\\\\n        if len(accno) == 4:\\\\n            if accno in data.keys():\\\\n                passwd = input(\"\\\\\\\\n Enter password : \")\\\\n                if data[accno][1] == passwd:\\\\n                    print(\"\\\\\\\\n Your details are : \")\\\\n                    #for i in data[acnno]:\\\\n                    print(\"*\"*80)\\\\n                    print(\"\\\\\\\\n Name : \", data[accno][0])\\\\n                    print(\"\\\\\\\\n Accnount Number : \", accno)\\\\n                    print(\"\\\\\\\\n Password : \", data[accno][1])\\\\n                    print(\"\\\\\\\\n Balance : \", data[accno][2])\\\\n                    print(\"\\\\\\\\n Your security answer : \", data[accno][3])\\\\n                    print(\"*\"*80)\\\\n                        \\\\n                else:\\\\n                    print(\"\\\\\\\\n Try again....Password does not matched....\")\\\\n            else:\\\\n                print(\"\\\\\\\\n No such accnount number...Please check\")\\\\n        else:\\\\n            print(\"\\\\\\\\n Invalid account number......\")\\\\n            \\\\n    elif operation.lower() == \"signup\":\\\\n        name = input(\"\\\\\\\\n Name : \")\\\\n        password = getpass(\"\\\\\\\\n Password : \")\\\\n        security = input(\"\\\\\\\\n Enter date of birth in form of ddmm : \")\\\\n        bal = eval(input(\"\\\\\\\\n Enter your initial balance : \"))\\\\n        accno = int(list(data.keys())[-1]) + 1  #generation new account number by getting the last number in keys\\\\n        data[accno] = [name, password, bal, security]\\\\n        print(\"\\\\\\\\n Your account number is : \", accno)\\\\n        print(\"\\\\\\\\n \\\\\\\\n Thanks for sign up and We will deliver you best....\")\\\\n        print(\"\\\\\\\\n\\\\\\\\n User the above account number for login.....\")\\\\n    else:\\\\n        print(\"\\\\\\\\n Operation not handled....\")\\\\n        \\\\nbank_application(data,\"login\")\\\\n\\')',\n",
       "  'get_ipython().run_cell_magic(\\'writefile\\', \\'bank_app.py\\', \\'\\\\n\"\"\"\\\\n    This file consists of bank app function use for performing banj operations\\\\n\"\"\"\\\\n\\\\nfrom getpass import getpass\\\\n\\\\n\\\\nData = { \\\\\\'1001\\\\\\' : [\"simran\", \"passwd\", 12000, \\\\\\'1601\\\\\\'], \\\\\\'1002\\\\\\' : [\"shahid\", \"admin\", 10000, \\\\\\'2810\\\\\\'], \\\\\\'1003\\\\\\' : [\"rahul\", \"passpass\", 13000, \\\\\\'0505\\\\\\'], \\\\\\'1004\\\\\\' : [\"tushar\", \"passwd\", 12500, \\\\\\'1306\\\\\\']}\\\\n\\\\ndef bank_application(data, operation):\\\\n    \\\\n    \"\"\"\\\\n        This function is for bank management of login and signup operation\\\\n        call the function ---> bank_application(data,opertaion)\\\\n        data --> dictionary type object\\\\n        operation --> string type object\\\\n    \"\"\"\\\\n    \\\\n    if operation.lower() == \"login\":\\\\n        accno = input(\"\\\\\\\\n Enter 4 digit number account number : \")\\\\n        if len(accno) == 4:\\\\n            if accno in data.keys():\\\\n                passwd = input(\"\\\\\\\\n Enter password : \")\\\\n                if data[accno][1] == passwd:\\\\n                    print(\"\\\\\\\\n Your details are : \")\\\\n                    #for i in data[acnno]:\\\\n                    print(\"*\"*80)\\\\n                    print(\"\\\\\\\\n Name : \", data[accno][0])\\\\n                    print(\"\\\\\\\\n Accnount Number : \", accno)\\\\n                    print(\"\\\\\\\\n Password : \", data[accno][1])\\\\n                    print(\"\\\\\\\\n Balance : \", data[accno][2])\\\\n                    print(\"\\\\\\\\n Your security answer : \", data[accno][3])\\\\n                    print(\"*\"*80)\\\\n                        \\\\n                else:\\\\n                    print(\"\\\\\\\\n Try again....Password does not matched....\")\\\\n            else:\\\\n                print(\"\\\\\\\\n No such accnount number...Please check\")\\\\n        else:\\\\n            print(\"\\\\\\\\n Invalid account number......\")\\\\n            \\\\n    elif operation.lower() == \"signup\":\\\\n        name = input(\"\\\\\\\\n Name : \")\\\\n        password = getpass(\"\\\\\\\\n Password : \")\\\\n        security = input(\"\\\\\\\\n Enter date of birth in form of ddmm : \")\\\\n        bal = eval(input(\"\\\\\\\\n Enter your initial balance : \"))\\\\n        accno = int(list(data.keys())[-1]) + 1  #generation new account number by getting the last number in keys\\\\n        data[accno] = [name, password, bal, security]\\\\n        print(\"\\\\\\\\n Your account number is : \", accno)\\\\n        print(\"\\\\\\\\n \\\\\\\\n Thanks for sign up and We will deliver you best....\")\\\\n        print(\"\\\\\\\\n\\\\\\\\n User the above account number for login.....\")\\\\n    else:\\\\n        print(\"\\\\\\\\n Operation not handled....\")\\\\n        \\\\nbank_application(data,\"login\")\\\\n\\')',\n",
       "  'get_ipython().run_cell_magic(\\'writefile\\', \\'bank_app.py\\', \\'\\\\n\"\"\"\\\\n    This file consists of bank app function use for performing banj operations\\\\n\"\"\"\\\\n\\\\nfrom getpass import getpass\\\\n\\\\n\\\\nData = { \\\\\\'1001\\\\\\' : [\"simran\", \"passwd\", 12000, \\\\\\'1601\\\\\\'], \\\\\\\\\\\\n        \\\\\\'1002\\\\\\' : [\"shahid\", \"admin\", 10000, \\\\\\'2810\\\\\\'], \\\\\\\\\\\\n        \\\\\\'1003\\\\\\' : [\"rahul\", \"passpass\", 13000, \\\\\\'0505\\\\\\'], \\\\\\\\\\\\n        \\\\\\'1004\\\\\\' : [\"tushar\", \"passwd\", 12500, \\\\\\'1306\\\\\\']}\\\\n\\\\ndef bank_application(data, operation):\\\\n    \\\\n    \"\"\"\\\\n        This function is for bank management of login and signup operation\\\\n        call the function ---> bank_application(data,opertaion)\\\\n        data --> dictionary type object\\\\n        operation --> string type object\\\\n    \"\"\"\\\\n    \\\\n    if operation.lower() == \"login\":\\\\n        accno = input(\"\\\\\\\\n Enter 4 digit number account number : \")\\\\n        if len(accno) == 4:\\\\n            if accno in data.keys():\\\\n                passwd = input(\"\\\\\\\\n Enter password : \")\\\\n                if data[accno][1] == passwd:\\\\n                    print(\"\\\\\\\\n Your details are : \")\\\\n                    #for i in data[acnno]:\\\\n                    print(\"*\"*80)\\\\n                    print(\"\\\\\\\\n Name : \", data[accno][0])\\\\n                    print(\"\\\\\\\\n Accnount Number : \", accno)\\\\n                    print(\"\\\\\\\\n Password : \", data[accno][1])\\\\n                    print(\"\\\\\\\\n Balance : \", data[accno][2])\\\\n                    print(\"\\\\\\\\n Your security answer : \", data[accno][3])\\\\n                    print(\"*\"*80)\\\\n                        \\\\n                else:\\\\n                    print(\"\\\\\\\\n Try again....Password does not matched....\")\\\\n            else:\\\\n                print(\"\\\\\\\\n No such accnount number...Please check\")\\\\n        else:\\\\n            print(\"\\\\\\\\n Invalid account number......\")\\\\n            \\\\n    elif operation.lower() == \"signup\":\\\\n        name = input(\"\\\\\\\\n Name : \")\\\\n        password = getpass(\"\\\\\\\\n Password : \")\\\\n        security = input(\"\\\\\\\\n Enter date of birth in form of ddmm : \")\\\\n        bal = eval(input(\"\\\\\\\\n Enter your initial balance : \"))\\\\n        accno = int(list(data.keys())[-1]) + 1  #generation new account number by getting the last number in keys\\\\n        data[accno] = [name, password, bal, security]\\\\n        print(\"\\\\\\\\n Your account number is : \", accno)\\\\n        print(\"\\\\\\\\n \\\\\\\\n Thanks for sign up and We will deliver you best....\")\\\\n        print(\"\\\\\\\\n\\\\\\\\n User the above account number for login.....\")\\\\n    else:\\\\n        print(\"\\\\\\\\n Operation not handled....\")\\\\n        \\\\nbank_application(data,\"login\")\\\\n\\')',\n",
       "  'get_ipython().run_cell_magic(\\'writefile\\', \\'bank_app.py\\', \\'\\\\n\"\"\"\\\\n    This file consists of bank app function use for performing banj operations\\\\n\"\"\"\\\\n\\\\nfrom getpass import getpass\\\\n\\\\n\\\\nData = { \\\\\\'1001\\\\\\' : [\"simran\", \"passwd\", 12000, \\\\\\'1601\\\\\\'], \\\\\\\\\\\\n        \\\\\\'1002\\\\\\' : [\"shahid\", \"admin\", 10000, \\\\\\'2810\\\\\\'], \\\\\\\\\\\\n        \\\\\\'1003\\\\\\' : [\"rahul\", \"passpass\", 13000, \\\\\\'0505\\\\\\'], \\\\\\\\\\\\n        \\\\\\'1004\\\\\\' : [\"tushar\", \"passwd\", 12500, \\\\\\'1306\\\\\\']}\\\\n\\\\ndef bank_application(data, operation):\\\\n    \\\\n    \"\"\"\\\\n        This function is for bank management of login and signup operation\\\\n        call the function ---> bank_application(data,opertaion)\\\\n        data --> dictionary type object\\\\n        operation --> string type object\\\\n    \"\"\"\\\\n    \\\\n    if operation.lower() == \"login\":\\\\n        accno = input(\"\\\\\\\\n Enter 4 digit number account number : \")\\\\n        if len(accno) == 4:\\\\n            if accno in data.keys():\\\\n                passwd = input(\"\\\\\\\\n Enter password : \")\\\\n                if data[accno][1] == passwd:\\\\n                    print(\"\\\\\\\\n Your details are : \")\\\\n                    #for i in data[acnno]:\\\\n                    print(\"*\"*80)\\\\n                    print(\"\\\\\\\\n Name : \", data[accno][0])\\\\n                    print(\"\\\\\\\\n Accnount Number : \", accno)\\\\n                    print(\"\\\\\\\\n Password : \", data[accno][1])\\\\n                    print(\"\\\\\\\\n Balance : \", data[accno][2])\\\\n                    print(\"\\\\\\\\n Your security answer : \", data[accno][3])\\\\n                    print(\"*\"*80)\\\\n                        \\\\n                else:\\\\n                    print(\"\\\\\\\\n Try again....Password does not matched....\")\\\\n            else:\\\\n                print(\"\\\\\\\\n No such accnount number...Please check\")\\\\n        else:\\\\n            print(\"\\\\\\\\n Invalid account number......\")\\\\n            \\\\n    elif operation.lower() == \"signup\":\\\\n        name = input(\"\\\\\\\\n Name : \")\\\\n        password = getpass(\"\\\\\\\\n Password : \")\\\\n        security = input(\"\\\\\\\\n Enter date of birth in form of ddmm : \")\\\\n        bal = eval(input(\"\\\\\\\\n Enter your initial balance : \"))\\\\n        accno = int(list(data.keys())[-1]) + 1  #generation new account number by getting the last number in keys\\\\n        data[accno] = [name, password, bal, security]\\\\n        print(\"\\\\\\\\n Your account number is : \", accno)\\\\n        print(\"\\\\\\\\n \\\\\\\\n Thanks for sign up and We will deliver you best....\")\\\\n        print(\"\\\\\\\\n\\\\\\\\n User the above account number for login.....\")\\\\n    else:\\\\n        print(\"\\\\\\\\n Operation not handled....\")\\\\n        \\\\nbank_application(data, \"login\")\\\\n\\')',\n",
       "  'get_ipython().run_cell_magic(\\'writefile\\', \\'bank_app.py\\', \\'\\\\n\"\"\"\\\\n    This file consists of bank app function use for performing banj operations\\\\n\"\"\"\\\\n\\\\nfrom getpass import getpass\\\\n\\\\n\\\\ndata = { \\\\\\'1001\\\\\\' : [\"simran\", \"passwd\", 12000, \\\\\\'1601\\\\\\'], \\\\\\\\\\\\n        \\\\\\'1002\\\\\\' : [\"shahid\", \"admin\", 10000, \\\\\\'2810\\\\\\'], \\\\\\\\\\\\n        \\\\\\'1003\\\\\\' : [\"rahul\", \"passpass\", 13000, \\\\\\'0505\\\\\\'], \\\\\\\\\\\\n        \\\\\\'1004\\\\\\' : [\"tushar\", \"passwd\", 12500, \\\\\\'1306\\\\\\']}\\\\n\\\\ndef bank_application(data, operation):\\\\n    \\\\n    \"\"\"\\\\n        This function is for bank management of login and signup operation\\\\n        call the function ---> bank_application(data,opertaion)\\\\n        data --> dictionary type object\\\\n        operation --> string type object\\\\n    \"\"\"\\\\n    \\\\n    if operation.lower() == \"login\":\\\\n        accno = input(\"\\\\\\\\n Enter 4 digit number account number : \")\\\\n        if len(accno) == 4:\\\\n            if accno in data.keys():\\\\n                passwd = input(\"\\\\\\\\n Enter password : \")\\\\n                if data[accno][1] == passwd:\\\\n                    print(\"\\\\\\\\n Your details are : \")\\\\n                    #for i in data[acnno]:\\\\n                    print(\"*\"*80)\\\\n                    print(\"\\\\\\\\n Name : \", data[accno][0])\\\\n                    print(\"\\\\\\\\n Accnount Number : \", accno)\\\\n                    print(\"\\\\\\\\n Password : \", data[accno][1])\\\\n                    print(\"\\\\\\\\n Balance : \", data[accno][2])\\\\n                    print(\"\\\\\\\\n Your security answer : \", data[accno][3])\\\\n                    print(\"*\"*80)\\\\n                        \\\\n                else:\\\\n                    print(\"\\\\\\\\n Try again....Password does not matched....\")\\\\n            else:\\\\n                print(\"\\\\\\\\n No such accnount number...Please check\")\\\\n        else:\\\\n            print(\"\\\\\\\\n Invalid account number......\")\\\\n            \\\\n    elif operation.lower() == \"signup\":\\\\n        name = input(\"\\\\\\\\n Name : \")\\\\n        password = getpass(\"\\\\\\\\n Password : \")\\\\n        security = input(\"\\\\\\\\n Enter date of birth in form of ddmm : \")\\\\n        bal = eval(input(\"\\\\\\\\n Enter your initial balance : \"))\\\\n        accno = int(list(data.keys())[-1]) + 1  #generation new account number by getting the last number in keys\\\\n        data[accno] = [name, password, bal, security]\\\\n        print(\"\\\\\\\\n Your account number is : \", accno)\\\\n        print(\"\\\\\\\\n \\\\\\\\n Thanks for sign up and We will deliver you best....\")\\\\n        print(\"\\\\\\\\n\\\\\\\\n User the above account number for login.....\")\\\\n    else:\\\\n        print(\"\\\\\\\\n Operation not handled....\")\\\\n        \\\\nbank_application(data, \"login\")\\\\n\\')',\n",
       "  'get_ipython().run_cell_magic(\\'writefile\\', \\'bank_app.py\\', \\'\\\\n\"\"\"\\\\n    This file consists of bank app function use for performing banj operations\\\\n\"\"\"\\\\n\\\\nfrom getpass import getpass\\\\n\\\\n\\\\ndata = {\\\\\\'1001\\\\\\' : [\"simran\", \"passwd\", 12000, \\\\\\'1601\\\\\\'], \\\\\\\\\\\\n        \\\\\\'1002\\\\\\' : [\"shahid\", \"admin\", 10000, \\\\\\'2810\\\\\\'], \\\\\\\\\\\\n        \\\\\\'1003\\\\\\' : [\"rahul\", \"passpass\", 13000, \\\\\\'0505\\\\\\'], \\\\\\\\\\\\n        \\\\\\'1004\\\\\\' : [\"tushar\", \"passwd\", 12500, \\\\\\'1306\\\\\\']}\\\\n\\\\ndef bank_application(data, operation):\\\\n    \\\\n    \"\"\"\\\\n        This function is for bank management of login and signup operation\\\\n        call the function ---> bank_application(data,opertaion)\\\\n        data --> dictionary type object\\\\n        operation --> string type object\\\\n    \"\"\"\\\\n    \\\\n    if operation.lower() == \"login\":\\\\n        accno = input(\"\\\\\\\\n Enter 4 digit number account number : \")\\\\n        if len(accno) == 4:\\\\n            if accno in data.keys():\\\\n                passwd = input(\"\\\\\\\\n Enter password : \")\\\\n                if data[accno][1] == passwd:\\\\n                    print(\"\\\\\\\\n Your details are : \")\\\\n                    #for i in data[acnno]:\\\\n                    print(\"*\"*80)\\\\n                    print(\"\\\\\\\\n Name : \", data[accno][0])\\\\n                    print(\"\\\\\\\\n Accnount Number : \", accno)\\\\n                    print(\"\\\\\\\\n Password : \", data[accno][1])\\\\n                    print(\"\\\\\\\\n Balance : \", data[accno][2])\\\\n                    print(\"\\\\\\\\n Your security answer : \", data[accno][3])\\\\n                    print(\"*\"*80)\\\\n                        \\\\n                else:\\\\n                    print(\"\\\\\\\\n Try again....Password does not matched....\")\\\\n            else:\\\\n                print(\"\\\\\\\\n No such accnount number...Please check\")\\\\n        else:\\\\n            print(\"\\\\\\\\n Invalid account number......\")\\\\n            \\\\n    elif operation.lower() == \"signup\":\\\\n        name = input(\"\\\\\\\\n Name : \")\\\\n        password = getpass(\"\\\\\\\\n Password : \")\\\\n        security = input(\"\\\\\\\\n Enter date of birth in form of ddmm : \")\\\\n        bal = eval(input(\"\\\\\\\\n Enter your initial balance : \"))\\\\n        accno = int(list(data.keys())[-1]) + 1  #generation new account number by getting the last number in keys\\\\n        data[accno] = [name, password, bal, security]\\\\n        print(\"\\\\\\\\n Your account number is : \", accno)\\\\n        print(\"\\\\\\\\n \\\\\\\\n Thanks for sign up and We will deliver you best....\")\\\\n        print(\"\\\\\\\\n\\\\\\\\n User the above account number for login.....\")\\\\n    else:\\\\n        print(\"\\\\\\\\n Operation not handled....\")\\\\n        \\\\nbank_application(data, \"login\")\\\\n\\')',\n",
       "  'def common(a,b=0,*args,**kwargs):\\n    print(\"Positional Argument : \",a)\\n    print(\"Default Argument : \",b)\\n    print(\"Variable Length : \",args)\\n    print(\"Keyword Argument : \",kwargs)\\n    \\ncommon()',\n",
       "  'common(10)',\n",
       "  'common(b=20,a=45)',\n",
       "  'common(23,90,12,34,56)',\n",
       "  'common(b=45,a=67,12,34,56)',\n",
       "  'common(b=45,a=67,12,131,4)',\n",
       "  'common(a=34,b=56,args=(1,2,3))',\n",
       "  'common(12,34,56,78,90,one=\"one\",two=\"two\",three=\"three\")',\n",
       "  'common',\n",
       "  'common(12)',\n",
       "  'def f():\\n    x = int(input(\"\\\\n Enter the value : \"))\\n    x = x * 23\\n    print(\"\\\\n The value of x is : \",x)\\n\\nf()\\nprint(\"\\\\n The value of x is : \",x)',\n",
       "  'def f():\\n    x = int(input(\"\\\\n Enter the value : \"))\\n    x = x * 23\\n    print(\"\\\\n The value of x is : \",x)\\n    return x\\n\\na = f()\\nprint(\"\\\\n A : \",a)\\nprint(\"\\\\n The value of x is : \",x)',\n",
       "  'globals()'],\n",
       " '_oh': {3: dict_keys(['1001', '1002', '1003', '1004', 1005]),\n",
       "  4: ['1001', '1002', '1003', '1004'],\n",
       "  5: '1004',\n",
       "  6: 1004,\n",
       "  7: 1005,\n",
       "  12: {'1001': ['simran', 'passwd', 12000, '1601'],\n",
       "   '1002': ['shahid', 'admin', 10000, '2810'],\n",
       "   '1003': ['rahul', 'passpass', 13000, '0505'],\n",
       "   '1004': ['tushar', 'passwd', 12500, '1306'],\n",
       "   1005: ['sachin', 'admin', 12000, '0303']},\n",
       "  30: <function __main__.common(a, b=0, *args, **kwargs)>},\n",
       " '_dh': ['C:\\\\batches\\\\online_batch\\\\batch_7pm'],\n",
       " 'In': ['',\n",
       "  'def bank_application(data):',\n",
       "  'data = { \\'1001\\' : [\"simran\",\"passwd\",12000,\\'1601\\'],\\n              \\'1002\\' : [\"shahid\",\"admin\",10000,\\'2810\\'],\\n              \\'1003\\' : [\"rahul\",\"passpass\",13000,\\'0505\\'],\\n              \\'1004\\' : [\"tushar\",\"passwd\",12500,\\'1306\\']\\n            }',\n",
       "  'data.keys()',\n",
       "  'list(data.keys())',\n",
       "  'list(data.keys())[-1]',\n",
       "  'int(list(data.keys())[-1])',\n",
       "  'int(list(data.keys())[-1]) + 1',\n",
       "  'from getpass import getpass\\n\\ndef bank_application(data,operation):\\n    \\n    \"\"\"\\n        This function is for bank management of login and signup operation\\n        call the function ---> bank_application(data,opertaion)\\n        data --> dictionary type object\\n        operation --> string type object\\n    \"\"\"\\n    \\n    if operation.lower() == \"login\":\\n        accno = input(\"\\\\n Enter 4 digit number account number : \")\\n        if len(accno) == 4:\\n            if accno in data.keys():\\n                passwd = input(\"\\\\n Enter password : \")\\n                if data[accno][1] == passwd:\\n                    print(\"\\\\n Your details are : \")\\n                    #for i in data[acnno]:\\n                    print(\"*\"*80)\\n                    print(\"\\\\n Name : \",data[accno][0])\\n                    print(\"\\\\n Accnount Number : \",accno)\\n                    print(\"\\\\n Password : \",data[accno][1])\\n                    print(\"\\\\n Balance : \",data[accno][2])\\n                    print(\"\\\\n Your security answer : \",data[accno][3])\\n                    print(\"*\"*80)\\n                        \\n                else:\\n                    print(\"\\\\n Try again....Password does not matched....\")\\n            else:\\n                print(\"\\\\n No such accnount number...Please check\")\\n        else:\\n            print(\"\\\\n Invalid account number......\")\\n            \\n    else operation.lower() == \"signup\":\\n        name = input(\"\\\\n Name : \")\\n        password = getpass(\"\\\\n Password : \")\\n        security = input(\"\\\\n Enter date of birth in form of ddmm : \")\\n        bal = eval(input(\"\\\\n Enter your initial balance : \"))\\n        accno = int(list(data.keys())[-1]) + 1  #generation new account number by getting the last number in keys\\n        data[accno] = [name,password,bal,security]\\n        print(\"\\\\n Your account number is : \",accno)\\n        print(\"\\\\n \\\\n Thanks for sign up and We will deliver you best....\")\\n        print(\"\\\\n\\\\n User the above account number for login.....\")',\n",
       "  'from getpass import getpass\\n\\ndef bank_application(data,operation):\\n    \\n    \"\"\"\\n        This function is for bank management of login and signup operation\\n        call the function ---> bank_application(data,opertaion)\\n        data --> dictionary type object\\n        operation --> string type object\\n    \"\"\"\\n    \\n    if operation.lower() == \"login\":\\n        accno = input(\"\\\\n Enter 4 digit number account number : \")\\n        if len(accno) == 4:\\n            if accno in data.keys():\\n                passwd = input(\"\\\\n Enter password : \")\\n                if data[accno][1] == passwd:\\n                    print(\"\\\\n Your details are : \")\\n                    #for i in data[acnno]:\\n                    print(\"*\"*80)\\n                    print(\"\\\\n Name : \",data[accno][0])\\n                    print(\"\\\\n Accnount Number : \",accno)\\n                    print(\"\\\\n Password : \",data[accno][1])\\n                    print(\"\\\\n Balance : \",data[accno][2])\\n                    print(\"\\\\n Your security answer : \",data[accno][3])\\n                    print(\"*\"*80)\\n                        \\n                else:\\n                    print(\"\\\\n Try again....Password does not matched....\")\\n            else:\\n                print(\"\\\\n No such accnount number...Please check\")\\n        else:\\n            print(\"\\\\n Invalid account number......\")\\n            \\n    elif operation.lower() == \"signup\":\\n        name = input(\"\\\\n Name : \")\\n        password = getpass(\"\\\\n Password : \")\\n        security = input(\"\\\\n Enter date of birth in form of ddmm : \")\\n        bal = eval(input(\"\\\\n Enter your initial balance : \"))\\n        accno = int(list(data.keys())[-1]) + 1  #generation new account number by getting the last number in keys\\n        data[accno] = [name,password,bal,security]\\n        print(\"\\\\n Your account number is : \",accno)\\n        print(\"\\\\n \\\\n Thanks for sign up and We will deliver you best....\")\\n        print(\"\\\\n\\\\n User the above account number for login.....\")\\n    else:\\n        print(\"\\\\n Operation not handled....\")',\n",
       "  'bank_application(data,\"login\")',\n",
       "  'bank_application(data,\"signup\")',\n",
       "  'data',\n",
       "  'get_ipython().run_cell_magic(\\'writefile\\', \\'bank_app.py\\', \\'\\\\n\"\"\"\\\\n    This file consists of bank app function use for performing banj operations\\\\n\"\"\"\\\\n\\\\nfrom getpass import getpass\\\\n\\\\n\\\\ndata = { \\\\\\'1001\\\\\\' : [\"simran\",\"passwd\",12000,\\\\\\'1601\\\\\\'],\\\\n              \\\\\\'1002\\\\\\' : [\"shahid\",\"admin\",10000,\\\\\\'2810\\\\\\'],\\\\n              \\\\\\'1003\\\\\\' : [\"rahul\",\"passpass\",13000,\\\\\\'0505\\\\\\'],\\\\n              \\\\\\'1004\\\\\\' : [\"tushar\",\"passwd\",12500,\\\\\\'1306\\\\\\']\\\\n            }\\\\n\\\\ndef bank_application(data,operation):\\\\n    \\\\n    \"\"\"\\\\n        This function is for bank management of login and signup operation\\\\n        call the function ---> bank_application(data,opertaion)\\\\n        data --> dictionary type object\\\\n        operation --> string type object\\\\n    \"\"\"\\\\n    \\\\n    if operation.lower() == \"login\":\\\\n        accno = input(\"\\\\\\\\n Enter 4 digit number account number : \")\\\\n        if len(accno) == 4:\\\\n            if accno in data.keys():\\\\n                passwd = input(\"\\\\\\\\n Enter password : \")\\\\n                if data[accno][1] == passwd:\\\\n                    print(\"\\\\\\\\n Your details are : \")\\\\n                    #for i in data[acnno]:\\\\n                    print(\"*\"*80)\\\\n                    print(\"\\\\\\\\n Name : \", data[accno][0])\\\\n                    print(\"\\\\\\\\n Accnount Number : \",accno)\\\\n                    print(\"\\\\\\\\n Password : \",data[accno][1])\\\\n                    print(\"\\\\\\\\n Balance : \",data[accno][2])\\\\n                    print(\"\\\\\\\\n Your security answer : \",data[accno][3])\\\\n                    print(\"*\"*80)\\\\n                        \\\\n                else:\\\\n                    print(\"\\\\\\\\n Try again....Password does not matched....\")\\\\n            else:\\\\n                print(\"\\\\\\\\n No such accnount number...Please check\")\\\\n        else:\\\\n            print(\"\\\\\\\\n Invalid account number......\")\\\\n            \\\\n    elif operation.lower() == \"signup\":\\\\n        name = input(\"\\\\\\\\n Name : \")\\\\n        password = getpass(\"\\\\\\\\n Password : \")\\\\n        security = input(\"\\\\\\\\n Enter date of birth in form of ddmm : \")\\\\n        bal = eval(input(\"\\\\\\\\n Enter your initial balance : \"))\\\\n        accno = int(list(data.keys())[-1]) + 1  #generation new account number by getting the last number in keys\\\\n        data[accno] = [name,password,bal,security]\\\\n        print(\"\\\\\\\\n Your account number is : \",accno)\\\\n        print(\"\\\\\\\\n \\\\\\\\n Thanks for sign up and We will deliver you best....\")\\\\n        print(\"\\\\\\\\n\\\\\\\\n User the above account number for login.....\")\\\\n    else:\\\\n        print(\"\\\\\\\\n Operation not handled....\")\\\\n\\')',\n",
       "  'get_ipython().run_cell_magic(\\'writefile\\', \\'bank_app.py\\', \\'\\\\n\"\"\"\\\\n    This file consists of bank app function use for performing banj operations\\\\n\"\"\"\\\\n\\\\nfrom getpass import getpass\\\\n\\\\n\\\\ndata = { \\\\\\'1001\\\\\\' : [\"simran\",\"passwd\",12000,\\\\\\'1601\\\\\\'],\\\\n              \\\\\\'1002\\\\\\' : [\"shahid\",\"admin\",10000,\\\\\\'2810\\\\\\'],\\\\n              \\\\\\'1003\\\\\\' : [\"rahul\",\"passpass\",13000,\\\\\\'0505\\\\\\'],\\\\n              \\\\\\'1004\\\\\\' : [\"tushar\",\"passwd\",12500,\\\\\\'1306\\\\\\']\\\\n            }\\\\n\\\\ndef bank_application(data,operation):\\\\n    \\\\n    \"\"\"\\\\n        This function is for bank management of login and signup operation\\\\n        call the function ---> bank_application(data,opertaion)\\\\n        data --> dictionary type object\\\\n        operation --> string type object\\\\n    \"\"\"\\\\n    \\\\n    if operation.lower() == \"login\":\\\\n        accno = input(\"\\\\\\\\n Enter 4 digit number account number : \")\\\\n        if len(accno) == 4:\\\\n            if accno in data.keys():\\\\n                passwd = input(\"\\\\\\\\n Enter password : \")\\\\n                if data[accno][1] == passwd:\\\\n                    print(\"\\\\\\\\n Your details are : \")\\\\n                    #for i in data[acnno]:\\\\n                    print(\"*\"*80)\\\\n                    print(\"\\\\\\\\n Name : \", data[accno][0])\\\\n                    print(\"\\\\\\\\n Accnount Number : \",accno)\\\\n                    print(\"\\\\\\\\n Password : \",data[accno][1])\\\\n                    print(\"\\\\\\\\n Balance : \",data[accno][2])\\\\n                    print(\"\\\\\\\\n Your security answer : \",data[accno][3])\\\\n                    print(\"*\"*80)\\\\n                        \\\\n                else:\\\\n                    print(\"\\\\\\\\n Try again....Password does not matched....\")\\\\n            else:\\\\n                print(\"\\\\\\\\n No such accnount number...Please check\")\\\\n        else:\\\\n            print(\"\\\\\\\\n Invalid account number......\")\\\\n            \\\\n    elif operation.lower() == \"signup\":\\\\n        name = input(\"\\\\\\\\n Name : \")\\\\n        password = getpass(\"\\\\\\\\n Password : \")\\\\n        security = input(\"\\\\\\\\n Enter date of birth in form of ddmm : \")\\\\n        bal = eval(input(\"\\\\\\\\n Enter your initial balance : \"))\\\\n        accno = int(list(data.keys())[-1]) + 1  #generation new account number by getting the last number in keys\\\\n        data[accno] = [name,password,bal,security]\\\\n        print(\"\\\\\\\\n Your account number is : \",accno)\\\\n        print(\"\\\\\\\\n \\\\\\\\n Thanks for sign up and We will deliver you best....\")\\\\n        print(\"\\\\\\\\n\\\\\\\\n User the above account number for login.....\")\\\\n    else:\\\\n        print(\"\\\\\\\\n Operation not handled....\")\\\\n        \\\\nbank_application(data,\"login\")\\\\n\\')',\n",
       "  'get_ipython().run_cell_magic(\\'writefile\\', \\'bank_app.py\\', \\'\\\\n\"\"\"\\\\n    This file consists of bank app function use for performing banj operations\\\\n\"\"\"\\\\n\\\\nfrom getpass import getpass\\\\n\\\\n\\\\ndata = { \\\\\\'1001\\\\\\' : [\"simran\", \"passwd\", 12000, \\\\\\'1601\\\\\\'],\\\\n              \\\\\\'1002\\\\\\' : [\"shahid\", \"admin\", 10000, \\\\\\'2810\\\\\\'],\\\\n              \\\\\\'1003\\\\\\' : [\"rahul\", \"passpass\", 13000, \\\\\\'0505\\\\\\'],\\\\n              \\\\\\'1004\\\\\\' : [\"tushar\", \"passwd\", 12500, \\\\\\'1306\\\\\\']\\\\n            }\\\\n\\\\ndef bank_application(data, operation):\\\\n    \\\\n    \"\"\"\\\\n        This function is for bank management of login and signup operation\\\\n        call the function ---> bank_application(data,opertaion)\\\\n        data --> dictionary type object\\\\n        operation --> string type object\\\\n    \"\"\"\\\\n    \\\\n    if operation.lower() == \"login\":\\\\n        accno = input(\"\\\\\\\\n Enter 4 digit number account number : \")\\\\n        if len(accno) == 4:\\\\n            if accno in data.keys():\\\\n                passwd = input(\"\\\\\\\\n Enter password : \")\\\\n                if data[accno][1] == passwd:\\\\n                    print(\"\\\\\\\\n Your details are : \")\\\\n                    #for i in data[acnno]:\\\\n                    print(\"*\"*80)\\\\n                    print(\"\\\\\\\\n Name : \", data[accno][0])\\\\n                    print(\"\\\\\\\\n Accnount Number : \", accno)\\\\n                    print(\"\\\\\\\\n Password : \", data[accno][1])\\\\n                    print(\"\\\\\\\\n Balance : \", data[accno][2])\\\\n                    print(\"\\\\\\\\n Your security answer : \", data[accno][3])\\\\n                    print(\"*\"*80)\\\\n                        \\\\n                else:\\\\n                    print(\"\\\\\\\\n Try again....Password does not matched....\")\\\\n            else:\\\\n                print(\"\\\\\\\\n No such accnount number...Please check\")\\\\n        else:\\\\n            print(\"\\\\\\\\n Invalid account number......\")\\\\n            \\\\n    elif operation.lower() == \"signup\":\\\\n        name = input(\"\\\\\\\\n Name : \")\\\\n        password = getpass(\"\\\\\\\\n Password : \")\\\\n        security = input(\"\\\\\\\\n Enter date of birth in form of ddmm : \")\\\\n        bal = eval(input(\"\\\\\\\\n Enter your initial balance : \"))\\\\n        accno = int(list(data.keys())[-1]) + 1  #generation new account number by getting the last number in keys\\\\n        data[accno] = [name,password,bal,security]\\\\n        print(\"\\\\\\\\n Your account number is : \", accno)\\\\n        print(\"\\\\\\\\n \\\\\\\\n Thanks for sign up and We will deliver you best....\")\\\\n        print(\"\\\\\\\\n\\\\\\\\n User the above account number for login.....\")\\\\n    else:\\\\n        print(\"\\\\\\\\n Operation not handled....\")\\\\n        \\\\nbank_application(data,\"login\")\\\\n\\')',\n",
       "  'get_ipython().run_cell_magic(\\'writefile\\', \\'bank_app.py\\', \\'\\\\n\"\"\"\\\\n    This file consists of bank app function use for performing banj operations\\\\n\"\"\"\\\\n\\\\nfrom getpass import getpass\\\\n\\\\n\\\\ndata = { \\\\\\'1001\\\\\\' : [\"simran\", \"passwd\", 12000, \\\\\\'1601\\\\\\'],\\\\n              \\\\\\'1002\\\\\\' : [\"shahid\", \"admin\", 10000, \\\\\\'2810\\\\\\'],\\\\n              \\\\\\'1003\\\\\\' : [\"rahul\", \"passpass\", 13000, \\\\\\'0505\\\\\\'],\\\\n              \\\\\\'1004\\\\\\' : [\"tushar\", \"passwd\", 12500, \\\\\\'1306\\\\\\']\\\\n            }\\\\n\\\\ndef bank_application(data, operation):\\\\n    \\\\n    \"\"\"\\\\n        This function is for bank management of login and signup operation\\\\n        call the function ---> bank_application(data,opertaion)\\\\n        data --> dictionary type object\\\\n        operation --> string type object\\\\n    \"\"\"\\\\n    \\\\n    if operation.lower() == \"login\":\\\\n        accno = input(\"\\\\\\\\n Enter 4 digit number account number : \")\\\\n        if len(accno) == 4:\\\\n            if accno in data.keys():\\\\n                passwd = input(\"\\\\\\\\n Enter password : \")\\\\n                if data[accno][1] == passwd:\\\\n                    print(\"\\\\\\\\n Your details are : \")\\\\n                    #for i in data[acnno]:\\\\n                    print(\"*\"*80)\\\\n                    print(\"\\\\\\\\n Name : \", data[accno][0])\\\\n                    print(\"\\\\\\\\n Accnount Number : \", accno)\\\\n                    print(\"\\\\\\\\n Password : \", data[accno][1])\\\\n                    print(\"\\\\\\\\n Balance : \", data[accno][2])\\\\n                    print(\"\\\\\\\\n Your security answer : \", data[accno][3])\\\\n                    print(\"*\"*80)\\\\n                        \\\\n                else:\\\\n                    print(\"\\\\\\\\n Try again....Password does not matched....\")\\\\n            else:\\\\n                print(\"\\\\\\\\n No such accnount number...Please check\")\\\\n        else:\\\\n            print(\"\\\\\\\\n Invalid account number......\")\\\\n            \\\\n    elif operation.lower() == \"signup\":\\\\n        name = input(\"\\\\\\\\n Name : \")\\\\n        password = getpass(\"\\\\\\\\n Password : \")\\\\n        security = input(\"\\\\\\\\n Enter date of birth in form of ddmm : \")\\\\n        bal = eval(input(\"\\\\\\\\n Enter your initial balance : \"))\\\\n        accno = int(list(data.keys())[-1]) + 1  #generation new account number by getting the last number in keys\\\\n        data[accno] = [name, password, bal, security]\\\\n        print(\"\\\\\\\\n Your account number is : \", accno)\\\\n        print(\"\\\\\\\\n \\\\\\\\n Thanks for sign up and We will deliver you best....\")\\\\n        print(\"\\\\\\\\n\\\\\\\\n User the above account number for login.....\")\\\\n    else:\\\\n        print(\"\\\\\\\\n Operation not handled....\")\\\\n        \\\\nbank_application(data,\"login\")\\\\n\\')',\n",
       "  'get_ipython().run_cell_magic(\\'writefile\\', \\'bank_app.py\\', \\'\\\\n\"\"\"\\\\n    This file consists of bank app function use for performing banj operations\\\\n\"\"\"\\\\n\\\\nfrom getpass import getpass\\\\n\\\\n\\\\nData = { \\\\\\'1001\\\\\\' : [\"simran\", \"passwd\", 12000, \\\\\\'1601\\\\\\'], \\\\\\'1002\\\\\\' : [\"shahid\", \"admin\", 10000, \\\\\\'2810\\\\\\'], \\\\\\'1003\\\\\\' : [\"rahul\", \"passpass\", 13000, \\\\\\'0505\\\\\\'], \\\\\\'1004\\\\\\' : [\"tushar\", \"passwd\", 12500, \\\\\\'1306\\\\\\']}\\\\n\\\\ndef bank_application(data, operation):\\\\n    \\\\n    \"\"\"\\\\n        This function is for bank management of login and signup operation\\\\n        call the function ---> bank_application(data,opertaion)\\\\n        data --> dictionary type object\\\\n        operation --> string type object\\\\n    \"\"\"\\\\n    \\\\n    if operation.lower() == \"login\":\\\\n        accno = input(\"\\\\\\\\n Enter 4 digit number account number : \")\\\\n        if len(accno) == 4:\\\\n            if accno in data.keys():\\\\n                passwd = input(\"\\\\\\\\n Enter password : \")\\\\n                if data[accno][1] == passwd:\\\\n                    print(\"\\\\\\\\n Your details are : \")\\\\n                    #for i in data[acnno]:\\\\n                    print(\"*\"*80)\\\\n                    print(\"\\\\\\\\n Name : \", data[accno][0])\\\\n                    print(\"\\\\\\\\n Accnount Number : \", accno)\\\\n                    print(\"\\\\\\\\n Password : \", data[accno][1])\\\\n                    print(\"\\\\\\\\n Balance : \", data[accno][2])\\\\n                    print(\"\\\\\\\\n Your security answer : \", data[accno][3])\\\\n                    print(\"*\"*80)\\\\n                        \\\\n                else:\\\\n                    print(\"\\\\\\\\n Try again....Password does not matched....\")\\\\n            else:\\\\n                print(\"\\\\\\\\n No such accnount number...Please check\")\\\\n        else:\\\\n            print(\"\\\\\\\\n Invalid account number......\")\\\\n            \\\\n    elif operation.lower() == \"signup\":\\\\n        name = input(\"\\\\\\\\n Name : \")\\\\n        password = getpass(\"\\\\\\\\n Password : \")\\\\n        security = input(\"\\\\\\\\n Enter date of birth in form of ddmm : \")\\\\n        bal = eval(input(\"\\\\\\\\n Enter your initial balance : \"))\\\\n        accno = int(list(data.keys())[-1]) + 1  #generation new account number by getting the last number in keys\\\\n        data[accno] = [name, password, bal, security]\\\\n        print(\"\\\\\\\\n Your account number is : \", accno)\\\\n        print(\"\\\\\\\\n \\\\\\\\n Thanks for sign up and We will deliver you best....\")\\\\n        print(\"\\\\\\\\n\\\\\\\\n User the above account number for login.....\")\\\\n    else:\\\\n        print(\"\\\\\\\\n Operation not handled....\")\\\\n        \\\\nbank_application(data,\"login\")\\\\n\\')',\n",
       "  'get_ipython().run_cell_magic(\\'writefile\\', \\'bank_app.py\\', \\'\\\\n\"\"\"\\\\n    This file consists of bank app function use for performing banj operations\\\\n\"\"\"\\\\n\\\\nfrom getpass import getpass\\\\n\\\\n\\\\nData = { \\\\\\'1001\\\\\\' : [\"simran\", \"passwd\", 12000, \\\\\\'1601\\\\\\'], \\\\\\\\\\\\n        \\\\\\'1002\\\\\\' : [\"shahid\", \"admin\", 10000, \\\\\\'2810\\\\\\'], \\\\\\\\\\\\n        \\\\\\'1003\\\\\\' : [\"rahul\", \"passpass\", 13000, \\\\\\'0505\\\\\\'], \\\\\\\\\\\\n        \\\\\\'1004\\\\\\' : [\"tushar\", \"passwd\", 12500, \\\\\\'1306\\\\\\']}\\\\n\\\\ndef bank_application(data, operation):\\\\n    \\\\n    \"\"\"\\\\n        This function is for bank management of login and signup operation\\\\n        call the function ---> bank_application(data,opertaion)\\\\n        data --> dictionary type object\\\\n        operation --> string type object\\\\n    \"\"\"\\\\n    \\\\n    if operation.lower() == \"login\":\\\\n        accno = input(\"\\\\\\\\n Enter 4 digit number account number : \")\\\\n        if len(accno) == 4:\\\\n            if accno in data.keys():\\\\n                passwd = input(\"\\\\\\\\n Enter password : \")\\\\n                if data[accno][1] == passwd:\\\\n                    print(\"\\\\\\\\n Your details are : \")\\\\n                    #for i in data[acnno]:\\\\n                    print(\"*\"*80)\\\\n                    print(\"\\\\\\\\n Name : \", data[accno][0])\\\\n                    print(\"\\\\\\\\n Accnount Number : \", accno)\\\\n                    print(\"\\\\\\\\n Password : \", data[accno][1])\\\\n                    print(\"\\\\\\\\n Balance : \", data[accno][2])\\\\n                    print(\"\\\\\\\\n Your security answer : \", data[accno][3])\\\\n                    print(\"*\"*80)\\\\n                        \\\\n                else:\\\\n                    print(\"\\\\\\\\n Try again....Password does not matched....\")\\\\n            else:\\\\n                print(\"\\\\\\\\n No such accnount number...Please check\")\\\\n        else:\\\\n            print(\"\\\\\\\\n Invalid account number......\")\\\\n            \\\\n    elif operation.lower() == \"signup\":\\\\n        name = input(\"\\\\\\\\n Name : \")\\\\n        password = getpass(\"\\\\\\\\n Password : \")\\\\n        security = input(\"\\\\\\\\n Enter date of birth in form of ddmm : \")\\\\n        bal = eval(input(\"\\\\\\\\n Enter your initial balance : \"))\\\\n        accno = int(list(data.keys())[-1]) + 1  #generation new account number by getting the last number in keys\\\\n        data[accno] = [name, password, bal, security]\\\\n        print(\"\\\\\\\\n Your account number is : \", accno)\\\\n        print(\"\\\\\\\\n \\\\\\\\n Thanks for sign up and We will deliver you best....\")\\\\n        print(\"\\\\\\\\n\\\\\\\\n User the above account number for login.....\")\\\\n    else:\\\\n        print(\"\\\\\\\\n Operation not handled....\")\\\\n        \\\\nbank_application(data,\"login\")\\\\n\\')',\n",
       "  'get_ipython().run_cell_magic(\\'writefile\\', \\'bank_app.py\\', \\'\\\\n\"\"\"\\\\n    This file consists of bank app function use for performing banj operations\\\\n\"\"\"\\\\n\\\\nfrom getpass import getpass\\\\n\\\\n\\\\nData = { \\\\\\'1001\\\\\\' : [\"simran\", \"passwd\", 12000, \\\\\\'1601\\\\\\'], \\\\\\\\\\\\n        \\\\\\'1002\\\\\\' : [\"shahid\", \"admin\", 10000, \\\\\\'2810\\\\\\'], \\\\\\\\\\\\n        \\\\\\'1003\\\\\\' : [\"rahul\", \"passpass\", 13000, \\\\\\'0505\\\\\\'], \\\\\\\\\\\\n        \\\\\\'1004\\\\\\' : [\"tushar\", \"passwd\", 12500, \\\\\\'1306\\\\\\']}\\\\n\\\\ndef bank_application(data, operation):\\\\n    \\\\n    \"\"\"\\\\n        This function is for bank management of login and signup operation\\\\n        call the function ---> bank_application(data,opertaion)\\\\n        data --> dictionary type object\\\\n        operation --> string type object\\\\n    \"\"\"\\\\n    \\\\n    if operation.lower() == \"login\":\\\\n        accno = input(\"\\\\\\\\n Enter 4 digit number account number : \")\\\\n        if len(accno) == 4:\\\\n            if accno in data.keys():\\\\n                passwd = input(\"\\\\\\\\n Enter password : \")\\\\n                if data[accno][1] == passwd:\\\\n                    print(\"\\\\\\\\n Your details are : \")\\\\n                    #for i in data[acnno]:\\\\n                    print(\"*\"*80)\\\\n                    print(\"\\\\\\\\n Name : \", data[accno][0])\\\\n                    print(\"\\\\\\\\n Accnount Number : \", accno)\\\\n                    print(\"\\\\\\\\n Password : \", data[accno][1])\\\\n                    print(\"\\\\\\\\n Balance : \", data[accno][2])\\\\n                    print(\"\\\\\\\\n Your security answer : \", data[accno][3])\\\\n                    print(\"*\"*80)\\\\n                        \\\\n                else:\\\\n                    print(\"\\\\\\\\n Try again....Password does not matched....\")\\\\n            else:\\\\n                print(\"\\\\\\\\n No such accnount number...Please check\")\\\\n        else:\\\\n            print(\"\\\\\\\\n Invalid account number......\")\\\\n            \\\\n    elif operation.lower() == \"signup\":\\\\n        name = input(\"\\\\\\\\n Name : \")\\\\n        password = getpass(\"\\\\\\\\n Password : \")\\\\n        security = input(\"\\\\\\\\n Enter date of birth in form of ddmm : \")\\\\n        bal = eval(input(\"\\\\\\\\n Enter your initial balance : \"))\\\\n        accno = int(list(data.keys())[-1]) + 1  #generation new account number by getting the last number in keys\\\\n        data[accno] = [name, password, bal, security]\\\\n        print(\"\\\\\\\\n Your account number is : \", accno)\\\\n        print(\"\\\\\\\\n \\\\\\\\n Thanks for sign up and We will deliver you best....\")\\\\n        print(\"\\\\\\\\n\\\\\\\\n User the above account number for login.....\")\\\\n    else:\\\\n        print(\"\\\\\\\\n Operation not handled....\")\\\\n        \\\\nbank_application(data, \"login\")\\\\n\\')',\n",
       "  'get_ipython().run_cell_magic(\\'writefile\\', \\'bank_app.py\\', \\'\\\\n\"\"\"\\\\n    This file consists of bank app function use for performing banj operations\\\\n\"\"\"\\\\n\\\\nfrom getpass import getpass\\\\n\\\\n\\\\ndata = { \\\\\\'1001\\\\\\' : [\"simran\", \"passwd\", 12000, \\\\\\'1601\\\\\\'], \\\\\\\\\\\\n        \\\\\\'1002\\\\\\' : [\"shahid\", \"admin\", 10000, \\\\\\'2810\\\\\\'], \\\\\\\\\\\\n        \\\\\\'1003\\\\\\' : [\"rahul\", \"passpass\", 13000, \\\\\\'0505\\\\\\'], \\\\\\\\\\\\n        \\\\\\'1004\\\\\\' : [\"tushar\", \"passwd\", 12500, \\\\\\'1306\\\\\\']}\\\\n\\\\ndef bank_application(data, operation):\\\\n    \\\\n    \"\"\"\\\\n        This function is for bank management of login and signup operation\\\\n        call the function ---> bank_application(data,opertaion)\\\\n        data --> dictionary type object\\\\n        operation --> string type object\\\\n    \"\"\"\\\\n    \\\\n    if operation.lower() == \"login\":\\\\n        accno = input(\"\\\\\\\\n Enter 4 digit number account number : \")\\\\n        if len(accno) == 4:\\\\n            if accno in data.keys():\\\\n                passwd = input(\"\\\\\\\\n Enter password : \")\\\\n                if data[accno][1] == passwd:\\\\n                    print(\"\\\\\\\\n Your details are : \")\\\\n                    #for i in data[acnno]:\\\\n                    print(\"*\"*80)\\\\n                    print(\"\\\\\\\\n Name : \", data[accno][0])\\\\n                    print(\"\\\\\\\\n Accnount Number : \", accno)\\\\n                    print(\"\\\\\\\\n Password : \", data[accno][1])\\\\n                    print(\"\\\\\\\\n Balance : \", data[accno][2])\\\\n                    print(\"\\\\\\\\n Your security answer : \", data[accno][3])\\\\n                    print(\"*\"*80)\\\\n                        \\\\n                else:\\\\n                    print(\"\\\\\\\\n Try again....Password does not matched....\")\\\\n            else:\\\\n                print(\"\\\\\\\\n No such accnount number...Please check\")\\\\n        else:\\\\n            print(\"\\\\\\\\n Invalid account number......\")\\\\n            \\\\n    elif operation.lower() == \"signup\":\\\\n        name = input(\"\\\\\\\\n Name : \")\\\\n        password = getpass(\"\\\\\\\\n Password : \")\\\\n        security = input(\"\\\\\\\\n Enter date of birth in form of ddmm : \")\\\\n        bal = eval(input(\"\\\\\\\\n Enter your initial balance : \"))\\\\n        accno = int(list(data.keys())[-1]) + 1  #generation new account number by getting the last number in keys\\\\n        data[accno] = [name, password, bal, security]\\\\n        print(\"\\\\\\\\n Your account number is : \", accno)\\\\n        print(\"\\\\\\\\n \\\\\\\\n Thanks for sign up and We will deliver you best....\")\\\\n        print(\"\\\\\\\\n\\\\\\\\n User the above account number for login.....\")\\\\n    else:\\\\n        print(\"\\\\\\\\n Operation not handled....\")\\\\n        \\\\nbank_application(data, \"login\")\\\\n\\')',\n",
       "  'get_ipython().run_cell_magic(\\'writefile\\', \\'bank_app.py\\', \\'\\\\n\"\"\"\\\\n    This file consists of bank app function use for performing banj operations\\\\n\"\"\"\\\\n\\\\nfrom getpass import getpass\\\\n\\\\n\\\\ndata = {\\\\\\'1001\\\\\\' : [\"simran\", \"passwd\", 12000, \\\\\\'1601\\\\\\'], \\\\\\\\\\\\n        \\\\\\'1002\\\\\\' : [\"shahid\", \"admin\", 10000, \\\\\\'2810\\\\\\'], \\\\\\\\\\\\n        \\\\\\'1003\\\\\\' : [\"rahul\", \"passpass\", 13000, \\\\\\'0505\\\\\\'], \\\\\\\\\\\\n        \\\\\\'1004\\\\\\' : [\"tushar\", \"passwd\", 12500, \\\\\\'1306\\\\\\']}\\\\n\\\\ndef bank_application(data, operation):\\\\n    \\\\n    \"\"\"\\\\n        This function is for bank management of login and signup operation\\\\n        call the function ---> bank_application(data,opertaion)\\\\n        data --> dictionary type object\\\\n        operation --> string type object\\\\n    \"\"\"\\\\n    \\\\n    if operation.lower() == \"login\":\\\\n        accno = input(\"\\\\\\\\n Enter 4 digit number account number : \")\\\\n        if len(accno) == 4:\\\\n            if accno in data.keys():\\\\n                passwd = input(\"\\\\\\\\n Enter password : \")\\\\n                if data[accno][1] == passwd:\\\\n                    print(\"\\\\\\\\n Your details are : \")\\\\n                    #for i in data[acnno]:\\\\n                    print(\"*\"*80)\\\\n                    print(\"\\\\\\\\n Name : \", data[accno][0])\\\\n                    print(\"\\\\\\\\n Accnount Number : \", accno)\\\\n                    print(\"\\\\\\\\n Password : \", data[accno][1])\\\\n                    print(\"\\\\\\\\n Balance : \", data[accno][2])\\\\n                    print(\"\\\\\\\\n Your security answer : \", data[accno][3])\\\\n                    print(\"*\"*80)\\\\n                        \\\\n                else:\\\\n                    print(\"\\\\\\\\n Try again....Password does not matched....\")\\\\n            else:\\\\n                print(\"\\\\\\\\n No such accnount number...Please check\")\\\\n        else:\\\\n            print(\"\\\\\\\\n Invalid account number......\")\\\\n            \\\\n    elif operation.lower() == \"signup\":\\\\n        name = input(\"\\\\\\\\n Name : \")\\\\n        password = getpass(\"\\\\\\\\n Password : \")\\\\n        security = input(\"\\\\\\\\n Enter date of birth in form of ddmm : \")\\\\n        bal = eval(input(\"\\\\\\\\n Enter your initial balance : \"))\\\\n        accno = int(list(data.keys())[-1]) + 1  #generation new account number by getting the last number in keys\\\\n        data[accno] = [name, password, bal, security]\\\\n        print(\"\\\\\\\\n Your account number is : \", accno)\\\\n        print(\"\\\\\\\\n \\\\\\\\n Thanks for sign up and We will deliver you best....\")\\\\n        print(\"\\\\\\\\n\\\\\\\\n User the above account number for login.....\")\\\\n    else:\\\\n        print(\"\\\\\\\\n Operation not handled....\")\\\\n        \\\\nbank_application(data, \"login\")\\\\n\\')',\n",
       "  'def common(a,b=0,*args,**kwargs):\\n    print(\"Positional Argument : \",a)\\n    print(\"Default Argument : \",b)\\n    print(\"Variable Length : \",args)\\n    print(\"Keyword Argument : \",kwargs)\\n    \\ncommon()',\n",
       "  'common(10)',\n",
       "  'common(b=20,a=45)',\n",
       "  'common(23,90,12,34,56)',\n",
       "  'common(b=45,a=67,12,34,56)',\n",
       "  'common(b=45,a=67,12,131,4)',\n",
       "  'common(a=34,b=56,args=(1,2,3))',\n",
       "  'common(12,34,56,78,90,one=\"one\",two=\"two\",three=\"three\")',\n",
       "  'common',\n",
       "  'common(12)',\n",
       "  'def f():\\n    x = int(input(\"\\\\n Enter the value : \"))\\n    x = x * 23\\n    print(\"\\\\n The value of x is : \",x)\\n\\nf()\\nprint(\"\\\\n The value of x is : \",x)',\n",
       "  'def f():\\n    x = int(input(\"\\\\n Enter the value : \"))\\n    x = x * 23\\n    print(\"\\\\n The value of x is : \",x)\\n    return x\\n\\na = f()\\nprint(\"\\\\n A : \",a)\\nprint(\"\\\\n The value of x is : \",x)',\n",
       "  'globals()'],\n",
       " 'Out': {3: dict_keys(['1001', '1002', '1003', '1004', 1005]),\n",
       "  4: ['1001', '1002', '1003', '1004'],\n",
       "  5: '1004',\n",
       "  6: 1004,\n",
       "  7: 1005,\n",
       "  12: {'1001': ['simran', 'passwd', 12000, '1601'],\n",
       "   '1002': ['shahid', 'admin', 10000, '2810'],\n",
       "   '1003': ['rahul', 'passpass', 13000, '0505'],\n",
       "   '1004': ['tushar', 'passwd', 12500, '1306'],\n",
       "   1005: ['sachin', 'admin', 12000, '0303']},\n",
       "  30: <function __main__.common(a, b=0, *args, **kwargs)>},\n",
       " 'get_ipython': <bound method InteractiveShell.get_ipython of <ipykernel.zmqshell.ZMQInteractiveShell object at 0x00000201EBB20448>>,\n",
       " 'exit': <IPython.core.autocall.ZMQExitAutocall at 0x201ebb4b048>,\n",
       " 'quit': <IPython.core.autocall.ZMQExitAutocall at 0x201ebb4b048>,\n",
       " '_': <function __main__.common(a, b=0, *args, **kwargs)>,\n",
       " '__': {'1001': ['simran', 'passwd', 12000, '1601'],\n",
       "  '1002': ['shahid', 'admin', 10000, '2810'],\n",
       "  '1003': ['rahul', 'passpass', 13000, '0505'],\n",
       "  '1004': ['tushar', 'passwd', 12500, '1306'],\n",
       "  1005: ['sachin', 'admin', 12000, '0303']},\n",
       " '___': 1005,\n",
       " '_i': 'def f():\\n    x = int(input(\"\\\\n Enter the value : \"))\\n    x = x * 23\\n    print(\"\\\\n The value of x is : \",x)\\n    return x\\n\\na = f()\\nprint(\"\\\\n A : \",a)\\nprint(\"\\\\n The value of x is : \",x)',\n",
       " '_ii': 'def f():\\n    x = int(input(\"\\\\n Enter the value : \"))\\n    x = x * 23\\n    print(\"\\\\n The value of x is : \",x)\\n\\nf()\\nprint(\"\\\\n The value of x is : \",x)',\n",
       " '_iii': 'common(12)',\n",
       " '_i1': 'def bank_application(data):',\n",
       " '_i2': 'data = { \\'1001\\' : [\"simran\",\"passwd\",12000,\\'1601\\'],\\n              \\'1002\\' : [\"shahid\",\"admin\",10000,\\'2810\\'],\\n              \\'1003\\' : [\"rahul\",\"passpass\",13000,\\'0505\\'],\\n              \\'1004\\' : [\"tushar\",\"passwd\",12500,\\'1306\\']\\n            }',\n",
       " 'data': {'1001': ['simran', 'passwd', 12000, '1601'],\n",
       "  '1002': ['shahid', 'admin', 10000, '2810'],\n",
       "  '1003': ['rahul', 'passpass', 13000, '0505'],\n",
       "  '1004': ['tushar', 'passwd', 12500, '1306'],\n",
       "  1005: ['sachin', 'admin', 12000, '0303']},\n",
       " '_i3': 'data.keys()',\n",
       " '_3': dict_keys(['1001', '1002', '1003', '1004', 1005]),\n",
       " '_i4': 'list(data.keys())',\n",
       " '_4': ['1001', '1002', '1003', '1004'],\n",
       " '_i5': 'list(data.keys())[-1]',\n",
       " '_5': '1004',\n",
       " '_i6': 'int(list(data.keys())[-1])',\n",
       " '_6': 1004,\n",
       " '_i7': 'int(list(data.keys())[-1]) + 1',\n",
       " '_7': 1005,\n",
       " '_i8': 'from getpass import getpass\\n\\ndef bank_application(data,operation):\\n    \\n    \"\"\"\\n        This function is for bank management of login and signup operation\\n        call the function ---> bank_application(data,opertaion)\\n        data --> dictionary type object\\n        operation --> string type object\\n    \"\"\"\\n    \\n    if operation.lower() == \"login\":\\n        accno = input(\"\\\\n Enter 4 digit number account number : \")\\n        if len(accno) == 4:\\n            if accno in data.keys():\\n                passwd = input(\"\\\\n Enter password : \")\\n                if data[accno][1] == passwd:\\n                    print(\"\\\\n Your details are : \")\\n                    #for i in data[acnno]:\\n                    print(\"*\"*80)\\n                    print(\"\\\\n Name : \",data[accno][0])\\n                    print(\"\\\\n Accnount Number : \",accno)\\n                    print(\"\\\\n Password : \",data[accno][1])\\n                    print(\"\\\\n Balance : \",data[accno][2])\\n                    print(\"\\\\n Your security answer : \",data[accno][3])\\n                    print(\"*\"*80)\\n                        \\n                else:\\n                    print(\"\\\\n Try again....Password does not matched....\")\\n            else:\\n                print(\"\\\\n No such accnount number...Please check\")\\n        else:\\n            print(\"\\\\n Invalid account number......\")\\n            \\n    else operation.lower() == \"signup\":\\n        name = input(\"\\\\n Name : \")\\n        password = getpass(\"\\\\n Password : \")\\n        security = input(\"\\\\n Enter date of birth in form of ddmm : \")\\n        bal = eval(input(\"\\\\n Enter your initial balance : \"))\\n        accno = int(list(data.keys())[-1]) + 1  #generation new account number by getting the last number in keys\\n        data[accno] = [name,password,bal,security]\\n        print(\"\\\\n Your account number is : \",accno)\\n        print(\"\\\\n \\\\n Thanks for sign up and We will deliver you best....\")\\n        print(\"\\\\n\\\\n User the above account number for login.....\")',\n",
       " '_i9': 'from getpass import getpass\\n\\ndef bank_application(data,operation):\\n    \\n    \"\"\"\\n        This function is for bank management of login and signup operation\\n        call the function ---> bank_application(data,opertaion)\\n        data --> dictionary type object\\n        operation --> string type object\\n    \"\"\"\\n    \\n    if operation.lower() == \"login\":\\n        accno = input(\"\\\\n Enter 4 digit number account number : \")\\n        if len(accno) == 4:\\n            if accno in data.keys():\\n                passwd = input(\"\\\\n Enter password : \")\\n                if data[accno][1] == passwd:\\n                    print(\"\\\\n Your details are : \")\\n                    #for i in data[acnno]:\\n                    print(\"*\"*80)\\n                    print(\"\\\\n Name : \",data[accno][0])\\n                    print(\"\\\\n Accnount Number : \",accno)\\n                    print(\"\\\\n Password : \",data[accno][1])\\n                    print(\"\\\\n Balance : \",data[accno][2])\\n                    print(\"\\\\n Your security answer : \",data[accno][3])\\n                    print(\"*\"*80)\\n                        \\n                else:\\n                    print(\"\\\\n Try again....Password does not matched....\")\\n            else:\\n                print(\"\\\\n No such accnount number...Please check\")\\n        else:\\n            print(\"\\\\n Invalid account number......\")\\n            \\n    elif operation.lower() == \"signup\":\\n        name = input(\"\\\\n Name : \")\\n        password = getpass(\"\\\\n Password : \")\\n        security = input(\"\\\\n Enter date of birth in form of ddmm : \")\\n        bal = eval(input(\"\\\\n Enter your initial balance : \"))\\n        accno = int(list(data.keys())[-1]) + 1  #generation new account number by getting the last number in keys\\n        data[accno] = [name,password,bal,security]\\n        print(\"\\\\n Your account number is : \",accno)\\n        print(\"\\\\n \\\\n Thanks for sign up and We will deliver you best....\")\\n        print(\"\\\\n\\\\n User the above account number for login.....\")\\n    else:\\n        print(\"\\\\n Operation not handled....\")',\n",
       " 'getpass': <bound method Kernel.getpass of <ipykernel.ipkernel.IPythonKernel object at 0x00000201EBB201C8>>,\n",
       " 'bank_application': <function __main__.bank_application(data, operation)>,\n",
       " '_i10': 'bank_application(data,\"login\")',\n",
       " '_i11': 'bank_application(data,\"signup\")',\n",
       " '_i12': 'data',\n",
       " '_12': {'1001': ['simran', 'passwd', 12000, '1601'],\n",
       "  '1002': ['shahid', 'admin', 10000, '2810'],\n",
       "  '1003': ['rahul', 'passpass', 13000, '0505'],\n",
       "  '1004': ['tushar', 'passwd', 12500, '1306'],\n",
       "  1005: ['sachin', 'admin', 12000, '0303']},\n",
       " '_i13': '%%writefile bank_app.py\\n\\n\"\"\"\\n    This file consists of bank app function use for performing banj operations\\n\"\"\"\\n\\nfrom getpass import getpass\\n\\n\\ndata = { \\'1001\\' : [\"simran\",\"passwd\",12000,\\'1601\\'],\\n              \\'1002\\' : [\"shahid\",\"admin\",10000,\\'2810\\'],\\n              \\'1003\\' : [\"rahul\",\"passpass\",13000,\\'0505\\'],\\n              \\'1004\\' : [\"tushar\",\"passwd\",12500,\\'1306\\']\\n            }\\n\\ndef bank_application(data,operation):\\n    \\n    \"\"\"\\n        This function is for bank management of login and signup operation\\n        call the function ---> bank_application(data,opertaion)\\n        data --> dictionary type object\\n        operation --> string type object\\n    \"\"\"\\n    \\n    if operation.lower() == \"login\":\\n        accno = input(\"\\\\n Enter 4 digit number account number : \")\\n        if len(accno) == 4:\\n            if accno in data.keys():\\n                passwd = input(\"\\\\n Enter password : \")\\n                if data[accno][1] == passwd:\\n                    print(\"\\\\n Your details are : \")\\n                    #for i in data[acnno]:\\n                    print(\"*\"*80)\\n                    print(\"\\\\n Name : \", data[accno][0])\\n                    print(\"\\\\n Accnount Number : \",accno)\\n                    print(\"\\\\n Password : \",data[accno][1])\\n                    print(\"\\\\n Balance : \",data[accno][2])\\n                    print(\"\\\\n Your security answer : \",data[accno][3])\\n                    print(\"*\"*80)\\n                        \\n                else:\\n                    print(\"\\\\n Try again....Password does not matched....\")\\n            else:\\n                print(\"\\\\n No such accnount number...Please check\")\\n        else:\\n            print(\"\\\\n Invalid account number......\")\\n            \\n    elif operation.lower() == \"signup\":\\n        name = input(\"\\\\n Name : \")\\n        password = getpass(\"\\\\n Password : \")\\n        security = input(\"\\\\n Enter date of birth in form of ddmm : \")\\n        bal = eval(input(\"\\\\n Enter your initial balance : \"))\\n        accno = int(list(data.keys())[-1]) + 1  #generation new account number by getting the last number in keys\\n        data[accno] = [name,password,bal,security]\\n        print(\"\\\\n Your account number is : \",accno)\\n        print(\"\\\\n \\\\n Thanks for sign up and We will deliver you best....\")\\n        print(\"\\\\n\\\\n User the above account number for login.....\")\\n    else:\\n        print(\"\\\\n Operation not handled....\")',\n",
       " '_i14': '%%writefile bank_app.py\\n\\n\"\"\"\\n    This file consists of bank app function use for performing banj operations\\n\"\"\"\\n\\nfrom getpass import getpass\\n\\n\\ndata = { \\'1001\\' : [\"simran\",\"passwd\",12000,\\'1601\\'],\\n              \\'1002\\' : [\"shahid\",\"admin\",10000,\\'2810\\'],\\n              \\'1003\\' : [\"rahul\",\"passpass\",13000,\\'0505\\'],\\n              \\'1004\\' : [\"tushar\",\"passwd\",12500,\\'1306\\']\\n            }\\n\\ndef bank_application(data,operation):\\n    \\n    \"\"\"\\n        This function is for bank management of login and signup operation\\n        call the function ---> bank_application(data,opertaion)\\n        data --> dictionary type object\\n        operation --> string type object\\n    \"\"\"\\n    \\n    if operation.lower() == \"login\":\\n        accno = input(\"\\\\n Enter 4 digit number account number : \")\\n        if len(accno) == 4:\\n            if accno in data.keys():\\n                passwd = input(\"\\\\n Enter password : \")\\n                if data[accno][1] == passwd:\\n                    print(\"\\\\n Your details are : \")\\n                    #for i in data[acnno]:\\n                    print(\"*\"*80)\\n                    print(\"\\\\n Name : \", data[accno][0])\\n                    print(\"\\\\n Accnount Number : \",accno)\\n                    print(\"\\\\n Password : \",data[accno][1])\\n                    print(\"\\\\n Balance : \",data[accno][2])\\n                    print(\"\\\\n Your security answer : \",data[accno][3])\\n                    print(\"*\"*80)\\n                        \\n                else:\\n                    print(\"\\\\n Try again....Password does not matched....\")\\n            else:\\n                print(\"\\\\n No such accnount number...Please check\")\\n        else:\\n            print(\"\\\\n Invalid account number......\")\\n            \\n    elif operation.lower() == \"signup\":\\n        name = input(\"\\\\n Name : \")\\n        password = getpass(\"\\\\n Password : \")\\n        security = input(\"\\\\n Enter date of birth in form of ddmm : \")\\n        bal = eval(input(\"\\\\n Enter your initial balance : \"))\\n        accno = int(list(data.keys())[-1]) + 1  #generation new account number by getting the last number in keys\\n        data[accno] = [name,password,bal,security]\\n        print(\"\\\\n Your account number is : \",accno)\\n        print(\"\\\\n \\\\n Thanks for sign up and We will deliver you best....\")\\n        print(\"\\\\n\\\\n User the above account number for login.....\")\\n    else:\\n        print(\"\\\\n Operation not handled....\")\\n        \\nbank_application(data,\"login\")',\n",
       " '_i15': '%%writefile bank_app.py\\n\\n\"\"\"\\n    This file consists of bank app function use for performing banj operations\\n\"\"\"\\n\\nfrom getpass import getpass\\n\\n\\ndata = { \\'1001\\' : [\"simran\", \"passwd\", 12000, \\'1601\\'],\\n              \\'1002\\' : [\"shahid\", \"admin\", 10000, \\'2810\\'],\\n              \\'1003\\' : [\"rahul\", \"passpass\", 13000, \\'0505\\'],\\n              \\'1004\\' : [\"tushar\", \"passwd\", 12500, \\'1306\\']\\n            }\\n\\ndef bank_application(data, operation):\\n    \\n    \"\"\"\\n        This function is for bank management of login and signup operation\\n        call the function ---> bank_application(data,opertaion)\\n        data --> dictionary type object\\n        operation --> string type object\\n    \"\"\"\\n    \\n    if operation.lower() == \"login\":\\n        accno = input(\"\\\\n Enter 4 digit number account number : \")\\n        if len(accno) == 4:\\n            if accno in data.keys():\\n                passwd = input(\"\\\\n Enter password : \")\\n                if data[accno][1] == passwd:\\n                    print(\"\\\\n Your details are : \")\\n                    #for i in data[acnno]:\\n                    print(\"*\"*80)\\n                    print(\"\\\\n Name : \", data[accno][0])\\n                    print(\"\\\\n Accnount Number : \", accno)\\n                    print(\"\\\\n Password : \", data[accno][1])\\n                    print(\"\\\\n Balance : \", data[accno][2])\\n                    print(\"\\\\n Your security answer : \", data[accno][3])\\n                    print(\"*\"*80)\\n                        \\n                else:\\n                    print(\"\\\\n Try again....Password does not matched....\")\\n            else:\\n                print(\"\\\\n No such accnount number...Please check\")\\n        else:\\n            print(\"\\\\n Invalid account number......\")\\n            \\n    elif operation.lower() == \"signup\":\\n        name = input(\"\\\\n Name : \")\\n        password = getpass(\"\\\\n Password : \")\\n        security = input(\"\\\\n Enter date of birth in form of ddmm : \")\\n        bal = eval(input(\"\\\\n Enter your initial balance : \"))\\n        accno = int(list(data.keys())[-1]) + 1  #generation new account number by getting the last number in keys\\n        data[accno] = [name,password,bal,security]\\n        print(\"\\\\n Your account number is : \", accno)\\n        print(\"\\\\n \\\\n Thanks for sign up and We will deliver you best....\")\\n        print(\"\\\\n\\\\n User the above account number for login.....\")\\n    else:\\n        print(\"\\\\n Operation not handled....\")\\n        \\nbank_application(data,\"login\")',\n",
       " '_i16': '%%writefile bank_app.py\\n\\n\"\"\"\\n    This file consists of bank app function use for performing banj operations\\n\"\"\"\\n\\nfrom getpass import getpass\\n\\n\\ndata = { \\'1001\\' : [\"simran\", \"passwd\", 12000, \\'1601\\'],\\n              \\'1002\\' : [\"shahid\", \"admin\", 10000, \\'2810\\'],\\n              \\'1003\\' : [\"rahul\", \"passpass\", 13000, \\'0505\\'],\\n              \\'1004\\' : [\"tushar\", \"passwd\", 12500, \\'1306\\']\\n            }\\n\\ndef bank_application(data, operation):\\n    \\n    \"\"\"\\n        This function is for bank management of login and signup operation\\n        call the function ---> bank_application(data,opertaion)\\n        data --> dictionary type object\\n        operation --> string type object\\n    \"\"\"\\n    \\n    if operation.lower() == \"login\":\\n        accno = input(\"\\\\n Enter 4 digit number account number : \")\\n        if len(accno) == 4:\\n            if accno in data.keys():\\n                passwd = input(\"\\\\n Enter password : \")\\n                if data[accno][1] == passwd:\\n                    print(\"\\\\n Your details are : \")\\n                    #for i in data[acnno]:\\n                    print(\"*\"*80)\\n                    print(\"\\\\n Name : \", data[accno][0])\\n                    print(\"\\\\n Accnount Number : \", accno)\\n                    print(\"\\\\n Password : \", data[accno][1])\\n                    print(\"\\\\n Balance : \", data[accno][2])\\n                    print(\"\\\\n Your security answer : \", data[accno][3])\\n                    print(\"*\"*80)\\n                        \\n                else:\\n                    print(\"\\\\n Try again....Password does not matched....\")\\n            else:\\n                print(\"\\\\n No such accnount number...Please check\")\\n        else:\\n            print(\"\\\\n Invalid account number......\")\\n            \\n    elif operation.lower() == \"signup\":\\n        name = input(\"\\\\n Name : \")\\n        password = getpass(\"\\\\n Password : \")\\n        security = input(\"\\\\n Enter date of birth in form of ddmm : \")\\n        bal = eval(input(\"\\\\n Enter your initial balance : \"))\\n        accno = int(list(data.keys())[-1]) + 1  #generation new account number by getting the last number in keys\\n        data[accno] = [name, password, bal, security]\\n        print(\"\\\\n Your account number is : \", accno)\\n        print(\"\\\\n \\\\n Thanks for sign up and We will deliver you best....\")\\n        print(\"\\\\n\\\\n User the above account number for login.....\")\\n    else:\\n        print(\"\\\\n Operation not handled....\")\\n        \\nbank_application(data,\"login\")',\n",
       " '_i17': '%%writefile bank_app.py\\n\\n\"\"\"\\n    This file consists of bank app function use for performing banj operations\\n\"\"\"\\n\\nfrom getpass import getpass\\n\\n\\nData = { \\'1001\\' : [\"simran\", \"passwd\", 12000, \\'1601\\'], \\'1002\\' : [\"shahid\", \"admin\", 10000, \\'2810\\'], \\'1003\\' : [\"rahul\", \"passpass\", 13000, \\'0505\\'], \\'1004\\' : [\"tushar\", \"passwd\", 12500, \\'1306\\']}\\n\\ndef bank_application(data, operation):\\n    \\n    \"\"\"\\n        This function is for bank management of login and signup operation\\n        call the function ---> bank_application(data,opertaion)\\n        data --> dictionary type object\\n        operation --> string type object\\n    \"\"\"\\n    \\n    if operation.lower() == \"login\":\\n        accno = input(\"\\\\n Enter 4 digit number account number : \")\\n        if len(accno) == 4:\\n            if accno in data.keys():\\n                passwd = input(\"\\\\n Enter password : \")\\n                if data[accno][1] == passwd:\\n                    print(\"\\\\n Your details are : \")\\n                    #for i in data[acnno]:\\n                    print(\"*\"*80)\\n                    print(\"\\\\n Name : \", data[accno][0])\\n                    print(\"\\\\n Accnount Number : \", accno)\\n                    print(\"\\\\n Password : \", data[accno][1])\\n                    print(\"\\\\n Balance : \", data[accno][2])\\n                    print(\"\\\\n Your security answer : \", data[accno][3])\\n                    print(\"*\"*80)\\n                        \\n                else:\\n                    print(\"\\\\n Try again....Password does not matched....\")\\n            else:\\n                print(\"\\\\n No such accnount number...Please check\")\\n        else:\\n            print(\"\\\\n Invalid account number......\")\\n            \\n    elif operation.lower() == \"signup\":\\n        name = input(\"\\\\n Name : \")\\n        password = getpass(\"\\\\n Password : \")\\n        security = input(\"\\\\n Enter date of birth in form of ddmm : \")\\n        bal = eval(input(\"\\\\n Enter your initial balance : \"))\\n        accno = int(list(data.keys())[-1]) + 1  #generation new account number by getting the last number in keys\\n        data[accno] = [name, password, bal, security]\\n        print(\"\\\\n Your account number is : \", accno)\\n        print(\"\\\\n \\\\n Thanks for sign up and We will deliver you best....\")\\n        print(\"\\\\n\\\\n User the above account number for login.....\")\\n    else:\\n        print(\"\\\\n Operation not handled....\")\\n        \\nbank_application(data,\"login\")',\n",
       " '_i18': '%%writefile bank_app.py\\n\\n\"\"\"\\n    This file consists of bank app function use for performing banj operations\\n\"\"\"\\n\\nfrom getpass import getpass\\n\\n\\nData = { \\'1001\\' : [\"simran\", \"passwd\", 12000, \\'1601\\'], \\\\\\n        \\'1002\\' : [\"shahid\", \"admin\", 10000, \\'2810\\'], \\\\\\n        \\'1003\\' : [\"rahul\", \"passpass\", 13000, \\'0505\\'], \\\\\\n        \\'1004\\' : [\"tushar\", \"passwd\", 12500, \\'1306\\']}\\n\\ndef bank_application(data, operation):\\n    \\n    \"\"\"\\n        This function is for bank management of login and signup operation\\n        call the function ---> bank_application(data,opertaion)\\n        data --> dictionary type object\\n        operation --> string type object\\n    \"\"\"\\n    \\n    if operation.lower() == \"login\":\\n        accno = input(\"\\\\n Enter 4 digit number account number : \")\\n        if len(accno) == 4:\\n            if accno in data.keys():\\n                passwd = input(\"\\\\n Enter password : \")\\n                if data[accno][1] == passwd:\\n                    print(\"\\\\n Your details are : \")\\n                    #for i in data[acnno]:\\n                    print(\"*\"*80)\\n                    print(\"\\\\n Name : \", data[accno][0])\\n                    print(\"\\\\n Accnount Number : \", accno)\\n                    print(\"\\\\n Password : \", data[accno][1])\\n                    print(\"\\\\n Balance : \", data[accno][2])\\n                    print(\"\\\\n Your security answer : \", data[accno][3])\\n                    print(\"*\"*80)\\n                        \\n                else:\\n                    print(\"\\\\n Try again....Password does not matched....\")\\n            else:\\n                print(\"\\\\n No such accnount number...Please check\")\\n        else:\\n            print(\"\\\\n Invalid account number......\")\\n            \\n    elif operation.lower() == \"signup\":\\n        name = input(\"\\\\n Name : \")\\n        password = getpass(\"\\\\n Password : \")\\n        security = input(\"\\\\n Enter date of birth in form of ddmm : \")\\n        bal = eval(input(\"\\\\n Enter your initial balance : \"))\\n        accno = int(list(data.keys())[-1]) + 1  #generation new account number by getting the last number in keys\\n        data[accno] = [name, password, bal, security]\\n        print(\"\\\\n Your account number is : \", accno)\\n        print(\"\\\\n \\\\n Thanks for sign up and We will deliver you best....\")\\n        print(\"\\\\n\\\\n User the above account number for login.....\")\\n    else:\\n        print(\"\\\\n Operation not handled....\")\\n        \\nbank_application(data,\"login\")',\n",
       " '_i19': '%%writefile bank_app.py\\n\\n\"\"\"\\n    This file consists of bank app function use for performing banj operations\\n\"\"\"\\n\\nfrom getpass import getpass\\n\\n\\nData = { \\'1001\\' : [\"simran\", \"passwd\", 12000, \\'1601\\'], \\\\\\n        \\'1002\\' : [\"shahid\", \"admin\", 10000, \\'2810\\'], \\\\\\n        \\'1003\\' : [\"rahul\", \"passpass\", 13000, \\'0505\\'], \\\\\\n        \\'1004\\' : [\"tushar\", \"passwd\", 12500, \\'1306\\']}\\n\\ndef bank_application(data, operation):\\n    \\n    \"\"\"\\n        This function is for bank management of login and signup operation\\n        call the function ---> bank_application(data,opertaion)\\n        data --> dictionary type object\\n        operation --> string type object\\n    \"\"\"\\n    \\n    if operation.lower() == \"login\":\\n        accno = input(\"\\\\n Enter 4 digit number account number : \")\\n        if len(accno) == 4:\\n            if accno in data.keys():\\n                passwd = input(\"\\\\n Enter password : \")\\n                if data[accno][1] == passwd:\\n                    print(\"\\\\n Your details are : \")\\n                    #for i in data[acnno]:\\n                    print(\"*\"*80)\\n                    print(\"\\\\n Name : \", data[accno][0])\\n                    print(\"\\\\n Accnount Number : \", accno)\\n                    print(\"\\\\n Password : \", data[accno][1])\\n                    print(\"\\\\n Balance : \", data[accno][2])\\n                    print(\"\\\\n Your security answer : \", data[accno][3])\\n                    print(\"*\"*80)\\n                        \\n                else:\\n                    print(\"\\\\n Try again....Password does not matched....\")\\n            else:\\n                print(\"\\\\n No such accnount number...Please check\")\\n        else:\\n            print(\"\\\\n Invalid account number......\")\\n            \\n    elif operation.lower() == \"signup\":\\n        name = input(\"\\\\n Name : \")\\n        password = getpass(\"\\\\n Password : \")\\n        security = input(\"\\\\n Enter date of birth in form of ddmm : \")\\n        bal = eval(input(\"\\\\n Enter your initial balance : \"))\\n        accno = int(list(data.keys())[-1]) + 1  #generation new account number by getting the last number in keys\\n        data[accno] = [name, password, bal, security]\\n        print(\"\\\\n Your account number is : \", accno)\\n        print(\"\\\\n \\\\n Thanks for sign up and We will deliver you best....\")\\n        print(\"\\\\n\\\\n User the above account number for login.....\")\\n    else:\\n        print(\"\\\\n Operation not handled....\")\\n        \\nbank_application(data, \"login\")',\n",
       " '_i20': '%%writefile bank_app.py\\n\\n\"\"\"\\n    This file consists of bank app function use for performing banj operations\\n\"\"\"\\n\\nfrom getpass import getpass\\n\\n\\ndata = { \\'1001\\' : [\"simran\", \"passwd\", 12000, \\'1601\\'], \\\\\\n        \\'1002\\' : [\"shahid\", \"admin\", 10000, \\'2810\\'], \\\\\\n        \\'1003\\' : [\"rahul\", \"passpass\", 13000, \\'0505\\'], \\\\\\n        \\'1004\\' : [\"tushar\", \"passwd\", 12500, \\'1306\\']}\\n\\ndef bank_application(data, operation):\\n    \\n    \"\"\"\\n        This function is for bank management of login and signup operation\\n        call the function ---> bank_application(data,opertaion)\\n        data --> dictionary type object\\n        operation --> string type object\\n    \"\"\"\\n    \\n    if operation.lower() == \"login\":\\n        accno = input(\"\\\\n Enter 4 digit number account number : \")\\n        if len(accno) == 4:\\n            if accno in data.keys():\\n                passwd = input(\"\\\\n Enter password : \")\\n                if data[accno][1] == passwd:\\n                    print(\"\\\\n Your details are : \")\\n                    #for i in data[acnno]:\\n                    print(\"*\"*80)\\n                    print(\"\\\\n Name : \", data[accno][0])\\n                    print(\"\\\\n Accnount Number : \", accno)\\n                    print(\"\\\\n Password : \", data[accno][1])\\n                    print(\"\\\\n Balance : \", data[accno][2])\\n                    print(\"\\\\n Your security answer : \", data[accno][3])\\n                    print(\"*\"*80)\\n                        \\n                else:\\n                    print(\"\\\\n Try again....Password does not matched....\")\\n            else:\\n                print(\"\\\\n No such accnount number...Please check\")\\n        else:\\n            print(\"\\\\n Invalid account number......\")\\n            \\n    elif operation.lower() == \"signup\":\\n        name = input(\"\\\\n Name : \")\\n        password = getpass(\"\\\\n Password : \")\\n        security = input(\"\\\\n Enter date of birth in form of ddmm : \")\\n        bal = eval(input(\"\\\\n Enter your initial balance : \"))\\n        accno = int(list(data.keys())[-1]) + 1  #generation new account number by getting the last number in keys\\n        data[accno] = [name, password, bal, security]\\n        print(\"\\\\n Your account number is : \", accno)\\n        print(\"\\\\n \\\\n Thanks for sign up and We will deliver you best....\")\\n        print(\"\\\\n\\\\n User the above account number for login.....\")\\n    else:\\n        print(\"\\\\n Operation not handled....\")\\n        \\nbank_application(data, \"login\")',\n",
       " '_i21': '%%writefile bank_app.py\\n\\n\"\"\"\\n    This file consists of bank app function use for performing banj operations\\n\"\"\"\\n\\nfrom getpass import getpass\\n\\n\\ndata = {\\'1001\\' : [\"simran\", \"passwd\", 12000, \\'1601\\'], \\\\\\n        \\'1002\\' : [\"shahid\", \"admin\", 10000, \\'2810\\'], \\\\\\n        \\'1003\\' : [\"rahul\", \"passpass\", 13000, \\'0505\\'], \\\\\\n        \\'1004\\' : [\"tushar\", \"passwd\", 12500, \\'1306\\']}\\n\\ndef bank_application(data, operation):\\n    \\n    \"\"\"\\n        This function is for bank management of login and signup operation\\n        call the function ---> bank_application(data,opertaion)\\n        data --> dictionary type object\\n        operation --> string type object\\n    \"\"\"\\n    \\n    if operation.lower() == \"login\":\\n        accno = input(\"\\\\n Enter 4 digit number account number : \")\\n        if len(accno) == 4:\\n            if accno in data.keys():\\n                passwd = input(\"\\\\n Enter password : \")\\n                if data[accno][1] == passwd:\\n                    print(\"\\\\n Your details are : \")\\n                    #for i in data[acnno]:\\n                    print(\"*\"*80)\\n                    print(\"\\\\n Name : \", data[accno][0])\\n                    print(\"\\\\n Accnount Number : \", accno)\\n                    print(\"\\\\n Password : \", data[accno][1])\\n                    print(\"\\\\n Balance : \", data[accno][2])\\n                    print(\"\\\\n Your security answer : \", data[accno][3])\\n                    print(\"*\"*80)\\n                        \\n                else:\\n                    print(\"\\\\n Try again....Password does not matched....\")\\n            else:\\n                print(\"\\\\n No such accnount number...Please check\")\\n        else:\\n            print(\"\\\\n Invalid account number......\")\\n            \\n    elif operation.lower() == \"signup\":\\n        name = input(\"\\\\n Name : \")\\n        password = getpass(\"\\\\n Password : \")\\n        security = input(\"\\\\n Enter date of birth in form of ddmm : \")\\n        bal = eval(input(\"\\\\n Enter your initial balance : \"))\\n        accno = int(list(data.keys())[-1]) + 1  #generation new account number by getting the last number in keys\\n        data[accno] = [name, password, bal, security]\\n        print(\"\\\\n Your account number is : \", accno)\\n        print(\"\\\\n \\\\n Thanks for sign up and We will deliver you best....\")\\n        print(\"\\\\n\\\\n User the above account number for login.....\")\\n    else:\\n        print(\"\\\\n Operation not handled....\")\\n        \\nbank_application(data, \"login\")',\n",
       " '_i22': 'def common(a,b=0,*args,**kwargs):\\n    print(\"Positional Argument : \",a)\\n    print(\"Default Argument : \",b)\\n    print(\"Variable Length : \",args)\\n    print(\"Keyword Argument : \",kwargs)\\n    \\ncommon()',\n",
       " 'common': <function __main__.common(a, b=0, *args, **kwargs)>,\n",
       " '_i23': 'common(10)',\n",
       " '_i24': 'common(b=20,a=45)',\n",
       " '_i25': 'common(23,90,12,34,56)',\n",
       " '_i26': 'common(b=45,a=67,12,34,56)',\n",
       " '_i27': 'common(b=45,a=67,12,131,4)',\n",
       " '_i28': 'common(a=34,b=56,args=(1,2,3))',\n",
       " '_i29': 'common(12,34,56,78,90,one=\"one\",two=\"two\",three=\"three\")',\n",
       " '_i30': 'common',\n",
       " '_30': <function __main__.common(a, b=0, *args, **kwargs)>,\n",
       " '_i31': 'common(12)',\n",
       " '_i32': 'def f():\\n    x = int(input(\"\\\\n Enter the value : \"))\\n    x = x * 23\\n    print(\"\\\\n The value of x is : \",x)\\n\\nf()\\nprint(\"\\\\n The value of x is : \",x)',\n",
       " 'f': <function __main__.f()>,\n",
       " '_i33': 'def f():\\n    x = int(input(\"\\\\n Enter the value : \"))\\n    x = x * 23\\n    print(\"\\\\n The value of x is : \",x)\\n    return x\\n\\na = f()\\nprint(\"\\\\n A : \",a)\\nprint(\"\\\\n The value of x is : \",x)',\n",
       " 'a': 1035,\n",
       " '_i34': 'globals()'}"
      ]
     },
     "execution_count": 34,
     "metadata": {},
     "output_type": "execute_result"
    }
   ],
   "source": [
    "globals()"
   ]
  },
  {
   "cell_type": "code",
   "execution_count": 35,
   "metadata": {},
   "outputs": [
    {
     "data": {
      "text/plain": [
       "{'__name__': '__main__',\n",
       " '__doc__': 'Automatically created module for IPython interactive environment',\n",
       " '__package__': None,\n",
       " '__loader__': None,\n",
       " '__spec__': None,\n",
       " '__builtin__': <module 'builtins' (built-in)>,\n",
       " '__builtins__': <module 'builtins' (built-in)>,\n",
       " '_ih': ['',\n",
       "  'def bank_application(data):',\n",
       "  'data = { \\'1001\\' : [\"simran\",\"passwd\",12000,\\'1601\\'],\\n              \\'1002\\' : [\"shahid\",\"admin\",10000,\\'2810\\'],\\n              \\'1003\\' : [\"rahul\",\"passpass\",13000,\\'0505\\'],\\n              \\'1004\\' : [\"tushar\",\"passwd\",12500,\\'1306\\']\\n            }',\n",
       "  'data.keys()',\n",
       "  'list(data.keys())',\n",
       "  'list(data.keys())[-1]',\n",
       "  'int(list(data.keys())[-1])',\n",
       "  'int(list(data.keys())[-1]) + 1',\n",
       "  'from getpass import getpass\\n\\ndef bank_application(data,operation):\\n    \\n    \"\"\"\\n        This function is for bank management of login and signup operation\\n        call the function ---> bank_application(data,opertaion)\\n        data --> dictionary type object\\n        operation --> string type object\\n    \"\"\"\\n    \\n    if operation.lower() == \"login\":\\n        accno = input(\"\\\\n Enter 4 digit number account number : \")\\n        if len(accno) == 4:\\n            if accno in data.keys():\\n                passwd = input(\"\\\\n Enter password : \")\\n                if data[accno][1] == passwd:\\n                    print(\"\\\\n Your details are : \")\\n                    #for i in data[acnno]:\\n                    print(\"*\"*80)\\n                    print(\"\\\\n Name : \",data[accno][0])\\n                    print(\"\\\\n Accnount Number : \",accno)\\n                    print(\"\\\\n Password : \",data[accno][1])\\n                    print(\"\\\\n Balance : \",data[accno][2])\\n                    print(\"\\\\n Your security answer : \",data[accno][3])\\n                    print(\"*\"*80)\\n                        \\n                else:\\n                    print(\"\\\\n Try again....Password does not matched....\")\\n            else:\\n                print(\"\\\\n No such accnount number...Please check\")\\n        else:\\n            print(\"\\\\n Invalid account number......\")\\n            \\n    else operation.lower() == \"signup\":\\n        name = input(\"\\\\n Name : \")\\n        password = getpass(\"\\\\n Password : \")\\n        security = input(\"\\\\n Enter date of birth in form of ddmm : \")\\n        bal = eval(input(\"\\\\n Enter your initial balance : \"))\\n        accno = int(list(data.keys())[-1]) + 1  #generation new account number by getting the last number in keys\\n        data[accno] = [name,password,bal,security]\\n        print(\"\\\\n Your account number is : \",accno)\\n        print(\"\\\\n \\\\n Thanks for sign up and We will deliver you best....\")\\n        print(\"\\\\n\\\\n User the above account number for login.....\")',\n",
       "  'from getpass import getpass\\n\\ndef bank_application(data,operation):\\n    \\n    \"\"\"\\n        This function is for bank management of login and signup operation\\n        call the function ---> bank_application(data,opertaion)\\n        data --> dictionary type object\\n        operation --> string type object\\n    \"\"\"\\n    \\n    if operation.lower() == \"login\":\\n        accno = input(\"\\\\n Enter 4 digit number account number : \")\\n        if len(accno) == 4:\\n            if accno in data.keys():\\n                passwd = input(\"\\\\n Enter password : \")\\n                if data[accno][1] == passwd:\\n                    print(\"\\\\n Your details are : \")\\n                    #for i in data[acnno]:\\n                    print(\"*\"*80)\\n                    print(\"\\\\n Name : \",data[accno][0])\\n                    print(\"\\\\n Accnount Number : \",accno)\\n                    print(\"\\\\n Password : \",data[accno][1])\\n                    print(\"\\\\n Balance : \",data[accno][2])\\n                    print(\"\\\\n Your security answer : \",data[accno][3])\\n                    print(\"*\"*80)\\n                        \\n                else:\\n                    print(\"\\\\n Try again....Password does not matched....\")\\n            else:\\n                print(\"\\\\n No such accnount number...Please check\")\\n        else:\\n            print(\"\\\\n Invalid account number......\")\\n            \\n    elif operation.lower() == \"signup\":\\n        name = input(\"\\\\n Name : \")\\n        password = getpass(\"\\\\n Password : \")\\n        security = input(\"\\\\n Enter date of birth in form of ddmm : \")\\n        bal = eval(input(\"\\\\n Enter your initial balance : \"))\\n        accno = int(list(data.keys())[-1]) + 1  #generation new account number by getting the last number in keys\\n        data[accno] = [name,password,bal,security]\\n        print(\"\\\\n Your account number is : \",accno)\\n        print(\"\\\\n \\\\n Thanks for sign up and We will deliver you best....\")\\n        print(\"\\\\n\\\\n User the above account number for login.....\")\\n    else:\\n        print(\"\\\\n Operation not handled....\")',\n",
       "  'bank_application(data,\"login\")',\n",
       "  'bank_application(data,\"signup\")',\n",
       "  'data',\n",
       "  'get_ipython().run_cell_magic(\\'writefile\\', \\'bank_app.py\\', \\'\\\\n\"\"\"\\\\n    This file consists of bank app function use for performing banj operations\\\\n\"\"\"\\\\n\\\\nfrom getpass import getpass\\\\n\\\\n\\\\ndata = { \\\\\\'1001\\\\\\' : [\"simran\",\"passwd\",12000,\\\\\\'1601\\\\\\'],\\\\n              \\\\\\'1002\\\\\\' : [\"shahid\",\"admin\",10000,\\\\\\'2810\\\\\\'],\\\\n              \\\\\\'1003\\\\\\' : [\"rahul\",\"passpass\",13000,\\\\\\'0505\\\\\\'],\\\\n              \\\\\\'1004\\\\\\' : [\"tushar\",\"passwd\",12500,\\\\\\'1306\\\\\\']\\\\n            }\\\\n\\\\ndef bank_application(data,operation):\\\\n    \\\\n    \"\"\"\\\\n        This function is for bank management of login and signup operation\\\\n        call the function ---> bank_application(data,opertaion)\\\\n        data --> dictionary type object\\\\n        operation --> string type object\\\\n    \"\"\"\\\\n    \\\\n    if operation.lower() == \"login\":\\\\n        accno = input(\"\\\\\\\\n Enter 4 digit number account number : \")\\\\n        if len(accno) == 4:\\\\n            if accno in data.keys():\\\\n                passwd = input(\"\\\\\\\\n Enter password : \")\\\\n                if data[accno][1] == passwd:\\\\n                    print(\"\\\\\\\\n Your details are : \")\\\\n                    #for i in data[acnno]:\\\\n                    print(\"*\"*80)\\\\n                    print(\"\\\\\\\\n Name : \", data[accno][0])\\\\n                    print(\"\\\\\\\\n Accnount Number : \",accno)\\\\n                    print(\"\\\\\\\\n Password : \",data[accno][1])\\\\n                    print(\"\\\\\\\\n Balance : \",data[accno][2])\\\\n                    print(\"\\\\\\\\n Your security answer : \",data[accno][3])\\\\n                    print(\"*\"*80)\\\\n                        \\\\n                else:\\\\n                    print(\"\\\\\\\\n Try again....Password does not matched....\")\\\\n            else:\\\\n                print(\"\\\\\\\\n No such accnount number...Please check\")\\\\n        else:\\\\n            print(\"\\\\\\\\n Invalid account number......\")\\\\n            \\\\n    elif operation.lower() == \"signup\":\\\\n        name = input(\"\\\\\\\\n Name : \")\\\\n        password = getpass(\"\\\\\\\\n Password : \")\\\\n        security = input(\"\\\\\\\\n Enter date of birth in form of ddmm : \")\\\\n        bal = eval(input(\"\\\\\\\\n Enter your initial balance : \"))\\\\n        accno = int(list(data.keys())[-1]) + 1  #generation new account number by getting the last number in keys\\\\n        data[accno] = [name,password,bal,security]\\\\n        print(\"\\\\\\\\n Your account number is : \",accno)\\\\n        print(\"\\\\\\\\n \\\\\\\\n Thanks for sign up and We will deliver you best....\")\\\\n        print(\"\\\\\\\\n\\\\\\\\n User the above account number for login.....\")\\\\n    else:\\\\n        print(\"\\\\\\\\n Operation not handled....\")\\\\n\\')',\n",
       "  'get_ipython().run_cell_magic(\\'writefile\\', \\'bank_app.py\\', \\'\\\\n\"\"\"\\\\n    This file consists of bank app function use for performing banj operations\\\\n\"\"\"\\\\n\\\\nfrom getpass import getpass\\\\n\\\\n\\\\ndata = { \\\\\\'1001\\\\\\' : [\"simran\",\"passwd\",12000,\\\\\\'1601\\\\\\'],\\\\n              \\\\\\'1002\\\\\\' : [\"shahid\",\"admin\",10000,\\\\\\'2810\\\\\\'],\\\\n              \\\\\\'1003\\\\\\' : [\"rahul\",\"passpass\",13000,\\\\\\'0505\\\\\\'],\\\\n              \\\\\\'1004\\\\\\' : [\"tushar\",\"passwd\",12500,\\\\\\'1306\\\\\\']\\\\n            }\\\\n\\\\ndef bank_application(data,operation):\\\\n    \\\\n    \"\"\"\\\\n        This function is for bank management of login and signup operation\\\\n        call the function ---> bank_application(data,opertaion)\\\\n        data --> dictionary type object\\\\n        operation --> string type object\\\\n    \"\"\"\\\\n    \\\\n    if operation.lower() == \"login\":\\\\n        accno = input(\"\\\\\\\\n Enter 4 digit number account number : \")\\\\n        if len(accno) == 4:\\\\n            if accno in data.keys():\\\\n                passwd = input(\"\\\\\\\\n Enter password : \")\\\\n                if data[accno][1] == passwd:\\\\n                    print(\"\\\\\\\\n Your details are : \")\\\\n                    #for i in data[acnno]:\\\\n                    print(\"*\"*80)\\\\n                    print(\"\\\\\\\\n Name : \", data[accno][0])\\\\n                    print(\"\\\\\\\\n Accnount Number : \",accno)\\\\n                    print(\"\\\\\\\\n Password : \",data[accno][1])\\\\n                    print(\"\\\\\\\\n Balance : \",data[accno][2])\\\\n                    print(\"\\\\\\\\n Your security answer : \",data[accno][3])\\\\n                    print(\"*\"*80)\\\\n                        \\\\n                else:\\\\n                    print(\"\\\\\\\\n Try again....Password does not matched....\")\\\\n            else:\\\\n                print(\"\\\\\\\\n No such accnount number...Please check\")\\\\n        else:\\\\n            print(\"\\\\\\\\n Invalid account number......\")\\\\n            \\\\n    elif operation.lower() == \"signup\":\\\\n        name = input(\"\\\\\\\\n Name : \")\\\\n        password = getpass(\"\\\\\\\\n Password : \")\\\\n        security = input(\"\\\\\\\\n Enter date of birth in form of ddmm : \")\\\\n        bal = eval(input(\"\\\\\\\\n Enter your initial balance : \"))\\\\n        accno = int(list(data.keys())[-1]) + 1  #generation new account number by getting the last number in keys\\\\n        data[accno] = [name,password,bal,security]\\\\n        print(\"\\\\\\\\n Your account number is : \",accno)\\\\n        print(\"\\\\\\\\n \\\\\\\\n Thanks for sign up and We will deliver you best....\")\\\\n        print(\"\\\\\\\\n\\\\\\\\n User the above account number for login.....\")\\\\n    else:\\\\n        print(\"\\\\\\\\n Operation not handled....\")\\\\n        \\\\nbank_application(data,\"login\")\\\\n\\')',\n",
       "  'get_ipython().run_cell_magic(\\'writefile\\', \\'bank_app.py\\', \\'\\\\n\"\"\"\\\\n    This file consists of bank app function use for performing banj operations\\\\n\"\"\"\\\\n\\\\nfrom getpass import getpass\\\\n\\\\n\\\\ndata = { \\\\\\'1001\\\\\\' : [\"simran\", \"passwd\", 12000, \\\\\\'1601\\\\\\'],\\\\n              \\\\\\'1002\\\\\\' : [\"shahid\", \"admin\", 10000, \\\\\\'2810\\\\\\'],\\\\n              \\\\\\'1003\\\\\\' : [\"rahul\", \"passpass\", 13000, \\\\\\'0505\\\\\\'],\\\\n              \\\\\\'1004\\\\\\' : [\"tushar\", \"passwd\", 12500, \\\\\\'1306\\\\\\']\\\\n            }\\\\n\\\\ndef bank_application(data, operation):\\\\n    \\\\n    \"\"\"\\\\n        This function is for bank management of login and signup operation\\\\n        call the function ---> bank_application(data,opertaion)\\\\n        data --> dictionary type object\\\\n        operation --> string type object\\\\n    \"\"\"\\\\n    \\\\n    if operation.lower() == \"login\":\\\\n        accno = input(\"\\\\\\\\n Enter 4 digit number account number : \")\\\\n        if len(accno) == 4:\\\\n            if accno in data.keys():\\\\n                passwd = input(\"\\\\\\\\n Enter password : \")\\\\n                if data[accno][1] == passwd:\\\\n                    print(\"\\\\\\\\n Your details are : \")\\\\n                    #for i in data[acnno]:\\\\n                    print(\"*\"*80)\\\\n                    print(\"\\\\\\\\n Name : \", data[accno][0])\\\\n                    print(\"\\\\\\\\n Accnount Number : \", accno)\\\\n                    print(\"\\\\\\\\n Password : \", data[accno][1])\\\\n                    print(\"\\\\\\\\n Balance : \", data[accno][2])\\\\n                    print(\"\\\\\\\\n Your security answer : \", data[accno][3])\\\\n                    print(\"*\"*80)\\\\n                        \\\\n                else:\\\\n                    print(\"\\\\\\\\n Try again....Password does not matched....\")\\\\n            else:\\\\n                print(\"\\\\\\\\n No such accnount number...Please check\")\\\\n        else:\\\\n            print(\"\\\\\\\\n Invalid account number......\")\\\\n            \\\\n    elif operation.lower() == \"signup\":\\\\n        name = input(\"\\\\\\\\n Name : \")\\\\n        password = getpass(\"\\\\\\\\n Password : \")\\\\n        security = input(\"\\\\\\\\n Enter date of birth in form of ddmm : \")\\\\n        bal = eval(input(\"\\\\\\\\n Enter your initial balance : \"))\\\\n        accno = int(list(data.keys())[-1]) + 1  #generation new account number by getting the last number in keys\\\\n        data[accno] = [name,password,bal,security]\\\\n        print(\"\\\\\\\\n Your account number is : \", accno)\\\\n        print(\"\\\\\\\\n \\\\\\\\n Thanks for sign up and We will deliver you best....\")\\\\n        print(\"\\\\\\\\n\\\\\\\\n User the above account number for login.....\")\\\\n    else:\\\\n        print(\"\\\\\\\\n Operation not handled....\")\\\\n        \\\\nbank_application(data,\"login\")\\\\n\\')',\n",
       "  'get_ipython().run_cell_magic(\\'writefile\\', \\'bank_app.py\\', \\'\\\\n\"\"\"\\\\n    This file consists of bank app function use for performing banj operations\\\\n\"\"\"\\\\n\\\\nfrom getpass import getpass\\\\n\\\\n\\\\ndata = { \\\\\\'1001\\\\\\' : [\"simran\", \"passwd\", 12000, \\\\\\'1601\\\\\\'],\\\\n              \\\\\\'1002\\\\\\' : [\"shahid\", \"admin\", 10000, \\\\\\'2810\\\\\\'],\\\\n              \\\\\\'1003\\\\\\' : [\"rahul\", \"passpass\", 13000, \\\\\\'0505\\\\\\'],\\\\n              \\\\\\'1004\\\\\\' : [\"tushar\", \"passwd\", 12500, \\\\\\'1306\\\\\\']\\\\n            }\\\\n\\\\ndef bank_application(data, operation):\\\\n    \\\\n    \"\"\"\\\\n        This function is for bank management of login and signup operation\\\\n        call the function ---> bank_application(data,opertaion)\\\\n        data --> dictionary type object\\\\n        operation --> string type object\\\\n    \"\"\"\\\\n    \\\\n    if operation.lower() == \"login\":\\\\n        accno = input(\"\\\\\\\\n Enter 4 digit number account number : \")\\\\n        if len(accno) == 4:\\\\n            if accno in data.keys():\\\\n                passwd = input(\"\\\\\\\\n Enter password : \")\\\\n                if data[accno][1] == passwd:\\\\n                    print(\"\\\\\\\\n Your details are : \")\\\\n                    #for i in data[acnno]:\\\\n                    print(\"*\"*80)\\\\n                    print(\"\\\\\\\\n Name : \", data[accno][0])\\\\n                    print(\"\\\\\\\\n Accnount Number : \", accno)\\\\n                    print(\"\\\\\\\\n Password : \", data[accno][1])\\\\n                    print(\"\\\\\\\\n Balance : \", data[accno][2])\\\\n                    print(\"\\\\\\\\n Your security answer : \", data[accno][3])\\\\n                    print(\"*\"*80)\\\\n                        \\\\n                else:\\\\n                    print(\"\\\\\\\\n Try again....Password does not matched....\")\\\\n            else:\\\\n                print(\"\\\\\\\\n No such accnount number...Please check\")\\\\n        else:\\\\n            print(\"\\\\\\\\n Invalid account number......\")\\\\n            \\\\n    elif operation.lower() == \"signup\":\\\\n        name = input(\"\\\\\\\\n Name : \")\\\\n        password = getpass(\"\\\\\\\\n Password : \")\\\\n        security = input(\"\\\\\\\\n Enter date of birth in form of ddmm : \")\\\\n        bal = eval(input(\"\\\\\\\\n Enter your initial balance : \"))\\\\n        accno = int(list(data.keys())[-1]) + 1  #generation new account number by getting the last number in keys\\\\n        data[accno] = [name, password, bal, security]\\\\n        print(\"\\\\\\\\n Your account number is : \", accno)\\\\n        print(\"\\\\\\\\n \\\\\\\\n Thanks for sign up and We will deliver you best....\")\\\\n        print(\"\\\\\\\\n\\\\\\\\n User the above account number for login.....\")\\\\n    else:\\\\n        print(\"\\\\\\\\n Operation not handled....\")\\\\n        \\\\nbank_application(data,\"login\")\\\\n\\')',\n",
       "  'get_ipython().run_cell_magic(\\'writefile\\', \\'bank_app.py\\', \\'\\\\n\"\"\"\\\\n    This file consists of bank app function use for performing banj operations\\\\n\"\"\"\\\\n\\\\nfrom getpass import getpass\\\\n\\\\n\\\\nData = { \\\\\\'1001\\\\\\' : [\"simran\", \"passwd\", 12000, \\\\\\'1601\\\\\\'], \\\\\\'1002\\\\\\' : [\"shahid\", \"admin\", 10000, \\\\\\'2810\\\\\\'], \\\\\\'1003\\\\\\' : [\"rahul\", \"passpass\", 13000, \\\\\\'0505\\\\\\'], \\\\\\'1004\\\\\\' : [\"tushar\", \"passwd\", 12500, \\\\\\'1306\\\\\\']}\\\\n\\\\ndef bank_application(data, operation):\\\\n    \\\\n    \"\"\"\\\\n        This function is for bank management of login and signup operation\\\\n        call the function ---> bank_application(data,opertaion)\\\\n        data --> dictionary type object\\\\n        operation --> string type object\\\\n    \"\"\"\\\\n    \\\\n    if operation.lower() == \"login\":\\\\n        accno = input(\"\\\\\\\\n Enter 4 digit number account number : \")\\\\n        if len(accno) == 4:\\\\n            if accno in data.keys():\\\\n                passwd = input(\"\\\\\\\\n Enter password : \")\\\\n                if data[accno][1] == passwd:\\\\n                    print(\"\\\\\\\\n Your details are : \")\\\\n                    #for i in data[acnno]:\\\\n                    print(\"*\"*80)\\\\n                    print(\"\\\\\\\\n Name : \", data[accno][0])\\\\n                    print(\"\\\\\\\\n Accnount Number : \", accno)\\\\n                    print(\"\\\\\\\\n Password : \", data[accno][1])\\\\n                    print(\"\\\\\\\\n Balance : \", data[accno][2])\\\\n                    print(\"\\\\\\\\n Your security answer : \", data[accno][3])\\\\n                    print(\"*\"*80)\\\\n                        \\\\n                else:\\\\n                    print(\"\\\\\\\\n Try again....Password does not matched....\")\\\\n            else:\\\\n                print(\"\\\\\\\\n No such accnount number...Please check\")\\\\n        else:\\\\n            print(\"\\\\\\\\n Invalid account number......\")\\\\n            \\\\n    elif operation.lower() == \"signup\":\\\\n        name = input(\"\\\\\\\\n Name : \")\\\\n        password = getpass(\"\\\\\\\\n Password : \")\\\\n        security = input(\"\\\\\\\\n Enter date of birth in form of ddmm : \")\\\\n        bal = eval(input(\"\\\\\\\\n Enter your initial balance : \"))\\\\n        accno = int(list(data.keys())[-1]) + 1  #generation new account number by getting the last number in keys\\\\n        data[accno] = [name, password, bal, security]\\\\n        print(\"\\\\\\\\n Your account number is : \", accno)\\\\n        print(\"\\\\\\\\n \\\\\\\\n Thanks for sign up and We will deliver you best....\")\\\\n        print(\"\\\\\\\\n\\\\\\\\n User the above account number for login.....\")\\\\n    else:\\\\n        print(\"\\\\\\\\n Operation not handled....\")\\\\n        \\\\nbank_application(data,\"login\")\\\\n\\')',\n",
       "  'get_ipython().run_cell_magic(\\'writefile\\', \\'bank_app.py\\', \\'\\\\n\"\"\"\\\\n    This file consists of bank app function use for performing banj operations\\\\n\"\"\"\\\\n\\\\nfrom getpass import getpass\\\\n\\\\n\\\\nData = { \\\\\\'1001\\\\\\' : [\"simran\", \"passwd\", 12000, \\\\\\'1601\\\\\\'], \\\\\\\\\\\\n        \\\\\\'1002\\\\\\' : [\"shahid\", \"admin\", 10000, \\\\\\'2810\\\\\\'], \\\\\\\\\\\\n        \\\\\\'1003\\\\\\' : [\"rahul\", \"passpass\", 13000, \\\\\\'0505\\\\\\'], \\\\\\\\\\\\n        \\\\\\'1004\\\\\\' : [\"tushar\", \"passwd\", 12500, \\\\\\'1306\\\\\\']}\\\\n\\\\ndef bank_application(data, operation):\\\\n    \\\\n    \"\"\"\\\\n        This function is for bank management of login and signup operation\\\\n        call the function ---> bank_application(data,opertaion)\\\\n        data --> dictionary type object\\\\n        operation --> string type object\\\\n    \"\"\"\\\\n    \\\\n    if operation.lower() == \"login\":\\\\n        accno = input(\"\\\\\\\\n Enter 4 digit number account number : \")\\\\n        if len(accno) == 4:\\\\n            if accno in data.keys():\\\\n                passwd = input(\"\\\\\\\\n Enter password : \")\\\\n                if data[accno][1] == passwd:\\\\n                    print(\"\\\\\\\\n Your details are : \")\\\\n                    #for i in data[acnno]:\\\\n                    print(\"*\"*80)\\\\n                    print(\"\\\\\\\\n Name : \", data[accno][0])\\\\n                    print(\"\\\\\\\\n Accnount Number : \", accno)\\\\n                    print(\"\\\\\\\\n Password : \", data[accno][1])\\\\n                    print(\"\\\\\\\\n Balance : \", data[accno][2])\\\\n                    print(\"\\\\\\\\n Your security answer : \", data[accno][3])\\\\n                    print(\"*\"*80)\\\\n                        \\\\n                else:\\\\n                    print(\"\\\\\\\\n Try again....Password does not matched....\")\\\\n            else:\\\\n                print(\"\\\\\\\\n No such accnount number...Please check\")\\\\n        else:\\\\n            print(\"\\\\\\\\n Invalid account number......\")\\\\n            \\\\n    elif operation.lower() == \"signup\":\\\\n        name = input(\"\\\\\\\\n Name : \")\\\\n        password = getpass(\"\\\\\\\\n Password : \")\\\\n        security = input(\"\\\\\\\\n Enter date of birth in form of ddmm : \")\\\\n        bal = eval(input(\"\\\\\\\\n Enter your initial balance : \"))\\\\n        accno = int(list(data.keys())[-1]) + 1  #generation new account number by getting the last number in keys\\\\n        data[accno] = [name, password, bal, security]\\\\n        print(\"\\\\\\\\n Your account number is : \", accno)\\\\n        print(\"\\\\\\\\n \\\\\\\\n Thanks for sign up and We will deliver you best....\")\\\\n        print(\"\\\\\\\\n\\\\\\\\n User the above account number for login.....\")\\\\n    else:\\\\n        print(\"\\\\\\\\n Operation not handled....\")\\\\n        \\\\nbank_application(data,\"login\")\\\\n\\')',\n",
       "  'get_ipython().run_cell_magic(\\'writefile\\', \\'bank_app.py\\', \\'\\\\n\"\"\"\\\\n    This file consists of bank app function use for performing banj operations\\\\n\"\"\"\\\\n\\\\nfrom getpass import getpass\\\\n\\\\n\\\\nData = { \\\\\\'1001\\\\\\' : [\"simran\", \"passwd\", 12000, \\\\\\'1601\\\\\\'], \\\\\\\\\\\\n        \\\\\\'1002\\\\\\' : [\"shahid\", \"admin\", 10000, \\\\\\'2810\\\\\\'], \\\\\\\\\\\\n        \\\\\\'1003\\\\\\' : [\"rahul\", \"passpass\", 13000, \\\\\\'0505\\\\\\'], \\\\\\\\\\\\n        \\\\\\'1004\\\\\\' : [\"tushar\", \"passwd\", 12500, \\\\\\'1306\\\\\\']}\\\\n\\\\ndef bank_application(data, operation):\\\\n    \\\\n    \"\"\"\\\\n        This function is for bank management of login and signup operation\\\\n        call the function ---> bank_application(data,opertaion)\\\\n        data --> dictionary type object\\\\n        operation --> string type object\\\\n    \"\"\"\\\\n    \\\\n    if operation.lower() == \"login\":\\\\n        accno = input(\"\\\\\\\\n Enter 4 digit number account number : \")\\\\n        if len(accno) == 4:\\\\n            if accno in data.keys():\\\\n                passwd = input(\"\\\\\\\\n Enter password : \")\\\\n                if data[accno][1] == passwd:\\\\n                    print(\"\\\\\\\\n Your details are : \")\\\\n                    #for i in data[acnno]:\\\\n                    print(\"*\"*80)\\\\n                    print(\"\\\\\\\\n Name : \", data[accno][0])\\\\n                    print(\"\\\\\\\\n Accnount Number : \", accno)\\\\n                    print(\"\\\\\\\\n Password : \", data[accno][1])\\\\n                    print(\"\\\\\\\\n Balance : \", data[accno][2])\\\\n                    print(\"\\\\\\\\n Your security answer : \", data[accno][3])\\\\n                    print(\"*\"*80)\\\\n                        \\\\n                else:\\\\n                    print(\"\\\\\\\\n Try again....Password does not matched....\")\\\\n            else:\\\\n                print(\"\\\\\\\\n No such accnount number...Please check\")\\\\n        else:\\\\n            print(\"\\\\\\\\n Invalid account number......\")\\\\n            \\\\n    elif operation.lower() == \"signup\":\\\\n        name = input(\"\\\\\\\\n Name : \")\\\\n        password = getpass(\"\\\\\\\\n Password : \")\\\\n        security = input(\"\\\\\\\\n Enter date of birth in form of ddmm : \")\\\\n        bal = eval(input(\"\\\\\\\\n Enter your initial balance : \"))\\\\n        accno = int(list(data.keys())[-1]) + 1  #generation new account number by getting the last number in keys\\\\n        data[accno] = [name, password, bal, security]\\\\n        print(\"\\\\\\\\n Your account number is : \", accno)\\\\n        print(\"\\\\\\\\n \\\\\\\\n Thanks for sign up and We will deliver you best....\")\\\\n        print(\"\\\\\\\\n\\\\\\\\n User the above account number for login.....\")\\\\n    else:\\\\n        print(\"\\\\\\\\n Operation not handled....\")\\\\n        \\\\nbank_application(data, \"login\")\\\\n\\')',\n",
       "  'get_ipython().run_cell_magic(\\'writefile\\', \\'bank_app.py\\', \\'\\\\n\"\"\"\\\\n    This file consists of bank app function use for performing banj operations\\\\n\"\"\"\\\\n\\\\nfrom getpass import getpass\\\\n\\\\n\\\\ndata = { \\\\\\'1001\\\\\\' : [\"simran\", \"passwd\", 12000, \\\\\\'1601\\\\\\'], \\\\\\\\\\\\n        \\\\\\'1002\\\\\\' : [\"shahid\", \"admin\", 10000, \\\\\\'2810\\\\\\'], \\\\\\\\\\\\n        \\\\\\'1003\\\\\\' : [\"rahul\", \"passpass\", 13000, \\\\\\'0505\\\\\\'], \\\\\\\\\\\\n        \\\\\\'1004\\\\\\' : [\"tushar\", \"passwd\", 12500, \\\\\\'1306\\\\\\']}\\\\n\\\\ndef bank_application(data, operation):\\\\n    \\\\n    \"\"\"\\\\n        This function is for bank management of login and signup operation\\\\n        call the function ---> bank_application(data,opertaion)\\\\n        data --> dictionary type object\\\\n        operation --> string type object\\\\n    \"\"\"\\\\n    \\\\n    if operation.lower() == \"login\":\\\\n        accno = input(\"\\\\\\\\n Enter 4 digit number account number : \")\\\\n        if len(accno) == 4:\\\\n            if accno in data.keys():\\\\n                passwd = input(\"\\\\\\\\n Enter password : \")\\\\n                if data[accno][1] == passwd:\\\\n                    print(\"\\\\\\\\n Your details are : \")\\\\n                    #for i in data[acnno]:\\\\n                    print(\"*\"*80)\\\\n                    print(\"\\\\\\\\n Name : \", data[accno][0])\\\\n                    print(\"\\\\\\\\n Accnount Number : \", accno)\\\\n                    print(\"\\\\\\\\n Password : \", data[accno][1])\\\\n                    print(\"\\\\\\\\n Balance : \", data[accno][2])\\\\n                    print(\"\\\\\\\\n Your security answer : \", data[accno][3])\\\\n                    print(\"*\"*80)\\\\n                        \\\\n                else:\\\\n                    print(\"\\\\\\\\n Try again....Password does not matched....\")\\\\n            else:\\\\n                print(\"\\\\\\\\n No such accnount number...Please check\")\\\\n        else:\\\\n            print(\"\\\\\\\\n Invalid account number......\")\\\\n            \\\\n    elif operation.lower() == \"signup\":\\\\n        name = input(\"\\\\\\\\n Name : \")\\\\n        password = getpass(\"\\\\\\\\n Password : \")\\\\n        security = input(\"\\\\\\\\n Enter date of birth in form of ddmm : \")\\\\n        bal = eval(input(\"\\\\\\\\n Enter your initial balance : \"))\\\\n        accno = int(list(data.keys())[-1]) + 1  #generation new account number by getting the last number in keys\\\\n        data[accno] = [name, password, bal, security]\\\\n        print(\"\\\\\\\\n Your account number is : \", accno)\\\\n        print(\"\\\\\\\\n \\\\\\\\n Thanks for sign up and We will deliver you best....\")\\\\n        print(\"\\\\\\\\n\\\\\\\\n User the above account number for login.....\")\\\\n    else:\\\\n        print(\"\\\\\\\\n Operation not handled....\")\\\\n        \\\\nbank_application(data, \"login\")\\\\n\\')',\n",
       "  'get_ipython().run_cell_magic(\\'writefile\\', \\'bank_app.py\\', \\'\\\\n\"\"\"\\\\n    This file consists of bank app function use for performing banj operations\\\\n\"\"\"\\\\n\\\\nfrom getpass import getpass\\\\n\\\\n\\\\ndata = {\\\\\\'1001\\\\\\' : [\"simran\", \"passwd\", 12000, \\\\\\'1601\\\\\\'], \\\\\\\\\\\\n        \\\\\\'1002\\\\\\' : [\"shahid\", \"admin\", 10000, \\\\\\'2810\\\\\\'], \\\\\\\\\\\\n        \\\\\\'1003\\\\\\' : [\"rahul\", \"passpass\", 13000, \\\\\\'0505\\\\\\'], \\\\\\\\\\\\n        \\\\\\'1004\\\\\\' : [\"tushar\", \"passwd\", 12500, \\\\\\'1306\\\\\\']}\\\\n\\\\ndef bank_application(data, operation):\\\\n    \\\\n    \"\"\"\\\\n        This function is for bank management of login and signup operation\\\\n        call the function ---> bank_application(data,opertaion)\\\\n        data --> dictionary type object\\\\n        operation --> string type object\\\\n    \"\"\"\\\\n    \\\\n    if operation.lower() == \"login\":\\\\n        accno = input(\"\\\\\\\\n Enter 4 digit number account number : \")\\\\n        if len(accno) == 4:\\\\n            if accno in data.keys():\\\\n                passwd = input(\"\\\\\\\\n Enter password : \")\\\\n                if data[accno][1] == passwd:\\\\n                    print(\"\\\\\\\\n Your details are : \")\\\\n                    #for i in data[acnno]:\\\\n                    print(\"*\"*80)\\\\n                    print(\"\\\\\\\\n Name : \", data[accno][0])\\\\n                    print(\"\\\\\\\\n Accnount Number : \", accno)\\\\n                    print(\"\\\\\\\\n Password : \", data[accno][1])\\\\n                    print(\"\\\\\\\\n Balance : \", data[accno][2])\\\\n                    print(\"\\\\\\\\n Your security answer : \", data[accno][3])\\\\n                    print(\"*\"*80)\\\\n                        \\\\n                else:\\\\n                    print(\"\\\\\\\\n Try again....Password does not matched....\")\\\\n            else:\\\\n                print(\"\\\\\\\\n No such accnount number...Please check\")\\\\n        else:\\\\n            print(\"\\\\\\\\n Invalid account number......\")\\\\n            \\\\n    elif operation.lower() == \"signup\":\\\\n        name = input(\"\\\\\\\\n Name : \")\\\\n        password = getpass(\"\\\\\\\\n Password : \")\\\\n        security = input(\"\\\\\\\\n Enter date of birth in form of ddmm : \")\\\\n        bal = eval(input(\"\\\\\\\\n Enter your initial balance : \"))\\\\n        accno = int(list(data.keys())[-1]) + 1  #generation new account number by getting the last number in keys\\\\n        data[accno] = [name, password, bal, security]\\\\n        print(\"\\\\\\\\n Your account number is : \", accno)\\\\n        print(\"\\\\\\\\n \\\\\\\\n Thanks for sign up and We will deliver you best....\")\\\\n        print(\"\\\\\\\\n\\\\\\\\n User the above account number for login.....\")\\\\n    else:\\\\n        print(\"\\\\\\\\n Operation not handled....\")\\\\n        \\\\nbank_application(data, \"login\")\\\\n\\')',\n",
       "  'def common(a,b=0,*args,**kwargs):\\n    print(\"Positional Argument : \",a)\\n    print(\"Default Argument : \",b)\\n    print(\"Variable Length : \",args)\\n    print(\"Keyword Argument : \",kwargs)\\n    \\ncommon()',\n",
       "  'common(10)',\n",
       "  'common(b=20,a=45)',\n",
       "  'common(23,90,12,34,56)',\n",
       "  'common(b=45,a=67,12,34,56)',\n",
       "  'common(b=45,a=67,12,131,4)',\n",
       "  'common(a=34,b=56,args=(1,2,3))',\n",
       "  'common(12,34,56,78,90,one=\"one\",two=\"two\",three=\"three\")',\n",
       "  'common',\n",
       "  'common(12)',\n",
       "  'def f():\\n    x = int(input(\"\\\\n Enter the value : \"))\\n    x = x * 23\\n    print(\"\\\\n The value of x is : \",x)\\n\\nf()\\nprint(\"\\\\n The value of x is : \",x)',\n",
       "  'def f():\\n    x = int(input(\"\\\\n Enter the value : \"))\\n    x = x * 23\\n    print(\"\\\\n The value of x is : \",x)\\n    return x\\n\\na = f()\\nprint(\"\\\\n A : \",a)\\nprint(\"\\\\n The value of x is : \",x)',\n",
       "  'globals()',\n",
       "  'vars()'],\n",
       " '_oh': {3: dict_keys(['1001', '1002', '1003', '1004', 1005]),\n",
       "  4: ['1001', '1002', '1003', '1004'],\n",
       "  5: '1004',\n",
       "  6: 1004,\n",
       "  7: 1005,\n",
       "  12: {'1001': ['simran', 'passwd', 12000, '1601'],\n",
       "   '1002': ['shahid', 'admin', 10000, '2810'],\n",
       "   '1003': ['rahul', 'passpass', 13000, '0505'],\n",
       "   '1004': ['tushar', 'passwd', 12500, '1306'],\n",
       "   1005: ['sachin', 'admin', 12000, '0303']},\n",
       "  30: <function __main__.common(a, b=0, *args, **kwargs)>,\n",
       "  34: {...}},\n",
       " '_dh': ['C:\\\\batches\\\\online_batch\\\\batch_7pm'],\n",
       " 'In': ['',\n",
       "  'def bank_application(data):',\n",
       "  'data = { \\'1001\\' : [\"simran\",\"passwd\",12000,\\'1601\\'],\\n              \\'1002\\' : [\"shahid\",\"admin\",10000,\\'2810\\'],\\n              \\'1003\\' : [\"rahul\",\"passpass\",13000,\\'0505\\'],\\n              \\'1004\\' : [\"tushar\",\"passwd\",12500,\\'1306\\']\\n            }',\n",
       "  'data.keys()',\n",
       "  'list(data.keys())',\n",
       "  'list(data.keys())[-1]',\n",
       "  'int(list(data.keys())[-1])',\n",
       "  'int(list(data.keys())[-1]) + 1',\n",
       "  'from getpass import getpass\\n\\ndef bank_application(data,operation):\\n    \\n    \"\"\"\\n        This function is for bank management of login and signup operation\\n        call the function ---> bank_application(data,opertaion)\\n        data --> dictionary type object\\n        operation --> string type object\\n    \"\"\"\\n    \\n    if operation.lower() == \"login\":\\n        accno = input(\"\\\\n Enter 4 digit number account number : \")\\n        if len(accno) == 4:\\n            if accno in data.keys():\\n                passwd = input(\"\\\\n Enter password : \")\\n                if data[accno][1] == passwd:\\n                    print(\"\\\\n Your details are : \")\\n                    #for i in data[acnno]:\\n                    print(\"*\"*80)\\n                    print(\"\\\\n Name : \",data[accno][0])\\n                    print(\"\\\\n Accnount Number : \",accno)\\n                    print(\"\\\\n Password : \",data[accno][1])\\n                    print(\"\\\\n Balance : \",data[accno][2])\\n                    print(\"\\\\n Your security answer : \",data[accno][3])\\n                    print(\"*\"*80)\\n                        \\n                else:\\n                    print(\"\\\\n Try again....Password does not matched....\")\\n            else:\\n                print(\"\\\\n No such accnount number...Please check\")\\n        else:\\n            print(\"\\\\n Invalid account number......\")\\n            \\n    else operation.lower() == \"signup\":\\n        name = input(\"\\\\n Name : \")\\n        password = getpass(\"\\\\n Password : \")\\n        security = input(\"\\\\n Enter date of birth in form of ddmm : \")\\n        bal = eval(input(\"\\\\n Enter your initial balance : \"))\\n        accno = int(list(data.keys())[-1]) + 1  #generation new account number by getting the last number in keys\\n        data[accno] = [name,password,bal,security]\\n        print(\"\\\\n Your account number is : \",accno)\\n        print(\"\\\\n \\\\n Thanks for sign up and We will deliver you best....\")\\n        print(\"\\\\n\\\\n User the above account number for login.....\")',\n",
       "  'from getpass import getpass\\n\\ndef bank_application(data,operation):\\n    \\n    \"\"\"\\n        This function is for bank management of login and signup operation\\n        call the function ---> bank_application(data,opertaion)\\n        data --> dictionary type object\\n        operation --> string type object\\n    \"\"\"\\n    \\n    if operation.lower() == \"login\":\\n        accno = input(\"\\\\n Enter 4 digit number account number : \")\\n        if len(accno) == 4:\\n            if accno in data.keys():\\n                passwd = input(\"\\\\n Enter password : \")\\n                if data[accno][1] == passwd:\\n                    print(\"\\\\n Your details are : \")\\n                    #for i in data[acnno]:\\n                    print(\"*\"*80)\\n                    print(\"\\\\n Name : \",data[accno][0])\\n                    print(\"\\\\n Accnount Number : \",accno)\\n                    print(\"\\\\n Password : \",data[accno][1])\\n                    print(\"\\\\n Balance : \",data[accno][2])\\n                    print(\"\\\\n Your security answer : \",data[accno][3])\\n                    print(\"*\"*80)\\n                        \\n                else:\\n                    print(\"\\\\n Try again....Password does not matched....\")\\n            else:\\n                print(\"\\\\n No such accnount number...Please check\")\\n        else:\\n            print(\"\\\\n Invalid account number......\")\\n            \\n    elif operation.lower() == \"signup\":\\n        name = input(\"\\\\n Name : \")\\n        password = getpass(\"\\\\n Password : \")\\n        security = input(\"\\\\n Enter date of birth in form of ddmm : \")\\n        bal = eval(input(\"\\\\n Enter your initial balance : \"))\\n        accno = int(list(data.keys())[-1]) + 1  #generation new account number by getting the last number in keys\\n        data[accno] = [name,password,bal,security]\\n        print(\"\\\\n Your account number is : \",accno)\\n        print(\"\\\\n \\\\n Thanks for sign up and We will deliver you best....\")\\n        print(\"\\\\n\\\\n User the above account number for login.....\")\\n    else:\\n        print(\"\\\\n Operation not handled....\")',\n",
       "  'bank_application(data,\"login\")',\n",
       "  'bank_application(data,\"signup\")',\n",
       "  'data',\n",
       "  'get_ipython().run_cell_magic(\\'writefile\\', \\'bank_app.py\\', \\'\\\\n\"\"\"\\\\n    This file consists of bank app function use for performing banj operations\\\\n\"\"\"\\\\n\\\\nfrom getpass import getpass\\\\n\\\\n\\\\ndata = { \\\\\\'1001\\\\\\' : [\"simran\",\"passwd\",12000,\\\\\\'1601\\\\\\'],\\\\n              \\\\\\'1002\\\\\\' : [\"shahid\",\"admin\",10000,\\\\\\'2810\\\\\\'],\\\\n              \\\\\\'1003\\\\\\' : [\"rahul\",\"passpass\",13000,\\\\\\'0505\\\\\\'],\\\\n              \\\\\\'1004\\\\\\' : [\"tushar\",\"passwd\",12500,\\\\\\'1306\\\\\\']\\\\n            }\\\\n\\\\ndef bank_application(data,operation):\\\\n    \\\\n    \"\"\"\\\\n        This function is for bank management of login and signup operation\\\\n        call the function ---> bank_application(data,opertaion)\\\\n        data --> dictionary type object\\\\n        operation --> string type object\\\\n    \"\"\"\\\\n    \\\\n    if operation.lower() == \"login\":\\\\n        accno = input(\"\\\\\\\\n Enter 4 digit number account number : \")\\\\n        if len(accno) == 4:\\\\n            if accno in data.keys():\\\\n                passwd = input(\"\\\\\\\\n Enter password : \")\\\\n                if data[accno][1] == passwd:\\\\n                    print(\"\\\\\\\\n Your details are : \")\\\\n                    #for i in data[acnno]:\\\\n                    print(\"*\"*80)\\\\n                    print(\"\\\\\\\\n Name : \", data[accno][0])\\\\n                    print(\"\\\\\\\\n Accnount Number : \",accno)\\\\n                    print(\"\\\\\\\\n Password : \",data[accno][1])\\\\n                    print(\"\\\\\\\\n Balance : \",data[accno][2])\\\\n                    print(\"\\\\\\\\n Your security answer : \",data[accno][3])\\\\n                    print(\"*\"*80)\\\\n                        \\\\n                else:\\\\n                    print(\"\\\\\\\\n Try again....Password does not matched....\")\\\\n            else:\\\\n                print(\"\\\\\\\\n No such accnount number...Please check\")\\\\n        else:\\\\n            print(\"\\\\\\\\n Invalid account number......\")\\\\n            \\\\n    elif operation.lower() == \"signup\":\\\\n        name = input(\"\\\\\\\\n Name : \")\\\\n        password = getpass(\"\\\\\\\\n Password : \")\\\\n        security = input(\"\\\\\\\\n Enter date of birth in form of ddmm : \")\\\\n        bal = eval(input(\"\\\\\\\\n Enter your initial balance : \"))\\\\n        accno = int(list(data.keys())[-1]) + 1  #generation new account number by getting the last number in keys\\\\n        data[accno] = [name,password,bal,security]\\\\n        print(\"\\\\\\\\n Your account number is : \",accno)\\\\n        print(\"\\\\\\\\n \\\\\\\\n Thanks for sign up and We will deliver you best....\")\\\\n        print(\"\\\\\\\\n\\\\\\\\n User the above account number for login.....\")\\\\n    else:\\\\n        print(\"\\\\\\\\n Operation not handled....\")\\\\n\\')',\n",
       "  'get_ipython().run_cell_magic(\\'writefile\\', \\'bank_app.py\\', \\'\\\\n\"\"\"\\\\n    This file consists of bank app function use for performing banj operations\\\\n\"\"\"\\\\n\\\\nfrom getpass import getpass\\\\n\\\\n\\\\ndata = { \\\\\\'1001\\\\\\' : [\"simran\",\"passwd\",12000,\\\\\\'1601\\\\\\'],\\\\n              \\\\\\'1002\\\\\\' : [\"shahid\",\"admin\",10000,\\\\\\'2810\\\\\\'],\\\\n              \\\\\\'1003\\\\\\' : [\"rahul\",\"passpass\",13000,\\\\\\'0505\\\\\\'],\\\\n              \\\\\\'1004\\\\\\' : [\"tushar\",\"passwd\",12500,\\\\\\'1306\\\\\\']\\\\n            }\\\\n\\\\ndef bank_application(data,operation):\\\\n    \\\\n    \"\"\"\\\\n        This function is for bank management of login and signup operation\\\\n        call the function ---> bank_application(data,opertaion)\\\\n        data --> dictionary type object\\\\n        operation --> string type object\\\\n    \"\"\"\\\\n    \\\\n    if operation.lower() == \"login\":\\\\n        accno = input(\"\\\\\\\\n Enter 4 digit number account number : \")\\\\n        if len(accno) == 4:\\\\n            if accno in data.keys():\\\\n                passwd = input(\"\\\\\\\\n Enter password : \")\\\\n                if data[accno][1] == passwd:\\\\n                    print(\"\\\\\\\\n Your details are : \")\\\\n                    #for i in data[acnno]:\\\\n                    print(\"*\"*80)\\\\n                    print(\"\\\\\\\\n Name : \", data[accno][0])\\\\n                    print(\"\\\\\\\\n Accnount Number : \",accno)\\\\n                    print(\"\\\\\\\\n Password : \",data[accno][1])\\\\n                    print(\"\\\\\\\\n Balance : \",data[accno][2])\\\\n                    print(\"\\\\\\\\n Your security answer : \",data[accno][3])\\\\n                    print(\"*\"*80)\\\\n                        \\\\n                else:\\\\n                    print(\"\\\\\\\\n Try again....Password does not matched....\")\\\\n            else:\\\\n                print(\"\\\\\\\\n No such accnount number...Please check\")\\\\n        else:\\\\n            print(\"\\\\\\\\n Invalid account number......\")\\\\n            \\\\n    elif operation.lower() == \"signup\":\\\\n        name = input(\"\\\\\\\\n Name : \")\\\\n        password = getpass(\"\\\\\\\\n Password : \")\\\\n        security = input(\"\\\\\\\\n Enter date of birth in form of ddmm : \")\\\\n        bal = eval(input(\"\\\\\\\\n Enter your initial balance : \"))\\\\n        accno = int(list(data.keys())[-1]) + 1  #generation new account number by getting the last number in keys\\\\n        data[accno] = [name,password,bal,security]\\\\n        print(\"\\\\\\\\n Your account number is : \",accno)\\\\n        print(\"\\\\\\\\n \\\\\\\\n Thanks for sign up and We will deliver you best....\")\\\\n        print(\"\\\\\\\\n\\\\\\\\n User the above account number for login.....\")\\\\n    else:\\\\n        print(\"\\\\\\\\n Operation not handled....\")\\\\n        \\\\nbank_application(data,\"login\")\\\\n\\')',\n",
       "  'get_ipython().run_cell_magic(\\'writefile\\', \\'bank_app.py\\', \\'\\\\n\"\"\"\\\\n    This file consists of bank app function use for performing banj operations\\\\n\"\"\"\\\\n\\\\nfrom getpass import getpass\\\\n\\\\n\\\\ndata = { \\\\\\'1001\\\\\\' : [\"simran\", \"passwd\", 12000, \\\\\\'1601\\\\\\'],\\\\n              \\\\\\'1002\\\\\\' : [\"shahid\", \"admin\", 10000, \\\\\\'2810\\\\\\'],\\\\n              \\\\\\'1003\\\\\\' : [\"rahul\", \"passpass\", 13000, \\\\\\'0505\\\\\\'],\\\\n              \\\\\\'1004\\\\\\' : [\"tushar\", \"passwd\", 12500, \\\\\\'1306\\\\\\']\\\\n            }\\\\n\\\\ndef bank_application(data, operation):\\\\n    \\\\n    \"\"\"\\\\n        This function is for bank management of login and signup operation\\\\n        call the function ---> bank_application(data,opertaion)\\\\n        data --> dictionary type object\\\\n        operation --> string type object\\\\n    \"\"\"\\\\n    \\\\n    if operation.lower() == \"login\":\\\\n        accno = input(\"\\\\\\\\n Enter 4 digit number account number : \")\\\\n        if len(accno) == 4:\\\\n            if accno in data.keys():\\\\n                passwd = input(\"\\\\\\\\n Enter password : \")\\\\n                if data[accno][1] == passwd:\\\\n                    print(\"\\\\\\\\n Your details are : \")\\\\n                    #for i in data[acnno]:\\\\n                    print(\"*\"*80)\\\\n                    print(\"\\\\\\\\n Name : \", data[accno][0])\\\\n                    print(\"\\\\\\\\n Accnount Number : \", accno)\\\\n                    print(\"\\\\\\\\n Password : \", data[accno][1])\\\\n                    print(\"\\\\\\\\n Balance : \", data[accno][2])\\\\n                    print(\"\\\\\\\\n Your security answer : \", data[accno][3])\\\\n                    print(\"*\"*80)\\\\n                        \\\\n                else:\\\\n                    print(\"\\\\\\\\n Try again....Password does not matched....\")\\\\n            else:\\\\n                print(\"\\\\\\\\n No such accnount number...Please check\")\\\\n        else:\\\\n            print(\"\\\\\\\\n Invalid account number......\")\\\\n            \\\\n    elif operation.lower() == \"signup\":\\\\n        name = input(\"\\\\\\\\n Name : \")\\\\n        password = getpass(\"\\\\\\\\n Password : \")\\\\n        security = input(\"\\\\\\\\n Enter date of birth in form of ddmm : \")\\\\n        bal = eval(input(\"\\\\\\\\n Enter your initial balance : \"))\\\\n        accno = int(list(data.keys())[-1]) + 1  #generation new account number by getting the last number in keys\\\\n        data[accno] = [name,password,bal,security]\\\\n        print(\"\\\\\\\\n Your account number is : \", accno)\\\\n        print(\"\\\\\\\\n \\\\\\\\n Thanks for sign up and We will deliver you best....\")\\\\n        print(\"\\\\\\\\n\\\\\\\\n User the above account number for login.....\")\\\\n    else:\\\\n        print(\"\\\\\\\\n Operation not handled....\")\\\\n        \\\\nbank_application(data,\"login\")\\\\n\\')',\n",
       "  'get_ipython().run_cell_magic(\\'writefile\\', \\'bank_app.py\\', \\'\\\\n\"\"\"\\\\n    This file consists of bank app function use for performing banj operations\\\\n\"\"\"\\\\n\\\\nfrom getpass import getpass\\\\n\\\\n\\\\ndata = { \\\\\\'1001\\\\\\' : [\"simran\", \"passwd\", 12000, \\\\\\'1601\\\\\\'],\\\\n              \\\\\\'1002\\\\\\' : [\"shahid\", \"admin\", 10000, \\\\\\'2810\\\\\\'],\\\\n              \\\\\\'1003\\\\\\' : [\"rahul\", \"passpass\", 13000, \\\\\\'0505\\\\\\'],\\\\n              \\\\\\'1004\\\\\\' : [\"tushar\", \"passwd\", 12500, \\\\\\'1306\\\\\\']\\\\n            }\\\\n\\\\ndef bank_application(data, operation):\\\\n    \\\\n    \"\"\"\\\\n        This function is for bank management of login and signup operation\\\\n        call the function ---> bank_application(data,opertaion)\\\\n        data --> dictionary type object\\\\n        operation --> string type object\\\\n    \"\"\"\\\\n    \\\\n    if operation.lower() == \"login\":\\\\n        accno = input(\"\\\\\\\\n Enter 4 digit number account number : \")\\\\n        if len(accno) == 4:\\\\n            if accno in data.keys():\\\\n                passwd = input(\"\\\\\\\\n Enter password : \")\\\\n                if data[accno][1] == passwd:\\\\n                    print(\"\\\\\\\\n Your details are : \")\\\\n                    #for i in data[acnno]:\\\\n                    print(\"*\"*80)\\\\n                    print(\"\\\\\\\\n Name : \", data[accno][0])\\\\n                    print(\"\\\\\\\\n Accnount Number : \", accno)\\\\n                    print(\"\\\\\\\\n Password : \", data[accno][1])\\\\n                    print(\"\\\\\\\\n Balance : \", data[accno][2])\\\\n                    print(\"\\\\\\\\n Your security answer : \", data[accno][3])\\\\n                    print(\"*\"*80)\\\\n                        \\\\n                else:\\\\n                    print(\"\\\\\\\\n Try again....Password does not matched....\")\\\\n            else:\\\\n                print(\"\\\\\\\\n No such accnount number...Please check\")\\\\n        else:\\\\n            print(\"\\\\\\\\n Invalid account number......\")\\\\n            \\\\n    elif operation.lower() == \"signup\":\\\\n        name = input(\"\\\\\\\\n Name : \")\\\\n        password = getpass(\"\\\\\\\\n Password : \")\\\\n        security = input(\"\\\\\\\\n Enter date of birth in form of ddmm : \")\\\\n        bal = eval(input(\"\\\\\\\\n Enter your initial balance : \"))\\\\n        accno = int(list(data.keys())[-1]) + 1  #generation new account number by getting the last number in keys\\\\n        data[accno] = [name, password, bal, security]\\\\n        print(\"\\\\\\\\n Your account number is : \", accno)\\\\n        print(\"\\\\\\\\n \\\\\\\\n Thanks for sign up and We will deliver you best....\")\\\\n        print(\"\\\\\\\\n\\\\\\\\n User the above account number for login.....\")\\\\n    else:\\\\n        print(\"\\\\\\\\n Operation not handled....\")\\\\n        \\\\nbank_application(data,\"login\")\\\\n\\')',\n",
       "  'get_ipython().run_cell_magic(\\'writefile\\', \\'bank_app.py\\', \\'\\\\n\"\"\"\\\\n    This file consists of bank app function use for performing banj operations\\\\n\"\"\"\\\\n\\\\nfrom getpass import getpass\\\\n\\\\n\\\\nData = { \\\\\\'1001\\\\\\' : [\"simran\", \"passwd\", 12000, \\\\\\'1601\\\\\\'], \\\\\\'1002\\\\\\' : [\"shahid\", \"admin\", 10000, \\\\\\'2810\\\\\\'], \\\\\\'1003\\\\\\' : [\"rahul\", \"passpass\", 13000, \\\\\\'0505\\\\\\'], \\\\\\'1004\\\\\\' : [\"tushar\", \"passwd\", 12500, \\\\\\'1306\\\\\\']}\\\\n\\\\ndef bank_application(data, operation):\\\\n    \\\\n    \"\"\"\\\\n        This function is for bank management of login and signup operation\\\\n        call the function ---> bank_application(data,opertaion)\\\\n        data --> dictionary type object\\\\n        operation --> string type object\\\\n    \"\"\"\\\\n    \\\\n    if operation.lower() == \"login\":\\\\n        accno = input(\"\\\\\\\\n Enter 4 digit number account number : \")\\\\n        if len(accno) == 4:\\\\n            if accno in data.keys():\\\\n                passwd = input(\"\\\\\\\\n Enter password : \")\\\\n                if data[accno][1] == passwd:\\\\n                    print(\"\\\\\\\\n Your details are : \")\\\\n                    #for i in data[acnno]:\\\\n                    print(\"*\"*80)\\\\n                    print(\"\\\\\\\\n Name : \", data[accno][0])\\\\n                    print(\"\\\\\\\\n Accnount Number : \", accno)\\\\n                    print(\"\\\\\\\\n Password : \", data[accno][1])\\\\n                    print(\"\\\\\\\\n Balance : \", data[accno][2])\\\\n                    print(\"\\\\\\\\n Your security answer : \", data[accno][3])\\\\n                    print(\"*\"*80)\\\\n                        \\\\n                else:\\\\n                    print(\"\\\\\\\\n Try again....Password does not matched....\")\\\\n            else:\\\\n                print(\"\\\\\\\\n No such accnount number...Please check\")\\\\n        else:\\\\n            print(\"\\\\\\\\n Invalid account number......\")\\\\n            \\\\n    elif operation.lower() == \"signup\":\\\\n        name = input(\"\\\\\\\\n Name : \")\\\\n        password = getpass(\"\\\\\\\\n Password : \")\\\\n        security = input(\"\\\\\\\\n Enter date of birth in form of ddmm : \")\\\\n        bal = eval(input(\"\\\\\\\\n Enter your initial balance : \"))\\\\n        accno = int(list(data.keys())[-1]) + 1  #generation new account number by getting the last number in keys\\\\n        data[accno] = [name, password, bal, security]\\\\n        print(\"\\\\\\\\n Your account number is : \", accno)\\\\n        print(\"\\\\\\\\n \\\\\\\\n Thanks for sign up and We will deliver you best....\")\\\\n        print(\"\\\\\\\\n\\\\\\\\n User the above account number for login.....\")\\\\n    else:\\\\n        print(\"\\\\\\\\n Operation not handled....\")\\\\n        \\\\nbank_application(data,\"login\")\\\\n\\')',\n",
       "  'get_ipython().run_cell_magic(\\'writefile\\', \\'bank_app.py\\', \\'\\\\n\"\"\"\\\\n    This file consists of bank app function use for performing banj operations\\\\n\"\"\"\\\\n\\\\nfrom getpass import getpass\\\\n\\\\n\\\\nData = { \\\\\\'1001\\\\\\' : [\"simran\", \"passwd\", 12000, \\\\\\'1601\\\\\\'], \\\\\\\\\\\\n        \\\\\\'1002\\\\\\' : [\"shahid\", \"admin\", 10000, \\\\\\'2810\\\\\\'], \\\\\\\\\\\\n        \\\\\\'1003\\\\\\' : [\"rahul\", \"passpass\", 13000, \\\\\\'0505\\\\\\'], \\\\\\\\\\\\n        \\\\\\'1004\\\\\\' : [\"tushar\", \"passwd\", 12500, \\\\\\'1306\\\\\\']}\\\\n\\\\ndef bank_application(data, operation):\\\\n    \\\\n    \"\"\"\\\\n        This function is for bank management of login and signup operation\\\\n        call the function ---> bank_application(data,opertaion)\\\\n        data --> dictionary type object\\\\n        operation --> string type object\\\\n    \"\"\"\\\\n    \\\\n    if operation.lower() == \"login\":\\\\n        accno = input(\"\\\\\\\\n Enter 4 digit number account number : \")\\\\n        if len(accno) == 4:\\\\n            if accno in data.keys():\\\\n                passwd = input(\"\\\\\\\\n Enter password : \")\\\\n                if data[accno][1] == passwd:\\\\n                    print(\"\\\\\\\\n Your details are : \")\\\\n                    #for i in data[acnno]:\\\\n                    print(\"*\"*80)\\\\n                    print(\"\\\\\\\\n Name : \", data[accno][0])\\\\n                    print(\"\\\\\\\\n Accnount Number : \", accno)\\\\n                    print(\"\\\\\\\\n Password : \", data[accno][1])\\\\n                    print(\"\\\\\\\\n Balance : \", data[accno][2])\\\\n                    print(\"\\\\\\\\n Your security answer : \", data[accno][3])\\\\n                    print(\"*\"*80)\\\\n                        \\\\n                else:\\\\n                    print(\"\\\\\\\\n Try again....Password does not matched....\")\\\\n            else:\\\\n                print(\"\\\\\\\\n No such accnount number...Please check\")\\\\n        else:\\\\n            print(\"\\\\\\\\n Invalid account number......\")\\\\n            \\\\n    elif operation.lower() == \"signup\":\\\\n        name = input(\"\\\\\\\\n Name : \")\\\\n        password = getpass(\"\\\\\\\\n Password : \")\\\\n        security = input(\"\\\\\\\\n Enter date of birth in form of ddmm : \")\\\\n        bal = eval(input(\"\\\\\\\\n Enter your initial balance : \"))\\\\n        accno = int(list(data.keys())[-1]) + 1  #generation new account number by getting the last number in keys\\\\n        data[accno] = [name, password, bal, security]\\\\n        print(\"\\\\\\\\n Your account number is : \", accno)\\\\n        print(\"\\\\\\\\n \\\\\\\\n Thanks for sign up and We will deliver you best....\")\\\\n        print(\"\\\\\\\\n\\\\\\\\n User the above account number for login.....\")\\\\n    else:\\\\n        print(\"\\\\\\\\n Operation not handled....\")\\\\n        \\\\nbank_application(data,\"login\")\\\\n\\')',\n",
       "  'get_ipython().run_cell_magic(\\'writefile\\', \\'bank_app.py\\', \\'\\\\n\"\"\"\\\\n    This file consists of bank app function use for performing banj operations\\\\n\"\"\"\\\\n\\\\nfrom getpass import getpass\\\\n\\\\n\\\\nData = { \\\\\\'1001\\\\\\' : [\"simran\", \"passwd\", 12000, \\\\\\'1601\\\\\\'], \\\\\\\\\\\\n        \\\\\\'1002\\\\\\' : [\"shahid\", \"admin\", 10000, \\\\\\'2810\\\\\\'], \\\\\\\\\\\\n        \\\\\\'1003\\\\\\' : [\"rahul\", \"passpass\", 13000, \\\\\\'0505\\\\\\'], \\\\\\\\\\\\n        \\\\\\'1004\\\\\\' : [\"tushar\", \"passwd\", 12500, \\\\\\'1306\\\\\\']}\\\\n\\\\ndef bank_application(data, operation):\\\\n    \\\\n    \"\"\"\\\\n        This function is for bank management of login and signup operation\\\\n        call the function ---> bank_application(data,opertaion)\\\\n        data --> dictionary type object\\\\n        operation --> string type object\\\\n    \"\"\"\\\\n    \\\\n    if operation.lower() == \"login\":\\\\n        accno = input(\"\\\\\\\\n Enter 4 digit number account number : \")\\\\n        if len(accno) == 4:\\\\n            if accno in data.keys():\\\\n                passwd = input(\"\\\\\\\\n Enter password : \")\\\\n                if data[accno][1] == passwd:\\\\n                    print(\"\\\\\\\\n Your details are : \")\\\\n                    #for i in data[acnno]:\\\\n                    print(\"*\"*80)\\\\n                    print(\"\\\\\\\\n Name : \", data[accno][0])\\\\n                    print(\"\\\\\\\\n Accnount Number : \", accno)\\\\n                    print(\"\\\\\\\\n Password : \", data[accno][1])\\\\n                    print(\"\\\\\\\\n Balance : \", data[accno][2])\\\\n                    print(\"\\\\\\\\n Your security answer : \", data[accno][3])\\\\n                    print(\"*\"*80)\\\\n                        \\\\n                else:\\\\n                    print(\"\\\\\\\\n Try again....Password does not matched....\")\\\\n            else:\\\\n                print(\"\\\\\\\\n No such accnount number...Please check\")\\\\n        else:\\\\n            print(\"\\\\\\\\n Invalid account number......\")\\\\n            \\\\n    elif operation.lower() == \"signup\":\\\\n        name = input(\"\\\\\\\\n Name : \")\\\\n        password = getpass(\"\\\\\\\\n Password : \")\\\\n        security = input(\"\\\\\\\\n Enter date of birth in form of ddmm : \")\\\\n        bal = eval(input(\"\\\\\\\\n Enter your initial balance : \"))\\\\n        accno = int(list(data.keys())[-1]) + 1  #generation new account number by getting the last number in keys\\\\n        data[accno] = [name, password, bal, security]\\\\n        print(\"\\\\\\\\n Your account number is : \", accno)\\\\n        print(\"\\\\\\\\n \\\\\\\\n Thanks for sign up and We will deliver you best....\")\\\\n        print(\"\\\\\\\\n\\\\\\\\n User the above account number for login.....\")\\\\n    else:\\\\n        print(\"\\\\\\\\n Operation not handled....\")\\\\n        \\\\nbank_application(data, \"login\")\\\\n\\')',\n",
       "  'get_ipython().run_cell_magic(\\'writefile\\', \\'bank_app.py\\', \\'\\\\n\"\"\"\\\\n    This file consists of bank app function use for performing banj operations\\\\n\"\"\"\\\\n\\\\nfrom getpass import getpass\\\\n\\\\n\\\\ndata = { \\\\\\'1001\\\\\\' : [\"simran\", \"passwd\", 12000, \\\\\\'1601\\\\\\'], \\\\\\\\\\\\n        \\\\\\'1002\\\\\\' : [\"shahid\", \"admin\", 10000, \\\\\\'2810\\\\\\'], \\\\\\\\\\\\n        \\\\\\'1003\\\\\\' : [\"rahul\", \"passpass\", 13000, \\\\\\'0505\\\\\\'], \\\\\\\\\\\\n        \\\\\\'1004\\\\\\' : [\"tushar\", \"passwd\", 12500, \\\\\\'1306\\\\\\']}\\\\n\\\\ndef bank_application(data, operation):\\\\n    \\\\n    \"\"\"\\\\n        This function is for bank management of login and signup operation\\\\n        call the function ---> bank_application(data,opertaion)\\\\n        data --> dictionary type object\\\\n        operation --> string type object\\\\n    \"\"\"\\\\n    \\\\n    if operation.lower() == \"login\":\\\\n        accno = input(\"\\\\\\\\n Enter 4 digit number account number : \")\\\\n        if len(accno) == 4:\\\\n            if accno in data.keys():\\\\n                passwd = input(\"\\\\\\\\n Enter password : \")\\\\n                if data[accno][1] == passwd:\\\\n                    print(\"\\\\\\\\n Your details are : \")\\\\n                    #for i in data[acnno]:\\\\n                    print(\"*\"*80)\\\\n                    print(\"\\\\\\\\n Name : \", data[accno][0])\\\\n                    print(\"\\\\\\\\n Accnount Number : \", accno)\\\\n                    print(\"\\\\\\\\n Password : \", data[accno][1])\\\\n                    print(\"\\\\\\\\n Balance : \", data[accno][2])\\\\n                    print(\"\\\\\\\\n Your security answer : \", data[accno][3])\\\\n                    print(\"*\"*80)\\\\n                        \\\\n                else:\\\\n                    print(\"\\\\\\\\n Try again....Password does not matched....\")\\\\n            else:\\\\n                print(\"\\\\\\\\n No such accnount number...Please check\")\\\\n        else:\\\\n            print(\"\\\\\\\\n Invalid account number......\")\\\\n            \\\\n    elif operation.lower() == \"signup\":\\\\n        name = input(\"\\\\\\\\n Name : \")\\\\n        password = getpass(\"\\\\\\\\n Password : \")\\\\n        security = input(\"\\\\\\\\n Enter date of birth in form of ddmm : \")\\\\n        bal = eval(input(\"\\\\\\\\n Enter your initial balance : \"))\\\\n        accno = int(list(data.keys())[-1]) + 1  #generation new account number by getting the last number in keys\\\\n        data[accno] = [name, password, bal, security]\\\\n        print(\"\\\\\\\\n Your account number is : \", accno)\\\\n        print(\"\\\\\\\\n \\\\\\\\n Thanks for sign up and We will deliver you best....\")\\\\n        print(\"\\\\\\\\n\\\\\\\\n User the above account number for login.....\")\\\\n    else:\\\\n        print(\"\\\\\\\\n Operation not handled....\")\\\\n        \\\\nbank_application(data, \"login\")\\\\n\\')',\n",
       "  'get_ipython().run_cell_magic(\\'writefile\\', \\'bank_app.py\\', \\'\\\\n\"\"\"\\\\n    This file consists of bank app function use for performing banj operations\\\\n\"\"\"\\\\n\\\\nfrom getpass import getpass\\\\n\\\\n\\\\ndata = {\\\\\\'1001\\\\\\' : [\"simran\", \"passwd\", 12000, \\\\\\'1601\\\\\\'], \\\\\\\\\\\\n        \\\\\\'1002\\\\\\' : [\"shahid\", \"admin\", 10000, \\\\\\'2810\\\\\\'], \\\\\\\\\\\\n        \\\\\\'1003\\\\\\' : [\"rahul\", \"passpass\", 13000, \\\\\\'0505\\\\\\'], \\\\\\\\\\\\n        \\\\\\'1004\\\\\\' : [\"tushar\", \"passwd\", 12500, \\\\\\'1306\\\\\\']}\\\\n\\\\ndef bank_application(data, operation):\\\\n    \\\\n    \"\"\"\\\\n        This function is for bank management of login and signup operation\\\\n        call the function ---> bank_application(data,opertaion)\\\\n        data --> dictionary type object\\\\n        operation --> string type object\\\\n    \"\"\"\\\\n    \\\\n    if operation.lower() == \"login\":\\\\n        accno = input(\"\\\\\\\\n Enter 4 digit number account number : \")\\\\n        if len(accno) == 4:\\\\n            if accno in data.keys():\\\\n                passwd = input(\"\\\\\\\\n Enter password : \")\\\\n                if data[accno][1] == passwd:\\\\n                    print(\"\\\\\\\\n Your details are : \")\\\\n                    #for i in data[acnno]:\\\\n                    print(\"*\"*80)\\\\n                    print(\"\\\\\\\\n Name : \", data[accno][0])\\\\n                    print(\"\\\\\\\\n Accnount Number : \", accno)\\\\n                    print(\"\\\\\\\\n Password : \", data[accno][1])\\\\n                    print(\"\\\\\\\\n Balance : \", data[accno][2])\\\\n                    print(\"\\\\\\\\n Your security answer : \", data[accno][3])\\\\n                    print(\"*\"*80)\\\\n                        \\\\n                else:\\\\n                    print(\"\\\\\\\\n Try again....Password does not matched....\")\\\\n            else:\\\\n                print(\"\\\\\\\\n No such accnount number...Please check\")\\\\n        else:\\\\n            print(\"\\\\\\\\n Invalid account number......\")\\\\n            \\\\n    elif operation.lower() == \"signup\":\\\\n        name = input(\"\\\\\\\\n Name : \")\\\\n        password = getpass(\"\\\\\\\\n Password : \")\\\\n        security = input(\"\\\\\\\\n Enter date of birth in form of ddmm : \")\\\\n        bal = eval(input(\"\\\\\\\\n Enter your initial balance : \"))\\\\n        accno = int(list(data.keys())[-1]) + 1  #generation new account number by getting the last number in keys\\\\n        data[accno] = [name, password, bal, security]\\\\n        print(\"\\\\\\\\n Your account number is : \", accno)\\\\n        print(\"\\\\\\\\n \\\\\\\\n Thanks for sign up and We will deliver you best....\")\\\\n        print(\"\\\\\\\\n\\\\\\\\n User the above account number for login.....\")\\\\n    else:\\\\n        print(\"\\\\\\\\n Operation not handled....\")\\\\n        \\\\nbank_application(data, \"login\")\\\\n\\')',\n",
       "  'def common(a,b=0,*args,**kwargs):\\n    print(\"Positional Argument : \",a)\\n    print(\"Default Argument : \",b)\\n    print(\"Variable Length : \",args)\\n    print(\"Keyword Argument : \",kwargs)\\n    \\ncommon()',\n",
       "  'common(10)',\n",
       "  'common(b=20,a=45)',\n",
       "  'common(23,90,12,34,56)',\n",
       "  'common(b=45,a=67,12,34,56)',\n",
       "  'common(b=45,a=67,12,131,4)',\n",
       "  'common(a=34,b=56,args=(1,2,3))',\n",
       "  'common(12,34,56,78,90,one=\"one\",two=\"two\",three=\"three\")',\n",
       "  'common',\n",
       "  'common(12)',\n",
       "  'def f():\\n    x = int(input(\"\\\\n Enter the value : \"))\\n    x = x * 23\\n    print(\"\\\\n The value of x is : \",x)\\n\\nf()\\nprint(\"\\\\n The value of x is : \",x)',\n",
       "  'def f():\\n    x = int(input(\"\\\\n Enter the value : \"))\\n    x = x * 23\\n    print(\"\\\\n The value of x is : \",x)\\n    return x\\n\\na = f()\\nprint(\"\\\\n A : \",a)\\nprint(\"\\\\n The value of x is : \",x)',\n",
       "  'globals()',\n",
       "  'vars()'],\n",
       " 'Out': {3: dict_keys(['1001', '1002', '1003', '1004', 1005]),\n",
       "  4: ['1001', '1002', '1003', '1004'],\n",
       "  5: '1004',\n",
       "  6: 1004,\n",
       "  7: 1005,\n",
       "  12: {'1001': ['simran', 'passwd', 12000, '1601'],\n",
       "   '1002': ['shahid', 'admin', 10000, '2810'],\n",
       "   '1003': ['rahul', 'passpass', 13000, '0505'],\n",
       "   '1004': ['tushar', 'passwd', 12500, '1306'],\n",
       "   1005: ['sachin', 'admin', 12000, '0303']},\n",
       "  30: <function __main__.common(a, b=0, *args, **kwargs)>,\n",
       "  34: {...}},\n",
       " 'get_ipython': <bound method InteractiveShell.get_ipython of <ipykernel.zmqshell.ZMQInteractiveShell object at 0x00000201EBB20448>>,\n",
       " 'exit': <IPython.core.autocall.ZMQExitAutocall at 0x201ebb4b048>,\n",
       " 'quit': <IPython.core.autocall.ZMQExitAutocall at 0x201ebb4b048>,\n",
       " '_': {...},\n",
       " '__': <function __main__.common(a, b=0, *args, **kwargs)>,\n",
       " '___': {'1001': ['simran', 'passwd', 12000, '1601'],\n",
       "  '1002': ['shahid', 'admin', 10000, '2810'],\n",
       "  '1003': ['rahul', 'passpass', 13000, '0505'],\n",
       "  '1004': ['tushar', 'passwd', 12500, '1306'],\n",
       "  1005: ['sachin', 'admin', 12000, '0303']},\n",
       " '_i': 'globals()',\n",
       " '_ii': 'def f():\\n    x = int(input(\"\\\\n Enter the value : \"))\\n    x = x * 23\\n    print(\"\\\\n The value of x is : \",x)\\n    return x\\n\\na = f()\\nprint(\"\\\\n A : \",a)\\nprint(\"\\\\n The value of x is : \",x)',\n",
       " '_iii': 'def f():\\n    x = int(input(\"\\\\n Enter the value : \"))\\n    x = x * 23\\n    print(\"\\\\n The value of x is : \",x)\\n\\nf()\\nprint(\"\\\\n The value of x is : \",x)',\n",
       " '_i1': 'def bank_application(data):',\n",
       " '_i2': 'data = { \\'1001\\' : [\"simran\",\"passwd\",12000,\\'1601\\'],\\n              \\'1002\\' : [\"shahid\",\"admin\",10000,\\'2810\\'],\\n              \\'1003\\' : [\"rahul\",\"passpass\",13000,\\'0505\\'],\\n              \\'1004\\' : [\"tushar\",\"passwd\",12500,\\'1306\\']\\n            }',\n",
       " 'data': {'1001': ['simran', 'passwd', 12000, '1601'],\n",
       "  '1002': ['shahid', 'admin', 10000, '2810'],\n",
       "  '1003': ['rahul', 'passpass', 13000, '0505'],\n",
       "  '1004': ['tushar', 'passwd', 12500, '1306'],\n",
       "  1005: ['sachin', 'admin', 12000, '0303']},\n",
       " '_i3': 'data.keys()',\n",
       " '_3': dict_keys(['1001', '1002', '1003', '1004', 1005]),\n",
       " '_i4': 'list(data.keys())',\n",
       " '_4': ['1001', '1002', '1003', '1004'],\n",
       " '_i5': 'list(data.keys())[-1]',\n",
       " '_5': '1004',\n",
       " '_i6': 'int(list(data.keys())[-1])',\n",
       " '_6': 1004,\n",
       " '_i7': 'int(list(data.keys())[-1]) + 1',\n",
       " '_7': 1005,\n",
       " '_i8': 'from getpass import getpass\\n\\ndef bank_application(data,operation):\\n    \\n    \"\"\"\\n        This function is for bank management of login and signup operation\\n        call the function ---> bank_application(data,opertaion)\\n        data --> dictionary type object\\n        operation --> string type object\\n    \"\"\"\\n    \\n    if operation.lower() == \"login\":\\n        accno = input(\"\\\\n Enter 4 digit number account number : \")\\n        if len(accno) == 4:\\n            if accno in data.keys():\\n                passwd = input(\"\\\\n Enter password : \")\\n                if data[accno][1] == passwd:\\n                    print(\"\\\\n Your details are : \")\\n                    #for i in data[acnno]:\\n                    print(\"*\"*80)\\n                    print(\"\\\\n Name : \",data[accno][0])\\n                    print(\"\\\\n Accnount Number : \",accno)\\n                    print(\"\\\\n Password : \",data[accno][1])\\n                    print(\"\\\\n Balance : \",data[accno][2])\\n                    print(\"\\\\n Your security answer : \",data[accno][3])\\n                    print(\"*\"*80)\\n                        \\n                else:\\n                    print(\"\\\\n Try again....Password does not matched....\")\\n            else:\\n                print(\"\\\\n No such accnount number...Please check\")\\n        else:\\n            print(\"\\\\n Invalid account number......\")\\n            \\n    else operation.lower() == \"signup\":\\n        name = input(\"\\\\n Name : \")\\n        password = getpass(\"\\\\n Password : \")\\n        security = input(\"\\\\n Enter date of birth in form of ddmm : \")\\n        bal = eval(input(\"\\\\n Enter your initial balance : \"))\\n        accno = int(list(data.keys())[-1]) + 1  #generation new account number by getting the last number in keys\\n        data[accno] = [name,password,bal,security]\\n        print(\"\\\\n Your account number is : \",accno)\\n        print(\"\\\\n \\\\n Thanks for sign up and We will deliver you best....\")\\n        print(\"\\\\n\\\\n User the above account number for login.....\")',\n",
       " '_i9': 'from getpass import getpass\\n\\ndef bank_application(data,operation):\\n    \\n    \"\"\"\\n        This function is for bank management of login and signup operation\\n        call the function ---> bank_application(data,opertaion)\\n        data --> dictionary type object\\n        operation --> string type object\\n    \"\"\"\\n    \\n    if operation.lower() == \"login\":\\n        accno = input(\"\\\\n Enter 4 digit number account number : \")\\n        if len(accno) == 4:\\n            if accno in data.keys():\\n                passwd = input(\"\\\\n Enter password : \")\\n                if data[accno][1] == passwd:\\n                    print(\"\\\\n Your details are : \")\\n                    #for i in data[acnno]:\\n                    print(\"*\"*80)\\n                    print(\"\\\\n Name : \",data[accno][0])\\n                    print(\"\\\\n Accnount Number : \",accno)\\n                    print(\"\\\\n Password : \",data[accno][1])\\n                    print(\"\\\\n Balance : \",data[accno][2])\\n                    print(\"\\\\n Your security answer : \",data[accno][3])\\n                    print(\"*\"*80)\\n                        \\n                else:\\n                    print(\"\\\\n Try again....Password does not matched....\")\\n            else:\\n                print(\"\\\\n No such accnount number...Please check\")\\n        else:\\n            print(\"\\\\n Invalid account number......\")\\n            \\n    elif operation.lower() == \"signup\":\\n        name = input(\"\\\\n Name : \")\\n        password = getpass(\"\\\\n Password : \")\\n        security = input(\"\\\\n Enter date of birth in form of ddmm : \")\\n        bal = eval(input(\"\\\\n Enter your initial balance : \"))\\n        accno = int(list(data.keys())[-1]) + 1  #generation new account number by getting the last number in keys\\n        data[accno] = [name,password,bal,security]\\n        print(\"\\\\n Your account number is : \",accno)\\n        print(\"\\\\n \\\\n Thanks for sign up and We will deliver you best....\")\\n        print(\"\\\\n\\\\n User the above account number for login.....\")\\n    else:\\n        print(\"\\\\n Operation not handled....\")',\n",
       " 'getpass': <bound method Kernel.getpass of <ipykernel.ipkernel.IPythonKernel object at 0x00000201EBB201C8>>,\n",
       " 'bank_application': <function __main__.bank_application(data, operation)>,\n",
       " '_i10': 'bank_application(data,\"login\")',\n",
       " '_i11': 'bank_application(data,\"signup\")',\n",
       " '_i12': 'data',\n",
       " '_12': {'1001': ['simran', 'passwd', 12000, '1601'],\n",
       "  '1002': ['shahid', 'admin', 10000, '2810'],\n",
       "  '1003': ['rahul', 'passpass', 13000, '0505'],\n",
       "  '1004': ['tushar', 'passwd', 12500, '1306'],\n",
       "  1005: ['sachin', 'admin', 12000, '0303']},\n",
       " '_i13': '%%writefile bank_app.py\\n\\n\"\"\"\\n    This file consists of bank app function use for performing banj operations\\n\"\"\"\\n\\nfrom getpass import getpass\\n\\n\\ndata = { \\'1001\\' : [\"simran\",\"passwd\",12000,\\'1601\\'],\\n              \\'1002\\' : [\"shahid\",\"admin\",10000,\\'2810\\'],\\n              \\'1003\\' : [\"rahul\",\"passpass\",13000,\\'0505\\'],\\n              \\'1004\\' : [\"tushar\",\"passwd\",12500,\\'1306\\']\\n            }\\n\\ndef bank_application(data,operation):\\n    \\n    \"\"\"\\n        This function is for bank management of login and signup operation\\n        call the function ---> bank_application(data,opertaion)\\n        data --> dictionary type object\\n        operation --> string type object\\n    \"\"\"\\n    \\n    if operation.lower() == \"login\":\\n        accno = input(\"\\\\n Enter 4 digit number account number : \")\\n        if len(accno) == 4:\\n            if accno in data.keys():\\n                passwd = input(\"\\\\n Enter password : \")\\n                if data[accno][1] == passwd:\\n                    print(\"\\\\n Your details are : \")\\n                    #for i in data[acnno]:\\n                    print(\"*\"*80)\\n                    print(\"\\\\n Name : \", data[accno][0])\\n                    print(\"\\\\n Accnount Number : \",accno)\\n                    print(\"\\\\n Password : \",data[accno][1])\\n                    print(\"\\\\n Balance : \",data[accno][2])\\n                    print(\"\\\\n Your security answer : \",data[accno][3])\\n                    print(\"*\"*80)\\n                        \\n                else:\\n                    print(\"\\\\n Try again....Password does not matched....\")\\n            else:\\n                print(\"\\\\n No such accnount number...Please check\")\\n        else:\\n            print(\"\\\\n Invalid account number......\")\\n            \\n    elif operation.lower() == \"signup\":\\n        name = input(\"\\\\n Name : \")\\n        password = getpass(\"\\\\n Password : \")\\n        security = input(\"\\\\n Enter date of birth in form of ddmm : \")\\n        bal = eval(input(\"\\\\n Enter your initial balance : \"))\\n        accno = int(list(data.keys())[-1]) + 1  #generation new account number by getting the last number in keys\\n        data[accno] = [name,password,bal,security]\\n        print(\"\\\\n Your account number is : \",accno)\\n        print(\"\\\\n \\\\n Thanks for sign up and We will deliver you best....\")\\n        print(\"\\\\n\\\\n User the above account number for login.....\")\\n    else:\\n        print(\"\\\\n Operation not handled....\")',\n",
       " '_i14': '%%writefile bank_app.py\\n\\n\"\"\"\\n    This file consists of bank app function use for performing banj operations\\n\"\"\"\\n\\nfrom getpass import getpass\\n\\n\\ndata = { \\'1001\\' : [\"simran\",\"passwd\",12000,\\'1601\\'],\\n              \\'1002\\' : [\"shahid\",\"admin\",10000,\\'2810\\'],\\n              \\'1003\\' : [\"rahul\",\"passpass\",13000,\\'0505\\'],\\n              \\'1004\\' : [\"tushar\",\"passwd\",12500,\\'1306\\']\\n            }\\n\\ndef bank_application(data,operation):\\n    \\n    \"\"\"\\n        This function is for bank management of login and signup operation\\n        call the function ---> bank_application(data,opertaion)\\n        data --> dictionary type object\\n        operation --> string type object\\n    \"\"\"\\n    \\n    if operation.lower() == \"login\":\\n        accno = input(\"\\\\n Enter 4 digit number account number : \")\\n        if len(accno) == 4:\\n            if accno in data.keys():\\n                passwd = input(\"\\\\n Enter password : \")\\n                if data[accno][1] == passwd:\\n                    print(\"\\\\n Your details are : \")\\n                    #for i in data[acnno]:\\n                    print(\"*\"*80)\\n                    print(\"\\\\n Name : \", data[accno][0])\\n                    print(\"\\\\n Accnount Number : \",accno)\\n                    print(\"\\\\n Password : \",data[accno][1])\\n                    print(\"\\\\n Balance : \",data[accno][2])\\n                    print(\"\\\\n Your security answer : \",data[accno][3])\\n                    print(\"*\"*80)\\n                        \\n                else:\\n                    print(\"\\\\n Try again....Password does not matched....\")\\n            else:\\n                print(\"\\\\n No such accnount number...Please check\")\\n        else:\\n            print(\"\\\\n Invalid account number......\")\\n            \\n    elif operation.lower() == \"signup\":\\n        name = input(\"\\\\n Name : \")\\n        password = getpass(\"\\\\n Password : \")\\n        security = input(\"\\\\n Enter date of birth in form of ddmm : \")\\n        bal = eval(input(\"\\\\n Enter your initial balance : \"))\\n        accno = int(list(data.keys())[-1]) + 1  #generation new account number by getting the last number in keys\\n        data[accno] = [name,password,bal,security]\\n        print(\"\\\\n Your account number is : \",accno)\\n        print(\"\\\\n \\\\n Thanks for sign up and We will deliver you best....\")\\n        print(\"\\\\n\\\\n User the above account number for login.....\")\\n    else:\\n        print(\"\\\\n Operation not handled....\")\\n        \\nbank_application(data,\"login\")',\n",
       " '_i15': '%%writefile bank_app.py\\n\\n\"\"\"\\n    This file consists of bank app function use for performing banj operations\\n\"\"\"\\n\\nfrom getpass import getpass\\n\\n\\ndata = { \\'1001\\' : [\"simran\", \"passwd\", 12000, \\'1601\\'],\\n              \\'1002\\' : [\"shahid\", \"admin\", 10000, \\'2810\\'],\\n              \\'1003\\' : [\"rahul\", \"passpass\", 13000, \\'0505\\'],\\n              \\'1004\\' : [\"tushar\", \"passwd\", 12500, \\'1306\\']\\n            }\\n\\ndef bank_application(data, operation):\\n    \\n    \"\"\"\\n        This function is for bank management of login and signup operation\\n        call the function ---> bank_application(data,opertaion)\\n        data --> dictionary type object\\n        operation --> string type object\\n    \"\"\"\\n    \\n    if operation.lower() == \"login\":\\n        accno = input(\"\\\\n Enter 4 digit number account number : \")\\n        if len(accno) == 4:\\n            if accno in data.keys():\\n                passwd = input(\"\\\\n Enter password : \")\\n                if data[accno][1] == passwd:\\n                    print(\"\\\\n Your details are : \")\\n                    #for i in data[acnno]:\\n                    print(\"*\"*80)\\n                    print(\"\\\\n Name : \", data[accno][0])\\n                    print(\"\\\\n Accnount Number : \", accno)\\n                    print(\"\\\\n Password : \", data[accno][1])\\n                    print(\"\\\\n Balance : \", data[accno][2])\\n                    print(\"\\\\n Your security answer : \", data[accno][3])\\n                    print(\"*\"*80)\\n                        \\n                else:\\n                    print(\"\\\\n Try again....Password does not matched....\")\\n            else:\\n                print(\"\\\\n No such accnount number...Please check\")\\n        else:\\n            print(\"\\\\n Invalid account number......\")\\n            \\n    elif operation.lower() == \"signup\":\\n        name = input(\"\\\\n Name : \")\\n        password = getpass(\"\\\\n Password : \")\\n        security = input(\"\\\\n Enter date of birth in form of ddmm : \")\\n        bal = eval(input(\"\\\\n Enter your initial balance : \"))\\n        accno = int(list(data.keys())[-1]) + 1  #generation new account number by getting the last number in keys\\n        data[accno] = [name,password,bal,security]\\n        print(\"\\\\n Your account number is : \", accno)\\n        print(\"\\\\n \\\\n Thanks for sign up and We will deliver you best....\")\\n        print(\"\\\\n\\\\n User the above account number for login.....\")\\n    else:\\n        print(\"\\\\n Operation not handled....\")\\n        \\nbank_application(data,\"login\")',\n",
       " '_i16': '%%writefile bank_app.py\\n\\n\"\"\"\\n    This file consists of bank app function use for performing banj operations\\n\"\"\"\\n\\nfrom getpass import getpass\\n\\n\\ndata = { \\'1001\\' : [\"simran\", \"passwd\", 12000, \\'1601\\'],\\n              \\'1002\\' : [\"shahid\", \"admin\", 10000, \\'2810\\'],\\n              \\'1003\\' : [\"rahul\", \"passpass\", 13000, \\'0505\\'],\\n              \\'1004\\' : [\"tushar\", \"passwd\", 12500, \\'1306\\']\\n            }\\n\\ndef bank_application(data, operation):\\n    \\n    \"\"\"\\n        This function is for bank management of login and signup operation\\n        call the function ---> bank_application(data,opertaion)\\n        data --> dictionary type object\\n        operation --> string type object\\n    \"\"\"\\n    \\n    if operation.lower() == \"login\":\\n        accno = input(\"\\\\n Enter 4 digit number account number : \")\\n        if len(accno) == 4:\\n            if accno in data.keys():\\n                passwd = input(\"\\\\n Enter password : \")\\n                if data[accno][1] == passwd:\\n                    print(\"\\\\n Your details are : \")\\n                    #for i in data[acnno]:\\n                    print(\"*\"*80)\\n                    print(\"\\\\n Name : \", data[accno][0])\\n                    print(\"\\\\n Accnount Number : \", accno)\\n                    print(\"\\\\n Password : \", data[accno][1])\\n                    print(\"\\\\n Balance : \", data[accno][2])\\n                    print(\"\\\\n Your security answer : \", data[accno][3])\\n                    print(\"*\"*80)\\n                        \\n                else:\\n                    print(\"\\\\n Try again....Password does not matched....\")\\n            else:\\n                print(\"\\\\n No such accnount number...Please check\")\\n        else:\\n            print(\"\\\\n Invalid account number......\")\\n            \\n    elif operation.lower() == \"signup\":\\n        name = input(\"\\\\n Name : \")\\n        password = getpass(\"\\\\n Password : \")\\n        security = input(\"\\\\n Enter date of birth in form of ddmm : \")\\n        bal = eval(input(\"\\\\n Enter your initial balance : \"))\\n        accno = int(list(data.keys())[-1]) + 1  #generation new account number by getting the last number in keys\\n        data[accno] = [name, password, bal, security]\\n        print(\"\\\\n Your account number is : \", accno)\\n        print(\"\\\\n \\\\n Thanks for sign up and We will deliver you best....\")\\n        print(\"\\\\n\\\\n User the above account number for login.....\")\\n    else:\\n        print(\"\\\\n Operation not handled....\")\\n        \\nbank_application(data,\"login\")',\n",
       " '_i17': '%%writefile bank_app.py\\n\\n\"\"\"\\n    This file consists of bank app function use for performing banj operations\\n\"\"\"\\n\\nfrom getpass import getpass\\n\\n\\nData = { \\'1001\\' : [\"simran\", \"passwd\", 12000, \\'1601\\'], \\'1002\\' : [\"shahid\", \"admin\", 10000, \\'2810\\'], \\'1003\\' : [\"rahul\", \"passpass\", 13000, \\'0505\\'], \\'1004\\' : [\"tushar\", \"passwd\", 12500, \\'1306\\']}\\n\\ndef bank_application(data, operation):\\n    \\n    \"\"\"\\n        This function is for bank management of login and signup operation\\n        call the function ---> bank_application(data,opertaion)\\n        data --> dictionary type object\\n        operation --> string type object\\n    \"\"\"\\n    \\n    if operation.lower() == \"login\":\\n        accno = input(\"\\\\n Enter 4 digit number account number : \")\\n        if len(accno) == 4:\\n            if accno in data.keys():\\n                passwd = input(\"\\\\n Enter password : \")\\n                if data[accno][1] == passwd:\\n                    print(\"\\\\n Your details are : \")\\n                    #for i in data[acnno]:\\n                    print(\"*\"*80)\\n                    print(\"\\\\n Name : \", data[accno][0])\\n                    print(\"\\\\n Accnount Number : \", accno)\\n                    print(\"\\\\n Password : \", data[accno][1])\\n                    print(\"\\\\n Balance : \", data[accno][2])\\n                    print(\"\\\\n Your security answer : \", data[accno][3])\\n                    print(\"*\"*80)\\n                        \\n                else:\\n                    print(\"\\\\n Try again....Password does not matched....\")\\n            else:\\n                print(\"\\\\n No such accnount number...Please check\")\\n        else:\\n            print(\"\\\\n Invalid account number......\")\\n            \\n    elif operation.lower() == \"signup\":\\n        name = input(\"\\\\n Name : \")\\n        password = getpass(\"\\\\n Password : \")\\n        security = input(\"\\\\n Enter date of birth in form of ddmm : \")\\n        bal = eval(input(\"\\\\n Enter your initial balance : \"))\\n        accno = int(list(data.keys())[-1]) + 1  #generation new account number by getting the last number in keys\\n        data[accno] = [name, password, bal, security]\\n        print(\"\\\\n Your account number is : \", accno)\\n        print(\"\\\\n \\\\n Thanks for sign up and We will deliver you best....\")\\n        print(\"\\\\n\\\\n User the above account number for login.....\")\\n    else:\\n        print(\"\\\\n Operation not handled....\")\\n        \\nbank_application(data,\"login\")',\n",
       " '_i18': '%%writefile bank_app.py\\n\\n\"\"\"\\n    This file consists of bank app function use for performing banj operations\\n\"\"\"\\n\\nfrom getpass import getpass\\n\\n\\nData = { \\'1001\\' : [\"simran\", \"passwd\", 12000, \\'1601\\'], \\\\\\n        \\'1002\\' : [\"shahid\", \"admin\", 10000, \\'2810\\'], \\\\\\n        \\'1003\\' : [\"rahul\", \"passpass\", 13000, \\'0505\\'], \\\\\\n        \\'1004\\' : [\"tushar\", \"passwd\", 12500, \\'1306\\']}\\n\\ndef bank_application(data, operation):\\n    \\n    \"\"\"\\n        This function is for bank management of login and signup operation\\n        call the function ---> bank_application(data,opertaion)\\n        data --> dictionary type object\\n        operation --> string type object\\n    \"\"\"\\n    \\n    if operation.lower() == \"login\":\\n        accno = input(\"\\\\n Enter 4 digit number account number : \")\\n        if len(accno) == 4:\\n            if accno in data.keys():\\n                passwd = input(\"\\\\n Enter password : \")\\n                if data[accno][1] == passwd:\\n                    print(\"\\\\n Your details are : \")\\n                    #for i in data[acnno]:\\n                    print(\"*\"*80)\\n                    print(\"\\\\n Name : \", data[accno][0])\\n                    print(\"\\\\n Accnount Number : \", accno)\\n                    print(\"\\\\n Password : \", data[accno][1])\\n                    print(\"\\\\n Balance : \", data[accno][2])\\n                    print(\"\\\\n Your security answer : \", data[accno][3])\\n                    print(\"*\"*80)\\n                        \\n                else:\\n                    print(\"\\\\n Try again....Password does not matched....\")\\n            else:\\n                print(\"\\\\n No such accnount number...Please check\")\\n        else:\\n            print(\"\\\\n Invalid account number......\")\\n            \\n    elif operation.lower() == \"signup\":\\n        name = input(\"\\\\n Name : \")\\n        password = getpass(\"\\\\n Password : \")\\n        security = input(\"\\\\n Enter date of birth in form of ddmm : \")\\n        bal = eval(input(\"\\\\n Enter your initial balance : \"))\\n        accno = int(list(data.keys())[-1]) + 1  #generation new account number by getting the last number in keys\\n        data[accno] = [name, password, bal, security]\\n        print(\"\\\\n Your account number is : \", accno)\\n        print(\"\\\\n \\\\n Thanks for sign up and We will deliver you best....\")\\n        print(\"\\\\n\\\\n User the above account number for login.....\")\\n    else:\\n        print(\"\\\\n Operation not handled....\")\\n        \\nbank_application(data,\"login\")',\n",
       " '_i19': '%%writefile bank_app.py\\n\\n\"\"\"\\n    This file consists of bank app function use for performing banj operations\\n\"\"\"\\n\\nfrom getpass import getpass\\n\\n\\nData = { \\'1001\\' : [\"simran\", \"passwd\", 12000, \\'1601\\'], \\\\\\n        \\'1002\\' : [\"shahid\", \"admin\", 10000, \\'2810\\'], \\\\\\n        \\'1003\\' : [\"rahul\", \"passpass\", 13000, \\'0505\\'], \\\\\\n        \\'1004\\' : [\"tushar\", \"passwd\", 12500, \\'1306\\']}\\n\\ndef bank_application(data, operation):\\n    \\n    \"\"\"\\n        This function is for bank management of login and signup operation\\n        call the function ---> bank_application(data,opertaion)\\n        data --> dictionary type object\\n        operation --> string type object\\n    \"\"\"\\n    \\n    if operation.lower() == \"login\":\\n        accno = input(\"\\\\n Enter 4 digit number account number : \")\\n        if len(accno) == 4:\\n            if accno in data.keys():\\n                passwd = input(\"\\\\n Enter password : \")\\n                if data[accno][1] == passwd:\\n                    print(\"\\\\n Your details are : \")\\n                    #for i in data[acnno]:\\n                    print(\"*\"*80)\\n                    print(\"\\\\n Name : \", data[accno][0])\\n                    print(\"\\\\n Accnount Number : \", accno)\\n                    print(\"\\\\n Password : \", data[accno][1])\\n                    print(\"\\\\n Balance : \", data[accno][2])\\n                    print(\"\\\\n Your security answer : \", data[accno][3])\\n                    print(\"*\"*80)\\n                        \\n                else:\\n                    print(\"\\\\n Try again....Password does not matched....\")\\n            else:\\n                print(\"\\\\n No such accnount number...Please check\")\\n        else:\\n            print(\"\\\\n Invalid account number......\")\\n            \\n    elif operation.lower() == \"signup\":\\n        name = input(\"\\\\n Name : \")\\n        password = getpass(\"\\\\n Password : \")\\n        security = input(\"\\\\n Enter date of birth in form of ddmm : \")\\n        bal = eval(input(\"\\\\n Enter your initial balance : \"))\\n        accno = int(list(data.keys())[-1]) + 1  #generation new account number by getting the last number in keys\\n        data[accno] = [name, password, bal, security]\\n        print(\"\\\\n Your account number is : \", accno)\\n        print(\"\\\\n \\\\n Thanks for sign up and We will deliver you best....\")\\n        print(\"\\\\n\\\\n User the above account number for login.....\")\\n    else:\\n        print(\"\\\\n Operation not handled....\")\\n        \\nbank_application(data, \"login\")',\n",
       " '_i20': '%%writefile bank_app.py\\n\\n\"\"\"\\n    This file consists of bank app function use for performing banj operations\\n\"\"\"\\n\\nfrom getpass import getpass\\n\\n\\ndata = { \\'1001\\' : [\"simran\", \"passwd\", 12000, \\'1601\\'], \\\\\\n        \\'1002\\' : [\"shahid\", \"admin\", 10000, \\'2810\\'], \\\\\\n        \\'1003\\' : [\"rahul\", \"passpass\", 13000, \\'0505\\'], \\\\\\n        \\'1004\\' : [\"tushar\", \"passwd\", 12500, \\'1306\\']}\\n\\ndef bank_application(data, operation):\\n    \\n    \"\"\"\\n        This function is for bank management of login and signup operation\\n        call the function ---> bank_application(data,opertaion)\\n        data --> dictionary type object\\n        operation --> string type object\\n    \"\"\"\\n    \\n    if operation.lower() == \"login\":\\n        accno = input(\"\\\\n Enter 4 digit number account number : \")\\n        if len(accno) == 4:\\n            if accno in data.keys():\\n                passwd = input(\"\\\\n Enter password : \")\\n                if data[accno][1] == passwd:\\n                    print(\"\\\\n Your details are : \")\\n                    #for i in data[acnno]:\\n                    print(\"*\"*80)\\n                    print(\"\\\\n Name : \", data[accno][0])\\n                    print(\"\\\\n Accnount Number : \", accno)\\n                    print(\"\\\\n Password : \", data[accno][1])\\n                    print(\"\\\\n Balance : \", data[accno][2])\\n                    print(\"\\\\n Your security answer : \", data[accno][3])\\n                    print(\"*\"*80)\\n                        \\n                else:\\n                    print(\"\\\\n Try again....Password does not matched....\")\\n            else:\\n                print(\"\\\\n No such accnount number...Please check\")\\n        else:\\n            print(\"\\\\n Invalid account number......\")\\n            \\n    elif operation.lower() == \"signup\":\\n        name = input(\"\\\\n Name : \")\\n        password = getpass(\"\\\\n Password : \")\\n        security = input(\"\\\\n Enter date of birth in form of ddmm : \")\\n        bal = eval(input(\"\\\\n Enter your initial balance : \"))\\n        accno = int(list(data.keys())[-1]) + 1  #generation new account number by getting the last number in keys\\n        data[accno] = [name, password, bal, security]\\n        print(\"\\\\n Your account number is : \", accno)\\n        print(\"\\\\n \\\\n Thanks for sign up and We will deliver you best....\")\\n        print(\"\\\\n\\\\n User the above account number for login.....\")\\n    else:\\n        print(\"\\\\n Operation not handled....\")\\n        \\nbank_application(data, \"login\")',\n",
       " '_i21': '%%writefile bank_app.py\\n\\n\"\"\"\\n    This file consists of bank app function use for performing banj operations\\n\"\"\"\\n\\nfrom getpass import getpass\\n\\n\\ndata = {\\'1001\\' : [\"simran\", \"passwd\", 12000, \\'1601\\'], \\\\\\n        \\'1002\\' : [\"shahid\", \"admin\", 10000, \\'2810\\'], \\\\\\n        \\'1003\\' : [\"rahul\", \"passpass\", 13000, \\'0505\\'], \\\\\\n        \\'1004\\' : [\"tushar\", \"passwd\", 12500, \\'1306\\']}\\n\\ndef bank_application(data, operation):\\n    \\n    \"\"\"\\n        This function is for bank management of login and signup operation\\n        call the function ---> bank_application(data,opertaion)\\n        data --> dictionary type object\\n        operation --> string type object\\n    \"\"\"\\n    \\n    if operation.lower() == \"login\":\\n        accno = input(\"\\\\n Enter 4 digit number account number : \")\\n        if len(accno) == 4:\\n            if accno in data.keys():\\n                passwd = input(\"\\\\n Enter password : \")\\n                if data[accno][1] == passwd:\\n                    print(\"\\\\n Your details are : \")\\n                    #for i in data[acnno]:\\n                    print(\"*\"*80)\\n                    print(\"\\\\n Name : \", data[accno][0])\\n                    print(\"\\\\n Accnount Number : \", accno)\\n                    print(\"\\\\n Password : \", data[accno][1])\\n                    print(\"\\\\n Balance : \", data[accno][2])\\n                    print(\"\\\\n Your security answer : \", data[accno][3])\\n                    print(\"*\"*80)\\n                        \\n                else:\\n                    print(\"\\\\n Try again....Password does not matched....\")\\n            else:\\n                print(\"\\\\n No such accnount number...Please check\")\\n        else:\\n            print(\"\\\\n Invalid account number......\")\\n            \\n    elif operation.lower() == \"signup\":\\n        name = input(\"\\\\n Name : \")\\n        password = getpass(\"\\\\n Password : \")\\n        security = input(\"\\\\n Enter date of birth in form of ddmm : \")\\n        bal = eval(input(\"\\\\n Enter your initial balance : \"))\\n        accno = int(list(data.keys())[-1]) + 1  #generation new account number by getting the last number in keys\\n        data[accno] = [name, password, bal, security]\\n        print(\"\\\\n Your account number is : \", accno)\\n        print(\"\\\\n \\\\n Thanks for sign up and We will deliver you best....\")\\n        print(\"\\\\n\\\\n User the above account number for login.....\")\\n    else:\\n        print(\"\\\\n Operation not handled....\")\\n        \\nbank_application(data, \"login\")',\n",
       " '_i22': 'def common(a,b=0,*args,**kwargs):\\n    print(\"Positional Argument : \",a)\\n    print(\"Default Argument : \",b)\\n    print(\"Variable Length : \",args)\\n    print(\"Keyword Argument : \",kwargs)\\n    \\ncommon()',\n",
       " 'common': <function __main__.common(a, b=0, *args, **kwargs)>,\n",
       " '_i23': 'common(10)',\n",
       " '_i24': 'common(b=20,a=45)',\n",
       " '_i25': 'common(23,90,12,34,56)',\n",
       " '_i26': 'common(b=45,a=67,12,34,56)',\n",
       " '_i27': 'common(b=45,a=67,12,131,4)',\n",
       " '_i28': 'common(a=34,b=56,args=(1,2,3))',\n",
       " '_i29': 'common(12,34,56,78,90,one=\"one\",two=\"two\",three=\"three\")',\n",
       " '_i30': 'common',\n",
       " '_30': <function __main__.common(a, b=0, *args, **kwargs)>,\n",
       " '_i31': 'common(12)',\n",
       " '_i32': 'def f():\\n    x = int(input(\"\\\\n Enter the value : \"))\\n    x = x * 23\\n    print(\"\\\\n The value of x is : \",x)\\n\\nf()\\nprint(\"\\\\n The value of x is : \",x)',\n",
       " 'f': <function __main__.f()>,\n",
       " '_i33': 'def f():\\n    x = int(input(\"\\\\n Enter the value : \"))\\n    x = x * 23\\n    print(\"\\\\n The value of x is : \",x)\\n    return x\\n\\na = f()\\nprint(\"\\\\n A : \",a)\\nprint(\"\\\\n The value of x is : \",x)',\n",
       " 'a': 1035,\n",
       " '_i34': 'globals()',\n",
       " '_34': {...},\n",
       " '_i35': 'vars()'}"
      ]
     },
     "execution_count": 35,
     "metadata": {},
     "output_type": "execute_result"
    }
   ],
   "source": [
    "vars()"
   ]
  },
  {
   "cell_type": "code",
   "execution_count": 36,
   "metadata": {},
   "outputs": [
    {
     "name": "stdout",
     "output_type": "stream",
     "text": [
      "def f():\n",
      "    x = int(input(\"\\n Enter the value : \"))\n",
      "    x = x * 23\n",
      "    print(\"\\n The value of x is : \",x)\n",
      "\n",
      "f()\n",
      "print(\"\\n The value of x is : \",x)\n"
     ]
    }
   ],
   "source": [
    "print(_i32)"
   ]
  },
  {
   "cell_type": "code",
   "execution_count": 37,
   "metadata": {},
   "outputs": [
    {
     "ename": "NameError",
     "evalue": "name 'x' is not defined",
     "output_type": "error",
     "traceback": [
      "\u001b[1;31m---------------------------------------------------------------------\u001b[0m",
      "\u001b[1;31mNameError\u001b[0m                           Traceback (most recent call last)",
      "\u001b[1;32m<ipython-input-37-6fcf9dfbd479>\u001b[0m in \u001b[0;36m<module>\u001b[1;34m\u001b[0m\n\u001b[1;32m----> 1\u001b[1;33m \u001b[0mx\u001b[0m\u001b[1;33m\u001b[0m\u001b[1;33m\u001b[0m\u001b[0m\n\u001b[0m",
      "\u001b[1;31mNameError\u001b[0m: name 'x' is not defined"
     ]
    }
   ],
   "source": [
    "x"
   ]
  },
  {
   "cell_type": "code",
   "execution_count": 38,
   "metadata": {},
   "outputs": [],
   "source": [
    "s = \"hello world\""
   ]
  },
  {
   "cell_type": "code",
   "execution_count": null,
   "metadata": {},
   "outputs": [],
   "source": []
  },
  {
   "cell_type": "code",
   "execution_count": null,
   "metadata": {},
   "outputs": [],
   "source": []
  },
  {
   "cell_type": "code",
   "execution_count": null,
   "metadata": {},
   "outputs": [],
   "source": []
  },
  {
   "cell_type": "code",
   "execution_count": null,
   "metadata": {},
   "outputs": [],
   "source": []
  },
  {
   "cell_type": "code",
   "execution_count": null,
   "metadata": {},
   "outputs": [],
   "source": []
  },
  {
   "cell_type": "code",
   "execution_count": null,
   "metadata": {},
   "outputs": [],
   "source": []
  },
  {
   "cell_type": "code",
   "execution_count": null,
   "metadata": {},
   "outputs": [],
   "source": []
  },
  {
   "cell_type": "code",
   "execution_count": null,
   "metadata": {},
   "outputs": [],
   "source": []
  },
  {
   "cell_type": "code",
   "execution_count": 39,
   "metadata": {},
   "outputs": [
    {
     "data": {
      "text/plain": [
       "'hello world'"
      ]
     },
     "execution_count": 39,
     "metadata": {},
     "output_type": "execute_result"
    }
   ],
   "source": [
    "s"
   ]
  },
  {
   "cell_type": "code",
   "execution_count": 40,
   "metadata": {},
   "outputs": [],
   "source": [
    "del s"
   ]
  },
  {
   "cell_type": "code",
   "execution_count": 41,
   "metadata": {},
   "outputs": [
    {
     "ename": "NameError",
     "evalue": "name 's' is not defined",
     "output_type": "error",
     "traceback": [
      "\u001b[1;31m---------------------------------------------------------------------\u001b[0m",
      "\u001b[1;31mNameError\u001b[0m                           Traceback (most recent call last)",
      "\u001b[1;32m<ipython-input-41-ded5ba42480f>\u001b[0m in \u001b[0;36m<module>\u001b[1;34m\u001b[0m\n\u001b[1;32m----> 1\u001b[1;33m \u001b[0ms\u001b[0m\u001b[1;33m\u001b[0m\u001b[1;33m\u001b[0m\u001b[0m\n\u001b[0m",
      "\u001b[1;31mNameError\u001b[0m: name 's' is not defined"
     ]
    }
   ],
   "source": [
    "s"
   ]
  },
  {
   "cell_type": "code",
   "execution_count": 43,
   "metadata": {},
   "outputs": [
    {
     "name": "stdout",
     "output_type": "stream",
     "text": [
      "\n",
      " The value of s before calling :  100\n",
      "\n",
      " The value of s inside function is :  100\n",
      "\n",
      " The value of square of s is :  10000\n",
      "\n",
      " The value of s after calling :  100\n"
     ]
    }
   ],
   "source": [
    "s = 100   #global variable\n",
    "def add():\n",
    "    print(\"\\n The value of s inside function is : \",s)\n",
    "    print(\"\\n The value of square of s is : \",s**2)  #we can access the global variable inside the function\n",
    "    \n",
    "    \n",
    "print(\"\\n The value of s before calling : \",s)\n",
    "add()\n",
    "print(\"\\n The value of s after calling : \",s)"
   ]
  },
  {
   "cell_type": "code",
   "execution_count": 44,
   "metadata": {},
   "outputs": [
    {
     "data": {
      "text/plain": [
       "100"
      ]
     },
     "execution_count": 44,
     "metadata": {},
     "output_type": "execute_result"
    }
   ],
   "source": [
    "s"
   ]
  },
  {
   "cell_type": "code",
   "execution_count": 46,
   "metadata": {},
   "outputs": [
    {
     "name": "stdout",
     "output_type": "stream",
     "text": [
      "\n",
      " The value of s before calling :  100\n"
     ]
    },
    {
     "ename": "UnboundLocalError",
     "evalue": "local variable 's' referenced before assignment",
     "output_type": "error",
     "traceback": [
      "\u001b[1;31m---------------------------------------------------------------------\u001b[0m",
      "\u001b[1;31mUnboundLocalError\u001b[0m                   Traceback (most recent call last)",
      "\u001b[1;32m<ipython-input-46-c365419f505f>\u001b[0m in \u001b[0;36m<module>\u001b[1;34m\u001b[0m\n\u001b[0;32m      6\u001b[0m \u001b[1;33m\u001b[0m\u001b[0m\n\u001b[0;32m      7\u001b[0m \u001b[0mprint\u001b[0m\u001b[1;33m(\u001b[0m\u001b[1;34m\"\\n The value of s before calling : \"\u001b[0m\u001b[1;33m,\u001b[0m\u001b[0ms\u001b[0m\u001b[1;33m)\u001b[0m\u001b[1;33m\u001b[0m\u001b[1;33m\u001b[0m\u001b[0m\n\u001b[1;32m----> 8\u001b[1;33m \u001b[0madd\u001b[0m\u001b[1;33m(\u001b[0m\u001b[1;33m)\u001b[0m\u001b[1;33m\u001b[0m\u001b[1;33m\u001b[0m\u001b[0m\n\u001b[0m\u001b[0;32m      9\u001b[0m \u001b[0mprint\u001b[0m\u001b[1;33m(\u001b[0m\u001b[1;34m\"\\n The value of s after calling : \"\u001b[0m\u001b[1;33m,\u001b[0m\u001b[0ms\u001b[0m\u001b[1;33m)\u001b[0m\u001b[1;33m\u001b[0m\u001b[1;33m\u001b[0m\u001b[0m\n",
      "\u001b[1;32m<ipython-input-46-c365419f505f>\u001b[0m in \u001b[0;36madd\u001b[1;34m()\u001b[0m\n\u001b[0;32m      1\u001b[0m \u001b[0ms\u001b[0m \u001b[1;33m=\u001b[0m \u001b[1;36m100\u001b[0m   \u001b[1;31m#global variable\u001b[0m\u001b[1;33m\u001b[0m\u001b[1;33m\u001b[0m\u001b[0m\n\u001b[0;32m      2\u001b[0m \u001b[1;32mdef\u001b[0m \u001b[0madd\u001b[0m\u001b[1;33m(\u001b[0m\u001b[1;33m)\u001b[0m\u001b[1;33m:\u001b[0m\u001b[1;33m\u001b[0m\u001b[1;33m\u001b[0m\u001b[0m\n\u001b[1;32m----> 3\u001b[1;33m     \u001b[0mprint\u001b[0m\u001b[1;33m(\u001b[0m\u001b[1;34m\"\\n The value of s inside function is : \"\u001b[0m\u001b[1;33m,\u001b[0m \u001b[0ms\u001b[0m\u001b[1;33m)\u001b[0m\u001b[1;33m\u001b[0m\u001b[1;33m\u001b[0m\u001b[0m\n\u001b[0m\u001b[0;32m      4\u001b[0m     \u001b[0ms\u001b[0m \u001b[1;33m+=\u001b[0m \u001b[1;36m10\u001b[0m  \u001b[1;31m#trying to modify the global variable s\u001b[0m\u001b[1;33m\u001b[0m\u001b[1;33m\u001b[0m\u001b[0m\n\u001b[0;32m      5\u001b[0m     \u001b[0mprint\u001b[0m\u001b[1;33m(\u001b[0m\u001b[1;34m\"\\n The value of square of s is : \"\u001b[0m\u001b[1;33m,\u001b[0m \u001b[0ms\u001b[0m\u001b[1;33m)\u001b[0m\u001b[1;33m\u001b[0m\u001b[1;33m\u001b[0m\u001b[0m\n",
      "\u001b[1;31mUnboundLocalError\u001b[0m: local variable 's' referenced before assignment"
     ]
    }
   ],
   "source": [
    "s = 100   #global variable\n",
    "def add():\n",
    "    print(\"\\n The value of s inside function is : \", s)\n",
    "    s += 10  #trying to modify the global variable s\n",
    "    print(\"\\n The value of square of s is : \", s)  \n",
    "    \n",
    "print(\"\\n The value of s before calling : \",s)\n",
    "add()\n",
    "print(\"\\n The value of s after calling : \",s)"
   ]
  },
  {
   "cell_type": "code",
   "execution_count": 48,
   "metadata": {},
   "outputs": [
    {
     "ename": "NameError",
     "evalue": "name 'r' is not defined",
     "output_type": "error",
     "traceback": [
      "\u001b[1;31m---------------------------------------------------------------------\u001b[0m",
      "\u001b[1;31mNameError\u001b[0m                           Traceback (most recent call last)",
      "\u001b[1;32m<ipython-input-48-289d72f79737>\u001b[0m in \u001b[0;36m<module>\u001b[1;34m\u001b[0m\n\u001b[1;32m----> 1\u001b[1;33m \u001b[0mr\u001b[0m \u001b[1;33m+=\u001b[0m \u001b[1;36m10\u001b[0m\u001b[1;33m\u001b[0m\u001b[1;33m\u001b[0m\u001b[0m\n\u001b[0m",
      "\u001b[1;31mNameError\u001b[0m: name 'r' is not defined"
     ]
    }
   ],
   "source": [
    "r += 10"
   ]
  },
  {
   "cell_type": "code",
   "execution_count": 50,
   "metadata": {},
   "outputs": [
    {
     "name": "stdout",
     "output_type": "stream",
     "text": [
      "\n",
      " The value of s before calling :  100\n",
      "\n",
      "  GLobal :  140718135029232\n",
      "\n",
      " The value of s inside function is :  0\n",
      "\n",
      " The value of after addition s is :  10\n",
      "\n",
      " local :  140718135026352\n",
      "\n",
      " The value of s after calling :  100\n",
      "\n",
      " Global :  140718135029232\n"
     ]
    }
   ],
   "source": [
    "s = 100   #global variable\n",
    "def add():\n",
    "    s = 0  #local variable\n",
    "    print(\"\\n The value of s inside function is : \", s)\n",
    "    s += 10  #trying to modify the local variable s s = 0 + 10 = 10\n",
    "    print(\"\\n The value of after addition s is : \", s)  \n",
    "    print(\"\\n local : \",id(s))\n",
    "    \n",
    "print(\"\\n The value of s before calling : \",s)\n",
    "print(\"\\n  GLobal : \",id(s))\n",
    "add()\n",
    "print(\"\\n The value of s after calling : \",s)\n",
    "print(\"\\n Global : \",id(s))"
   ]
  },
  {
   "cell_type": "code",
   "execution_count": 51,
   "metadata": {},
   "outputs": [
    {
     "data": {
      "text/plain": [
       "100"
      ]
     },
     "execution_count": 51,
     "metadata": {},
     "output_type": "execute_result"
    }
   ],
   "source": [
    "s"
   ]
  },
  {
   "cell_type": "code",
   "execution_count": 52,
   "metadata": {},
   "outputs": [
    {
     "data": {
      "text/plain": [
       "140718135029232"
      ]
     },
     "execution_count": 52,
     "metadata": {},
     "output_type": "execute_result"
    }
   ],
   "source": [
    "id(s)"
   ]
  },
  {
   "cell_type": "code",
   "execution_count": 53,
   "metadata": {},
   "outputs": [
    {
     "name": "stdout",
     "output_type": "stream",
     "text": [
      "\n",
      " The value of s before calling :  100\n",
      "\n",
      " GLobal s :  140718135029232\n",
      "\n",
      " The value of s inside function is :  100\n",
      "\n",
      " The value of square of s is :  110\n",
      "\n",
      " S :  140718135029552\n",
      "\n",
      " The value of s after calling :  110\n",
      "\n",
      " Global s :  140718135029552\n"
     ]
    }
   ],
   "source": [
    "s = 100   #global variable\n",
    "def add():\n",
    "    global s #tell the interpreter to find the variable s globally but not locally\n",
    "    print(\"\\n The value of s inside function is : \", s)\n",
    "    s += 10  # the global variable s\n",
    "    print(\"\\n The value of square of s is : \", s)  \n",
    "    print(\"\\n S : \",id(s))\n",
    "    \n",
    "print(\"\\n The value of s before calling : \",s)\n",
    "print(\"\\n GLobal s : \",id(s))\n",
    "add()\n",
    "print(\"\\n The value of s after calling : \",s)\n",
    "print(\"\\n Global s : \",id(s))"
   ]
  },
  {
   "cell_type": "code",
   "execution_count": 54,
   "metadata": {},
   "outputs": [
    {
     "data": {
      "text/plain": [
       "110"
      ]
     },
     "execution_count": 54,
     "metadata": {},
     "output_type": "execute_result"
    }
   ],
   "source": [
    "s"
   ]
  },
  {
   "cell_type": "code",
   "execution_count": 55,
   "metadata": {},
   "outputs": [
    {
     "name": "stdout",
     "output_type": "stream",
     "text": [
      "140718135026032\n",
      "140718135026352\n"
     ]
    }
   ],
   "source": [
    "x = 0\n",
    "print(id(x))\n",
    "x += 10\n",
    "print(id(x))"
   ]
  },
  {
   "cell_type": "code",
   "execution_count": 56,
   "metadata": {},
   "outputs": [
    {
     "data": {
      "text/plain": [
       "110"
      ]
     },
     "execution_count": 56,
     "metadata": {},
     "output_type": "execute_result"
    }
   ],
   "source": [
    "s"
   ]
  },
  {
   "cell_type": "code",
   "execution_count": 57,
   "metadata": {},
   "outputs": [
    {
     "data": {
      "text/plain": [
       "110"
      ]
     },
     "execution_count": 57,
     "metadata": {},
     "output_type": "execute_result"
    }
   ],
   "source": [
    "s"
   ]
  },
  {
   "cell_type": "code",
   "execution_count": 58,
   "metadata": {},
   "outputs": [],
   "source": [
    "s += 23"
   ]
  },
  {
   "cell_type": "code",
   "execution_count": 59,
   "metadata": {},
   "outputs": [
    {
     "data": {
      "text/plain": [
       "133"
      ]
     },
     "execution_count": 59,
     "metadata": {},
     "output_type": "execute_result"
    }
   ],
   "source": [
    "s"
   ]
  },
  {
   "cell_type": "code",
   "execution_count": null,
   "metadata": {},
   "outputs": [],
   "source": []
  }
 ],
 "metadata": {
  "kernelspec": {
   "display_name": "Python 3",
   "language": "python",
   "name": "python3"
  },
  "language_info": {
   "codemirror_mode": {
    "name": "ipython",
    "version": 3
   },
   "file_extension": ".py",
   "mimetype": "text/x-python",
   "name": "python",
   "nbconvert_exporter": "python",
   "pygments_lexer": "ipython3",
   "version": "3.7.4"
  }
 },
 "nbformat": 4,
 "nbformat_minor": 2
}
