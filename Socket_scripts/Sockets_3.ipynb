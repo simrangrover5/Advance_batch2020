{
 "cells": [
  {
   "cell_type": "code",
   "execution_count": 1,
   "metadata": {},
   "outputs": [],
   "source": [
    "import socket"
   ]
  },
  {
   "cell_type": "code",
   "execution_count": 2,
   "metadata": {},
   "outputs": [
    {
     "data": {
      "text/plain": [
       "'LAPTOP-JS358S5T'"
      ]
     },
     "execution_count": 2,
     "metadata": {},
     "output_type": "execute_result"
    }
   ],
   "source": [
    "socket.gethostname()"
   ]
  },
  {
   "cell_type": "code",
   "execution_count": 4,
   "metadata": {},
   "outputs": [
    {
     "data": {
      "text/plain": [
       "'169.254.29.223'"
      ]
     },
     "execution_count": 4,
     "metadata": {},
     "output_type": "execute_result"
    }
   ],
   "source": [
    "socket.gethostbyname(\"LAPTOP-JS358S5T\")"
   ]
  },
  {
   "cell_type": "code",
   "execution_count": 7,
   "metadata": {},
   "outputs": [
    {
     "data": {
      "text/plain": [
       "('LAPTOP-JS358S5T', [], ['fe80::10f8:f6c5:c6b3:1ddf'])"
      ]
     },
     "execution_count": 7,
     "metadata": {},
     "output_type": "execute_result"
    }
   ],
   "source": [
    "socket.gethostbyaddr('LAPTOP-JS358S5T')"
   ]
  },
  {
   "cell_type": "code",
   "execution_count": 8,
   "metadata": {},
   "outputs": [
    {
     "data": {
      "text/plain": [
       "'169.254.29.223'"
      ]
     },
     "execution_count": 8,
     "metadata": {},
     "output_type": "execute_result"
    }
   ],
   "source": [
    "socket.gethostbyname(socket.gethostname())"
   ]
  },
  {
   "cell_type": "code",
   "execution_count": null,
   "metadata": {},
   "outputs": [],
   "source": []
  },
  {
   "cell_type": "code",
   "execution_count": 24,
   "metadata": {},
   "outputs": [
    {
     "name": "stdout",
     "output_type": "stream",
     "text": [
      "Overwriting server_file.py\n"
     ]
    }
   ],
   "source": [
    "%%writefile server_file.py\n",
    "\n",
    "import os\n",
    "import socket\n",
    "\n",
    "server = socket.socket(socket.AF_INET,socket.SOCK_STREAM)\n",
    "host = socket.gethostbyname(socket.gethostname())\n",
    "port = 12345\n",
    "\n",
    "server.bind((host,port))\n",
    "server.listen()\n",
    "print(\"\\n Server is ready to listen.......\")\n",
    "\n",
    "client_socket,client_addr = server.accept()\n",
    "print(f\"\\n The client is at ip {client_addr[0]} and port{client_addr[1]}\")\n",
    "\n",
    "client_socket.send(\"\\n Okay waiting for your path of file\".encode())\n",
    "\n",
    "path = client_socket.recv(1024).decode()\n",
    "\n",
    "if os.path.exists(path) and os.path.isfile(path):\n",
    "    client_socket.send(\"\\n The file is on the way.......Please Wait\".encode())\n",
    "else:\n",
    "    client_socket.send(\"\\n The path is incorrect....Please send the correct path\".encode())\n",
    "    "
   ]
  },
  {
   "cell_type": "code",
   "execution_count": 26,
   "metadata": {},
   "outputs": [
    {
     "name": "stdout",
     "output_type": "stream",
     "text": [
      "Overwriting client_file.py\n"
     ]
    }
   ],
   "source": [
    "%%writefile client_file.py\n",
    "import socket,os\n",
    "\n",
    "sock = socket.socket(socket.AF_INET,socket.SOCK_STREAM)\n",
    "host = socket.gethostbyname(socket.gethostname())\n",
    "port = 12345\n",
    "\n",
    "sock.connect((host,port))\n",
    "\n",
    "server_msg = sock.recv(1024).decode()\n",
    "print(\"\\n Server ---> \",server_msg)\n",
    "\n",
    "path = input(\"\\n Enter the path of file that you want to share : \")\n",
    "sock.send(path.encode())\n",
    "\n",
    "server_msg = sock.recv(1024).decode()\n",
    "print(\"\\n Server ---> \",server_msg)"
   ]
  },
  {
   "cell_type": "code",
   "execution_count": 11,
   "metadata": {},
   "outputs": [
    {
     "data": {
      "text/plain": [
       "False"
      ]
     },
     "execution_count": 11,
     "metadata": {},
     "output_type": "execute_result"
    }
   ],
   "source": [
    "#os.path.exists(\"C://batches//batch5pm\")\n",
    "os.path.exists(\"C://batches//batchabpiehpii\")\n",
    "#to check whether the path exists or not"
   ]
  },
  {
   "cell_type": "code",
   "execution_count": 17,
   "metadata": {},
   "outputs": [
    {
     "data": {
      "text/plain": [
       "'C:\\\\batches\\\\online_batch\\\\batch_7pm\\\\Socket_scripts'"
      ]
     },
     "execution_count": 17,
     "metadata": {},
     "output_type": "execute_result"
    }
   ],
   "source": [
    "pwd"
   ]
  },
  {
   "cell_type": "code",
   "execution_count": 19,
   "metadata": {},
   "outputs": [
    {
     "data": {
      "text/plain": [
       "True"
      ]
     },
     "execution_count": 19,
     "metadata": {},
     "output_type": "execute_result"
    }
   ],
   "source": [
    "#to check whether the path is of file or not\n",
    "os.path.isfile(\"C://batches//online_batch//batch_7pm//sockets.jpg\")"
   ]
  },
  {
   "cell_type": "code",
   "execution_count": 27,
   "metadata": {},
   "outputs": [],
   "source": [
    "f = open('hello.txt','w')\n",
    "f.write('hello\\n world')\n",
    "f.close()"
   ]
  },
  {
   "cell_type": "code",
   "execution_count": 28,
   "metadata": {},
   "outputs": [
    {
     "name": "stdout",
     "output_type": "stream",
     "text": [
      "hello\n",
      "\n"
     ]
    }
   ],
   "source": [
    "f = open(\"hello.txt\")\n",
    "print(f.readline())"
   ]
  },
  {
   "cell_type": "code",
   "execution_count": 29,
   "metadata": {},
   "outputs": [
    {
     "name": "stdout",
     "output_type": "stream",
     "text": [
      " world\n"
     ]
    }
   ],
   "source": [
    "print(f.readline())"
   ]
  },
  {
   "cell_type": "code",
   "execution_count": 36,
   "metadata": {},
   "outputs": [
    {
     "name": "stdout",
     "output_type": "stream",
     "text": [
      "Overwriting server_file.py\n"
     ]
    }
   ],
   "source": [
    "%%writefile server_file.py\n",
    "\n",
    "import os\n",
    "import socket\n",
    "\n",
    "server = socket.socket(socket.AF_INET,socket.SOCK_STREAM)\n",
    "host = socket.gethostbyname(socket.gethostname())\n",
    "port = 12345\n",
    "\n",
    "server.bind((host,port))\n",
    "server.listen()\n",
    "print(\"\\n Server is ready to listen.......\")\n",
    "\n",
    "client_socket,client_addr = server.accept()\n",
    "print(f\"\\n The client is at ip {client_addr[0]} and port{client_addr[1]}\")\n",
    "\n",
    "client_socket.send(\"\\n Okay waiting for your path of file\".encode())\n",
    "\n",
    "path = client_socket.recv(1024).decode()\n",
    "\n",
    "if os.path.exists(path) and os.path.isfile(path):\n",
    "    client_socket.send(\"\\n The file is on the way.......Please Wait\".encode())\n",
    "    f = open(path,'rb')\n",
    "    data = f.readline()\n",
    "    while data:\n",
    "        client_socket.send(data)\n",
    "        data = f.readline()\n",
    "    else:\n",
    "        print('\\n Successfully send the file')\n",
    "else:\n",
    "    client_socket.send(\"\\n The path does not exist....Please send the correct path\".encode())\n",
    "    print(\"\\n The path asked by the client was not correct\")\n",
    "    client_socket.close()\n",
    "    server.close()"
   ]
  },
  {
   "cell_type": "code",
   "execution_count": 35,
   "metadata": {},
   "outputs": [
    {
     "name": "stdout",
     "output_type": "stream",
     "text": [
      "Overwriting client_file.py\n"
     ]
    }
   ],
   "source": [
    "%%writefile client_file.py\n",
    "import socket,os\n",
    "\n",
    "sock = socket.socket(socket.AF_INET,socket.SOCK_STREAM)\n",
    "host = socket.gethostbyname(socket.gethostname())\n",
    "port = 12345\n",
    "\n",
    "sock.connect((host,port))\n",
    "\n",
    "server_msg = sock.recv(1024).decode()\n",
    "print(\"\\n Server ---> \",server_msg)\n",
    "\n",
    "path = input(\"\\n Enter the path of file that you want to share : \")\n",
    "sock.send(path.encode())\n",
    "\n",
    "server_msg = sock.recv(1024).decode()\n",
    "print(\"\\n Server ---> \",server_msg)\n",
    "if \"does not exist\" in server_msg:\n",
    "    sock.close()\n",
    "else:\n",
    "    filename = input(\"\\n Enter name of file by which you want to save : \")\n",
    "\n",
    "    with open(filename,\"wb\") as fp:\n",
    "        line = sock.recv(1024)\n",
    "        while line:\n",
    "            fp.write(line)\n",
    "            line = sock.recv(1024)\n",
    "        else:\n",
    "            print(\"\\n The file is received successfully\")"
   ]
  },
  {
   "cell_type": "code",
   "execution_count": 37,
   "metadata": {},
   "outputs": [
    {
     "name": "stdout",
     "output_type": "stream",
     "text": [
      "Overwriting server_file.py\n"
     ]
    }
   ],
   "source": [
    "%%writefile server_file.py\n",
    "\n",
    "import os\n",
    "import socket\n",
    "\n",
    "server = socket.socket(socket.AF_INET,socket.SOCK_STREAM)\n",
    "host = socket.gethostbyname(socket.gethostname())\n",
    "port = 12345\n",
    "\n",
    "server.bind((host,port))\n",
    "server.listen()\n",
    "print(\"\\n Server is ready to listen.......\")\n",
    "\n",
    "client_socket,client_addr = server.accept()\n",
    "print(f\"\\n The client is at ip {client_addr[0]} and port{client_addr[1]}\")\n",
    "\n",
    "client_socket.send(\"\\n Okay waiting for your path of file\".encode())\n",
    "\n",
    "path = client_socket.recv(1024).decode()\n",
    "\n",
    "if os.path.exists(path) and os.path.isfile(path):\n",
    "    client_socket.send(\"\\n The file is on the way.......Please Wait\".encode())\n",
    "    f = open(path,'rb')\n",
    "    data = f.readline()\n",
    "    while data:\n",
    "        client_socket.send(data)\n",
    "        data = f.readline()\n",
    "    else:\n",
    "        print('\\n Successfully send the file')\n",
    "else:\n",
    "    client_socket.send(\"\\n The path does not exist....Please send the correct path\".encode())\n",
    "    print(\"\\n The path asked by the client was not correct\")\n",
    "    client_socket.close()\n",
    "    server.close()"
   ]
  },
  {
   "cell_type": "code",
   "execution_count": 38,
   "metadata": {},
   "outputs": [],
   "source": [
    "path = \"C://batches//batch5pm//sockets.jpg\""
   ]
  },
  {
   "cell_type": "code",
   "execution_count": 39,
   "metadata": {},
   "outputs": [
    {
     "name": "stdout",
     "output_type": "stream",
     "text": [
      "C://batches\n"
     ]
    }
   ],
   "source": [
    "client_path = input()  #--> C://batches//batch5pm//one"
   ]
  },
  {
   "cell_type": "code",
   "execution_count": 40,
   "metadata": {},
   "outputs": [
    {
     "data": {
      "text/plain": [
       "True"
      ]
     },
     "execution_count": 40,
     "metadata": {},
     "output_type": "execute_result"
    }
   ],
   "source": [
    "os.path.exists(\"C://batches\")"
   ]
  },
  {
   "cell_type": "code",
   "execution_count": 41,
   "metadata": {},
   "outputs": [
    {
     "data": {
      "text/plain": [
       "True"
      ]
     },
     "execution_count": 41,
     "metadata": {},
     "output_type": "execute_result"
    }
   ],
   "source": [
    "os.path.exists(\"C:/batches\")"
   ]
  },
  {
   "cell_type": "code",
   "execution_count": 42,
   "metadata": {},
   "outputs": [
    {
     "data": {
      "text/plain": [
       "True"
      ]
     },
     "execution_count": 42,
     "metadata": {},
     "output_type": "execute_result"
    }
   ],
   "source": [
    "os.path.exists(\"C:\\\\batches\")"
   ]
  },
  {
   "cell_type": "code",
   "execution_count": 43,
   "metadata": {},
   "outputs": [
    {
     "data": {
      "text/plain": [
       "False"
      ]
     },
     "execution_count": 43,
     "metadata": {},
     "output_type": "execute_result"
    }
   ],
   "source": [
    "os.path.exists(\"C:\\batches\")"
   ]
  },
  {
   "cell_type": "code",
   "execution_count": 54,
   "metadata": {},
   "outputs": [
    {
     "data": {
      "text/plain": [
       "'C://batches//batch5pm'"
      ]
     },
     "execution_count": 54,
     "metadata": {},
     "output_type": "execute_result"
    }
   ],
   "source": [
    "path = \"C://batches//batch5pm//sockets.jpg\"\n",
    "l = path.split(\"//\")[:-1]\n",
    "\"//\".join(l)"
   ]
  },
  {
   "cell_type": "code",
   "execution_count": 46,
   "metadata": {},
   "outputs": [],
   "source": [
    "#sockets.txt.jpg"
   ]
  },
  {
   "cell_type": "code",
   "execution_count": 57,
   "metadata": {},
   "outputs": [
    {
     "name": "stdout",
     "output_type": "stream",
     "text": [
      "Overwriting client_file.py\n"
     ]
    }
   ],
   "source": [
    "%%writefile client_file.py\n",
    "import socket,os\n",
    "\n",
    "sock = socket.socket(socket.AF_INET,socket.SOCK_STREAM)\n",
    "host = socket.gethostbyname(socket.gethostname())\n",
    "port = 12345\n",
    "\n",
    "sock.connect((host,port))\n",
    "\n",
    "server_msg = sock.recv(1024).decode()\n",
    "print(\"\\n Server ---> \",server_msg)\n",
    "\n",
    "path = input(\"\\n Enter the path of file that you want to share : \")\n",
    "sock.send(path.encode())\n",
    "\n",
    "server_msg = sock.recv(1024).decode()\n",
    "print(\"\\n Server ---> \",server_msg)\n",
    "if \"does not exist\" in server_msg:\n",
    "    sock.close()\n",
    "else:\n",
    "    filename = input(\"\\n Enter name of file by where you want to save without extension: \")  #C://batches//xyz\n",
    "    ext = path.split(\".\")[-1]\n",
    "    if \"//\" in filename:\n",
    "        l = filename.split(\"//\")[:-1]\n",
    "        path = \"//\".join(l)\n",
    "    if \"\\\\\" in filename:\n",
    "        l = filename.split(\"\\\\\")[:-1]\n",
    "        path = \"//\".join(l)\n",
    "    elif \"/\" in filename:\n",
    "        l = filename.split(\"/\")[:-1]\n",
    "        path = \"//\".join(l)\n",
    "    else:\n",
    "        print(\"\\n Incorrect path....\")\n",
    "        sock.close()\n",
    "    if os.path.exists(path):\n",
    "        filename = filename+\".\"+ext\n",
    "        with open(filename,\"wb\") as fp:\n",
    "            line = sock.recv(1024)\n",
    "            while line:\n",
    "                fp.write(line)\n",
    "                line = sock.recv(1024)\n",
    "            else:\n",
    "                print(\"\\n The file is received successfully\")\n",
    "    else:\n",
    "        print(\"\\n Incorrect Path\")\n",
    "        sock.close()"
   ]
  },
  {
   "cell_type": "code",
   "execution_count": 58,
   "metadata": {},
   "outputs": [
    {
     "name": "stdout",
     "output_type": "stream",
     "text": [
      "Overwriting client_file.py\n"
     ]
    }
   ],
   "source": [
    "%%writefile client_file.py\n",
    "import socket,os\n",
    "\n",
    "sock = socket.socket(socket.AF_INET,socket.SOCK_STREAM)\n",
    "host = socket.gethostbyname(socket.gethostname())\n",
    "port = 12345\n",
    "\n",
    "sock.connect((host,port))\n",
    "\n",
    "server_msg = sock.recv(1024).decode()\n",
    "print(\"\\n Server ---> \",server_msg)\n",
    "\n",
    "path = input(\"\\n Enter the path of file that you want to share : \")\n",
    "sock.send(path.encode())\n",
    "\n",
    "server_msg = sock.recv(1024).decode()\n",
    "print(\"\\n Server ---> \",server_msg)\n",
    "if \"does not exist\" in server_msg:\n",
    "    sock.close()\n",
    "else:\n",
    "    filename = input(\"\\n Enter name of file by where you want to save with extension : \")  #C://batches//xyz\n",
    "    if \"//\" in filename:\n",
    "        l = filename.split(\"//\")[:-1]\n",
    "        path1 = \"//\".join(l)\n",
    "    if \"\\\\\" in filename:\n",
    "        l = filename.split(\"\\\\\")[:-1]\n",
    "        path1 = \"//\".join(l)\n",
    "    elif \"/\" in filename:\n",
    "        l = filename.split(\"/\")[:-1]\n",
    "        path1 = \"//\".join(l)\n",
    "    else:\n",
    "        print(\"\\n Incorrect path....\")\n",
    "        sock.close()\n",
    "    if os.path.exists(path1) and filename.split(\".\")[-1] == path.split(\".\")[-1]:\n",
    "        with open(filename,\"wb\") as fp:\n",
    "            line = sock.recv(1024)\n",
    "            while line:\n",
    "                fp.write(line)\n",
    "                line = sock.recv(1024)\n",
    "            else:\n",
    "                print(\"\\n The file is received successfully\")\n",
    "    else:\n",
    "        print(\"\\n Incorrect Extension\")\n",
    "        sock.close()"
   ]
  },
  {
   "cell_type": "code",
   "execution_count": 59,
   "metadata": {},
   "outputs": [],
   "source": [
    "## portscanner --> that will scan the port that is open in your computer\n",
    "#sockets, tool \n",
    "#network scanner ---> find the ips that is present in your network\n",
    "#192.168.1.4 , 192.168.1.5"
   ]
  },
  {
   "cell_type": "code",
   "execution_count": 4,
   "metadata": {},
   "outputs": [
    {
     "name": "stdout",
     "output_type": "stream",
     "text": [
      "Overwriting server_json.py\n"
     ]
    }
   ],
   "source": [
    "%%writefile server_json.py\n",
    "\n",
    "import os\n",
    "import socket\n",
    "\n",
    "server = socket.socket(socket.AF_INET,socket.SOCK_STREAM)\n",
    "host = socket.gethostbyname(socket.gethostname())\n",
    "port = 12345\n",
    "\n",
    "server.bind((host,port))\n",
    "server.listen()\n",
    "print(\"\\n Server is ready to listen.......\")\n",
    "\n",
    "client_socket,client_addr = server.accept()\n",
    "print(f\"\\n The client is at ip {client_addr[0]} and port{client_addr[1]}\")\n",
    "\n",
    "data ={\n",
    "    \"name\" : [\"simran\",'sonam','khushi','nehal','komal'],\n",
    "    \"password\" : [\"admin\",\"password\",\"passwd\",\"adminadmin\",\"passwd\"]\n",
    "}\n",
    "\n",
    "client_socket.send(\"Waiting for your data....\".encode())\n",
    "\n",
    "client_msg = client_socket.recv(1024).decode()"
   ]
  },
  {
   "cell_type": "code",
   "execution_count": 2,
   "metadata": {},
   "outputs": [
    {
     "name": "stdout",
     "output_type": "stream",
     "text": [
      "Writing client_json.py\n"
     ]
    }
   ],
   "source": [
    "%%writefile client_json.py\n",
    "\n",
    "import socket,os,json\n",
    "\n",
    "sock = socket.socket(socket.AF_INET,socket.SOCK_STREAM)\n",
    "host = socket.gethostbyname(socket.gethostname())\n",
    "port = 12345\n",
    "\n",
    "sock.connect((host,port))\n",
    "\n",
    "server_msg = sock.recv(1024).decode()\n",
    "print(\"\\n Server ---> \",server_msg)\n",
    "\n",
    "data = {\"name\":\"simran\",\"password\":\"admin\"}\n",
    "sock.send(json.dumps(data).encode())\n",
    "print(\"\\n Successfully send\")"
   ]
  },
  {
   "cell_type": "code",
   "execution_count": 2,
   "metadata": {},
   "outputs": [
    {
     "data": {
      "text/plain": [
       "b\"{'name': 'simran', 'password': 'admin'}\""
      ]
     },
     "execution_count": 2,
     "metadata": {},
     "output_type": "execute_result"
    }
   ],
   "source": [
    "str({\"name\":\"simran\",\"password\":\"admin\"}).encode()"
   ]
  },
  {
   "cell_type": "code",
   "execution_count": 3,
   "metadata": {},
   "outputs": [],
   "source": [
    "en = str({\"name\":\"simran\",\"password\":\"admin\"}).encode()"
   ]
  },
  {
   "cell_type": "code",
   "execution_count": 4,
   "metadata": {},
   "outputs": [],
   "source": [
    "l = en.decode()"
   ]
  },
  {
   "cell_type": "code",
   "execution_count": 6,
   "metadata": {},
   "outputs": [
    {
     "ename": "TypeError",
     "evalue": "string indices must be integers",
     "output_type": "error",
     "traceback": [
      "\u001b[1;31m------------------------------------------------------------------\u001b[0m",
      "\u001b[1;31mTypeError\u001b[0m                        Traceback (most recent call last)",
      "\u001b[1;32m<ipython-input-6-046ea1c04510>\u001b[0m in \u001b[0;36m<module>\u001b[1;34m\u001b[0m\n\u001b[1;32m----> 1\u001b[1;33m \u001b[0ml\u001b[0m\u001b[1;33m[\u001b[0m\u001b[1;34m\"name\"\u001b[0m\u001b[1;33m]\u001b[0m\u001b[1;33m\u001b[0m\u001b[1;33m\u001b[0m\u001b[0m\n\u001b[0m",
      "\u001b[1;31mTypeError\u001b[0m: string indices must be integers"
     ]
    }
   ],
   "source": [
    "l[\"name\"]"
   ]
  },
  {
   "cell_type": "code",
   "execution_count": 1,
   "metadata": {},
   "outputs": [
    {
     "data": {
      "text/plain": [
       "'{\"name\": \"simran\", \"password\": \"admin\"}'"
      ]
     },
     "execution_count": 1,
     "metadata": {},
     "output_type": "execute_result"
    }
   ],
   "source": [
    "import json\n",
    "json.dumps({\"name\":\"simran\",\"password\":\"admin\"})"
   ]
  },
  {
   "cell_type": "code",
   "execution_count": 8,
   "metadata": {},
   "outputs": [
    {
     "name": "stdout",
     "output_type": "stream",
     "text": [
      "\n",
      " Server is ready to listen.......\n",
      "\n",
      " The client is at ip 169.254.29.223 and port9532\n",
      "\n",
      " Okay data is correct\n"
     ]
    }
   ],
   "source": [
    "import os\n",
    "import socket\n",
    "\n",
    "server = socket.socket(socket.AF_INET,socket.SOCK_STREAM)\n",
    "host = socket.gethostbyname(socket.gethostname())\n",
    "port = 12345\n",
    "\n",
    "server.bind((host,port))\n",
    "server.listen()\n",
    "print(\"\\n Server is ready to listen.......\")\n",
    "\n",
    "client_socket,client_addr = server.accept()\n",
    "print(f\"\\n The client is at ip {client_addr[0]} and port{client_addr[1]}\")\n",
    "\n",
    "data ={\n",
    "    \"name\" : [\"simran\",'sonam','khushi','nehal','komal'],\n",
    "    \"password\" : [\"admin\",\"password\",\"passwd\",\"adminadmin\",\"passwd\"]\n",
    "}\n",
    "\n",
    "client_socket.send(\"Waiting for your data....\".encode())\n",
    "\n",
    "client_msg = client_socket.recv(1024).decode()\n",
    "d = json.loads(client_msg)\n",
    "if d[\"name\"] in data[\"name\"]:\n",
    "    if d[\"password\"] in data[\"password\"]:\n",
    "        print(\"\\n Okay data is correct\")\n",
    "    else:\n",
    "        print(\"\\n Password is incorrect\")\n",
    "else:\n",
    "    print(\"\\n Name is incorrect\")"
   ]
  },
  {
   "cell_type": "code",
   "execution_count": null,
   "metadata": {},
   "outputs": [],
   "source": []
  }
 ],
 "metadata": {
  "kernelspec": {
   "display_name": "Python 3",
   "language": "python",
   "name": "python3"
  },
  "language_info": {
   "codemirror_mode": {
    "name": "ipython",
    "version": 3
   },
   "file_extension": ".py",
   "mimetype": "text/x-python",
   "name": "python",
   "nbconvert_exporter": "python",
   "pygments_lexer": "ipython3",
   "version": "3.7.4"
  }
 },
 "nbformat": 4,
 "nbformat_minor": 2
}
