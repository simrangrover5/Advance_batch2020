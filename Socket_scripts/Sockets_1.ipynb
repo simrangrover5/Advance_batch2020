{
 "cells": [
  {
   "cell_type": "code",
   "execution_count": 1,
   "metadata": {},
   "outputs": [],
   "source": [
    "import socket"
   ]
  },
  {
   "cell_type": "markdown",
   "metadata": {},
   "source": [
    "    Address Family --> IPv4\n",
    "    Protocol --> TCP --> Transfer Control Protocol\n",
    "            1. Connection oriented\n",
    "            2. Reliable (three way handshaking)\n",
    "            3. Less speed than udp\n",
    "            \n",
    "    UDP --> User Datagram Protocol\n",
    "           1. Connection less\n",
    "           2. Non reliable\n",
    "           3. More speed than tcp"
   ]
  },
  {
   "cell_type": "code",
   "execution_count": 2,
   "metadata": {},
   "outputs": [
    {
     "name": "stdout",
     "output_type": "stream",
     "text": [
      "\n",
      "Windows IP Configuration\n",
      "\n",
      "\n",
      "Ethernet adapter Ethernet 2:\n",
      "\n",
      "   Media State . . . . . . . . . . . : Media disconnected\n",
      "   Connection-specific DNS Suffix  . : www.tendawifi.com\n",
      "\n",
      "Ethernet adapter Npcap Loopback Adapter:\n",
      "\n",
      "   Connection-specific DNS Suffix  . : \n",
      "   Link-local IPv6 Address . . . . . : fe80::10f8:f6c5:c6b3:1ddf%10\n",
      "   Autoconfiguration IPv4 Address. . : 169.254.29.223\n",
      "   Subnet Mask . . . . . . . . . . . : 255.255.0.0\n",
      "   Default Gateway . . . . . . . . . : \n",
      "\n",
      "Wireless LAN adapter Local Area Connection* 1:\n",
      "\n",
      "   Media State . . . . . . . . . . . : Media disconnected\n",
      "   Connection-specific DNS Suffix  . : \n",
      "\n",
      "Wireless LAN adapter Local Area Connection* 11:\n",
      "\n",
      "   Media State . . . . . . . . . . . : Media disconnected\n",
      "   Connection-specific DNS Suffix  . : \n",
      "\n",
      "Ethernet adapter VMware Network Adapter VMnet1:\n",
      "\n",
      "   Connection-specific DNS Suffix  . : \n",
      "   Link-local IPv6 Address . . . . . : fe80::34b9:61ee:aa27:4ae6%15\n",
      "   IPv4 Address. . . . . . . . . . . : 192.168.226.1\n",
      "   Subnet Mask . . . . . . . . . . . : 255.255.255.0\n",
      "   Default Gateway . . . . . . . . . : \n",
      "\n",
      "Ethernet adapter VMware Network Adapter VMnet8:\n",
      "\n",
      "   Connection-specific DNS Suffix  . : \n",
      "   Link-local IPv6 Address . . . . . : fe80::d77:b06d:dcb4:49db%4\n",
      "   IPv4 Address. . . . . . . . . . . : 192.168.116.1\n",
      "   Subnet Mask . . . . . . . . . . . : 255.255.255.0\n",
      "   Default Gateway . . . . . . . . . : \n",
      "\n",
      "Wireless LAN adapter Wi-Fi:\n",
      "\n",
      "   Connection-specific DNS Suffix  . : \n",
      "   Link-local IPv6 Address . . . . . : fe80::b538:c1a0:3b6c:d403%11\n",
      "   IPv4 Address. . . . . . . . . . . : 192.168.1.4\n",
      "   Subnet Mask . . . . . . . . . . . : 255.255.255.0\n",
      "   Default Gateway . . . . . . . . . : 192.168.1.254\n"
     ]
    }
   ],
   "source": [
    "!ipconfig"
   ]
  },
  {
   "cell_type": "code",
   "execution_count": 3,
   "metadata": {},
   "outputs": [
    {
     "name": "stdout",
     "output_type": "stream",
     "text": [
      "\n",
      "Pinging 192.168.1.4 with 32 bytes of data:\n",
      "Reply from 192.168.1.4: bytes=32 time<1ms TTL=128\n",
      "Reply from 192.168.1.4: bytes=32 time<1ms TTL=128\n",
      "Reply from 192.168.1.4: bytes=32 time<1ms TTL=128\n",
      "Reply from 192.168.1.4: bytes=32 time<1ms TTL=128\n",
      "\n",
      "Ping statistics for 192.168.1.4:\n",
      "    Packets: Sent = 4, Received = 4, Lost = 0 (0% loss),\n",
      "Approximate round trip times in milli-seconds:\n",
      "    Minimum = 0ms, Maximum = 0ms, Average = 0ms\n"
     ]
    }
   ],
   "source": [
    "!ping 192.168.1.4"
   ]
  },
  {
   "cell_type": "code",
   "execution_count": 4,
   "metadata": {},
   "outputs": [
    {
     "name": "stdout",
     "output_type": "stream",
     "text": [
      "\n",
      "Pinging 192.168.1.5 with 32 bytes of data:\n",
      "Reply from 192.168.1.5: bytes=32 time=259ms TTL=64\n",
      "Reply from 192.168.1.5: bytes=32 time=4ms TTL=64\n",
      "Reply from 192.168.1.5: bytes=32 time=2ms TTL=64\n",
      "Reply from 192.168.1.5: bytes=32 time=84ms TTL=64\n",
      "\n",
      "Ping statistics for 192.168.1.5:\n",
      "    Packets: Sent = 4, Received = 4, Lost = 0 (0% loss),\n",
      "Approximate round trip times in milli-seconds:\n",
      "    Minimum = 2ms, Maximum = 259ms, Average = 87ms\n"
     ]
    }
   ],
   "source": [
    "!ping 192.168.1.5"
   ]
  },
  {
   "cell_type": "code",
   "execution_count": 5,
   "metadata": {},
   "outputs": [
    {
     "name": "stdout",
     "output_type": "stream",
     "text": [
      "\n",
      "Pinging 192.168.1.10 with 32 bytes of data:\n",
      "Reply from 192.168.1.4: Destination host unreachable.\n",
      "Reply from 192.168.1.4: Destination host unreachable.\n",
      "Reply from 192.168.1.4: Destination host unreachable.\n",
      "Reply from 192.168.1.4: Destination host unreachable.\n",
      "\n",
      "Ping statistics for 192.168.1.10:\n",
      "    Packets: Sent = 4, Received = 4, Lost = 0 (0% loss),\n"
     ]
    }
   ],
   "source": [
    "!ping 192.168.1.10"
   ]
  },
  {
   "cell_type": "code",
   "execution_count": 6,
   "metadata": {},
   "outputs": [],
   "source": [
    "import os"
   ]
  },
  {
   "cell_type": "code",
   "execution_count": 7,
   "metadata": {},
   "outputs": [
    {
     "name": "stdout",
     "output_type": "stream",
     "text": [
      "\n",
      "\n",
      "Windows IP Configuration\n",
      "\n",
      "\n",
      "\n",
      "\n",
      "\n",
      "Ethernet adapter Ethernet 2:\n",
      "\n",
      "\n",
      "\n",
      "   Media State . . . . . . . . . . . : Media disconnected\n",
      "\n",
      "   Connection-specific DNS Suffix  . : www.tendawifi.com\n",
      "\n",
      "\n",
      "\n",
      "Ethernet adapter Npcap Loopback Adapter:\n",
      "\n",
      "\n",
      "\n",
      "   Connection-specific DNS Suffix  . : \n",
      "\n",
      "   Link-local IPv6 Address . . . . . : fe80::10f8:f6c5:c6b3:1ddf%10\n",
      "\n",
      "   Autoconfiguration IPv4 Address. . : 169.254.29.223\n",
      "\n",
      "   Subnet Mask . . . . . . . . . . . : 255.255.0.0\n",
      "\n",
      "   Default Gateway . . . . . . . . . : \n",
      "\n",
      "\n",
      "\n",
      "Wireless LAN adapter Local Area Connection* 1:\n",
      "\n",
      "\n",
      "\n",
      "   Media State . . . . . . . . . . . : Media disconnected\n",
      "\n",
      "   Connection-specific DNS Suffix  . : \n",
      "\n",
      "\n",
      "\n",
      "Wireless LAN adapter Local Area Connection* 11:\n",
      "\n",
      "\n",
      "\n",
      "   Media State . . . . . . . . . . . : Media disconnected\n",
      "\n",
      "   Connection-specific DNS Suffix  . : \n",
      "\n",
      "\n",
      "\n",
      "Ethernet adapter VMware Network Adapter VMnet1:\n",
      "\n",
      "\n",
      "\n",
      "   Connection-specific DNS Suffix  . : \n",
      "\n",
      "   Link-local IPv6 Address . . . . . : fe80::34b9:61ee:aa27:4ae6%15\n",
      "\n",
      "   IPv4 Address. . . . . . . . . . . : 192.168.226.1\n",
      "\n",
      "   Subnet Mask . . . . . . . . . . . : 255.255.255.0\n",
      "\n",
      "   Default Gateway . . . . . . . . . : \n",
      "\n",
      "\n",
      "\n",
      "Ethernet adapter VMware Network Adapter VMnet8:\n",
      "\n",
      "\n",
      "\n",
      "   Connection-specific DNS Suffix  . : \n",
      "\n",
      "   Link-local IPv6 Address . . . . . : fe80::d77:b06d:dcb4:49db%4\n",
      "\n",
      "   IPv4 Address. . . . . . . . . . . : 192.168.116.1\n",
      "\n",
      "   Subnet Mask . . . . . . . . . . . : 255.255.255.0\n",
      "\n",
      "   Default Gateway . . . . . . . . . : \n",
      "\n",
      "\n",
      "\n",
      "Wireless LAN adapter Wi-Fi:\n",
      "\n",
      "\n",
      "\n",
      "   Connection-specific DNS Suffix  . : \n",
      "\n",
      "   Link-local IPv6 Address . . . . . : fe80::b538:c1a0:3b6c:d403%11\n",
      "\n",
      "   IPv4 Address. . . . . . . . . . . : 192.168.1.4\n",
      "\n",
      "   Subnet Mask . . . . . . . . . . . : 255.255.255.0\n",
      "\n",
      "   Default Gateway . . . . . . . . . : 192.168.1.254\n",
      "\n"
     ]
    }
   ],
   "source": [
    "p = os.popen(\"ipconfig\")\n",
    "for i in p:\n",
    "    print(i)"
   ]
  },
  {
   "cell_type": "code",
   "execution_count": 8,
   "metadata": {},
   "outputs": [
    {
     "name": "stdout",
     "output_type": "stream",
     "text": [
      "\n",
      "\n",
      "Pinging 192.168.1.4 with 32 bytes of data:\n",
      "\n",
      "Reply from 192.168.1.4: bytes=32 time<1ms TTL=128\n",
      "\n",
      "Reply from 192.168.1.4: bytes=32 time<1ms TTL=128\n",
      "\n",
      "Reply from 192.168.1.4: bytes=32 time<1ms TTL=128\n",
      "\n",
      "Reply from 192.168.1.4: bytes=32 time<1ms TTL=128\n",
      "\n",
      "\n",
      "\n",
      "Ping statistics for 192.168.1.4:\n",
      "\n",
      "    Packets: Sent = 4, Received = 4, Lost = 0 (0% loss),\n",
      "\n",
      "Approximate round trip times in milli-seconds:\n",
      "\n",
      "    Minimum = 0ms, Maximum = 0ms, Average = 0ms\n",
      "\n"
     ]
    }
   ],
   "source": [
    "for i in os.popen(\"ping 192.168.1.4\"):\n",
    "    print(i)"
   ]
  },
  {
   "cell_type": "markdown",
   "metadata": {},
   "source": [
    "        http --> 80\n",
    "        ssl --> 465\n",
    "        TLS --> 587\n",
    "        Mysql --> 3306"
   ]
  },
  {
   "cell_type": "code",
   "execution_count": 9,
   "metadata": {},
   "outputs": [
    {
     "name": "stdout",
     "output_type": "stream",
     "text": [
      "Writing server.py\n"
     ]
    }
   ],
   "source": [
    "%%writefile server.py\n",
    "\n",
    "### server_file\n",
    "\n",
    "import socket\n",
    "\n",
    "server = socket.socket(socket.AF_INET,socket.SOCK_STREAM)  #AF_INET --> IPv4, SOCK_STREAM --> TCP Protocol\n",
    "ip = \"192.168.1.4\"\n",
    "port = 1234\n",
    "\n",
    "server.bind((ip,port))\n",
    "print(f\"\\n The server socket is created at ip {ip} and port {port}\")\n",
    "server.listen()\n",
    "print(\"\\n Server is ready to listen......\")\n",
    "client_socket,client_addr = server.accept()  #accept will return 2 things 1 --> client socket, client address\n",
    "print(client_socket)\n",
    "print(client_addr)"
   ]
  },
  {
   "cell_type": "code",
   "execution_count": 10,
   "metadata": {},
   "outputs": [
    {
     "name": "stdout",
     "output_type": "stream",
     "text": [
      "Writing client.py\n"
     ]
    }
   ],
   "source": [
    "%%writefile client.py\n",
    "\n",
    "import socket\n",
    "\n",
    "sock = socket.socket(socket.AF_INET,socket.SOCK_STREAM)  #AF_INET --> IPv4, SOCK_STREAM --> TCP Protocol\n",
    "ip = \"192.168.1.4\"\n",
    "port = 1234\n",
    "\n",
    "sock.connect((ip,port))\n",
    "print(f\"\\n Connected to server at ip {ip} and port {port}\")"
   ]
  },
  {
   "cell_type": "code",
   "execution_count": 18,
   "metadata": {},
   "outputs": [
    {
     "name": "stdout",
     "output_type": "stream",
     "text": [
      "Overwriting server1.py\n"
     ]
    }
   ],
   "source": [
    "%%writefile server1.py\n",
    "\n",
    "### server_file\n",
    "\n",
    "import socket\n",
    "\n",
    "server = socket.socket(socket.AF_INET,socket.SOCK_STREAM)  #AF_INET --> IPv4, SOCK_STREAM --> TCP Protocol\n",
    "ip = \"192.168.1.4\"\n",
    "port = 1234\n",
    "\n",
    "server.bind((ip,port))\n",
    "print(f\"\\n The server socket is created at ip {ip} and port {port}\")\n",
    "server.listen()\n",
    "print(\"\\n Server is ready to listen......\")\n",
    "client_socket,client_addr = server.accept()  #accept will return 2 things 1 --> client socket, client address\n",
    "print(f\"\\n Client is at ip {client_addr[0]} and port {client_addr[1]}\")\n",
    "\n",
    "client_socket.send(\"Hey You are connected....Welcome\".encode())\n",
    "\n",
    "msg = client_socket.recv(1024).decode()\n",
    "print(\"\\n Client : \",msg)\n",
    "#plain text is not exchanged i.e normal string will not be exchanged "
   ]
  },
  {
   "cell_type": "code",
   "execution_count": 11,
   "metadata": {},
   "outputs": [
    {
     "data": {
      "text/plain": [
       "b'hello'"
      ]
     },
     "execution_count": 11,
     "metadata": {},
     "output_type": "execute_result"
    }
   ],
   "source": [
    "\"hello\".encode()"
   ]
  },
  {
   "cell_type": "code",
   "execution_count": 13,
   "metadata": {},
   "outputs": [
    {
     "name": "stdout",
     "output_type": "stream",
     "text": [
      "Help on method_descriptor:\n",
      "\n",
      "encode(self, /, encoding='utf-8', errors='strict')\n",
      "    Encode the string using the codec registered for encoding.\n",
      "    \n",
      "    encoding\n",
      "      The encoding in which to encode the string.\n",
      "    errors\n",
      "      The error handling scheme to use for encoding errors.\n",
      "      The default is 'strict' meaning that encoding errors raise a\n",
      "      UnicodeEncodeError.  Other possible values are 'ignore', 'replace' and\n",
      "      'xmlcharrefreplace' as well as any other name registered with\n",
      "      codecs.register_error that can handle UnicodeEncodeErrors.\n",
      "\n"
     ]
    }
   ],
   "source": [
    "help(str.encode)"
   ]
  },
  {
   "cell_type": "code",
   "execution_count": 14,
   "metadata": {},
   "outputs": [
    {
     "data": {
      "text/plain": [
       "b'\\xff\\xfeh\\x00e\\x00l\\x00l\\x00o\\x00'"
      ]
     },
     "execution_count": 14,
     "metadata": {},
     "output_type": "execute_result"
    }
   ],
   "source": [
    "\"hello\".encode(\"UTF-16\")"
   ]
  },
  {
   "cell_type": "code",
   "execution_count": 19,
   "metadata": {},
   "outputs": [
    {
     "name": "stdout",
     "output_type": "stream",
     "text": [
      "Overwriting client1.py\n"
     ]
    }
   ],
   "source": [
    "%%writefile client1.py\n",
    "\n",
    "import socket\n",
    "\n",
    "sock = socket.socket(socket.AF_INET,socket.SOCK_STREAM)  #AF_INET --> IPv4, SOCK_STREAM --> TCP Protocol\n",
    "ip = \"192.168.1.4\"\n",
    "port = 1234\n",
    "\n",
    "sock.connect((ip,port))\n",
    "print(f\"\\n Connected to server at ip {ip} and port {port}\")\n",
    "\n",
    "msg = sock.recv(1024).decode()\n",
    "print(\"\\n Server : \",msg)\n",
    "\n",
    "sock.send(\"Thankyou\".encode())"
   ]
  },
  {
   "cell_type": "code",
   "execution_count": 20,
   "metadata": {},
   "outputs": [
    {
     "name": "stdout",
     "output_type": "stream",
     "text": [
      "Writing server_chat.py\n"
     ]
    }
   ],
   "source": [
    "%%writefile server_chat.py\n",
    "\n",
    "import socket\n",
    "\n",
    "server = socket.socket(socket.AF_INET,socket.SOCK_STREAM)  #AF_INET --> IPv4, SOCK_STREAM --> TCP Protocol\n",
    "ip = \"192.168.1.4\"\n",
    "port = 1234\n",
    "\n",
    "server.bind((ip,port))\n",
    "print(f\"\\n The server socket is created at ip {ip} and port {port}\")\n",
    "server.listen()\n",
    "print(\"\\n Server is ready to listen......\")\n",
    "client_socket,client_addr = server.accept()  #accept will return 2 things 1 --> client socket, client address\n",
    "print(f\"\\n Client is at ip {client_addr[0]} and port {client_addr[1]}\")\n",
    "\n",
    "client_socket.send(\"Hey You are connected....Welcome\".encode())\n",
    "\n",
    "msg = client_socket.recv(1024).decode()\n",
    "print(\"\\n Client : \",msg)\n",
    "\n",
    "l = [\"bye\",\"byebye\",\"bubye\",\"bye bye\",\"tata\",\"see you\"]\n",
    "while True:\n",
    "    ser_msg = input(\"Server ---> \".ljust(50))\n",
    "    client_socket.send(ser_msg.encode())\n",
    "    if ser_msg.strip().lower() in l:\n",
    "        print(\"\\n Server doesn't want to talk to you anymore....\")\n",
    "        client_socket.close()\n",
    "        break\n",
    "    client_msg = client_socket.recv(1024).decode()\n",
    "    print(f\"Client ---> {client_msg}\".rjust(50))\n",
    "    if client_msg.strip().lower() in l:\n",
    "        print(\"\\n Client doesn't want to talk to you anymore\")\n",
    "        client_socket.close()\n",
    "        break"
   ]
  },
  {
   "cell_type": "code",
   "execution_count": 22,
   "metadata": {},
   "outputs": [
    {
     "name": "stdout",
     "output_type": "stream",
     "text": [
      "Overwriting client_chat.py\n"
     ]
    }
   ],
   "source": [
    "%%writefile client_chat.py\n",
    "\n",
    "import socket\n",
    "\n",
    "sock = socket.socket(socket.AF_INET,socket.SOCK_STREAM)  #AF_INET --> IPv4, SOCK_STREAM --> TCP Protocol\n",
    "ip = \"192.168.1.4\"\n",
    "port = 1234\n",
    "\n",
    "sock.connect((ip,port))\n",
    "print(f\"\\n Connected to server at ip {ip} and port {port}\")\n",
    "\n",
    "msg = sock.recv(1024).decode()\n",
    "print(\"\\n Server : \",msg)\n",
    "\n",
    "sock.send(\"Thankyou\".encode())\n",
    "l = [\"bye\",\"byebye\",\"bubye\",\"bye bye\",\"tata\",\"see you\"]\n",
    "while True:\n",
    "    ser_msg = sock.recv(1024).decode().strip().lower()\n",
    "    print(f\"Server ---> {ser_msg}\".rjust(50))\n",
    "    if ser_msg in l:\n",
    "        print(\"\\n Server doesn't want to talk to you anymore\")\n",
    "        break\n",
    "    client_msg = input(\"Client ---> \".ljust(50))\n",
    "    sock.send(client_msg.encode())\n",
    "    if client_msg in l:\n",
    "        print(\"\\n Client doesn't want to talk to you anymore\")\n",
    "        break"
   ]
  },
  {
   "cell_type": "code",
   "execution_count": 23,
   "metadata": {},
   "outputs": [
    {
     "data": {
      "text/plain": [
       "'                                                                                     hello'"
      ]
     },
     "execution_count": 23,
     "metadata": {},
     "output_type": "execute_result"
    }
   ],
   "source": [
    "\"hello\".rjust(90)"
   ]
  },
  {
   "cell_type": "code",
   "execution_count": 24,
   "metadata": {},
   "outputs": [
    {
     "data": {
      "text/plain": [
       "'hello                                                                                     '"
      ]
     },
     "execution_count": 24,
     "metadata": {},
     "output_type": "execute_result"
    }
   ],
   "source": [
    "\"hello\".ljust(90)"
   ]
  },
  {
   "cell_type": "markdown",
   "metadata": {},
   "source": [
    "### file sharing system\n",
    "\n",
    "        Client                             Server\n",
    "    \n",
    "        path(file)                         send client that file\n",
    "        \n",
    "        client send server --> C://batches//one.jpg\n",
    "        Server will check whether that file exists or not\n",
    "        Server will send the file to the client if it exists\n",
    "        Server will send message to client that so and so file does not exists if it does not client\n",
    "        take input at client side that where it wants to save its file\n",
    "        \n",
    "        \n",
    "     read file --> server (bytes mode)\n",
    "     write file --> client (bytes mode)"
   ]
  },
  {
   "cell_type": "code",
   "execution_count": null,
   "metadata": {},
   "outputs": [],
   "source": []
  }
 ],
 "metadata": {
  "kernelspec": {
   "display_name": "Python 3",
   "language": "python",
   "name": "python3"
  },
  "language_info": {
   "codemirror_mode": {
    "name": "ipython",
    "version": 3
   },
   "file_extension": ".py",
   "mimetype": "text/x-python",
   "name": "python",
   "nbconvert_exporter": "python",
   "pygments_lexer": "ipython3",
   "version": "3.7.4"
  }
 },
 "nbformat": 4,
 "nbformat_minor": 2
}
