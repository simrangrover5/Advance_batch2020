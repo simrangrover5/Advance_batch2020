{
 "cells": [
  {
   "cell_type": "markdown",
   "metadata": {},
   "source": [
    "        Programming Language\n",
    "            Set of instructions --> Computer \n",
    "            Computer read those set of instructions and perform particular task\n",
    "            \n",
    "            Computer level and cannot be used for real time application (development)\n",
    "            C, C++, Java, Python\n",
    "        Scripting Language\n",
    "        \n",
    "            Works on Client - Server architecture\n",
    "            Real time applications\n",
    "            Python, php, .net , javascript etc--> Server side (Backend) \n",
    "            These languages are used to return the response for the request\n",
    "            \n",
    "            \n",
    "        MEAN STACK --> javascript (backend)\n",
    "        Markup Language\n",
    "            \n",
    "            Understood by your browser\n",
    "                <> --> Tags\n",
    "            1. HTML --> HyperText Markup Language\n",
    "                <p> --> opening Tag\n",
    "                </p> --> CLosing Tag\n",
    "                Use Predefined Tags\n",
    "            2. XML --> Extensible Markup Language\n",
    "                Can define our own tag\n",
    "                Data Store\n",
    "                \n",
    "            <user1>\n",
    "                <id1>1</id1>\n",
    "                <name>Simran</name>\n",
    "                <course>Python</course>\n",
    "            </user1>\n",
    "            \n",
    "            \n",
    "         "
   ]
  },
  {
   "cell_type": "markdown",
   "metadata": {},
   "source": [
    "        Design and development\n",
    "        \n",
    "        Design --> html,css,bootstrap\n",
    "        Development --> Python script \n",
    "            Connection built --> Flask, Django\n",
    "            API --> Application Programming\n",
    "                Use, Build\n",
    "            HTTP --> Hyper Text Transfer Protocol\n",
    "            Web Scraping\n",
    "            Database --> MySQL, Sqlite\n",
    "            Desktop Application --> Tkinter\n",
    "            SMTP --> Simple Mail Tranfer Protocol \n",
    "            (TO send email through Python script)\n",
    "            Flask Socket (built)"
   ]
  },
  {
   "cell_type": "markdown",
   "metadata": {},
   "source": [
    "    till OOPS test\n",
    "    6-8:30 --> Classroom\n",
    "    70 marks\n",
    "    Database"
   ]
  },
  {
   "cell_type": "code",
   "execution_count": null,
   "metadata": {},
   "outputs": [],
   "source": []
  }
 ],
 "metadata": {
  "kernelspec": {
   "display_name": "Python 3",
   "language": "python",
   "name": "python3"
  },
  "language_info": {
   "codemirror_mode": {
    "name": "ipython",
    "version": 3
   },
   "file_extension": ".py",
   "mimetype": "text/x-python",
   "name": "python",
   "nbconvert_exporter": "python",
   "pygments_lexer": "ipython3",
   "version": "3.7.4"
  }
 },
 "nbformat": 4,
 "nbformat_minor": 2
}
