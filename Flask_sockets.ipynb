{
 "cells": [
  {
   "cell_type": "markdown",
   "metadata": {},
   "source": [
    "        Socket\n",
    "        \n",
    "            Interface --> medium --> connect \n",
    "            \n",
    "            app1 <--> app2 \n",
    "            \n",
    "            flask server --> localhost, 5000\n",
    "             flask server socket --> localhost, 5000\n",
    "             \n",
    "             when you create your own socket you need host,port\n",
    "             \n",
    "             mysql.sock --> localhost,3306\n",
    "             \n",
    "             socket \n",
    "             1.  host\n",
    "                 port\n",
    "                 \n",
    "             2. Protocol --> TCP, UDP\n",
    "                 TCP --> Transfer Control Protocol \n",
    "                     Connection Oriented\n",
    "                     e.g --> http,https\n",
    "                     3 way handshake\n",
    "                     Speed Slow \n",
    "                     reliable\n",
    "                 UDP --> User Datagram protocol\n",
    "                     Connection Less\n",
    "                     No 3 way handshaking\n",
    "                     Speed fast\n",
    "                     Not reliable\n",
    "             3.IP\n",
    "                 IPv4, IPv6"
   ]
  },
  {
   "cell_type": "code",
   "execution_count": 1,
   "metadata": {},
   "outputs": [],
   "source": [
    "import socket"
   ]
  },
  {
   "cell_type": "code",
   "execution_count": 2,
   "metadata": {},
   "outputs": [
    {
     "data": {
      "text/plain": [
       "'LAPTOP-JS358S5T'"
      ]
     },
     "execution_count": 2,
     "metadata": {},
     "output_type": "execute_result"
    }
   ],
   "source": [
    "socket.gethostname()"
   ]
  },
  {
   "cell_type": "code",
   "execution_count": 3,
   "metadata": {},
   "outputs": [
    {
     "data": {
      "text/plain": [
       "'169.254.29.223'"
      ]
     },
     "execution_count": 3,
     "metadata": {},
     "output_type": "execute_result"
    }
   ],
   "source": [
    "socket.gethostbyname('LAPTOP-JS358S5T')"
   ]
  },
  {
   "cell_type": "code",
   "execution_count": 4,
   "metadata": {},
   "outputs": [
    {
     "data": {
      "text/plain": [
       "'127.0.0.1'"
      ]
     },
     "execution_count": 4,
     "metadata": {},
     "output_type": "execute_result"
    }
   ],
   "source": [
    "socket.gethostbyname(\"localhost\")"
   ]
  },
  {
   "cell_type": "code",
   "execution_count": 5,
   "metadata": {},
   "outputs": [
    {
     "name": "stdout",
     "output_type": "stream",
     "text": [
      "\n",
      "Pinging 8.8.8.8 with 32 bytes of data:\n",
      "Reply from 8.8.8.8: bytes=32 time=23ms TTL=119\n",
      "Reply from 8.8.8.8: bytes=32 time=21ms TTL=119\n",
      "Reply from 8.8.8.8: bytes=32 time=22ms TTL=119\n",
      "Reply from 8.8.8.8: bytes=32 time=21ms TTL=119\n",
      "\n",
      "Ping statistics for 8.8.8.8:\n",
      "    Packets: Sent = 4, Received = 4, Lost = 0 (0% loss),\n",
      "Approximate round trip times in milli-seconds:\n",
      "    Minimum = 21ms, Maximum = 23ms, Average = 21ms\n"
     ]
    }
   ],
   "source": [
    "!ping 8.8.8.8"
   ]
  },
  {
   "cell_type": "code",
   "execution_count": 2,
   "metadata": {},
   "outputs": [],
   "source": [
    "host = socket.gethostbyname(\"www.google.com\")"
   ]
  },
  {
   "cell_type": "code",
   "execution_count": 3,
   "metadata": {},
   "outputs": [
    {
     "data": {
      "text/plain": [
       "'172.217.160.164'"
      ]
     },
     "execution_count": 3,
     "metadata": {},
     "output_type": "execute_result"
    }
   ],
   "source": [
    "host"
   ]
  },
  {
   "cell_type": "code",
   "execution_count": null,
   "metadata": {},
   "outputs": [
    {
     "name": "stdout",
     "output_type": "stream",
     "text": [
      "hello\n",
      "hi\n"
     ]
    }
   ],
   "source": [
    "sock = socket.socket(socket.AF_INET,socket.SOCK_STREAM)\n",
    "#AF_INET --> IPv4, Sock_stream --> TCP protocol\n",
    "host = socket.gethostbyname(\"www.google.com\")\n",
    "port = 80\n",
    "try:\n",
    "    print(\"hello\")\n",
    "    sock.connect((host,80))\n",
    "except Exception as e:\n",
    "    print(\"Error : \",e)\n",
    "else:\n",
    "    print(\"hi\")\n",
    "    print(sock.recv(1024))"
   ]
  },
  {
   "cell_type": "code",
   "execution_count": 11,
   "metadata": {},
   "outputs": [
    {
     "name": "stdout",
     "output_type": "stream",
     "text": [
      "\n",
      "Pinging www.google.com [172.217.160.164] with 32 bytes of data:\n",
      "Reply from 172.217.160.164: bytes=32 time=22ms TTL=120\n",
      "Reply from 172.217.160.164: bytes=32 time=22ms TTL=120\n",
      "Reply from 172.217.160.164: bytes=32 time=21ms TTL=120\n",
      "Reply from 172.217.160.164: bytes=32 time=21ms TTL=120\n",
      "\n",
      "Ping statistics for 172.217.160.164:\n",
      "    Packets: Sent = 4, Received = 4, Lost = 0 (0% loss),\n",
      "Approximate round trip times in milli-seconds:\n",
      "    Minimum = 21ms, Maximum = 22ms, Average = 21ms\n"
     ]
    }
   ],
   "source": [
    "!ping www.google.com"
   ]
  },
  {
   "cell_type": "markdown",
   "metadata": {},
   "source": [
    "    Server\n",
    "    \n",
    "    1. socket create\n",
    "    2. bind (host,port)\n",
    "    3. listen\n",
    "    4. accept\n",
    "    5. send/recv\n",
    "    6. close"
   ]
  },
  {
   "cell_type": "code",
   "execution_count": 3,
   "metadata": {},
   "outputs": [
    {
     "name": "stdout",
     "output_type": "stream",
     "text": [
      "\n",
      " Socket is ready to listen \n",
      "\n",
      " Client requests from ip 127.0.0.1 and port 12743\n",
      "/abcubrohiojf\n"
     ]
    }
   ],
   "source": [
    "import socket\n",
    "server = socket.socket(socket.AF_INET,socket.SOCK_STREAM) #1\n",
    "host = \"127.0.0.1\"\n",
    "port = 12345\n",
    "\n",
    "server.bind((host,port)) #server is running at so and so host and port  --> 2\n",
    "\n",
    "server.listen() #3,\n",
    "print(\"\\n Socket is ready to listen \")\n",
    "client_socket,client_addr = server.accept()  #return client_address,client_socket\n",
    "#we have to store client_socket information so that we can reply back to that socket\n",
    "print(f\"\\n Client requests from ip {client_addr[0]} and port {client_addr[1]}\")\n",
    "data = client_socket.recv(1024).decode()\n",
    "data = data.split(\" \")\n",
    "method = data[0]\n",
    "path = data[1]\n",
    "resp = \"\"\"Http 200 Ok\n",
    "Content-type:text/html\n",
    "\n",
    "\n",
    "<html>\n",
    "<body>\n",
    "<h1 style='color:red'>This is response for path localhost</h1>\n",
    "</body>\n",
    "</html>\n",
    "\"\"\".encode() #encode is to convert it into byte format\n",
    "\n",
    "resp1 = \"\"\"Http 200 Ok\n",
    "Content-type:text/html\n",
    "\n",
    "\n",
    "<html>\n",
    "<body>\n",
    "<h1 style='color:red'>This is response for path hello</h1>\n",
    "</body>\n",
    "</html>\n",
    "\"\"\".encode() #encode is to convert it into byte format\n",
    "\n",
    "resp2 = \"\"\"Http 200 Ok\n",
    "Content-type:text/html\n",
    "\n",
    "\n",
    "<html>\n",
    "<body>\n",
    "<h1 style='color:red'>This is response for no path</h1>\n",
    "</body>\n",
    "</html>\n",
    "\"\"\".encode() #encode is to convert it into byte format\n",
    "print(path)\n",
    "\n",
    "if path == \"/\":\n",
    "    print(\"bye\")\n",
    "    client_socket.send(resp)\n",
    "elif path == \"/hello\":\n",
    "    client_socket.send(resp1)\n",
    "else:\n",
    "    client_socket.send(resp2)"
   ]
  },
  {
   "cell_type": "code",
   "execution_count": 4,
   "metadata": {},
   "outputs": [],
   "source": [
    "#make a decorator which will accept path and you have to run the particular function on that path"
   ]
  },
  {
   "cell_type": "code",
   "execution_count": null,
   "metadata": {},
   "outputs": [],
   "source": [
    "#route(path) --> pass function in this decorator and call this function into decorator\n",
    "#call the function and whenever the function is called pass path into it\n",
    "\n",
    "\n",
    "@route(path)\n",
    "def f1():\n",
    "    return resp\n",
    "\n",
    "f1()\n",
    "\n",
    "@route(path)\n",
    "def f2():\n",
    "    return resp\n",
    "\n",
    "f2()"
   ]
  },
  {
   "cell_type": "code",
   "execution_count": null,
   "metadata": {},
   "outputs": [],
   "source": []
  }
 ],
 "metadata": {
  "kernelspec": {
   "display_name": "Python 3",
   "language": "python",
   "name": "python3"
  },
  "language_info": {
   "codemirror_mode": {
    "name": "ipython",
    "version": 3
   },
   "file_extension": ".py",
   "mimetype": "text/x-python",
   "name": "python",
   "nbconvert_exporter": "python",
   "pygments_lexer": "ipython3",
   "version": "3.7.4"
  }
 },
 "nbformat": 4,
 "nbformat_minor": 2
}
