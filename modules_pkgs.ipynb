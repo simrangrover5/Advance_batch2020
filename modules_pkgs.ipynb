{
 "cells": [
  {
   "cell_type": "code",
   "execution_count": 1,
   "metadata": {},
   "outputs": [
    {
     "name": "stdout",
     "output_type": "stream",
     "text": [
      "Writing one.py\n"
     ]
    }
   ],
   "source": [
    "%%writefile one.py\n",
    "\n",
    "\n",
    "print(\"hello world\")\n",
    "print(\"how are you\")"
   ]
  },
  {
   "cell_type": "code",
   "execution_count": 2,
   "metadata": {},
   "outputs": [
    {
     "name": "stdout",
     "output_type": "stream",
     "text": [
      " Volume in drive C is Windows\n",
      " Volume Serial Number is E08D-DAD9\n",
      "\n",
      " Directory of C:\\batches\\online_batch\\batch_7pm\n",
      "\n",
      "20-07-2020  20:24    <DIR>          .\n",
      "20-07-2020  20:24    <DIR>          ..\n",
      "20-07-2020  20:24    <DIR>          .ipynb_checkpoints\n",
      "19-05-2020  20:12    <DIR>          __pycache__\n",
      "22-04-2020  20:49            62,603 10. Sets.ipynb\n",
      "23-04-2020  20:40            50,028 11. Type_conversion.ipynb\n",
      "24-04-2020  20:46            51,378 12. Operators.ipynb\n",
      "28-04-2020  20:32            18,441 13.Control_Statements.ipynb\n",
      "29-04-2020  20:34            23,138 14. if_else_2.ipynb\n",
      "01-05-2020  19:32            26,173 15. if_else_3.ipynb\n",
      "04-05-2020  20:48         1,986,359 16. While_Loop_1.ipynb\n",
      "04-05-2020  20:42            14,599 17. While_loop_2.ipynb\n",
      "05-05-2020  20:50         2,279,730 18. while_loop_3.ipynb\n",
      "07-05-2020  19:56            18,601 19. nested_while.ipynb\n",
      "10-04-2020  20:30            47,841 2. Strings.ipynb\n",
      "07-05-2020  20:45            15,740 20. Nested_while_2.ipynb\n",
      "11-05-2020  19:37            35,556 21. For_loop_1.ipynb\n",
      "11-05-2020  20:44            22,898 22. For_loop_2.ipynb\n",
      "13-05-2020  20:49            16,671 23. For_loop_practice.ipynb\n",
      "21-05-2020  19:37            16,374 24. Functions_1.ipynb\n",
      "20-05-2020  19:42            24,769 26. Functions_2.ipynb\n",
      "21-05-2020  20:46           233,761 28. Functions_4.ipynb\n",
      "22-05-2020  20:37            32,323 29. Special_Function.ipynb\n",
      "11-04-2020  19:20            28,234 3. Strings.ipynb\n",
      "27-05-2020  20:43            35,017 31. Closures and decorators.ipynb\n",
      "13-04-2020  20:34            41,029 4. Lists.ipynb\n",
      "18-04-2020  11:11            50,932 6. lists_tuple.ipynb\n",
      "20-04-2020  20:14            41,783 7. Dictionary.ipynb\n",
      "20-04-2020  20:30            28,015 8. Dictionary.ipynb\n",
      "21-04-2020  20:33            18,217 9. Sets.ipynb\n",
      "29-05-2020  19:36               178 abc.txt\n",
      "19-06-2020  20:46    <DIR>          Advance_python\n",
      "14-07-2020  20:38             3,040 API_1.ipynb\n",
      "16-07-2020  19:43            34,016 API_2.ipynb\n",
      "17-07-2020  19:26            59,146 API_3.ipynb\n",
      "17-07-2020  20:09           233,368 API_4.ipynb\n",
      "16-04-2020  20:35    <DIR>          Backup\n",
      "21-05-2020  20:04             2,422 bank_app.py\n",
      "02-04-2020  10:14             5,138 break_statement_flowchart.png\n",
      "07-05-2020  20:23               308 circles.py\n",
      "07-05-2020  20:40               391 circles1.py\n",
      "08-04-2020  20:19             5,237 Class_1.ipynb\n",
      "02-04-2020  10:14             6,040 continue-statement-flowchart.png\n",
      "09-04-2020  20:30            21,806 Data_types.ipynb\n",
      "26-06-2020  20:47    <DIR>          Database\n",
      "28-05-2020  21:03            94,415 decorators.ipynb\n",
      "16-07-2020  20:07             3,328 delhi.jpg\n",
      "02-07-2020  20:35    <DIR>          design\n",
      "20-07-2020  20:13    <DIR>          djangoproject\n",
      "27-04-2020  20:40            21,967 Doubts.ipynb\n",
      "04-06-2020  19:54    <DIR>          File_handling\n",
      "29-05-2020  19:39               892 File_handling.ipynb\n",
      "09-07-2020  20:57    <DIR>          flask_project\n",
      "17-07-2020  21:06         1,654,433 flask_project (2).zip\n",
      "10-07-2020  21:21         1,653,290 flask_project.zip\n",
      "14-07-2020  19:38             8,944 Flask_sockets.ipynb\n",
      "18-05-2020  20:47            27,294 Functions_2.ipynb\n",
      "20-05-2020  20:44            36,601 Functions_3.ipynb\n",
      "12-05-2020  20:43             5,920 Hacker_rank_ques.ipynb\n",
      "16-07-2020  20:07             3,328 jaipur.jpg\n",
      "16-07-2020  20:07             3,328 jammu.jpg\n",
      "04-05-2020  16:11            59,101 json_encoding_python.png\n",
      "16-07-2020  20:08             3,328 kolkata.jpg\n",
      "14-04-2020  21:30            42,013 Lists_2.ipynb\n",
      "16-07-2020  20:08             2,773 london.jpg\n",
      "19-05-2020  20:10             1,233 matrix.py\n",
      "20-07-2020  20:24                72 modules_pkgs.ipynb\n",
      "16-07-2020  20:08             3,801 mumbai.jpg\n",
      "18-06-2020  20:31            34,602 myfile.jpg\n",
      "15-05-2020  20:45               373 myfunc.py\n",
      "20-07-2020  20:24                48 one.py\n",
      "29-05-2020  19:36                41 one.txt\n",
      "12-06-2020  20:48    <DIR>          OOPs\n",
      "16-07-2020  20:08             3,328 patna.jpg\n",
      "26-05-2020  20:40            18,288 Recursion.ipynb\n",
      "30-04-2020  19:35               635 s_p_s.py\n",
      "10-07-2020  21:09    <DIR>          smtp\n",
      "18-06-2020  20:50    <DIR>          Socket_scripts\n",
      "16-06-2020  20:44             6,211 Sockets.ipynb\n",
      "25-05-2020  18:28            34,602 sockets.jpg\n",
      "07-05-2020  20:09               189 square.py\n",
      "07-05-2020  20:07               295 t1.py\n",
      "07-05-2020  20:16               377 t3.py\n",
      "18-06-2020  20:27            34,602 two.jpg\n",
      "13-05-2020  19:32               555 Untitled.ipynb\n",
      "12-06-2020  19:38               555 Untitled1.ipynb\n",
      "16-07-2020  20:08             2,773 wuhan.jpg\n",
      "              73 File(s)      9,354,835 bytes\n",
      "              14 Dir(s)  20,809,605,120 bytes free\n"
     ]
    }
   ],
   "source": [
    "ls"
   ]
  },
  {
   "cell_type": "code",
   "execution_count": 3,
   "metadata": {},
   "outputs": [
    {
     "name": "stdout",
     "output_type": "stream",
     "text": [
      "hello world\n",
      "how are you\n"
     ]
    }
   ],
   "source": [
    "import one  #import one.py"
   ]
  },
  {
   "cell_type": "code",
   "execution_count": 4,
   "metadata": {},
   "outputs": [
    {
     "name": "stdout",
     "output_type": "stream",
     "text": [
      "Overwriting one.py\n"
     ]
    }
   ],
   "source": [
    "%%writefile one.py\n",
    "\n",
    "def hello():\n",
    "    print(\"hello world\")\n",
    "    print(\"how are you\")"
   ]
  },
  {
   "cell_type": "code",
   "execution_count": 1,
   "metadata": {},
   "outputs": [],
   "source": [
    "import one"
   ]
  },
  {
   "cell_type": "code",
   "execution_count": 2,
   "metadata": {},
   "outputs": [],
   "source": [
    "from random import randint\n",
    "#random ---> py file , randint --> func"
   ]
  },
  {
   "cell_type": "code",
   "execution_count": 3,
   "metadata": {},
   "outputs": [
    {
     "name": "stdout",
     "output_type": "stream",
     "text": [
      "hello world\n",
      "how are you\n"
     ]
    }
   ],
   "source": [
    "one.hello()"
   ]
  },
  {
   "cell_type": "code",
   "execution_count": 8,
   "metadata": {},
   "outputs": [
    {
     "name": "stdout",
     "output_type": "stream",
     "text": [
      "Overwriting myfile.py\n"
     ]
    }
   ],
   "source": [
    "%%writefile myfile.py\n",
    "\n",
    "\n",
    "def sq(l):\n",
    "    return [i**2 for i in l]\n",
    "\n",
    "def cube(l):\n",
    "    return [i**3 for i in l]"
   ]
  },
  {
   "cell_type": "code",
   "execution_count": 1,
   "metadata": {},
   "outputs": [],
   "source": [
    "import myfile\n",
    "#import myfile.py file from present working directory"
   ]
  },
  {
   "cell_type": "code",
   "execution_count": 2,
   "metadata": {},
   "outputs": [
    {
     "data": {
      "text/plain": [
       "[1, 4, 9, 16]"
      ]
     },
     "execution_count": 2,
     "metadata": {},
     "output_type": "execute_result"
    }
   ],
   "source": [
    "myfile.sq([1,2,3,4])"
   ]
  },
  {
   "cell_type": "code",
   "execution_count": 3,
   "metadata": {},
   "outputs": [
    {
     "name": "stdout",
     "output_type": "stream",
     "text": [
      "['__builtins__', '__cached__', '__doc__', '__file__', '__loader__', '__name__', '__package__', '__spec__', 'cube', 'sq']\n"
     ]
    }
   ],
   "source": [
    "print(dir(myfile))"
   ]
  },
  {
   "cell_type": "code",
   "execution_count": 4,
   "metadata": {},
   "outputs": [
    {
     "data": {
      "text/plain": [
       "[1, 8, 27, 64]"
      ]
     },
     "execution_count": 4,
     "metadata": {},
     "output_type": "execute_result"
    }
   ],
   "source": [
    "myfile.cube([1,2,3,4])"
   ]
  },
  {
   "cell_type": "code",
   "execution_count": 5,
   "metadata": {},
   "outputs": [
    {
     "name": "stdout",
     "output_type": "stream",
     "text": [
      "Overwriting myfile.py\n"
     ]
    }
   ],
   "source": [
    "%%writefile myfile.py\n",
    "\n",
    "\n",
    "def sq(l):\n",
    "    print(__name__)\n",
    "    return [i**2 for i in l]\n",
    "\n",
    "def cube(l):\n",
    "    return [i**3 for i in l]"
   ]
  },
  {
   "cell_type": "code",
   "execution_count": 1,
   "metadata": {},
   "outputs": [],
   "source": [
    "import myfile"
   ]
  },
  {
   "cell_type": "code",
   "execution_count": 2,
   "metadata": {},
   "outputs": [
    {
     "name": "stdout",
     "output_type": "stream",
     "text": [
      "myfile\n"
     ]
    },
    {
     "data": {
      "text/plain": [
       "[1, 4, 9, 16, 25]"
      ]
     },
     "execution_count": 2,
     "metadata": {},
     "output_type": "execute_result"
    }
   ],
   "source": [
    "myfile.sq([1,2,3,4,5])"
   ]
  },
  {
   "cell_type": "code",
   "execution_count": 3,
   "metadata": {},
   "outputs": [
    {
     "data": {
      "text/plain": [
       "'__main__'"
      ]
     },
     "execution_count": 3,
     "metadata": {},
     "output_type": "execute_result"
    }
   ],
   "source": [
    "__name__"
   ]
  },
  {
   "cell_type": "code",
   "execution_count": 4,
   "metadata": {},
   "outputs": [
    {
     "name": "stdout",
     "output_type": "stream",
     "text": [
      "Overwriting myfile.py\n"
     ]
    }
   ],
   "source": [
    "%%writefile myfile.py\n",
    "\n",
    "\n",
    "def sq(l):\n",
    "    print(__name__)\n",
    "    return [i**2 for i in l]\n",
    "\n",
    "def cube(l):\n",
    "    return [i**3 for i in l]\n",
    "\n",
    "sq([1,2,3,4,5])"
   ]
  },
  {
   "cell_type": "code",
   "execution_count": 5,
   "metadata": {},
   "outputs": [
    {
     "name": "stdout",
     "output_type": "stream",
     "text": [
      "__main__\n"
     ]
    }
   ],
   "source": [
    "!python myfile.py"
   ]
  },
  {
   "cell_type": "code",
   "execution_count": 11,
   "metadata": {},
   "outputs": [
    {
     "name": "stdout",
     "output_type": "stream",
     "text": [
      "Overwriting mod1.py\n"
     ]
    }
   ],
   "source": [
    "%%writefile mod1.py\n",
    "\n",
    "\"\"\"\n",
    "    This is module for performing square operation\n",
    "\"\"\"\n",
    "\n",
    "import myfile\n",
    "\n",
    "def a():\n",
    "    print(myfile.sq([1,2,3,4,5]))"
   ]
  },
  {
   "cell_type": "code",
   "execution_count": 1,
   "metadata": {},
   "outputs": [
    {
     "name": "stdout",
     "output_type": "stream",
     "text": [
      "myfile\n"
     ]
    }
   ],
   "source": [
    "import mod1"
   ]
  },
  {
   "cell_type": "code",
   "execution_count": 2,
   "metadata": {},
   "outputs": [
    {
     "name": "stdout",
     "output_type": "stream",
     "text": [
      "myfile\n",
      "[1, 4, 9, 16, 25]\n"
     ]
    }
   ],
   "source": [
    "mod1.a()"
   ]
  },
  {
   "cell_type": "code",
   "execution_count": 3,
   "metadata": {},
   "outputs": [
    {
     "name": "stdout",
     "output_type": "stream",
     "text": [
      "\n",
      "    This is module for performing square operation\n",
      "\n"
     ]
    }
   ],
   "source": [
    "print(mod1.__doc__)"
   ]
  },
  {
   "cell_type": "code",
   "execution_count": 4,
   "metadata": {},
   "outputs": [],
   "source": [
    "import sys"
   ]
  },
  {
   "cell_type": "code",
   "execution_count": 5,
   "metadata": {},
   "outputs": [
    {
     "data": {
      "text/plain": [
       "['C:\\\\batches\\\\online_batch\\\\batch_7pm',\n",
       " 'C:\\\\Anaconda\\\\python37.zip',\n",
       " 'C:\\\\Anaconda\\\\DLLs',\n",
       " 'C:\\\\Anaconda\\\\lib',\n",
       " 'C:\\\\Anaconda',\n",
       " '',\n",
       " 'C:\\\\Anaconda\\\\lib\\\\site-packages',\n",
       " 'C:\\\\Anaconda\\\\lib\\\\site-packages\\\\win32',\n",
       " 'C:\\\\Anaconda\\\\lib\\\\site-packages\\\\win32\\\\lib',\n",
       " 'C:\\\\Anaconda\\\\lib\\\\site-packages\\\\Pythonwin',\n",
       " 'C:\\\\Anaconda\\\\lib\\\\site-packages\\\\IPython\\\\extensions',\n",
       " 'C:\\\\Users\\\\Simran Grover\\\\.ipython']"
      ]
     },
     "execution_count": 5,
     "metadata": {},
     "output_type": "execute_result"
    }
   ],
   "source": [
    "sys.path  #it will find module on all these paths whenver you import anything"
   ]
  },
  {
   "cell_type": "markdown",
   "metadata": {},
   "source": [
    "    pkg --> __init__ --> this is the first file which is read whenever you import the pkg"
   ]
  },
  {
   "cell_type": "code",
   "execution_count": null,
   "metadata": {},
   "outputs": [],
   "source": []
  }
 ],
 "metadata": {
  "kernelspec": {
   "display_name": "Python 3",
   "language": "python",
   "name": "python3"
  },
  "language_info": {
   "codemirror_mode": {
    "name": "ipython",
    "version": 3
   },
   "file_extension": ".py",
   "mimetype": "text/x-python",
   "name": "python",
   "nbconvert_exporter": "python",
   "pygments_lexer": "ipython3",
   "version": "3.7.4"
  }
 },
 "nbformat": 4,
 "nbformat_minor": 2
}
