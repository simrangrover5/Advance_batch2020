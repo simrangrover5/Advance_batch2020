{
 "cells": [
  {
   "cell_type": "code",
   "execution_count": 1,
   "metadata": {},
   "outputs": [],
   "source": [
    "def f1():\n",
    "    return \"hello\"\n",
    "    return \"bye\""
   ]
  },
  {
   "cell_type": "code",
   "execution_count": 2,
   "metadata": {},
   "outputs": [],
   "source": [
    "def f2():\n",
    "    print(\"hello\")\n",
    "    print(\"bye\")"
   ]
  },
  {
   "cell_type": "code",
   "execution_count": 3,
   "metadata": {},
   "outputs": [
    {
     "data": {
      "text/plain": [
       "'hello'"
      ]
     },
     "execution_count": 3,
     "metadata": {},
     "output_type": "execute_result"
    }
   ],
   "source": [
    "f1()"
   ]
  },
  {
   "cell_type": "code",
   "execution_count": 4,
   "metadata": {},
   "outputs": [
    {
     "name": "stdout",
     "output_type": "stream",
     "text": [
      "hello\n",
      "bye\n"
     ]
    }
   ],
   "source": [
    "f2()"
   ]
  },
  {
   "cell_type": "code",
   "execution_count": 5,
   "metadata": {},
   "outputs": [],
   "source": [
    "#4 with argument and with return\n",
    "\n",
    "def add(a,b):\n",
    "    return a+b"
   ]
  },
  {
   "cell_type": "code",
   "execution_count": 6,
   "metadata": {},
   "outputs": [
    {
     "data": {
      "text/plain": [
       "33"
      ]
     },
     "execution_count": 6,
     "metadata": {},
     "output_type": "execute_result"
    }
   ],
   "source": [
    "add(10,23)"
   ]
  },
  {
   "cell_type": "code",
   "execution_count": 9,
   "metadata": {},
   "outputs": [
    {
     "name": "stdout",
     "output_type": "stream",
     "text": [
      "\n",
      " Enter number of rows : 2\n",
      "\n",
      " Enter number of columns : 2\n",
      "\n",
      " Number : 1\n",
      "\n",
      " Number : 2\n",
      "\n",
      " Number : 3\n",
      "\n",
      " Number : 4\n",
      "\n",
      " Enter number of rows : 2\n",
      "\n",
      " Enter number of columns : 3\n",
      "\n",
      " Number : 12\n",
      "\n",
      " Number : 11\n",
      "\n",
      " Number : 9\n",
      "\n",
      " Number : 90\n",
      "\n",
      " Number : 80\n",
      "\n",
      " Number : 70\n"
     ]
    }
   ],
   "source": [
    "def make_matrix(number):\n",
    "    matrixes = []\n",
    "    for i in range(number):\n",
    "        n = int(input(\"\\n Enter number of rows : \"))\n",
    "        m = int(input(\"\\n Enter number of columns : \"))\n",
    "        matrix = []\n",
    "        for _ in range(n):\n",
    "            a = []\n",
    "            for _ in range(m):\n",
    "                a.append(int(input(\"\\n Number : \")))\n",
    "            matrix.append(a)\n",
    "        matrixes.append(matrix)\n",
    "    return matrixes\n",
    "\n",
    "m = make_matrix(2)"
   ]
  },
  {
   "cell_type": "code",
   "execution_count": 10,
   "metadata": {},
   "outputs": [
    {
     "data": {
      "text/plain": [
       "[[[1, 2], [3, 4]], [[12, 11, 9], [90, 80, 70]]]"
      ]
     },
     "execution_count": 10,
     "metadata": {},
     "output_type": "execute_result"
    }
   ],
   "source": [
    "m"
   ]
  },
  {
   "cell_type": "code",
   "execution_count": 5,
   "metadata": {},
   "outputs": [
    {
     "name": "stdout",
     "output_type": "stream",
     "text": [
      "Overwriting matrix.py\n"
     ]
    }
   ],
   "source": [
    "%%writefile matrix.py\n",
    "\n",
    "def make_matrix(number):\n",
    "    \n",
    "    \"\"\"\n",
    "        This function is used to make any number of matrix\n",
    "        use this function as make_matrix(number)\n",
    "        number --> The number of matrices to make\n",
    "    \"\"\"\n",
    "    \n",
    "    matrices = []\n",
    "    for i in range(number):\n",
    "        n = int(input(\"\\n Enter number of rows : \"))\n",
    "        m = int(input(\"\\n Enter number of columns : \"))\n",
    "        matrix = []\n",
    "        for _ in range(n):\n",
    "            a = []\n",
    "            for _ in range(m):\n",
    "                a.append(int(input(\"\\n Number : \")))\n",
    "            matrix.append(a)\n",
    "        matrices.append(matrix)\n",
    "    return matrices\n"
   ]
  },
  {
   "cell_type": "code",
   "execution_count": 12,
   "metadata": {},
   "outputs": [
    {
     "name": "stdout",
     "output_type": "stream",
     "text": [
      " Volume in drive C is Windows\n",
      " Volume Serial Number is E08D-DAD9\n",
      "\n",
      " Directory of C:\\batches\\online_batch\\batch_7pm\n",
      "\n",
      "19-05-2020  19:48    <DIR>          .\n",
      "19-05-2020  19:48    <DIR>          ..\n",
      "19-05-2020  19:27    <DIR>          .ipynb_checkpoints\n",
      "15-05-2020  20:45    <DIR>          __pycache__\n",
      "22-04-2020  20:49            62,603 10. Sets.ipynb\n",
      "23-04-2020  20:40            50,028 11. Type_conversion.ipynb\n",
      "24-04-2020  20:46            51,378 12. Operators.ipynb\n",
      "28-04-2020  20:32            18,441 13.Control_Statements.ipynb\n",
      "29-04-2020  20:34            23,138 14. if_else_2.ipynb\n",
      "01-05-2020  19:32            26,173 15. if_else_3.ipynb\n",
      "04-05-2020  20:48         1,986,359 16. While_Loop_1.ipynb\n",
      "04-05-2020  20:42            14,599 17. While_loop_2.ipynb\n",
      "05-05-2020  20:50         2,279,730 18. while_loop_3.ipynb\n",
      "07-05-2020  19:56            18,601 19. nested_while.ipynb\n",
      "10-04-2020  20:30            47,841 2. Strings.ipynb\n",
      "07-05-2020  20:45            15,740 20. Nested_while_2.ipynb\n",
      "11-05-2020  19:37            35,556 21. For_loop_1.ipynb\n",
      "11-05-2020  20:44            22,898 22. For_loop_2.ipynb\n",
      "13-05-2020  20:49            16,671 23. For_loop_practice.ipynb\n",
      "15-05-2020  20:47            16,374 24. Functions_1.ipynb\n",
      "19-05-2020  19:48             4,274 26. Functions_2.ipynb\n",
      "11-04-2020  19:20            28,234 3. Strings.ipynb\n",
      "13-04-2020  20:34            41,029 4. Lists.ipynb\n",
      "18-04-2020  11:11            50,932 6. lists_tuple.ipynb\n",
      "20-04-2020  20:14            41,783 7. Dictionary.ipynb\n",
      "20-04-2020  20:30            28,015 8. Dictionary.ipynb\n",
      "21-04-2020  20:33            18,217 9. Sets.ipynb\n",
      "08-04-2020  19:51               165 abc.txt\n",
      "16-04-2020  20:35    <DIR>          Backup\n",
      "02-04-2020  10:14             5,138 break_statement_flowchart.png\n",
      "07-05-2020  20:23               308 circles.py\n",
      "07-05-2020  20:40               391 circles1.py\n",
      "08-04-2020  20:19             5,237 Class_1.ipynb\n",
      "02-04-2020  10:14             6,040 continue-statement-flowchart.png\n",
      "09-04-2020  20:30            21,806 Data_types.ipynb\n",
      "27-04-2020  20:40            21,967 Doubts.ipynb\n",
      "18-05-2020  20:47            27,294 Functions_2.ipynb\n",
      "12-05-2020  20:43             5,920 Hacker_rank_ques.ipynb\n",
      "14-04-2020  21:30            42,013 Lists_2.ipynb\n",
      "19-05-2020  19:48               426 matrix.py\n",
      "15-05-2020  20:45               373 myfunc.py\n",
      "07-04-2020  19:19                62 one.txt\n",
      "30-04-2020  19:35               635 s_p_s.py\n",
      "07-05-2020  20:09               189 square.py\n",
      "07-05-2020  20:07               295 t1.py\n",
      "07-05-2020  20:16               377 t3.py\n",
      "13-05-2020  19:32               555 Untitled.ipynb\n",
      "              42 File(s)      5,037,805 bytes\n",
      "               5 Dir(s)  69,133,099,008 bytes free\n"
     ]
    }
   ],
   "source": [
    "ls"
   ]
  },
  {
   "cell_type": "code",
   "execution_count": 1,
   "metadata": {},
   "outputs": [],
   "source": [
    "import matrix"
   ]
  },
  {
   "cell_type": "code",
   "execution_count": 2,
   "metadata": {},
   "outputs": [
    {
     "ename": "TypeError",
     "evalue": "make_matrix() missing 1 required positional argument: 'number'",
     "output_type": "error",
     "traceback": [
      "\u001b[1;31m---------------------------------------------------------------------\u001b[0m",
      "\u001b[1;31mTypeError\u001b[0m                           Traceback (most recent call last)",
      "\u001b[1;32m<ipython-input-2-f0210176bd94>\u001b[0m in \u001b[0;36m<module>\u001b[1;34m\u001b[0m\n\u001b[1;32m----> 1\u001b[1;33m \u001b[0mmatrix\u001b[0m\u001b[1;33m.\u001b[0m\u001b[0mmake_matrix\u001b[0m\u001b[1;33m(\u001b[0m\u001b[1;33m)\u001b[0m\u001b[1;33m\u001b[0m\u001b[1;33m\u001b[0m\u001b[0m\n\u001b[0m",
      "\u001b[1;31mTypeError\u001b[0m: make_matrix() missing 1 required positional argument: 'number'"
     ]
    }
   ],
   "source": [
    "matrix.make_matrix()"
   ]
  },
  {
   "cell_type": "code",
   "execution_count": 3,
   "metadata": {},
   "outputs": [
    {
     "name": "stdout",
     "output_type": "stream",
     "text": [
      "Help on function make_matrix in module matrix:\n",
      "\n",
      "make_matrix(number)\n",
      "    This function is used to make any number of matrix\n",
      "    use this function as make_matrix(number)\n",
      "    number --> The number of matrixes to make\n",
      "\n"
     ]
    }
   ],
   "source": [
    "help(matrix.make_matrix)"
   ]
  },
  {
   "cell_type": "code",
   "execution_count": 4,
   "metadata": {},
   "outputs": [
    {
     "name": "stdout",
     "output_type": "stream",
     "text": [
      "\n",
      " Enter number of rows : 2\n",
      "\n",
      " Enter number of columns : 2\n",
      "\n",
      " Number : 1\n",
      "\n",
      " Number : 2\n",
      "\n",
      " Number : 3\n",
      "\n",
      " Number : 4\n",
      "\n",
      " Enter number of rows : 2\n",
      "\n",
      " Enter number of columns : 2\n",
      "\n",
      " Number : 3\n",
      "\n",
      " Number : 4\n",
      "\n",
      " Number : 5\n",
      "\n",
      " Number : 6\n"
     ]
    },
    {
     "data": {
      "text/plain": [
       "[[[1, 2], [3, 4]], [[3, 4], [5, 6]]]"
      ]
     },
     "execution_count": 4,
     "metadata": {},
     "output_type": "execute_result"
    }
   ],
   "source": [
    "matrix.make_matrix(2)"
   ]
  },
  {
   "cell_type": "code",
   "execution_count": 11,
   "metadata": {},
   "outputs": [
    {
     "data": {
      "text/plain": [
       "'Dimension does not match'"
      ]
     },
     "execution_count": 11,
     "metadata": {},
     "output_type": "execute_result"
    }
   ],
   "source": [
    "def matrix_add(m1,m2):\n",
    "    \"\"\"\n",
    "        It is used to perform addition on two matrices \n",
    "        if matrix m1 is of dimension nxm \n",
    "        and dimension of m2 is n1xm2\n",
    "        then n==n1 and m==m2\n",
    "    \"\"\"\n",
    "    add = []\n",
    "    if (len(m1) == len(m2)) and (len(m1[0]) == len(m2[0])): #check number of rows and number of column\n",
    "        #print(len(m1[0]),len(m2[0]))\n",
    "        for i in range(len(m1)):\n",
    "            a = []\n",
    "            for j in range(len(m1[0])):\n",
    "                a.append(m1[i][j] + m2[i][j])\n",
    "            add.append(a)\n",
    "        return add\n",
    "    else:\n",
    "        return \"Dimension does not match\"\n",
    "    \n",
    "m1 = [[2,3],[4,5]]  #n = 2, m = 2\n",
    "m2 = [[1,2,3],[4,5,6]] #n = 2, m = 3\n",
    "\n",
    "matrix_add(m1,m2)"
   ]
  },
  {
   "cell_type": "code",
   "execution_count": 12,
   "metadata": {},
   "outputs": [
    {
     "data": {
      "text/plain": [
       "[[3, 5, 9], [8, 10, 14]]"
      ]
     },
     "execution_count": 12,
     "metadata": {},
     "output_type": "execute_result"
    }
   ],
   "source": [
    "m1 = [[2,3,6],[4,5,8]]  #n = 2, m = 3\n",
    "m2 = [[1,2,3],[4,5,6]] #n = 2, m = 3\n",
    "\n",
    "matrix_add(m1,m2)"
   ]
  },
  {
   "cell_type": "code",
   "execution_count": 13,
   "metadata": {},
   "outputs": [
    {
     "name": "stdout",
     "output_type": "stream",
     "text": [
      "Overwriting matrix.py\n"
     ]
    }
   ],
   "source": [
    "%%writefile matrix.py\n",
    "\n",
    "def make_matrix(number):\n",
    "    \n",
    "    \"\"\"\n",
    "        This function is used to make any number of matrix\n",
    "        use this function as make_matrix(number)\n",
    "        number --> The number of matrices to make\n",
    "    \"\"\"\n",
    "    \n",
    "    matrices = []\n",
    "    for i in range(number):\n",
    "        n = int(input(\"\\n Enter number of rows : \"))\n",
    "        m = int(input(\"\\n Enter number of columns : \"))\n",
    "        matrix = []\n",
    "        for _ in range(n):\n",
    "            a = []\n",
    "            for _ in range(m):\n",
    "                a.append(int(input(\"\\n Number : \")))\n",
    "            matrix.append(a)\n",
    "        matrices.append(matrix)\n",
    "    return matrices\n",
    "\n",
    "\n",
    "\n",
    "def matrix_add(m1,m2):\n",
    "    \"\"\"\n",
    "        It is used to perform addition on two matrices \n",
    "        if matrix m1 is of dimension nxm \n",
    "        and dimension of m2 is n1xm2\n",
    "        then n==n1 and m==m2\n",
    "    \"\"\"\n",
    "    add = []\n",
    "    if (len(m1) == len(m2)) and (len(m1[0]) == len(m2[0])): #check number of rows and number of column\n",
    "        #print(len(m1[0]),len(m2[0]))\n",
    "        for i in range(len(m1)):\n",
    "            a = []\n",
    "            for j in range(len(m1[0])):\n",
    "                a.append(m1[i][j] + m2[i][j])\n",
    "            add.append(a)\n",
    "        return add\n",
    "    else:\n",
    "        return \"Dimension does not match\""
   ]
  },
  {
   "cell_type": "code",
   "execution_count": 14,
   "metadata": {},
   "outputs": [],
   "source": [
    "import matrix"
   ]
  },
  {
   "cell_type": "code",
   "execution_count": 15,
   "metadata": {},
   "outputs": [
    {
     "data": {
      "text/plain": [
       "[[2, 3, 6], [4, 5, 8]]"
      ]
     },
     "execution_count": 15,
     "metadata": {},
     "output_type": "execute_result"
    }
   ],
   "source": [
    "m1"
   ]
  },
  {
   "cell_type": "code",
   "execution_count": 16,
   "metadata": {},
   "outputs": [
    {
     "data": {
      "text/plain": [
       "[[1, 2, 3], [4, 5, 6]]"
      ]
     },
     "execution_count": 16,
     "metadata": {},
     "output_type": "execute_result"
    }
   ],
   "source": [
    "m2"
   ]
  },
  {
   "cell_type": "code",
   "execution_count": 17,
   "metadata": {},
   "outputs": [
    {
     "ename": "AttributeError",
     "evalue": "module 'matrix' has no attribute 'matrix_add'",
     "output_type": "error",
     "traceback": [
      "\u001b[1;31m---------------------------------------------------------------------\u001b[0m",
      "\u001b[1;31mAttributeError\u001b[0m                      Traceback (most recent call last)",
      "\u001b[1;32m<ipython-input-17-8a8013ba4b0b>\u001b[0m in \u001b[0;36m<module>\u001b[1;34m\u001b[0m\n\u001b[1;32m----> 1\u001b[1;33m \u001b[0mmatrix\u001b[0m\u001b[1;33m.\u001b[0m\u001b[0mmatrix_add\u001b[0m\u001b[1;33m(\u001b[0m\u001b[0mm1\u001b[0m\u001b[1;33m,\u001b[0m\u001b[0mm2\u001b[0m\u001b[1;33m)\u001b[0m\u001b[1;33m\u001b[0m\u001b[1;33m\u001b[0m\u001b[0m\n\u001b[0m",
      "\u001b[1;31mAttributeError\u001b[0m: module 'matrix' has no attribute 'matrix_add'"
     ]
    }
   ],
   "source": [
    "matrix.matrix_add(m1,m2)"
   ]
  },
  {
   "cell_type": "code",
   "execution_count": 18,
   "metadata": {},
   "outputs": [],
   "source": [
    "s = \"123\""
   ]
  },
  {
   "cell_type": "code",
   "execution_count": 19,
   "metadata": {},
   "outputs": [
    {
     "data": {
      "text/plain": [
       "False"
      ]
     },
     "execution_count": 19,
     "metadata": {},
     "output_type": "execute_result"
    }
   ],
   "source": [
    "s.isidentifier()"
   ]
  },
  {
   "cell_type": "code",
   "execution_count": 20,
   "metadata": {},
   "outputs": [],
   "source": [
    "a = [1,2,3,4,5]"
   ]
  },
  {
   "cell_type": "code",
   "execution_count": 21,
   "metadata": {},
   "outputs": [
    {
     "data": {
      "text/plain": [
       "[1, 2, 3, 4, 5]"
      ]
     },
     "execution_count": 21,
     "metadata": {},
     "output_type": "execute_result"
    }
   ],
   "source": [
    "a"
   ]
  },
  {
   "cell_type": "code",
   "execution_count": 22,
   "metadata": {},
   "outputs": [
    {
     "data": {
      "text/plain": [
       "True"
      ]
     },
     "execution_count": 22,
     "metadata": {},
     "output_type": "execute_result"
    }
   ],
   "source": [
    "\"abc\".isidentifier()"
   ]
  },
  {
   "cell_type": "code",
   "execution_count": 23,
   "metadata": {},
   "outputs": [
    {
     "data": {
      "text/plain": [
       "True"
      ]
     },
     "execution_count": 23,
     "metadata": {},
     "output_type": "execute_result"
    }
   ],
   "source": [
    "\"_123\".isidentifier()"
   ]
  },
  {
   "cell_type": "code",
   "execution_count": 24,
   "metadata": {},
   "outputs": [],
   "source": [
    "_123 = 34"
   ]
  },
  {
   "cell_type": "code",
   "execution_count": 25,
   "metadata": {},
   "outputs": [
    {
     "data": {
      "text/plain": [
       "34"
      ]
     },
     "execution_count": 25,
     "metadata": {},
     "output_type": "execute_result"
    }
   ],
   "source": [
    "_123"
   ]
  },
  {
   "cell_type": "code",
   "execution_count": 26,
   "metadata": {},
   "outputs": [
    {
     "ename": "SyntaxError",
     "evalue": "can't assign to literal (<ipython-input-26-5a406e722dd5>, line 1)",
     "output_type": "error",
     "traceback": [
      "\u001b[1;36m  File \u001b[1;32m\"<ipython-input-26-5a406e722dd5>\"\u001b[1;36m, line \u001b[1;32m1\u001b[0m\n\u001b[1;33m    123 = 34\u001b[0m\n\u001b[1;37m            ^\u001b[0m\n\u001b[1;31mSyntaxError\u001b[0m\u001b[1;31m:\u001b[0m can't assign to literal\n"
     ]
    }
   ],
   "source": [
    "123 = 34"
   ]
  },
  {
   "cell_type": "code",
   "execution_count": 27,
   "metadata": {},
   "outputs": [
    {
     "data": {
      "text/plain": [
       "False"
      ]
     },
     "execution_count": 27,
     "metadata": {},
     "output_type": "execute_result"
    }
   ],
   "source": [
    "\"abc 123\".isidentifier()"
   ]
  },
  {
   "cell_type": "code",
   "execution_count": 28,
   "metadata": {},
   "outputs": [
    {
     "data": {
      "text/plain": [
       "False"
      ]
     },
     "execution_count": 28,
     "metadata": {},
     "output_type": "execute_result"
    }
   ],
   "source": [
    "\"abc&123\".isidentifier()"
   ]
  },
  {
   "cell_type": "code",
   "execution_count": 29,
   "metadata": {},
   "outputs": [
    {
     "ename": "SyntaxError",
     "evalue": "can't assign to operator (<ipython-input-29-b11e2746221c>, line 1)",
     "output_type": "error",
     "traceback": [
      "\u001b[1;36m  File \u001b[1;32m\"<ipython-input-29-b11e2746221c>\"\u001b[1;36m, line \u001b[1;32m1\u001b[0m\n\u001b[1;33m    abc&123 = \"hello\"\u001b[0m\n\u001b[1;37m                     ^\u001b[0m\n\u001b[1;31mSyntaxError\u001b[0m\u001b[1;31m:\u001b[0m can't assign to operator\n"
     ]
    }
   ],
   "source": [
    "abc&123 = \"hello\""
   ]
  },
  {
   "cell_type": "markdown",
   "metadata": {},
   "source": [
    "### identifier --> rules\n",
    "\n",
    "    1. The identifer must always start will alphabet or _\n",
    "    2. No special character in them --> space, #, & etc..\n",
    "    3. len should be short\n",
    "    4. The identifier can consist of alphabets, number , _\n",
    "    \n",
    "    Make a function that will take a string as an argument and check whether it can be identifier or not\n",
    "    \n",
    "    ex --> 123 --> False  (1)\n",
    "           abc --> True\n",
    "           abc@123 --> False  (2,4)\n",
    "           @123 --> False\n",
    "           _abc --> True\n",
    "           abc_123 --> True"
   ]
  },
  {
   "cell_type": "markdown",
   "metadata": {},
   "source": [
    "#### Password Validation In Bank Application\n",
    "    \n",
    "        1. password should be of minimum 8 length\n",
    "        2. password should consists of one special character\n",
    "        3. it should consist of one uppercase alphabet\n",
    "        4. it should consists of number\n",
    "        5. it should consists of lowercase alphabet\n",
    "        \n",
    "        \n",
    "       Make function first if the function works well show it to me and then add it to your application"
   ]
  },
  {
   "cell_type": "code",
   "execution_count": 31,
   "metadata": {},
   "outputs": [],
   "source": [
    "bank = {'accno':[1001],'bal':[12000],'password':['admin'],'name':['simran']}"
   ]
  },
  {
   "cell_type": "code",
   "execution_count": 33,
   "metadata": {},
   "outputs": [
    {
     "name": "stdout",
     "output_type": "stream",
     "text": [
      "\n",
      " Enter balance : 10000\n",
      "\n",
      " Enter password : passwd\n",
      "\n",
      " Enter name : simran\n",
      "\n",
      " Your account number is :  1002\n"
     ]
    },
    {
     "data": {
      "text/plain": [
       "{'accno': [1001, 1002],\n",
       " 'bal': [12000, 10000.0],\n",
       " 'password': ['admin', 'passwd'],\n",
       " 'name': ['simran', 'simran']}"
      ]
     },
     "execution_count": 33,
     "metadata": {},
     "output_type": "execute_result"
    }
   ],
   "source": [
    "def signup(bank):\n",
    "    \"\"\"\n",
    "        This function is used for adding the user data into bank application \n",
    "    \"\"\"\n",
    "    bal = float(input(\"\\n Enter balance : \"))\n",
    "    password = input(\"\\n Enter password : \")\n",
    "    name = input(\"\\n Enter name : \")\n",
    "    accno = bank['accno'][-1] + 1\n",
    "    print(\"\\n Your account number is : \",accno)\n",
    "    bank['accno'].append(accno)\n",
    "    bank['bal'].append(bal)\n",
    "    bank['password'].append(password)\n",
    "    bank['name'].append(name)\n",
    "    \n",
    "    return bank\n",
    "\n",
    "\n",
    "signup(bank)"
   ]
  },
  {
   "cell_type": "code",
   "execution_count": 34,
   "metadata": {},
   "outputs": [
    {
     "data": {
      "text/plain": [
       "{'accno': [1001, 1002],\n",
       " 'bal': [12000, 10000.0],\n",
       " 'password': ['admin', 'passwd'],\n",
       " 'name': ['simran', 'simran']}"
      ]
     },
     "execution_count": 34,
     "metadata": {},
     "output_type": "execute_result"
    }
   ],
   "source": [
    "bank"
   ]
  },
  {
   "cell_type": "code",
   "execution_count": 37,
   "metadata": {},
   "outputs": [],
   "source": [
    "def calculator():\n",
    "    calc = input(\"\\n Enter the calculation that you want to perform : \")\n",
    "    return eval(calc)"
   ]
  },
  {
   "cell_type": "code",
   "execution_count": 47,
   "metadata": {},
   "outputs": [
    {
     "name": "stdout",
     "output_type": "stream",
     "text": [
      "\n",
      " Enter the calculation that you want to perform : 12+34567/9\n",
      "Calculation :  3852.78\n"
     ]
    }
   ],
   "source": [
    "s = calculator()\n",
    "if type(s) == float:\n",
    "    a = str(s).split(\".\")[-1]\n",
    "    if len(a)>5:\n",
    "        print(\"Calculation : \",round(s,2))\n",
    "    else:\n",
    "        print(\"Calculation : \",s)\n",
    "else:\n",
    "    print(\"Calculation : \",s)"
   ]
  },
  {
   "cell_type": "code",
   "execution_count": 42,
   "metadata": {},
   "outputs": [
    {
     "data": {
      "text/plain": [
       "2"
      ]
     },
     "execution_count": 42,
     "metadata": {},
     "output_type": "execute_result"
    }
   ],
   "source": [
    "s = \"1234.5678\".split(\".\")\n",
    "len(s)"
   ]
  },
  {
   "cell_type": "code",
   "execution_count": 43,
   "metadata": {},
   "outputs": [
    {
     "data": {
      "text/plain": [
       "['1234', '5678']"
      ]
     },
     "execution_count": 43,
     "metadata": {},
     "output_type": "execute_result"
    }
   ],
   "source": [
    "s"
   ]
  },
  {
   "cell_type": "code",
   "execution_count": 48,
   "metadata": {},
   "outputs": [],
   "source": [
    "###types of arguments"
   ]
  },
  {
   "cell_type": "code",
   "execution_count": null,
   "metadata": {},
   "outputs": [],
   "source": []
  }
 ],
 "metadata": {
  "kernelspec": {
   "display_name": "Python 3",
   "language": "python",
   "name": "python3"
  },
  "language_info": {
   "codemirror_mode": {
    "name": "ipython",
    "version": 3
   },
   "file_extension": ".py",
   "mimetype": "text/x-python",
   "name": "python",
   "nbconvert_exporter": "python",
   "pygments_lexer": "ipython3",
   "version": "3.7.4"
  }
 },
 "nbformat": 4,
 "nbformat_minor": 2
}
