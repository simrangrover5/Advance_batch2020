{
 "cells": [
  {
   "cell_type": "code",
   "execution_count": 4,
   "metadata": {},
   "outputs": [
    {
     "name": "stdout",
     "output_type": "stream",
     "text": [
      "******************************Guess Game******************************\n",
      "\n",
      " Enter any number between 1 to 100 : 50\n",
      "\n",
      " Think low....\n",
      "\n",
      " Enter any number between 1 to 100 : 40\n",
      "\n",
      " Think low....\n",
      "\n",
      " Enter any number between 1 to 100 : 30\n",
      "\n",
      " Think low....\n",
      "\n",
      " Enter any number between 1 to 100 : 25\n",
      "\n",
      " Think low....\n",
      "\n",
      " Enter any number between 1 to 100 : 20\n",
      "\n",
      " Think low....\n",
      "\n",
      " Enter any number between 1 to 100 : 10\n",
      "\n",
      " Think low....\n",
      "\n",
      " Enter any number between 1 to 100 : 5\n",
      "\n",
      " Think high.....\n",
      "\n",
      " Enter any number between 1 to 100 : 7\n",
      "\n",
      " You won.....\n",
      "\n",
      " After 8 guesses\n"
     ]
    }
   ],
   "source": [
    "####guess game\n",
    "\n",
    "from random import randint\n",
    "\n",
    "n = randint(1,100)\n",
    "c = 0\n",
    "print(\"Guess Game\".center(70,\"*\"))\n",
    "while True:\n",
    "    guess = int(input(\"\\n Enter any number between 1 to 100 : \"))\n",
    "    c += 1\n",
    "    if 1<=guess<=100:\n",
    "        if guess>n:\n",
    "            print(\"\\n Think low....\")\n",
    "            continue\n",
    "        elif guess == n:\n",
    "            print(f\"\\n You won.....\")\n",
    "            break\n",
    "            print(\"hello\")\n",
    "        elif guess<n:\n",
    "            print(\"\\n Think high.....\")\n",
    "            continue\n",
    "    else:\n",
    "        print(\"\\n Incorrect input please enter correct number....\")\n",
    "        continue\n",
    "        \n",
    "print(f\"\\n After {c} guesses\")"
   ]
  },
  {
   "cell_type": "code",
   "execution_count": 9,
   "metadata": {},
   "outputs": [
    {
     "name": "stdout",
     "output_type": "stream",
     "text": [
      "******************************Guess Game******************************\n",
      "\n",
      " Enter any number between 1 to 100 : 50\n",
      "\n",
      " Think high.....\n",
      "\n",
      " Enter any number between 1 to 100 : 60\n",
      "\n",
      " Think high.....\n",
      "\n",
      " Enter any number between 1 to 100 : 70\n",
      "\n",
      " Think high.....\n",
      "\n",
      " Enter any number between 1 to 100 : 80\n",
      "\n",
      " Think high.....\n",
      "\n",
      " Enter any number between 1 to 100 : 90\n",
      "\n",
      " Think high.....\n",
      "\n",
      " You lost......after 5 chances\n"
     ]
    }
   ],
   "source": [
    "####guess game\n",
    "\n",
    "from random import randint\n",
    "\n",
    "n = randint(1,100)\n",
    "c = 0\n",
    "print(\"Guess Game\".center(70,\"*\"))\n",
    "while c<5:\n",
    "    guess = int(input(\"\\n Enter any number between 1 to 100 : \"))\n",
    "    if 1<=guess<=100:\n",
    "        if guess>n:\n",
    "            print(\"\\n Think low....\")\n",
    "        elif guess == n:\n",
    "            print(f\"\\n You won.....after {c} guesses\")\n",
    "            break\n",
    "        elif guess<n:\n",
    "            print(\"\\n Think high.....\")\n",
    "    else:\n",
    "        print(\"\\n Incorrect input please enter correct number....\")\n",
    "        continue\n",
    "    c += 1\n",
    "else:\n",
    "    print(\"\\n You lost......after 5 chances\")"
   ]
  },
  {
   "cell_type": "code",
   "execution_count": 10,
   "metadata": {},
   "outputs": [
    {
     "name": "stdout",
     "output_type": "stream",
     "text": [
      "******************************Guess Game******************************\n",
      "\n",
      " Enter any number between 1 to 100 : 102\n",
      "\n",
      " Incorrect input please enter correct number....\n",
      "\n",
      " Enter any number between 1 to 100 : 104\n",
      "\n",
      " Incorrect input please enter correct number....\n",
      "\n",
      " Enter any number between 1 to 100 : 105\n",
      "\n",
      " Incorrect input please enter correct number....\n",
      "\n",
      " Enter any number between 1 to 100 : 106\n",
      "\n",
      " Incorrect input please enter correct number....\n",
      "\n",
      " Enter any number between 1 to 100 : 107\n",
      "\n",
      " Incorrect input please enter correct number....\n",
      "\n",
      " You lost......after 5 chances\n"
     ]
    }
   ],
   "source": [
    "####guess game\n",
    "\n",
    "from random import randint\n",
    "\n",
    "n = randint(1,100)\n",
    "c = 0\n",
    "print(\"Guess Game\".center(70,\"*\"))\n",
    "while c<5:\n",
    "    guess = int(input(\"\\n Enter any number between 1 to 100 : \"))\n",
    "    if 1<=guess<=100:\n",
    "        if guess>n:\n",
    "            print(\"\\n Think low....\")\n",
    "        elif guess == n:\n",
    "            print(f\"\\n You won.....after {c} guesses\")\n",
    "            break\n",
    "        elif guess<n:\n",
    "            print(\"\\n Think high.....\")\n",
    "    else:\n",
    "        print(\"\\n Incorrect input please enter correct number....\")\n",
    "    c += 1\n",
    "else:\n",
    "    print(\"\\n You lost......after 5 chances\")"
   ]
  },
  {
   "cell_type": "markdown",
   "metadata": {},
   "source": [
    "### Nested While Loop\n",
    "\n",
    "    While loop under another while loop"
   ]
  },
  {
   "cell_type": "code",
   "execution_count": 20,
   "metadata": {},
   "outputs": [
    {
     "name": "stdout",
     "output_type": "stream",
     "text": [
      "I -->  1 1,2,3,4,5,\n",
      "\n",
      "I -->  2 1,2,3,4,5,\n",
      "\n",
      "I -->  3 1,2,3,4,5,\n",
      "\n",
      "I -->  4 1,2,3,4,5,\n",
      "\n",
      "I -->  5 1,2,3,4,5,\n",
      "\n"
     ]
    }
   ],
   "source": [
    "i = 1\n",
    "while i<=5:\n",
    "    j = 1\n",
    "    print(\"I --> \",i,end=\" \")\n",
    "    while j<=5:\n",
    "        print(j,end=\",\")\n",
    "        j += 1\n",
    "    print(\"\\n\")\n",
    "    i += 1\n",
    "    "
   ]
  },
  {
   "cell_type": "markdown",
   "metadata": {},
   "source": [
    "               I\n",
    "                   i = 1, 1<=5 --> True\n",
    "                   j = 1, \n",
    "                   I. 1<=5 --> True\n",
    "                       1,\n",
    "                       j = 2\n",
    "                   II. 2<=5 --> True\n",
    "                       1,2,\n",
    "                       j = 3\n",
    "                   III. 3<=5 --> True\n",
    "                        1,2,3\n",
    "                        j = 4\n",
    "                  IV. 4<=5 --> True\n",
    "                        1,2,3,4\n",
    "                        j = 5\n",
    "                  V. 5<=5 --> True\n",
    "                        1,2,3,4,5\n",
    "                        j = 6\n",
    "                  VI. 6<=5 --> False\n",
    "                  i = 2\n",
    "             II.  i = 2, 2<=5 --> True\n",
    "                  j = 1\n",
    "                  I. 1<=5 --> True\n",
    "                       1,\n",
    "                       j = 2\n",
    "                  II. 2<=5 --> True\n",
    "                       1,2,\n",
    "                       j = 3\n",
    "                 III. 3<=5 --> True\n",
    "                       1,2,3\n",
    "                       j = 4\n",
    "                 IV. 4<=5 --> True\n",
    "                       1,2,3,4\n",
    "                       j = 5\n",
    "                 V. 5<=5 --> True\n",
    "                       1,2,3,4,5\n",
    "                       j = 6\n",
    "                 VI. 6<=5 --> False"
   ]
  },
  {
   "cell_type": "markdown",
   "metadata": {},
   "source": [
    "                    [1,2,3,4\n",
    "                    4,5,6,7,\n",
    "                    7,8,9,10]"
   ]
  },
  {
   "cell_type": "code",
   "execution_count": 24,
   "metadata": {},
   "outputs": [
    {
     "name": "stdout",
     "output_type": "stream",
     "text": [
      "[1, 2, 3, 4]\n",
      "[4, 5, 6, 7]\n",
      "[7, 8, 9, 10]\n"
     ]
    }
   ],
   "source": [
    "row = 0\n",
    "while row<3:\n",
    "    if row == 0:\n",
    "        print([1,2,3,4])\n",
    "    elif row == 1:\n",
    "        print([4,5,6,7])\n",
    "    elif row == 2:\n",
    "        print([7,8,9,10])\n",
    "    row += 1"
   ]
  },
  {
   "cell_type": "markdown",
   "metadata": {},
   "source": [
    "                [1,2,3,\n",
    "                1,2,3,\n",
    "                1,2,3]"
   ]
  },
  {
   "cell_type": "code",
   "execution_count": 26,
   "metadata": {},
   "outputs": [
    {
     "name": "stdout",
     "output_type": "stream",
     "text": [
      "1,2,3,\n",
      "1,2,3,\n",
      "1,2,3,\n"
     ]
    }
   ],
   "source": [
    "row =0\n",
    "while row<3:\n",
    "    col = 1\n",
    "    while col<=3:\n",
    "        print(col,end=\",\")\n",
    "        col += 1\n",
    "    print()\n",
    "    row += 1"
   ]
  },
  {
   "cell_type": "markdown",
   "metadata": {},
   "source": [
    "        1. row = 0\n",
    "           0<3 --> True\n",
    "               col = 1\n",
    "               1. 1<=3 --> True\n",
    "                   1,\n",
    "                   col = 2\n",
    "               2. 2<=3 --> True\n",
    "                   1,2,\n",
    "                   col = 3\n",
    "               3. 3<=3 --> True\n",
    "                   1,2,3,\n",
    "                   col = 4\n",
    "               4. 4<=3 --> False\n",
    "                   Out of the nested loop\n",
    "               row = 1\n",
    "       2. row = 1\n",
    "          1<3 ---> True\n",
    "              col = 1\n",
    "              1. 1<=3 --> True\n",
    "                   1,\n",
    "                   col = 2\n",
    "               2. 2<=3 --> True\n",
    "                   1,2,\n",
    "                   col = 3\n",
    "               3. 3<=3 --> True\n",
    "                   1,2,3,\n",
    "                   col = 4\n",
    "               4. 4<=3 --> False\n",
    "                   Out of the nested loop\n",
    "               row = 2\n",
    "       3. row = 2\n",
    "          2<3 --> True\n",
    "              col = 1\n",
    "              1. 1<=3 --> True\n",
    "                   1,\n",
    "                   col = 2\n",
    "               2. 2<=3 --> True\n",
    "                   1,2,\n",
    "                   col = 3\n",
    "               3. 3<=3 --> True\n",
    "                   1,2,3,\n",
    "                   col = 4\n",
    "               4. 4<=3 --> False\n",
    "                   Out of the nested loop\n",
    "               row = 3\n",
    "               "
   ]
  },
  {
   "cell_type": "code",
   "execution_count": 27,
   "metadata": {},
   "outputs": [
    {
     "name": "stdout",
     "output_type": "stream",
     "text": [
      "\n",
      " Enter number of rows : 5\n",
      "\n",
      " Enter number of columns : 5\n",
      "1,2,3,4,5,\n",
      "1,2,3,4,5,\n",
      "1,2,3,4,5,\n",
      "1,2,3,4,5,\n",
      "1,2,3,4,5,\n"
     ]
    }
   ],
   "source": [
    "row = int(input(\"\\n Enter number of rows : \"))\n",
    "col = int(input(\"\\n Enter number of columns : \"))\n",
    "r = 1\n",
    "while r<=row:\n",
    "    c = 1\n",
    "    while c<=col:\n",
    "        print(c,end=\",\")\n",
    "        c += 1\n",
    "    print()\n",
    "    r += 1"
   ]
  },
  {
   "cell_type": "code",
   "execution_count": 28,
   "metadata": {},
   "outputs": [
    {
     "name": "stdout",
     "output_type": "stream",
     "text": [
      "\n",
      " Enter number of rows : 5\n",
      "\n",
      " Enter number of columns : 5\n",
      "2,4,6,8,10,\n",
      "2,4,6,8,10,\n",
      "2,4,6,8,10,\n",
      "2,4,6,8,10,\n",
      "2,4,6,8,10,\n"
     ]
    }
   ],
   "source": [
    "row = int(input(\"\\n Enter number of rows : \"))\n",
    "col = int(input(\"\\n Enter number of columns : \"))\n",
    "r = 1\n",
    "while r<=row:\n",
    "    c = 1\n",
    "    while c<=col:\n",
    "        print(c*2,end=\",\")\n",
    "        c += 1\n",
    "    print()\n",
    "    r += 1"
   ]
  },
  {
   "cell_type": "markdown",
   "metadata": {},
   "source": [
    "                        [1,2,3,4\n",
    "                        3,4,5,6,\n",
    "                        4,5,9,10]"
   ]
  },
  {
   "cell_type": "code",
   "execution_count": 30,
   "metadata": {},
   "outputs": [
    {
     "name": "stdout",
     "output_type": "stream",
     "text": [
      "\n",
      " Enter number of rows : 3\n",
      "\n",
      " Enter number of columns : 3\n",
      "\n",
      " Enter value : 1\n",
      "\n",
      " Enter value : 2\n",
      "\n",
      " Enter value : 3\n",
      "[1, 2, 3]\n",
      "\n",
      "[[1, 2, 3]]\n",
      "\n",
      " Enter value : 4\n",
      "\n",
      " Enter value : 5\n",
      "\n",
      " Enter value : 6\n",
      "[4, 5, 6]\n",
      "\n",
      "[[1, 2, 3], [4, 5, 6]]\n",
      "\n",
      " Enter value : 7\n",
      "\n",
      " Enter value : 8\n",
      "\n",
      " Enter value : 9\n",
      "[7, 8, 9]\n",
      "\n",
      "[[1, 2, 3], [4, 5, 6], [7, 8, 9]]\n"
     ]
    }
   ],
   "source": [
    "row = int(input(\"\\n Enter number of rows : \"))\n",
    "col = int(input(\"\\n Enter number of columns : \"))\n",
    "r = 1\n",
    "m = []\n",
    "while r<=row:\n",
    "    c = 1\n",
    "    m1 = []\n",
    "    while c<=col:\n",
    "        a = int(input(\"\\n Enter value : \"))\n",
    "        m1.append(a)\n",
    "        c += 1\n",
    "    print(m1)\n",
    "    print()\n",
    "    m.append(m1)\n",
    "    r += 1\n",
    "    print(m)\n",
    "\n",
    "#total times the loop is running is row*col"
   ]
  },
  {
   "cell_type": "raw",
   "metadata": {},
   "source": [
    "*\n",
    "* * \n",
    "* * * \n",
    "* * * *\n",
    "* * * * * "
   ]
  },
  {
   "cell_type": "code",
   "execution_count": 32,
   "metadata": {},
   "outputs": [
    {
     "name": "stdout",
     "output_type": "stream",
     "text": [
      "\n",
      " Enter total number of rows : 5\n",
      "* \n",
      "* * \n",
      "* * * \n",
      "* * * * \n",
      "* * * * * \n"
     ]
    }
   ],
   "source": [
    "n = int(input(\"\\n Enter total number of rows : \"))\n",
    "row = 1\n",
    "while row<=n:\n",
    "    col = 1\n",
    "    while col<=row:\n",
    "        print(\"*\",end=\" \")\n",
    "        col += 1\n",
    "    print()\n",
    "    row += 1\n",
    "    \n",
    "#n= 5, row =1, 1<=5 --> True\n",
    "#   col = 1 , 1<=1 --> True --> * , col = 2\n",
    "#   col = 2 , 2<=1 --> False --> exit inner loop\n",
    "#row = 2, 2<=5 --> True\n",
    "#   col = 1, 1<=2 --> True --> * , col = 2\n",
    "#   col = 2, 2<=2 --> True --> * * , col = 3\n",
    "#   col = 3 , 3<=2 --> false\n",
    "#row = 3, 3<=5 --> True\n",
    "#   col = 1, 1<=2 --> True --> * , col = 2\n",
    "#   col = 2, 2<=2 --> True --> * * , col = 3\n",
    "#   col = 3 , 3<=3 --> True --> * * *, col = 4\n"
   ]
  },
  {
   "cell_type": "code",
   "execution_count": 33,
   "metadata": {},
   "outputs": [
    {
     "name": "stdout",
     "output_type": "stream",
     "text": [
      "* \n",
      "* * \n",
      "* * * \n",
      "* * * * \n",
      "* * * * * \n"
     ]
    }
   ],
   "source": [
    "row = 5\n",
    "while row>=1:\n",
    "    col = 5\n",
    "    while col>=row:\n",
    "        print(\"*\",end=\" \")\n",
    "        col -= 1\n",
    "    print()\n",
    "    row -= 1"
   ]
  },
  {
   "cell_type": "raw",
   "metadata": {},
   "source": [
    "* * * * *\n",
    "* * * * \n",
    "* * * \n",
    "* * \n",
    "* "
   ]
  },
  {
   "cell_type": "code",
   "execution_count": 34,
   "metadata": {},
   "outputs": [
    {
     "name": "stdout",
     "output_type": "stream",
     "text": [
      "\n",
      " Enter total number of rows : 5\n",
      "* * * * * \n",
      "* * * * \n",
      "* * * \n",
      "* * \n",
      "* \n"
     ]
    }
   ],
   "source": [
    "n= int(input(\"\\n Enter total number of rows : \"))\n",
    "r = 1\n",
    "while r<=n:\n",
    "    c = n\n",
    "    while c>=r:\n",
    "        print(\"*\",end=\" \")\n",
    "        c -= 1\n",
    "    print()\n",
    "    r += 1\n",
    "    \n",
    "#1. r = 1, True --> c = 5 --> 5>=1 --> True --> * , c = 4, 4>=1 --> True --> * * ,c = 3, True, * * * , c= 4 , * * * * ...,r=2\n",
    "#2. r= 2, True --> c = 5,5>=2, 4>=2, 3>=2, 2>=2\n",
    "#3. r = 3, True --> c = 5, 5>=3, 4>=3, 3>=3"
   ]
  },
  {
   "cell_type": "raw",
   "metadata": {},
   "source": [
    "    *                 1                    1\n",
    "   **                 1 2                  2 3 \n",
    "  ***                 1 2 3                4 5 6\n",
    " ****                 1 2 3 4              7 8 9 10 \n",
    "*****                 1 2 3 4 5            11 12 13 14 15 \n",
    "\n",
    "# do it from home"
   ]
  },
  {
   "cell_type": "raw",
   "metadata": {},
   "source": [
    "1\n",
    "2 2 \n",
    "3 3 3\n",
    "4 4 4 4\n",
    "5 5 5 5 5"
   ]
  },
  {
   "cell_type": "code",
   "execution_count": 39,
   "metadata": {},
   "outputs": [
    {
     "name": "stdout",
     "output_type": "stream",
     "text": [
      "\n",
      " Enter number of rows : 9\n",
      "1 \n",
      "2 2 \n",
      "3 3 3 \n",
      "4 4 4 4 \n",
      "5 5 5 5 5 \n",
      "6 6 6 6 6 6 \n",
      "7 7 7 7 7 7 7 \n",
      "8 8 8 8 8 8 8 8 \n",
      "9 9 9 9 9 9 9 9 9 \n"
     ]
    }
   ],
   "source": [
    "n = int(input(\"\\n Enter number of rows : \"))\n",
    "row = 1\n",
    "while row<=n:\n",
    "    col = 1\n",
    "    while col<=row:\n",
    "        print(row,end=\" \")\n",
    "        col += 1\n",
    "    print()\n",
    "    row += 1"
   ]
  },
  {
   "cell_type": "code",
   "execution_count": null,
   "metadata": {},
   "outputs": [],
   "source": []
  }
 ],
 "metadata": {
  "kernelspec": {
   "display_name": "Python 3",
   "language": "python",
   "name": "python3"
  },
  "language_info": {
   "codemirror_mode": {
    "name": "ipython",
    "version": 3
   },
   "file_extension": ".py",
   "mimetype": "text/x-python",
   "name": "python",
   "nbconvert_exporter": "python",
   "pygments_lexer": "ipython3",
   "version": "3.7.4"
  }
 },
 "nbformat": 4,
 "nbformat_minor": 2
}
