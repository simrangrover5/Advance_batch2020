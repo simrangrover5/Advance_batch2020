{
 "cells": [
  {
   "cell_type": "code",
   "execution_count": 1,
   "metadata": {},
   "outputs": [],
   "source": [
    "import requests\n",
    "from bs4 import BeautifulSoup"
   ]
  },
  {
   "cell_type": "code",
   "execution_count": 48,
   "metadata": {},
   "outputs": [
    {
     "name": "stdout",
     "output_type": "stream",
     "text": [
      "['Realme 5i (Aqua Blue, 64 GB)', 'Redmi 8 (Onyx Black, 64 GB)', 'Redmi 8 (Sapphire Blue, 64 GB)', 'Redmi 8 (Emerald Green, 64 GB)', 'Motorola G8 Power Lite (Royal Blue, 64 GB)', 'Realme 6 (Comet Blue, 64 GB)', 'POCO X2 (Atlantis Blue, 64 GB)', 'Motorola G8 Power Lite (Arctic Blue, 64 GB)', 'Realme C3 (Frozen Blue, 64 GB)', 'Realme Narzo 10A (So White, 64 GB)', 'Realme Narzo 10A (So Blue, 32 GB)', 'Realme Narzo 10A (So White, 32 GB)', 'Realme Narzo 10A (So Blue, 64 GB)', 'POCO X2 (Matrix Purple, 64 GB)', 'Realme 6 (Comet White, 64 GB)', 'Apple iPhone XR (Black, 64 GB)', 'Realme C11 (Rich Green, 32 GB)', 'Realme C11 (Rich Grey, 32 GB)', 'Realme 6 Pro (Lightning Blue, 64 GB)', 'Realme 6 Pro (Lightning Orange, 64 GB)', 'Realme 6 Pro (Lightning Blue, 128 GB)', 'OPPO A9 2020 (Marine Green, 128 GB)', 'Apple iPhone SE (Black, 64 GB)', 'Apple iPhone SE (White, 64 GB)']\n",
      "['4.5', '4.4', '4.4', '4.4', '4.4', '4.4', '4.5', '4.4', '4.5', '4.6', '4.6', '4.6', '4.6', '4.5', '4.4', '4.6', '4.6', '4.6', '4.5', '4.5', '4.5', '4.3', '4.5', '4.5', '4.6', '5', '5', '5', '5', '5', '5', '4', '4', '3', '4']\n",
      "[None, '₹10,999', '₹10,999', '₹10,999', '₹9,999', '₹17,999', '₹18,999', '₹9,999', None, '₹10,999', '₹9,999', '₹9,999', '₹10,999', '₹18,999', '₹17,999', '₹52,500', '₹8,999', '₹8,999', None, None, None, '₹18,990', '₹42,500', '₹42,500', None, None, None, None, None, None, None, None, None, None, None, None, None, None, None, None, None, None, None, None, None, None, None, None, None, None, None, None, None, None, None, None, None, None, None, None, None, None, None, None, None, None, None]\n",
      "['₹10,999', '₹9,999', '₹9,999', '₹9,999', '₹9,499', '₹15,999', '₹17,499', '₹9,499', '₹9,999', '₹9,999', '₹8,999', '₹8,999', '₹9,999', '₹17,499', '₹15,999', '₹46,999', '₹7,499', '₹7,499', '₹17,999', '₹17,999', '₹18,999', '₹13,990', '₹40,999', '₹40,999', '₹7,499']\n"
     ]
    }
   ],
   "source": [
    "url = \"https://www.flipkart.com/search?q=mobiles&as=on&as-show=on&otracker=AS_Query_TrendingAutoSuggest_1_0_na_na_na&otracker1=AS_Query_TrendingAutoSuggest_1_0_na_na_na&as-pos=1&as-type=HISTORY&suggestionId=mobiles&requestId=537ff205-8e71-45a8-9937-d3ecb3c915a8\"\n",
    "data = requests.get(url)\n",
    "if data.status_code == 200:\n",
    "    soup = BeautifulSoup(data.text,'lxml')\n",
    "    name = []\n",
    "    rating = []\n",
    "    dis_price = []\n",
    "    price = []\n",
    "    for i in soup.findAll(\"div\",attrs={\"class\":[\"._1-2Iqu\",\"row\"]}):\n",
    "        if i.select(\"._3wU53n\"):\n",
    "            name.append(i.select(\"._3wU53n\")[0].text)\n",
    "    #for i in soup.findAll(\"div\",attrs={\"class\":[\"._1-2Iqu\",\"row\"]}):\n",
    "        if i.select(\".hGSR34\"):\n",
    "            rating.append(i.select(\".hGSR34\")[0].text)\n",
    "        if i.find(\"div\",attrs={\"class\":[\"_3auQ3N\",\"_2GcJzG\"]}):\n",
    "            price.append(i.find(\"div\",attrs={\"class\":[\"_3auQ3N\",\"_2GcJzG\"]}).text)\n",
    "        else:\n",
    "            price.append(None)\n",
    "        if i.find(\"div\",attrs={\"class\":[\"_2rQ-NK\",\"_1vC4OE\"]}):\n",
    "            dis_price.append(i.find(\"div\",attrs={\"class\":[\"_2rQ-NK\",\"_1vC4OE\"]}).text)\n",
    "    print(name)\n",
    "    print(rating)\n",
    "    print(price)\n",
    "    print(dis_price)"
   ]
  },
  {
   "cell_type": "code",
   "execution_count": 22,
   "metadata": {},
   "outputs": [],
   "source": [
    "l =  soup.findAll(\"div\",attrs={\"class\":[\"._1-2Iqu\",\"row\"]})"
   ]
  },
  {
   "cell_type": "code",
   "execution_count": 23,
   "metadata": {},
   "outputs": [
    {
     "data": {
      "text/plain": [
       "67"
      ]
     },
     "execution_count": 23,
     "metadata": {},
     "output_type": "execute_result"
    }
   ],
   "source": [
    "len(l)"
   ]
  },
  {
   "cell_type": "code",
   "execution_count": 35,
   "metadata": {},
   "outputs": [
    {
     "data": {
      "text/plain": [
       "<div class=\"_1-2Iqu row\"><div class=\"col col-7-12\"><div class=\"_3wU53n\">Redmi 8 (Onyx Black, 64 GB)</div><div class=\"niH0FQ\"><span class=\"_2_KrJI\" id=\"productRating_LSTMOBFKPYDZJQHGJXAPMDXOB_MOBFKPYDZJQHGJXA_\"><div class=\"hGSR34\">4.4<img class=\"_2lQ_WZ\" src=\"data:image/svg+xml;base64,PHN2ZyB4bWxucz0iaHR0cDovL3d3dy53My5vcmcvMjAwMC9zdmciIHdpZHRoPSIxMyIgaGVpZ2h0PSIxMiI+PHBhdGggZmlsbD0iI0ZGRiIgZD0iTTYuNSA5LjQzOWwtMy42NzQgMi4yMy45NC00LjI2LTMuMjEtMi44ODMgNC4yNTQtLjQwNEw2LjUuMTEybDEuNjkgNC4wMSA0LjI1NC40MDQtMy4yMSAyLjg4Mi45NCA0LjI2eiIvPjwvc3ZnPg==\"/></div></span><span class=\"_38sUEc\"><span><span>6,77,102 Ratings </span><span class=\"_1VpSqZ\">&amp;</span><span> 50,236 Reviews</span></span></span></div><div class=\"_3ULzGw\"><ul class=\"vFw0gD\"><li class=\"tVe95H\">4 GB RAM | 64 GB ROM | Expandable Upto 512 GB</li><li class=\"tVe95H\">15.8 cm (6.22 inch) HD+ Display</li><li class=\"tVe95H\">12MP + 2MP | 8MP Front Camera</li><li class=\"tVe95H\">5000 mAh Battery</li><li class=\"tVe95H\">Qualcomm Snapdragon 439 Processor</li><li class=\"tVe95H\">Brand Warranty of 1 Year Available for Mobile and 6 Months for Accessories</li></ul></div></div><div class=\"col col-5-12 _2o7WAb\"><div class=\"_6BWGkk\"><div class=\"_1uv9Cb\"><div class=\"_1vC4OE _2rQ-NK\">₹9,999</div><div class=\"_3auQ3N _2GcJzG\">₹<!-- -->10,999</div><div class=\"VGWI6T\"><span>9% off</span></div></div></div><div class=\"_3n6o0t\"><img height=\"21\" src=\"//img1a.flixcart.com/www/linchpin/fk-cp-zion/img/fa_8b4b59.png\"/></div><div class=\"_2nE8_R\"><div class=\"_3_G5Wj\" style=\"color:#000000;font-size:14px;font-family:inherit;font-weight:normal\">No Cost EMI</div></div><div class=\"_2nE8_R\"><div class=\"_3_G5Wj\" style=\"color:#000000;font-size:14px;font-family:inherit;font-weight:normal\">Upto </div><div class=\"_3_G5Wj\" style=\"color:#000000;font-size:14px;font-family:inherit;font-weight:bold\">₹9,900</div><div class=\"_3_G5Wj\" style=\"color:#000000;font-size:14px;font-family:inherit;font-weight:normal\"> Off on Exchange</div></div></div></div>"
      ]
     },
     "execution_count": 35,
     "metadata": {},
     "output_type": "execute_result"
    }
   ],
   "source": [
    "l[1]"
   ]
  },
  {
   "cell_type": "code",
   "execution_count": 39,
   "metadata": {},
   "outputs": [
    {
     "data": {
      "text/plain": [
       "24"
      ]
     },
     "execution_count": 39,
     "metadata": {},
     "output_type": "execute_result"
    }
   ],
   "source": [
    "len(name)"
   ]
  },
  {
   "cell_type": "code",
   "execution_count": 40,
   "metadata": {},
   "outputs": [
    {
     "data": {
      "text/plain": [
       "19"
      ]
     },
     "execution_count": 40,
     "metadata": {},
     "output_type": "execute_result"
    }
   ],
   "source": [
    "len(price)"
   ]
  },
  {
   "cell_type": "code",
   "execution_count": 41,
   "metadata": {},
   "outputs": [
    {
     "data": {
      "text/plain": [
       "35"
      ]
     },
     "execution_count": 41,
     "metadata": {},
     "output_type": "execute_result"
    }
   ],
   "source": [
    "len(rating)"
   ]
  },
  {
   "cell_type": "code",
   "execution_count": 42,
   "metadata": {},
   "outputs": [
    {
     "data": {
      "text/plain": [
       "25"
      ]
     },
     "execution_count": 42,
     "metadata": {},
     "output_type": "execute_result"
    }
   ],
   "source": [
    "len(dis_price)"
   ]
  },
  {
   "cell_type": "code",
   "execution_count": 44,
   "metadata": {},
   "outputs": [
    {
     "data": {
      "text/plain": [
       "'₹42,500'"
      ]
     },
     "execution_count": 44,
     "metadata": {},
     "output_type": "execute_result"
    }
   ],
   "source": [
    "price[-1]"
   ]
  },
  {
   "cell_type": "code",
   "execution_count": 47,
   "metadata": {},
   "outputs": [
    {
     "data": {
      "text/plain": [
       "'₹40,999'"
      ]
     },
     "execution_count": 47,
     "metadata": {},
     "output_type": "execute_result"
    }
   ],
   "source": [
    "dis_price[-2]"
   ]
  },
  {
   "cell_type": "code",
   "execution_count": 49,
   "metadata": {},
   "outputs": [
    {
     "data": {
      "text/plain": [
       "67"
      ]
     },
     "execution_count": 49,
     "metadata": {},
     "output_type": "execute_result"
    }
   ],
   "source": [
    "len(price)"
   ]
  },
  {
   "cell_type": "code",
   "execution_count": 50,
   "metadata": {},
   "outputs": [
    {
     "data": {
      "text/plain": [
       "[None,\n",
       " '₹10,999',\n",
       " '₹10,999',\n",
       " '₹10,999',\n",
       " '₹9,999',\n",
       " '₹17,999',\n",
       " '₹18,999',\n",
       " '₹9,999',\n",
       " None,\n",
       " '₹10,999',\n",
       " '₹9,999',\n",
       " '₹9,999',\n",
       " '₹10,999',\n",
       " '₹18,999',\n",
       " '₹17,999',\n",
       " '₹52,500',\n",
       " '₹8,999',\n",
       " '₹8,999',\n",
       " None,\n",
       " None,\n",
       " None,\n",
       " '₹18,990',\n",
       " '₹42,500',\n",
       " '₹42,500']"
      ]
     },
     "execution_count": 50,
     "metadata": {},
     "output_type": "execute_result"
    }
   ],
   "source": [
    "price[:24]"
   ]
  },
  {
   "cell_type": "code",
   "execution_count": 51,
   "metadata": {},
   "outputs": [
    {
     "name": "stdout",
     "output_type": "stream",
     "text": [
      "************************************Details*************************************\n",
      "                      Name : Realme 5i (Aqua Blue, 64 GB)                       \n",
      "                                  Rating : 4.5                                  \n",
      "                              Actual Price : None                               \n",
      "                         After Discount Price : ₹10,999                         \n",
      "********************************************************************************\n",
      "************************************Details*************************************\n",
      "                       Name : Redmi 8 (Onyx Black, 64 GB)                       \n",
      "                                  Rating : 4.4                                  \n",
      "                             Actual Price : ₹10,999                             \n",
      "                         After Discount Price : ₹9,999                          \n",
      "********************************************************************************\n",
      "************************************Details*************************************\n",
      "                     Name : Redmi 8 (Sapphire Blue, 64 GB)                      \n",
      "                                  Rating : 4.4                                  \n",
      "                             Actual Price : ₹10,999                             \n",
      "                         After Discount Price : ₹9,999                          \n",
      "********************************************************************************\n",
      "************************************Details*************************************\n",
      "                     Name : Redmi 8 (Emerald Green, 64 GB)                      \n",
      "                                  Rating : 4.4                                  \n",
      "                             Actual Price : ₹10,999                             \n",
      "                         After Discount Price : ₹9,999                          \n",
      "********************************************************************************\n",
      "************************************Details*************************************\n",
      "               Name : Motorola G8 Power Lite (Royal Blue, 64 GB)                \n",
      "                                  Rating : 4.4                                  \n",
      "                             Actual Price : ₹9,999                              \n",
      "                         After Discount Price : ₹9,499                          \n",
      "********************************************************************************\n",
      "************************************Details*************************************\n",
      "                      Name : Realme 6 (Comet Blue, 64 GB)                       \n",
      "                                  Rating : 4.4                                  \n",
      "                             Actual Price : ₹17,999                             \n",
      "                         After Discount Price : ₹15,999                         \n",
      "********************************************************************************\n",
      "************************************Details*************************************\n",
      "                     Name : POCO X2 (Atlantis Blue, 64 GB)                      \n",
      "                                  Rating : 4.5                                  \n",
      "                             Actual Price : ₹18,999                             \n",
      "                         After Discount Price : ₹17,499                         \n",
      "********************************************************************************\n",
      "************************************Details*************************************\n",
      "               Name : Motorola G8 Power Lite (Arctic Blue, 64 GB)               \n",
      "                                  Rating : 4.4                                  \n",
      "                             Actual Price : ₹9,999                              \n",
      "                         After Discount Price : ₹9,499                          \n",
      "********************************************************************************\n",
      "************************************Details*************************************\n",
      "                     Name : Realme C3 (Frozen Blue, 64 GB)                      \n",
      "                                  Rating : 4.5                                  \n",
      "                              Actual Price : None                               \n",
      "                         After Discount Price : ₹9,999                          \n",
      "********************************************************************************\n",
      "************************************Details*************************************\n",
      "                   Name : Realme Narzo 10A (So White, 64 GB)                    \n",
      "                                  Rating : 4.6                                  \n",
      "                             Actual Price : ₹10,999                             \n",
      "                         After Discount Price : ₹9,999                          \n",
      "********************************************************************************\n",
      "************************************Details*************************************\n",
      "                    Name : Realme Narzo 10A (So Blue, 32 GB)                    \n",
      "                                  Rating : 4.6                                  \n",
      "                             Actual Price : ₹9,999                              \n",
      "                         After Discount Price : ₹8,999                          \n",
      "********************************************************************************\n",
      "************************************Details*************************************\n",
      "                   Name : Realme Narzo 10A (So White, 32 GB)                    \n",
      "                                  Rating : 4.6                                  \n",
      "                             Actual Price : ₹9,999                              \n",
      "                         After Discount Price : ₹8,999                          \n",
      "********************************************************************************\n",
      "************************************Details*************************************\n",
      "                    Name : Realme Narzo 10A (So Blue, 64 GB)                    \n",
      "                                  Rating : 4.6                                  \n",
      "                             Actual Price : ₹10,999                             \n",
      "                         After Discount Price : ₹9,999                          \n",
      "********************************************************************************\n",
      "************************************Details*************************************\n",
      "                     Name : POCO X2 (Matrix Purple, 64 GB)                      \n",
      "                                  Rating : 4.5                                  \n",
      "                             Actual Price : ₹18,999                             \n",
      "                         After Discount Price : ₹17,499                         \n",
      "********************************************************************************\n",
      "************************************Details*************************************\n",
      "                      Name : Realme 6 (Comet White, 64 GB)                      \n",
      "                                  Rating : 4.4                                  \n",
      "                             Actual Price : ₹17,999                             \n",
      "                         After Discount Price : ₹15,999                         \n",
      "********************************************************************************\n",
      "************************************Details*************************************\n",
      "                     Name : Apple iPhone XR (Black, 64 GB)                      \n",
      "                                  Rating : 4.6                                  \n",
      "                             Actual Price : ₹52,500                             \n",
      "                         After Discount Price : ₹46,999                         \n",
      "********************************************************************************\n",
      "************************************Details*************************************\n",
      "                     Name : Realme C11 (Rich Green, 32 GB)                      \n",
      "                                  Rating : 4.6                                  \n",
      "                             Actual Price : ₹8,999                              \n",
      "                         After Discount Price : ₹7,499                          \n",
      "********************************************************************************\n",
      "************************************Details*************************************\n",
      "                      Name : Realme C11 (Rich Grey, 32 GB)                      \n",
      "                                  Rating : 4.6                                  \n",
      "                             Actual Price : ₹8,999                              \n",
      "                         After Discount Price : ₹7,499                          \n",
      "********************************************************************************\n",
      "************************************Details*************************************\n",
      "                  Name : Realme 6 Pro (Lightning Blue, 64 GB)                   \n",
      "                                  Rating : 4.5                                  \n",
      "                              Actual Price : None                               \n",
      "                         After Discount Price : ₹17,999                         \n",
      "********************************************************************************\n",
      "************************************Details*************************************\n",
      "                 Name : Realme 6 Pro (Lightning Orange, 64 GB)                  \n",
      "                                  Rating : 4.5                                  \n",
      "                              Actual Price : None                               \n",
      "                         After Discount Price : ₹17,999                         \n",
      "********************************************************************************\n",
      "************************************Details*************************************\n",
      "                  Name : Realme 6 Pro (Lightning Blue, 128 GB)                  \n",
      "                                  Rating : 4.5                                  \n",
      "                              Actual Price : None                               \n",
      "                         After Discount Price : ₹18,999                         \n",
      "********************************************************************************\n",
      "************************************Details*************************************\n",
      "                   Name : OPPO A9 2020 (Marine Green, 128 GB)                   \n",
      "                                  Rating : 4.3                                  \n",
      "                             Actual Price : ₹18,990                             \n",
      "                         After Discount Price : ₹13,990                         \n",
      "********************************************************************************\n",
      "************************************Details*************************************\n",
      "                     Name : Apple iPhone SE (Black, 64 GB)                      \n",
      "                                  Rating : 4.5                                  \n",
      "                             Actual Price : ₹42,500                             \n",
      "                         After Discount Price : ₹40,999                         \n",
      "********************************************************************************\n",
      "************************************Details*************************************\n",
      "                     Name : Apple iPhone SE (White, 64 GB)                      \n",
      "                                  Rating : 4.5                                  \n",
      "                             Actual Price : ₹42,500                             \n",
      "                         After Discount Price : ₹40,999                         \n",
      "********************************************************************************\n"
     ]
    }
   ],
   "source": [
    "for n,r,p,d in zip(name,rating,price,dis_price):\n",
    "    print(\"Details\".center(80,\"*\"))\n",
    "    print(f\"Name : {n}\".center(80))\n",
    "    print(f\"Rating : {r}\".center(80))\n",
    "    print(f\"Actual Price : {p}\".center(80))\n",
    "    print(f\"After Discount Price : {d}\".center(80))\n",
    "    print(\"*\"*80)"
   ]
  },
  {
   "cell_type": "code",
   "execution_count": 53,
   "metadata": {},
   "outputs": [
    {
     "name": "stdout",
     "output_type": "stream",
     "text": [
      "\n",
      " ENter your product : vivo mobiles\n",
      "************************************Details*************************************\n",
      "                     Name : Vivo Y15 (Burgundy Red, 64 GB)                      \n",
      "                                  Rating : 4.4                                  \n",
      "                             Actual Price : ₹15,990                             \n",
      "                         After Discount Price : ₹12,990                         \n",
      "********************************************************************************\n",
      "************************************Details*************************************\n",
      "                       Name : Vivo Y15 (Aqua Blue, 64 GB)                       \n",
      "                                  Rating : 4.4                                  \n",
      "                             Actual Price : ₹15,990                             \n",
      "                         After Discount Price : ₹12,990                         \n",
      "********************************************************************************\n",
      "************************************Details*************************************\n",
      "                       Name : Vivo Y12 (Aqua Blue, 64 GB)                       \n",
      "                                  Rating : 4.4                                  \n",
      "                             Actual Price : ₹13,990                             \n",
      "                         After Discount Price : ₹10,990                         \n",
      "********************************************************************************\n",
      "************************************Details*************************************\n",
      "                     Name : Vivo Y12 (Burgundy Red, 64 GB)                      \n",
      "                                  Rating : 4.4                                  \n",
      "                             Actual Price : ₹13,990                             \n",
      "                         After Discount Price : ₹10,990                         \n",
      "********************************************************************************\n",
      "************************************Details*************************************\n",
      "                     Name : Vivo U10 (Thunder Black, 32 GB)                     \n",
      "                                  Rating : 4.4                                  \n",
      "                              Actual Price : None                               \n",
      "                         After Discount Price : ₹10,990                         \n",
      "********************************************************************************\n",
      "************************************Details*************************************\n",
      "                       Name : Vivo Y11 (Agate Red, 32 GB)                       \n",
      "                                  Rating : 4.4                                  \n",
      "                              Actual Price : None                               \n",
      "                         After Discount Price : ₹9,990                          \n",
      "********************************************************************************\n",
      "************************************Details*************************************\n",
      "                     Name : Vivo Y11 (Mineral Blue, 32 GB)                      \n",
      "                                  Rating : 4.4                                  \n",
      "                              Actual Price : None                               \n",
      "                         After Discount Price : ₹9,990                          \n",
      "********************************************************************************\n",
      "************************************Details*************************************\n",
      "                     Name : Vivo Y91i (Fusion Black, 32 GB)                     \n",
      "                                  Rating : 4.3                                  \n",
      "                             Actual Price : ₹9,990                              \n",
      "                         After Discount Price : ₹8,990                          \n",
      "********************************************************************************\n",
      "************************************Details*************************************\n",
      "                      Name : Vivo Z1x (Fusion Blue, 64 GB)                      \n",
      "                                  Rating : 4.4                                  \n",
      "                             Actual Price : ₹19,990                             \n",
      "                         After Discount Price : ₹16,990                         \n",
      "********************************************************************************\n",
      "************************************Details*************************************\n",
      "                    Name : Vivo Z1x (Phantom Purple, 64 GB)                     \n",
      "                                  Rating : 4.4                                  \n",
      "                             Actual Price : ₹19,990                             \n",
      "                         After Discount Price : ₹16,990                         \n",
      "********************************************************************************\n",
      "************************************Details*************************************\n",
      "                     Name : Vivo Z1x (Fusion Blue, 128 GB)                      \n",
      "                                  Rating : 4.4                                  \n",
      "                             Actual Price : ₹24,990                             \n",
      "                         After Discount Price : ₹18,990                         \n",
      "********************************************************************************\n",
      "************************************Details*************************************\n",
      "                   Name : Vivo S1 Pro (Mystic Black, 128 GB)                    \n",
      "                                  Rating : 4.4                                  \n",
      "                             Actual Price : ₹20,990                             \n",
      "                         After Discount Price : ₹19,990                         \n",
      "********************************************************************************\n",
      "************************************Details*************************************\n",
      "                    Name : Vivo Y30 (Emerald Black, 128 GB)                     \n",
      "                                  Rating : 4.3                                  \n",
      "                             Actual Price : ₹18,990                             \n",
      "                         After Discount Price : ₹14,990                         \n",
      "********************************************************************************\n",
      "************************************Details*************************************\n",
      "                      Name : Vivo Y91i (Ocean Blue, 32 GB)                      \n",
      "                                  Rating : 4.3                                  \n",
      "                             Actual Price : ₹9,990                              \n",
      "                         After Discount Price : ₹7,990                          \n",
      "********************************************************************************\n",
      "************************************Details*************************************\n",
      "                     Name : Vivo Y91i (Fusion Black, 32 GB)                     \n",
      "                                  Rating : 4.3                                  \n",
      "                             Actual Price : ₹9,990                              \n",
      "                         After Discount Price : ₹7,990                          \n",
      "********************************************************************************\n",
      "************************************Details*************************************\n",
      "                    Name : Vivo X50 Pro (Alpha Grey, 256 GB)                    \n",
      "                                  Rating : 4.5                                  \n",
      "                             Actual Price : ₹54,990                             \n",
      "                         After Discount Price : ₹49,990                         \n",
      "********************************************************************************\n",
      "************************************Details*************************************\n",
      "                      Name : Vivo Y91i (Ocean Blue, 32 GB)                      \n",
      "                                  Rating : 4.3                                  \n",
      "                             Actual Price : ₹9,990                              \n",
      "                         After Discount Price : ₹8,990                          \n",
      "********************************************************************************\n",
      "************************************Details*************************************\n",
      "                     Name : Vivo Y30 (Dazzle Blue, 128 GB)                      \n",
      "                                  Rating : 4.3                                  \n",
      "                             Actual Price : ₹18,990                             \n",
      "                         After Discount Price : ₹14,990                         \n",
      "********************************************************************************\n",
      "************************************Details*************************************\n",
      "                    Name : Vivo Z1x (Phantom Purple, 128 GB)                    \n",
      "                                  Rating : 4.4                                  \n",
      "                             Actual Price : ₹24,990                             \n",
      "                         After Discount Price : ₹18,990                         \n",
      "********************************************************************************\n",
      "************************************Details*************************************\n",
      "                    Name : Vivo Z1Pro (Sonic Black, 128 GB)                     \n",
      "                                  Rating : 4.5                                  \n",
      "                             Actual Price : ₹20,990                             \n",
      "                         After Discount Price : ₹17,990                         \n",
      "********************************************************************************\n",
      "************************************Details*************************************\n",
      "                     Name : Vivo Y50 (Pearl White, 128 GB)                      \n",
      "                                  Rating : 4.3                                  \n",
      "                             Actual Price : ₹19,990                             \n",
      "                         After Discount Price : ₹17,990                         \n",
      "********************************************************************************\n",
      "************************************Details*************************************\n",
      "                      Name : Vivo Y50 (Iris Blue, 128 GB)                       \n",
      "                                  Rating : 4.3                                  \n",
      "                             Actual Price : ₹19,990                             \n",
      "                         After Discount Price : ₹17,990                         \n",
      "********************************************************************************\n",
      "************************************Details*************************************\n",
      "                    Name : Vivo S1 Pro (Jazzy Blue, 128 GB)                     \n",
      "                                  Rating : 4.4                                  \n",
      "                             Actual Price : ₹20,990                             \n",
      "                         After Discount Price : ₹19,990                         \n",
      "********************************************************************************\n",
      "************************************Details*************************************\n",
      "                     Name : Vivo Z1Pro (Sonic Blue, 128 GB)                     \n",
      "                                  Rating : 4.5                                  \n",
      "                             Actual Price : ₹20,990                             \n",
      "                         After Discount Price : ₹17,990                         \n",
      "********************************************************************************\n"
     ]
    }
   ],
   "source": [
    "def get_data(product):\n",
    "    url = f\"https://www.flipkart.com/search?q={product}&as=on&as-show=on&otracker=AS_Query_TrendingAutoSuggest_1_0_na_na_na&otracker1=AS_Query_TrendingAutoSuggest_1_0_na_na_na&as-pos=1&as-type=HISTORY&suggestionId=mobiles&requestId=537ff205-8e71-45a8-9937-d3ecb3c915a8\"\n",
    "    data = requests.get(url)\n",
    "    if data.status_code == 200:\n",
    "        soup = BeautifulSoup(data.text,'lxml')\n",
    "        name = []\n",
    "        rating = []\n",
    "        dis_price = []\n",
    "        price = []\n",
    "        for i in soup.findAll(\"div\",attrs={\"class\":[\"._1-2Iqu\",\"row\"]}):\n",
    "            if i.select(\"._3wU53n\"):\n",
    "                name.append(i.select(\"._3wU53n\")[0].text)\n",
    "        #for i in soup.findAll(\"div\",attrs={\"class\":[\"._1-2Iqu\",\"row\"]}):\n",
    "            if i.select(\".hGSR34\"):\n",
    "                rating.append(i.select(\".hGSR34\")[0].text)\n",
    "            if i.find(\"div\",attrs={\"class\":[\"_3auQ3N\",\"_2GcJzG\"]}):\n",
    "                price.append(i.find(\"div\",attrs={\"class\":[\"_3auQ3N\",\"_2GcJzG\"]}).text)\n",
    "            else:\n",
    "                price.append(None)\n",
    "            if i.find(\"div\",attrs={\"class\":[\"_2rQ-NK\",\"_1vC4OE\"]}):\n",
    "                dis_price.append(i.find(\"div\",attrs={\"class\":[\"_2rQ-NK\",\"_1vC4OE\"]}).text)\n",
    "        for n,r,p,d in zip(name,rating,price,dis_price):\n",
    "            print(\"Details\".center(80,\"*\"))\n",
    "            print(f\"Name : {n}\".center(80))\n",
    "            print(f\"Rating : {r}\".center(80))\n",
    "            print(f\"Actual Price : {p}\".center(80))\n",
    "            print(f\"After Discount Price : {d}\".center(80))\n",
    "            print(\"*\"*80)\n",
    "pro = input(\"\\n ENter your product : \")\n",
    "get_data(pro)"
   ]
  },
  {
   "cell_type": "code",
   "execution_count": 54,
   "metadata": {},
   "outputs": [],
   "source": [
    "###\n",
    "import pandas as pd"
   ]
  },
  {
   "cell_type": "code",
   "execution_count": 55,
   "metadata": {},
   "outputs": [],
   "source": [
    "df = pd.DataFrame({\"Name\":name,\n",
    "             \"Rating\" : rating[:len(name)],\n",
    "             \"Actual_price\" : price[:len(name)],\n",
    "             \"Dis_price\" : dis_price[:len(name)]\n",
    "             })"
   ]
  },
  {
   "cell_type": "code",
   "execution_count": 56,
   "metadata": {},
   "outputs": [
    {
     "data": {
      "text/html": [
       "<div>\n",
       "<style scoped>\n",
       "    .dataframe tbody tr th:only-of-type {\n",
       "        vertical-align: middle;\n",
       "    }\n",
       "\n",
       "    .dataframe tbody tr th {\n",
       "        vertical-align: top;\n",
       "    }\n",
       "\n",
       "    .dataframe thead th {\n",
       "        text-align: right;\n",
       "    }\n",
       "</style>\n",
       "<table border=\"1\" class=\"dataframe\">\n",
       "  <thead>\n",
       "    <tr style=\"text-align: right;\">\n",
       "      <th></th>\n",
       "      <th>Name</th>\n",
       "      <th>Rating</th>\n",
       "      <th>Actual_price</th>\n",
       "      <th>Dis_price</th>\n",
       "    </tr>\n",
       "  </thead>\n",
       "  <tbody>\n",
       "    <tr>\n",
       "      <td>0</td>\n",
       "      <td>Realme 5i (Aqua Blue, 64 GB)</td>\n",
       "      <td>4.5</td>\n",
       "      <td>None</td>\n",
       "      <td>₹10,999</td>\n",
       "    </tr>\n",
       "    <tr>\n",
       "      <td>1</td>\n",
       "      <td>Redmi 8 (Onyx Black, 64 GB)</td>\n",
       "      <td>4.4</td>\n",
       "      <td>₹10,999</td>\n",
       "      <td>₹9,999</td>\n",
       "    </tr>\n",
       "    <tr>\n",
       "      <td>2</td>\n",
       "      <td>Redmi 8 (Sapphire Blue, 64 GB)</td>\n",
       "      <td>4.4</td>\n",
       "      <td>₹10,999</td>\n",
       "      <td>₹9,999</td>\n",
       "    </tr>\n",
       "    <tr>\n",
       "      <td>3</td>\n",
       "      <td>Redmi 8 (Emerald Green, 64 GB)</td>\n",
       "      <td>4.4</td>\n",
       "      <td>₹10,999</td>\n",
       "      <td>₹9,999</td>\n",
       "    </tr>\n",
       "    <tr>\n",
       "      <td>4</td>\n",
       "      <td>Motorola G8 Power Lite (Royal Blue, 64 GB)</td>\n",
       "      <td>4.4</td>\n",
       "      <td>₹9,999</td>\n",
       "      <td>₹9,499</td>\n",
       "    </tr>\n",
       "    <tr>\n",
       "      <td>5</td>\n",
       "      <td>Realme 6 (Comet Blue, 64 GB)</td>\n",
       "      <td>4.4</td>\n",
       "      <td>₹17,999</td>\n",
       "      <td>₹15,999</td>\n",
       "    </tr>\n",
       "    <tr>\n",
       "      <td>6</td>\n",
       "      <td>POCO X2 (Atlantis Blue, 64 GB)</td>\n",
       "      <td>4.5</td>\n",
       "      <td>₹18,999</td>\n",
       "      <td>₹17,499</td>\n",
       "    </tr>\n",
       "    <tr>\n",
       "      <td>7</td>\n",
       "      <td>Motorola G8 Power Lite (Arctic Blue, 64 GB)</td>\n",
       "      <td>4.4</td>\n",
       "      <td>₹9,999</td>\n",
       "      <td>₹9,499</td>\n",
       "    </tr>\n",
       "    <tr>\n",
       "      <td>8</td>\n",
       "      <td>Realme C3 (Frozen Blue, 64 GB)</td>\n",
       "      <td>4.5</td>\n",
       "      <td>None</td>\n",
       "      <td>₹9,999</td>\n",
       "    </tr>\n",
       "    <tr>\n",
       "      <td>9</td>\n",
       "      <td>Realme Narzo 10A (So White, 64 GB)</td>\n",
       "      <td>4.6</td>\n",
       "      <td>₹10,999</td>\n",
       "      <td>₹9,999</td>\n",
       "    </tr>\n",
       "    <tr>\n",
       "      <td>10</td>\n",
       "      <td>Realme Narzo 10A (So Blue, 32 GB)</td>\n",
       "      <td>4.6</td>\n",
       "      <td>₹9,999</td>\n",
       "      <td>₹8,999</td>\n",
       "    </tr>\n",
       "    <tr>\n",
       "      <td>11</td>\n",
       "      <td>Realme Narzo 10A (So White, 32 GB)</td>\n",
       "      <td>4.6</td>\n",
       "      <td>₹9,999</td>\n",
       "      <td>₹8,999</td>\n",
       "    </tr>\n",
       "    <tr>\n",
       "      <td>12</td>\n",
       "      <td>Realme Narzo 10A (So Blue, 64 GB)</td>\n",
       "      <td>4.6</td>\n",
       "      <td>₹10,999</td>\n",
       "      <td>₹9,999</td>\n",
       "    </tr>\n",
       "    <tr>\n",
       "      <td>13</td>\n",
       "      <td>POCO X2 (Matrix Purple, 64 GB)</td>\n",
       "      <td>4.5</td>\n",
       "      <td>₹18,999</td>\n",
       "      <td>₹17,499</td>\n",
       "    </tr>\n",
       "    <tr>\n",
       "      <td>14</td>\n",
       "      <td>Realme 6 (Comet White, 64 GB)</td>\n",
       "      <td>4.4</td>\n",
       "      <td>₹17,999</td>\n",
       "      <td>₹15,999</td>\n",
       "    </tr>\n",
       "    <tr>\n",
       "      <td>15</td>\n",
       "      <td>Apple iPhone XR (Black, 64 GB)</td>\n",
       "      <td>4.6</td>\n",
       "      <td>₹52,500</td>\n",
       "      <td>₹46,999</td>\n",
       "    </tr>\n",
       "    <tr>\n",
       "      <td>16</td>\n",
       "      <td>Realme C11 (Rich Green, 32 GB)</td>\n",
       "      <td>4.6</td>\n",
       "      <td>₹8,999</td>\n",
       "      <td>₹7,499</td>\n",
       "    </tr>\n",
       "    <tr>\n",
       "      <td>17</td>\n",
       "      <td>Realme C11 (Rich Grey, 32 GB)</td>\n",
       "      <td>4.6</td>\n",
       "      <td>₹8,999</td>\n",
       "      <td>₹7,499</td>\n",
       "    </tr>\n",
       "    <tr>\n",
       "      <td>18</td>\n",
       "      <td>Realme 6 Pro (Lightning Blue, 64 GB)</td>\n",
       "      <td>4.5</td>\n",
       "      <td>None</td>\n",
       "      <td>₹17,999</td>\n",
       "    </tr>\n",
       "    <tr>\n",
       "      <td>19</td>\n",
       "      <td>Realme 6 Pro (Lightning Orange, 64 GB)</td>\n",
       "      <td>4.5</td>\n",
       "      <td>None</td>\n",
       "      <td>₹17,999</td>\n",
       "    </tr>\n",
       "    <tr>\n",
       "      <td>20</td>\n",
       "      <td>Realme 6 Pro (Lightning Blue, 128 GB)</td>\n",
       "      <td>4.5</td>\n",
       "      <td>None</td>\n",
       "      <td>₹18,999</td>\n",
       "    </tr>\n",
       "    <tr>\n",
       "      <td>21</td>\n",
       "      <td>OPPO A9 2020 (Marine Green, 128 GB)</td>\n",
       "      <td>4.3</td>\n",
       "      <td>₹18,990</td>\n",
       "      <td>₹13,990</td>\n",
       "    </tr>\n",
       "    <tr>\n",
       "      <td>22</td>\n",
       "      <td>Apple iPhone SE (Black, 64 GB)</td>\n",
       "      <td>4.5</td>\n",
       "      <td>₹42,500</td>\n",
       "      <td>₹40,999</td>\n",
       "    </tr>\n",
       "    <tr>\n",
       "      <td>23</td>\n",
       "      <td>Apple iPhone SE (White, 64 GB)</td>\n",
       "      <td>4.5</td>\n",
       "      <td>₹42,500</td>\n",
       "      <td>₹40,999</td>\n",
       "    </tr>\n",
       "  </tbody>\n",
       "</table>\n",
       "</div>"
      ],
      "text/plain": [
       "                                           Name Rating Actual_price Dis_price\n",
       "0                  Realme 5i (Aqua Blue, 64 GB)    4.5         None   ₹10,999\n",
       "1                   Redmi 8 (Onyx Black, 64 GB)    4.4      ₹10,999    ₹9,999\n",
       "2                Redmi 8 (Sapphire Blue, 64 GB)    4.4      ₹10,999    ₹9,999\n",
       "3                Redmi 8 (Emerald Green, 64 GB)    4.4      ₹10,999    ₹9,999\n",
       "4    Motorola G8 Power Lite (Royal Blue, 64 GB)    4.4       ₹9,999    ₹9,499\n",
       "5                  Realme 6 (Comet Blue, 64 GB)    4.4      ₹17,999   ₹15,999\n",
       "6                POCO X2 (Atlantis Blue, 64 GB)    4.5      ₹18,999   ₹17,499\n",
       "7   Motorola G8 Power Lite (Arctic Blue, 64 GB)    4.4       ₹9,999    ₹9,499\n",
       "8                Realme C3 (Frozen Blue, 64 GB)    4.5         None    ₹9,999\n",
       "9            Realme Narzo 10A (So White, 64 GB)    4.6      ₹10,999    ₹9,999\n",
       "10            Realme Narzo 10A (So Blue, 32 GB)    4.6       ₹9,999    ₹8,999\n",
       "11           Realme Narzo 10A (So White, 32 GB)    4.6       ₹9,999    ₹8,999\n",
       "12            Realme Narzo 10A (So Blue, 64 GB)    4.6      ₹10,999    ₹9,999\n",
       "13               POCO X2 (Matrix Purple, 64 GB)    4.5      ₹18,999   ₹17,499\n",
       "14                Realme 6 (Comet White, 64 GB)    4.4      ₹17,999   ₹15,999\n",
       "15               Apple iPhone XR (Black, 64 GB)    4.6      ₹52,500   ₹46,999\n",
       "16               Realme C11 (Rich Green, 32 GB)    4.6       ₹8,999    ₹7,499\n",
       "17                Realme C11 (Rich Grey, 32 GB)    4.6       ₹8,999    ₹7,499\n",
       "18         Realme 6 Pro (Lightning Blue, 64 GB)    4.5         None   ₹17,999\n",
       "19       Realme 6 Pro (Lightning Orange, 64 GB)    4.5         None   ₹17,999\n",
       "20        Realme 6 Pro (Lightning Blue, 128 GB)    4.5         None   ₹18,999\n",
       "21          OPPO A9 2020 (Marine Green, 128 GB)    4.3      ₹18,990   ₹13,990\n",
       "22               Apple iPhone SE (Black, 64 GB)    4.5      ₹42,500   ₹40,999\n",
       "23               Apple iPhone SE (White, 64 GB)    4.5      ₹42,500   ₹40,999"
      ]
     },
     "execution_count": 56,
     "metadata": {},
     "output_type": "execute_result"
    }
   ],
   "source": [
    "df"
   ]
  },
  {
   "cell_type": "code",
   "execution_count": 57,
   "metadata": {},
   "outputs": [
    {
     "data": {
      "text/plain": [
       "0                    Realme 5i (Aqua Blue, 64 GB)\n",
       "1                     Redmi 8 (Onyx Black, 64 GB)\n",
       "2                  Redmi 8 (Sapphire Blue, 64 GB)\n",
       "3                  Redmi 8 (Emerald Green, 64 GB)\n",
       "4      Motorola G8 Power Lite (Royal Blue, 64 GB)\n",
       "5                    Realme 6 (Comet Blue, 64 GB)\n",
       "6                  POCO X2 (Atlantis Blue, 64 GB)\n",
       "7     Motorola G8 Power Lite (Arctic Blue, 64 GB)\n",
       "8                  Realme C3 (Frozen Blue, 64 GB)\n",
       "9              Realme Narzo 10A (So White, 64 GB)\n",
       "10              Realme Narzo 10A (So Blue, 32 GB)\n",
       "11             Realme Narzo 10A (So White, 32 GB)\n",
       "12              Realme Narzo 10A (So Blue, 64 GB)\n",
       "13                 POCO X2 (Matrix Purple, 64 GB)\n",
       "14                  Realme 6 (Comet White, 64 GB)\n",
       "15                 Apple iPhone XR (Black, 64 GB)\n",
       "16                 Realme C11 (Rich Green, 32 GB)\n",
       "17                  Realme C11 (Rich Grey, 32 GB)\n",
       "18           Realme 6 Pro (Lightning Blue, 64 GB)\n",
       "19         Realme 6 Pro (Lightning Orange, 64 GB)\n",
       "20          Realme 6 Pro (Lightning Blue, 128 GB)\n",
       "21            OPPO A9 2020 (Marine Green, 128 GB)\n",
       "22                 Apple iPhone SE (Black, 64 GB)\n",
       "23                 Apple iPhone SE (White, 64 GB)\n",
       "Name: Name, dtype: object"
      ]
     },
     "execution_count": 57,
     "metadata": {},
     "output_type": "execute_result"
    }
   ],
   "source": [
    "df['Name']"
   ]
  },
  {
   "cell_type": "code",
   "execution_count": 63,
   "metadata": {},
   "outputs": [
    {
     "data": {
      "text/plain": [
       "<matplotlib.axes._subplots.AxesSubplot at 0x1bd6829a948>"
      ]
     },
     "execution_count": 63,
     "metadata": {},
     "output_type": "execute_result"
    },
    {
     "data": {
      "image/png": "[encoded data removed]",
      "text/plain": [
       "<Figure size 432x288 with 1 Axes>"
      ]
     },
     "metadata": {
      "needs_background": "light"
     },
     "output_type": "display_data"
    }
   ],
   "source": [
    "df[\"Rating\"].value_counts().plot(kind=\"bar\")"
   ]
  },
  {
   "cell_type": "code",
   "execution_count": 64,
   "metadata": {},
   "outputs": [],
   "source": [
    "#sentiment analysis --> nltk "
   ]
  },
  {
   "cell_type": "code",
   "execution_count": 65,
   "metadata": {},
   "outputs": [
    {
     "ename": "TypeError",
     "evalue": "no numeric data to plot",
     "output_type": "error",
     "traceback": [
      "\u001b[1;31m---------------------------------------------------------------------------\u001b[0m",
      "\u001b[1;31mTypeError\u001b[0m                                 Traceback (most recent call last)",
      "\u001b[1;32m<ipython-input-65-e3d98a624213>\u001b[0m in \u001b[0;36m<module>\u001b[1;34m\u001b[0m\n\u001b[1;32m----> 1\u001b[1;33m \u001b[0mdf\u001b[0m\u001b[1;33m[\u001b[0m\u001b[1;34m'Actual_price'\u001b[0m\u001b[1;33m]\u001b[0m\u001b[1;33m.\u001b[0m\u001b[0mplot\u001b[0m\u001b[1;33m(\u001b[0m\u001b[0mkind\u001b[0m\u001b[1;33m=\u001b[0m\u001b[1;34m\"bar\"\u001b[0m\u001b[1;33m)\u001b[0m\u001b[1;33m\u001b[0m\u001b[1;33m\u001b[0m\u001b[0m\n\u001b[0m",
      "\u001b[1;32mC:\\Anaconda\\lib\\site-packages\\pandas\\plotting\\_core.py\u001b[0m in \u001b[0;36m__call__\u001b[1;34m(self, *args, **kwargs)\u001b[0m\n\u001b[0;32m    792\u001b[0m                     \u001b[0mdata\u001b[0m\u001b[1;33m.\u001b[0m\u001b[0mcolumns\u001b[0m \u001b[1;33m=\u001b[0m \u001b[0mlabel_name\u001b[0m\u001b[1;33m\u001b[0m\u001b[1;33m\u001b[0m\u001b[0m\n\u001b[0;32m    793\u001b[0m \u001b[1;33m\u001b[0m\u001b[0m\n\u001b[1;32m--> 794\u001b[1;33m         \u001b[1;32mreturn\u001b[0m \u001b[0mplot_backend\u001b[0m\u001b[1;33m.\u001b[0m\u001b[0mplot\u001b[0m\u001b[1;33m(\u001b[0m\u001b[0mdata\u001b[0m\u001b[1;33m,\u001b[0m \u001b[0mkind\u001b[0m\u001b[1;33m=\u001b[0m\u001b[0mkind\u001b[0m\u001b[1;33m,\u001b[0m \u001b[1;33m**\u001b[0m\u001b[0mkwargs\u001b[0m\u001b[1;33m)\u001b[0m\u001b[1;33m\u001b[0m\u001b[1;33m\u001b[0m\u001b[0m\n\u001b[0m\u001b[0;32m    795\u001b[0m \u001b[1;33m\u001b[0m\u001b[0m\n\u001b[0;32m    796\u001b[0m     \u001b[1;32mdef\u001b[0m \u001b[0mline\u001b[0m\u001b[1;33m(\u001b[0m\u001b[0mself\u001b[0m\u001b[1;33m,\u001b[0m \u001b[0mx\u001b[0m\u001b[1;33m=\u001b[0m\u001b[1;32mNone\u001b[0m\u001b[1;33m,\u001b[0m \u001b[0my\u001b[0m\u001b[1;33m=\u001b[0m\u001b[1;32mNone\u001b[0m\u001b[1;33m,\u001b[0m \u001b[1;33m**\u001b[0m\u001b[0mkwargs\u001b[0m\u001b[1;33m)\u001b[0m\u001b[1;33m:\u001b[0m\u001b[1;33m\u001b[0m\u001b[1;33m\u001b[0m\u001b[0m\n",
      "\u001b[1;32mC:\\Anaconda\\lib\\site-packages\\pandas\\plotting\\_matplotlib\\__init__.py\u001b[0m in \u001b[0;36mplot\u001b[1;34m(data, kind, **kwargs)\u001b[0m\n\u001b[0;32m     60\u001b[0m             \u001b[0mkwargs\u001b[0m\u001b[1;33m[\u001b[0m\u001b[1;34m\"ax\"\u001b[0m\u001b[1;33m]\u001b[0m \u001b[1;33m=\u001b[0m \u001b[0mgetattr\u001b[0m\u001b[1;33m(\u001b[0m\u001b[0max\u001b[0m\u001b[1;33m,\u001b[0m \u001b[1;34m\"left_ax\"\u001b[0m\u001b[1;33m,\u001b[0m \u001b[0max\u001b[0m\u001b[1;33m)\u001b[0m\u001b[1;33m\u001b[0m\u001b[1;33m\u001b[0m\u001b[0m\n\u001b[0;32m     61\u001b[0m     \u001b[0mplot_obj\u001b[0m \u001b[1;33m=\u001b[0m \u001b[0mPLOT_CLASSES\u001b[0m\u001b[1;33m[\u001b[0m\u001b[0mkind\u001b[0m\u001b[1;33m]\u001b[0m\u001b[1;33m(\u001b[0m\u001b[0mdata\u001b[0m\u001b[1;33m,\u001b[0m \u001b[1;33m**\u001b[0m\u001b[0mkwargs\u001b[0m\u001b[1;33m)\u001b[0m\u001b[1;33m\u001b[0m\u001b[1;33m\u001b[0m\u001b[0m\n\u001b[1;32m---> 62\u001b[1;33m     \u001b[0mplot_obj\u001b[0m\u001b[1;33m.\u001b[0m\u001b[0mgenerate\u001b[0m\u001b[1;33m(\u001b[0m\u001b[1;33m)\u001b[0m\u001b[1;33m\u001b[0m\u001b[1;33m\u001b[0m\u001b[0m\n\u001b[0m\u001b[0;32m     63\u001b[0m     \u001b[0mplot_obj\u001b[0m\u001b[1;33m.\u001b[0m\u001b[0mdraw\u001b[0m\u001b[1;33m(\u001b[0m\u001b[1;33m)\u001b[0m\u001b[1;33m\u001b[0m\u001b[1;33m\u001b[0m\u001b[0m\n\u001b[0;32m     64\u001b[0m     \u001b[1;32mreturn\u001b[0m \u001b[0mplot_obj\u001b[0m\u001b[1;33m.\u001b[0m\u001b[0mresult\u001b[0m\u001b[1;33m\u001b[0m\u001b[1;33m\u001b[0m\u001b[0m\n",
      "\u001b[1;32mC:\\Anaconda\\lib\\site-packages\\pandas\\plotting\\_matplotlib\\core.py\u001b[0m in \u001b[0;36mgenerate\u001b[1;34m(self)\u001b[0m\n\u001b[0;32m    277\u001b[0m     \u001b[1;32mdef\u001b[0m \u001b[0mgenerate\u001b[0m\u001b[1;33m(\u001b[0m\u001b[0mself\u001b[0m\u001b[1;33m)\u001b[0m\u001b[1;33m:\u001b[0m\u001b[1;33m\u001b[0m\u001b[1;33m\u001b[0m\u001b[0m\n\u001b[0;32m    278\u001b[0m         \u001b[0mself\u001b[0m\u001b[1;33m.\u001b[0m\u001b[0m_args_adjust\u001b[0m\u001b[1;33m(\u001b[0m\u001b[1;33m)\u001b[0m\u001b[1;33m\u001b[0m\u001b[1;33m\u001b[0m\u001b[0m\n\u001b[1;32m--> 279\u001b[1;33m         \u001b[0mself\u001b[0m\u001b[1;33m.\u001b[0m\u001b[0m_compute_plot_data\u001b[0m\u001b[1;33m(\u001b[0m\u001b[1;33m)\u001b[0m\u001b[1;33m\u001b[0m\u001b[1;33m\u001b[0m\u001b[0m\n\u001b[0m\u001b[0;32m    280\u001b[0m         \u001b[0mself\u001b[0m\u001b[1;33m.\u001b[0m\u001b[0m_setup_subplots\u001b[0m\u001b[1;33m(\u001b[0m\u001b[1;33m)\u001b[0m\u001b[1;33m\u001b[0m\u001b[1;33m\u001b[0m\u001b[0m\n\u001b[0;32m    281\u001b[0m         \u001b[0mself\u001b[0m\u001b[1;33m.\u001b[0m\u001b[0m_make_plot\u001b[0m\u001b[1;33m(\u001b[0m\u001b[1;33m)\u001b[0m\u001b[1;33m\u001b[0m\u001b[1;33m\u001b[0m\u001b[0m\n",
      "\u001b[1;32mC:\\Anaconda\\lib\\site-packages\\pandas\\plotting\\_matplotlib\\core.py\u001b[0m in \u001b[0;36m_compute_plot_data\u001b[1;34m(self)\u001b[0m\n\u001b[0;32m    412\u001b[0m         \u001b[1;31m# no non-numeric frames or series allowed\u001b[0m\u001b[1;33m\u001b[0m\u001b[1;33m\u001b[0m\u001b[1;33m\u001b[0m\u001b[0m\n\u001b[0;32m    413\u001b[0m         \u001b[1;32mif\u001b[0m \u001b[0mis_empty\u001b[0m\u001b[1;33m:\u001b[0m\u001b[1;33m\u001b[0m\u001b[1;33m\u001b[0m\u001b[0m\n\u001b[1;32m--> 414\u001b[1;33m             \u001b[1;32mraise\u001b[0m \u001b[0mTypeError\u001b[0m\u001b[1;33m(\u001b[0m\u001b[1;34m\"no numeric data to plot\"\u001b[0m\u001b[1;33m)\u001b[0m\u001b[1;33m\u001b[0m\u001b[1;33m\u001b[0m\u001b[0m\n\u001b[0m\u001b[0;32m    415\u001b[0m \u001b[1;33m\u001b[0m\u001b[0m\n\u001b[0;32m    416\u001b[0m         \u001b[1;31m# GH25587: cast ExtensionArray of pandas (IntegerArray, etc.) to\u001b[0m\u001b[1;33m\u001b[0m\u001b[1;33m\u001b[0m\u001b[1;33m\u001b[0m\u001b[0m\n",
      "\u001b[1;31mTypeError\u001b[0m: no numeric data to plot"
     ]
    }
   ],
   "source": [
    "df['Actual_price'].plot(kind=\"bar\")"
   ]
  },
  {
   "cell_type": "code",
   "execution_count": 73,
   "metadata": {},
   "outputs": [],
   "source": [
    "df['Dis_price'] = df['Dis_price'].apply(lambda x : int(\"\".join(x[1:].split(\",\"))) )"
   ]
  },
  {
   "cell_type": "code",
   "execution_count": 77,
   "metadata": {},
   "outputs": [
    {
     "data": {
      "text/plain": [
       "<matplotlib.axes._subplots.AxesSubplot at 0x1bd683c8c48>"
      ]
     },
     "execution_count": 77,
     "metadata": {},
     "output_type": "execute_result"
    },
    {
     "data": {
      "image/png": "[encoded data removed]",
      "text/plain": [
       "<Figure size 432x288 with 1 Axes>"
      ]
     },
     "metadata": {
      "needs_background": "light"
     },
     "output_type": "display_data"
    }
   ],
   "source": [
    "df['Dis_price'].value_counts().plot(kind=\"bar\")"
   ]
  },
  {
   "cell_type": "code",
   "execution_count": 78,
   "metadata": {},
   "outputs": [],
   "source": [
    "### Corona Updates"
   ]
  },
  {
   "cell_type": "code",
   "execution_count": 96,
   "metadata": {},
   "outputs": [],
   "source": [
    "url = \"https://www.mygov.in/corona-data/covid19-statewise-status\"\n",
    "page = requests.get(url)\n",
    "data = BeautifulSoup(page.text,\"lxml\")\n",
    "l = data.findAll(\"div\",attrs={\"class\":[\"field-item\",\"even\"]})"
   ]
  },
  {
   "cell_type": "code",
   "execution_count": 106,
   "metadata": {},
   "outputs": [],
   "source": [
    "details = []\n",
    "for i in l[16:]:\n",
    "    details.append(i.text)"
   ]
  },
  {
   "cell_type": "code",
   "execution_count": 107,
   "metadata": {},
   "outputs": [
    {
     "name": "stdout",
     "output_type": "stream",
     "text": [
      "['Andaman and Nicobar', '428', '201', '2', '35', '363', '196', '1', 'https://wa.me/919013151515', 'https://www.facebook.com/MyGovArunachalPradesh/', 'https://southandaman.nic.in/whos-who/', '\\n\\nState Name:\\xa0Andhra PradeshTotal Confirmed:\\xa0120390Cured/ Discharged/ Migrated:\\xa055406Death:\\xa01213State code:\\xa028Last Confirmed Covid Cases:\\xa0110297Last Cured Discharged:\\xa052622Last Death:\\xa01148Whatsapp Chatbot Url:\\xa0https://wa.me/918297104104?text=HiFb Chatbot Url:\\xa0https://m.me/ArogyaAndhraE-Pass Url:\\xa0https://www.spandana.ap.gov.in/ \\n\\n', 'Andhra Pradesh', '120390', '55406', '1213', '28', '110297', '52622', '1148', 'https://wa.me/918297104104?text=Hi', 'https://m.me/ArogyaAndhra', 'https://www.spandana.ap.gov.in/', '\\n\\nState Name:\\xa0Arunachal PradeshTotal Confirmed:\\xa01410Cured/ Discharged/ Migrated:\\xa0677Death:\\xa03State code:\\xa012Last Confirmed Covid Cases:\\xa01330Last Cured Discharged:\\xa0617Last Death:\\xa03E-Pass Url:\\xa0https://eservice.arunachal.gov.in/ \\n\\n', 'Arunachal Pradesh', '1410', '677', '3', '12', '1330', '617', '3', 'https://eservice.arunachal.gov.in/', '\\n\\nState Name:\\xa0AssamTotal Confirmed:\\xa036295Cured/ Discharged/ Migrated:\\xa027832Death:\\xa092State code:\\xa018Last Confirmed Covid Cases:\\xa034947Last Cured Discharged:\\xa026618Last Death:\\xa088E-Pass Url:\\xa0https://eservices.assam.gov.in/directApply.do?serviceId=1533 \\n\\n', 'Assam', '36295', '27832', '92', '18', '34947', '26618', '88', 'https://eservices.assam.gov.in/directApply.do?serviceId=1533', '\\n\\nState Name:\\xa0BiharTotal Confirmed:\\xa046080Cured/ Discharged/ Migrated:\\xa030320Death:\\xa0278State code:\\xa010Last Confirmed Covid Cases:\\xa043843Last Cured Discharged:\\xa028856Last Death:\\xa0269E-Pass Url:\\xa0https://covid19.bihar.gov.in/ \\n\\n', 'Bihar', '46080', '30320', '278', '10', '43843', '28856', '269', 'https://covid19.bihar.gov.in/', '\\n\\nState Name:\\xa0ChandigarhTotal Confirmed:\\xa0978Cured/ Discharged/ Migrated:\\xa0611Death:\\xa014State code:\\xa04Last Confirmed Covid Cases:\\xa0934Last Cured Discharged:\\xa0599Last Death:\\xa014E-Pass Url:\\xa0http://admser.chd.nic.in/dpc/ \\n\\n', 'Chandigarh', '978', '611', '14', '4', '934', '599', '14', 'http://admser.chd.nic.in/dpc/', '\\n\\nState Name:\\xa0ChhattisgarhTotal Confirmed:\\xa08539Cured/ Discharged/ Migrated:\\xa05636Death:\\xa048State code:\\xa022Last Confirmed Covid Cases:\\xa08257Last Cured Discharged:\\xa05439Last Death:\\xa046E-Pass Url:\\xa0https://raipur.gov.in/cg-covid-19-epass/ \\n\\n', 'Chhattisgarh', '8539', '5636', '48', '22', '8257', '5439', '46', 'https://raipur.gov.in/cg-covid-19-epass/', '\\n\\nState Name:\\xa0Dadra and Nagar Haveli and Daman and DiuTotal Confirmed:\\xa01026Cured/ Discharged/ Migrated:\\xa0648Death:\\xa02State code:\\xa026Last Confirmed Covid Cases:\\xa0982Last Cured Discharged:\\xa0596Last Death:\\xa02E-Pass Url:\\xa0http://dnh.nic.in/Departments/COVID19.aspx \\n\\n', 'Dadra and Nagar Haveli and Daman and Diu', '1026', '648', '2', '26', '982', '596', '2', 'http://dnh.nic.in/Departments/COVID19.aspx', '\\n\\nState Name:\\xa0DelhiTotal Confirmed:\\xa0133310Cured/ Discharged/ Migrated:\\xa0118633Death:\\xa03907State code:\\xa07Last Confirmed Covid Cases:\\xa0132275Last Cured Discharged:\\xa0117507Last Death:\\xa03881Whatsapp Chatbot Url:\\xa0https://wa.me/918800007722?text=HiE-Pass Url:\\xa0https://epass.jantasamvad.org/epass/relief/english/ \\n\\n', 'Delhi', '133310', '118633', '3907', '7', '132275', '117507', '3881', 'https://wa.me/918800007722?text=Hi', 'https://epass.jantasamvad.org/epass/relief/english/', '\\n\\nState Name:\\xa0GoaTotal Confirmed:\\xa05489Cured/ Discharged/ Migrated:\\xa03784Death:\\xa039State code:\\xa030Last Confirmed Covid Cases:\\xa05287Last Cured Discharged:\\xa03595Last Death:\\xa036E-Pass Url:\\xa0https://goaonline.gov.in/ \\n\\n', 'Goa', '5489', '3784', '39', '30', '5287', '3595', '36', 'https://goaonline.gov.in/', '\\n\\nState Name:\\xa0GujaratTotal Confirmed:\\xa059126Cured/ Discharged/ Migrated:\\xa043195Death:\\xa02396State code:\\xa024Last Confirmed Covid Cases:\\xa057982Last Cured Discharged:\\xa042412Last Death:\\xa02372Whatsapp Chatbot Url:\\xa0https://wa.me/917433000104?text=HiE-Pass Url:\\xa0https://www.digitalgujarat.gov.in/Citizen/CitizenService.aspx \\n\\n', 'Gujarat', '59126', '43195', '2396', '24', '57982', '42412', '2372', 'https://wa.me/917433000104?text=Hi', 'https://www.digitalgujarat.gov.in/Citizen/CitizenService.aspx', '\\n\\nState Name:\\xa0HaryanaTotal Confirmed:\\xa033631Cured/ Discharged/ Migrated:\\xa026420Death:\\xa0413State code:\\xa06Last Confirmed Covid Cases:\\xa032876Last Cured Discharged:\\xa025758Last Death:\\xa0406E-Pass Url:\\xa0https://edisha.gov.in/eForms/MigrantService \\n\\n', 'Haryana', '33631', '26420', '413', '6', '32876', '25758', '406', 'https://edisha.gov.in/eForms/MigrantService', '\\n\\nState Name:\\xa0Himachal PradeshTotal Confirmed:\\xa02403Cured/ Discharged/ Migrated:\\xa01332Death:\\xa014State code:\\xa02Last Confirmed Covid Cases:\\xa02330Last Cured Discharged:\\xa01234Last Death:\\xa014E-Pass Url:\\xa0http://covid19epass.hp.gov.in/ \\n\\n', 'Himachal Pradesh', '2403', '1332', '14', '2', '2330', '1234', '14', 'http://covid19epass.hp.gov.in/', '\\n\\nState Name:\\xa0Jammu and KashmirTotal Confirmed:\\xa019419Cured/ Discharged/ Migrated:\\xa011322Death:\\xa0348State code:\\xa01Last Confirmed Covid Cases:\\xa018879Last Cured Discharged:\\xa010885Last Death:\\xa0333E-Pass Url:\\xa0http://jkmonitoring.nic.in/ \\n\\n', 'Jammu and Kashmir', '19419', '11322', '348', '1', '18879', '10885', '333', 'http://jkmonitoring.nic.in/', '\\n\\nState Name:\\xa0JharkhandTotal Confirmed:\\xa09861Cured/ Discharged/ Migrated:\\xa04035Death:\\xa098State code:\\xa020Last Confirmed Covid Cases:\\xa09078Last Cured Discharged:\\xa03868Last Death:\\xa089E-Pass Url:\\xa0https://ranchi.nic.in/e-pass/ \\n\\n', 'Jharkhand', '9861', '4035', '98', '20', '9078', '3868', '89', 'https://ranchi.nic.in/e-pass/', '\\n\\nState Name:\\xa0KarnatakaTotal Confirmed:\\xa0112504Cured/ Discharged/ Migrated:\\xa042901Death:\\xa02147State code:\\xa029Last Confirmed Covid Cases:\\xa0107001Last Cured Discharged:\\xa040504Last Death:\\xa02055Whatsapp Chatbot Url:\\xa0https://wa.me/918750971717?text=HiFb Chatbot Url:\\xa0https://m.me/KarnatakaVarthe.OfficialE-Pass Url:\\xa0https://sevasindhu.karnataka.gov.in/Sevasindhu/English \\n\\n', 'Karnataka', '112504', '42901', '2147', '29', '107001', '40504', '2055', 'https://wa.me/918750971717?text=Hi', 'https://m.me/KarnatakaVarthe.Official', 'https://sevasindhu.karnataka.gov.in/Sevasindhu/English', '\\n\\nState Name:\\xa0KeralaTotal Confirmed:\\xa021797Cured/ Discharged/ Migrated:\\xa011365Death:\\xa068State code:\\xa032Last Confirmed Covid Cases:\\xa020894Last Cured Discharged:\\xa010724Last Death:\\xa067Whatsapp Chatbot Url:\\xa0https://wa.me/919072220183?text=HiE-Pass Url:\\xa0https://covid19jagratha.kerala.nic.in/home/addDomestic \\n\\n', 'Kerala', '21797', '11365', '68', '32', '20894', '10724', '67', 'https://wa.me/919072220183?text=Hi', 'https://covid19jagratha.kerala.nic.in/home/addDomestic', '\\n\\nState Name:\\xa0LadakhTotal Confirmed:\\xa01347Cured/ Discharged/ Migrated:\\xa01080Death:\\xa06State code:\\xa037Last Confirmed Covid Cases:\\xa01327Last Cured Discharged:\\xa01067Last Death:\\xa06E-Pass Url:\\xa0https://leh.nic.in/epass/ \\n\\n', 'Ladakh', '1347', '1080', '6', '37', '1327', '1067', '6', 'https://leh.nic.in/epass/', '\\n\\nState Name:\\xa0LakshadweepTotal Confirmed:\\xa00Cured/ Discharged/ Migrated:\\xa00Death:\\xa00State code:\\xa031Last Confirmed Covid Cases:\\xa00Last Cured Discharged:\\xa00Last Death:\\xa00E-Pass Url:\\xa0https://lakshadweep.gov.in/service/epass-covid19-interstate-movement-pass/ \\n\\n', 'Lakshadweep', '0', '0', '0', '31', '0', '0', '0', 'https://lakshadweep.gov.in/service/epass-covid19-interstate-movement-pass/', '\\n\\nState Name:\\xa0MaharashtraTotal Confirmed:\\xa0400651Cured/ Discharged/ Migrated:\\xa0239755Death:\\xa014463State code:\\xa027Last Confirmed Covid Cases:\\xa0391440Last Cured Discharged:\\xa0232277Last Death:\\xa014165Whatsapp Chatbot Url:\\xa0https://wa.me/912026127394?text=HiE-Pass Url:\\xa0https://covid19.mhpolice.in/ \\n\\n', 'Maharashtra', '400651', '239755', '14463', '27', '391440', '232277', '14165', 'https://wa.me/912026127394?text=Hi', 'https://covid19.mhpolice.in/', '\\n\\nState Name:\\xa0ManipurTotal Confirmed:\\xa02458Cured/ Discharged/ Migrated:\\xa01639Death:\\xa00State code:\\xa014Last Confirmed Covid Cases:\\xa02317Last Cured Discharged:\\xa01612Last Death:\\xa00E-Pass Url:\\xa0https://tengbang.in/ \\n\\n', 'Manipur', '2458', '1639', '0', '14', '2317', '1612', '0', 'https://tengbang.in/', '\\n\\nState Name:\\xa0MeghalayaTotal Confirmed:\\xa0784Cured/ Discharged/ Migrated:\\xa0207Death:\\xa05State code:\\xa017Last Confirmed Covid Cases:\\xa0779Last Cured Discharged:\\xa0194Last Death:\\xa05E-Pass Url:\\xa0https://megedistrict.gov.in/ \\n\\n', 'Meghalaya', '784', '207', '5', '17', '779', '194', '5', 'https://megedistrict.gov.in/', '\\n\\nState Name:\\xa0MizoramTotal Confirmed:\\xa0398Cured/ Discharged/ Migrated:\\xa0215Death:\\xa00State code:\\xa015Last Confirmed Covid Cases:\\xa0384Last Cured Discharged:\\xa0198Last Death:\\xa00E-Pass Url:\\xa0https://mcovid19.mizoram.gov.in/ \\n\\n', 'Mizoram', '398', '215', '0', '15', '384', '198', '0', 'https://mcovid19.mizoram.gov.in/', '\\n\\nState Name:\\xa0Madhya PradeshTotal Confirmed:\\xa030134Cured/ Discharged/ Migrated:\\xa020934Death:\\xa0843State code:\\xa023Last Confirmed Covid Cases:\\xa029217Last Cured Discharged:\\xa020343Last Death:\\xa0830Whatsapp Chatbot Url:\\xa0https://wa.me/917834980000?text=HiFb Chatbot Url:\\xa0https://m.me/jansampark.madhyapradeshE-Pass Url:\\xa0https://mapit.gov.in/covid-19/ \\n\\n', 'Madhya Pradesh', '30134', '20934', '843', '23', '29217', '20343', '830', 'https://wa.me/917834980000?text=Hi', 'https://m.me/jansampark.madhyapradesh', 'https://mapit.gov.in/covid-19/', '\\n\\nState Name:\\xa0NagalandTotal Confirmed:\\xa01513Cured/ Discharged/ Migrated:\\xa0595Death:\\xa05State code:\\xa013Last Confirmed Covid Cases:\\xa01460Last Cured Discharged:\\xa0577Last Death:\\xa05E-Pass Url:\\xa0https://www.iamstranded.nagaland.gov.in/ \\n\\n', 'Nagaland', '1513', '595', '5', '13', '1460', '577', '5', 'https://www.iamstranded.nagaland.gov.in/', '\\n\\nState Name:\\xa0OdishaTotal Confirmed:\\xa029175Cured/ Discharged/ Migrated:\\xa018939Death:\\xa0159State code:\\xa021Last Confirmed Covid Cases:\\xa028107Last Cured Discharged:\\xa018061Last Death:\\xa0154Whatsapp Chatbot Url:\\xa0https://wa.me/919337929000?text=HiFb Chatbot Url:\\xa0http://m.me/HFWOdishaE-Pass Url:\\xa0https://covid19.odisha.gov.in/ \\n\\n', 'Odisha', '29175', '18939', '159', '21', '28107', '18061', '154', 'https://wa.me/919337929000?text=Hi', 'http://m.me/HFWOdisha', 'https://covid19.odisha.gov.in/', '\\n\\nState Name:\\xa0PuducherryTotal Confirmed:\\xa03177Cured/ Discharged/ Migrated:\\xa01874Death:\\xa047State code:\\xa034Last Confirmed Covid Cases:\\xa03011Last Cured Discharged:\\xa01782Last Death:\\xa047E-Pass Url:\\xa0https://epass.py.gov.in/ \\n\\n', 'Puducherry', '3177', '1874', '47', '34', '3011', '1782', '47', 'https://epass.py.gov.in/', '\\n\\nState Name:\\xa0PunjabTotal Confirmed:\\xa014946Cured/ Discharged/ Migrated:\\xa010213Death:\\xa0361State code:\\xa03Last Confirmed Covid Cases:\\xa014378Last Cured Discharged:\\xa09752Last Death:\\xa0336Whatsapp Chatbot Url:\\xa0https://wa.me/917380173801?text=HiFb Chatbot Url:\\xa0http://m.me/PunjabGovtIndiaE-Pass Url:\\xa0http://covidhelp.punjab.gov.in/ \\n\\n', 'Punjab', '14946', '10213', '361', '3', '14378', '9752', '336', 'https://wa.me/917380173801?text=Hi', 'http://m.me/PunjabGovtIndia', 'http://covidhelp.punjab.gov.in/', '\\n\\nState Name:\\xa0RajasthanTotal Confirmed:\\xa038964Cured/ Discharged/ Migrated:\\xa027569Death:\\xa0650State code:\\xa08Last Confirmed Covid Cases:\\xa038514Last Cured Discharged:\\xa027202Last Death:\\xa0644Whatsapp Chatbot Url:\\xa0https://wa.me/911412225624?text=HiFb Chatbot Url:\\xa0http://m.me/RajGovOfficialE-Pass Url:\\xa0https://sso.rajasthan.gov.in/signin \\n\\n', 'Rajasthan', '38964', '27569', '650', '8', '38514', '27202', '644', 'https://wa.me/911412225624?text=Hi', 'http://m.me/RajGovOfficial', 'https://sso.rajasthan.gov.in/signin', '\\n\\nState Name:\\xa0SikkimTotal Confirmed:\\xa0596Cured/ Discharged/ Migrated:\\xa0198Death:\\xa01State code:\\xa011Last Confirmed Covid Cases:\\xa0579Last Cured Discharged:\\xa0186Last Death:\\xa01E-Pass Url:\\xa0https://eservices.sikkim.gov.in/directApply.do?serviceId=1364 \\n\\n', 'Sikkim', '596', '198', '1', '11', '579', '186', '1', 'https://eservices.sikkim.gov.in/directApply.do?serviceId=1364', '\\n\\nState Name:\\xa0Tamil NaduTotal Confirmed:\\xa0234114Cured/ Discharged/ Migrated:\\xa0172883Death:\\xa03741State code:\\xa033Last Confirmed Covid Cases:\\xa0227688Last Cured Discharged:\\xa0166956Last Death:\\xa03659E-Pass Url:\\xa0https://tnepass.tnega.org/ \\n\\n', 'Tamil Nadu', '234114', '172883', '3741', '33', '227688', '166956', '3659', 'https://tnepass.tnega.org/', '\\n\\nState Name:\\xa0TelenganaTotal Confirmed:\\xa058906Cured/ Discharged/ Migrated:\\xa043751Death:\\xa0492State code:\\xa036Last Confirmed Covid Cases:\\xa057142Last Cured Discharged:\\xa042909Last Death:\\xa0480Whatsapp Chatbot Url:\\xa0https://wa.me/919000658658?text=HiE-Pass Url:\\xa0https://policeportal.tspolice.gov.in/ \\n\\n', 'Telengana', '58906', '43751', '492', '36', '57142', '42909', '480', 'https://wa.me/919000658658?text=Hi', 'https://policeportal.tspolice.gov.in/', '\\n\\nState Name:\\xa0TripuraTotal Confirmed:\\xa04485Cured/ Discharged/ Migrated:\\xa02678Death:\\xa021State code:\\xa016Last Confirmed Covid Cases:\\xa04269Last Cured Discharged:\\xa02621Last Death:\\xa021E-Pass Url:\\xa0https://covid19.tripura.gov.in/ \\n\\n', 'Tripura', '4485', '2678', '21', '16', '4269', '2621', '21', 'https://covid19.tripura.gov.in/', '\\n\\nState Name:\\xa0Uttar PradeshTotal Confirmed:\\xa077334Cured/ Discharged/ Migrated:\\xa045807Death:\\xa01530State code:\\xa09Last Confirmed Covid Cases:\\xa073951Last Cured Discharged:\\xa044520Last Death:\\xa01497Whatsapp Chatbot Url:\\xa0https://wa.me/919454441036?text=HiFb Chatbot Url:\\xa0https://m.me/InfoDeptUPE-Pass Url:\\xa0http://jansunwai.up.nic.in/ \\n\\n', 'Uttar Pradesh', '77334', '45807', '1530', '9', '73951', '44520', '1497', 'https://wa.me/919454441036?text=Hi', 'https://m.me/InfoDeptUP', 'http://jansunwai.up.nic.in/', '\\n\\nState Name:\\xa0UttarakhandTotal Confirmed:\\xa06866Cured/ Discharged/ Migrated:\\xa03811Death:\\xa072State code:\\xa05Last Confirmed Covid Cases:\\xa06587Last Cured Discharged:\\xa03720Last Death:\\xa070E-Pass Url:\\xa0http://smartcitydehradun.uk.gov.in/e-pass \\n\\n', 'Uttarakhand', '6866', '3811', '72', '5', '6587', '3720', '70', 'http://smartcitydehradun.uk.gov.in/e-pass', '\\n\\nState Name:\\xa0West BengalTotal Confirmed:\\xa065258Cured/ Discharged/ Migrated:\\xa044116Death:\\xa01490State code:\\xa019Last Confirmed Covid Cases:\\xa062964Last Cured Discharged:\\xa042022Last Death:\\xa01449Whatsapp Chatbot Url:\\xa0https://wa.me/918697245555?text=HiE-Pass Url:\\xa0https://wb.gov.in/COVID-19.aspx \\n\\n', 'West Bengal', '65258', '44116', '1490', '19', '62964', '42022', '1449', 'https://wa.me/918697245555?text=Hi', 'https://wb.gov.in/COVID-19.aspx', 'Thursday, July 30, 2020', '147200000', 'July 23, 2020']\n"
     ]
    }
   ],
   "source": [
    "print(details)"
   ]
  },
  {
   "cell_type": "code",
   "execution_count": 116,
   "metadata": {},
   "outputs": [
    {
     "data": {
      "text/plain": [
       "['428',\n",
       " '201',\n",
       " '2',\n",
       " '35',\n",
       " '363',\n",
       " '196',\n",
       " '1',\n",
       " 'https://wa.me/919013151515',\n",
       " 'https://www.facebook.com/MyGovArunachalPradesh/',\n",
       " 'https://southandaman.nic.in/whos-who/',\n",
       " '\\n\\nState Name:\\xa0Andhra PradeshTotal Confirmed:\\xa0120390Cured/ Discharged/ Migrated:\\xa055406Death:\\xa01213State code:\\xa028Last Confirmed Covid Cases:\\xa0110297Last Cured Discharged:\\xa052622Last Death:\\xa01148Whatsapp Chatbot Url:\\xa0https://wa.me/918297104104?text=HiFb Chatbot Url:\\xa0https://m.me/ArogyaAndhraE-Pass Url:\\xa0https://www.spandana.ap.gov.in/ \\n\\n']"
      ]
     },
     "execution_count": 116,
     "metadata": {},
     "output_type": "execute_result"
    }
   ],
   "source": [
    "details[1:12]"
   ]
  },
  {
   "cell_type": "code",
   "execution_count": 133,
   "metadata": {},
   "outputs": [
    {
     "name": "stdout",
     "output_type": "stream",
     "text": [
      "['Andaman and Nicobar', '428', '201', '2', '35', '363', '196', '1', 'Andhra Pradesh', '120390', '55406', '1213', '28', '110297', '52622', '1148', 'Arunachal Pradesh', '1410', '677', '3', '12', '1330', '617', '3', 'Assam', '36295', '27832', '92', '18', '34947', '26618', '88', 'Bihar', '46080', '30320', '278', '10', '43843', '28856', '269', 'Chandigarh', '978', '611', '14', '4', '934', '599', '14', 'Chhattisgarh', '8539', '5636', '48', '22', '8257', '5439', '46', 'Dadra and Nagar Haveli and Daman and Diu', '1026', '648', '2', '26', '982', '596', '2', 'Delhi', '133310', '118633', '3907', '7', '132275', '117507', '3881', 'Goa', '5489', '3784', '39', '30', '5287', '3595', '36', 'Gujarat', '59126', '43195', '2396', '24', '57982', '42412', '2372', 'Haryana', '33631', '26420', '413', '6', '32876', '25758', '406', 'Himachal Pradesh', '2403', '1332', '14', '2', '2330', '1234', '14', 'Jammu and Kashmir', '19419', '11322', '348', '1', '18879', '10885', '333', 'Jharkhand', '9861', '4035', '98', '20', '9078', '3868', '89', 'Karnataka', '112504', '42901', '2147', '29', '107001', '40504', '2055', 'Kerala', '21797', '11365', '68', '32', '20894', '10724', '67', 'Ladakh', '1347', '1080', '6', '37', '1327', '1067', '6', 'Lakshadweep', '0', '0', '0', '31', '0', '0', '0', 'Maharashtra', '400651', '239755', '14463', '27', '391440', '232277', '14165', 'Manipur', '2458', '1639', '0', '14', '2317', '1612', '0', 'Meghalaya', '784', '207', '5', '17', '779', '194', '5', 'Mizoram', '398', '215', '0', '15', '384', '198', '0', 'Madhya Pradesh', '30134', '20934', '843', '23', '29217', '20343', '830', 'Nagaland', '1513', '595', '5', '13', '1460', '577', '5', 'Odisha', '29175', '18939', '159', '21', '28107', '18061', '154', 'Puducherry', '3177', '1874', '47', '34', '3011', '1782', '47', 'Punjab', '14946', '10213', '361', '3', '14378', '9752', '336', 'Rajasthan', '38964', '27569', '650', '8', '38514', '27202', '644', 'Sikkim', '596', '198', '1', '11', '579', '186', '1', 'Tamil Nadu', '234114', '172883', '3741', '33', '227688', '166956', '3659', 'Telengana', '58906', '43751', '492', '36', '57142', '42909', '480', 'Tripura', '4485', '2678', '21', '16', '4269', '2621', '21', 'Uttar Pradesh', '77334', '45807', '1530', '9', '73951', '44520', '1497', 'Uttarakhand', '6866', '3811', '72', '5', '6587', '3720', '70', 'West Bengal', '65258', '44116', '1490', '19', '62964', '42022', '1449', 'Thursday, July 30, 2020', '147200000', 'July 23, 2020']\n"
     ]
    }
   ],
   "source": [
    "for i in details:\n",
    "    if \"/\" in l or \"\\\\\" in l or i.startswith(\"https://\") or i.startswith(\"\\n\"):\n",
    "        details.remove(i)\n",
    "print(details)"
   ]
  },
  {
   "cell_type": "code",
   "execution_count": 128,
   "metadata": {},
   "outputs": [
    {
     "data": {
      "text/plain": [
       "['Andaman and Nicobar', '428', '201', '2']"
      ]
     },
     "execution_count": 128,
     "metadata": {},
     "output_type": "execute_result"
    }
   ],
   "source": [
    "details[:4]"
   ]
  },
  {
   "cell_type": "code",
   "execution_count": 131,
   "metadata": {},
   "outputs": [
    {
     "data": {
      "text/plain": [
       "['35', '363', '196', '1', 'Andhra Pradesh']"
      ]
     },
     "execution_count": 131,
     "metadata": {},
     "output_type": "execute_result"
    }
   ],
   "source": [
    "details[4:9]"
   ]
  },
  {
   "cell_type": "code",
   "execution_count": 137,
   "metadata": {},
   "outputs": [],
   "source": [
    "name = []\n",
    "confirmed = []\n",
    "discharge = []\n",
    "deaths = []\n",
    "i = 0\n",
    "while i<len(details):\n",
    "    try:\n",
    "        name.append(details[i])\n",
    "        confirmed.append(details[i+1])\n",
    "        discharge.append(details[i+2])\n",
    "        deaths.append(details[i+3])\n",
    "        i += 8\n",
    "    except:\n",
    "        i += 8\n",
    "        pass\n"
   ]
  },
  {
   "cell_type": "code",
   "execution_count": 147,
   "metadata": {},
   "outputs": [
    {
     "data": {
      "text/plain": [
       "['Andaman and Nicobar',\n",
       " 'Andhra Pradesh',\n",
       " 'Arunachal Pradesh',\n",
       " 'Assam',\n",
       " 'Bihar',\n",
       " 'Chandigarh',\n",
       " 'Chhattisgarh',\n",
       " 'Dadra and Nagar Haveli and Daman and Diu',\n",
       " 'Delhi',\n",
       " 'Goa',\n",
       " 'Gujarat',\n",
       " 'Haryana',\n",
       " 'Himachal Pradesh',\n",
       " 'Jammu and Kashmir',\n",
       " 'Jharkhand',\n",
       " 'Karnataka',\n",
       " 'Kerala',\n",
       " 'Ladakh',\n",
       " 'Lakshadweep',\n",
       " 'Maharashtra',\n",
       " 'Manipur',\n",
       " 'Meghalaya',\n",
       " 'Mizoram',\n",
       " 'Madhya Pradesh',\n",
       " 'Nagaland',\n",
       " 'Odisha',\n",
       " 'Puducherry',\n",
       " 'Punjab',\n",
       " 'Rajasthan',\n",
       " 'Sikkim',\n",
       " 'Tamil Nadu',\n",
       " 'Telengana',\n",
       " 'Tripura',\n",
       " 'Uttar Pradesh',\n",
       " 'Uttarakhand',\n",
       " 'West Bengal',\n",
       " 'Thursday, July 30, 2020']"
      ]
     },
     "execution_count": 147,
     "metadata": {},
     "output_type": "execute_result"
    }
   ],
   "source": [
    "name"
   ]
  },
  {
   "cell_type": "code",
   "execution_count": 140,
   "metadata": {},
   "outputs": [
    {
     "data": {
      "text/plain": [
       "['428',\n",
       " '120390',\n",
       " '1410',\n",
       " '36295',\n",
       " '46080',\n",
       " '978',\n",
       " '8539',\n",
       " '1026',\n",
       " '133310',\n",
       " '5489',\n",
       " '59126',\n",
       " '33631',\n",
       " '2403',\n",
       " '19419',\n",
       " '9861',\n",
       " '112504',\n",
       " '21797',\n",
       " '1347',\n",
       " '0',\n",
       " '400651',\n",
       " '2458',\n",
       " '784',\n",
       " '398',\n",
       " '30134',\n",
       " '1513',\n",
       " '29175',\n",
       " '3177',\n",
       " '14946',\n",
       " '38964',\n",
       " '596',\n",
       " '234114',\n",
       " '58906',\n",
       " '4485',\n",
       " '77334',\n",
       " '6866',\n",
       " '65258',\n",
       " '147200000']"
      ]
     },
     "execution_count": 140,
     "metadata": {},
     "output_type": "execute_result"
    }
   ],
   "source": [
    "confirmed"
   ]
  },
  {
   "cell_type": "code",
   "execution_count": 141,
   "metadata": {},
   "outputs": [
    {
     "data": {
      "text/plain": [
       "['201',\n",
       " '55406',\n",
       " '677',\n",
       " '27832',\n",
       " '30320',\n",
       " '611',\n",
       " '5636',\n",
       " '648',\n",
       " '118633',\n",
       " '3784',\n",
       " '43195',\n",
       " '26420',\n",
       " '1332',\n",
       " '11322',\n",
       " '4035',\n",
       " '42901',\n",
       " '11365',\n",
       " '1080',\n",
       " '0',\n",
       " '239755',\n",
       " '1639',\n",
       " '207',\n",
       " '215',\n",
       " '20934',\n",
       " '595',\n",
       " '18939',\n",
       " '1874',\n",
       " '10213',\n",
       " '27569',\n",
       " '198',\n",
       " '172883',\n",
       " '43751',\n",
       " '2678',\n",
       " '45807',\n",
       " '3811',\n",
       " '44116',\n",
       " 'July 23, 2020']"
      ]
     },
     "execution_count": 141,
     "metadata": {},
     "output_type": "execute_result"
    }
   ],
   "source": [
    "discharge"
   ]
  },
  {
   "cell_type": "code",
   "execution_count": 142,
   "metadata": {},
   "outputs": [
    {
     "data": {
      "text/plain": [
       "['2',\n",
       " '1213',\n",
       " '3',\n",
       " '92',\n",
       " '278',\n",
       " '14',\n",
       " '48',\n",
       " '2',\n",
       " '3907',\n",
       " '39',\n",
       " '2396',\n",
       " '413',\n",
       " '14',\n",
       " '348',\n",
       " '98',\n",
       " '2147',\n",
       " '68',\n",
       " '6',\n",
       " '0',\n",
       " '14463',\n",
       " '0',\n",
       " '5',\n",
       " '0',\n",
       " '843',\n",
       " '5',\n",
       " '159',\n",
       " '47',\n",
       " '361',\n",
       " '650',\n",
       " '1',\n",
       " '3741',\n",
       " '492',\n",
       " '21',\n",
       " '1530',\n",
       " '72',\n",
       " '1490']"
      ]
     },
     "execution_count": 142,
     "metadata": {},
     "output_type": "execute_result"
    }
   ],
   "source": [
    "deaths"
   ]
  },
  {
   "cell_type": "code",
   "execution_count": 143,
   "metadata": {},
   "outputs": [
    {
     "data": {
      "text/plain": [
       "37"
      ]
     },
     "execution_count": 143,
     "metadata": {},
     "output_type": "execute_result"
    }
   ],
   "source": [
    "len(name)"
   ]
  },
  {
   "cell_type": "code",
   "execution_count": 144,
   "metadata": {},
   "outputs": [
    {
     "data": {
      "text/plain": [
       "37"
      ]
     },
     "execution_count": 144,
     "metadata": {},
     "output_type": "execute_result"
    }
   ],
   "source": [
    "len(confirmed)"
   ]
  },
  {
   "cell_type": "code",
   "execution_count": 145,
   "metadata": {},
   "outputs": [
    {
     "data": {
      "text/plain": [
       "37"
      ]
     },
     "execution_count": 145,
     "metadata": {},
     "output_type": "execute_result"
    }
   ],
   "source": [
    "len(discharge)"
   ]
  },
  {
   "cell_type": "code",
   "execution_count": 146,
   "metadata": {},
   "outputs": [
    {
     "data": {
      "text/plain": [
       "36"
      ]
     },
     "execution_count": 146,
     "metadata": {},
     "output_type": "execute_result"
    }
   ],
   "source": [
    "len(deaths)"
   ]
  },
  {
   "cell_type": "code",
   "execution_count": 149,
   "metadata": {},
   "outputs": [
    {
     "data": {
      "text/plain": [
       "'July 23, 2020'"
      ]
     },
     "execution_count": 149,
     "metadata": {},
     "output_type": "execute_result"
    }
   ],
   "source": [
    "#name.pop()\n",
    "confirmed.pop()\n",
    "discharge.pop()"
   ]
  },
  {
   "cell_type": "code",
   "execution_count": 150,
   "metadata": {},
   "outputs": [
    {
     "data": {
      "text/plain": [
       "36"
      ]
     },
     "execution_count": 150,
     "metadata": {},
     "output_type": "execute_result"
    }
   ],
   "source": [
    "len(name)"
   ]
  },
  {
   "cell_type": "code",
   "execution_count": 151,
   "metadata": {},
   "outputs": [
    {
     "data": {
      "text/plain": [
       "True"
      ]
     },
     "execution_count": 151,
     "metadata": {},
     "output_type": "execute_result"
    }
   ],
   "source": [
    "len(confirmed) == len(discharge) == len(deaths)"
   ]
  },
  {
   "cell_type": "code",
   "execution_count": 152,
   "metadata": {},
   "outputs": [],
   "source": [
    "corona = pd.DataFrame({\n",
    "    \"State\" : name,\n",
    "    \"Total Confirmed\" : confirmed,\n",
    "    \"Discharge\" : discharge,\n",
    "    \"Deaths\" : deaths\n",
    "})"
   ]
  },
  {
   "cell_type": "code",
   "execution_count": 153,
   "metadata": {},
   "outputs": [
    {
     "data": {
      "text/html": [
       "<div>\n",
       "<style scoped>\n",
       "    .dataframe tbody tr th:only-of-type {\n",
       "        vertical-align: middle;\n",
       "    }\n",
       "\n",
       "    .dataframe tbody tr th {\n",
       "        vertical-align: top;\n",
       "    }\n",
       "\n",
       "    .dataframe thead th {\n",
       "        text-align: right;\n",
       "    }\n",
       "</style>\n",
       "<table border=\"1\" class=\"dataframe\">\n",
       "  <thead>\n",
       "    <tr style=\"text-align: right;\">\n",
       "      <th></th>\n",
       "      <th>State</th>\n",
       "      <th>Total Confirmed</th>\n",
       "      <th>Discharge</th>\n",
       "      <th>Deaths</th>\n",
       "    </tr>\n",
       "  </thead>\n",
       "  <tbody>\n",
       "    <tr>\n",
       "      <td>0</td>\n",
       "      <td>Andaman and Nicobar</td>\n",
       "      <td>428</td>\n",
       "      <td>201</td>\n",
       "      <td>2</td>\n",
       "    </tr>\n",
       "    <tr>\n",
       "      <td>1</td>\n",
       "      <td>Andhra Pradesh</td>\n",
       "      <td>120390</td>\n",
       "      <td>55406</td>\n",
       "      <td>1213</td>\n",
       "    </tr>\n",
       "    <tr>\n",
       "      <td>2</td>\n",
       "      <td>Arunachal Pradesh</td>\n",
       "      <td>1410</td>\n",
       "      <td>677</td>\n",
       "      <td>3</td>\n",
       "    </tr>\n",
       "    <tr>\n",
       "      <td>3</td>\n",
       "      <td>Assam</td>\n",
       "      <td>36295</td>\n",
       "      <td>27832</td>\n",
       "      <td>92</td>\n",
       "    </tr>\n",
       "    <tr>\n",
       "      <td>4</td>\n",
       "      <td>Bihar</td>\n",
       "      <td>46080</td>\n",
       "      <td>30320</td>\n",
       "      <td>278</td>\n",
       "    </tr>\n",
       "    <tr>\n",
       "      <td>5</td>\n",
       "      <td>Chandigarh</td>\n",
       "      <td>978</td>\n",
       "      <td>611</td>\n",
       "      <td>14</td>\n",
       "    </tr>\n",
       "    <tr>\n",
       "      <td>6</td>\n",
       "      <td>Chhattisgarh</td>\n",
       "      <td>8539</td>\n",
       "      <td>5636</td>\n",
       "      <td>48</td>\n",
       "    </tr>\n",
       "    <tr>\n",
       "      <td>7</td>\n",
       "      <td>Dadra and Nagar Haveli and Daman and Diu</td>\n",
       "      <td>1026</td>\n",
       "      <td>648</td>\n",
       "      <td>2</td>\n",
       "    </tr>\n",
       "    <tr>\n",
       "      <td>8</td>\n",
       "      <td>Delhi</td>\n",
       "      <td>133310</td>\n",
       "      <td>118633</td>\n",
       "      <td>3907</td>\n",
       "    </tr>\n",
       "    <tr>\n",
       "      <td>9</td>\n",
       "      <td>Goa</td>\n",
       "      <td>5489</td>\n",
       "      <td>3784</td>\n",
       "      <td>39</td>\n",
       "    </tr>\n",
       "    <tr>\n",
       "      <td>10</td>\n",
       "      <td>Gujarat</td>\n",
       "      <td>59126</td>\n",
       "      <td>43195</td>\n",
       "      <td>2396</td>\n",
       "    </tr>\n",
       "    <tr>\n",
       "      <td>11</td>\n",
       "      <td>Haryana</td>\n",
       "      <td>33631</td>\n",
       "      <td>26420</td>\n",
       "      <td>413</td>\n",
       "    </tr>\n",
       "    <tr>\n",
       "      <td>12</td>\n",
       "      <td>Himachal Pradesh</td>\n",
       "      <td>2403</td>\n",
       "      <td>1332</td>\n",
       "      <td>14</td>\n",
       "    </tr>\n",
       "    <tr>\n",
       "      <td>13</td>\n",
       "      <td>Jammu and Kashmir</td>\n",
       "      <td>19419</td>\n",
       "      <td>11322</td>\n",
       "      <td>348</td>\n",
       "    </tr>\n",
       "    <tr>\n",
       "      <td>14</td>\n",
       "      <td>Jharkhand</td>\n",
       "      <td>9861</td>\n",
       "      <td>4035</td>\n",
       "      <td>98</td>\n",
       "    </tr>\n",
       "    <tr>\n",
       "      <td>15</td>\n",
       "      <td>Karnataka</td>\n",
       "      <td>112504</td>\n",
       "      <td>42901</td>\n",
       "      <td>2147</td>\n",
       "    </tr>\n",
       "    <tr>\n",
       "      <td>16</td>\n",
       "      <td>Kerala</td>\n",
       "      <td>21797</td>\n",
       "      <td>11365</td>\n",
       "      <td>68</td>\n",
       "    </tr>\n",
       "    <tr>\n",
       "      <td>17</td>\n",
       "      <td>Ladakh</td>\n",
       "      <td>1347</td>\n",
       "      <td>1080</td>\n",
       "      <td>6</td>\n",
       "    </tr>\n",
       "    <tr>\n",
       "      <td>18</td>\n",
       "      <td>Lakshadweep</td>\n",
       "      <td>0</td>\n",
       "      <td>0</td>\n",
       "      <td>0</td>\n",
       "    </tr>\n",
       "    <tr>\n",
       "      <td>19</td>\n",
       "      <td>Maharashtra</td>\n",
       "      <td>400651</td>\n",
       "      <td>239755</td>\n",
       "      <td>14463</td>\n",
       "    </tr>\n",
       "    <tr>\n",
       "      <td>20</td>\n",
       "      <td>Manipur</td>\n",
       "      <td>2458</td>\n",
       "      <td>1639</td>\n",
       "      <td>0</td>\n",
       "    </tr>\n",
       "    <tr>\n",
       "      <td>21</td>\n",
       "      <td>Meghalaya</td>\n",
       "      <td>784</td>\n",
       "      <td>207</td>\n",
       "      <td>5</td>\n",
       "    </tr>\n",
       "    <tr>\n",
       "      <td>22</td>\n",
       "      <td>Mizoram</td>\n",
       "      <td>398</td>\n",
       "      <td>215</td>\n",
       "      <td>0</td>\n",
       "    </tr>\n",
       "    <tr>\n",
       "      <td>23</td>\n",
       "      <td>Madhya Pradesh</td>\n",
       "      <td>30134</td>\n",
       "      <td>20934</td>\n",
       "      <td>843</td>\n",
       "    </tr>\n",
       "    <tr>\n",
       "      <td>24</td>\n",
       "      <td>Nagaland</td>\n",
       "      <td>1513</td>\n",
       "      <td>595</td>\n",
       "      <td>5</td>\n",
       "    </tr>\n",
       "    <tr>\n",
       "      <td>25</td>\n",
       "      <td>Odisha</td>\n",
       "      <td>29175</td>\n",
       "      <td>18939</td>\n",
       "      <td>159</td>\n",
       "    </tr>\n",
       "    <tr>\n",
       "      <td>26</td>\n",
       "      <td>Puducherry</td>\n",
       "      <td>3177</td>\n",
       "      <td>1874</td>\n",
       "      <td>47</td>\n",
       "    </tr>\n",
       "    <tr>\n",
       "      <td>27</td>\n",
       "      <td>Punjab</td>\n",
       "      <td>14946</td>\n",
       "      <td>10213</td>\n",
       "      <td>361</td>\n",
       "    </tr>\n",
       "    <tr>\n",
       "      <td>28</td>\n",
       "      <td>Rajasthan</td>\n",
       "      <td>38964</td>\n",
       "      <td>27569</td>\n",
       "      <td>650</td>\n",
       "    </tr>\n",
       "    <tr>\n",
       "      <td>29</td>\n",
       "      <td>Sikkim</td>\n",
       "      <td>596</td>\n",
       "      <td>198</td>\n",
       "      <td>1</td>\n",
       "    </tr>\n",
       "    <tr>\n",
       "      <td>30</td>\n",
       "      <td>Tamil Nadu</td>\n",
       "      <td>234114</td>\n",
       "      <td>172883</td>\n",
       "      <td>3741</td>\n",
       "    </tr>\n",
       "    <tr>\n",
       "      <td>31</td>\n",
       "      <td>Telengana</td>\n",
       "      <td>58906</td>\n",
       "      <td>43751</td>\n",
       "      <td>492</td>\n",
       "    </tr>\n",
       "    <tr>\n",
       "      <td>32</td>\n",
       "      <td>Tripura</td>\n",
       "      <td>4485</td>\n",
       "      <td>2678</td>\n",
       "      <td>21</td>\n",
       "    </tr>\n",
       "    <tr>\n",
       "      <td>33</td>\n",
       "      <td>Uttar Pradesh</td>\n",
       "      <td>77334</td>\n",
       "      <td>45807</td>\n",
       "      <td>1530</td>\n",
       "    </tr>\n",
       "    <tr>\n",
       "      <td>34</td>\n",
       "      <td>Uttarakhand</td>\n",
       "      <td>6866</td>\n",
       "      <td>3811</td>\n",
       "      <td>72</td>\n",
       "    </tr>\n",
       "    <tr>\n",
       "      <td>35</td>\n",
       "      <td>West Bengal</td>\n",
       "      <td>65258</td>\n",
       "      <td>44116</td>\n",
       "      <td>1490</td>\n",
       "    </tr>\n",
       "  </tbody>\n",
       "</table>\n",
       "</div>"
      ],
      "text/plain": [
       "                                       State Total Confirmed Discharge Deaths\n",
       "0                        Andaman and Nicobar             428       201      2\n",
       "1                             Andhra Pradesh          120390     55406   1213\n",
       "2                          Arunachal Pradesh            1410       677      3\n",
       "3                                      Assam           36295     27832     92\n",
       "4                                      Bihar           46080     30320    278\n",
       "5                                 Chandigarh             978       611     14\n",
       "6                               Chhattisgarh            8539      5636     48\n",
       "7   Dadra and Nagar Haveli and Daman and Diu            1026       648      2\n",
       "8                                      Delhi          133310    118633   3907\n",
       "9                                        Goa            5489      3784     39\n",
       "10                                   Gujarat           59126     43195   2396\n",
       "11                                   Haryana           33631     26420    413\n",
       "12                          Himachal Pradesh            2403      1332     14\n",
       "13                         Jammu and Kashmir           19419     11322    348\n",
       "14                                 Jharkhand            9861      4035     98\n",
       "15                                 Karnataka          112504     42901   2147\n",
       "16                                    Kerala           21797     11365     68\n",
       "17                                    Ladakh            1347      1080      6\n",
       "18                               Lakshadweep               0         0      0\n",
       "19                               Maharashtra          400651    239755  14463\n",
       "20                                   Manipur            2458      1639      0\n",
       "21                                 Meghalaya             784       207      5\n",
       "22                                   Mizoram             398       215      0\n",
       "23                            Madhya Pradesh           30134     20934    843\n",
       "24                                  Nagaland            1513       595      5\n",
       "25                                    Odisha           29175     18939    159\n",
       "26                                Puducherry            3177      1874     47\n",
       "27                                    Punjab           14946     10213    361\n",
       "28                                 Rajasthan           38964     27569    650\n",
       "29                                    Sikkim             596       198      1\n",
       "30                                Tamil Nadu          234114    172883   3741\n",
       "31                                 Telengana           58906     43751    492\n",
       "32                                   Tripura            4485      2678     21\n",
       "33                             Uttar Pradesh           77334     45807   1530\n",
       "34                               Uttarakhand            6866      3811     72\n",
       "35                               West Bengal           65258     44116   1490"
      ]
     },
     "execution_count": 153,
     "metadata": {},
     "output_type": "execute_result"
    }
   ],
   "source": [
    "corona"
   ]
  },
  {
   "cell_type": "code",
   "execution_count": 154,
   "metadata": {},
   "outputs": [
    {
     "name": "stdout",
     "output_type": "stream",
     "text": [
      "\n",
      " Enter your state : Rajasthan\n"
     ]
    }
   ],
   "source": [
    "s = input(\"\\n Enter your state : \")"
   ]
  },
  {
   "cell_type": "code",
   "execution_count": 167,
   "metadata": {},
   "outputs": [
    {
     "data": {
      "text/html": [
       "<div>\n",
       "<style scoped>\n",
       "    .dataframe tbody tr th:only-of-type {\n",
       "        vertical-align: middle;\n",
       "    }\n",
       "\n",
       "    .dataframe tbody tr th {\n",
       "        vertical-align: top;\n",
       "    }\n",
       "\n",
       "    .dataframe thead th {\n",
       "        text-align: right;\n",
       "    }\n",
       "</style>\n",
       "<table border=\"1\" class=\"dataframe\">\n",
       "  <thead>\n",
       "    <tr style=\"text-align: right;\">\n",
       "      <th></th>\n",
       "      <th>State</th>\n",
       "      <th>Total Confirmed</th>\n",
       "      <th>Discharge</th>\n",
       "      <th>Deaths</th>\n",
       "    </tr>\n",
       "  </thead>\n",
       "  <tbody>\n",
       "    <tr>\n",
       "      <td>28</td>\n",
       "      <td>Rajasthan</td>\n",
       "      <td>38964</td>\n",
       "      <td>27569</td>\n",
       "      <td>650</td>\n",
       "    </tr>\n",
       "  </tbody>\n",
       "</table>\n",
       "</div>"
      ],
      "text/plain": [
       "        State Total Confirmed Discharge Deaths\n",
       "28  Rajasthan           38964     27569    650"
      ]
     },
     "execution_count": 167,
     "metadata": {},
     "output_type": "execute_result"
    }
   ],
   "source": [
    "corona[corona['State'] == s]"
   ]
  },
  {
   "cell_type": "code",
   "execution_count": 170,
   "metadata": {},
   "outputs": [
    {
     "data": {
      "text/plain": [
       "dtype('O')"
      ]
     },
     "execution_count": 170,
     "metadata": {},
     "output_type": "execute_result"
    }
   ],
   "source": [
    "corona['Total Confirmed'].dtype"
   ]
  },
  {
   "cell_type": "code",
   "execution_count": 172,
   "metadata": {},
   "outputs": [],
   "source": [
    "corona['Total Confirmed'] = corona['Total Confirmed'].apply(lambda x : int(x))"
   ]
  },
  {
   "cell_type": "code",
   "execution_count": 174,
   "metadata": {},
   "outputs": [
    {
     "data": {
      "text/plain": [
       "<matplotlib.axes._subplots.AxesSubplot at 0x1bd660f3e48>"
      ]
     },
     "execution_count": 174,
     "metadata": {},
     "output_type": "execute_result"
    },
    {
     "data": {
      "image/png": "[encoded data removed]",
      "text/plain": [
       "<Figure size 432x288 with 1 Axes>"
      ]
     },
     "metadata": {
      "needs_background": "light"
     },
     "output_type": "display_data"
    }
   ],
   "source": [
    "corona['Total Confirmed'].plot(kind=\"bar\")"
   ]
  },
  {
   "cell_type": "code",
   "execution_count": 175,
   "metadata": {},
   "outputs": [],
   "source": [
    "#tkinter, tkinter"
   ]
  },
  {
   "cell_type": "code",
   "execution_count": null,
   "metadata": {},
   "outputs": [],
   "source": []
  }
 ],
 "metadata": {
  "kernelspec": {
   "display_name": "Python 3",
   "language": "python",
   "name": "python3"
  },
  "language_info": {
   "codemirror_mode": {
    "name": "ipython",
    "version": 3
   },
   "file_extension": ".py",
   "mimetype": "text/x-python",
   "name": "python",
   "nbconvert_exporter": "python",
   "pygments_lexer": "ipython3",
   "version": "3.7.4"
  }
 },
 "nbformat": 4,
 "nbformat_minor": 2
}
