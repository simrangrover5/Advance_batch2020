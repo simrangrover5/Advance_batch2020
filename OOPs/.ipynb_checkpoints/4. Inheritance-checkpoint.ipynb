{
 "cells": [
  {
   "cell_type": "markdown",
   "metadata": {},
   "source": [
    "### Single"
   ]
  },
  {
   "cell_type": "markdown",
   "metadata": {},
   "source": [
    "                Parent\n",
    "                   |\n",
    "                   |\n",
    "                Child"
   ]
  },
  {
   "cell_type": "code",
   "execution_count": 2,
   "metadata": {},
   "outputs": [],
   "source": [
    "class A:\n",
    "    name = \"simran\"\n",
    "    \n",
    "class B(A):  #single inheritance\n",
    "    pass"
   ]
  },
  {
   "cell_type": "code",
   "execution_count": 3,
   "metadata": {},
   "outputs": [],
   "source": [
    "obj = B()"
   ]
  },
  {
   "cell_type": "code",
   "execution_count": 4,
   "metadata": {},
   "outputs": [
    {
     "data": {
      "text/plain": [
       "'simran'"
      ]
     },
     "execution_count": 4,
     "metadata": {},
     "output_type": "execute_result"
    }
   ],
   "source": [
    "obj.name"
   ]
  },
  {
   "cell_type": "code",
   "execution_count": 5,
   "metadata": {},
   "outputs": [],
   "source": [
    "class A:\n",
    "    name = \"simran\"\n",
    "    \n",
    "class B(A):  #single inheritance\n",
    "    course = \"Computer Science\""
   ]
  },
  {
   "cell_type": "code",
   "execution_count": 6,
   "metadata": {},
   "outputs": [],
   "source": [
    "obj = B()"
   ]
  },
  {
   "cell_type": "code",
   "execution_count": 7,
   "metadata": {},
   "outputs": [
    {
     "data": {
      "text/plain": [
       "'simran'"
      ]
     },
     "execution_count": 7,
     "metadata": {},
     "output_type": "execute_result"
    }
   ],
   "source": [
    "obj.name"
   ]
  },
  {
   "cell_type": "code",
   "execution_count": 8,
   "metadata": {},
   "outputs": [
    {
     "data": {
      "text/plain": [
       "'Computer Science'"
      ]
     },
     "execution_count": 8,
     "metadata": {},
     "output_type": "execute_result"
    }
   ],
   "source": [
    "obj.course"
   ]
  },
  {
   "cell_type": "code",
   "execution_count": 9,
   "metadata": {},
   "outputs": [],
   "source": [
    "class Parent:\n",
    "    def __init__(self,fname,lname,eye_color):\n",
    "        self.fname = fname\n",
    "        self.lname  = lname\n",
    "        self.eye_color = eye_color\n",
    "class Child(Parent):\n",
    "    def __init__(self,cname):   #super --> Parent\n",
    "        super().__init__(\"Riya\",\"Gupta\",\"black\")  #Parent --> __init__\n",
    "        self.cname = cname\n",
    "        \n",
    "    def show(self):\n",
    "        print(\"\\n The child Name is : \",self.cname,\" \",self.lname)\n",
    "        print(\"\\n The eyecolor of child is : \",self.eye_color)\n",
    "        \n",
    "obj = Child(\"Sahil\")  #child --> __init__"
   ]
  },
  {
   "cell_type": "code",
   "execution_count": 10,
   "metadata": {},
   "outputs": [
    {
     "data": {
      "text/plain": [
       "'Sahil'"
      ]
     },
     "execution_count": 10,
     "metadata": {},
     "output_type": "execute_result"
    }
   ],
   "source": [
    "obj.cname"
   ]
  },
  {
   "cell_type": "code",
   "execution_count": 11,
   "metadata": {},
   "outputs": [
    {
     "data": {
      "text/plain": [
       "'Gupta'"
      ]
     },
     "execution_count": 11,
     "metadata": {},
     "output_type": "execute_result"
    }
   ],
   "source": [
    "obj.lname"
   ]
  },
  {
   "cell_type": "code",
   "execution_count": 12,
   "metadata": {},
   "outputs": [
    {
     "data": {
      "text/plain": [
       "'Riya'"
      ]
     },
     "execution_count": 12,
     "metadata": {},
     "output_type": "execute_result"
    }
   ],
   "source": [
    "obj.fname"
   ]
  },
  {
   "cell_type": "code",
   "execution_count": 13,
   "metadata": {},
   "outputs": [
    {
     "data": {
      "text/plain": [
       "'black'"
      ]
     },
     "execution_count": 13,
     "metadata": {},
     "output_type": "execute_result"
    }
   ],
   "source": [
    "obj.eye_color"
   ]
  },
  {
   "cell_type": "code",
   "execution_count": 14,
   "metadata": {},
   "outputs": [
    {
     "name": "stdout",
     "output_type": "stream",
     "text": [
      "\n",
      " The child Name is :  Sahil   Gupta\n",
      "\n",
      " The eyecolor of child is :  black\n"
     ]
    }
   ],
   "source": [
    "obj.show()"
   ]
  },
  {
   "cell_type": "code",
   "execution_count": 15,
   "metadata": {},
   "outputs": [],
   "source": [
    "obj = Parent(\"Sonal\",\"Gupta\",\"brown\")"
   ]
  },
  {
   "cell_type": "code",
   "execution_count": 16,
   "metadata": {},
   "outputs": [
    {
     "data": {
      "text/plain": [
       "'Sonal'"
      ]
     },
     "execution_count": 16,
     "metadata": {},
     "output_type": "execute_result"
    }
   ],
   "source": [
    "obj.fname"
   ]
  },
  {
   "cell_type": "code",
   "execution_count": 17,
   "metadata": {},
   "outputs": [
    {
     "data": {
      "text/plain": [
       "'Gupta'"
      ]
     },
     "execution_count": 17,
     "metadata": {},
     "output_type": "execute_result"
    }
   ],
   "source": [
    "obj.lname"
   ]
  },
  {
   "cell_type": "code",
   "execution_count": 18,
   "metadata": {},
   "outputs": [
    {
     "data": {
      "text/plain": [
       "'brown'"
      ]
     },
     "execution_count": 18,
     "metadata": {},
     "output_type": "execute_result"
    }
   ],
   "source": [
    "obj.eye_color"
   ]
  },
  {
   "cell_type": "code",
   "execution_count": 19,
   "metadata": {},
   "outputs": [],
   "source": [
    "obj = Child(\"Simran\")"
   ]
  },
  {
   "cell_type": "code",
   "execution_count": 20,
   "metadata": {},
   "outputs": [
    {
     "name": "stdout",
     "output_type": "stream",
     "text": [
      "\n",
      " The child Name is :  Simran   Gupta\n",
      "\n",
      " The eyecolor of child is :  black\n"
     ]
    }
   ],
   "source": [
    "obj.show()"
   ]
  },
  {
   "cell_type": "code",
   "execution_count": 22,
   "metadata": {},
   "outputs": [],
   "source": [
    "class Parent:\n",
    "    def __init__(self,fname,lname,eye_color):\n",
    "        self.fname = fname\n",
    "        self.lname  = lname\n",
    "        self.eye_color = eye_color\n",
    "class Child(Parent):\n",
    "    def __init__(self,cname,fname,lname,eye_color):   #super --> Parent\n",
    "        super().__init__(fname,lname,eye_color)  #Parent --> __init__\n",
    "        self.cname = cname\n",
    "        \n",
    "    def show(self):\n",
    "        print(\"\\n The child Name is : \",self.cname,\" \",self.lname)\n",
    "        print(\"\\n The eyecolor of child is : \",self.eye_color)\n",
    "        \n",
    "obj = Child(\"Sahil\",\"Riya\",\"Gupta\",\"Brown\")  #child --> __init__"
   ]
  },
  {
   "cell_type": "code",
   "execution_count": 23,
   "metadata": {},
   "outputs": [
    {
     "name": "stdout",
     "output_type": "stream",
     "text": [
      "\n",
      " The child Name is :  Sahil   Gupta\n",
      "\n",
      " The eyecolor of child is :  Brown\n"
     ]
    }
   ],
   "source": [
    "obj.show()"
   ]
  },
  {
   "cell_type": "code",
   "execution_count": 24,
   "metadata": {},
   "outputs": [],
   "source": [
    "obj2 = Child(\"Sachin\",\"Poonam\",\"Yadav\",\"Black\")"
   ]
  },
  {
   "cell_type": "code",
   "execution_count": 25,
   "metadata": {},
   "outputs": [
    {
     "name": "stdout",
     "output_type": "stream",
     "text": [
      "\n",
      " The child Name is :  Sachin   Yadav\n",
      "\n",
      " The eyecolor of child is :  Black\n"
     ]
    }
   ],
   "source": [
    "obj2.show()"
   ]
  },
  {
   "cell_type": "code",
   "execution_count": 26,
   "metadata": {},
   "outputs": [],
   "source": [
    "class Calculation:\n",
    "    def area(self):\n",
    "        \"\"\"\n",
    "            It will return the area of object\n",
    "        \"\"\"\n",
    "        return self.height*self.width\n",
    "    \n",
    "    def perimeter(self):\n",
    "        \"\"\"\n",
    "            It will return the perimeter of object\n",
    "        \"\"\"\n",
    "        return (self.height*2) + (self.width*2)\n",
    "    \n",
    "class Rectangle(Calculation):\n",
    "    def __init__(self,height,width,color=None):\n",
    "        self.height = height\n",
    "        self.width = width\n",
    "        self.color = color\n",
    "    def __str__(self):\n",
    "        return f\"{self.height}cm,{self.width}cm\"\n",
    "    def __repr__(self):\n",
    "        return f\"{self.height}cm,{self.width}cm\"\n",
    "    \n",
    "r1 = Rectangle(12,23)\n",
    "r2 = Rectangle(34,45)"
   ]
  },
  {
   "cell_type": "code",
   "execution_count": 27,
   "metadata": {},
   "outputs": [
    {
     "data": {
      "text/plain": [
       "276"
      ]
     },
     "execution_count": 27,
     "metadata": {},
     "output_type": "execute_result"
    }
   ],
   "source": [
    "r1.area()  #r1 --> height, width"
   ]
  },
  {
   "cell_type": "code",
   "execution_count": 28,
   "metadata": {},
   "outputs": [
    {
     "data": {
      "text/plain": [
       "70"
      ]
     },
     "execution_count": 28,
     "metadata": {},
     "output_type": "execute_result"
    }
   ],
   "source": [
    "r1.perimeter()"
   ]
  },
  {
   "cell_type": "code",
   "execution_count": 29,
   "metadata": {},
   "outputs": [
    {
     "data": {
      "text/plain": [
       "12cm,23cm"
      ]
     },
     "execution_count": 29,
     "metadata": {},
     "output_type": "execute_result"
    }
   ],
   "source": [
    "r1"
   ]
  },
  {
   "cell_type": "code",
   "execution_count": 30,
   "metadata": {},
   "outputs": [
    {
     "data": {
      "text/plain": [
       "34cm,45cm"
      ]
     },
     "execution_count": 30,
     "metadata": {},
     "output_type": "execute_result"
    }
   ],
   "source": [
    "r2"
   ]
  },
  {
   "cell_type": "code",
   "execution_count": 32,
   "metadata": {},
   "outputs": [
    {
     "data": {
      "text/plain": [
       "1530"
      ]
     },
     "execution_count": 32,
     "metadata": {},
     "output_type": "execute_result"
    }
   ],
   "source": [
    "r2.area()"
   ]
  },
  {
   "cell_type": "code",
   "execution_count": 33,
   "metadata": {},
   "outputs": [],
   "source": [
    "class Square(Calculation):\n",
    "    def __init__(self,side):\n",
    "        self.height = side\n",
    "        self.width = side\n",
    "        \n",
    "    def __str__(self):\n",
    "        return f\"{self.height}cm\"\n",
    "\n",
    "s1 = Square(34)"
   ]
  },
  {
   "cell_type": "code",
   "execution_count": 34,
   "metadata": {},
   "outputs": [
    {
     "data": {
      "text/plain": [
       "1156"
      ]
     },
     "execution_count": 34,
     "metadata": {},
     "output_type": "execute_result"
    }
   ],
   "source": [
    "s1.area()"
   ]
  },
  {
   "cell_type": "code",
   "execution_count": 35,
   "metadata": {},
   "outputs": [
    {
     "data": {
      "text/plain": [
       "136"
      ]
     },
     "execution_count": 35,
     "metadata": {},
     "output_type": "execute_result"
    }
   ],
   "source": [
    "s1.perimeter()"
   ]
  },
  {
   "cell_type": "code",
   "execution_count": 38,
   "metadata": {},
   "outputs": [],
   "source": [
    "class Quadrilateral:\n",
    "    def __init__(self,a,b,c,d):\n",
    "        self.a = a\n",
    "        self.b = b\n",
    "        self.c = c\n",
    "        self.d = d\n",
    "    \n",
    "    def perimeter(self):\n",
    "        return self.a + self.b + self.c + self.d\n",
    "    \n",
    "class Rectangle(Quadrilateral):\n",
    "    def __init__(self,height,width):\n",
    "        super().__init__(height,width,height,width)\n",
    "    \n",
    "    def __str__(self):\n",
    "        return f\"{self.a}cm,{self.b}cm\"\n",
    "\n",
    "r1 = Rectangle(12,34)\n",
    "        "
   ]
  },
  {
   "cell_type": "code",
   "execution_count": 39,
   "metadata": {},
   "outputs": [
    {
     "name": "stdout",
     "output_type": "stream",
     "text": [
      "12cm,34cm\n"
     ]
    }
   ],
   "source": [
    "print(r1)"
   ]
  },
  {
   "cell_type": "code",
   "execution_count": 40,
   "metadata": {},
   "outputs": [
    {
     "data": {
      "text/plain": [
       "92"
      ]
     },
     "execution_count": 40,
     "metadata": {},
     "output_type": "execute_result"
    }
   ],
   "source": [
    "r1.perimeter()"
   ]
  },
  {
   "cell_type": "code",
   "execution_count": 43,
   "metadata": {},
   "outputs": [],
   "source": [
    "#### class Polygon ---> side set\n",
    "\n",
    "class Polygon:\n",
    "    \"\"\"\n",
    "        This class is used to initialize the sides of shapes\n",
    "    \"\"\"\n",
    "    def __init__(self,noofsides):\n",
    "        self.num = noofsides\n",
    "        self.sides = [0 for i in range(self.num)]   #it is an attribute used to store the sides value\n",
    "        \n",
    "    def set_sides(self):\n",
    "        \"\"\"\n",
    "            To initialize the sides\n",
    "        \"\"\"\n",
    "        self.sides = [int(input()) for i in range(self.num)]\n",
    "        \n",
    "    def get_sides(self):\n",
    "        \"\"\"\n",
    "            To show the sides\n",
    "        \"\"\"\n",
    "        for i in range(self.num):\n",
    "            print(f\"Side [{i+1}] : \",self.sides[i])\n",
    "            \n",
    "        \n",
    "class Rectangle(Polygon):\n",
    "    def __init__(self,noofsides):\n",
    "        super().__init__(noofsides)\n",
    "        \n",
    "    def area(self):\n",
    "        pass\n",
    "    \n",
    "    def perimeter(self):\n",
    "        pass\n",
    "    \n",
    "r1 = Rectangle(4)"
   ]
  },
  {
   "cell_type": "code",
   "execution_count": 44,
   "metadata": {},
   "outputs": [
    {
     "name": "stdout",
     "output_type": "stream",
     "text": [
      "Side [1] :  0\n",
      "Side [2] :  0\n",
      "Side [3] :  0\n",
      "Side [4] :  0\n"
     ]
    }
   ],
   "source": [
    "r1.get_sides()"
   ]
  },
  {
   "cell_type": "code",
   "execution_count": 45,
   "metadata": {},
   "outputs": [
    {
     "name": "stdout",
     "output_type": "stream",
     "text": [
      "12\n",
      "13\n",
      "12\n",
      "13\n"
     ]
    }
   ],
   "source": [
    "r1.set_sides()"
   ]
  },
  {
   "cell_type": "code",
   "execution_count": 46,
   "metadata": {},
   "outputs": [
    {
     "name": "stdout",
     "output_type": "stream",
     "text": [
      "Side [1] :  12\n",
      "Side [2] :  13\n",
      "Side [3] :  12\n",
      "Side [4] :  13\n"
     ]
    }
   ],
   "source": [
    "r1.get_sides()"
   ]
  },
  {
   "cell_type": "code",
   "execution_count": 47,
   "metadata": {},
   "outputs": [],
   "source": [
    "r1 = Polygon(5)"
   ]
  },
  {
   "cell_type": "code",
   "execution_count": 48,
   "metadata": {},
   "outputs": [
    {
     "name": "stdout",
     "output_type": "stream",
     "text": [
      "Side [1] :  0\n",
      "Side [2] :  0\n",
      "Side [3] :  0\n",
      "Side [4] :  0\n",
      "Side [5] :  0\n"
     ]
    }
   ],
   "source": [
    "r1.get_sides()"
   ]
  },
  {
   "cell_type": "code",
   "execution_count": 49,
   "metadata": {},
   "outputs": [
    {
     "name": "stdout",
     "output_type": "stream",
     "text": [
      "12\n",
      "13\n",
      "14\n",
      "12\n",
      "11\n"
     ]
    }
   ],
   "source": [
    "r1.set_sides()"
   ]
  },
  {
   "cell_type": "code",
   "execution_count": 50,
   "metadata": {},
   "outputs": [
    {
     "name": "stdout",
     "output_type": "stream",
     "text": [
      "Side [1] :  12\n",
      "Side [2] :  13\n",
      "Side [3] :  14\n",
      "Side [4] :  12\n",
      "Side [5] :  11\n"
     ]
    }
   ],
   "source": [
    "r1.get_sides()"
   ]
  },
  {
   "cell_type": "code",
   "execution_count": 51,
   "metadata": {},
   "outputs": [],
   "source": [
    "#### class Polygon ---> side set\n",
    "\n",
    "class Polygon:\n",
    "    \"\"\"\n",
    "        This class is used to initialize the sides of shapes\n",
    "    \"\"\"\n",
    "    def __init__(self,noofsides):\n",
    "        self.num = noofsides\n",
    "        \n",
    "    def set_sides(self):\n",
    "        \"\"\"\n",
    "            To initialize the sides\n",
    "        \"\"\"\n",
    "        self.sides = [int(input()) for i in range(self.num)]\n",
    "        \n",
    "    def get_sides(self):\n",
    "        \"\"\"\n",
    "            To show the sides\n",
    "        \"\"\"\n",
    "        for i in range(self.num):\n",
    "            print(f\"Side [{i+1}] : \",self.sides[i])\n",
    "            \n",
    "        \n",
    "class Rectangle(Polygon):\n",
    "    def __init__(self,noofsides):\n",
    "        super().__init__(noofsides)\n",
    "        \n",
    "    def area(self):\n",
    "        print(self.sides)\n",
    "    \n",
    "    def perimeter(self):\n",
    "        pass\n",
    "    \n",
    "r1 = Rectangle(4)"
   ]
  },
  {
   "cell_type": "code",
   "execution_count": 52,
   "metadata": {},
   "outputs": [
    {
     "ename": "AttributeError",
     "evalue": "'Rectangle' object has no attribute 'sides'",
     "output_type": "error",
     "traceback": [
      "\u001b[1;31m---------------------------------------------------------------------\u001b[0m",
      "\u001b[1;31mAttributeError\u001b[0m                      Traceback (most recent call last)",
      "\u001b[1;32m<ipython-input-52-01fe1ccb6a13>\u001b[0m in \u001b[0;36m<module>\u001b[1;34m\u001b[0m\n\u001b[1;32m----> 1\u001b[1;33m \u001b[0mr1\u001b[0m\u001b[1;33m.\u001b[0m\u001b[0marea\u001b[0m\u001b[1;33m(\u001b[0m\u001b[1;33m)\u001b[0m\u001b[1;33m\u001b[0m\u001b[1;33m\u001b[0m\u001b[0m\n\u001b[0m",
      "\u001b[1;32m<ipython-input-51-99260e16925f>\u001b[0m in \u001b[0;36marea\u001b[1;34m(self)\u001b[0m\n\u001b[0;32m     27\u001b[0m \u001b[1;33m\u001b[0m\u001b[0m\n\u001b[0;32m     28\u001b[0m     \u001b[1;32mdef\u001b[0m \u001b[0marea\u001b[0m\u001b[1;33m(\u001b[0m\u001b[0mself\u001b[0m\u001b[1;33m)\u001b[0m\u001b[1;33m:\u001b[0m\u001b[1;33m\u001b[0m\u001b[1;33m\u001b[0m\u001b[0m\n\u001b[1;32m---> 29\u001b[1;33m         \u001b[0mprint\u001b[0m\u001b[1;33m(\u001b[0m\u001b[0mself\u001b[0m\u001b[1;33m.\u001b[0m\u001b[0msides\u001b[0m\u001b[1;33m)\u001b[0m\u001b[1;33m\u001b[0m\u001b[1;33m\u001b[0m\u001b[0m\n\u001b[0m\u001b[0;32m     30\u001b[0m \u001b[1;33m\u001b[0m\u001b[0m\n\u001b[0;32m     31\u001b[0m     \u001b[1;32mdef\u001b[0m \u001b[0mperimeter\u001b[0m\u001b[1;33m(\u001b[0m\u001b[0mself\u001b[0m\u001b[1;33m)\u001b[0m\u001b[1;33m:\u001b[0m\u001b[1;33m\u001b[0m\u001b[1;33m\u001b[0m\u001b[0m\n",
      "\u001b[1;31mAttributeError\u001b[0m: 'Rectangle' object has no attribute 'sides'"
     ]
    }
   ],
   "source": [
    "r1.area()"
   ]
  },
  {
   "cell_type": "code",
   "execution_count": 53,
   "metadata": {},
   "outputs": [],
   "source": [
    "#### modify the class\n",
    "### and change the number of sides by shape\n",
    "### shape --> rectangle, triangle,square"
   ]
  },
  {
   "cell_type": "markdown",
   "metadata": {},
   "source": [
    "### Multiple Inheritance\n",
    "\n",
    "            Parent1                Parent2\n",
    "            \n",
    "               \\                      /\n",
    "                         child"
   ]
  },
  {
   "cell_type": "code",
   "execution_count": 54,
   "metadata": {},
   "outputs": [],
   "source": [
    "class Father:\n",
    "    def __init__(self,fname,lname):\n",
    "        self.fname1 = fname\n",
    "        self.lname1 = lname\n",
    "        \n",
    "class Mother:\n",
    "    def __init__(self,mname,mlname):\n",
    "        self.mname = mname\n",
    "        self.lmname = mlname\n",
    "        \n",
    "class Child(Father,Mother):  #MRO --> Method Resolution order --> left to right, super --> Father\n",
    "    def __init__(self,fname,lname,mname,cname):\n",
    "        super().__init__(fname,lname)\n",
    "        super().__init__(mname,lname)\n",
    "        self.cname = cname\n",
    "        \n",
    "    def show_names(self):\n",
    "        print(\"\\n Father's name : \",self.fname1.title(),self.lname1.title())\n",
    "        print(\"\\n Mother's name : \",self.mname.title(),self.lmname.title())\n",
    "        print(\"\\n Child's name  : \",self.cname.title(),self.lname1.title())\n",
    "c1 = Child(\"Sahil\",\"Grover\",\"Sunita\",\"Surbhi\")\n"
   ]
  },
  {
   "cell_type": "code",
   "execution_count": 56,
   "metadata": {},
   "outputs": [
    {
     "name": "stdout",
     "output_type": "stream",
     "text": [
      "\n",
      " Father's name :  Sunita Grover\n"
     ]
    },
    {
     "ename": "AttributeError",
     "evalue": "'Child' object has no attribute 'mname'",
     "output_type": "error",
     "traceback": [
      "\u001b[1;31m---------------------------------------------------------------------\u001b[0m",
      "\u001b[1;31mAttributeError\u001b[0m                      Traceback (most recent call last)",
      "\u001b[1;32m<ipython-input-56-ea506f99638a>\u001b[0m in \u001b[0;36m<module>\u001b[1;34m\u001b[0m\n\u001b[1;32m----> 1\u001b[1;33m \u001b[0mc1\u001b[0m\u001b[1;33m.\u001b[0m\u001b[0mshow_names\u001b[0m\u001b[1;33m(\u001b[0m\u001b[1;33m)\u001b[0m\u001b[1;33m\u001b[0m\u001b[1;33m\u001b[0m\u001b[0m\n\u001b[0m",
      "\u001b[1;32m<ipython-input-54-2c06a892fa09>\u001b[0m in \u001b[0;36mshow_names\u001b[1;34m(self)\u001b[0m\n\u001b[0;32m     17\u001b[0m     \u001b[1;32mdef\u001b[0m \u001b[0mshow_names\u001b[0m\u001b[1;33m(\u001b[0m\u001b[0mself\u001b[0m\u001b[1;33m)\u001b[0m\u001b[1;33m:\u001b[0m\u001b[1;33m\u001b[0m\u001b[1;33m\u001b[0m\u001b[0m\n\u001b[0;32m     18\u001b[0m         \u001b[0mprint\u001b[0m\u001b[1;33m(\u001b[0m\u001b[1;34m\"\\n Father's name : \"\u001b[0m\u001b[1;33m,\u001b[0m\u001b[0mself\u001b[0m\u001b[1;33m.\u001b[0m\u001b[0mfname1\u001b[0m\u001b[1;33m.\u001b[0m\u001b[0mtitle\u001b[0m\u001b[1;33m(\u001b[0m\u001b[1;33m)\u001b[0m\u001b[1;33m,\u001b[0m\u001b[0mself\u001b[0m\u001b[1;33m.\u001b[0m\u001b[0mlname1\u001b[0m\u001b[1;33m.\u001b[0m\u001b[0mtitle\u001b[0m\u001b[1;33m(\u001b[0m\u001b[1;33m)\u001b[0m\u001b[1;33m)\u001b[0m\u001b[1;33m\u001b[0m\u001b[1;33m\u001b[0m\u001b[0m\n\u001b[1;32m---> 19\u001b[1;33m         \u001b[0mprint\u001b[0m\u001b[1;33m(\u001b[0m\u001b[1;34m\"\\n Mother's name : \"\u001b[0m\u001b[1;33m,\u001b[0m\u001b[0mself\u001b[0m\u001b[1;33m.\u001b[0m\u001b[0mmname\u001b[0m\u001b[1;33m.\u001b[0m\u001b[0mtitle\u001b[0m\u001b[1;33m(\u001b[0m\u001b[1;33m)\u001b[0m\u001b[1;33m,\u001b[0m\u001b[0mself\u001b[0m\u001b[1;33m.\u001b[0m\u001b[0mlmname\u001b[0m\u001b[1;33m.\u001b[0m\u001b[0mtitle\u001b[0m\u001b[1;33m(\u001b[0m\u001b[1;33m)\u001b[0m\u001b[1;33m)\u001b[0m\u001b[1;33m\u001b[0m\u001b[1;33m\u001b[0m\u001b[0m\n\u001b[0m\u001b[0;32m     20\u001b[0m         \u001b[0mprint\u001b[0m\u001b[1;33m(\u001b[0m\u001b[1;34m\"\\n Child's name  : \"\u001b[0m\u001b[1;33m,\u001b[0m\u001b[0mself\u001b[0m\u001b[1;33m.\u001b[0m\u001b[0mcname\u001b[0m\u001b[1;33m.\u001b[0m\u001b[0mtitle\u001b[0m\u001b[1;33m(\u001b[0m\u001b[1;33m)\u001b[0m\u001b[1;33m,\u001b[0m\u001b[0mself\u001b[0m\u001b[1;33m.\u001b[0m\u001b[0mlname1\u001b[0m\u001b[1;33m.\u001b[0m\u001b[0mtitle\u001b[0m\u001b[1;33m(\u001b[0m\u001b[1;33m)\u001b[0m\u001b[1;33m)\u001b[0m\u001b[1;33m\u001b[0m\u001b[1;33m\u001b[0m\u001b[0m\n\u001b[0;32m     21\u001b[0m \u001b[0mc1\u001b[0m \u001b[1;33m=\u001b[0m \u001b[0mChild\u001b[0m\u001b[1;33m(\u001b[0m\u001b[1;34m\"Sahil\"\u001b[0m\u001b[1;33m,\u001b[0m\u001b[1;34m\"Grover\"\u001b[0m\u001b[1;33m,\u001b[0m\u001b[1;34m\"Sunita\"\u001b[0m\u001b[1;33m,\u001b[0m\u001b[1;34m\"Surbhi\"\u001b[0m\u001b[1;33m)\u001b[0m\u001b[1;33m\u001b[0m\u001b[1;33m\u001b[0m\u001b[0m\n",
      "\u001b[1;31mAttributeError\u001b[0m: 'Child' object has no attribute 'mname'"
     ]
    }
   ],
   "source": [
    "c1.show_names()\n",
    "\n",
    "#super --> father\n",
    "#father --> __init__(\"Sahil\",\"Grover\") --> fname1 --> Sahil, lname1 --> Grover\n",
    "#father --> __init__(\"Sunita\",\"Grover\") --> fname1 --> Sunita, lname1 --> Grover\n",
    "#The error is showing bcz the mother --> __init__ is not called"
   ]
  },
  {
   "cell_type": "code",
   "execution_count": 59,
   "metadata": {},
   "outputs": [],
   "source": [
    "class Father:\n",
    "    def __init__(self,fname,lname):\n",
    "        self.fname1 = fname\n",
    "        self.lname1 = lname\n",
    "        \n",
    "class Mother:\n",
    "    def __init__(self,mname,mlname):\n",
    "        self.mname = mname\n",
    "        self.lmname = mlname\n",
    "        \n",
    "class Child(Mother,Father):  #MRO --> Method Resolution order --> left to right, super --> mother\n",
    "    def __init__(self,fname,lname,mname,cname):\n",
    "        super().__init__(mname,lname)\n",
    "        super().__init__(fname,lname)\n",
    "        self.cname = cname\n",
    "        \n",
    "    def show_names(self):\n",
    "        print(\"\\n Mother's name : \",self.mname.title(),self.lmname.title())\n",
    "        print(\"\\n Father's name : \",self.fname1.title(),self.lname1.title())\n",
    "        print(\"\\n Child's name  : \",self.cname.title(),self.lname1.title())\n",
    "c1 = Child(\"Sahil\",\"Grover\",\"Sunita\",\"Surbhi\")\n"
   ]
  },
  {
   "cell_type": "code",
   "execution_count": 60,
   "metadata": {},
   "outputs": [
    {
     "name": "stdout",
     "output_type": "stream",
     "text": [
      "\n",
      " Mother's name :  Sahil Grover\n"
     ]
    },
    {
     "ename": "AttributeError",
     "evalue": "'Child' object has no attribute 'fname1'",
     "output_type": "error",
     "traceback": [
      "\u001b[1;31m---------------------------------------------------------------------\u001b[0m",
      "\u001b[1;31mAttributeError\u001b[0m                      Traceback (most recent call last)",
      "\u001b[1;32m<ipython-input-60-ea506f99638a>\u001b[0m in \u001b[0;36m<module>\u001b[1;34m\u001b[0m\n\u001b[1;32m----> 1\u001b[1;33m \u001b[0mc1\u001b[0m\u001b[1;33m.\u001b[0m\u001b[0mshow_names\u001b[0m\u001b[1;33m(\u001b[0m\u001b[1;33m)\u001b[0m\u001b[1;33m\u001b[0m\u001b[1;33m\u001b[0m\u001b[0m\n\u001b[0m",
      "\u001b[1;32m<ipython-input-59-7602de2da5b2>\u001b[0m in \u001b[0;36mshow_names\u001b[1;34m(self)\u001b[0m\n\u001b[0;32m     17\u001b[0m     \u001b[1;32mdef\u001b[0m \u001b[0mshow_names\u001b[0m\u001b[1;33m(\u001b[0m\u001b[0mself\u001b[0m\u001b[1;33m)\u001b[0m\u001b[1;33m:\u001b[0m\u001b[1;33m\u001b[0m\u001b[1;33m\u001b[0m\u001b[0m\n\u001b[0;32m     18\u001b[0m         \u001b[0mprint\u001b[0m\u001b[1;33m(\u001b[0m\u001b[1;34m\"\\n Mother's name : \"\u001b[0m\u001b[1;33m,\u001b[0m\u001b[0mself\u001b[0m\u001b[1;33m.\u001b[0m\u001b[0mmname\u001b[0m\u001b[1;33m.\u001b[0m\u001b[0mtitle\u001b[0m\u001b[1;33m(\u001b[0m\u001b[1;33m)\u001b[0m\u001b[1;33m,\u001b[0m\u001b[0mself\u001b[0m\u001b[1;33m.\u001b[0m\u001b[0mlmname\u001b[0m\u001b[1;33m.\u001b[0m\u001b[0mtitle\u001b[0m\u001b[1;33m(\u001b[0m\u001b[1;33m)\u001b[0m\u001b[1;33m)\u001b[0m\u001b[1;33m\u001b[0m\u001b[1;33m\u001b[0m\u001b[0m\n\u001b[1;32m---> 19\u001b[1;33m         \u001b[0mprint\u001b[0m\u001b[1;33m(\u001b[0m\u001b[1;34m\"\\n Father's name : \"\u001b[0m\u001b[1;33m,\u001b[0m\u001b[0mself\u001b[0m\u001b[1;33m.\u001b[0m\u001b[0mfname1\u001b[0m\u001b[1;33m.\u001b[0m\u001b[0mtitle\u001b[0m\u001b[1;33m(\u001b[0m\u001b[1;33m)\u001b[0m\u001b[1;33m,\u001b[0m\u001b[0mself\u001b[0m\u001b[1;33m.\u001b[0m\u001b[0mlname1\u001b[0m\u001b[1;33m.\u001b[0m\u001b[0mtitle\u001b[0m\u001b[1;33m(\u001b[0m\u001b[1;33m)\u001b[0m\u001b[1;33m)\u001b[0m\u001b[1;33m\u001b[0m\u001b[1;33m\u001b[0m\u001b[0m\n\u001b[0m\u001b[0;32m     20\u001b[0m         \u001b[0mprint\u001b[0m\u001b[1;33m(\u001b[0m\u001b[1;34m\"\\n Child's name  : \"\u001b[0m\u001b[1;33m,\u001b[0m\u001b[0mself\u001b[0m\u001b[1;33m.\u001b[0m\u001b[0mcname\u001b[0m\u001b[1;33m.\u001b[0m\u001b[0mtitle\u001b[0m\u001b[1;33m(\u001b[0m\u001b[1;33m)\u001b[0m\u001b[1;33m,\u001b[0m\u001b[0mself\u001b[0m\u001b[1;33m.\u001b[0m\u001b[0mlname1\u001b[0m\u001b[1;33m.\u001b[0m\u001b[0mtitle\u001b[0m\u001b[1;33m(\u001b[0m\u001b[1;33m)\u001b[0m\u001b[1;33m)\u001b[0m\u001b[1;33m\u001b[0m\u001b[1;33m\u001b[0m\u001b[0m\n\u001b[0;32m     21\u001b[0m \u001b[0mc1\u001b[0m \u001b[1;33m=\u001b[0m \u001b[0mChild\u001b[0m\u001b[1;33m(\u001b[0m\u001b[1;34m\"Sahil\"\u001b[0m\u001b[1;33m,\u001b[0m\u001b[1;34m\"Grover\"\u001b[0m\u001b[1;33m,\u001b[0m\u001b[1;34m\"Sunita\"\u001b[0m\u001b[1;33m,\u001b[0m\u001b[1;34m\"Surbhi\"\u001b[0m\u001b[1;33m)\u001b[0m\u001b[1;33m\u001b[0m\u001b[1;33m\u001b[0m\u001b[0m\n",
      "\u001b[1;31mAttributeError\u001b[0m: 'Child' object has no attribute 'fname1'"
     ]
    }
   ],
   "source": [
    "c1.show_names()\n",
    "#1. mname = Sunita, lmname = Grover\n",
    "#2. mname = Sahil , lmname = Grover"
   ]
  },
  {
   "cell_type": "code",
   "execution_count": 61,
   "metadata": {},
   "outputs": [],
   "source": [
    "class Father:\n",
    "    def __init__(self,fname,lname):\n",
    "        self.fname1 = fname\n",
    "        self.lname1 = lname\n",
    "        \n",
    "class Mother:\n",
    "    def __init__(self,mname,mlname):\n",
    "        self.mname = mname\n",
    "        self.lmname = mlname\n",
    "        \n",
    "class Child(Mother,Father):  #MRO --> Method Resolution order --> left to right, super --> mother\n",
    "    def __init__(self,fname,lname,mname,cname):\n",
    "        Mother.__init__(self,mname,lname)\n",
    "        Father.__init__(self,fname,lname)\n",
    "        self.cname = cname\n",
    "        \n",
    "    def show_names(self):\n",
    "        print(\"\\n Mother's name : \",self.mname.title(),self.lmname.title())\n",
    "        print(\"\\n Father's name : \",self.fname1.title(),self.lname1.title())\n",
    "        print(\"\\n Child's name  : \",self.cname.title(),self.lname1.title())\n",
    "\n",
    "\n",
    "c1 = Child(\"Sahil\",\"Grover\",\"Sunita\",\"Surbhi\")\n"
   ]
  },
  {
   "cell_type": "code",
   "execution_count": 62,
   "metadata": {},
   "outputs": [
    {
     "name": "stdout",
     "output_type": "stream",
     "text": [
      "\n",
      " Mother's name :  Sunita Grover\n",
      "\n",
      " Father's name :  Sahil Grover\n",
      "\n",
      " Child's name  :  Surbhi Grover\n"
     ]
    }
   ],
   "source": [
    "c1.show_names()"
   ]
  },
  {
   "cell_type": "code",
   "execution_count": null,
   "metadata": {},
   "outputs": [],
   "source": []
  }
 ],
 "metadata": {
  "kernelspec": {
   "display_name": "Python 3",
   "language": "python",
   "name": "python3"
  },
  "language_info": {
   "codemirror_mode": {
    "name": "ipython",
    "version": 3
   },
   "file_extension": ".py",
   "mimetype": "text/x-python",
   "name": "python",
   "nbconvert_exporter": "python",
   "pygments_lexer": "ipython3",
   "version": "3.7.4"
  }
 },
 "nbformat": 4,
 "nbformat_minor": 2
}
