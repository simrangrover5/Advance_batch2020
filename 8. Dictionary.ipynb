{
 "cells": [
  {
   "cell_type": "code",
   "execution_count": 1,
   "metadata": {},
   "outputs": [],
   "source": [
    "students = {'name':['tushar','shubham','rahul'],'science':[80,90,85],'maths':[56,78,89]}"
   ]
  },
  {
   "cell_type": "code",
   "execution_count": 2,
   "metadata": {},
   "outputs": [
    {
     "data": {
      "text/plain": [
       "dict"
      ]
     },
     "execution_count": 2,
     "metadata": {},
     "output_type": "execute_result"
    }
   ],
   "source": [
    "type(students)"
   ]
  },
  {
   "cell_type": "code",
   "execution_count": 11,
   "metadata": {},
   "outputs": [],
   "source": [
    "d = dict.fromkeys(['name','maths','science'],[])"
   ]
  },
  {
   "cell_type": "code",
   "execution_count": 12,
   "metadata": {},
   "outputs": [
    {
     "data": {
      "text/plain": [
       "{'name': [], 'maths': [], 'science': []}"
      ]
     },
     "execution_count": 12,
     "metadata": {},
     "output_type": "execute_result"
    }
   ],
   "source": [
    "d"
   ]
  },
  {
   "cell_type": "code",
   "execution_count": 13,
   "metadata": {},
   "outputs": [
    {
     "data": {
      "text/plain": [
       "dict_keys(['name', 'maths', 'science'])"
      ]
     },
     "execution_count": 13,
     "metadata": {},
     "output_type": "execute_result"
    }
   ],
   "source": [
    "d.keys()"
   ]
  },
  {
   "cell_type": "code",
   "execution_count": 14,
   "metadata": {},
   "outputs": [
    {
     "data": {
      "text/plain": [
       "dict_values([[], [], []])"
      ]
     },
     "execution_count": 14,
     "metadata": {},
     "output_type": "execute_result"
    }
   ],
   "source": [
    "d.values()"
   ]
  },
  {
   "cell_type": "code",
   "execution_count": 16,
   "metadata": {},
   "outputs": [
    {
     "data": {
      "text/plain": [
       "1947243942728"
      ]
     },
     "execution_count": 16,
     "metadata": {},
     "output_type": "execute_result"
    }
   ],
   "source": [
    "id(d['name'])"
   ]
  },
  {
   "cell_type": "code",
   "execution_count": 17,
   "metadata": {},
   "outputs": [
    {
     "data": {
      "text/plain": [
       "1947243942728"
      ]
     },
     "execution_count": 17,
     "metadata": {},
     "output_type": "execute_result"
    }
   ],
   "source": [
    "id(d['maths'])"
   ]
  },
  {
   "cell_type": "code",
   "execution_count": 18,
   "metadata": {},
   "outputs": [
    {
     "data": {
      "text/plain": [
       "1947243942728"
      ]
     },
     "execution_count": 18,
     "metadata": {},
     "output_type": "execute_result"
    }
   ],
   "source": [
    "id(d['science'])"
   ]
  },
  {
   "cell_type": "code",
   "execution_count": 20,
   "metadata": {},
   "outputs": [
    {
     "name": "stdout",
     "output_type": "stream",
     "text": [
      "Enter your name : simran\n",
      "Enter your maths marks : 80\n",
      "Enter your science marks : 90\n",
      "\n",
      "{'name': ['simran'], 'maths': ['simran'], 'science': ['simran']}\n",
      "\n",
      " {'name': ['simran', 80], 'maths': ['simran', 80], 'science': ['simran', 80]}\n",
      "The final dictionary is :  {'name': ['simran', 80, 90], 'maths': ['simran', 80, 90], 'science': ['simran', 80, 90]}\n"
     ]
    }
   ],
   "source": [
    "name = input(\"Enter your name : \")\n",
    "maths = eval(input(\"Enter your maths marks : \"))\n",
    "science = eval(input(\"Enter your science marks : \"))\n",
    "d['name'].append(name)\n",
    "print()\n",
    "print(d)\n",
    "d['maths'].append(maths)\n",
    "print(\"\\n\",d)\n",
    "d['science'].append(science)\n",
    "print(\"The final dictionary is : \",d)"
   ]
  },
  {
   "cell_type": "code",
   "execution_count": 10,
   "metadata": {},
   "outputs": [
    {
     "data": {
      "text/plain": [
       "{'name': ['simran', 90, 80],\n",
       " 'maths': ['simran', 90, 80],\n",
       " 'science': ['simran', 90, 80]}"
      ]
     },
     "execution_count": 10,
     "metadata": {},
     "output_type": "execute_result"
    }
   ],
   "source": [
    "d"
   ]
  },
  {
   "cell_type": "code",
   "execution_count": 21,
   "metadata": {},
   "outputs": [],
   "source": [
    "d = dict.fromkeys(['name','maths','science'],[])"
   ]
  },
  {
   "cell_type": "code",
   "execution_count": 22,
   "metadata": {},
   "outputs": [
    {
     "data": {
      "text/plain": [
       "{'name': [], 'maths': [], 'science': []}"
      ]
     },
     "execution_count": 22,
     "metadata": {},
     "output_type": "execute_result"
    }
   ],
   "source": [
    "d"
   ]
  },
  {
   "cell_type": "code",
   "execution_count": 23,
   "metadata": {},
   "outputs": [
    {
     "name": "stdout",
     "output_type": "stream",
     "text": [
      "Enter your name : simran\n",
      "Enter your maths marks : 90\n",
      "Enter your science marks : 80\n",
      "\n",
      "{'name': ['simran'], 'maths': [], 'science': []}\n",
      "\n",
      " {'name': ['simran'], 'maths': [90], 'science': []}\n",
      "\n",
      "The final dictionary is :  {'name': ['simran'], 'maths': [90], 'science': [80]}\n"
     ]
    }
   ],
   "source": [
    "name = input(\"Enter your name : \")\n",
    "maths = eval(input(\"Enter your maths marks : \"))\n",
    "science = eval(input(\"Enter your science marks : \"))\n",
    "d['name'] = [name]\n",
    "print()\n",
    "print(d)\n",
    "d['maths'] = [maths]\n",
    "print(\"\\n\",d)\n",
    "d['science'] = [science]\n",
    "print(\"\\nThe final dictionary is : \",d)"
   ]
  },
  {
   "cell_type": "code",
   "execution_count": 25,
   "metadata": {},
   "outputs": [
    {
     "data": {
      "text/plain": [
       "{'name': ['simran', 'rahul'], 'maths': [90, 67], 'science': [80, 78]}"
      ]
     },
     "execution_count": 25,
     "metadata": {},
     "output_type": "execute_result"
    }
   ],
   "source": [
    "d"
   ]
  },
  {
   "cell_type": "code",
   "execution_count": 27,
   "metadata": {},
   "outputs": [],
   "source": [
    "d['name'].append(\"tushar\")"
   ]
  },
  {
   "cell_type": "code",
   "execution_count": 31,
   "metadata": {},
   "outputs": [],
   "source": [
    "d['maths'].append(56)"
   ]
  },
  {
   "cell_type": "code",
   "execution_count": 32,
   "metadata": {},
   "outputs": [
    {
     "data": {
      "text/plain": [
       "[90, 67, 56]"
      ]
     },
     "execution_count": 32,
     "metadata": {},
     "output_type": "execute_result"
    }
   ],
   "source": [
    "d['maths']"
   ]
  },
  {
   "cell_type": "code",
   "execution_count": 34,
   "metadata": {},
   "outputs": [],
   "source": [
    "d['science'].append(69)"
   ]
  },
  {
   "cell_type": "code",
   "execution_count": 35,
   "metadata": {},
   "outputs": [
    {
     "data": {
      "text/plain": [
       "{'name': ['simran', 'rahul', 'tushar'],\n",
       " 'maths': [90, 67, 56],\n",
       " 'science': [80, 78, 69]}"
      ]
     },
     "execution_count": 35,
     "metadata": {},
     "output_type": "execute_result"
    }
   ],
   "source": [
    "d"
   ]
  },
  {
   "cell_type": "code",
   "execution_count": 37,
   "metadata": {},
   "outputs": [
    {
     "name": "stdout",
     "output_type": "stream",
     "text": [
      "\n",
      " Initial dictionary is :  {'name': ['simran', 'rahul', 'tushar', 'kunal'], 'maths': [90, 67, 56, 70], 'science': [80, 78, 69, 80]}\n",
      "Enter your name : rohan\n",
      "Enter your maths marks : 67\n",
      "Enter your science marks : 56\n",
      "The final dictionary is :  {'name': ['simran', 'rahul', 'tushar', 'kunal', 'rohan'], 'maths': [90, 67, 56, 70, 67], 'science': [80, 78, 69, 80, 56]}\n"
     ]
    }
   ],
   "source": [
    "print(\"\\n Initial dictionary is : \",d)\n",
    "name = input(\"Enter your name : \")\n",
    "maths = eval(input(\"Enter your maths marks : \"))\n",
    "science = eval(input(\"Enter your science marks : \"))\n",
    "d['name'].append(name)\n",
    "d['maths'].append(maths)\n",
    "d['science'].append(science)\n",
    "print(\"The final dictionary is : \",d)"
   ]
  },
  {
   "cell_type": "code",
   "execution_count": 38,
   "metadata": {},
   "outputs": [
    {
     "name": "stdout",
     "output_type": "stream",
     "text": [
      "1947244799560\n",
      "1947241257480\n"
     ]
    }
   ],
   "source": [
    "a = []\n",
    "print(id(a))\n",
    "b = [].copy()\n",
    "print(id(b))"
   ]
  },
  {
   "cell_type": "code",
   "execution_count": 39,
   "metadata": {},
   "outputs": [],
   "source": [
    "a.append(\"simran\")"
   ]
  },
  {
   "cell_type": "code",
   "execution_count": 40,
   "metadata": {},
   "outputs": [],
   "source": [
    "b.append(19)"
   ]
  },
  {
   "cell_type": "code",
   "execution_count": 41,
   "metadata": {},
   "outputs": [
    {
     "data": {
      "text/plain": [
       "['simran']"
      ]
     },
     "execution_count": 41,
     "metadata": {},
     "output_type": "execute_result"
    }
   ],
   "source": [
    "a"
   ]
  },
  {
   "cell_type": "code",
   "execution_count": 42,
   "metadata": {},
   "outputs": [
    {
     "data": {
      "text/plain": [
       "[19]"
      ]
     },
     "execution_count": 42,
     "metadata": {},
     "output_type": "execute_result"
    }
   ],
   "source": [
    "b"
   ]
  },
  {
   "cell_type": "code",
   "execution_count": 43,
   "metadata": {},
   "outputs": [
    {
     "name": "stdout",
     "output_type": "stream",
     "text": [
      "['__class__', '__contains__', '__delattr__', '__delitem__', '__dir__', '__doc__', '__eq__', '__format__', '__ge__', '__getattribute__', '__getitem__', '__gt__', '__hash__', '__init__', '__init_subclass__', '__iter__', '__le__', '__len__', '__lt__', '__ne__', '__new__', '__reduce__', '__reduce_ex__', '__repr__', '__setattr__', '__setitem__', '__sizeof__', '__str__', '__subclasshook__', 'clear', 'copy', 'fromkeys', 'get', 'items', 'keys', 'pop', 'popitem', 'setdefault', 'update', 'values']\n"
     ]
    }
   ],
   "source": [
    "print(dir(d))"
   ]
  },
  {
   "cell_type": "code",
   "execution_count": 44,
   "metadata": {},
   "outputs": [
    {
     "ename": "TypeError",
     "evalue": "pop expected at least 1 arguments, got 0",
     "output_type": "error",
     "traceback": [
      "\u001b[1;31m---------------------------------------------------------------------\u001b[0m",
      "\u001b[1;31mTypeError\u001b[0m                           Traceback (most recent call last)",
      "\u001b[1;32m<ipython-input-44-663961784a31>\u001b[0m in \u001b[0;36m<module>\u001b[1;34m\u001b[0m\n\u001b[1;32m----> 1\u001b[1;33m \u001b[0md\u001b[0m\u001b[1;33m.\u001b[0m\u001b[0mpop\u001b[0m\u001b[1;33m(\u001b[0m\u001b[1;33m)\u001b[0m\u001b[1;33m\u001b[0m\u001b[1;33m\u001b[0m\u001b[0m\n\u001b[0m",
      "\u001b[1;31mTypeError\u001b[0m: pop expected at least 1 arguments, got 0"
     ]
    }
   ],
   "source": [
    "d.pop()"
   ]
  },
  {
   "cell_type": "code",
   "execution_count": 46,
   "metadata": {},
   "outputs": [
    {
     "name": "stdout",
     "output_type": "stream",
     "text": [
      "Help on built-in function pop:\n",
      "\n",
      "pop(...) method of builtins.dict instance\n",
      "    D.pop(k[,d]) -> v, remove specified key and return the corresponding value.\n",
      "    If key is not found, d is returned if given, otherwise KeyError is raised\n",
      "\n"
     ]
    }
   ],
   "source": [
    "help(d.pop)"
   ]
  },
  {
   "cell_type": "markdown",
   "metadata": {},
   "source": [
    "#### pop\n",
    "\n",
    "    pop(key) ---> it will remove this key\n",
    "    dict_object.pop(key)"
   ]
  },
  {
   "cell_type": "code",
   "execution_count": 47,
   "metadata": {},
   "outputs": [
    {
     "data": {
      "text/plain": [
       "{'name': ['simran', 'rahul', 'tushar', 'kunal', 'rohan'],\n",
       " 'maths': [90, 67, 56, 70, 67],\n",
       " 'science': [80, 78, 69, 80, 56]}"
      ]
     },
     "execution_count": 47,
     "metadata": {},
     "output_type": "execute_result"
    }
   ],
   "source": [
    "d"
   ]
  },
  {
   "cell_type": "code",
   "execution_count": 48,
   "metadata": {},
   "outputs": [],
   "source": [
    "weather = {'temp':25,'desc':'cloudy','state':'raj','city':'jaipur'}"
   ]
  },
  {
   "cell_type": "code",
   "execution_count": 49,
   "metadata": {},
   "outputs": [],
   "source": [
    "weather['abc'] = \"hello\""
   ]
  },
  {
   "cell_type": "code",
   "execution_count": 50,
   "metadata": {},
   "outputs": [
    {
     "data": {
      "text/plain": [
       "{'temp': 25,\n",
       " 'desc': 'cloudy',\n",
       " 'state': 'raj',\n",
       " 'city': 'jaipur',\n",
       " 'abc': 'hello'}"
      ]
     },
     "execution_count": 50,
     "metadata": {},
     "output_type": "execute_result"
    }
   ],
   "source": [
    "weather"
   ]
  },
  {
   "cell_type": "code",
   "execution_count": 51,
   "metadata": {},
   "outputs": [
    {
     "data": {
      "text/plain": [
       "'hello'"
      ]
     },
     "execution_count": 51,
     "metadata": {},
     "output_type": "execute_result"
    }
   ],
   "source": [
    "weather.pop('abc')"
   ]
  },
  {
   "cell_type": "code",
   "execution_count": 52,
   "metadata": {},
   "outputs": [
    {
     "data": {
      "text/plain": [
       "{'temp': 25, 'desc': 'cloudy', 'state': 'raj', 'city': 'jaipur'}"
      ]
     },
     "execution_count": 52,
     "metadata": {},
     "output_type": "execute_result"
    }
   ],
   "source": [
    "weather"
   ]
  },
  {
   "cell_type": "code",
   "execution_count": 55,
   "metadata": {},
   "outputs": [
    {
     "ename": "KeyError",
     "evalue": "'abc'",
     "output_type": "error",
     "traceback": [
      "\u001b[1;31m---------------------------------------------------------------------\u001b[0m",
      "\u001b[1;31mKeyError\u001b[0m                            Traceback (most recent call last)",
      "\u001b[1;32m<ipython-input-55-2804037f33c2>\u001b[0m in \u001b[0;36m<module>\u001b[1;34m\u001b[0m\n\u001b[1;32m----> 1\u001b[1;33m \u001b[0mweather\u001b[0m\u001b[1;33m.\u001b[0m\u001b[0mpop\u001b[0m\u001b[1;33m(\u001b[0m\u001b[1;34m'abc'\u001b[0m\u001b[1;33m)\u001b[0m\u001b[1;33m\u001b[0m\u001b[1;33m\u001b[0m\u001b[0m\n\u001b[0m",
      "\u001b[1;31mKeyError\u001b[0m: 'abc'"
     ]
    }
   ],
   "source": [
    "weather.pop('abc')"
   ]
  },
  {
   "cell_type": "code",
   "execution_count": 57,
   "metadata": {},
   "outputs": [
    {
     "data": {
      "text/plain": [
       "'raj'"
      ]
     },
     "execution_count": 57,
     "metadata": {},
     "output_type": "execute_result"
    }
   ],
   "source": [
    "weather.pop('state')"
   ]
  },
  {
   "cell_type": "code",
   "execution_count": 58,
   "metadata": {},
   "outputs": [
    {
     "data": {
      "text/plain": [
       "{'temp': 25, 'desc': 'cloudy', 'city': 'jaipur'}"
      ]
     },
     "execution_count": 58,
     "metadata": {},
     "output_type": "execute_result"
    }
   ],
   "source": [
    "weather"
   ]
  },
  {
   "cell_type": "code",
   "execution_count": 60,
   "metadata": {},
   "outputs": [
    {
     "name": "stdout",
     "output_type": "stream",
     "text": [
      "Help on built-in function popitem:\n",
      "\n",
      "popitem(...) method of builtins.dict instance\n",
      "    D.popitem() -> (k, v), remove and return some (key, value) pair as a\n",
      "    2-tuple; but raise KeyError if D is empty.\n",
      "\n"
     ]
    }
   ],
   "source": [
    "help(weather.popitem)"
   ]
  },
  {
   "cell_type": "code",
   "execution_count": 61,
   "metadata": {},
   "outputs": [
    {
     "data": {
      "text/plain": [
       "('desc', 'cloudy')"
      ]
     },
     "execution_count": 61,
     "metadata": {},
     "output_type": "execute_result"
    }
   ],
   "source": [
    "weather.popitem()"
   ]
  },
  {
   "cell_type": "code",
   "execution_count": 63,
   "metadata": {},
   "outputs": [
    {
     "data": {
      "text/plain": [
       "{'temp': 25}"
      ]
     },
     "execution_count": 63,
     "metadata": {},
     "output_type": "execute_result"
    }
   ],
   "source": [
    "weather"
   ]
  },
  {
   "cell_type": "code",
   "execution_count": 64,
   "metadata": {},
   "outputs": [
    {
     "data": {
      "text/plain": [
       "('temp', 25)"
      ]
     },
     "execution_count": 64,
     "metadata": {},
     "output_type": "execute_result"
    }
   ],
   "source": [
    "weather.popitem()"
   ]
  },
  {
   "cell_type": "code",
   "execution_count": 65,
   "metadata": {},
   "outputs": [
    {
     "data": {
      "text/plain": [
       "{}"
      ]
     },
     "execution_count": 65,
     "metadata": {},
     "output_type": "execute_result"
    }
   ],
   "source": [
    "weather"
   ]
  },
  {
   "cell_type": "code",
   "execution_count": 66,
   "metadata": {},
   "outputs": [
    {
     "ename": "KeyError",
     "evalue": "'popitem(): dictionary is empty'",
     "output_type": "error",
     "traceback": [
      "\u001b[1;31m---------------------------------------------------------------------\u001b[0m",
      "\u001b[1;31mKeyError\u001b[0m                            Traceback (most recent call last)",
      "\u001b[1;32m<ipython-input-66-b57cab9bc9c0>\u001b[0m in \u001b[0;36m<module>\u001b[1;34m\u001b[0m\n\u001b[1;32m----> 1\u001b[1;33m \u001b[0mweather\u001b[0m\u001b[1;33m.\u001b[0m\u001b[0mpopitem\u001b[0m\u001b[1;33m(\u001b[0m\u001b[1;33m)\u001b[0m\u001b[1;33m\u001b[0m\u001b[1;33m\u001b[0m\u001b[0m\n\u001b[0m",
      "\u001b[1;31mKeyError\u001b[0m: 'popitem(): dictionary is empty'"
     ]
    }
   ],
   "source": [
    "weather.popitem()"
   ]
  },
  {
   "cell_type": "code",
   "execution_count": 69,
   "metadata": {},
   "outputs": [],
   "source": [
    "resume = {\n",
    "    'Personal Info' : {\n",
    "        'Name' : 'Simran Grover',\n",
    "        'Email' : 'simrangrover5@gmail.com',\n",
    "        'Phno' :  'xyz',\n",
    "        'dob' : 'xyz'\n",
    "    },\n",
    "    'Languages Known' : ['Hindi','English'],\n",
    "    'Skills' : {\n",
    "        'Programming Language' : ['C','C++','Python'],\n",
    "        'Other Languages' : ['html','jinja','latex'],\n",
    "        'Development' : ['Django','flask','tkinter']\n",
    "    },    \n",
    "}"
   ]
  },
  {
   "cell_type": "code",
   "execution_count": 70,
   "metadata": {},
   "outputs": [
    {
     "data": {
      "text/plain": [
       "dict_keys(['Personal Info', 'Languages Known', 'Skills'])"
      ]
     },
     "execution_count": 70,
     "metadata": {},
     "output_type": "execute_result"
    }
   ],
   "source": [
    "resume.keys()"
   ]
  },
  {
   "cell_type": "code",
   "execution_count": 71,
   "metadata": {},
   "outputs": [
    {
     "data": {
      "text/plain": [
       "dict_items([('Personal Info', {'Name': 'Simran Grover', 'Email': 'simrangrover5@gmail.com', 'Phno': 'xyz', 'dob': 'xyz'}), ('Languages Known', ['Hindi', 'English']), ('Skills', {'Programming Language': ['C', 'C++', 'Python'], 'Other Languages': ['html', 'jinja', 'latex'], 'Development': ['Django', 'flask', 'tkinter']})])"
      ]
     },
     "execution_count": 71,
     "metadata": {},
     "output_type": "execute_result"
    }
   ],
   "source": [
    "resume.items()"
   ]
  },
  {
   "cell_type": "code",
   "execution_count": 72,
   "metadata": {},
   "outputs": [],
   "source": [
    "resume['Experience'] = '2.5yrs'"
   ]
  },
  {
   "cell_type": "code",
   "execution_count": 73,
   "metadata": {},
   "outputs": [
    {
     "data": {
      "text/plain": [
       "{'Personal Info': {'Name': 'Simran Grover',\n",
       "  'Email': 'simrangrover5@gmail.com',\n",
       "  'Phno': 'xyz',\n",
       "  'dob': 'xyz'},\n",
       " 'Languages Known': ['Hindi', 'English'],\n",
       " 'Skills': {'Programming Language': ['C', 'C++', 'Python'],\n",
       "  'Other Languages': ['html', 'jinja', 'latex'],\n",
       "  'Development': ['Django', 'flask', 'tkinter']},\n",
       " 'Experience': '2.5yrs'}"
      ]
     },
     "execution_count": 73,
     "metadata": {},
     "output_type": "execute_result"
    }
   ],
   "source": [
    "resume"
   ]
  },
  {
   "cell_type": "code",
   "execution_count": 74,
   "metadata": {},
   "outputs": [],
   "source": [
    "resume['abc'] = \"hello\""
   ]
  },
  {
   "cell_type": "code",
   "execution_count": 75,
   "metadata": {},
   "outputs": [],
   "source": [
    "d1 = {'Company':['Grras'],'Xyz':'Bye'}"
   ]
  },
  {
   "cell_type": "code",
   "execution_count": 76,
   "metadata": {},
   "outputs": [],
   "source": [
    "resume.update(d1)"
   ]
  },
  {
   "cell_type": "code",
   "execution_count": 77,
   "metadata": {},
   "outputs": [
    {
     "data": {
      "text/plain": [
       "{'Personal Info': {'Name': 'Simran Grover',\n",
       "  'Email': 'simrangrover5@gmail.com',\n",
       "  'Phno': 'xyz',\n",
       "  'dob': 'xyz'},\n",
       " 'Languages Known': ['Hindi', 'English'],\n",
       " 'Skills': {'Programming Language': ['C', 'C++', 'Python'],\n",
       "  'Other Languages': ['html', 'jinja', 'latex'],\n",
       "  'Development': ['Django', 'flask', 'tkinter']},\n",
       " 'Experience': '2.5yrs',\n",
       " 'abc': 'hello',\n",
       " 'Company': ['Grras'],\n",
       " 'Xyz': 'Bye'}"
      ]
     },
     "execution_count": 77,
     "metadata": {},
     "output_type": "execute_result"
    }
   ],
   "source": [
    "resume"
   ]
  },
  {
   "cell_type": "code",
   "execution_count": 78,
   "metadata": {},
   "outputs": [
    {
     "name": "stdout",
     "output_type": "stream",
     "text": [
      "Enter any key : Xyz\n"
     ]
    },
    {
     "data": {
      "text/plain": [
       "'Bye'"
      ]
     },
     "execution_count": 78,
     "metadata": {},
     "output_type": "execute_result"
    }
   ],
   "source": [
    "resume.pop(input(\"Enter any key : \"))"
   ]
  },
  {
   "cell_type": "code",
   "execution_count": 79,
   "metadata": {},
   "outputs": [
    {
     "data": {
      "text/plain": [
       "{'Personal Info': {'Name': 'Simran Grover',\n",
       "  'Email': 'simrangrover5@gmail.com',\n",
       "  'Phno': 'xyz',\n",
       "  'dob': 'xyz'},\n",
       " 'Languages Known': ['Hindi', 'English'],\n",
       " 'Skills': {'Programming Language': ['C', 'C++', 'Python'],\n",
       "  'Other Languages': ['html', 'jinja', 'latex'],\n",
       "  'Development': ['Django', 'flask', 'tkinter']},\n",
       " 'Experience': '2.5yrs',\n",
       " 'abc': 'hello',\n",
       " 'Company': ['Grras']}"
      ]
     },
     "execution_count": 79,
     "metadata": {},
     "output_type": "execute_result"
    }
   ],
   "source": [
    "resume"
   ]
  },
  {
   "cell_type": "code",
   "execution_count": 80,
   "metadata": {},
   "outputs": [],
   "source": [
    "resume.update(project=['anserbag','proxy server','automation website'],topic=['django','python','python'])"
   ]
  },
  {
   "cell_type": "code",
   "execution_count": 81,
   "metadata": {},
   "outputs": [
    {
     "data": {
      "text/plain": [
       "{'Personal Info': {'Name': 'Simran Grover',\n",
       "  'Email': 'simrangrover5@gmail.com',\n",
       "  'Phno': 'xyz',\n",
       "  'dob': 'xyz'},\n",
       " 'Languages Known': ['Hindi', 'English'],\n",
       " 'Skills': {'Programming Language': ['C', 'C++', 'Python'],\n",
       "  'Other Languages': ['html', 'jinja', 'latex'],\n",
       "  'Development': ['Django', 'flask', 'tkinter']},\n",
       " 'Experience': '2.5yrs',\n",
       " 'abc': 'hello',\n",
       " 'Company': ['Grras'],\n",
       " 'project': ['anserbag', 'proxy server', 'automation website'],\n",
       " 'topic': ['django', 'python', 'python']}"
      ]
     },
     "execution_count": 81,
     "metadata": {},
     "output_type": "execute_result"
    }
   ],
   "source": [
    "resume"
   ]
  },
  {
   "cell_type": "code",
   "execution_count": 82,
   "metadata": {},
   "outputs": [],
   "source": [
    "resume.update(Company=\"Grras\")"
   ]
  },
  {
   "cell_type": "code",
   "execution_count": 83,
   "metadata": {},
   "outputs": [
    {
     "data": {
      "text/plain": [
       "{'Personal Info': {'Name': 'Simran Grover',\n",
       "  'Email': 'simrangrover5@gmail.com',\n",
       "  'Phno': 'xyz',\n",
       "  'dob': 'xyz'},\n",
       " 'Languages Known': ['Hindi', 'English'],\n",
       " 'Skills': {'Programming Language': ['C', 'C++', 'Python'],\n",
       "  'Other Languages': ['html', 'jinja', 'latex'],\n",
       "  'Development': ['Django', 'flask', 'tkinter']},\n",
       " 'Experience': '2.5yrs',\n",
       " 'abc': 'hello',\n",
       " 'Company': 'Grras',\n",
       " 'project': ['anserbag', 'proxy server', 'automation website'],\n",
       " 'topic': ['django', 'python', 'python']}"
      ]
     },
     "execution_count": 83,
     "metadata": {},
     "output_type": "execute_result"
    }
   ],
   "source": [
    "resume"
   ]
  },
  {
   "cell_type": "code",
   "execution_count": 84,
   "metadata": {},
   "outputs": [],
   "source": [
    "resume.update(company=\"ABC\")"
   ]
  },
  {
   "cell_type": "code",
   "execution_count": 85,
   "metadata": {},
   "outputs": [
    {
     "data": {
      "text/plain": [
       "{'Personal Info': {'Name': 'Simran Grover',\n",
       "  'Email': 'simrangrover5@gmail.com',\n",
       "  'Phno': 'xyz',\n",
       "  'dob': 'xyz'},\n",
       " 'Languages Known': ['Hindi', 'English'],\n",
       " 'Skills': {'Programming Language': ['C', 'C++', 'Python'],\n",
       "  'Other Languages': ['html', 'jinja', 'latex'],\n",
       "  'Development': ['Django', 'flask', 'tkinter']},\n",
       " 'Experience': '2.5yrs',\n",
       " 'abc': 'hello',\n",
       " 'Company': 'Grras',\n",
       " 'project': ['anserbag', 'proxy server', 'automation website'],\n",
       " 'topic': ['django', 'python', 'python'],\n",
       " 'company': 'ABC'}"
      ]
     },
     "execution_count": 85,
     "metadata": {},
     "output_type": "execute_result"
    }
   ],
   "source": [
    "resume"
   ]
  },
  {
   "cell_type": "code",
   "execution_count": 88,
   "metadata": {},
   "outputs": [
    {
     "data": {
      "text/plain": [
       "{'Programming Language': ['C', 'C++', 'Python'],\n",
       " 'Other Languages': ['html', 'jinja', 'latex'],\n",
       " 'Development': ['Django', 'flask', 'tkinter']}"
      ]
     },
     "execution_count": 88,
     "metadata": {},
     "output_type": "execute_result"
    }
   ],
   "source": [
    "resume['Skills']"
   ]
  },
  {
   "cell_type": "code",
   "execution_count": 89,
   "metadata": {},
   "outputs": [],
   "source": [
    "d = {(1,2,3):['one','two','three']}"
   ]
  },
  {
   "cell_type": "code",
   "execution_count": 90,
   "metadata": {},
   "outputs": [
    {
     "data": {
      "text/plain": [
       "{(1, 2, 3): ['one', 'two', 'three']}"
      ]
     },
     "execution_count": 90,
     "metadata": {},
     "output_type": "execute_result"
    }
   ],
   "source": [
    "d"
   ]
  },
  {
   "cell_type": "code",
   "execution_count": 91,
   "metadata": {},
   "outputs": [
    {
     "data": {
      "text/plain": [
       "['one', 'two', 'three']"
      ]
     },
     "execution_count": 91,
     "metadata": {},
     "output_type": "execute_result"
    }
   ],
   "source": [
    "d[(1,2,3)]"
   ]
  },
  {
   "cell_type": "code",
   "execution_count": null,
   "metadata": {},
   "outputs": [],
   "source": [
    "### corona dictionary --> {'India' : {'Raj':{'Jaipur':1000,'Bikaner':,}}"
   ]
  },
  {
   "cell_type": "markdown",
   "metadata": {},
   "source": [
    "### Sets"
   ]
  },
  {
   "cell_type": "code",
   "execution_count": null,
   "metadata": {},
   "outputs": [],
   "source": []
  }
 ],
 "metadata": {
  "kernelspec": {
   "display_name": "Python 3",
   "language": "python",
   "name": "python3"
  },
  "language_info": {
   "codemirror_mode": {
    "name": "ipython",
    "version": 3
   },
   "file_extension": ".py",
   "mimetype": "text/x-python",
   "name": "python",
   "nbconvert_exporter": "python",
   "pygments_lexer": "ipython3",
   "version": "3.7.4"
  }
 },
 "nbformat": 4,
 "nbformat_minor": 2
}
