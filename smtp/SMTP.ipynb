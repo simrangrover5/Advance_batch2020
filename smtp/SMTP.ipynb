{
 "cells": [
  {
   "cell_type": "markdown",
   "metadata": {},
   "source": [
    "        SMTP\n",
    "        \n",
    "            Simple Mail Tranfer Protocol\n",
    "            \n",
    "                Protocol --> Set of rules\n",
    "                \n",
    "                \n",
    "                Encryption --> SSL,TLS\n",
    "                SSL --> Secure Socket Layer --> port --> 465\n",
    "                TLS --> Transport Layer Security --> 587\n",
    "            \n",
    "                http + s --> SSL\n",
    "        1. connect smtp server \n",
    "            host,port\n",
    "                port will depend on your security layer\n",
    "         2. login with your server\n",
    "              email \n",
    "              password\n",
    "         3. send mail"
   ]
  },
  {
   "cell_type": "code",
   "execution_count": 1,
   "metadata": {},
   "outputs": [],
   "source": [
    "import smtplib,ssl"
   ]
  },
  {
   "cell_type": "code",
   "execution_count": 2,
   "metadata": {},
   "outputs": [
    {
     "name": "stdout",
     "output_type": "stream",
     "text": [
      "['CRLF', 'LMTP', 'LMTP_PORT', 'OLDSTYLE_AUTH', 'SMTP', 'SMTPAuthenticationError', 'SMTPConnectError', 'SMTPDataError', 'SMTPException', 'SMTPHeloError', 'SMTPNotSupportedError', 'SMTPRecipientsRefused', 'SMTPResponseException', 'SMTPSenderRefused', 'SMTPServerDisconnected', 'SMTP_PORT', 'SMTP_SSL', 'SMTP_SSL_PORT', '_MAXLINE', '__all__', '__builtins__', '__cached__', '__doc__', '__file__', '__loader__', '__name__', '__package__', '__spec__', '_addr_only', '_fix_eols', '_have_ssl', '_quote_periods', 'bCRLF', 'base64', 'copy', 'datetime', 'email', 'encode_base64', 'hmac', 'io', 'quoteaddr', 'quotedata', 're', 'socket', 'ssl', 'sys']\n"
     ]
    }
   ],
   "source": [
    "print(dir(smtplib))"
   ]
  },
  {
   "cell_type": "code",
   "execution_count": 3,
   "metadata": {},
   "outputs": [],
   "source": [
    "### sockets,mime"
   ]
  },
  {
   "cell_type": "code",
   "execution_count": 1,
   "metadata": {},
   "outputs": [],
   "source": [
    "import smtplib,ssl"
   ]
  },
  {
   "cell_type": "code",
   "execution_count": 2,
   "metadata": {},
   "outputs": [],
   "source": [
    "from getpass import getpass"
   ]
  },
  {
   "cell_type": "code",
   "execution_count": 3,
   "metadata": {},
   "outputs": [
    {
     "name": "stdout",
     "output_type": "stream",
     "text": [
      "Enter your password : ········\n"
     ]
    },
    {
     "data": {
      "text/plain": [
       "'ihiejijpijo'"
      ]
     },
     "execution_count": 3,
     "metadata": {},
     "output_type": "execute_result"
    }
   ],
   "source": [
    "getpass(\"Enter your password : \")"
   ]
  },
  {
   "cell_type": "code",
   "execution_count": 5,
   "metadata": {},
   "outputs": [
    {
     "name": "stdout",
     "output_type": "stream",
     "text": [
      "\n",
      " Enter your password : ········\n",
      "\n",
      " Succcessfully send the message\n"
     ]
    }
   ],
   "source": [
    "host = \"smtp.gmail.com\"\n",
    "port = 587 #tls\n",
    "\n",
    "from_email = \"simrangrover5@gmail.com\"\n",
    "to_email = \"simrangrover5@gmail.com\"\n",
    "password = getpass(\"\\n Enter your password : \")\n",
    "\n",
    "message = \"\"\"This is mail from python script\n",
    "Send by SIMRAN GROVER\n",
    "\"\"\"\n",
    "context = ssl.create_default_context()  #ssl --> context --> for more higher level security\n",
    "try:\n",
    "    with smtplib.SMTP(host,port) as server:\n",
    "        server.starttls(context=context)\n",
    "        server.login(from_email,password)\n",
    "        server.sendmail(from_email,to_email,message)\n",
    "except Exception as e:\n",
    "    print(\"\\n Error \",e)\n",
    "else: #when it does not go into except part then it go into else part \n",
    "    #when there will be no error and all the statements will execute correctly then it will execute else\n",
    "    print(\"\\n Succcessfully send the message\")"
   ]
  },
  {
   "cell_type": "code",
   "execution_count": 6,
   "metadata": {},
   "outputs": [],
   "source": [
    "#less secure apps --> allow \n",
    "# https://myaccount.google.com/security"
   ]
  },
  {
   "cell_type": "code",
   "execution_count": 7,
   "metadata": {},
   "outputs": [
    {
     "name": "stdout",
     "output_type": "stream",
     "text": [
      "\n",
      " Enter your password : ········\n",
      "\n",
      " Succcessfully send the message\n"
     ]
    }
   ],
   "source": [
    "host = \"smtp.gmail.com\"\n",
    "port = 587 #tls\n",
    "\n",
    "from_email = \"simrangrover5@gmail.com\"\n",
    "to_email = \"amri.9679@gmail.com\"\n",
    "password = getpass(\"\\n Enter your password : \")\n",
    "\n",
    "message = \"\"\"This is mail from python script\n",
    "Send by SIMRAN GROVER\n",
    "\"\"\"\n",
    "context = ssl.create_default_context()  #ssl --> context --> for more higher level security\n",
    "try:\n",
    "    with smtplib.SMTP(host,port) as server:  #server = smtplib.SMTP(host,port)\n",
    "        server.starttls(context=context)\n",
    "        server.login(from_email,password)\n",
    "        server.sendmail(from_email,to_email,message)\n",
    "except Exception as e:\n",
    "    print(\"\\n Error \",e)\n",
    "else: #when it does not go into except part then it go into else part \n",
    "    #when there will be no error and all the statements will execute correctly then it will execute else\n",
    "    print(\"\\n Succcessfully send the message\")"
   ]
  },
  {
   "cell_type": "code",
   "execution_count": 8,
   "metadata": {},
   "outputs": [
    {
     "data": {
      "text/plain": [
       "<smtplib.SMTP at 0x20058196d88>"
      ]
     },
     "execution_count": 8,
     "metadata": {},
     "output_type": "execute_result"
    }
   ],
   "source": [
    "server.sendmail()"
   ]
  },
  {
   "cell_type": "markdown",
   "metadata": {},
   "source": [
    "    MIME --> Multipuerpose Internet Mail Extension\n",
    "    \n",
    "    It provide many features and properties which i can use to send my mail from on to another\n",
    "    I can send any type of content using this mail extension\n",
    "    html,plain,images,videos,audios etc"
   ]
  },
  {
   "cell_type": "code",
   "execution_count": 9,
   "metadata": {},
   "outputs": [],
   "source": [
    "#openssl --> local --> certificate "
   ]
  },
  {
   "cell_type": "code",
   "execution_count": 10,
   "metadata": {},
   "outputs": [],
   "source": [
    "from email.mime.multipart import MIMEMultipart\n",
    "from email.mime.text import MIMEText"
   ]
  },
  {
   "cell_type": "code",
   "execution_count": 12,
   "metadata": {},
   "outputs": [
    {
     "name": "stdout",
     "output_type": "stream",
     "text": [
      "Content-Type: multipart/mixed; boundary=\"===============6254385393086346281==\"\n",
      "MIME-Version: 1.0\n",
      "To: simrangrover5@gmail.com\n",
      "From: simrangrover5@gmail.com\n",
      "Subject: Mail from Python script\n",
      "\n",
      "--===============6254385393086346281==\n",
      "Content-Type: text/plain; charset=\"us-ascii\"\n",
      "MIME-Version: 1.0\n",
      "Content-Transfer-Encoding: 7bit\n",
      "\n",
      "This is plain message using mime from python script\n",
      "--===============6254385393086346281==--\n",
      "\n"
     ]
    }
   ],
   "source": [
    "msg = MIMEMultipart()\n",
    "email = \"simrangrover5@gmail.com\"\n",
    "msg['To'] = \"simrangrover5@gmail.com\"\n",
    "msg['From'] = \"simrangrover5@gmail.com\"\n",
    "msg['Subject'] = \"Mail from Python script\"\n",
    "\n",
    "plain = \"This is plain message using mime from python script\"\n",
    "\n",
    "m=MIMEText(plain,\"plain\")  #MIMEText(variable_name,content-type)\n",
    "#for sharing plain content with user here we are using \"plain\", for html content --> \"html\"\n",
    "#now add the object m with your message object\n",
    "\n",
    "msg.attach(m)  #attached the message m\n",
    "print(msg)"
   ]
  },
  {
   "cell_type": "code",
   "execution_count": 13,
   "metadata": {},
   "outputs": [
    {
     "name": "stdout",
     "output_type": "stream",
     "text": [
      "\n",
      " Enter your password : ········\n",
      "\n",
      " Message Send Successfully\n"
     ]
    }
   ],
   "source": [
    "msg = MIMEMultipart()\n",
    "email = \"simrangrover5@gmail.com\"\n",
    "msg['To'] = \"simrangrover5@gmail.com\"\n",
    "msg['From'] = \"simrangrover5@gmail.com\"\n",
    "msg['Subject'] = \"Mail from Python script\"\n",
    "password = getpass(\"\\n Enter your password : \")\n",
    "plain = \"This is plain message using mime from python script\"\n",
    "\n",
    "m=MIMEText(plain,\"plain\")  #MIMEText(variable_name,content-type)\n",
    "#for sharing plain content with user here we are using \"plain\", for html content --> \"html\"\n",
    "#now add the object m with your message object\n",
    "\n",
    "msg.attach(m)  #attached the message m\n",
    "context = ssl.create_default_context()\n",
    "try:\n",
    "    with smtplib.SMTP_SSL(\"smtp.gmail.com\",465,context=context) as server:\n",
    "        server.login(email,password)\n",
    "        server.sendmail(email,email,msg.as_string())\n",
    "except Exception as e:\n",
    "    print(\"Error : \",e)\n",
    "else:\n",
    "    print(\"\\n Message Send Successfully\")"
   ]
  },
  {
   "cell_type": "code",
   "execution_count": 14,
   "metadata": {},
   "outputs": [
    {
     "name": "stdout",
     "output_type": "stream",
     "text": [
      "\n",
      " Enter your password : ········\n",
      "Content-Type: multipart/mixed; boundary=\"===============1464990971240322049==\"\n",
      "MIME-Version: 1.0\n",
      "To: simrangrover5@gmail.com\n",
      "From: simrangrover5@gmail.com\n",
      "Subject: Mail from Python script\n",
      "\n",
      "--===============1464990971240322049==\n",
      "Content-Type: text/html; charset=\"us-ascii\"\n",
      "MIME-Version: 1.0\n",
      "Content-Transfer-Encoding: 7bit\n",
      "\n",
      "\n",
      "<html>\n",
      "<body>\n",
      "<h1 style='color:red;font-style:italic'>This is mail from my python script I hope you like that</h1>\n",
      "<a href='https://www.youtube.com/' style='color:coral;'>Client on this link to get your fav videos</a>\n",
      "</body>\n",
      "</html>\n",
      "\n",
      "--===============1464990971240322049==--\n",
      "\n",
      "\n",
      " Message Send Successfully\n"
     ]
    }
   ],
   "source": [
    "msg = MIMEMultipart()\n",
    "email = \"simrangrover5@gmail.com\"\n",
    "msg['To'] = \"simrangrover5@gmail.com\"\n",
    "msg['From'] = \"simrangrover5@gmail.com\"\n",
    "msg['Subject'] = \"Mail from Python script\"\n",
    "password = getpass(\"\\n Enter your password : \")\n",
    "html = \"\"\"\n",
    "<html>\n",
    "<body>\n",
    "<h1 style='color:#123456;font-style:italic'>This is mail from my python script I hope you like that</h1>\n",
    "<a href='https://www.youtube.com/' style='color:coral;'>Client on this link to get your fav videos</a>\n",
    "</body>\n",
    "</html>\n",
    "\"\"\"\n",
    "\n",
    "m=MIMEText(html,\"html\")  #MIMEText(variable_name,content-type)\n",
    "#for sharing plain content with user here we are using \"plain\", for html content --> \"html\"\n",
    "#now add the object m with your message object\n",
    "msg.attach(m)  #attached the message m\n",
    "print(msg)\n",
    "context = ssl.create_default_context()\n",
    "try:\n",
    "    with smtplib.SMTP_SSL(\"smtp.gmail.com\",465,context=context) as server:\n",
    "        server.login(email,password)\n",
    "        server.sendmail(email,email,msg.as_string())\n",
    "except Exception as e:\n",
    "    print(\"Error : \",e)\n",
    "else:\n",
    "    print(\"\\n Message Send Successfully\")"
   ]
  },
  {
   "cell_type": "code",
   "execution_count": 15,
   "metadata": {},
   "outputs": [
    {
     "name": "stdout",
     "output_type": "stream",
     "text": [
      "\n",
      " Enter your password : ········\n",
      "\n",
      " Message Send Successfully\n"
     ]
    }
   ],
   "source": [
    "msg = MIMEMultipart()\n",
    "email = \"simrangrover5@gmail.com\"\n",
    "msg['To'] = \"simrangrover5@gmail.com\"\n",
    "msg['From'] = \"simrangrover5@gmail.com\"\n",
    "msg['Subject'] = \"Mail from Python script\"\n",
    "password = getpass(\"\\n Enter your password : \")\n",
    "html = \"\"\"\n",
    "<html>\n",
    "<body>\n",
    "<h1 style='color:#123456;font-style:italic'>This is mail from my python script I hope you like that</h1>\n",
    "<a href='https://www.youtube.com/' style='color:coral;'>Client on this link to get your fav videos</a>\n",
    "<img src=\"https://image.shutterstock.com/image-photo/spring-blossom-background-beautiful-nature-260nw-1033292395.jpg\">\n",
    "Open this image for getting your mood right\n",
    "</body>\n",
    "</html>\n",
    "\"\"\"\n",
    "\n",
    "m=MIMEText(html,\"html\")  #MIMEText(variable_name,content-type)\n",
    "#for sharing plain content with user here we are using \"plain\", for html content --> \"html\"\n",
    "#now add the object m with your message object\n",
    "msg.attach(m)  #attached the message m\n",
    "context = ssl.create_default_context()\n",
    "try:\n",
    "    with smtplib.SMTP_SSL(\"smtp.gmail.com\",465,context=context) as server:\n",
    "        server.login(email,password)\n",
    "        server.sendmail(email,email,msg.as_string())\n",
    "except Exception as e:\n",
    "    print(\"Error : \",e)\n",
    "else:\n",
    "    print(\"\\n Message Send Successfully\")"
   ]
  },
  {
   "cell_type": "code",
   "execution_count": null,
   "metadata": {},
   "outputs": [],
   "source": []
  }
 ],
 "metadata": {
  "kernelspec": {
   "display_name": "Python 3",
   "language": "python",
   "name": "python3"
  },
  "language_info": {
   "codemirror_mode": {
    "name": "ipython",
    "version": 3
   },
   "file_extension": ".py",
   "mimetype": "text/x-python",
   "name": "python",
   "nbconvert_exporter": "python",
   "pygments_lexer": "ipython3",
   "version": "3.7.4"
  }
 },
 "nbformat": 4,
 "nbformat_minor": 2
}
