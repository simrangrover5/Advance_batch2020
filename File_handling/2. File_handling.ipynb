{
 "cells": [
  {
   "cell_type": "code",
   "execution_count": 4,
   "metadata": {},
   "outputs": [],
   "source": [
    "f = open(\"hello.txt\")"
   ]
  },
  {
   "cell_type": "code",
   "execution_count": 2,
   "metadata": {},
   "outputs": [
    {
     "data": {
      "text/plain": [
       "'Python is very interesting\\nWe can do anything using python\\nIf you want to learn python in deep do practice'"
      ]
     },
     "execution_count": 2,
     "metadata": {},
     "output_type": "execute_result"
    }
   ],
   "source": [
    "f.read()  #shell_output"
   ]
  },
  {
   "cell_type": "code",
   "execution_count": 5,
   "metadata": {},
   "outputs": [
    {
     "name": "stdout",
     "output_type": "stream",
     "text": [
      "Python is very interesting\n",
      "We can do anything using python\n",
      "If you want to learn python in deep do practice\n"
     ]
    }
   ],
   "source": [
    "print(f.read())"
   ]
  },
  {
   "cell_type": "code",
   "execution_count": 6,
   "metadata": {},
   "outputs": [],
   "source": [
    "f.close()"
   ]
  },
  {
   "cell_type": "code",
   "execution_count": 8,
   "metadata": {},
   "outputs": [],
   "source": [
    "import os  #operating system  #sys module"
   ]
  },
  {
   "cell_type": "code",
   "execution_count": 9,
   "metadata": {},
   "outputs": [],
   "source": [
    "import sys"
   ]
  },
  {
   "cell_type": "code",
   "execution_count": 10,
   "metadata": {},
   "outputs": [
    {
     "name": "stdout",
     "output_type": "stream",
     "text": [
      "['__breakpointhook__', '__displayhook__', '__doc__', '__excepthook__', '__interactivehook__', '__loader__', '__name__', '__package__', '__spec__', '__stderr__', '__stdin__', '__stdout__', '_base_executable', '_clear_type_cache', '_current_frames', '_debugmallocstats', '_enablelegacywindowsfsencoding', '_framework', '_getframe', '_git', '_home', '_xoptions', 'api_version', 'argv', 'base_exec_prefix', 'base_prefix', 'breakpointhook', 'builtin_module_names', 'byteorder', 'call_tracing', 'callstats', 'copyright', 'displayhook', 'dllhandle', 'dont_write_bytecode', 'exc_info', 'excepthook', 'exec_prefix', 'executable', 'exit', 'flags', 'float_info', 'float_repr_style', 'get_asyncgen_hooks', 'get_coroutine_origin_tracking_depth', 'get_coroutine_wrapper', 'getallocatedblocks', 'getcheckinterval', 'getdefaultencoding', 'getfilesystemencodeerrors', 'getfilesystemencoding', 'getprofile', 'getrecursionlimit', 'getrefcount', 'getsizeof', 'getswitchinterval', 'gettrace', 'getwindowsversion', 'hash_info', 'hexversion', 'implementation', 'int_info', 'intern', 'is_finalizing', 'maxsize', 'maxunicode', 'meta_path', 'modules', 'path', 'path_hooks', 'path_importer_cache', 'platform', 'prefix', 'ps1', 'ps2', 'ps3', 'set_asyncgen_hooks', 'set_coroutine_origin_tracking_depth', 'set_coroutine_wrapper', 'setcheckinterval', 'setprofile', 'setrecursionlimit', 'setswitchinterval', 'settrace', 'stderr', 'stdin', 'stdout', 'thread_info', 'version', 'version_info', 'warnoptions', 'winver']\n"
     ]
    }
   ],
   "source": [
    "print(dir(sys))"
   ]
  },
  {
   "cell_type": "code",
   "execution_count": 12,
   "metadata": {},
   "outputs": [
    {
     "data": {
      "text/plain": [
       "'win32'"
      ]
     },
     "execution_count": 12,
     "metadata": {},
     "output_type": "execute_result"
    }
   ],
   "source": [
    "sys.platform"
   ]
  },
  {
   "cell_type": "code",
   "execution_count": 13,
   "metadata": {},
   "outputs": [
    {
     "ename": "SystemExit",
     "evalue": "",
     "output_type": "error",
     "traceback": [
      "An exception has occurred, use %tb to see the full traceback.\n",
      "\u001b[1;31mSystemExit\u001b[0m\n"
     ]
    },
    {
     "name": "stderr",
     "output_type": "stream",
     "text": [
      "C:\\Anaconda\\lib\\site-packages\\IPython\\core\\interactiveshell.py:3334: UserWarning: To exit: use 'exit', 'quit', or Ctrl-D.\n",
      "  warn(\"To exit: use 'exit', 'quit', or Ctrl-D.\", stacklevel=1)\n"
     ]
    }
   ],
   "source": [
    "sys.exit()"
   ]
  },
  {
   "cell_type": "code",
   "execution_count": 14,
   "metadata": {},
   "outputs": [
    {
     "ename": "SystemExit",
     "evalue": "1",
     "output_type": "error",
     "traceback": [
      "An exception has occurred, use %tb to see the full traceback.\n",
      "\u001b[1;31mSystemExit\u001b[0m\u001b[1;31m:\u001b[0m 1\n"
     ]
    }
   ],
   "source": [
    "sys.exit(1)"
   ]
  },
  {
   "cell_type": "code",
   "execution_count": 15,
   "metadata": {},
   "outputs": [
    {
     "ename": "TypeError",
     "evalue": "'list' object is not callable",
     "output_type": "error",
     "traceback": [
      "\u001b[1;31m---------------------------------------------------------------------\u001b[0m",
      "\u001b[1;31mTypeError\u001b[0m                           Traceback (most recent call last)",
      "\u001b[1;32m<ipython-input-15-6a43c16d8b07>\u001b[0m in \u001b[0;36m<module>\u001b[1;34m\u001b[0m\n\u001b[1;32m----> 1\u001b[1;33m \u001b[0msys\u001b[0m\u001b[1;33m.\u001b[0m\u001b[0margv\u001b[0m\u001b[1;33m(\u001b[0m\u001b[1;33m)\u001b[0m\u001b[1;33m\u001b[0m\u001b[1;33m\u001b[0m\u001b[0m\n\u001b[0m",
      "\u001b[1;31mTypeError\u001b[0m: 'list' object is not callable"
     ]
    }
   ],
   "source": [
    "sys.argv()"
   ]
  },
  {
   "cell_type": "code",
   "execution_count": 16,
   "metadata": {},
   "outputs": [
    {
     "data": {
      "text/plain": [
       "['C:\\\\Anaconda\\\\lib\\\\site-packages\\\\ipykernel_launcher.py',\n",
       " '-f',\n",
       " 'C:\\\\Users\\\\Simran Grover\\\\AppData\\\\Roaming\\\\jupyter\\\\runtime\\\\kernel-9ec70a83-c1e7-429f-80c6-1541c1c99a7a.json']"
      ]
     },
     "execution_count": 16,
     "metadata": {},
     "output_type": "execute_result"
    }
   ],
   "source": [
    "sys.argv"
   ]
  },
  {
   "cell_type": "code",
   "execution_count": 50,
   "metadata": {},
   "outputs": [
    {
     "name": "stdout",
     "output_type": "stream",
     "text": [
      "Overwriting sys1.py\n"
     ]
    }
   ],
   "source": [
    "%%writefile sys1.py\n",
    "\n",
    "import sys\n",
    "import os\n",
    "from time import sleep\n",
    "#print(sys.argv)\n",
    "def vote(name,age):\n",
    "    if age>=18:\n",
    "        print(f\"\\n {name} can vote\")\n",
    "    else:\n",
    "        print(f\"\\n {name} cannot vote\")\n",
    "        \n",
    "vote(sys.argv[1],int(sys.argv[2]))\n",
    "sleep(3)\n",
    "os.system(\"cls\")"
   ]
  },
  {
   "cell_type": "code",
   "execution_count": 22,
   "metadata": {},
   "outputs": [
    {
     "name": "stdout",
     "output_type": "stream",
     "text": [
      "['DirEntry', 'F_OK', 'MutableMapping', 'O_APPEND', 'O_BINARY', 'O_CREAT', 'O_EXCL', 'O_NOINHERIT', 'O_RANDOM', 'O_RDONLY', 'O_RDWR', 'O_SEQUENTIAL', 'O_SHORT_LIVED', 'O_TEMPORARY', 'O_TEXT', 'O_TRUNC', 'O_WRONLY', 'P_DETACH', 'P_NOWAIT', 'P_NOWAITO', 'P_OVERLAY', 'P_WAIT', 'PathLike', 'R_OK', 'SEEK_CUR', 'SEEK_END', 'SEEK_SET', 'TMP_MAX', 'W_OK', 'X_OK', '_Environ', '__all__', '__builtins__', '__cached__', '__doc__', '__file__', '__loader__', '__name__', '__package__', '__spec__', '_execvpe', '_exists', '_exit', '_fspath', '_get_exports_list', '_putenv', '_unsetenv', '_wrap_close', 'abc', 'abort', 'access', 'altsep', 'chdir', 'chmod', 'close', 'closerange', 'cpu_count', 'curdir', 'defpath', 'device_encoding', 'devnull', 'dup', 'dup2', 'environ', 'error', 'execl', 'execle', 'execlp', 'execlpe', 'execv', 'execve', 'execvp', 'execvpe', 'extsep', 'fdopen', 'fsdecode', 'fsencode', 'fspath', 'fstat', 'fsync', 'ftruncate', 'get_exec_path', 'get_handle_inheritable', 'get_inheritable', 'get_terminal_size', 'getcwd', 'getcwdb', 'getenv', 'getlogin', 'getpid', 'getppid', 'isatty', 'kill', 'linesep', 'link', 'listdir', 'lseek', 'lstat', 'makedirs', 'mkdir', 'name', 'open', 'pardir', 'path', 'pathsep', 'pipe', 'popen', 'putenv', 'read', 'readlink', 'remove', 'removedirs', 'rename', 'renames', 'replace', 'rmdir', 'scandir', 'sep', 'set_handle_inheritable', 'set_inheritable', 'spawnl', 'spawnle', 'spawnv', 'spawnve', 'st', 'startfile', 'stat', 'stat_result', 'statvfs_result', 'strerror', 'supports_bytes_environ', 'supports_dir_fd', 'supports_effective_ids', 'supports_fd', 'supports_follow_symlinks', 'symlink', 'sys', 'system', 'terminal_size', 'times', 'times_result', 'truncate', 'umask', 'uname_result', 'unlink', 'urandom', 'utime', 'waitpid', 'walk', 'write']\n"
     ]
    }
   ],
   "source": [
    "print(dir(os))"
   ]
  },
  {
   "cell_type": "code",
   "execution_count": 23,
   "metadata": {},
   "outputs": [
    {
     "data": {
      "text/plain": [
       "0"
      ]
     },
     "execution_count": 23,
     "metadata": {},
     "output_type": "execute_result"
    }
   ],
   "source": [
    "os.system(\"cls\")  #os.system(command) --> return either 0 or 1 --> 0 --> successfully run and 1 not done"
   ]
  },
  {
   "cell_type": "code",
   "execution_count": 27,
   "metadata": {},
   "outputs": [
    {
     "data": {
      "text/plain": [
       "1"
      ]
     },
     "execution_count": 27,
     "metadata": {},
     "output_type": "execute_result"
    }
   ],
   "source": [
    "os.system(\"ls\")"
   ]
  },
  {
   "cell_type": "code",
   "execution_count": 28,
   "metadata": {},
   "outputs": [
    {
     "data": {
      "text/plain": [
       "0"
      ]
     },
     "execution_count": 28,
     "metadata": {},
     "output_type": "execute_result"
    }
   ],
   "source": [
    "os.system(\"mkdir one\")"
   ]
  },
  {
   "cell_type": "code",
   "execution_count": 29,
   "metadata": {},
   "outputs": [
    {
     "name": "stdout",
     "output_type": "stream",
     "text": [
      " Volume in drive C is Windows\n",
      " Volume Serial Number is E08D-DAD9\n",
      "\n",
      " Directory of C:\\batches\\online_batch\\batch_7pm\\File_handling\n",
      "\n",
      "01-06-2020  19:52    <DIR>          .\n",
      "01-06-2020  19:52    <DIR>          ..\n",
      "01-06-2020  19:32    <DIR>          .ipynb_checkpoints\n",
      "29-05-2020  20:50            44,621 1. File_handling.ipynb\n",
      "01-06-2020  19:50             9,358 2. File_handling.ipynb\n",
      "29-05-2020  20:26               106 abc.txt\n",
      "29-05-2020  19:48               106 hello.txt\n",
      "29-05-2020  20:30                72 mydetails.txt\n",
      "01-06-2020  19:52    <DIR>          one\n",
      "29-05-2020  20:21                71 python.txt\n",
      "29-05-2020  20:47               166 Student_details.csv\n",
      "01-06-2020  19:50               269 sys1.py\n",
      "29-05-2020  20:01                 0 untitled.txt\n",
      "               9 File(s)         54,769 bytes\n",
      "               4 Dir(s)  63,947,235,328 bytes free\n"
     ]
    }
   ],
   "source": [
    "ls"
   ]
  },
  {
   "cell_type": "code",
   "execution_count": 30,
   "metadata": {},
   "outputs": [
    {
     "data": {
      "text/plain": [
       "0"
      ]
     },
     "execution_count": 30,
     "metadata": {},
     "output_type": "execute_result"
    }
   ],
   "source": [
    "os.system(\"cd one\")"
   ]
  },
  {
   "cell_type": "code",
   "execution_count": 31,
   "metadata": {},
   "outputs": [
    {
     "data": {
      "text/plain": [
       "'C:\\\\batches\\\\online_batch\\\\batch_7pm\\\\File_handling'"
      ]
     },
     "execution_count": 31,
     "metadata": {},
     "output_type": "execute_result"
    }
   ],
   "source": [
    "pwd"
   ]
  },
  {
   "cell_type": "code",
   "execution_count": 32,
   "metadata": {},
   "outputs": [
    {
     "name": "stdout",
     "output_type": "stream",
     "text": [
      " Volume in drive C is Windows\n",
      " Volume Serial Number is E08D-DAD9\n",
      "\n",
      " Directory of C:\\batches\\online_batch\\batch_7pm\\File_handling\n",
      "\n",
      "01-06-2020  19:52    <DIR>          .\n",
      "01-06-2020  19:52    <DIR>          ..\n",
      "01-06-2020  19:32    <DIR>          .ipynb_checkpoints\n",
      "29-05-2020  20:50            44,621 1. File_handling.ipynb\n",
      "01-06-2020  19:52            11,938 2. File_handling.ipynb\n",
      "29-05-2020  20:26               106 abc.txt\n",
      "29-05-2020  19:48               106 hello.txt\n",
      "29-05-2020  20:30                72 mydetails.txt\n",
      "01-06-2020  19:52    <DIR>          one\n",
      "29-05-2020  20:21                71 python.txt\n",
      "29-05-2020  20:47               166 Student_details.csv\n",
      "01-06-2020  19:50               269 sys1.py\n",
      "29-05-2020  20:01                 0 untitled.txt\n",
      "               9 File(s)         57,349 bytes\n",
      "               4 Dir(s)  63,945,068,544 bytes free\n"
     ]
    }
   ],
   "source": [
    "ls"
   ]
  },
  {
   "cell_type": "code",
   "execution_count": 33,
   "metadata": {},
   "outputs": [
    {
     "data": {
      "text/plain": [
       "0"
      ]
     },
     "execution_count": 33,
     "metadata": {},
     "output_type": "execute_result"
    }
   ],
   "source": [
    "os.system(\"chdir one\")"
   ]
  },
  {
   "cell_type": "code",
   "execution_count": 34,
   "metadata": {},
   "outputs": [
    {
     "data": {
      "text/plain": [
       "'C:\\\\batches\\\\online_batch\\\\batch_7pm\\\\File_handling'"
      ]
     },
     "execution_count": 34,
     "metadata": {},
     "output_type": "execute_result"
    }
   ],
   "source": [
    "pwd"
   ]
  },
  {
   "cell_type": "code",
   "execution_count": 35,
   "metadata": {},
   "outputs": [
    {
     "data": {
      "text/plain": [
       "0"
      ]
     },
     "execution_count": 35,
     "metadata": {},
     "output_type": "execute_result"
    }
   ],
   "source": [
    "os.system(\"chdir one\")"
   ]
  },
  {
   "cell_type": "code",
   "execution_count": 36,
   "metadata": {},
   "outputs": [
    {
     "name": "stdout",
     "output_type": "stream",
     "text": [
      " Volume in drive C is Windows\n",
      " Volume Serial Number is E08D-DAD9\n",
      "\n",
      " Directory of C:\\batches\\online_batch\\batch_7pm\\File_handling\n",
      "\n",
      "01-06-2020  19:52    <DIR>          .\n",
      "01-06-2020  19:52    <DIR>          ..\n",
      "01-06-2020  19:32    <DIR>          .ipynb_checkpoints\n",
      "29-05-2020  20:50            44,621 1. File_handling.ipynb\n",
      "01-06-2020  19:52            11,938 2. File_handling.ipynb\n",
      "29-05-2020  20:26               106 abc.txt\n",
      "29-05-2020  19:48               106 hello.txt\n",
      "29-05-2020  20:30                72 mydetails.txt\n",
      "01-06-2020  19:52    <DIR>          one\n",
      "29-05-2020  20:21                71 python.txt\n",
      "29-05-2020  20:47               166 Student_details.csv\n",
      "01-06-2020  19:50               269 sys1.py\n",
      "29-05-2020  20:01                 0 untitled.txt\n",
      "               9 File(s)         57,349 bytes\n",
      "               4 Dir(s)  63,941,861,376 bytes free\n"
     ]
    }
   ],
   "source": [
    "ls"
   ]
  },
  {
   "cell_type": "code",
   "execution_count": 39,
   "metadata": {},
   "outputs": [
    {
     "name": "stdout",
     "output_type": "stream",
     "text": [
      "\n",
      "\n",
      "Pinging www.google.com [172.217.160.196] with 32 bytes of data:\n",
      "\n",
      "Reply from 172.217.160.196: bytes=32 time=21ms TTL=57\n",
      "\n",
      "Reply from 172.217.160.196: bytes=32 time=21ms TTL=57\n",
      "\n",
      "Reply from 172.217.160.196: bytes=32 time=21ms TTL=57\n",
      "\n",
      "Reply from 172.217.160.196: bytes=32 time=19ms TTL=57\n",
      "\n",
      "\n",
      "\n",
      "Ping statistics for 172.217.160.196:\n",
      "\n",
      "    Packets: Sent = 4, Received = 4, Lost = 0 (0% loss),\n",
      "\n",
      "Approximate round trip times in milli-seconds:\n",
      "\n",
      "    Minimum = 19ms, Maximum = 21ms, Average = 20ms\n",
      "\n"
     ]
    }
   ],
   "source": [
    "i = os.popen(\"ping www.google.com\")\n",
    "for _ in i:\n",
    "    print(_)"
   ]
  },
  {
   "cell_type": "code",
   "execution_count": 41,
   "metadata": {},
   "outputs": [
    {
     "name": "stdout",
     "output_type": "stream",
     "text": [
      "\n",
      "\n",
      "Windows IP Configuration\n",
      "\n",
      "\n",
      "\n",
      "\n",
      "\n",
      "Ethernet adapter Ethernet 2:\n",
      "\n",
      "\n",
      "\n",
      "   Media State . . . . . . . . . . . : Media disconnected\n",
      "\n",
      "   Connection-specific DNS Suffix  . : www.tendawifi.com\n",
      "\n",
      "\n",
      "\n",
      "Ethernet adapter Npcap Loopback Adapter:\n",
      "\n",
      "\n",
      "\n",
      "   Connection-specific DNS Suffix  . : \n",
      "\n",
      "   Link-local IPv6 Address . . . . . : fe80::10f8:f6c5:c6b3:1ddf%9\n",
      "\n",
      "   Autoconfiguration IPv4 Address. . : 169.254.29.223\n",
      "\n",
      "   Subnet Mask . . . . . . . . . . . : 255.255.0.0\n",
      "\n",
      "   Default Gateway . . . . . . . . . : \n",
      "\n",
      "\n",
      "\n",
      "Wireless LAN adapter Local Area Connection* 1:\n",
      "\n",
      "\n",
      "\n",
      "   Media State . . . . . . . . . . . : Media disconnected\n",
      "\n",
      "   Connection-specific DNS Suffix  . : \n",
      "\n",
      "\n",
      "\n",
      "Wireless LAN adapter Local Area Connection* 11:\n",
      "\n",
      "\n",
      "\n",
      "   Media State . . . . . . . . . . . : Media disconnected\n",
      "\n",
      "   Connection-specific DNS Suffix  . : \n",
      "\n",
      "\n",
      "\n",
      "Wireless LAN adapter Wi-Fi:\n",
      "\n",
      "\n",
      "\n",
      "   Connection-specific DNS Suffix  . : \n",
      "\n",
      "   Link-local IPv6 Address . . . . . : fe80::b538:c1a0:3b6c:d403%10\n",
      "\n",
      "   IPv4 Address. . . . . . . . . . . : 192.168.1.4\n",
      "\n",
      "   Subnet Mask . . . . . . . . . . . : 255.255.255.0\n",
      "\n",
      "   Default Gateway . . . . . . . . . : 192.168.1.254\n",
      "\n"
     ]
    }
   ],
   "source": [
    "#popen --> it is used to run commands that you run on powershell, cmd\n",
    "i = os.popen(\"ipconfig\")\n",
    "for _ in i:\n",
    "    print(_)"
   ]
  },
  {
   "cell_type": "code",
   "execution_count": 43,
   "metadata": {},
   "outputs": [
    {
     "data": {
      "text/plain": [
       "'.'"
      ]
     },
     "execution_count": 43,
     "metadata": {},
     "output_type": "execute_result"
    }
   ],
   "source": [
    "os.curdir"
   ]
  },
  {
   "cell_type": "code",
   "execution_count": 45,
   "metadata": {},
   "outputs": [
    {
     "name": "stdout",
     "output_type": "stream",
     "text": [
      " Volume in drive C is Windows\n",
      " Volume Serial Number is E08D-DAD9\n",
      "\n",
      " Directory of C:\\batches\\online_batch\\batch_7pm\\File_handling\n",
      "\n",
      "01-06-2020  19:56    <DIR>          .\n",
      "01-06-2020  19:56    <DIR>          ..\n",
      "01-06-2020  19:32    <DIR>          .ipynb_checkpoints\n",
      "29-05-2020  20:50            44,621 1. File_handling.ipynb\n",
      "01-06-2020  19:56            16,600 2. File_handling.ipynb\n",
      "29-05-2020  20:26               106 abc.txt\n",
      "29-05-2020  19:48               106 hello.txt\n",
      "29-05-2020  20:30                72 mydetails.txt\n",
      "01-06-2020  19:52    <DIR>          one\n",
      "29-05-2020  20:21                71 python.txt\n",
      "29-05-2020  20:47               166 Student_details.csv\n",
      "01-06-2020  19:50               269 sys1.py\n",
      "29-05-2020  20:01                 0 untitled.txt\n",
      "               9 File(s)         62,011 bytes\n",
      "               4 Dir(s)  63,909,683,200 bytes free\n"
     ]
    }
   ],
   "source": [
    "ls"
   ]
  },
  {
   "cell_type": "code",
   "execution_count": 44,
   "metadata": {},
   "outputs": [
    {
     "data": {
      "text/plain": [
       "['.ipynb_checkpoints',\n",
       " '1. File_handling.ipynb',\n",
       " '2. File_handling.ipynb',\n",
       " 'abc.txt',\n",
       " 'hello.txt',\n",
       " 'mydetails.txt',\n",
       " 'one',\n",
       " 'python.txt',\n",
       " 'Student_details.csv',\n",
       " 'sys1.py',\n",
       " 'untitled.txt']"
      ]
     },
     "execution_count": 44,
     "metadata": {},
     "output_type": "execute_result"
    }
   ],
   "source": [
    "os.listdir()  #listdir(default path or present working directory) "
   ]
  },
  {
   "cell_type": "code",
   "execution_count": 46,
   "metadata": {},
   "outputs": [
    {
     "data": {
      "text/plain": [
       "'C:\\\\batches\\\\online_batch\\\\batch_7pm\\\\File_handling'"
      ]
     },
     "execution_count": 46,
     "metadata": {},
     "output_type": "execute_result"
    }
   ],
   "source": [
    "pwd"
   ]
  },
  {
   "cell_type": "code",
   "execution_count": 47,
   "metadata": {},
   "outputs": [
    {
     "data": {
      "text/plain": [
       "['.ipynb_checkpoints',\n",
       " 'advance_batch',\n",
       " 'batch9am',\n",
       " 'batch_7pm',\n",
       " 'Data_types.ipynb',\n",
       " 'djangoproject',\n",
       " 'djangoproject.zip',\n",
       " 'First_class.ipynb',\n",
       " 'flaskproject',\n",
       " 'flaskproject.zip',\n",
       " 'one',\n",
       " 'one.py',\n",
       " 'techno',\n",
       " 'two.py',\n",
       " '__pycache__']"
      ]
     },
     "execution_count": 47,
     "metadata": {},
     "output_type": "execute_result"
    }
   ],
   "source": [
    "os.listdir(\"C://batches//online_batch\")"
   ]
  },
  {
   "cell_type": "code",
   "execution_count": 51,
   "metadata": {},
   "outputs": [],
   "source": [
    "i = os.popen(\"ping www.google.com\")"
   ]
  },
  {
   "cell_type": "code",
   "execution_count": 52,
   "metadata": {},
   "outputs": [
    {
     "name": "stdout",
     "output_type": "stream",
     "text": [
      "<os._wrap_close object at 0x000001E3428FA988>\n"
     ]
    }
   ],
   "source": [
    "print(i)"
   ]
  },
  {
   "cell_type": "code",
   "execution_count": 53,
   "metadata": {},
   "outputs": [
    {
     "name": "stdout",
     "output_type": "stream",
     "text": [
      "\n",
      "\n",
      "Pinging www.google.com [172.217.160.196] with 32 bytes of data:\n",
      "\n",
      "Reply from 172.217.160.196: bytes=32 time=19ms TTL=57\n",
      "\n",
      "Reply from 172.217.160.196: bytes=32 time=22ms TTL=57\n",
      "\n",
      "Reply from 172.217.160.196: bytes=32 time=19ms TTL=57\n",
      "\n",
      "Reply from 172.217.160.196: bytes=32 time=20ms TTL=57\n",
      "\n",
      "\n",
      "\n",
      "Ping statistics for 172.217.160.196:\n",
      "\n",
      "    Packets: Sent = 4, Received = 4, Lost = 0 (0% loss),\n",
      "\n",
      "Approximate round trip times in milli-seconds:\n",
      "\n",
      "    Minimum = 19ms, Maximum = 22ms, Average = 20ms\n",
      "\n"
     ]
    }
   ],
   "source": [
    "for _ in i:\n",
    "    print(_)"
   ]
  },
  {
   "cell_type": "code",
   "execution_count": 54,
   "metadata": {},
   "outputs": [
    {
     "name": "stdout",
     "output_type": "stream",
     "text": [
      "\n",
      "\n",
      "Windows IP Configuration\n",
      "\n",
      "\n",
      "\n",
      "\n",
      "\n",
      "Ethernet adapter Ethernet 2:\n",
      "\n",
      "\n",
      "\n",
      "   Media State . . . . . . . . . . . : Media disconnected\n",
      "\n",
      "   Connection-specific DNS Suffix  . : www.tendawifi.com\n",
      "\n",
      "\n",
      "\n",
      "Ethernet adapter Npcap Loopback Adapter:\n",
      "\n",
      "\n",
      "\n",
      "   Connection-specific DNS Suffix  . : \n",
      "\n",
      "   Link-local IPv6 Address . . . . . : fe80::10f8:f6c5:c6b3:1ddf%9\n",
      "\n",
      "   Autoconfiguration IPv4 Address. . : 169.254.29.223\n",
      "\n",
      "   Subnet Mask . . . . . . . . . . . : 255.255.0.0\n",
      "\n",
      "   Default Gateway . . . . . . . . . : \n",
      "\n",
      "\n",
      "\n",
      "Wireless LAN adapter Local Area Connection* 1:\n",
      "\n",
      "\n",
      "\n",
      "   Media State . . . . . . . . . . . : Media disconnected\n",
      "\n",
      "   Connection-specific DNS Suffix  . : \n",
      "\n",
      "\n",
      "\n",
      "Wireless LAN adapter Local Area Connection* 11:\n",
      "\n",
      "\n",
      "\n",
      "   Media State . . . . . . . . . . . : Media disconnected\n",
      "\n",
      "   Connection-specific DNS Suffix  . : \n",
      "\n",
      "\n",
      "\n",
      "Wireless LAN adapter Wi-Fi:\n",
      "\n",
      "\n",
      "\n",
      "   Connection-specific DNS Suffix  . : \n",
      "\n",
      "   Link-local IPv6 Address . . . . . : fe80::b538:c1a0:3b6c:d403%10\n",
      "\n",
      "   IPv4 Address. . . . . . . . . . . : 192.168.1.4\n",
      "\n",
      "   Subnet Mask . . . . . . . . . . . : 255.255.255.0\n",
      "\n",
      "   Default Gateway . . . . . . . . . : 192.168.1.254\n",
      "\n"
     ]
    }
   ],
   "source": [
    "o = os.popen(\"ipconfig\")\n",
    "for _ in o:\n",
    "    print(_)"
   ]
  },
  {
   "cell_type": "code",
   "execution_count": 55,
   "metadata": {},
   "outputs": [
    {
     "name": "stdout",
     "output_type": "stream",
     "text": [
      " Volume in drive C is Windows\n",
      " Volume Serial Number is E08D-DAD9\n",
      "\n",
      " Directory of C:\\batches\\online_batch\\batch_7pm\\File_handling\n",
      "\n",
      "01-06-2020  20:10    <DIR>          .\n",
      "01-06-2020  20:10    <DIR>          ..\n",
      "01-06-2020  19:32    <DIR>          .ipynb_checkpoints\n",
      "29-05-2020  20:50            44,621 1. File_handling.ipynb\n",
      "01-06-2020  20:10            25,695 2. File_handling.ipynb\n",
      "29-05-2020  20:26               106 abc.txt\n",
      "29-05-2020  19:48               106 hello.txt\n",
      "29-05-2020  20:30                72 mydetails.txt\n",
      "01-06-2020  19:52    <DIR>          one\n",
      "29-05-2020  20:21                71 python.txt\n",
      "29-05-2020  20:47               166 Student_details.csv\n",
      "01-06-2020  20:03               269 sys1.py\n",
      "29-05-2020  20:01                 0 untitled.txt\n",
      "               9 File(s)         71,106 bytes\n",
      "               4 Dir(s)  63,822,487,552 bytes free\n"
     ]
    }
   ],
   "source": [
    "ls"
   ]
  },
  {
   "cell_type": "code",
   "execution_count": 56,
   "metadata": {},
   "outputs": [
    {
     "data": {
      "text/plain": [
       "['.ipynb_checkpoints',\n",
       " '1. File_handling.ipynb',\n",
       " '2. File_handling.ipynb',\n",
       " 'abc.txt',\n",
       " 'hello.txt',\n",
       " 'mydetails.txt',\n",
       " 'one',\n",
       " 'python.txt',\n",
       " 'Student_details.csv',\n",
       " 'sys1.py',\n",
       " 'untitled.txt']"
      ]
     },
     "execution_count": 56,
     "metadata": {},
     "output_type": "execute_result"
    }
   ],
   "source": [
    "os.listdir() #listdir(pwd)"
   ]
  },
  {
   "cell_type": "code",
   "execution_count": 57,
   "metadata": {},
   "outputs": [
    {
     "data": {
      "text/plain": [
       "'C:\\\\batches\\\\online_batch\\\\batch_7pm\\\\File_handling'"
      ]
     },
     "execution_count": 57,
     "metadata": {},
     "output_type": "execute_result"
    }
   ],
   "source": [
    "pwd"
   ]
  },
  {
   "cell_type": "code",
   "execution_count": 58,
   "metadata": {},
   "outputs": [
    {
     "data": {
      "text/plain": [
       "['.ipynb_checkpoints',\n",
       " '10. Sets.ipynb',\n",
       " '11. Type_conversion.ipynb',\n",
       " '12. Operators.ipynb',\n",
       " '13.Control_Statements.ipynb',\n",
       " '14. if_else_2.ipynb',\n",
       " '15. if_else_3.ipynb',\n",
       " '16. While_Loop_1.ipynb',\n",
       " '17. While_loop_2.ipynb',\n",
       " '18. while_loop_3.ipynb',\n",
       " '19. nested_while.ipynb',\n",
       " '2. Strings.ipynb',\n",
       " '20. Nested_while_2.ipynb',\n",
       " '21. For_loop_1.ipynb',\n",
       " '22. For_loop_2.ipynb',\n",
       " '23. For_loop_practice.ipynb',\n",
       " '24. Functions_1.ipynb',\n",
       " '26. Functions_2.ipynb',\n",
       " '28. Functions_4.ipynb',\n",
       " '29. Special_Function.ipynb',\n",
       " '3. Strings.ipynb',\n",
       " '31. Closures and decorators.ipynb',\n",
       " '4. Lists.ipynb',\n",
       " '6. lists_tuple.ipynb',\n",
       " '7. Dictionary.ipynb',\n",
       " '8. Dictionary.ipynb',\n",
       " '9. Sets.ipynb',\n",
       " 'abc.txt',\n",
       " 'Backup',\n",
       " 'bank_app.py',\n",
       " 'break_statement_flowchart.png',\n",
       " 'circles.py',\n",
       " 'circles1.py',\n",
       " 'Class_1.ipynb',\n",
       " 'continue-statement-flowchart.png',\n",
       " 'Data_types.ipynb',\n",
       " 'decorators.ipynb',\n",
       " 'Doubts.ipynb',\n",
       " 'File_handling',\n",
       " 'File_handling.ipynb',\n",
       " 'Functions_2.ipynb',\n",
       " 'Functions_3.ipynb',\n",
       " 'Hacker_rank_ques.ipynb',\n",
       " 'Lists_2.ipynb',\n",
       " 'matrix.py',\n",
       " 'myfunc.py',\n",
       " 'one.txt',\n",
       " 'Recursion.ipynb',\n",
       " 'square.py',\n",
       " 's_p_s.py',\n",
       " 't1.py',\n",
       " 't3.py',\n",
       " 'Untitled.ipynb',\n",
       " '__pycache__']"
      ]
     },
     "execution_count": 58,
     "metadata": {},
     "output_type": "execute_result"
    }
   ],
   "source": [
    "os.listdir(\"C://batches//online_batch//batch_7pm\")  #listdir(path)"
   ]
  },
  {
   "cell_type": "code",
   "execution_count": 59,
   "metadata": {},
   "outputs": [
    {
     "data": {
      "text/plain": [
       "['.ipynb_checkpoints',\n",
       " 'assignment.docx',\n",
       " 'Assignment1.docx',\n",
       " 'Assignment10.docx',\n",
       " 'Assignment2.docx',\n",
       " 'Assignment3.docx',\n",
       " 'Assignment4.docx',\n",
       " 'Assignment5.docx',\n",
       " 'Assignment6.docx',\n",
       " 'Assignment7.docx',\n",
       " 'Assignment8.docx',\n",
       " 'Assignment9.docx',\n",
       " 'assign_4.ipynb',\n",
       " 'excel_file.docx',\n",
       " 'excel_solution.ipynb',\n",
       " 'Mysheet.xlsx',\n",
       " 'Mysheet2.xlsx',\n",
       " 'OOPs_assignment.ipynb',\n",
       " 'Sheet1.xlsx',\n",
       " 'testsheet.xlsx',\n",
       " 'Untitled.ipynb']"
      ]
     },
     "execution_count": 59,
     "metadata": {},
     "output_type": "execute_result"
    }
   ],
   "source": [
    "os.listdir(\"G://assignment/\")"
   ]
  },
  {
   "cell_type": "code",
   "execution_count": 60,
   "metadata": {},
   "outputs": [],
   "source": [
    "os.chdir(\"one\")  #chdir(directory_name)"
   ]
  },
  {
   "cell_type": "code",
   "execution_count": 61,
   "metadata": {},
   "outputs": [
    {
     "data": {
      "text/plain": [
       "'C:\\\\batches\\\\online_batch\\\\batch_7pm\\\\File_handling\\\\one'"
      ]
     },
     "execution_count": 61,
     "metadata": {},
     "output_type": "execute_result"
    }
   ],
   "source": [
    "pwd"
   ]
  },
  {
   "cell_type": "code",
   "execution_count": 62,
   "metadata": {},
   "outputs": [
    {
     "data": {
      "text/plain": [
       "[]"
      ]
     },
     "execution_count": 62,
     "metadata": {},
     "output_type": "execute_result"
    }
   ],
   "source": [
    "os.listdir()"
   ]
  },
  {
   "cell_type": "code",
   "execution_count": 64,
   "metadata": {},
   "outputs": [
    {
     "ename": "FileNotFoundError",
     "evalue": "[WinError 2] The system cannot find the file specified: 'folders'",
     "output_type": "error",
     "traceback": [
      "\u001b[1;31m---------------------------------------------------------------------\u001b[0m",
      "\u001b[1;31mFileNotFoundError\u001b[0m                   Traceback (most recent call last)",
      "\u001b[1;32m<ipython-input-64-034768bb86a0>\u001b[0m in \u001b[0;36m<module>\u001b[1;34m\u001b[0m\n\u001b[1;32m----> 1\u001b[1;33m \u001b[0mos\u001b[0m\u001b[1;33m.\u001b[0m\u001b[0mchdir\u001b[0m\u001b[1;33m(\u001b[0m\u001b[1;34m\"folders\"\u001b[0m\u001b[1;33m)\u001b[0m\u001b[1;33m\u001b[0m\u001b[1;33m\u001b[0m\u001b[0m\n\u001b[0m",
      "\u001b[1;31mFileNotFoundError\u001b[0m: [WinError 2] The system cannot find the file specified: 'folders'"
     ]
    }
   ],
   "source": [
    "os.chdir(\"folders\")"
   ]
  },
  {
   "cell_type": "code",
   "execution_count": 65,
   "metadata": {},
   "outputs": [],
   "source": [
    "os.mkdir(\"folders\")"
   ]
  },
  {
   "cell_type": "code",
   "execution_count": 66,
   "metadata": {},
   "outputs": [],
   "source": [
    "os.chdir(\"folders\")"
   ]
  },
  {
   "cell_type": "code",
   "execution_count": 67,
   "metadata": {},
   "outputs": [
    {
     "name": "stdout",
     "output_type": "stream",
     "text": [
      "['DirEntry', 'F_OK', 'MutableMapping', 'O_APPEND', 'O_BINARY', 'O_CREAT', 'O_EXCL', 'O_NOINHERIT', 'O_RANDOM', 'O_RDONLY', 'O_RDWR', 'O_SEQUENTIAL', 'O_SHORT_LIVED', 'O_TEMPORARY', 'O_TEXT', 'O_TRUNC', 'O_WRONLY', 'P_DETACH', 'P_NOWAIT', 'P_NOWAITO', 'P_OVERLAY', 'P_WAIT', 'PathLike', 'R_OK', 'SEEK_CUR', 'SEEK_END', 'SEEK_SET', 'TMP_MAX', 'W_OK', 'X_OK', '_Environ', '__all__', '__builtins__', '__cached__', '__doc__', '__file__', '__loader__', '__name__', '__package__', '__spec__', '_execvpe', '_exists', '_exit', '_fspath', '_get_exports_list', '_putenv', '_unsetenv', '_wrap_close', 'abc', 'abort', 'access', 'altsep', 'chdir', 'chmod', 'close', 'closerange', 'cpu_count', 'curdir', 'defpath', 'device_encoding', 'devnull', 'dup', 'dup2', 'environ', 'error', 'execl', 'execle', 'execlp', 'execlpe', 'execv', 'execve', 'execvp', 'execvpe', 'extsep', 'fdopen', 'fsdecode', 'fsencode', 'fspath', 'fstat', 'fsync', 'ftruncate', 'get_exec_path', 'get_handle_inheritable', 'get_inheritable', 'get_terminal_size', 'getcwd', 'getcwdb', 'getenv', 'getlogin', 'getpid', 'getppid', 'isatty', 'kill', 'linesep', 'link', 'listdir', 'lseek', 'lstat', 'makedirs', 'mkdir', 'name', 'open', 'pardir', 'path', 'pathsep', 'pipe', 'popen', 'putenv', 'read', 'readlink', 'remove', 'removedirs', 'rename', 'renames', 'replace', 'rmdir', 'scandir', 'sep', 'set_handle_inheritable', 'set_inheritable', 'spawnl', 'spawnle', 'spawnv', 'spawnve', 'st', 'startfile', 'stat', 'stat_result', 'statvfs_result', 'strerror', 'supports_bytes_environ', 'supports_dir_fd', 'supports_effective_ids', 'supports_fd', 'supports_follow_symlinks', 'symlink', 'sys', 'system', 'terminal_size', 'times', 'times_result', 'truncate', 'umask', 'uname_result', 'unlink', 'urandom', 'utime', 'waitpid', 'walk', 'write']\n"
     ]
    }
   ],
   "source": [
    "print(dir(os))"
   ]
  },
  {
   "cell_type": "code",
   "execution_count": 68,
   "metadata": {},
   "outputs": [
    {
     "data": {
      "text/plain": [
       "'C:\\\\batches\\\\online_batch\\\\batch_7pm\\\\File_handling\\\\one\\\\folders'"
      ]
     },
     "execution_count": 68,
     "metadata": {},
     "output_type": "execute_result"
    }
   ],
   "source": [
    "os.getcwd()"
   ]
  },
  {
   "cell_type": "code",
   "execution_count": 71,
   "metadata": {},
   "outputs": [
    {
     "data": {
      "text/plain": [
       "[]"
      ]
     },
     "execution_count": 71,
     "metadata": {},
     "output_type": "execute_result"
    }
   ],
   "source": [
    "os.listdir()"
   ]
  },
  {
   "cell_type": "code",
   "execution_count": 72,
   "metadata": {},
   "outputs": [],
   "source": [
    "os.chdir(\"..\")   #move me to the parent directory"
   ]
  },
  {
   "cell_type": "code",
   "execution_count": 73,
   "metadata": {},
   "outputs": [
    {
     "data": {
      "text/plain": [
       "'C:\\\\batches\\\\online_batch\\\\batch_7pm\\\\File_handling\\\\one'"
      ]
     },
     "execution_count": 73,
     "metadata": {},
     "output_type": "execute_result"
    }
   ],
   "source": [
    "os.getcwd()"
   ]
  },
  {
   "cell_type": "code",
   "execution_count": 74,
   "metadata": {},
   "outputs": [],
   "source": [
    "s = os.getcwd()"
   ]
  },
  {
   "cell_type": "code",
   "execution_count": 75,
   "metadata": {},
   "outputs": [
    {
     "data": {
      "text/plain": [
       "str"
      ]
     },
     "execution_count": 75,
     "metadata": {},
     "output_type": "execute_result"
    }
   ],
   "source": [
    "type(s)"
   ]
  },
  {
   "cell_type": "code",
   "execution_count": 77,
   "metadata": {},
   "outputs": [
    {
     "data": {
      "text/plain": [
       "['C:', 'batches', 'online_batch', 'batch_7pm', 'File_handling', 'one']"
      ]
     },
     "execution_count": 77,
     "metadata": {},
     "output_type": "execute_result"
    }
   ],
   "source": [
    "s.split(\"\\\\\")"
   ]
  },
  {
   "cell_type": "code",
   "execution_count": 78,
   "metadata": {},
   "outputs": [
    {
     "data": {
      "text/plain": [
       "'one'"
      ]
     },
     "execution_count": 78,
     "metadata": {},
     "output_type": "execute_result"
    }
   ],
   "source": [
    "s.split(\"\\\\\")[-1]"
   ]
  },
  {
   "cell_type": "code",
   "execution_count": 79,
   "metadata": {},
   "outputs": [],
   "source": [
    "os.chdir(\"C://batches//online_batch/batch_7pm/\")"
   ]
  },
  {
   "cell_type": "code",
   "execution_count": 81,
   "metadata": {},
   "outputs": [
    {
     "data": {
      "text/plain": [
       "'C:\\\\batches\\\\online_batch\\\\batch_7pm'"
      ]
     },
     "execution_count": 81,
     "metadata": {},
     "output_type": "execute_result"
    }
   ],
   "source": [
    "os.getcwd()"
   ]
  },
  {
   "cell_type": "code",
   "execution_count": 83,
   "metadata": {},
   "outputs": [
    {
     "data": {
      "text/plain": [
       "'22. For_loop_2.ipynb'"
      ]
     },
     "execution_count": 83,
     "metadata": {},
     "output_type": "execute_result"
    }
   ],
   "source": [
    "os.listdir()[14]"
   ]
  },
  {
   "cell_type": "code",
   "execution_count": 85,
   "metadata": {},
   "outputs": [
    {
     "data": {
      "text/plain": [
       "'ipynb'"
      ]
     },
     "execution_count": 85,
     "metadata": {},
     "output_type": "execute_result"
    }
   ],
   "source": [
    "os.listdir()[14].split(\".\")[-1]"
   ]
  },
  {
   "cell_type": "code",
   "execution_count": 86,
   "metadata": {},
   "outputs": [],
   "source": [
    "os.chdir(\"G://\")"
   ]
  },
  {
   "cell_type": "code",
   "execution_count": 87,
   "metadata": {},
   "outputs": [
    {
     "data": {
      "text/plain": [
       "'G:\\\\'"
      ]
     },
     "execution_count": 87,
     "metadata": {},
     "output_type": "execute_result"
    }
   ],
   "source": [
    "pwd"
   ]
  },
  {
   "cell_type": "code",
   "execution_count": 88,
   "metadata": {},
   "outputs": [],
   "source": [
    "os.chdir(\"blogapp/\")"
   ]
  },
  {
   "cell_type": "code",
   "execution_count": 89,
   "metadata": {},
   "outputs": [
    {
     "name": "stdout",
     "output_type": "stream",
     "text": [
      " Volume in drive G is Local Disk\n",
      " Volume Serial Number is F4FC-29FD\n",
      "\n",
      " Directory of G:\\blogapp\n",
      "\n",
      "09-05-2020  12:44    <DIR>          .\n",
      "09-05-2020  12:44    <DIR>          ..\n",
      "01-05-2020  17:55    <DIR>          abc\n",
      "24-05-2019  14:37    <DIR>          newproject\n",
      "09-05-2020  12:16                52 one.py\n",
      "               1 File(s)             52 bytes\n",
      "               4 Dir(s)  333,743,353,856 bytes free\n"
     ]
    }
   ],
   "source": [
    "ls"
   ]
  },
  {
   "cell_type": "code",
   "execution_count": 90,
   "metadata": {},
   "outputs": [],
   "source": [
    "#C://batches//online_batch//batch_7pm//file_handling --> G://blogapp"
   ]
  },
  {
   "cell_type": "code",
   "execution_count": 91,
   "metadata": {},
   "outputs": [],
   "source": [
    "os.chdir(\"newproject/\")"
   ]
  },
  {
   "cell_type": "code",
   "execution_count": 92,
   "metadata": {},
   "outputs": [
    {
     "data": {
      "text/plain": [
       "['app1',\n",
       " 'blog',\n",
       " 'db.sqlite3',\n",
       " 'debug.txt',\n",
       " 'manage.py',\n",
       " 'newproject',\n",
       " 'static',\n",
       " 'templates']"
      ]
     },
     "execution_count": 92,
     "metadata": {},
     "output_type": "execute_result"
    }
   ],
   "source": [
    "os.listdir()"
   ]
  },
  {
   "cell_type": "code",
   "execution_count": 93,
   "metadata": {},
   "outputs": [],
   "source": [
    "os.chdir(\"..\")"
   ]
  },
  {
   "cell_type": "code",
   "execution_count": 94,
   "metadata": {},
   "outputs": [
    {
     "data": {
      "text/plain": [
       "'G:\\\\blogapp'"
      ]
     },
     "execution_count": 94,
     "metadata": {},
     "output_type": "execute_result"
    }
   ],
   "source": [
    "os.getcwd()"
   ]
  },
  {
   "cell_type": "code",
   "execution_count": 95,
   "metadata": {},
   "outputs": [],
   "source": [
    "os.mkdir(\"myfolder\")"
   ]
  },
  {
   "cell_type": "code",
   "execution_count": 96,
   "metadata": {},
   "outputs": [],
   "source": [
    "os.chdir(\"myfolder\")"
   ]
  },
  {
   "cell_type": "code",
   "execution_count": 97,
   "metadata": {},
   "outputs": [
    {
     "data": {
      "text/plain": [
       "[]"
      ]
     },
     "execution_count": 97,
     "metadata": {},
     "output_type": "execute_result"
    }
   ],
   "source": [
    "os.listdir()"
   ]
  },
  {
   "cell_type": "code",
   "execution_count": 98,
   "metadata": {},
   "outputs": [],
   "source": [
    "f = open(\"one.txt\",\"w\")\n",
    "data = \"\"\"\n",
    "This is my file using python file handling\n",
    "I changed by directory using this path and python \n",
    "Thats why i Love Python\n",
    "\"\"\"\n",
    "f.write(data)\n",
    "f.close()"
   ]
  },
  {
   "cell_type": "code",
   "execution_count": 99,
   "metadata": {},
   "outputs": [
    {
     "data": {
      "text/plain": [
       "['one.txt']"
      ]
     },
     "execution_count": 99,
     "metadata": {},
     "output_type": "execute_result"
    }
   ],
   "source": [
    "os.listdir()"
   ]
  },
  {
   "cell_type": "code",
   "execution_count": 100,
   "metadata": {},
   "outputs": [
    {
     "name": "stdout",
     "output_type": "stream",
     "text": [
      "\n",
      "This is my file using python file handling\n",
      "I changed by directory using this path and python \n",
      "Thats why i Love Python\n",
      "\n"
     ]
    }
   ],
   "source": [
    "f = open(\"one.txt\")\n",
    "print(f.read())\n",
    "f.close()"
   ]
  },
  {
   "cell_type": "code",
   "execution_count": 101,
   "metadata": {},
   "outputs": [
    {
     "data": {
      "text/plain": [
       "False"
      ]
     },
     "execution_count": 101,
     "metadata": {},
     "output_type": "execute_result"
    }
   ],
   "source": [
    "os.path.exists(\"C://aouhoijpijfijepijeij\")  #it will check whether the path given as argument exists in your folder or not"
   ]
  },
  {
   "cell_type": "code",
   "execution_count": 102,
   "metadata": {},
   "outputs": [
    {
     "data": {
      "text/plain": [
       "True"
      ]
     },
     "execution_count": 102,
     "metadata": {},
     "output_type": "execute_result"
    }
   ],
   "source": [
    "os.path.exists(\"C://batches//online_batch\")"
   ]
  },
  {
   "cell_type": "code",
   "execution_count": 103,
   "metadata": {},
   "outputs": [
    {
     "data": {
      "text/plain": [
       "True"
      ]
     },
     "execution_count": 103,
     "metadata": {},
     "output_type": "execute_result"
    }
   ],
   "source": [
    "os.path.exists(\"C://batches//batch5pm\")"
   ]
  },
  {
   "cell_type": "code",
   "execution_count": 104,
   "metadata": {},
   "outputs": [
    {
     "data": {
      "text/plain": [
       "False"
      ]
     },
     "execution_count": 104,
     "metadata": {},
     "output_type": "execute_result"
    }
   ],
   "source": [
    "os.path.exists(\"C://batches//batch5pm//abracadabra\")"
   ]
  },
  {
   "cell_type": "code",
   "execution_count": 105,
   "metadata": {},
   "outputs": [
    {
     "data": {
      "text/plain": [
       "'G:\\\\blogapp\\\\myfolder'"
      ]
     },
     "execution_count": 105,
     "metadata": {},
     "output_type": "execute_result"
    }
   ],
   "source": [
    "pwd"
   ]
  },
  {
   "cell_type": "code",
   "execution_count": 107,
   "metadata": {},
   "outputs": [
    {
     "data": {
      "text/plain": [
       "True"
      ]
     },
     "execution_count": 107,
     "metadata": {},
     "output_type": "execute_result"
    }
   ],
   "source": [
    "os.path.exists('G:\\\\blogapp\\\\myfolder\\\\one.txt')"
   ]
  },
  {
   "cell_type": "code",
   "execution_count": 108,
   "metadata": {},
   "outputs": [
    {
     "data": {
      "text/plain": [
       "False"
      ]
     },
     "execution_count": 108,
     "metadata": {},
     "output_type": "execute_result"
    }
   ],
   "source": [
    "os.path.exists('G:\\\\blogapp\\\\myfolder\\\\two.txt')"
   ]
  },
  {
   "cell_type": "code",
   "execution_count": 110,
   "metadata": {},
   "outputs": [
    {
     "data": {
      "text/plain": [
       "True"
      ]
     },
     "execution_count": 110,
     "metadata": {},
     "output_type": "execute_result"
    }
   ],
   "source": [
    "os.path.isfile(\"G://blogapp//myfolder//one.txt\")"
   ]
  },
  {
   "cell_type": "code",
   "execution_count": 113,
   "metadata": {},
   "outputs": [
    {
     "data": {
      "text/plain": [
       "False"
      ]
     },
     "execution_count": 113,
     "metadata": {},
     "output_type": "execute_result"
    }
   ],
   "source": [
    "os.path.isfile('G:\\\\blogapp\\\\myfolder\\\\one')"
   ]
  },
  {
   "cell_type": "code",
   "execution_count": 114,
   "metadata": {},
   "outputs": [
    {
     "data": {
      "text/plain": [
       "False"
      ]
     },
     "execution_count": 114,
     "metadata": {},
     "output_type": "execute_result"
    }
   ],
   "source": [
    "os.path.isfile('G:\\\\blogapp\\\\myfolder')"
   ]
  },
  {
   "cell_type": "code",
   "execution_count": 115,
   "metadata": {},
   "outputs": [
    {
     "data": {
      "text/plain": [
       "True"
      ]
     },
     "execution_count": 115,
     "metadata": {},
     "output_type": "execute_result"
    }
   ],
   "source": [
    "os.path.isdir('G:\\\\blogapp\\\\myfolder')"
   ]
  },
  {
   "cell_type": "code",
   "execution_count": 117,
   "metadata": {},
   "outputs": [
    {
     "data": {
      "text/plain": [
       "True"
      ]
     },
     "execution_count": 117,
     "metadata": {},
     "output_type": "execute_result"
    }
   ],
   "source": [
    "os.path.isdir(os.getcwd())"
   ]
  },
  {
   "cell_type": "code",
   "execution_count": 118,
   "metadata": {},
   "outputs": [
    {
     "data": {
      "text/plain": [
       "True"
      ]
     },
     "execution_count": 118,
     "metadata": {},
     "output_type": "execute_result"
    }
   ],
   "source": [
    "os.path.isdir(\"C://batches//online_batch//batch_7pm\")"
   ]
  },
  {
   "cell_type": "code",
   "execution_count": 119,
   "metadata": {},
   "outputs": [],
   "source": [
    "#C://batches//online_batch//batch_7pm//one.txt"
   ]
  },
  {
   "cell_type": "code",
   "execution_count": 120,
   "metadata": {},
   "outputs": [],
   "source": [
    "os.chdir(\"C://batches//online_batch//batch_7pm//file_handling\")"
   ]
  },
  {
   "cell_type": "code",
   "execution_count": 122,
   "metadata": {},
   "outputs": [
    {
     "data": {
      "text/plain": [
       "['.ipynb_checkpoints',\n",
       " '1. File_handling.ipynb',\n",
       " '2. File_handling.ipynb',\n",
       " 'abc.txt',\n",
       " 'hello.txt',\n",
       " 'mydetails.txt',\n",
       " 'one',\n",
       " 'python.txt',\n",
       " 'Student_details.csv',\n",
       " 'sys1.py',\n",
       " 'untitled.txt']"
      ]
     },
     "execution_count": 122,
     "metadata": {},
     "output_type": "execute_result"
    }
   ],
   "source": [
    "os.listdir()"
   ]
  },
  {
   "cell_type": "code",
   "execution_count": 138,
   "metadata": {},
   "outputs": [],
   "source": [
    "def filtering(ext,path=os.getcwd()):\n",
    "    if os.path.exists(path) and os.path.isdir(path):\n",
    "        ls = os.listdir(path)\n",
    "        for i in ls:\n",
    "            #print(i)\n",
    "            if os.path.isfile(i):\n",
    "                if i.split(\".\")[-1] == ext:\n",
    "                    print(i)\n",
    "    else:\n",
    "        print(\"\\n Invalid path please input the correct one...\")"
   ]
  },
  {
   "cell_type": "code",
   "execution_count": 131,
   "metadata": {},
   "outputs": [
    {
     "name": "stdout",
     "output_type": "stream",
     "text": [
      "abc.txt\n",
      "hello.txt\n",
      "mydetails.txt\n",
      "python.txt\n",
      "untitled.txt\n"
     ]
    }
   ],
   "source": [
    "filtering(\"txt\")"
   ]
  },
  {
   "cell_type": "code",
   "execution_count": 126,
   "metadata": {},
   "outputs": [
    {
     "data": {
      "text/plain": [
       "['one']"
      ]
     },
     "execution_count": 126,
     "metadata": {},
     "output_type": "execute_result"
    }
   ],
   "source": [
    "\"one\".split(\".\")"
   ]
  },
  {
   "cell_type": "code",
   "execution_count": 128,
   "metadata": {},
   "outputs": [
    {
     "data": {
      "text/plain": [
       "'txt'"
      ]
     },
     "execution_count": 128,
     "metadata": {},
     "output_type": "execute_result"
    }
   ],
   "source": [
    "\"one.txt\".split(\".\")[-1]"
   ]
  },
  {
   "cell_type": "code",
   "execution_count": 129,
   "metadata": {},
   "outputs": [
    {
     "data": {
      "text/plain": [
       "['one']"
      ]
     },
     "execution_count": 129,
     "metadata": {},
     "output_type": "execute_result"
    }
   ],
   "source": [
    "\"one\".split(\".\")"
   ]
  },
  {
   "cell_type": "code",
   "execution_count": 132,
   "metadata": {},
   "outputs": [
    {
     "name": "stdout",
     "output_type": "stream",
     "text": [
      "Student_details.csv\n"
     ]
    }
   ],
   "source": [
    "filtering(\"csv\")"
   ]
  },
  {
   "cell_type": "code",
   "execution_count": 139,
   "metadata": {},
   "outputs": [],
   "source": [
    "filtering(\"txt\",\"G://blogapp//myfolder\")"
   ]
  },
  {
   "cell_type": "code",
   "execution_count": 135,
   "metadata": {},
   "outputs": [
    {
     "data": {
      "text/plain": [
       "True"
      ]
     },
     "execution_count": 135,
     "metadata": {},
     "output_type": "execute_result"
    }
   ],
   "source": [
    "os.path.exists(\"G://blogapp//myfolder//one.txt\")"
   ]
  },
  {
   "cell_type": "code",
   "execution_count": 140,
   "metadata": {},
   "outputs": [
    {
     "data": {
      "text/plain": [
       "'G://blogapp//myfolder//one.txt'"
      ]
     },
     "execution_count": 140,
     "metadata": {},
     "output_type": "execute_result"
    }
   ],
   "source": [
    "\"G://blogapp//myfolder//one.txt\""
   ]
  },
  {
   "cell_type": "code",
   "execution_count": 141,
   "metadata": {},
   "outputs": [
    {
     "data": {
      "text/plain": [
       "'G://blogapp//myfolder\\\\one.txt'"
      ]
     },
     "execution_count": 141,
     "metadata": {},
     "output_type": "execute_result"
    }
   ],
   "source": [
    "os.path.join(\"G://blogapp//myfolder\",\"one.txt\")"
   ]
  },
  {
   "cell_type": "code",
   "execution_count": 142,
   "metadata": {},
   "outputs": [
    {
     "data": {
      "text/plain": [
       "True"
      ]
     },
     "execution_count": 142,
     "metadata": {},
     "output_type": "execute_result"
    }
   ],
   "source": [
    "os.path.exists(os.path.join(\"G://blogapp//myfolder\",\"one.txt\"))"
   ]
  },
  {
   "cell_type": "code",
   "execution_count": 145,
   "metadata": {},
   "outputs": [],
   "source": [
    "def filtering(ext,path=os.getcwd()):\n",
    "    if os.path.exists(path) and os.path.isdir(path):\n",
    "        ls = os.listdir(path)\n",
    "        c = 0\n",
    "        for i in ls:\n",
    "            p = os.path.join(path,i)\n",
    "            if os.path.isfile(p):\n",
    "                if i.split(\".\")[-1] == ext:\n",
    "                    print(i)\n",
    "                    c += 1\n",
    "        if c == 0:\n",
    "            print(\"\\n No files for this extension\")\n",
    "    else:\n",
    "        print(\"\\n Invalid path please input the correct one...\")"
   ]
  },
  {
   "cell_type": "code",
   "execution_count": 146,
   "metadata": {},
   "outputs": [
    {
     "name": "stdout",
     "output_type": "stream",
     "text": [
      "one.txt\n"
     ]
    }
   ],
   "source": [
    "filtering(\"txt\",\"G://blogapp//myfolder\")"
   ]
  },
  {
   "cell_type": "code",
   "execution_count": 147,
   "metadata": {},
   "outputs": [
    {
     "name": "stdout",
     "output_type": "stream",
     "text": [
      "\n",
      " No files for this extension\n"
     ]
    }
   ],
   "source": [
    "filtering(\"csv\",\"G://blogapp//myfolder\")"
   ]
  },
  {
   "cell_type": "code",
   "execution_count": 148,
   "metadata": {},
   "outputs": [],
   "source": [
    "#isfile --> check path is a file or not\n",
    "#isdir --> check path is a directory or not"
   ]
  },
  {
   "cell_type": "code",
   "execution_count": 149,
   "metadata": {},
   "outputs": [
    {
     "data": {
      "text/plain": [
       "'1abcdef'"
      ]
     },
     "execution_count": 149,
     "metadata": {},
     "output_type": "execute_result"
    }
   ],
   "source": [
    "\"abcdef\".center(7,'1')"
   ]
  },
  {
   "cell_type": "code",
   "execution_count": null,
   "metadata": {},
   "outputs": [],
   "source": []
  }
 ],
 "metadata": {
  "kernelspec": {
   "display_name": "Python 3",
   "language": "python",
   "name": "python3"
  },
  "language_info": {
   "codemirror_mode": {
    "name": "ipython",
    "version": 3
   },
   "file_extension": ".py",
   "mimetype": "text/x-python",
   "name": "python",
   "nbconvert_exporter": "python",
   "pygments_lexer": "ipython3",
   "version": "3.7.4"
  }
 },
 "nbformat": 4,
 "nbformat_minor": 2
}
