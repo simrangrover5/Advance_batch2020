{
 "cells": [
  {
   "cell_type": "code",
   "execution_count": 1,
   "metadata": {},
   "outputs": [],
   "source": [
    "import os"
   ]
  },
  {
   "cell_type": "code",
   "execution_count": 12,
   "metadata": {},
   "outputs": [],
   "source": [
    "def filter_files_folder(path=os.getcwd()):\n",
    "    files = []\n",
    "    dirs = []\n",
    "    if os.path.exists(path) and os.path.isdir(path):\n",
    "        ls = os.listdir(path)\n",
    "        for i in ls:\n",
    "            p = os.path.join(path,i)\n",
    "            if os.path.isfile(i):\n",
    "                files.append(p)\n",
    "            elif os.path.isdir(i):\n",
    "                dirs.append(p)\n",
    "            else:\n",
    "                print(\"\\n Invalid\")\n",
    "        print(\"\\n The files are \")\n",
    "        print(\"*\"*80)\n",
    "        for i,v in enumerate(files):\n",
    "            print(f\"{i} --> {v}\".center(80))\n",
    "        print(\"*\"*80)\n",
    "        print(\"\\n The directories are \")\n",
    "        print(\"*\"*80)\n",
    "        for i,v in enumerate(dirs):\n",
    "            print(f\"{i} --> {v}\".center(80))\n",
    "        print(\"*\"*80)"
   ]
  },
  {
   "cell_type": "code",
   "execution_count": 6,
   "metadata": {},
   "outputs": [
    {
     "name": "stdout",
     "output_type": "stream",
     "text": [
      "1 10\n",
      "2 12\n",
      "3 13\n",
      "4 14\n",
      "5 15\n",
      "6 16\n"
     ]
    }
   ],
   "source": [
    "for i,v in enumerate([10,12,13,14,15,16],start=1):\n",
    "    print(i,v)"
   ]
  },
  {
   "cell_type": "code",
   "execution_count": 13,
   "metadata": {},
   "outputs": [
    {
     "name": "stdout",
     "output_type": "stream",
     "text": [
      "\n",
      " The files are \n",
      "********************************************************************************\n",
      "  0 --> C:\\batches\\online_batch\\batch_7pm\\File_handling\\1. File_handling.ipynb  \n",
      "  1 --> C:\\batches\\online_batch\\batch_7pm\\File_handling\\2. File_handling.ipynb  \n",
      "  2 --> C:\\batches\\online_batch\\batch_7pm\\File_handling\\3. File_handling.ipynb  \n",
      "         3 --> C:\\batches\\online_batch\\batch_7pm\\File_handling\\abc.txt          \n",
      "        4 --> C:\\batches\\online_batch\\batch_7pm\\File_handling\\hello.txt         \n",
      "      5 --> C:\\batches\\online_batch\\batch_7pm\\File_handling\\mydetails.txt       \n",
      "        6 --> C:\\batches\\online_batch\\batch_7pm\\File_handling\\python.txt        \n",
      "   7 --> C:\\batches\\online_batch\\batch_7pm\\File_handling\\Student_details.csv    \n",
      "         8 --> C:\\batches\\online_batch\\batch_7pm\\File_handling\\sys1.py          \n",
      "       9 --> C:\\batches\\online_batch\\batch_7pm\\File_handling\\untitled.txt       \n",
      "********************************************************************************\n",
      "\n",
      " The directories are \n",
      "********************************************************************************\n",
      "    0 --> C:\\batches\\online_batch\\batch_7pm\\File_handling\\.ipynb_checkpoints    \n",
      "           1 --> C:\\batches\\online_batch\\batch_7pm\\File_handling\\one            \n",
      "********************************************************************************\n"
     ]
    }
   ],
   "source": [
    "filter_files_folder()"
   ]
  },
  {
   "cell_type": "code",
   "execution_count": 11,
   "metadata": {},
   "outputs": [
    {
     "name": "stdout",
     "output_type": "stream",
     "text": [
      " Volume in drive C is Windows\n",
      " Volume Serial Number is E08D-DAD9\n",
      "\n",
      " Directory of C:\\batches\\online_batch\\batch_7pm\\File_handling\n",
      "\n",
      "02-06-2020  19:32    <DIR>          .\n",
      "02-06-2020  19:32    <DIR>          ..\n",
      "02-06-2020  19:26    <DIR>          .ipynb_checkpoints\n",
      "29-05-2020  20:50            44,621 1. File_handling.ipynb\n",
      "01-06-2020  21:08            54,149 2. File_handling.ipynb\n",
      "02-06-2020  19:32             1,904 3. File_handling.ipynb\n",
      "29-05-2020  20:26               106 abc.txt\n",
      "29-05-2020  19:48               106 hello.txt\n",
      "29-05-2020  20:30                72 mydetails.txt\n",
      "01-06-2020  20:18    <DIR>          one\n",
      "29-05-2020  20:21                71 python.txt\n",
      "29-05-2020  20:47               166 Student_details.csv\n",
      "01-06-2020  20:03               269 sys1.py\n",
      "29-05-2020  20:01                 0 untitled.txt\n",
      "              10 File(s)        101,464 bytes\n",
      "               4 Dir(s)  62,986,977,280 bytes free\n"
     ]
    }
   ],
   "source": [
    "ls"
   ]
  },
  {
   "cell_type": "code",
   "execution_count": 14,
   "metadata": {},
   "outputs": [],
   "source": [
    "f = open(\"Student_details.csv\")\n",
    "data = f.read()\n",
    "f.close()"
   ]
  },
  {
   "cell_type": "code",
   "execution_count": 15,
   "metadata": {},
   "outputs": [
    {
     "data": {
      "text/plain": [
       "'Name,Maths,Science,English\\nshubham,56,67,78\\nshahid,67,56,70\\ntushar,56,54,89\\nrahul,78,89,41\\nisha,56,67,78\\nSimran,45,56,67\\nManish,67,56,45\\nRavi,45,50,80\\nSachin,60,50,70'"
      ]
     },
     "execution_count": 15,
     "metadata": {},
     "output_type": "execute_result"
    }
   ],
   "source": [
    "data"
   ]
  },
  {
   "cell_type": "code",
   "execution_count": 16,
   "metadata": {},
   "outputs": [
    {
     "name": "stdout",
     "output_type": "stream",
     "text": [
      "Name,Maths,Science,English\n",
      "shubham,56,67,78\n",
      "shahid,67,56,70\n",
      "tushar,56,54,89\n",
      "rahul,78,89,41\n",
      "isha,56,67,78\n",
      "Simran,45,56,67\n",
      "Manish,67,56,45\n",
      "Ravi,45,50,80\n",
      "Sachin,60,50,70\n"
     ]
    }
   ],
   "source": [
    "print(data)"
   ]
  },
  {
   "cell_type": "code",
   "execution_count": 17,
   "metadata": {},
   "outputs": [
    {
     "data": {
      "text/plain": [
       "['Name',\n",
       " 'Maths',\n",
       " 'Science',\n",
       " 'English\\nshubham',\n",
       " '56',\n",
       " '67',\n",
       " '78\\nshahid',\n",
       " '67',\n",
       " '56',\n",
       " '70\\ntushar',\n",
       " '56',\n",
       " '54',\n",
       " '89\\nrahul',\n",
       " '78',\n",
       " '89',\n",
       " '41\\nisha',\n",
       " '56',\n",
       " '67',\n",
       " '78\\nSimran',\n",
       " '45',\n",
       " '56',\n",
       " '67\\nManish',\n",
       " '67',\n",
       " '56',\n",
       " '45\\nRavi',\n",
       " '45',\n",
       " '50',\n",
       " '80\\nSachin',\n",
       " '60',\n",
       " '50',\n",
       " '70']"
      ]
     },
     "execution_count": 17,
     "metadata": {},
     "output_type": "execute_result"
    }
   ],
   "source": [
    "data.split(\",\")"
   ]
  },
  {
   "cell_type": "code",
   "execution_count": 18,
   "metadata": {},
   "outputs": [
    {
     "data": {
      "text/plain": [
       "['Name,Maths,Science,English',\n",
       " 'shubham,56,67,78',\n",
       " 'shahid,67,56,70',\n",
       " 'tushar,56,54,89',\n",
       " 'rahul,78,89,41',\n",
       " 'isha,56,67,78',\n",
       " 'Simran,45,56,67',\n",
       " 'Manish,67,56,45',\n",
       " 'Ravi,45,50,80',\n",
       " 'Sachin,60,50,70']"
      ]
     },
     "execution_count": 18,
     "metadata": {},
     "output_type": "execute_result"
    }
   ],
   "source": [
    "data.split(\"\\n\")"
   ]
  },
  {
   "cell_type": "code",
   "execution_count": 19,
   "metadata": {},
   "outputs": [
    {
     "data": {
      "text/plain": [
       "'Name,Maths,Science,English'"
      ]
     },
     "execution_count": 19,
     "metadata": {},
     "output_type": "execute_result"
    }
   ],
   "source": [
    "data.split(\"\\n\")[0]"
   ]
  },
  {
   "cell_type": "code",
   "execution_count": 24,
   "metadata": {},
   "outputs": [
    {
     "name": "stdout",
     "output_type": "stream",
     "text": [
      "shubham 67.0\n",
      "shahid 64.33\n",
      "tushar 66.33\n",
      "rahul 69.33\n",
      "isha 67.0\n",
      "Simran 56.0\n",
      "Manish 56.0\n",
      "Ravi 58.33\n",
      "Sachin 60.0\n"
     ]
    }
   ],
   "source": [
    "for i in data.split(\"\\n\")[1:]:\n",
    "    name,marks = i.split(\",\")[0],i.split(\",\")[1:]\n",
    "    per = round(sum(map(int,marks))/3,2)\n",
    "    print(name,per)"
   ]
  },
  {
   "cell_type": "code",
   "execution_count": 25,
   "metadata": {},
   "outputs": [],
   "source": [
    "def calculate_per(filename,path=os.getcwd()):\n",
    "    final_path = os.path.join(path,filename)\n",
    "    if os.path.exists(final_path) and os.path.isfile(final_path):\n",
    "        f = open(final_path)\n",
    "        data = f.read()\n",
    "        f.close()\n",
    "        for i in data.split(\"\\n\")[1:]:\n",
    "            name,marks = i.split(\",\")[0],i.split(\",\")[1:]\n",
    "            per = round(sum(map(int,marks))/3,2)\n",
    "            print(name,per)\n",
    "    else:\n",
    "        print(\"\\n Invalid path\")"
   ]
  },
  {
   "cell_type": "code",
   "execution_count": 26,
   "metadata": {},
   "outputs": [
    {
     "name": "stdout",
     "output_type": "stream",
     "text": [
      "shubham 67.0\n",
      "shahid 64.33\n",
      "tushar 66.33\n",
      "rahul 69.33\n",
      "isha 67.0\n",
      "Simran 56.0\n",
      "Manish 56.0\n",
      "Ravi 58.33\n",
      "Sachin 60.0\n"
     ]
    }
   ],
   "source": [
    "calculate_per(\"Student_details.csv\")"
   ]
  },
  {
   "cell_type": "code",
   "execution_count": 27,
   "metadata": {},
   "outputs": [
    {
     "data": {
      "text/plain": [
       "['.ipynb_checkpoints',\n",
       " 'abc.pkl',\n",
       " 'abc.txt',\n",
       " 'att.csv',\n",
       " 'backup_class',\n",
       " 'bird.jpg',\n",
       " 'bird1.jpg',\n",
       " 'Class_1.ipynb',\n",
       " 'class_2.ipynb',\n",
       " 'closures_decorators.ipynb',\n",
       " 'Conditional_statements.ipynb',\n",
       " 'Conversion_operators.ipynb',\n",
       " 'Databases',\n",
       " 'Data_Structure.ipynb',\n",
       " 'Dictionary.ipynb',\n",
       " 'Dictionary_.ipynb',\n",
       " 'dictionary_2.ipynb',\n",
       " 'Dictionary_3.ipynb',\n",
       " 'Dict_Sets.ipynb',\n",
       " 'Doubts.ipynb',\n",
       " 'Exception_Handling.ipynb',\n",
       " 'Exception_handling_iterators.ipynb',\n",
       " 'File_handling.ipynb',\n",
       " 'file_handling_2.ipynb',\n",
       " 'For_loop_1.ipynb',\n",
       " 'For_loop_2.ipynb',\n",
       " 'For_loop_3.ipynb',\n",
       " 'For_loop_4.ipynb',\n",
       " 'func1.py',\n",
       " 'functions_1.ipynb',\n",
       " 'functions_2.ipynb',\n",
       " 'functions_3.ipynb',\n",
       " 'functions_4.ipynb',\n",
       " 'guitar.jpg',\n",
       " 'hello',\n",
       " 'hello.txt',\n",
       " 'if_else_2.ipynb',\n",
       " 'if_else_3.ipynb',\n",
       " 'Inheritance.ipynb',\n",
       " 'iterators_generators.ipynb',\n",
       " 'json_encoding_python.png',\n",
       " 'krc.mp3',\n",
       " 'Lists.ipynb',\n",
       " 'Lists_2.ipynb',\n",
       " 'lists_tuple.ipynb',\n",
       " 'myfile.py',\n",
       " 'mylistclass.py',\n",
       " 'one',\n",
       " 'one.txt',\n",
       " 'OOPs_1.ipynb',\n",
       " 'OOPs_2.ipynb',\n",
       " 'OOPs_3.ipynb',\n",
       " 'OOPS_4.ipynb',\n",
       " 'OOPs_6.ipynb',\n",
       " 'OOPs_7.ipynb',\n",
       " 'OOPs_8.ipynb',\n",
       " 'Operators.ipynb',\n",
       " 'Operators_conditionalstatements.ipynb',\n",
       " 'picture',\n",
       " 'property_ds.ipynb',\n",
       " 'python.json',\n",
       " 'pythonwork',\n",
       " 'Queue_Sorting_Algo.ipynb',\n",
       " 'recursion_nested_func.ipynb',\n",
       " 'results.csv',\n",
       " 'Serialization.ipynb',\n",
       " 'server.py',\n",
       " 'Sets_type_conversion.ipynb',\n",
       " 'simran.hello',\n",
       " 'sockets (1).jpg',\n",
       " 'Sockets.ipynb',\n",
       " 'Sockets.png',\n",
       " 'sockets.webp',\n",
       " 'sockets_1.ipynb',\n",
       " 'Sockets_5.ipynb',\n",
       " 'sockets_scripts',\n",
       " 'Special_functions.ipynb',\n",
       " 'strings.ipynb',\n",
       " 'Strings_list.ipynb',\n",
       " 'students.csv',\n",
       " 'student_details.py',\n",
       " 't1.py',\n",
       " 't2.py',\n",
       " 't3.py',\n",
       " 'two.txt',\n",
       " 'Untitled.ipynb',\n",
       " 'while_loop3.ipynb',\n",
       " 'while_loop_1.ipynb',\n",
       " 'While_loop_2.ipynb',\n",
       " 'While_loop_4.ipynb',\n",
       " 'While_loop_5.ipynb',\n",
       " 'while_loop_6.ipynb',\n",
       " '__pycache__']"
      ]
     },
     "execution_count": 27,
     "metadata": {},
     "output_type": "execute_result"
    }
   ],
   "source": [
    "os.listdir(\"C://batches//batch5pm\")"
   ]
  },
  {
   "cell_type": "code",
   "execution_count": 28,
   "metadata": {},
   "outputs": [
    {
     "name": "stdout",
     "output_type": "stream",
     "text": [
      "Shivam 34.0\n",
      "Ayushi 39.67\n",
      "Ankush 31.33\n",
      "Anisha 39.67\n",
      "Parth 39.0\n",
      "Annu 40.0\n",
      "Archi 39.0\n",
      "annu 41.67\n",
      "shivani 38.33\n"
     ]
    }
   ],
   "source": [
    "calculate_per(\"students.csv\",\"C://batches//batch5pm\")"
   ]
  },
  {
   "cell_type": "code",
   "execution_count": 29,
   "metadata": {},
   "outputs": [],
   "source": [
    "f = open(\"Percentage.csv\",\"w\")\n",
    "head = \"Name,Percentage\"\n",
    "f.write(head)\n",
    "f.close()"
   ]
  },
  {
   "cell_type": "code",
   "execution_count": 34,
   "metadata": {},
   "outputs": [],
   "source": [
    "def calculate_per(filename,final_file,path=os.getcwd()):\n",
    "    \n",
    "    \"\"\"\n",
    "        This function is used to calculate the percentage of students that are in a file\n",
    "        filename --> is the path of the file to read students marks and\n",
    "        final_file --> is the name of the file in which the percentage has to be written\n",
    "        path --> is the path where the file exists to be read\n",
    "    \"\"\"\n",
    "    final_path = os.path.join(path,filename)\n",
    "    if os.path.exists(final_path) and os.path.isfile(final_path):\n",
    "        f = open(final_path)\n",
    "        data = f.read()\n",
    "        f.close()\n",
    "        details = \"\"\n",
    "        for i in data.split(\"\\n\")[1:]:\n",
    "            name,marks = i.split(\",\")[0],i.split(\",\")[1:]\n",
    "            per = round(sum(map(int,marks))/3,2)\n",
    "            #print(name,per)\n",
    "            details += (\"\\n\"+name + \",\" + str(per))\n",
    "        #print(details)\n",
    "        f = open(final_file,\"a\")\n",
    "        f.write(details)\n",
    "        f.close()\n",
    "    else:\n",
    "        print(\"\\n Invalid path\")"
   ]
  },
  {
   "cell_type": "code",
   "execution_count": 35,
   "metadata": {},
   "outputs": [],
   "source": [
    "calculate_per(\"Student_details.csv\",\"Percentage.csv\")"
   ]
  },
  {
   "cell_type": "code",
   "execution_count": 36,
   "metadata": {},
   "outputs": [
    {
     "name": "stdout",
     "output_type": "stream",
     "text": [
      "Name,Percentage\n",
      "shubham,67.0\n",
      "shahid,64.33\n",
      "tushar,66.33\n",
      "rahul,69.33\n",
      "isha,67.0\n",
      "Simran,56.0\n",
      "Manish,56.0\n",
      "Ravi,58.33\n",
      "Sachin,60.0\n"
     ]
    }
   ],
   "source": [
    "f = open(\"Percentage.csv\")\n",
    "print(f.read())\n",
    "f.close()"
   ]
  },
  {
   "cell_type": "code",
   "execution_count": 37,
   "metadata": {},
   "outputs": [],
   "source": [
    "import pandas as pd"
   ]
  },
  {
   "cell_type": "code",
   "execution_count": 42,
   "metadata": {},
   "outputs": [],
   "source": [
    "data = pd.read_csv(\"Percentage.csv\",index_col=0)"
   ]
  },
  {
   "cell_type": "code",
   "execution_count": 43,
   "metadata": {},
   "outputs": [
    {
     "data": {
      "text/html": [
       "<div>\n",
       "<style scoped>\n",
       "    .dataframe tbody tr th:only-of-type {\n",
       "        vertical-align: middle;\n",
       "    }\n",
       "\n",
       "    .dataframe tbody tr th {\n",
       "        vertical-align: top;\n",
       "    }\n",
       "\n",
       "    .dataframe thead th {\n",
       "        text-align: right;\n",
       "    }\n",
       "</style>\n",
       "<table border=\"1\" class=\"dataframe\">\n",
       "  <thead>\n",
       "    <tr style=\"text-align: right;\">\n",
       "      <th></th>\n",
       "      <th>Percentage</th>\n",
       "    </tr>\n",
       "    <tr>\n",
       "      <th>Name</th>\n",
       "      <th></th>\n",
       "    </tr>\n",
       "  </thead>\n",
       "  <tbody>\n",
       "    <tr>\n",
       "      <td>shubham</td>\n",
       "      <td>67.00</td>\n",
       "    </tr>\n",
       "    <tr>\n",
       "      <td>shahid</td>\n",
       "      <td>64.33</td>\n",
       "    </tr>\n",
       "    <tr>\n",
       "      <td>tushar</td>\n",
       "      <td>66.33</td>\n",
       "    </tr>\n",
       "    <tr>\n",
       "      <td>rahul</td>\n",
       "      <td>69.33</td>\n",
       "    </tr>\n",
       "    <tr>\n",
       "      <td>isha</td>\n",
       "      <td>67.00</td>\n",
       "    </tr>\n",
       "    <tr>\n",
       "      <td>Simran</td>\n",
       "      <td>56.00</td>\n",
       "    </tr>\n",
       "    <tr>\n",
       "      <td>Manish</td>\n",
       "      <td>56.00</td>\n",
       "    </tr>\n",
       "    <tr>\n",
       "      <td>Ravi</td>\n",
       "      <td>58.33</td>\n",
       "    </tr>\n",
       "    <tr>\n",
       "      <td>Sachin</td>\n",
       "      <td>60.00</td>\n",
       "    </tr>\n",
       "  </tbody>\n",
       "</table>\n",
       "</div>"
      ],
      "text/plain": [
       "         Percentage\n",
       "Name               \n",
       "shubham       67.00\n",
       "shahid        64.33\n",
       "tushar        66.33\n",
       "rahul         69.33\n",
       "isha          67.00\n",
       "Simran        56.00\n",
       "Manish        56.00\n",
       "Ravi          58.33\n",
       "Sachin        60.00"
      ]
     },
     "execution_count": 43,
     "metadata": {},
     "output_type": "execute_result"
    }
   ],
   "source": [
    "data"
   ]
  },
  {
   "cell_type": "code",
   "execution_count": 44,
   "metadata": {},
   "outputs": [
    {
     "data": {
      "text/plain": [
       "Percentage    64.33\n",
       "Name: shahid, dtype: float64"
      ]
     },
     "execution_count": 44,
     "metadata": {},
     "output_type": "execute_result"
    }
   ],
   "source": [
    "data.loc[\"shahid\"]"
   ]
  },
  {
   "cell_type": "code",
   "execution_count": 45,
   "metadata": {},
   "outputs": [
    {
     "data": {
      "text/plain": [
       "Percentage    66.33\n",
       "Name: tushar, dtype: float64"
      ]
     },
     "execution_count": 45,
     "metadata": {},
     "output_type": "execute_result"
    }
   ],
   "source": [
    "data.loc[\"tushar\"]"
   ]
  },
  {
   "cell_type": "code",
   "execution_count": 51,
   "metadata": {},
   "outputs": [],
   "source": [
    "import matplotlib.pyplot as plt"
   ]
  },
  {
   "cell_type": "code",
   "execution_count": 57,
   "metadata": {},
   "outputs": [
    {
     "data": {
      "image/png": "[encoded data removed]",
      "text/plain": [
       "<Figure size 936x432 with 1 Axes>"
      ]
     },
     "metadata": {
      "needs_background": "light"
     },
     "output_type": "display_data"
    }
   ],
   "source": [
    "plt.figure(figsize=(13,6))\n",
    "data[\"Percentage\"].plot(kind=\"bar\",color=[\"red\",\"blue\",\"green\",\"yellow\",\"#123456\",\"#aaaaaa\",\"#bbbbbb\",\"#123abc\",\"#654321\"])\n",
    "plt.show()"
   ]
  },
  {
   "cell_type": "code",
   "execution_count": 58,
   "metadata": {},
   "outputs": [],
   "source": [
    "#### attendance system ..."
   ]
  },
  {
   "cell_type": "markdown",
   "metadata": {},
   "source": [
    "    Date     Topic    Simran     Raghav   Tushar   Tarun  Rahul  \n",
    "\n",
    "    02062020 File      P           A       P         A      P\n"
   ]
  },
  {
   "cell_type": "code",
   "execution_count": 59,
   "metadata": {},
   "outputs": [],
   "source": [
    "import time"
   ]
  },
  {
   "cell_type": "code",
   "execution_count": 60,
   "metadata": {},
   "outputs": [
    {
     "data": {
      "text/plain": [
       "'Tue Jun  2 20:02:27 2020'"
      ]
     },
     "execution_count": 60,
     "metadata": {},
     "output_type": "execute_result"
    }
   ],
   "source": [
    "time.ctime()"
   ]
  },
  {
   "cell_type": "code",
   "execution_count": 63,
   "metadata": {},
   "outputs": [
    {
     "data": {
      "text/plain": [
       "'Jun-2-2020'"
      ]
     },
     "execution_count": 63,
     "metadata": {},
     "output_type": "execute_result"
    }
   ],
   "source": [
    "\"-\".join(time.ctime().split(\" \")[1::2])"
   ]
  },
  {
   "cell_type": "code",
   "execution_count": 64,
   "metadata": {},
   "outputs": [],
   "source": [
    "import datetime"
   ]
  },
  {
   "cell_type": "code",
   "execution_count": 65,
   "metadata": {},
   "outputs": [],
   "source": [
    "### strftime --> string formatting of time"
   ]
  },
  {
   "cell_type": "code",
   "execution_count": 66,
   "metadata": {},
   "outputs": [
    {
     "ename": "TypeError",
     "evalue": "descriptor 'strftime' requires a 'datetime.date' object but received a 'str'",
     "output_type": "error",
     "traceback": [
      "\u001b[1;31m---------------------------------------------------------------------\u001b[0m",
      "\u001b[1;31mTypeError\u001b[0m                           Traceback (most recent call last)",
      "\u001b[1;32m<ipython-input-66-c3b61c3c6fe5>\u001b[0m in \u001b[0;36m<module>\u001b[1;34m\u001b[0m\n\u001b[1;32m----> 1\u001b[1;33m \u001b[0mdatetime\u001b[0m\u001b[1;33m.\u001b[0m\u001b[0mdatetime\u001b[0m\u001b[1;33m.\u001b[0m\u001b[0mstrftime\u001b[0m\u001b[1;33m(\u001b[0m\u001b[1;34m\"%M-%Y-%d\"\u001b[0m\u001b[1;33m)\u001b[0m\u001b[1;33m\u001b[0m\u001b[1;33m\u001b[0m\u001b[0m\n\u001b[0m",
      "\u001b[1;31mTypeError\u001b[0m: descriptor 'strftime' requires a 'datetime.date' object but received a 'str'"
     ]
    }
   ],
   "source": [
    "datetime.datetime.strftime(\"%M-%Y-%d\")"
   ]
  },
  {
   "cell_type": "code",
   "execution_count": 69,
   "metadata": {},
   "outputs": [],
   "source": [
    "now = datetime.datetime.now()"
   ]
  },
  {
   "cell_type": "code",
   "execution_count": 70,
   "metadata": {},
   "outputs": [
    {
     "data": {
      "text/plain": [
       "datetime.datetime(2020, 6, 2, 20, 8, 29, 257294)"
      ]
     },
     "execution_count": 70,
     "metadata": {},
     "output_type": "execute_result"
    }
   ],
   "source": [
    "now"
   ]
  },
  {
   "cell_type": "code",
   "execution_count": 73,
   "metadata": {},
   "outputs": [
    {
     "data": {
      "text/plain": [
       "'20-06-02'"
      ]
     },
     "execution_count": 73,
     "metadata": {},
     "output_type": "execute_result"
    }
   ],
   "source": [
    "now.strftime(\"%y-%m-%d\")"
   ]
  },
  {
   "cell_type": "code",
   "execution_count": 74,
   "metadata": {},
   "outputs": [
    {
     "data": {
      "text/plain": [
       "'2020-08-06/02/20'"
      ]
     },
     "execution_count": 74,
     "metadata": {},
     "output_type": "execute_result"
    }
   ],
   "source": [
    "now.strftime(\"%Y-%M-%D\")"
   ]
  },
  {
   "cell_type": "code",
   "execution_count": 75,
   "metadata": {},
   "outputs": [
    {
     "data": {
      "text/plain": [
       "'06/02/20'"
      ]
     },
     "execution_count": 75,
     "metadata": {},
     "output_type": "execute_result"
    }
   ],
   "source": [
    "now.strftime(\"%D\")"
   ]
  },
  {
   "cell_type": "code",
   "execution_count": 77,
   "metadata": {},
   "outputs": [
    {
     "name": "stdout",
     "output_type": "stream",
     "text": [
      "\n",
      " Enter number of students : 5\n",
      "Name [1] : iej\n",
      "Name [2] : piej\n",
      "Name [3] : pej\n",
      "Name [4] : pj\n",
      "Name [5] : pif\n",
      ",fip,jp,jep,jeip,jei,cipoT,etaD\n"
     ]
    }
   ],
   "source": [
    "f = open(\"attendance.csv\",\"w\")\n",
    "header = \"Date,Topic,\"\n",
    "number = int(input(\"\\n Enter number of students : \"))\n",
    "for i in range(number):\n",
    "    header += (input(f\"Name [{i+1}] : \") + \",\")\n",
    "print(header[:-1])"
   ]
  },
  {
   "cell_type": "code",
   "execution_count": 79,
   "metadata": {},
   "outputs": [
    {
     "data": {
      "text/plain": [
       "'Date,Topic,iej,piej,pej,pj,pif'"
      ]
     },
     "execution_count": 79,
     "metadata": {},
     "output_type": "execute_result"
    }
   ],
   "source": [
    "header[:-1]"
   ]
  },
  {
   "cell_type": "code",
   "execution_count": 80,
   "metadata": {},
   "outputs": [
    {
     "name": "stdout",
     "output_type": "stream",
     "text": [
      "\n",
      " Enter number of students : 7\n",
      "Name [1] : Gaurav\n",
      "Name [2] : Manish\n",
      "Name [3] : Shubham\n",
      "Name [4] : Rahul\n",
      "Name [5] : Shahid\n",
      "Name [6] : Tushar\n",
      "Name [7] : Ayushi\n"
     ]
    }
   ],
   "source": [
    "f = open(\"attendance.csv\",\"w\")\n",
    "header = \"Date,Topic,\"\n",
    "number = int(input(\"\\n Enter number of students : \"))\n",
    "for i in range(number):\n",
    "    header += (input(f\"Name [{i+1}] : \") + \",\")\n",
    "f.write(header[:-1])\n",
    "f.close()"
   ]
  },
  {
   "cell_type": "code",
   "execution_count": 82,
   "metadata": {},
   "outputs": [
    {
     "name": "stdout",
     "output_type": "stream",
     "text": [
      "Date,Topic,Gaurav,Manish,Shubham,Rahul,Shahid,Tushar,Ayushi\n"
     ]
    }
   ],
   "source": [
    "f = open(\"attendance.csv\")\n",
    "print(f.read())\n",
    "f.close()"
   ]
  },
  {
   "cell_type": "code",
   "execution_count": 83,
   "metadata": {},
   "outputs": [
    {
     "name": "stdout",
     "output_type": "stream",
     "text": [
      "Date,Topic,Gaurav,Manish,Shubham,Rahul,Shahid,Tushar,Ayushi\n"
     ]
    }
   ],
   "source": [
    "from datetime import datetime\n",
    "f = open(\"attendance.csv\")\n",
    "data = f.readline()\n",
    "f.close()\n",
    "print(data)\n",
    "now = datetime.now()\n",
    "date = now.strftime(\"%y-%m-%d\")\n",
    "topic = input(f\"\\n Enter topic for date {date} : \")\n"
   ]
  },
  {
   "cell_type": "code",
   "execution_count": 84,
   "metadata": {},
   "outputs": [
    {
     "name": "stdout",
     "output_type": "stream",
     "text": [
      "Name,Maths,Science,English\n",
      "\n"
     ]
    }
   ],
   "source": [
    "f = open(\"Student_details.csv\")\n",
    "print(f.readline())"
   ]
  },
  {
   "cell_type": "code",
   "execution_count": 85,
   "metadata": {},
   "outputs": [
    {
     "name": "stdout",
     "output_type": "stream",
     "text": [
      "shubham,56,67,78\n",
      "\n"
     ]
    }
   ],
   "source": [
    "print(f.readline())"
   ]
  },
  {
   "cell_type": "code",
   "execution_count": 86,
   "metadata": {},
   "outputs": [
    {
     "name": "stdout",
     "output_type": "stream",
     "text": [
      "shahid,67,56,70\n",
      "\n"
     ]
    }
   ],
   "source": [
    "print(f.readline())"
   ]
  },
  {
   "cell_type": "code",
   "execution_count": 90,
   "metadata": {},
   "outputs": [
    {
     "data": {
      "text/plain": [
       "0"
      ]
     },
     "execution_count": 90,
     "metadata": {},
     "output_type": "execute_result"
    }
   ],
   "source": [
    "f.seek(0)"
   ]
  },
  {
   "cell_type": "code",
   "execution_count": 91,
   "metadata": {},
   "outputs": [
    {
     "name": "stdout",
     "output_type": "stream",
     "text": [
      "Name,Maths,Science,English\n",
      "\n",
      "shubham,56,67,78\n",
      "\n",
      "shahid,67,56,70\n",
      "\n",
      "tushar,56,54,89\n",
      "\n",
      "rahul,78,89,41\n",
      "\n",
      "isha,56,67,78\n",
      "\n",
      "Simran,45,56,67\n",
      "\n",
      "Manish,67,56,45\n",
      "\n",
      "Ravi,45,50,80\n",
      "\n",
      "Sachin,60,50,70\n"
     ]
    }
   ],
   "source": [
    "for i in f.readlines():\n",
    "    print(i)"
   ]
  },
  {
   "cell_type": "code",
   "execution_count": 98,
   "metadata": {},
   "outputs": [
    {
     "data": {
      "text/plain": [
       "0"
      ]
     },
     "execution_count": 98,
     "metadata": {},
     "output_type": "execute_result"
    }
   ],
   "source": [
    "f.seek(0)"
   ]
  },
  {
   "cell_type": "code",
   "execution_count": 93,
   "metadata": {},
   "outputs": [
    {
     "data": {
      "text/plain": [
       "'Name,Maths,Science,English\\n'"
      ]
     },
     "execution_count": 93,
     "metadata": {},
     "output_type": "execute_result"
    }
   ],
   "source": [
    "f.readline()"
   ]
  },
  {
   "cell_type": "code",
   "execution_count": 99,
   "metadata": {},
   "outputs": [
    {
     "data": {
      "text/plain": [
       "'Name,Maths,Science,English\\n'"
      ]
     },
     "execution_count": 99,
     "metadata": {},
     "output_type": "execute_result"
    }
   ],
   "source": [
    "f.readlines()[0]"
   ]
  },
  {
   "cell_type": "code",
   "execution_count": 106,
   "metadata": {},
   "outputs": [
    {
     "name": "stdout",
     "output_type": "stream",
     "text": [
      "Date,Topic,Gaurav,Manish,Shubham,Rahul,Shahid,Tushar,Ayushi\n",
      "\n",
      "\n",
      " Enter topic for date 20-06-02 : Files\n",
      "\n",
      " Attendance for Gaurav  (P/A): a\n",
      "\n",
      " Attendance for Manish  (P/A): a\n",
      "\n",
      " Attendance for Shubham  (P/A): p\n",
      "\n",
      " Attendance for Rahul  (P/A): p\n",
      "\n",
      " Attendance for Shahid  (P/A): a\n",
      "\n",
      " Attendance for Tushar  (P/A): a\n",
      "\n",
      " Attendance for Ayushi\n",
      "  (P/A): p\n"
     ]
    }
   ],
   "source": [
    "from datetime import datetime\n",
    "f = open(\"attendance.csv\")\n",
    "data = f.readline()\n",
    "f.close()\n",
    "print(data)\n",
    "now = datetime.now()\n",
    "date = now.strftime(\"%y-%m-%d\")\n",
    "topic = input(f\"\\n Enter topic for date {date} : \")\n",
    "names = data.split(\",\")[2:]\n",
    "#print(names)\n",
    "final_att = \"\"\n",
    "final_att += (\"\\n\" + date + \",\" + topic + \",\")\n",
    "for i in names:\n",
    "    att = input(f\"\\n Attendance for {i}  (P/A): \").upper()\n",
    "    final_att += (att + \",\")\n",
    "f = open(\"attendance.csv\",\"a\")\n",
    "f.write(final_att[:-1])\n",
    "f.close()"
   ]
  },
  {
   "cell_type": "code",
   "execution_count": 107,
   "metadata": {},
   "outputs": [],
   "source": [
    "from datetime import datetime\n",
    "import os\n",
    "\n",
    "def take_att(filename,path=os.getcwd()):\n",
    "    p = os.path.join(path,filename)\n",
    "    if os.path.exists(p) and os.path.isfile(p):\n",
    "        f = open(p)\n",
    "        data = f.readline()\n",
    "        f.close()\n",
    "        print(data)\n",
    "        now = datetime.now()\n",
    "        date = now.strftime(\"%y-%m-%d\")\n",
    "        topic = input(f\"\\n Enter topic for date {date} : \")\n",
    "        names = data.split(\",\")[2:]\n",
    "        #print(names)\n",
    "        final_att = \"\"\n",
    "        final_att += (\"\\n\" + date + \",\" + topic + \",\")\n",
    "        for i in names:\n",
    "            att = input(f\"\\n Attendance for {i}  (P/A): \").upper()\n",
    "            final_att += (att + \",\")\n",
    "        f = open(p,\"a\")\n",
    "        f.write(final_att[:-1])\n",
    "        f.close()"
   ]
  },
  {
   "cell_type": "code",
   "execution_count": 108,
   "metadata": {},
   "outputs": [
    {
     "name": "stdout",
     "output_type": "stream",
     "text": [
      "Date,Topic,Gaurav,Manish,Shubham,Rahul,Shahid,Tushar,Ayushi\n",
      "\n",
      "\n",
      " Enter topic for date 20-06-02 : OOPS\n",
      "\n",
      " Attendance for Gaurav  (P/A): P\n",
      "\n",
      " Attendance for Manish  (P/A): P\n",
      "\n",
      " Attendance for Shubham  (P/A): A\n",
      "\n",
      " Attendance for Rahul  (P/A): A\n",
      "\n",
      " Attendance for Shahid  (P/A): P\n",
      "\n",
      " Attendance for Tushar  (P/A): P\n",
      "\n",
      " Attendance for Ayushi\n",
      "  (P/A): P\n"
     ]
    }
   ],
   "source": [
    "take_att(\"attendance.csv\")"
   ]
  },
  {
   "cell_type": "code",
   "execution_count": 109,
   "metadata": {},
   "outputs": [],
   "source": [
    "data = pd.read_csv(\"attendance.csv\")"
   ]
  },
  {
   "cell_type": "code",
   "execution_count": 110,
   "metadata": {},
   "outputs": [
    {
     "data": {
      "text/html": [
       "<div>\n",
       "<style scoped>\n",
       "    .dataframe tbody tr th:only-of-type {\n",
       "        vertical-align: middle;\n",
       "    }\n",
       "\n",
       "    .dataframe tbody tr th {\n",
       "        vertical-align: top;\n",
       "    }\n",
       "\n",
       "    .dataframe thead th {\n",
       "        text-align: right;\n",
       "    }\n",
       "</style>\n",
       "<table border=\"1\" class=\"dataframe\">\n",
       "  <thead>\n",
       "    <tr style=\"text-align: right;\">\n",
       "      <th></th>\n",
       "      <th>Date</th>\n",
       "      <th>Topic</th>\n",
       "      <th>Gaurav</th>\n",
       "      <th>Manish</th>\n",
       "      <th>Shubham</th>\n",
       "      <th>Rahul</th>\n",
       "      <th>Shahid</th>\n",
       "      <th>Tushar</th>\n",
       "      <th>Ayushi</th>\n",
       "    </tr>\n",
       "  </thead>\n",
       "  <tbody>\n",
       "    <tr>\n",
       "      <td>0</td>\n",
       "      <td>20-06-02</td>\n",
       "      <td>file handling</td>\n",
       "      <td>P</td>\n",
       "      <td>P</td>\n",
       "      <td>P</td>\n",
       "      <td>A</td>\n",
       "      <td>P</td>\n",
       "      <td>P</td>\n",
       "      <td>P</td>\n",
       "    </tr>\n",
       "    <tr>\n",
       "      <td>1</td>\n",
       "      <td>20-06-02</td>\n",
       "      <td>Files</td>\n",
       "      <td>A</td>\n",
       "      <td>A</td>\n",
       "      <td>P</td>\n",
       "      <td>P</td>\n",
       "      <td>A</td>\n",
       "      <td>A</td>\n",
       "      <td>P</td>\n",
       "    </tr>\n",
       "    <tr>\n",
       "      <td>2</td>\n",
       "      <td>20-06-02</td>\n",
       "      <td>OOPS</td>\n",
       "      <td>P</td>\n",
       "      <td>P</td>\n",
       "      <td>A</td>\n",
       "      <td>A</td>\n",
       "      <td>P</td>\n",
       "      <td>P</td>\n",
       "      <td>P</td>\n",
       "    </tr>\n",
       "  </tbody>\n",
       "</table>\n",
       "</div>"
      ],
      "text/plain": [
       "       Date          Topic Gaurav Manish Shubham Rahul Shahid Tushar Ayushi\n",
       "0  20-06-02  file handling      P      P       P     A      P      P      P\n",
       "1  20-06-02          Files      A      A       P     P      A      A      P\n",
       "2  20-06-02           OOPS      P      P       A     A      P      P      P"
      ]
     },
     "execution_count": 110,
     "metadata": {},
     "output_type": "execute_result"
    }
   ],
   "source": [
    "data"
   ]
  },
  {
   "cell_type": "code",
   "execution_count": 111,
   "metadata": {},
   "outputs": [
    {
     "data": {
      "text/html": [
       "<div>\n",
       "<style scoped>\n",
       "    .dataframe tbody tr th:only-of-type {\n",
       "        vertical-align: middle;\n",
       "    }\n",
       "\n",
       "    .dataframe tbody tr th {\n",
       "        vertical-align: top;\n",
       "    }\n",
       "\n",
       "    .dataframe thead th {\n",
       "        text-align: right;\n",
       "    }\n",
       "</style>\n",
       "<table border=\"1\" class=\"dataframe\">\n",
       "  <thead>\n",
       "    <tr style=\"text-align: right;\">\n",
       "      <th></th>\n",
       "      <th>0</th>\n",
       "      <th>1</th>\n",
       "      <th>2</th>\n",
       "    </tr>\n",
       "  </thead>\n",
       "  <tbody>\n",
       "    <tr>\n",
       "      <td>Date</td>\n",
       "      <td>20-06-02</td>\n",
       "      <td>20-06-02</td>\n",
       "      <td>20-06-02</td>\n",
       "    </tr>\n",
       "    <tr>\n",
       "      <td>Topic</td>\n",
       "      <td>file handling</td>\n",
       "      <td>Files</td>\n",
       "      <td>OOPS</td>\n",
       "    </tr>\n",
       "    <tr>\n",
       "      <td>Gaurav</td>\n",
       "      <td>P</td>\n",
       "      <td>A</td>\n",
       "      <td>P</td>\n",
       "    </tr>\n",
       "    <tr>\n",
       "      <td>Manish</td>\n",
       "      <td>P</td>\n",
       "      <td>A</td>\n",
       "      <td>P</td>\n",
       "    </tr>\n",
       "    <tr>\n",
       "      <td>Shubham</td>\n",
       "      <td>P</td>\n",
       "      <td>P</td>\n",
       "      <td>A</td>\n",
       "    </tr>\n",
       "    <tr>\n",
       "      <td>Rahul</td>\n",
       "      <td>A</td>\n",
       "      <td>P</td>\n",
       "      <td>A</td>\n",
       "    </tr>\n",
       "    <tr>\n",
       "      <td>Shahid</td>\n",
       "      <td>P</td>\n",
       "      <td>A</td>\n",
       "      <td>P</td>\n",
       "    </tr>\n",
       "    <tr>\n",
       "      <td>Tushar</td>\n",
       "      <td>P</td>\n",
       "      <td>A</td>\n",
       "      <td>P</td>\n",
       "    </tr>\n",
       "    <tr>\n",
       "      <td>Ayushi</td>\n",
       "      <td>P</td>\n",
       "      <td>P</td>\n",
       "      <td>P</td>\n",
       "    </tr>\n",
       "  </tbody>\n",
       "</table>\n",
       "</div>"
      ],
      "text/plain": [
       "                     0         1         2\n",
       "Date          20-06-02  20-06-02  20-06-02\n",
       "Topic    file handling     Files      OOPS\n",
       "Gaurav               P         A         P\n",
       "Manish               P         A         P\n",
       "Shubham              P         P         A\n",
       "Rahul                A         P         A\n",
       "Shahid               P         A         P\n",
       "Tushar               P         A         P\n",
       "Ayushi               P         P         P"
      ]
     },
     "execution_count": 111,
     "metadata": {},
     "output_type": "execute_result"
    }
   ],
   "source": [
    "data.T"
   ]
  },
  {
   "cell_type": "code",
   "execution_count": 112,
   "metadata": {},
   "outputs": [],
   "source": [
    "#### calculate how many times the student is present in class out of the total classes"
   ]
  },
  {
   "cell_type": "code",
   "execution_count": 113,
   "metadata": {},
   "outputs": [],
   "source": [
    "### JSON, PICKLE , serialization????"
   ]
  },
  {
   "cell_type": "code",
   "execution_count": null,
   "metadata": {},
   "outputs": [],
   "source": []
  }
 ],
 "metadata": {
  "kernelspec": {
   "display_name": "Python 3",
   "language": "python",
   "name": "python3"
  },
  "language_info": {
   "codemirror_mode": {
    "name": "ipython",
    "version": 3
   },
   "file_extension": ".py",
   "mimetype": "text/x-python",
   "name": "python",
   "nbconvert_exporter": "python",
   "pygments_lexer": "ipython3",
   "version": "3.7.4"
  }
 },
 "nbformat": 4,
 "nbformat_minor": 2
}
